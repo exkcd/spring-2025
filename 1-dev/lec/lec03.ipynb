{
 "cells": [
  {
   "cell_type": "markdown",
   "metadata": {},
   "source": [
    "# Lecture 3\n",
    "\n",
    "*January 27,2025*"
   ]
  },
  {
   "cell_type": "markdown",
   "metadata": {},
   "source": [
    "## Version control\n",
    "\n",
    "* Very difficult to track changes made across files\n",
    "\n",
    "* Help us solve:\n",
    "    * Losing history\n",
    "    * Overwriting code\n",
    "    * Bugs\n",
    "    * Tracking changes"
   ]
  },
  {
   "cell_type": "markdown",
   "metadata": {},
   "source": [
    "### Repositories\n",
    "\n",
    "Benefits\n",
    "\n",
    "* Folder associated with a version control system (like Git)\n",
    "    * Not every folder is a repository\n",
    "* Provides a log of changes\n",
    "* Add, change, delete code\n",
    "* Merge management"
   ]
  },
  {
   "cell_type": "markdown",
   "metadata": {},
   "source": [
    "### Two designs of version control\n",
    "\n",
    "* Centralized version control\n",
    "    * Multiple people can checkout the same repository\n",
    "    * Lots of merge conflicts\n",
    "    * Online server (does not exist on a local device)\n",
    "* Single point of failure\n",
    "    * Can no longer do anything until it comes back online\n",
    "    * Always have to be connected to the Internet to make changes\n",
    "    * If your code is not well tested, bugs can propagate across all copies\n",
    "\n",
    "* Distributed version control\n",
    "    * Copies repository locally on your PC (like the `git clone` command)\n",
    "    * `.git` folder (info about git repository)\n",
    "        * Which branch\n",
    "        * Where to push changes\n",
    "    * Works even without the Internet"
   ]
  },
  {
   "cell_type": "markdown",
   "metadata": {},
   "source": [
    "### Terminology\n",
    "\n",
    "* Repository\n",
    "    * Version controlled collection of files/code\n",
    "* Commit\n",
    "    * Write/Save changes to local repo\n",
    "* Revision\n",
    "    * A specific version of a repo/file\n",
    "* Tag\n",
    "    * Logically named/labeled version\n",
    "* Branch\n",
    "    * Linear subset of changes within a repo\n",
    "* Merge\n",
    "    * to combine discrete branches\n",
    "* Diff\n",
    "    * The set of changes between two versions"
   ]
  },
  {
   "cell_type": "markdown",
   "metadata": {},
   "source": [
    "### Best Practices\n",
    "\n",
    "DO\n",
    "\n",
    "* Commit early; Commit often\n",
    "* Use clear commit messages\n",
    "* Communicate when resolving merge conflicts\n",
    "* Only commit related changes in one commit\n",
    "* One topic per branch\n",
    "* Only commit source code\n",
    "\n",
    "DON'T\n",
    "\n",
    "* Commit compiled files (executables, build artifacts)\n",
    "* Commit secure info (passwords, credentials, etc.)\n",
    "* Merge broken code (don't break the master branch)\n",
    "* Combine multiple topics per commit/branch"
   ]
  }
 ],
 "metadata": {
  "language_info": {
   "name": "python"
  }
 },
 "nbformat": 4,
 "nbformat_minor": 2
}
