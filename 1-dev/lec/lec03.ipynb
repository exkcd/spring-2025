{
 "cells": [
  {
   "cell_type": "markdown",
   "metadata": {},
   "source": [
    "# Lecture 3\n",
    "\n",
    "*January 27,2025*"
   ]
  },
  {
   "cell_type": "markdown",
   "metadata": {},
   "source": [
    "## Version control\n",
    "\n",
    "* Very difficult to track changes made across files\n",
    "\n",
    "* Help us solve:\n",
    "    * Losing history\n",
    "    * Overwriting code\n",
    "    * Bugs\n",
    "    * Tracking changes\n",
    "\n",
    "### Repositories\n",
    "\n",
    "Benefits\n",
    "\n",
    "* Folder associated with a version control system (like Git)\n",
    "    * Not every folder is a repository\n",
    "* Provides a log of changes\n",
    "* Add, change, delete code\n",
    "* Merge management\n",
    "\n",
    "### Two designs of version control\n",
    "\n",
    "* Centralized version control\n",
    "    * Multiple people can checkout the same repository\n",
    "    * Lots of merge conflicts\n",
    "    * Online server (does not exist on a local device)\n",
    "\n",
    "* Distributed version control\n",
    "    * Copies repository locally on your PC (like the `git clone` command)\n",
    "    * `.git` folder (info about git repository)\n",
    "        * Which branch\n",
    "        * Where to push changes"
   ]
  },
  {
   "cell_type": "markdown",
   "metadata": {},
   "source": []
  }
 ],
 "metadata": {
  "language_info": {
   "name": "python"
  }
 },
 "nbformat": 4,
 "nbformat_minor": 2
}
