{
 "cells": [
  {
   "cell_type": "markdown",
   "id": "91980803-28d1-418a-9773-a8a04b1398b2",
   "metadata": {},
   "source": [
    "# Lecture 1\n",
    "*January 15, 2025*\n"
   ]
  },
  {
   "cell_type": "markdown",
   "id": "508711a9",
   "metadata": {},
   "source": [
    "## What makes up your application?\n",
    "\n",
    "* Front end\n",
    "* Integration layer\n",
    "* Back end\n",
    "\n",
    "## Different architectures for hosting an application\n",
    "\n",
    "* Usually access application (i.e. YouTube, Instagram, etc.) through the cloud\n",
    "    * Accessed through a cloud server\n",
    "    * Could be on a micro-controller (have chips inside of them)\n",
    "\n",
    "## Building blocks in software dev\n",
    "\n",
    "* OS\n",
    "* Framework\n",
    "* Programming language\n",
    "* Database\n",
    "* Repository\n",
    "* Web services\n",
    "\n",
    "## Operating System\n",
    "\n",
    "**How do we talk to the OS?**\n",
    "\n",
    "* Open a terminal to talk to the OS\n",
    "* Terminal = interface to talk to shell\n",
    "\n",
    "### Using the terminal\n",
    "\n",
    "* Everything you type into the terminal window is sent back to the shell and the response from the OS is printed in the terminal window\n",
    "* Types of terminals: gnome-terminal, konsole, xterm, rxvt, kvt, etc.\n",
    "\n",
    "`man` short for manual\n",
    "\n",
    "* Like a \"help\" command\n",
    "\n",
    "`ls` - list directory  contents\n",
    "\n",
    "`-command` - flags for different operations"
   ]
  },
  {
   "cell_type": "markdown",
   "id": "33678f63",
   "metadata": {},
   "source": [
    "## Useful commands\n",
    "\n",
    "\n",
    "#### Current working directory\n",
    "\n",
    "`pwd` - print current working directory\n",
    "\n",
    "`cd` - change directory\n",
    "\n",
    "* relative path vs. full path\n",
    "\n",
    "#### File system commands\n",
    "\n",
    "`ls` - list directory contents\n",
    "\n",
    "`cp` - copy files\n",
    "\n",
    "`rm` - remove files\n",
    "\n",
    "`mv` - move files\n",
    "\n",
    "`mkdir` - make directory\n",
    "\n",
    "`rmdir` - remove directory"
   ]
  }
 ],
 "metadata": {
  "kernelspec": {
   "display_name": "Python 3 (ipykernel)",
   "language": "python",
   "name": "python3"
  },
  "language_info": {
   "codemirror_mode": {
    "name": "ipython",
    "version": 3
   },
   "file_extension": ".py",
   "mimetype": "text/x-python",
   "name": "python",
   "nbconvert_exporter": "python",
   "pygments_lexer": "ipython3",
   "version": "3.13.1"
  }
 },
 "nbformat": 4,
 "nbformat_minor": 5
}
