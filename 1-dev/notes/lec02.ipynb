{
 "cells": [
  {
   "cell_type": "markdown",
   "metadata": {},
   "source": [
    "# Lecture 2\n",
    "\n",
    "*January 22, 2025*"
   ]
  },
  {
   "cell_type": "markdown",
   "metadata": {},
   "source": [
    "## RegEx (Regular Expressions)\n",
    "\n",
    "* Special text for describing a text pattern\n",
    "* E.g. `*.txt` in Windows finds all text files in a directory\n",
    "    * regex equivalent is `^.*\\.txt$`\n",
    "* Why regex?\n",
    "    * Faster indexing\n",
    "    * Look for specific keyword\n",
    "    * Used whenever you use a web browser\n",
    "\n",
    "\n",
    "### Cardinality\n",
    "\n",
    "* \\* = zero or many of the preceding character\n",
    "    * t* = any word that has 0 or more occurrences of the letter *t*\n",
    "* ? = zero or one of the preceding character(s)\n",
    "    * t? = any word that has 0 or 1 occurrence of the letter *t*\n",
    "* \\+ = one or more of the preceding character(s)\n",
    "    * t+ = any word that has 1 or more occurrences of the letter *t*\n",
    "* {m,n} = the preceding character appears m to n times\n",
    "    * A{1,5} = 1 to 5 occurrences of the letter *A*\n",
    "\n",
    "### Ranges of values\n",
    "\n",
    "* [] = any enclosed character\n",
    "    * [A-Z], [0-9],[ABC] = any value in the range specified\n",
    "\n",
    "### Anchors\n",
    "\n",
    "* ^ = the beginning of a string\n",
    "    * ^The = any string that starts with \"The\"\n",
    "    * case sensitive!\n",
    "* $ = the end of a string\n",
    "    * coffee$ = any string that ends with \"coffee\"\n",
    "* \\b or \\w = the beginning/end of a word\n",
    "    * \\bThis\\b = any string that has the *exact word* \"This\"\n",
    "\n",
    "### Sequence of characters\n",
    "\n",
    "* () = the matching sequence of characters\n",
    "    * (ab),(wh) = any string that has the specified sequence of characters that will match\n",
    "\n",
    "### Wildcard character\n",
    "\n",
    "* . = any one character\n",
    "    * a.t = any word that has a 3-char substring a(any 1 character)t\n",
    "    * e.g. a**c**t, pa**n**t (will not work with \"at\")"
   ]
  }
 ],
 "metadata": {
  "language_info": {
   "name": "python"
  }
 },
 "nbformat": 4,
 "nbformat_minor": 2
}
