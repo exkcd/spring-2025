{
 "cells": [
  {
   "cell_type": "markdown",
   "metadata": {},
   "source": [
    "# Lecture 4\n",
    "\n",
    "*January 29, 2025*"
   ]
  },
  {
   "cell_type": "markdown",
   "metadata": {},
   "source": [
    "## Objectives\n",
    "\n",
    "* learn that basics of some programming languages for full-stack"
   ]
  },
  {
   "cell_type": "markdown",
   "metadata": {},
   "source": [
    "## Application Stack\n",
    "\n",
    "**Front-end**\n",
    "\n",
    "* presentation layer\n",
    "* what th euser looks at\n",
    "* e.g. Powerpoint\n",
    "    * window\n",
    "    * options on top\n",
    "    * add slides and contents\n",
    "    * option to present\n",
    "\n",
    "**Back-end**\n",
    "\n",
    "* amalgamation of database and application layer that connects front-end to database\n",
    "* used for databases or app servers\n",
    "* anything not accessible to user is \"back-end\"\n",
    "\n",
    "**Full-stack developer**\n",
    "\n",
    "* someone who is able to do both front-end and back end"
   ]
  }
 ],
 "metadata": {
  "language_info": {
   "name": "python"
  }
 },
 "nbformat": 4,
 "nbformat_minor": 2
}
