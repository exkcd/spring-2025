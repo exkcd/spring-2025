{
 "cells": [
  {
   "cell_type": "markdown",
   "id": "de24ecff-b673-4051-8e25-ddbbebae9648",
   "metadata": {},
   "source": [
    "# CSCI 3155 Spring 2025\n",
    "# Recitation Week 3\n",
    "### Topic: Inductive Definitions, Grammars, and Syntax Trees\n",
    "This week we will be doing pattern matching and inductive data structures, and get some practice using them."
   ]
  },
  {
   "cell_type": "markdown",
   "id": "c27ba0c9",
   "metadata": {},
   "source": [
    "# Pattern Matching\n",
    "Pattern matching is a control structure we will use many times in this class, especially when dealing with inductive structures.\n",
    "Let's see some of the ways we can use pattern matching."
   ]
  },
  {
   "cell_type": "markdown",
   "id": "32b61604-e8f0-43c1-b562-f2c2cdc91b56",
   "metadata": {},
   "source": [
    "# Exercise 1\n",
    "Let's write a function with pattern matching.\n",
    "The function `listOutput` takes in type `List[Int]` and returns a type `String`\n",
    "\n",
    "For a empty list output `\"Empty list\"`\n",
    "\n",
    "For a list with a single element output `\"The number is $n$\"`\n",
    "\n",
    "#### The first two cases are given, write the cases below\n",
    "\n",
    "For a list that has two elements output `\"The numbers are $n1$ and $n2$\"`\n",
    "\n",
    "For a list that has more than two elements output `\"Multiple numbers, with head being $n$\"`\n"
   ]
  },
  {
   "cell_type": "code",
   "execution_count": 2,
   "id": "a0e6a4ba-98d2-4e39-8075-c1fc17b0312b",
   "metadata": {},
   "outputs": [
    {
     "data": {
      "text/plain": [
       "defined \u001b[32mfunction\u001b[39m \u001b[36mlistOutput\u001b[39m"
      ]
     },
     "execution_count": 2,
     "metadata": {},
     "output_type": "execute_result"
    }
   ],
   "source": [
    "def listOutput(myList: List[Int]): String = {\n",
    "    myList match {\n",
    "        case Nil => \"Empty list\"\n",
    "        case h :: Nil => s\"The number is $h\"\n",
    "        // Begin solution\n",
    "        case h :: t :: Nil => s\"The numbers are $h and $t\"\n",
    "        case h :: _ => \"Multiple numbers, with head being \" + h\n",
    "        // End solution\n",
    "    }\n",
    "}"
   ]
  },
  {
   "cell_type": "code",
   "execution_count": 3,
   "id": "849c9e08",
   "metadata": {
    "scrolled": true
   },
   "outputs": [
    {
     "data": {
      "text/plain": [
       "\u001b[36mlist1Test\u001b[39m: \u001b[32mNil\u001b[39m.type = \u001b[33mList\u001b[39m()\n",
       "\u001b[36mlist2Test\u001b[39m: \u001b[32mList\u001b[39m[\u001b[32mInt\u001b[39m] = \u001b[33mList\u001b[39m(\u001b[32m3\u001b[39m)\n",
       "\u001b[36mlist3Test\u001b[39m: \u001b[32mList\u001b[39m[\u001b[32mInt\u001b[39m] = \u001b[33mList\u001b[39m(\u001b[32m2\u001b[39m, \u001b[32m5\u001b[39m, \u001b[32m3\u001b[39m)\n",
       "\u001b[36mlist4Test\u001b[39m: \u001b[32mList\u001b[39m[\u001b[32mInt\u001b[39m] = \u001b[33mList\u001b[39m(\u001b[32m10\u001b[39m, \u001b[32m3\u001b[39m)"
      ]
     },
     "execution_count": 3,
     "metadata": {},
     "output_type": "execute_result"
    }
   ],
   "source": [
    "val list1Test = Nil\n",
    "val list2Test = 3 :: list1Test\n",
    "val list3Test = 2 :: 5 :: list2Test\n",
    "val list4Test = 10 :: list2Test\n",
    "assert(listOutput(list3Test) == \"Multiple numbers, with head being 2\")\n",
    "assert(listOutput(list4Test) == \"The numbers are 10 and 3\")"
   ]
  },
  {
   "cell_type": "markdown",
   "id": "d3893e67-7d71-4b81-a5ac-adcf6ac926c6",
   "metadata": {},
   "source": [
    "# Inductive data structures\n",
    "Pattern matching is particularly useful for interacting with inductive data structures.\n",
    "Consider the following example, a list of integers.  (This is similar to how `List`s are implemented in Scala.)\n",
    "\n",
    "$$\\begin{array}{ccccc}\n",
    "\\textbf{NumList} & \\rightarrow & Empty \\\\ &\\ |\\  & Cons(\\textbf{Num}, \\textbf{NumList}) \\\\\n",
    "\\textbf{Num} & \\rightarrow & 0 \\ |\\ 1\\ |\\ 2\\ |\\ 3\\ |\\ 4\\ |\\ \\cdots \\\\\n",
    "\\end{array}$$"
   ]
  },
  {
   "cell_type": "code",
   "execution_count": 4,
   "id": "d157c23b-5191-4a13-872d-edbfb2e62742",
   "metadata": {},
   "outputs": [
    {
     "data": {
      "text/plain": [
       "defined \u001b[32mtrait\u001b[39m \u001b[36mNumList\u001b[39m\n",
       "defined \u001b[32mobject\u001b[39m \u001b[36mEmpty\u001b[39m\n",
       "defined \u001b[32mclass\u001b[39m \u001b[36mCons\u001b[39m"
      ]
     },
     "execution_count": 4,
     "metadata": {},
     "output_type": "execute_result"
    }
   ],
   "source": [
    "sealed trait NumList\n",
    "\n",
    "case object Empty extends NumList\n",
    "case class Cons(hd: Int, tl: NumList) extends NumList"
   ]
  },
  {
   "cell_type": "code",
   "execution_count": 5,
   "id": "4df0a4c9-642c-4984-a211-f144f99dc586",
   "metadata": {},
   "outputs": [
    {
     "data": {
      "text/plain": [
       "\u001b[36mscalaList\u001b[39m: \u001b[32mList\u001b[39m[\u001b[32mInt\u001b[39m] = \u001b[33mList\u001b[39m(\u001b[32m131\u001b[39m, \u001b[32m3155\u001b[39m)\n",
       "\u001b[36mres4_1\u001b[39m: \u001b[32mBoolean\u001b[39m = true\n",
       "\u001b[36mmyNumList\u001b[39m: \u001b[32mCons\u001b[39m = \u001b[33mCons\u001b[39m(\u001b[32m131\u001b[39m, \u001b[33mCons\u001b[39m(\u001b[32m3155\u001b[39m, Empty))"
      ]
     },
     "execution_count": 5,
     "metadata": {},
     "output_type": "execute_result"
    }
   ],
   "source": [
    "// example lists\n",
    "// using the :: (cons operator) and Nil cases\n",
    "val scalaList = 131 :: 3155 :: Nil\n",
    "// this is equivalent to using the List constructor\n",
    "scalaList == List(131, 3155)\n",
    "\n",
    "// the same list using our NumList data structure instead of the built in one\n",
    "val myNumList = Cons(131, Cons(3155, Empty))"
   ]
  },
  {
   "cell_type": "markdown",
   "id": "58b9d3f1-33ac-4516-8880-bb1c7f4f90c3",
   "metadata": {},
   "source": [
    "# Exercise 2\n",
    "For this exercise, consider a simple language representing arithmetic expressions.\n",
    "Given the grammar below, write the corresponding Scala code (assume $\\textbf{Num}$ can be represented by a Scala `Int` as in $\\textbf{NumList}$).\n",
    "\n",
    "$$\\begin{array}{ccccccccc}\n",
    "\\textbf{Expr} & \\rightarrow & Const(\\textbf{Num}) \\\\ &\\ |\\  & Plus(\\textbf{Expr}, \\textbf{Expr}) \\\\ &\\ |\\  & Minus(\\textbf{Expr}, \\textbf{Expr}) \\\\ &\\ |\\  & Times(\\textbf{Expr}, \\textbf{Expr}) \\\\\n",
    "\\textbf{Num} & \\rightarrow & 0 \\ |\\ 1\\ |\\ 2\\ |\\ 3\\ |\\ 4\\ |\\ \\cdots \\\\\n",
    "\\end{array}$$"
   ]
  },
  {
   "cell_type": "code",
   "execution_count": 1,
   "id": "3d8e91a5-0d7a-4d19-bb74-10680a92e9ed",
   "metadata": {},
   "outputs": [
    {
     "data": {
      "text/plain": [
       "defined \u001b[32mtrait\u001b[39m \u001b[36mExpr\u001b[39m\n",
       "defined \u001b[32mclass\u001b[39m \u001b[36mConst\u001b[39m\n",
       "defined \u001b[32mclass\u001b[39m \u001b[36mPlus\u001b[39m\n",
       "defined \u001b[32mclass\u001b[39m \u001b[36mMinus\u001b[39m\n",
       "defined \u001b[32mclass\u001b[39m \u001b[36mTimes\u001b[39m"
      ]
     },
     "execution_count": 1,
     "metadata": {},
     "output_type": "execute_result"
    }
   ],
   "source": [
    "// Begin Solution\n",
    "sealed trait Expr\n",
    "\n",
    "case class Const(n: Int) extends Expr\n",
    "case class Plus(e1: Expr, e2: Expr) extends Expr\n",
    "case class Minus(e1: Expr, e2: Expr) extends Expr\n",
    "case class Times(e1: Expr, e2: Expr) extends Expr\n",
    "// end solution"
   ]
  },
  {
   "cell_type": "code",
   "execution_count": 3,
   "id": "4ee5050b-58d9-4987-b709-231bd73a33fa",
   "metadata": {},
   "outputs": [
    {
     "data": {
      "text/plain": [
       "\u001b[36mmyExpr0\u001b[39m: \u001b[32mConst\u001b[39m = \u001b[33mConst\u001b[39m(n = \u001b[32m0\u001b[39m)\n",
       "\u001b[36mmyExpr1\u001b[39m: \u001b[32mPlus\u001b[39m = \u001b[33mPlus\u001b[39m(e1 = \u001b[33mConst\u001b[39m(n = \u001b[32m500\u001b[39m), e2 = \u001b[33mConst\u001b[39m(n = \u001b[32m131\u001b[39m))\n",
       "\u001b[36mmyExpr2\u001b[39m: \u001b[32mTimes\u001b[39m = \u001b[33mTimes\u001b[39m(\n",
       "  e1 = \u001b[33mPlus\u001b[39m(e1 = \u001b[33mConst\u001b[39m(n = \u001b[32m500\u001b[39m), e2 = \u001b[33mConst\u001b[39m(n = \u001b[32m131\u001b[39m)),\n",
       "  e2 = \u001b[33mMinus\u001b[39m(e1 = \u001b[33mConst\u001b[39m(n = \u001b[32m105\u001b[39m), e2 = \u001b[33mConst\u001b[39m(n = \u001b[32m100\u001b[39m))\n",
       ")"
      ]
     },
     "execution_count": 3,
     "metadata": {},
     "output_type": "execute_result"
    }
   ],
   "source": [
    "// expressions using our new grammer\n",
    "val myExpr0 = Const(0)\n",
    "val myExpr1 = Plus(Const(500), Const(131)) // 500 + 131\n",
    "val myExpr2 = Times(myExpr1, Minus(Const(105), Const(100))) // (500+131)*(105-100)"
   ]
  },
  {
   "cell_type": "code",
   "execution_count": 4,
   "id": "e401455a-8282-4a61-9ba8-6e19b4b739e2",
   "metadata": {},
   "outputs": [
    {
     "data": {
      "text/plain": [
       "\u001b[36mmyExpr3\u001b[39m: \u001b[32mConst\u001b[39m = \u001b[33mConst\u001b[39m(n = \u001b[32m42\u001b[39m)"
      ]
     },
     "execution_count": 4,
     "metadata": {},
     "output_type": "execute_result"
    }
   ],
   "source": [
    "// Come up with your own example\n",
    "val myExpr3 = Const(42) // Const(42) or just anything else"
   ]
  },
  {
   "cell_type": "markdown",
   "id": "1080b6f8-dea6-4365-9a87-e5050736ec5a",
   "metadata": {},
   "source": [
    "Now that we have our implementation of the grammar, we can write functions using this implementation.\n",
    "We will often want to pattern match on the different cases of our grammar when writing these functions, as in the example below.\n",
    "\n",
    "#### In this exercise, you will write a function that takes in an AST expression and returns a list containing all the constants\n",
    "\n",
    "Examples. \n",
    "\n",
    "\n",
    "$$\\begin{array}{ccc}\n",
    "Const(42)  & \\textit{--> constVals(  ) -->} & [42] \\\\ \n",
    "Plus(Const(500), Const(131)) & \\textit{--> constVals(  ) -->} & [500, 131]\\\\\n",
    "Times(Plus(Const(500), Const(131)), Minus(Const(105), Const(100))) & \\textit{--> constVals(  ) -->} & [500, 131, 105, 100]\\\\\n",
    "\\end{array}$$\n",
    "\n",
    "\n"
   ]
  },
  {
   "cell_type": "code",
   "execution_count": 5,
   "id": "81ea721f-dd57-4315-9246-453a3eb00656",
   "metadata": {},
   "outputs": [
    {
     "data": {
      "text/plain": [
       "defined \u001b[32mfunction\u001b[39m \u001b[36mconstVals\u001b[39m"
      ]
     },
     "execution_count": 5,
     "metadata": {},
     "output_type": "execute_result"
    }
   ],
   "source": [
    "// Get the constants in an expression\n",
    "def constVals(e: Expr): List[Int] = {\n",
    "    e match {\n",
    "        case Const(n) => n :: Nil // or List(n)\n",
    "        case Plus(e1, e2) => constVals(e1) ++ constVals(e2)\n",
    "        case Minus(e1, e2) => constVals(e1) ++ constVals(e2)\n",
    "        case Times(e1, e2) => constVals(e1) ++ constVals(e2)\n",
    "    }\n",
    "}"
   ]
  },
  {
   "cell_type": "code",
   "execution_count": 6,
   "id": "9949fe79-6d32-4cd7-9eec-493be6ba9b77",
   "metadata": {},
   "outputs": [
    {
     "data": {
      "text/plain": [
       "\u001b[36mres6_0\u001b[39m: \u001b[32mList\u001b[39m[\u001b[32mInt\u001b[39m] = \u001b[33mList\u001b[39m(\u001b[32m0\u001b[39m)\n",
       "\u001b[36mres6_1\u001b[39m: \u001b[32mList\u001b[39m[\u001b[32mInt\u001b[39m] = \u001b[33mList\u001b[39m(\u001b[32m500\u001b[39m, \u001b[32m131\u001b[39m, \u001b[32m105\u001b[39m, \u001b[32m100\u001b[39m)\n",
       "\u001b[36mres6_2\u001b[39m: \u001b[32mList\u001b[39m[\u001b[32mInt\u001b[39m] = \u001b[33mList\u001b[39m(\u001b[32m42\u001b[39m)"
      ]
     },
     "execution_count": 6,
     "metadata": {},
     "output_type": "execute_result"
    }
   ],
   "source": [
    "constVals(myExpr0)\n",
    "constVals(myExpr2)\n",
    "constVals(myExpr3)"
   ]
  },
  {
   "cell_type": "markdown",
   "id": "6cce1739-3339-4073-b23b-7e10a12e1a2a",
   "metadata": {},
   "source": [
    "# Exercise 3\n",
    "## Eval\n",
    "Implement a function eval to compute the value of an expression represented as an Abstract Syntax Tree (AST). The AST nodes are defined by the following grammar:\n",
    "\n",
    "$$\\begin{array}{ccccccccc}\n",
    "\\textbf{Expr} & \\rightarrow & Const(\\textbf{Num}) \\\\ &\\ |\\  & Plus(\\textbf{Expr}, \\textbf{Expr}) \\\\ &\\ |\\  & Minus(\\textbf{Expr}, \\textbf{Expr}) \\\\ &\\ |\\  & Times(\\textbf{Expr}, \\textbf{Expr}) \\\\\n",
    "\\end{array}$$\n",
    "\n",
    "Write cases for `Const`, `Plus`, `Minus`, and `Times`"
   ]
  },
  {
   "cell_type": "code",
   "execution_count": 11,
   "id": "9324a6af-8b78-44a6-b513-dacd80c3a598",
   "metadata": {},
   "outputs": [
    {
     "data": {
      "text/plain": [
       "defined \u001b[32mfunction\u001b[39m \u001b[36meval\u001b[39m"
      ]
     },
     "execution_count": 11,
     "metadata": {},
     "output_type": "execute_result"
    }
   ],
   "source": [
    "def eval(e: Expr): Int = {\n",
    "    // Begin Solution\n",
    "    e match {\n",
    "        case Const(n) => n\n",
    "        case Plus (e1, e2) => eval(e1) + eval(e2)\n",
    "        case Minus(e1, e2) => eval(e1) - eval(e2)\n",
    "        case Times(e1, e2) => eval(e1) * eval(e2)\n",
    "    }\n",
    "    // End Solution\n",
    "}"
   ]
  },
  {
   "cell_type": "code",
   "execution_count": 12,
   "id": "92a6f393-95ab-4b03-9a09-7ed43e106f46",
   "metadata": {},
   "outputs": [
    {
     "data": {
      "text/plain": [
       "\u001b[36mres11_0\u001b[39m: \u001b[32mBoolean\u001b[39m = true\n",
       "\u001b[36mres11_1\u001b[39m: \u001b[32mBoolean\u001b[39m = true\n",
       "\u001b[36mres11_2\u001b[39m: \u001b[32mBoolean\u001b[39m = true\n",
       "\u001b[36mres11_3\u001b[39m: \u001b[32mBoolean\u001b[39m = true\n",
       "\u001b[36mres11_4\u001b[39m: \u001b[32mInt\u001b[39m = \u001b[32m42\u001b[39m"
      ]
     },
     "execution_count": 12,
     "metadata": {},
     "output_type": "execute_result"
    }
   ],
   "source": [
    "// test cases\n",
    "eval(Const(42)) == 42\n",
    "eval(myExpr0) == 0 // 0\n",
    "eval(myExpr1) == 631 // 500 + 131\n",
    "eval(myExpr2) == 3155 // (500+131)*(105-100)\n",
    "eval(myExpr3)"
   ]
  },
  {
   "cell_type": "markdown",
   "id": "74e90f72-d434-4925-be9b-589ebf6cd3a9",
   "metadata": {},
   "source": [
    "## Bonus\n"
   ]
  },
  {
   "cell_type": "markdown",
   "id": "49ea233e-4ef0-4976-b42b-1fee8c58487d",
   "metadata": {},
   "source": [
    "### A. Enhancing `Expr` Trait\n",
    "How would you add division or identifiers/variables to the Expr trait?\n",
    "\n",
    "We will look at this more in the future, but thinking through this is a good way to practice.\n",
    "(Hint: start by expanding the grammar and adding another case for the Expr trait.)"
   ]
  },
  {
   "cell_type": "markdown",
   "id": "06836ff9-9d95-41b1-8939-d4cb04213996",
   "metadata": {},
   "source": [
    "## Additional Practice"
   ]
  },
  {
   "cell_type": "markdown",
   "id": "74795921-4c11-476b-addc-98b865d9c7c6",
   "metadata": {},
   "source": [
    "### A. Pattern matching for Tokens"
   ]
  },
  {
   "cell_type": "markdown",
   "id": "097217d2-220a-4e15-a929-d8459d8bf21f",
   "metadata": {},
   "source": [
    "Let's write a function with pattern matching to simplify a `WordExpr` that is defined using a inductively defined data-type `Tokens`. \n",
    "\n",
    "`WordExpr` is defined inductively as follows\n",
    "$$\\begin{array}{ccccccccc}\n",
    "\\color{blue}{\\textbf{WordExpr}} & \\rightarrow & \\color{blue}{NullExpr} \\\\ \n",
    "&\\ |\\  & \\color{blue}{ConsExpr}(\\color{green}{\\textbf{Token}}, \\color{blue}{\\textbf{WordExpr}}) \\\\ \n",
    "&\\ |\\  & \\color{blue}{SeqExpr}( \\color{blue}{\\textbf{WordExpr}}, \\color{blue}{\\textbf{WordExpr}}) \\\\ \n",
    "\\end{array}$$\n",
    "\n",
    "\n",
    "where `Token` is described by the following grammar\n",
    "$$\\begin{array}{ccccccccc}\n",
    "\\color{green}{\\textbf{Token}} & \\rightarrow & \\color{green}{EmptyTok} \\\\ \n",
    "&\\ |\\  & \\color{green}{ChrTok}(\\textbf{Char}) \\\\ \n",
    "&\\ |\\  & \\color{green}{StrTok}(\\textbf{String}) \\\\ \n",
    "\\end{array}$$\n",
    "\n",
    "\n",
    "We would like to define a function $\\textbf{flattenWordExpr}: \\textbf{WordExpr} \\rightarrow \\textbf{Token}$ that simplifies the inductive structure into the simplest Token that can capture the information contained in it. This function can be thought of as effectively computing the **concatenation of all characters and string** tokens contained within the WordExpr. \n",
    "\n",
    "For example: \n",
    "$$\\begin{array}{ccc}\n",
    "\\color{blue}{NullExpr} & \\textit{--> flattenWordExpr(  ) -->} & \\color{green}{EmptyTok} \\\\ \n",
    " \\color{blue}{ConsExpr}( \\color{green}{ChrTok}(`c`), \\color{blue}{NullExpr}) & \\textit{--> flattenWordExpr(  ) -->} & \\color{green}{ChrTok}(`c`)\\\\\n",
    " \\color{blue}{ConsExpr}(\\color{green}{EmptyTok}, \\color{blue}{ConsExpr}(\\color{green}{ChrTok}(`c`),\\color{blue}{NullExpr})) & \\textit{--> flattenWordExpr(  ) -->} & \\color{green}{ChrTok}(`c`)\\\\\n",
    " \\color{blue}{SeqExpr}(\\color{blue}{NullExpr}, \\color{blue}{NullExpr}) & \\textit{--> flattenWordExpr(  ) -->} & \\color{green}{EmptyTok} \\\\\n",
    "\\color{blue}{SeqExpr}(\\color{blue}{ConsExpr}( \\color{green}{ChrTok}(`c`), \\color{blue}{NullExpr}), \\color{blue}{NullExpr}) & \\textit{--> flattenWordExpr(  ) -->} & \\color{green}{ChrTok}(`c`)\\\\\n",
    " \\color{blue}{SeqExpr}(\\color{blue}{NullExpr}, \\color{blue}{ConsExpr}( \\color{green}{ChrTok}(`c`), \\color{blue}{NullExpr})) & \\textit{--> flattenWordExpr(  ) -->}& \\color{green}{ChrTok}(`c`) \\\\\n",
    "\\color{blue}{SeqExpr}(\\color{blue}{ConsExpr}( \\color{green}{ChrTok}(`c`), \\color{blue}{NullExpr}), \\color{blue}{ConsExpr}( \\color{green}{ChrTok}(`c`), \\color{blue}{NullExpr})) & \\textit{--> flattenWordExpr(  ) -->} & \\color{green}{StrTok}(\\text{\"cc\"}) \\\\\n",
    "\\color{blue}{SeqExpr}(\\color{blue}{ConsExpr}( \\color{green}{StrTok}(\\text{\"cat\"}), \\color{blue}{NullExpr}), \\color{blue}{ConsExpr}( \\color{green}{StrTok}(\\text{\"dog\"}), \\color{blue}{NullExpr})) & \\textit{--> flattenWordExpr(  ) -->} & \\color{green}{StrTok}(\\text{\"catdog\"})\n",
    "\\end{array}$$\n"
   ]
  },
  {
   "cell_type": "code",
   "execution_count": 13,
   "id": "3b61fdba-e0dd-42ea-8bbc-b47b67c64801",
   "metadata": {},
   "outputs": [
    {
     "data": {
      "text/plain": [
       "defined \u001b[32mtrait\u001b[39m \u001b[36mToken\u001b[39m\n",
       "defined \u001b[32mobject\u001b[39m \u001b[36mEmptyTok\u001b[39m\n",
       "defined \u001b[32mclass\u001b[39m \u001b[36mChrTok\u001b[39m\n",
       "defined \u001b[32mclass\u001b[39m \u001b[36mStrTok\u001b[39m"
      ]
     },
     "execution_count": 13,
     "metadata": {},
     "output_type": "execute_result"
    }
   ],
   "source": [
    "sealed trait Token\n",
    "case object EmptyTok extends Token\n",
    "case class ChrTok(c: Char) extends Token\n",
    "case class StrTok(s: String) extends Token\n",
    "\n"
   ]
  },
  {
   "cell_type": "code",
   "execution_count": 14,
   "id": "588605a6-7362-4a0e-b0be-37fa36771c08",
   "metadata": {},
   "outputs": [
    {
     "data": {
      "text/plain": [
       "defined \u001b[32mtrait\u001b[39m \u001b[36mWordExpr\u001b[39m\n",
       "defined \u001b[32mobject\u001b[39m \u001b[36mNullExpr\u001b[39m\n",
       "defined \u001b[32mclass\u001b[39m \u001b[36mConsExpr\u001b[39m\n",
       "defined \u001b[32mclass\u001b[39m \u001b[36mSeqExpr\u001b[39m"
      ]
     },
     "execution_count": 14,
     "metadata": {},
     "output_type": "execute_result"
    }
   ],
   "source": [
    "sealed trait WordExpr\n",
    "case object NullExpr extends WordExpr\n",
    "case class ConsExpr(t:Token, w:WordExpr) extends WordExpr\n",
    "case class SeqExpr(w1:WordExpr, w2:WordExpr) extends WordExpr"
   ]
  },
  {
   "cell_type": "code",
   "execution_count": 15,
   "id": "03e68dc3-0f76-4416-803a-b33a0aa1d3ef",
   "metadata": {},
   "outputs": [
    {
     "data": {
      "text/plain": [
       "defined \u001b[32mfunction\u001b[39m \u001b[36mflattenWordExpr\u001b[39m"
      ]
     },
     "execution_count": 15,
     "metadata": {},
     "output_type": "execute_result"
    }
   ],
   "source": [
    "//BEGIN SOLUTION\n",
    "def flattenWordExpr(w: WordExpr): Token = w match {\n",
    "    case NullExpr => EmptyTok\n",
    "    case ConsExpr(t,w) => {\n",
    "            val t2 = flattenWordExpr(w)\n",
    "            (t,t2) match{\n",
    "                case (EmptyTok,y:Token) => y\n",
    "                case (x:Token, EmptyTok) => x\n",
    "                case (ChrTok(a),ChrTok(b)) => StrTok(a.toString+b.toString)\n",
    "                case (ChrTok(a),StrTok(b)) => StrTok(a.toString+b)\n",
    "                case (StrTok(a),ChrTok(b)) => StrTok(a+b.toString)\n",
    "                case (StrTok(a),StrTok(b)) => StrTok(a+b)\n",
    "            }\n",
    "        }\n",
    "    case SeqExpr(w1:WordExpr, w2:WordExpr) => {\n",
    "        val t1 = flattenWordExpr(w1)\n",
    "        val t2 = flattenWordExpr(w2)\n",
    "        \n",
    "        (t1,t2) match{\n",
    "            case (EmptyTok,y:Token) => y\n",
    "            case (x:Token, EmptyTok) => x\n",
    "            case (ChrTok(a),ChrTok(b)) => StrTok(a.toString+b.toString)\n",
    "            case (ChrTok(a),StrTok(b)) => StrTok(a.toString+b)\n",
    "            case (StrTok(a),ChrTok(b)) => StrTok(a+b.toString)\n",
    "            case (StrTok(a),StrTok(b)) => StrTok(a+b)\n",
    "        }//(t1,t2)\n",
    "    }// SeqExpr(w1,w2)\n",
    "}\n",
    "//END SOLUTION"
   ]
  },
  {
   "cell_type": "markdown",
   "id": "05472148-bfbc-456f-80f5-f5f05dfe2058",
   "metadata": {},
   "source": [
    "##### Evaluation of function: **flattenWordExpr()**"
   ]
  },
  {
   "cell_type": "code",
   "execution_count": 16,
   "id": "9adc0ef9-e582-4c65-af29-d41fa9514448",
   "metadata": {},
   "outputs": [
    {
     "data": {
      "text/plain": [
       "\u001b[36me1\u001b[39m: \u001b[32mWordExpr\u001b[39m = NullExpr\n",
       "\u001b[36me2\u001b[39m: \u001b[32mWordExpr\u001b[39m = \u001b[33mSeqExpr\u001b[39m(\n",
       "  \u001b[33mConsExpr\u001b[39m(\u001b[33mChrTok\u001b[39m(\u001b[32m'c'\u001b[39m), NullExpr),\n",
       "  \u001b[33mConsExpr\u001b[39m(\u001b[33mStrTok\u001b[39m(\u001b[32m\"at\"\u001b[39m), NullExpr)\n",
       ")\n",
       "\u001b[36me3\u001b[39m: \u001b[32mWordExpr\u001b[39m = \u001b[33mSeqExpr\u001b[39m(\n",
       "  \u001b[33mConsExpr\u001b[39m(\u001b[33mStrTok\u001b[39m(\u001b[32m\"ca\"\u001b[39m), NullExpr),\n",
       "  \u001b[33mConsExpr\u001b[39m(\u001b[33mChrTok\u001b[39m(\u001b[32m't'\u001b[39m), NullExpr)\n",
       ")\n",
       "\u001b[36me4\u001b[39m: \u001b[32mWordExpr\u001b[39m = \u001b[33mConsExpr\u001b[39m(\u001b[33mChrTok\u001b[39m(\u001b[32m'c'\u001b[39m), NullExpr)\n",
       "\u001b[36me5\u001b[39m: \u001b[32mWordExpr\u001b[39m = \u001b[33mConsExpr\u001b[39m(EmptyTok, \u001b[33mConsExpr\u001b[39m(\u001b[33mChrTok\u001b[39m(\u001b[32m'c'\u001b[39m), NullExpr))\n",
       "\u001b[36me6\u001b[39m: \u001b[32mWordExpr\u001b[39m = \u001b[33mSeqExpr\u001b[39m(NullExpr, NullExpr)\n",
       "\u001b[36me7\u001b[39m: \u001b[32mWordExpr\u001b[39m = \u001b[33mSeqExpr\u001b[39m(\u001b[33mConsExpr\u001b[39m(\u001b[33mChrTok\u001b[39m(\u001b[32m'c'\u001b[39m), NullExpr), NullExpr)\n",
       "\u001b[36me8\u001b[39m: \u001b[32mWordExpr\u001b[39m = \u001b[33mSeqExpr\u001b[39m(NullExpr, \u001b[33mConsExpr\u001b[39m(\u001b[33mChrTok\u001b[39m(\u001b[32m'c'\u001b[39m), NullExpr))\n",
       "\u001b[36me9\u001b[39m: \u001b[32mWordExpr\u001b[39m = \u001b[33mSeqExpr\u001b[39m(\n",
       "  \u001b[33mConsExpr\u001b[39m(\u001b[33mChrTok\u001b[39m(\u001b[32m'c'\u001b[39m), NullExpr),\n",
       "  \u001b[33mConsExpr\u001b[39m(\u001b[33mChrTok\u001b[39m(\u001b[32m'c'\u001b[39m), NullExpr)\n",
       ")\n",
       "\u001b[36me10\u001b[39m: \u001b[32mWordExpr\u001b[39m = \u001b[33mSeqExpr\u001b[39m(\n",
       "  \u001b[33mConsExpr\u001b[39m(\u001b[33mStrTok\u001b[39m(\u001b[32m\"cat\"\u001b[39m), NullExpr),\n",
       "  \u001b[33mConsExpr\u001b[39m(\u001b[33mStrTok\u001b[39m(\u001b[32m\"dog\"\u001b[39m), NullExpr)\n",
       ")"
      ]
     },
     "execution_count": 16,
     "metadata": {},
     "output_type": "execute_result"
    }
   ],
   "source": [
    "//NullExpr --> flattenWordExpr(  ) --> EmptyTok\n",
    "val e1:WordExpr = NullExpr\n",
    "assert(flattenWordExpr(e1) == EmptyTok, \"test1\")\n",
    "\n",
    "val e2:WordExpr = SeqExpr( ConsExpr(ChrTok('c'),NullExpr), ConsExpr(StrTok(\"at\"),NullExpr))\n",
    "assert(flattenWordExpr(e2) == StrTok(\"cat\"), \"test2\")\n",
    "\n",
    "val e3:WordExpr = SeqExpr( ConsExpr(StrTok(\"ca\"),NullExpr), ConsExpr(ChrTok('t'),NullExpr))\n",
    "assert(flattenWordExpr(e3) == StrTok(\"cat\"), \"test3\")\n",
    "\n",
    "//Cons( ChrTok('c'), NullExpr) --> flattenWordExpr(  ) --> ChrTok('c')\n",
    "val e4:WordExpr = ConsExpr( ChrTok('c'), NullExpr)\n",
    "assert(flattenWordExpr(e4) == ChrTok('c'), \"test4\")\n",
    "\n",
    "//Cons(EmptyTok, Cons(ChrTok('c'),NullExpr)) --> flattenWordExpr(  ) --> ChrTok('c')\n",
    "val e5:WordExpr = ConsExpr(EmptyTok, ConsExpr(ChrTok('c'),NullExpr)) \n",
    "assert(flattenWordExpr(e5) == ChrTok('c'), \"test5\")\n",
    "\n",
    "//Sequence(NullExpr, NullExpr) --> flattenWordExpr(  ) --> EmptyTok\n",
    "val e6:WordExpr = SeqExpr(NullExpr, NullExpr)\n",
    "assert(flattenWordExpr(e6) == EmptyTok, \"test6\")\n",
    "\n",
    "//5. Sequence(Cons( ChrTok('c'), NullExpr), NullExpr) --> flattenWordExpr(  ) --> ChrTok('c')\n",
    "val e7:WordExpr = SeqExpr(ConsExpr( ChrTok('c'), NullExpr), NullExpr)\n",
    "assert(flattenWordExpr(e7) == ChrTok('c'), \"test7\")\n",
    "\n",
    "//6. Sequence(NullExpr, Cons( ChrTok('c'), NullExpr)) --> flattenWordExpr(  ) --> ChrTok('c')\n",
    "val e8:WordExpr = SeqExpr(NullExpr, ConsExpr( ChrTok('c'), NullExpr))\n",
    "assert(flattenWordExpr(e8) == ChrTok('c'), \"test8\")\n",
    "\n",
    "//7. Sequence(Cons( ChrTok('c'), NullExpr), Cons( ChrTok('c'), NullExpr)) --> flattenWordExpr(  ) --> StrTok(\"cc\")\n",
    "val e9:WordExpr = SeqExpr(ConsExpr( ChrTok('c'), NullExpr), ConsExpr( ChrTok('c'), NullExpr))\n",
    "assert(flattenWordExpr(e9) == StrTok(\"cc\"), \"test9\")\n",
    "\n",
    "//8. Sequence(Cons( StrTok(\"cat\"), NullExpr), Cons( StrTok(\"dog\"), NullExpr)) --> flattenWordExpr(  ) --> StrTok(\"catdog\")\n",
    "val e10:WordExpr = SeqExpr(ConsExpr( StrTok(\"cat\"), NullExpr), ConsExpr( StrTok(\"dog\"), NullExpr)) \n",
    "assert(flattenWordExpr(e10) == StrTok(\"catdog\"), \"test10\")\n"
   ]
  }
 ],
 "metadata": {
  "kernelspec": {
   "display_name": "Scala",
   "language": "scala",
   "name": "scala"
  },
  "language_info": {
   "codemirror_mode": "text/x-scala",
   "file_extension": ".sc",
   "mimetype": "text/x-scala",
   "name": "scala",
   "nbconvert_exporter": "script",
   "version": "2.13.14"
  }
 },
 "nbformat": 4,
 "nbformat_minor": 5
}
