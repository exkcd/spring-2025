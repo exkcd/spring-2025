{
 "cells": [
  {
   "cell_type": "markdown",
   "id": "567274f1",
   "metadata": {},
   "source": [
    "# CSCI 3155 Spring 2025\n",
    "* This document is on Canvas\n",
    "    * Modules\n",
    "    * Week 2: Constructing Programs, ...\n",
    "    * Recitation Materials\n",
    "* Have it reading in Jupyter Notebooks before recitation begins"
   ]
  },
  {
   "cell_type": "markdown",
   "id": "deebc432",
   "metadata": {},
   "source": [
    "## Announcements\n",
    "* see announcements in the student version"
   ]
  },
  {
   "cell_type": "markdown",
   "id": "7ece3b2a",
   "metadata": {},
   "source": [
    "# Recitation Week 2\n",
    "\n",
    "### Ref: Course Notes notebook 3 \"Recursion\"\n",
    "* Modules\n",
    "* Week 2\n",
    "* Readings\n",
    "* Recursion.ipynb\n",
    "\n",
    "In this recitation, we will focus on writing functions using recursion and tail recursions. We will also learn how to convert a non-recursive code to recursive version."
   ]
  },
  {
   "cell_type": "markdown",
   "id": "f246cafe",
   "metadata": {},
   "source": [
    "# Example 1\n",
    "\n",
    "Let's write a recursive function to count all the zeros in a given list"
   ]
  },
  {
   "cell_type": "markdown",
   "id": "282cd4ba-a781-4cdb-8a9a-9ef01ba6efab",
   "metadata": {},
   "source": [
    "## Example  1(A) : Writing a recursive function\n",
    "* How many `0`s are in the following lists?\n",
    "    * List( )\n",
    "    * List(1,2,3)\n",
    "    * List(0, 1, 0, 1, 5, 0)"
   ]
  },
  {
   "cell_type": "code",
   "execution_count": 1,
   "id": "27be24ee",
   "metadata": {},
   "outputs": [
    {
     "data": {
      "text/plain": [
       "defined \u001b[32mfunction\u001b[39m \u001b[36mcountZeros\u001b[39m"
      ]
     },
     "execution_count": 1,
     "metadata": {},
     "output_type": "execute_result"
    }
   ],
   "source": [
    "// below we demonstrate three ways to solve the problem\n",
    "def countZeros(lst: List[Int]): Int = {\n",
    "    // Let's write a recursive function\n",
    "    \n",
    "    if ( lst.isEmpty ) {  // lst.length == 0 is valid as well\n",
    "        0\n",
    "    } else {\n",
    "        val firstValue: Int = lst.head\n",
    "        val restOfList: List[Int] = lst.tail\n",
    "        if ( firstValue == 0 ) {\n",
    "            1 + countZeros(restOfList)\n",
    "        } else {\n",
    "            countZeros(restOfList)\n",
    "        }\n",
    "    }\n",
    "    \n",
    "}"
   ]
  },
  {
   "cell_type": "code",
   "execution_count": 3,
   "id": "1453e007",
   "metadata": {},
   "outputs": [
    {
     "data": {
      "text/plain": [
       "defined \u001b[32mfunction\u001b[39m \u001b[36mcountZeros\u001b[39m"
      ]
     },
     "execution_count": 3,
     "metadata": {},
     "output_type": "execute_result"
    }
   ],
   "source": [
    "def countZeros(lst: List[Int]): Int = {\n",
    "    // Let's write a recursive function\n",
    "    \n",
    "    if ( lst.isEmpty ) {   // lst.length == 0 is valid as well\n",
    "        0\n",
    "    } else {\n",
    "        // called unpacking\n",
    "        // We'll learn more about this later\n",
    "        val firstValue :: restOfList = lst\n",
    "        if ( firstValue == 0 ) {\n",
    "            1 + countZeros(restOfList)\n",
    "        } else {\n",
    "            countZeros(restOfList)\n",
    "        }\n",
    "    }\n",
    "    \n",
    "}"
   ]
  },
  {
   "cell_type": "code",
   "execution_count": 5,
   "id": "b1c7b69d",
   "metadata": {},
   "outputs": [
    {
     "data": {
      "text/plain": [
       "defined \u001b[32mfunction\u001b[39m \u001b[36mcountZeros\u001b[39m"
      ]
     },
     "execution_count": 5,
     "metadata": {},
     "output_type": "execute_result"
    }
   ],
   "source": [
    "def countZeros(lst: List[Int]): Int = {\n",
    "    // Let's write a recursive function\n",
    "\n",
    "    // called pattern matching\n",
    "    // We'll learn more about this later\n",
    "    lst match {\n",
    "        case List() => 0\n",
    "        case 0 :: restOfList => 1 + countZeros(restOfList)\n",
    "        case _ :: restOfList => countZeros(restOfList)\n",
    "    }\n",
    "    \n",
    "}"
   ]
  },
  {
   "cell_type": "code",
   "execution_count": 6,
   "id": "53a7ed6c",
   "metadata": {},
   "outputs": [],
   "source": [
    "assert(countZeros(List(0, 1, 0, 1, 0, 1)) == 3)\n",
    "assert(countZeros(List(0)) == 1)\n",
    "assert(countZeros(List(2, 3, 4, -2)) == 0)\n",
    "assert(countZeros(List(0, 0, 0, 0, 0, 0)) == 6)\n",
    "assert(countZeros(List(5, 1, 2, 3, 4, 5, 0, 1, 5)) == 1)\n",
    "assert(countZeros(List()) == 0)"
   ]
  },
  {
   "cell_type": "markdown",
   "id": "6f1e7d64-464f-4775-8bf2-5263b24b140b",
   "metadata": {},
   "source": [
    "## The magic of Tail Recursion\n",
    "\n",
    "We have discussed tail recursion in lecture, let's discuss the why and how some more."
   ]
  },
  {
   "cell_type": "markdown",
   "id": "e9930372-ad31-4ce4-8ba2-333f363cb9b6",
   "metadata": {},
   "source": [
    "## Example 1(B) : A tail-recursive function"
   ]
  },
  {
   "cell_type": "code",
   "execution_count": 7,
   "id": "d00f26c0",
   "metadata": {},
   "outputs": [
    {
     "data": {
      "text/plain": [
       "\u001b[32mimport \u001b[39m\u001b[36mscala.annotation.tailrec\u001b[39m"
      ]
     },
     "execution_count": 7,
     "metadata": {},
     "output_type": "execute_result"
    }
   ],
   "source": [
    "// import this only once to save time\n",
    "import scala.annotation.tailrec"
   ]
  },
  {
   "cell_type": "code",
   "execution_count": 8,
   "id": "4e00daf0",
   "metadata": {},
   "outputs": [
    {
     "data": {
      "text/plain": [
       "defined \u001b[32mfunction\u001b[39m \u001b[36mcountZerosTail\u001b[39m"
      ]
     },
     "execution_count": 8,
     "metadata": {},
     "output_type": "execute_result"
    }
   ],
   "source": [
    "// again, we provide a few valid solutions\n",
    "\n",
    "// @tailrec used to check for you that your code is tail-recursive\n",
    "//          tail call optimization (TCO) will happen if it is\n",
    "//          tail recursive even if you forget this. But this is\n",
    "//          good to have to check things for you and error early\n",
    "//          if you made some coding mistake. (we'll see issues with it later in the course)\n",
    "//\n",
    "// NOTE: acc: Int = 0\n",
    "//       we set a default argument for acc as `0`\n",
    "//       so users can call countZerosTail with only one argument\n",
    "//       from outside of the function\n",
    "//       determined by default case... if list is empty we return 0\n",
    "@tailrec\n",
    "def countZerosTail(lst: List[Int], acc:Int = 0): Int = {\n",
    "   if ( lst.isEmpty ) {  // lst.length == 0 is valid as well\n",
    "        // now return acc instead of 0\n",
    "       acc\n",
    "    } else {\n",
    "        val firstValue: Int = lst.head\n",
    "        val restOfList: List[Int] = lst.tail\n",
    "        if ( firstValue == 0 ) {\n",
    "            countZerosTail(restOfList, 1 + acc)\n",
    "        } else {\n",
    "            countZerosTail(restOfList, acc)\n",
    "        }\n",
    "    } \n",
    "}"
   ]
  },
  {
   "cell_type": "code",
   "execution_count": 13,
   "id": "489759aa",
   "metadata": {},
   "outputs": [
    {
     "data": {
      "text/plain": [
       "defined \u001b[32mfunction\u001b[39m \u001b[36mcountZerosTail\u001b[39m"
      ]
     },
     "execution_count": 13,
     "metadata": {},
     "output_type": "execute_result"
    }
   ],
   "source": [
    "// NOTE: alternative to default argument is an internal function\n",
    "\n",
    "// countZerosTail has no acc argument\n",
    "// it is not actually recursive so we cannot use @tailrec\n",
    "def countZerosTail(lst: List[Int]): Int = {\n",
    "    \n",
    "    // help does all the work and is tailrecursive\n",
    "    @tailrec\n",
    "    def help(lst: List[Int], acc: Int): Int = {\n",
    "        if ( lst.isEmpty ) {\n",
    "            acc\n",
    "        } else {\n",
    "            val firstValue: Int = lst.head\n",
    "            val restOfList: List[Int] = lst.tail\n",
    "            if ( firstValue == 0 ) {\n",
    "                \n",
    "                // call help, not countZerosTail\n",
    "                help(restOfList, 1 + acc)\n",
    "                \n",
    "            } else {\n",
    "                \n",
    "                // call help, not countZerosTail\n",
    "                help(restOfList, acc)\n",
    "                \n",
    "            }\n",
    "        }\n",
    "    }\n",
    "    \n",
    "    // NOTE this single call to help\n",
    "    // only the developer can call help\n",
    "    // outside users cannot call help\n",
    "    help(lst, 0)\n",
    "    \n",
    "}"
   ]
  },
  {
   "cell_type": "code",
   "execution_count": 11,
   "id": "e608cf86",
   "metadata": {},
   "outputs": [
    {
     "data": {
      "text/plain": [
       "defined \u001b[32mfunction\u001b[39m \u001b[36mcountZerosTail\u001b[39m"
      ]
     },
     "execution_count": 11,
     "metadata": {},
     "output_type": "execute_result"
    }
   ],
   "source": [
    "\n",
    "@tailrec\n",
    "def countZerosTail(lst: List[Int], acc:Int = 0): Int = {\n",
    "   if ( lst.isEmpty ) {\n",
    "       acc\n",
    "    } else {\n",
    "        val firstValue: Int = lst.head\n",
    "        val restOfList: List[Int] = lst.tail\n",
    "        // refactor the condition to the second argument\n",
    "        countZerosTail(restOfList, \n",
    "                       if (firstValue==0) 1 + acc else acc)\n",
    "    } \n",
    "}"
   ]
  },
  {
   "cell_type": "code",
   "execution_count": 14,
   "id": "b2fda881",
   "metadata": {},
   "outputs": [],
   "source": [
    "assert(countZerosTail(List(0, 1, 0, 1, 0, 1)) == 3)\n",
    "assert(countZerosTail(List(0)) == 1)\n",
    "assert(countZerosTail(List(2, 3, 4, -2)) == 0)\n",
    "assert(countZerosTail(List(0, 0, 0, 0, 0, 0)) == 6)\n",
    "assert(countZerosTail(List(5, 1, 2, 3, 4, 5, 0, 1, 5)) == 1)\n",
    "assert(countZerosTail(List()) == 0)"
   ]
  },
  {
   "cell_type": "markdown",
   "id": "d1fbd839",
   "metadata": {},
   "source": [
    "## Exercise 2\n",
    "\n",
    "* Complete below function which calculates sum of first 'N' natural numbers. Natural numbers start from 0, 1, 2...N.\n",
    "* name it `sumOfNumbers`\n",
    "* Sanity check:\n",
    "    * what is sumOfNumbers(1) equal to?\n",
    "        * 1 = 0 + 1\n",
    "    * what is sumOfNumbers(2) equal to?\n",
    "        * 3 = 0 + 1 + 2\n",
    "    * what is sumOfNumbers(3) equal to?\n",
    "        * 6 = 0 + 1 + 2 + 3"
   ]
  },
  {
   "cell_type": "code",
   "execution_count": 15,
   "id": "3f6ef647",
   "metadata": {},
   "outputs": [
    {
     "data": {
      "text/plain": [
       "defined \u001b[32mfunction\u001b[39m \u001b[36msumOfNumbers\u001b[39m"
      ]
     },
     "execution_count": 15,
     "metadata": {},
     "output_type": "execute_result"
    }
   ],
   "source": [
    "// Write a recursive function named sumOfNumbers\n",
    "def sumOfNumbers(n: Int): Int = {\n",
    "    // pre-condition encouraged\n",
    "    require( n >= 0 )\n",
    "    if ( n == 0 ) {\n",
    "        0\n",
    "    } else {\n",
    "        sumOfNumbers(n - 1) + n\n",
    "    }\n",
    "}"
   ]
  },
  {
   "cell_type": "code",
   "execution_count": 16,
   "id": "4b90ba91-7c3a-4e00-a680-a0cbce7a24db",
   "metadata": {},
   "outputs": [
    {
     "data": {
      "text/plain": [
       "\u001b[36mn1\u001b[39m: \u001b[32mInt\u001b[39m = \u001b[32m10\u001b[39m\n",
       "\u001b[36mn2\u001b[39m: \u001b[32mInt\u001b[39m = \u001b[32m5\u001b[39m"
      ]
     },
     "execution_count": 16,
     "metadata": {},
     "output_type": "execute_result"
    }
   ],
   "source": [
    "val n1 = 10\n",
    "val n2 = 5\n",
    "assert(sumOfNumbers(n1)==55, \"Failed to return 55\") // 55 is the correct answer\n",
    "assert(sumOfNumbers(n2)==15, \"Failed to return 15\") // 15 is the correct answer"
   ]
  },
  {
   "cell_type": "code",
   "execution_count": 16,
   "id": "062647d2",
   "metadata": {},
   "outputs": [],
   "source": [
    "// // Should already be imported from earlier\n",
    "// // but uncomment and run if you see error on below block::\n",
    "//    // cmd0.sc:1: not found: type tailrec\n",
    "//    // @tailrec\n",
    "//    //  ^Compilation Failed\n",
    "// import scala.annotation.tailrec"
   ]
  },
  {
   "cell_type": "code",
   "execution_count": 17,
   "id": "1148603e-03fe-4932-9041-d88f057001c3",
   "metadata": {},
   "outputs": [
    {
     "data": {
      "text/plain": [
       "defined \u001b[32mfunction\u001b[39m \u001b[36msumOfNumbersTailRec\u001b[39m\n",
       "\u001b[36mres17_1\u001b[39m: \u001b[32mInt\u001b[39m = \u001b[32m55\u001b[39m"
      ]
     },
     "execution_count": 17,
     "metadata": {},
     "output_type": "execute_result"
    }
   ],
   "source": [
    "@tailrec\n",
    "def sumOfNumbersTailRec(n: Int, accum:Int = 0): Int = {\n",
    "    // Complete the missing portions in this function\n",
    "    require( n >= 0 )\n",
    "    if (n == 0) { accum }\n",
    "    else {\n",
    "        sumOfNumbersTailRec(n - 1, n + accum)\n",
    "    }\n",
    "}\n",
    "sumOfNumbersTailRec(10)"
   ]
  },
  {
   "cell_type": "code",
   "execution_count": 18,
   "id": "5b354021",
   "metadata": {},
   "outputs": [
    {
     "data": {
      "text/plain": [
       "\u001b[36mn1\u001b[39m: \u001b[32mInt\u001b[39m = \u001b[32m10\u001b[39m\n",
       "\u001b[36mn2\u001b[39m: \u001b[32mInt\u001b[39m = \u001b[32m5\u001b[39m"
      ]
     },
     "execution_count": 18,
     "metadata": {},
     "output_type": "execute_result"
    }
   ],
   "source": [
    "val n1 = 10\n",
    "val n2 = 5\n",
    "assert(sumOfNumbersTailRec(n1)==55, \"Failed to return 55\") // 55 is the correct answer\n",
    "assert(sumOfNumbersTailRec(n2)==15, \"Failed to return 15\") // 15 is the correct answer"
   ]
  },
  {
   "cell_type": "markdown",
   "id": "5f5cccc0",
   "metadata": {},
   "source": [
    "## Exercise 3\n",
    "\n",
    "You are given a non recursive function to check if a string is a palindrome. Convert this function to its tail recursive version."
   ]
  },
  {
   "cell_type": "code",
   "execution_count": 19,
   "id": "a0798941",
   "metadata": {},
   "outputs": [
    {
     "data": {
      "text/plain": [
       "defined \u001b[32mfunction\u001b[39m \u001b[36mcheckPalindrome\u001b[39m"
      ]
     },
     "execution_count": 19,
     "metadata": {},
     "output_type": "execute_result"
    }
   ],
   "source": [
    "// provided non recursive\n",
    "def checkPalindrome(s: String): Boolean = {\n",
    "    var start: Int = 0\n",
    "    var end: Int = s.length-1\n",
    "    \n",
    "    while (start < end){\n",
    "        if (s(start) != s(end)) return false\n",
    "        start += 1\n",
    "        end -= 1\n",
    "    }\n",
    "    return true\n",
    "}"
   ]
  },
  {
   "cell_type": "code",
   "execution_count": 20,
   "id": "85602d3b",
   "metadata": {},
   "outputs": [
    {
     "data": {
      "text/plain": [
       "\u001b[36ms1\u001b[39m: \u001b[32mString\u001b[39m = \u001b[32m\"abba\"\u001b[39m\n",
       "\u001b[36ms2\u001b[39m: \u001b[32mString\u001b[39m = \u001b[32m\"scala\"\u001b[39m\n",
       "\u001b[36ms3\u001b[39m: \u001b[32mString\u001b[39m = \u001b[32m\"malayalam\"\u001b[39m\n",
       "\u001b[36ms4\u001b[39m: \u001b[32mString\u001b[39m = \u001b[32m\"aabb\"\u001b[39m"
      ]
     },
     "execution_count": 20,
     "metadata": {},
     "output_type": "execute_result"
    }
   ],
   "source": [
    "val s1 = \"abba\"; val s2 = \"scala\"; val s3 = \"malayalam\"; val s4 = \"aabb\"\n",
    "assert(checkPalindrome(s1)==true, s\"Failed. $s1 is a palindrome\") // Palindrome\n",
    "assert(checkPalindrome(s2)==false, s\"Failed. $s1 is not a palindrome\") // not palindrome\n",
    "assert(checkPalindrome(s3)==true, s\"Failed. $s3 is a palindrome\") // palindrome\n",
    "assert(checkPalindrome(s4)==false, s\"Failed. $s1 is not a palindrome\") // not palindrome"
   ]
  },
  {
   "cell_type": "code",
   "execution_count": 20,
   "id": "3bd61f68",
   "metadata": {},
   "outputs": [],
   "source": [
    "// // Should already be imported from earlier\n",
    "// // but uncomment and run if you see error on below block::\n",
    "//    // cmd0.sc:1: not found: type tailrec\n",
    "//    // @tailrec\n",
    "//    //  ^Compilation Failed\n",
    "// import scala.annotation.tailrec"
   ]
  },
  {
   "cell_type": "code",
   "execution_count": 21,
   "id": "89109fa4",
   "metadata": {},
   "outputs": [
    {
     "data": {
      "text/plain": [
       "defined \u001b[32mfunction\u001b[39m \u001b[36mcheckPalindromeTailRec\u001b[39m"
      ]
     },
     "execution_count": 21,
     "metadata": {},
     "output_type": "execute_result"
    }
   ],
   "source": [
    "@tailrec\n",
    "def checkPalindromeTailRec(s:String, start:Int, end:Int): Boolean = {\n",
    "    // Write your code here\n",
    "    if (start >= end) { true }\n",
    "    else if (s(start) == s(end)) {\n",
    "        checkPalindromeTailRec(s, start+1, end-1)\n",
    "    } else { false }\n",
    "}"
   ]
  },
  {
   "cell_type": "code",
   "execution_count": 22,
   "id": "3f6b8fc6",
   "metadata": {},
   "outputs": [
    {
     "data": {
      "text/plain": [
       "\u001b[36ms1\u001b[39m: \u001b[32mString\u001b[39m = \u001b[32m\"abba\"\u001b[39m\n",
       "\u001b[36ms2\u001b[39m: \u001b[32mString\u001b[39m = \u001b[32m\"scala\"\u001b[39m\n",
       "\u001b[36ms3\u001b[39m: \u001b[32mString\u001b[39m = \u001b[32m\"malayalam\"\u001b[39m\n",
       "\u001b[36ms4\u001b[39m: \u001b[32mString\u001b[39m = \u001b[32m\"aabb\"\u001b[39m"
      ]
     },
     "execution_count": 22,
     "metadata": {},
     "output_type": "execute_result"
    }
   ],
   "source": [
    "val s1 = \"abba\"; val s2 = \"scala\"; val s3 = \"malayalam\"; val s4 = \"aabb\"\n",
    "assert(checkPalindromeTailRec(s1, 0, s1.length - 1)==true, s\"Failed. $s1 is a palindrome\") // Palindrome\n",
    "assert(checkPalindromeTailRec(s2, 0, s2.length - 1)==false, s\"Failed. $s2 is not a palindrome\") // not palindrome\n",
    "assert(checkPalindromeTailRec(s3, 0, s3.length - 1)==true, s\"Failed. $s3 is a palindrome\") // palindrome\n",
    "assert(checkPalindromeTailRec(s4, 0, s4.length - 1)==false, s\"Failed. $s4 is not a palindrome\") // not palindrome"
   ]
  },
  {
   "cell_type": "code",
   "execution_count": 23,
   "id": "e08bc374",
   "metadata": {},
   "outputs": [
    {
     "data": {
      "text/plain": [
       "defined \u001b[32mfunction\u001b[39m \u001b[36mcheckPalindromeTailRec\u001b[39m"
      ]
     },
     "execution_count": 23,
     "metadata": {},
     "output_type": "execute_result"
    }
   ],
   "source": [
    "// ONE alternative\n",
    "// note that start and end above needed to be called a specific way\n",
    "// let's bring this to an inside function\n",
    "def checkPalindromeTailRec(s:String): Boolean = {\n",
    "    @tailrec\n",
    "    def help(s: String, start:Int, end:Int): Boolean = {\n",
    "        // Write your code here\n",
    "        if (start >= end) { true }\n",
    "        else if (s(start) == s(end)) {\n",
    "            // call help, not checkPalindromeTailRec\n",
    "            help(s, start+1, end-1)\n",
    "        } else { false }\n",
    "    }\n",
    "    \n",
    "    // one call to help\n",
    "    // sets start and end the way we intended users to do above\n",
    "    help(s, 0, s.length - 1)\n",
    "}"
   ]
  },
  {
   "cell_type": "code",
   "execution_count": 24,
   "id": "e8178f73",
   "metadata": {},
   "outputs": [
    {
     "data": {
      "text/plain": [
       "\u001b[36ms1\u001b[39m: \u001b[32mString\u001b[39m = \u001b[32m\"abba\"\u001b[39m\n",
       "\u001b[36ms2\u001b[39m: \u001b[32mString\u001b[39m = \u001b[32m\"scala\"\u001b[39m\n",
       "\u001b[36ms3\u001b[39m: \u001b[32mString\u001b[39m = \u001b[32m\"malayalam\"\u001b[39m\n",
       "\u001b[36ms4\u001b[39m: \u001b[32mString\u001b[39m = \u001b[32m\"aabb\"\u001b[39m"
      ]
     },
     "execution_count": 24,
     "metadata": {},
     "output_type": "execute_result"
    }
   ],
   "source": [
    "val s1 = \"abba\"; val s2 = \"scala\"; val s3 = \"malayalam\"; val s4 = \"aabb\"\n",
    "assert(checkPalindromeTailRec(s1)==true, s\"Failed. $s1 is a palindrome\") // Palindrome\n",
    "assert(checkPalindromeTailRec(s2)==false, s\"Failed. $s2 is not a palindrome\") // not palindrome\n",
    "assert(checkPalindromeTailRec(s3)==true, s\"Failed. $s3 is a palindrome\") // palindrome\n",
    "assert(checkPalindromeTailRec(s4)==false, s\"Failed. $s4 is not a palindrome\") // not palindrome"
   ]
  },
  {
   "cell_type": "markdown",
   "id": "17b61c36",
   "metadata": {},
   "source": [
    "# Reminders\n",
    "* see reminders in the student version"
   ]
  },
  {
   "cell_type": "markdown",
   "id": "3db58fd5",
   "metadata": {},
   "source": [
    "### That's all for today folks!!"
   ]
  }
 ],
 "metadata": {
  "kernelspec": {
   "display_name": "Scala",
   "language": "scala",
   "name": "scala"
  },
  "language_info": {
   "codemirror_mode": "text/x-scala",
   "file_extension": ".sc",
   "mimetype": "text/x-scala",
   "name": "scala",
   "nbconvert_exporter": "script",
   "version": "2.13.14"
  }
 },
 "nbformat": 4,
 "nbformat_minor": 5
}
