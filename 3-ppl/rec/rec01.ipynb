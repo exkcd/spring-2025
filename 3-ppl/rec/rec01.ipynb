{
 "cells": [
  {
   "cell_type": "markdown",
   "id": "7c7b29b0-96eb-4513-bb42-df6e0965595f",
   "metadata": {},
   "source": [
    "# CSCI 3155 Spring '25"
   ]
  },
  {
   "cell_type": "markdown",
   "id": "2c67a30c",
   "metadata": {},
   "source": [
    "# Recitation Week 1 : Staring to code in Scala\n",
    "The main focus of this recitation is to familiarize with the basics of Scala. We will work with variables, loops, conditionals and classes.  "
   ]
  },
  {
   "cell_type": "markdown",
   "id": "c3fd90de-1a54-4563-8d42-522eb7237e5d",
   "metadata": {},
   "source": [
    "### Pre-requisite: \n",
    "\n",
    "1. Have scala setup on local (If not, get the setup done as soon as possible). Instructions can be found in Canvas: https://canvas.colorado.edu/courses/117892/pages/resources). You can use coding.csel.io for the recitation in the mean time\n",
    "2. Download the recitation material from Canvas. \n"
   ]
  },
  {
   "cell_type": "markdown",
   "id": "fe1a83da-7454-48ad-b397-737eb91f4a27",
   "metadata": {
    "jp-MarkdownHeadingCollapsed": true,
    "tags": []
   },
   "source": [
    "## [coding.csel.io](https://coding.csel.io)"
   ]
  },
  {
   "cell_type": "markdown",
   "id": "d2672e64-dc50-487d-8661-26d44ec7811b",
   "metadata": {},
   "source": [
    "## Announcements\n",
    "* Assignment 1 was released last night. It will be due next Friday (1/24) by mid-night.\n",
    "    * Start early\n",
    "    * Use OH to get help, check course google calendar (also embedded in Canvas) for times and locations\n",
    "    * Since recitations happen on Friday we don't have any OH then, it means you need to get help before\n",
    "    * Please read the collaboration policy again and follow the honor code\n",
    "    * Make sure to submit the right notebook (use good naming practices)\n",
    "* Quiz 1 was released yesterday and will be due next Tuesday (1/21) before class.\n",
    "* Accommodations\n",
    "    * Work with Disability Services to get your accommodations to us\n",
    "    * We have Standard operating practices for most accommodations but please discuss with your TA for any information or clarity.\n",
    "* Piazza\n",
    "    * Do not post solutions in any form\n",
    "    * Check existing posts in the relevant folder before making posting a new one\n",
    "    * Post questions publicly (optionally anonymously to peers) for things that you consider are generally applicable to the class and it helps everyone\n",
    "    * Post code snippets and not screenshots when discussing code\n",
    "    * For private post for all course related things, send it to \"Instructors\", and not just Gowtham or a specific TA"
   ]
  },
  {
   "cell_type": "markdown",
   "id": "8f727dc6-c8b5-4de8-beab-974b794ce95f",
   "metadata": {},
   "source": [
    "### Lists lists everywhere!"
   ]
  },
  {
   "cell_type": "code",
   "execution_count": 1,
   "id": "9f38ca08",
   "metadata": {},
   "outputs": [
    {
     "data": {
      "text/plain": [
       "\u001b[36ml1\u001b[39m: \u001b[32mList\u001b[39m[\u001b[32mInt\u001b[39m] = \u001b[33mList\u001b[39m(\u001b[32m1\u001b[39m, \u001b[32m2\u001b[39m, \u001b[32m3\u001b[39m, \u001b[32m4\u001b[39m, \u001b[32m5\u001b[39m)\n",
       "\u001b[36ml2\u001b[39m: \u001b[32mList\u001b[39m[\u001b[32mInt\u001b[39m] = \u001b[33mList\u001b[39m(\u001b[32m5\u001b[39m, \u001b[32m4\u001b[39m, \u001b[32m3\u001b[39m, \u001b[32m2\u001b[39m, \u001b[32m1\u001b[39m)\n",
       "\u001b[36ml3\u001b[39m: \u001b[32mList\u001b[39m[\u001b[32mInt\u001b[39m] = \u001b[33mList\u001b[39m(\u001b[32m1\u001b[39m, \u001b[32m2\u001b[39m, \u001b[32m3\u001b[39m)\n",
       "\u001b[36ml4\u001b[39m: \u001b[32mList\u001b[39m[\u001b[32mInt\u001b[39m] = \u001b[33mList\u001b[39m(\u001b[32m2\u001b[39m, \u001b[32m3\u001b[39m, \u001b[32m4\u001b[39m)"
      ]
     },
     "execution_count": 1,
     "metadata": {},
     "output_type": "execute_result"
    }
   ],
   "source": [
    "val l1 = List(1, 2, 3, 4, 5) \n",
    "val l2 = List(5, 4, 3, 2, 1)\n",
    "val l3 = List(1, 2, 3)\n",
    "val l4 = List(2, 3, 4)\n",
    "\n",
    "// Note : Here, all the list variables are vals (immutable)\n",
    "// Curious? On what happens if we declare them as vars? (mutable)"
   ]
  },
  {
   "cell_type": "code",
   "execution_count": 2,
   "id": "371f4887-87a6-4c52-a4f4-049f513bff4b",
   "metadata": {},
   "outputs": [
    {
     "name": "stderr",
     "output_type": "stream",
     "text": [
      "cmd2.sc:2: value update is not a member of List[Int]\n",
      "did you mean updated?\n",
      "l1(0) = 6\n",
      "^\n",
      "Compilation Failed"
     ]
    }
   ],
   "source": [
    "// Let's try and change an element of list l1\n",
    "l1(0) = 6"
   ]
  },
  {
   "cell_type": "code",
   "execution_count": 28,
   "id": "08fc7ba8-8509-4e26-824e-8b8cf951d8e9",
   "metadata": {},
   "outputs": [
    {
     "name": "stderr",
     "output_type": "stream",
     "text": [
      "cmd28.sc:1: reassignment to val\n",
      "val res28 = l2 = List(10, 9, 8, 7, 6)\n",
      "               ^Compilation Failed"
     ]
    },
    {
     "ename": "",
     "evalue": "",
     "output_type": "error",
     "traceback": [
      "Compilation Failed"
     ]
    }
   ],
   "source": [
    "// Let's try and re-assign the list for l2\n",
    "l2 = List(10, 9, 8, 7, 6)"
   ]
  },
  {
   "cell_type": "code",
   "execution_count": 29,
   "id": "e46e1abf",
   "metadata": {},
   "outputs": [
    {
     "data": {
      "text/html": [
       "<div class=\"jp-RenderedText\">\n",
       "<pre><code><span style=\"color: rgb(0, 187, 187)\"><span class=\"ansi-cyan-fg\">l1</span></span>: <span style=\"color: rgb(0, 187, 0)\"><span class=\"ansi-green-fg\">List</span></span>[<span style=\"color: rgb(0, 187, 0)\"><span class=\"ansi-green-fg\">Int</span></span>] = <span style=\"color: yellow\"><span class=\"ansi-yellow-fg\">List</span></span>(<span style=\"color: rgb(0, 187, 0)\"><span class=\"ansi-green-fg\">1</span></span>, <span style=\"color: rgb(0, 187, 0)\"><span class=\"ansi-green-fg\">2</span></span>, <span style=\"color: rgb(0, 187, 0)\"><span class=\"ansi-green-fg\">3</span></span>, <span style=\"color: rgb(0, 187, 0)\"><span class=\"ansi-green-fg\">4</span></span>, <span style=\"color: rgb(0, 187, 0)\"><span class=\"ansi-green-fg\">5</span></span>)\n",
       "<span style=\"color: rgb(0, 187, 187)\"><span class=\"ansi-cyan-fg\">l2</span></span>: <span style=\"color: rgb(0, 187, 0)\"><span class=\"ansi-green-fg\">List</span></span>[<span style=\"color: rgb(0, 187, 0)\"><span class=\"ansi-green-fg\">Int</span></span>] = <style>@keyframes fadein { from { opacity: 0; } to { opacity: 1; } }</style><span style=\"animation: fadein 2s;\"><span style=\"color: yellow\"><span class=\"ansi-yellow-fg\">List</span></span>(<span style=\"color: rgb(0, 187, 0)\"><span class=\"ansi-green-fg\">10</span></span>, <span style=\"color: rgb(0, 187, 0)\"><span class=\"ansi-green-fg\">9</span></span>, <span style=\"color: rgb(0, 187, 0)\"><span class=\"ansi-green-fg\">8</span></span>, <span style=\"color: rgb(0, 187, 0)\"><span class=\"ansi-green-fg\">7</span></span>, <span style=\"color: rgb(0, 187, 0)\"><span class=\"ansi-green-fg\">6</span></span>)</span></code></pre>\n",
       "</div>"
      ],
      "text/plain": [
       "\u001b[36ml1\u001b[39m: \u001b[32mList\u001b[39m[\u001b[32mInt\u001b[39m] = \u001b[33mList\u001b[39m(\u001b[32m1\u001b[39m, \u001b[32m2\u001b[39m, \u001b[32m3\u001b[39m, \u001b[32m4\u001b[39m, \u001b[32m5\u001b[39m)\n",
       "\u001b[36ml2\u001b[39m: \u001b[32mList\u001b[39m[\u001b[32mInt\u001b[39m] = \u001b[33mList\u001b[39m(\u001b[32m10\u001b[39m, \u001b[32m9\u001b[39m, \u001b[32m8\u001b[39m, \u001b[32m7\u001b[39m, \u001b[32m6\u001b[39m)"
      ]
     },
     "metadata": {},
     "output_type": "display_data"
    }
   ],
   "source": [
    "// Declare the lists as var and try the same things\n",
    "var l1 = List(1, 2, 3, 4, 5) \n",
    "var l2 = List(5, 4, 3, 2, 1)"
   ]
  },
  {
   "cell_type": "code",
   "execution_count": 29,
   "id": "ece7f4d6-e38a-4fe6-bbcd-1aa43184943e",
   "metadata": {},
   "outputs": [
    {
     "name": "stderr",
     "output_type": "stream",
     "text": [
      "cmd29.sc:1: value update is not a member of List[Int]\n",
      "did you mean updated?\n",
      "val res29_0 = l1(0) = 6\n",
      "              ^Compilation Failed"
     ]
    },
    {
     "ename": "",
     "evalue": "",
     "output_type": "error",
     "traceback": [
      "Compilation Failed"
     ]
    }
   ],
   "source": [
    "// Let's try and change an element of list l1\n",
    "l1(0) = 6\n",
    "l1"
   ]
  },
  {
   "cell_type": "code",
   "execution_count": 2,
   "id": "236684a4-22e9-426b-af91-75dc741eca06",
   "metadata": {},
   "outputs": [
    {
     "name": "stderr",
     "output_type": "stream",
     "text": [
      "cmd2.sc:2: reassignment to val\n",
      "l2 = List(10, 9, 8, 7, 6)\n",
      "   ^\n",
      "Compilation Failed"
     ]
    }
   ],
   "source": [
    "// Let's try and re-assign the list for l2\n",
    "l2 = List(10, 9, 8, 7, 6)\n",
    "l2"
   ]
  },
  {
   "cell_type": "code",
   "execution_count": 2,
   "id": "0d45fbc7",
   "metadata": {},
   "outputs": [
    {
     "data": {
      "text/plain": [
       "\u001b[36ml1\u001b[39m: \u001b[32mList\u001b[39m[\u001b[32mInt\u001b[39m] = \u001b[33mList\u001b[39m(\u001b[32m1\u001b[39m, \u001b[32m2\u001b[39m, \u001b[32m3\u001b[39m, \u001b[32m4\u001b[39m, \u001b[32m5\u001b[39m)\n",
       "\u001b[36ml2\u001b[39m: \u001b[32mList\u001b[39m[\u001b[32mInt\u001b[39m] = \u001b[33mList\u001b[39m(\u001b[32m5\u001b[39m, \u001b[32m4\u001b[39m, \u001b[32m3\u001b[39m, \u001b[32m2\u001b[39m, \u001b[32m1\u001b[39m)\n",
       "\u001b[36ml3\u001b[39m: \u001b[32mList\u001b[39m[\u001b[32mInt\u001b[39m] = \u001b[33mList\u001b[39m(\u001b[32m1\u001b[39m, \u001b[32m2\u001b[39m, \u001b[32m3\u001b[39m)\n",
       "\u001b[36ml4\u001b[39m: \u001b[32mList\u001b[39m[\u001b[32mInt\u001b[39m] = \u001b[33mList\u001b[39m(\u001b[32m2\u001b[39m, \u001b[32m3\u001b[39m, \u001b[32m4\u001b[39m)"
      ]
     },
     "execution_count": 2,
     "metadata": {},
     "output_type": "execute_result"
    }
   ],
   "source": [
    "// Redeclaring the lists for sanity\n",
    "val l1 = List(1, 2, 3, 4, 5) \n",
    "val l2 = List(5, 4, 3, 2, 1)\n",
    "val l3 = List(1, 2, 3)\n",
    "val l4 = List(2, 3, 4)"
   ]
  },
  {
   "cell_type": "markdown",
   "id": "9b9e6d5e",
   "metadata": {},
   "source": [
    "## Problem 1 : Exercise\n",
    "\n",
    "Check if the given two lists are reverse of each other.\n",
    "\n",
    "For this exercise you can assume that the given lists will be of same size. (In real world scenarios, it may not be the case)"
   ]
  },
  {
   "cell_type": "markdown",
   "id": "e6bb8a2c-b226-48fb-ac74-b88ee2e09dfd",
   "metadata": {},
   "source": [
    "### Method 1 : Using loop\n",
    "Complete the below function to check if two lists are reverse of each other\n",
    "Use loops and indexing to achieve it."
   ]
  },
  {
   "cell_type": "code",
   "execution_count": 3,
   "id": "ffc37839",
   "metadata": {},
   "outputs": [
    {
     "data": {
      "text/plain": [
       "defined \u001b[32mfunction\u001b[39m \u001b[36mcheckReversed\u001b[39m"
      ]
     },
     "execution_count": 3,
     "metadata": {},
     "output_type": "execute_result"
    }
   ],
   "source": [
    "def checkReversed(l1: List[Int], l2: List[Int]): Boolean = {\n",
    "    // BEGIN Solution\n",
    "    var listLen = l1.length\n",
    "    for (idx <- 0 to listLen-1){\n",
    "        if (l1(idx) != l2(listLen-idx-1)) return false\n",
    "    }\n",
    "    true\n",
    "    // END Solution\n",
    "}"
   ]
  },
  {
   "cell_type": "code",
   "execution_count": 10,
   "id": "147f21fe",
   "metadata": {},
   "outputs": [
    {
     "ename": "java.lang.AssertionError",
     "evalue": "assertion failed: List 3 is not a reverse of List 4",
     "output_type": "error",
     "traceback": [
      "\u001b[31mjava.lang.AssertionError: assertion failed: List 3 is not a reverse of List 4\u001b[39m",
      "  scala.Predef$.assert(\u001b[32mPredef.scala\u001b[39m:\u001b[32m279\u001b[39m)",
      "  ammonite.$sess.cmd10$Helper.<init>(\u001b[32mcmd10.sc\u001b[39m:\u001b[32m8\u001b[39m)",
      "  ammonite.$sess.cmd10$.<clinit>(\u001b[32mcmd10.sc\u001b[39m:\u001b[32m7\u001b[39m)"
     ]
    }
   ],
   "source": [
    "/* \n",
    "Assert is used to check if our function returns the value that is expected. \n",
    "If not the error message (second param) will be displayed. \n",
    "\n",
    "Try to change the RHS from true to false in the first assert and run the cell again to see the error message\n",
    "*/\n",
    "assert(checkReversed(l1, l2)==true, \"List 1 is a reverse of List 2\")\n",
    "assert(checkReversed(l3, l4)==false, \"List 3 is not a reverse of List 4\")"
   ]
  },
  {
   "cell_type": "markdown",
   "id": "71338dd8-768a-49c0-bf2b-7b164479765c",
   "metadata": {},
   "source": [
    "### Method 2: Using API\n",
    "\n",
    "Scala provides some standard functions on List for ease of use, refer to them in the documentation : https://www.scala-lang.org/api/current/scala/collection/immutable/List.html to find methods that will eliminate the need for looping to reverse a list. "
   ]
  },
  {
   "cell_type": "code",
   "execution_count": 34,
   "id": "29eb2bbb",
   "metadata": {},
   "outputs": [
    {
     "data": {
      "text/plain": [
       "defined \u001b[32mfunction\u001b[39m \u001b[36mcheckReversedAPI\u001b[39m"
      ]
     },
     "execution_count": 34,
     "metadata": {},
     "output_type": "execute_result"
    }
   ],
   "source": [
    "def checkReversedAPI(l1: List[Int], l2: List[Int]): Boolean = {\n",
    "    // BEGIN Solution\n",
    "    l1.reverse == l2\n",
    "    // END Solution\n",
    "}"
   ]
  },
  {
   "cell_type": "code",
   "execution_count": 35,
   "id": "bda86292",
   "metadata": {},
   "outputs": [],
   "source": [
    "assert(checkReversedAPI(l1, l2)==true, \"List 1 is a reverse of List 2\")\n",
    "assert(checkReversedAPI(l3, l4)==false, \"List 3 is not a reverse of List 4\")"
   ]
  },
  {
   "cell_type": "markdown",
   "id": "e9258ff1",
   "metadata": {},
   "source": [
    "## Problem 2 : Exercise \n",
    "### Complexity Analysis: Using List addition\n",
    "\n",
    "The function addLists given below takes two entries in a list and add's the entries one by one. What is the complexity of the overall function? How? \n",
    "\n",
    "##### Note: \n",
    "Though Scala is capable of inferring the type of variable, most of the times it is better to explicitly specify the \n",
    "type of a var/ val. This is called as Type annotation. Refer this doc to learn more on type annotations: https://docs.scala-lang.org/style/types.html"
   ]
  },
  {
   "cell_type": "code",
   "execution_count": 36,
   "id": "d2f2279c",
   "metadata": {},
   "outputs": [
    {
     "data": {
      "text/plain": [
       "\u001b[32mimport \u001b[39m\u001b[36mjava.time.LocalTime\n",
       "\u001b[39m\n",
       "\u001b[32mimport \u001b[39m\u001b[36mjava.time.temporal._\u001b[39m"
      ]
     },
     "execution_count": 36,
     "metadata": {},
     "output_type": "execute_result"
    }
   ],
   "source": [
    "import java.time.LocalTime\n",
    "import java.time.temporal._"
   ]
  },
  {
   "cell_type": "code",
   "execution_count": 37,
   "id": "bbd6930e",
   "metadata": {},
   "outputs": [
    {
     "data": {
      "text/plain": [
       "defined \u001b[32mfunction\u001b[39m \u001b[36mcalculateTimeElapsed\u001b[39m"
      ]
     },
     "execution_count": 37,
     "metadata": {},
     "output_type": "execute_result"
    }
   ],
   "source": [
    "// Helper method\n",
    "def calculateTimeElapsed(fn: (List[Int], List[Int]) => List[Int])(l1: List[Int], l2:List[Int]): List[Int] = {\n",
    "    val startTime = LocalTime.now()\n",
    "    val res = fn(l1, l2)\n",
    "    val endTime = LocalTime.now()\n",
    "    val diff = startTime.until(endTime, ChronoUnit.MILLIS)\n",
    "    println(s\"Time taken : $diff milli seconds\")\n",
    "    res\n",
    "}"
   ]
  },
  {
   "cell_type": "code",
   "execution_count": 38,
   "id": "742445d3",
   "metadata": {},
   "outputs": [
    {
     "data": {
      "text/plain": [
       "defined \u001b[32mfunction\u001b[39m \u001b[36maddListsNaive\u001b[39m"
      ]
     },
     "execution_count": 38,
     "metadata": {},
     "output_type": "execute_result"
    }
   ],
   "source": [
    "def addListsNaive(l1: List[Int], l2: List[Int]): List[Int] = {\n",
    "    val listLen = l1.length\n",
    "    var result: List[Int] = Nil\n",
    "    \n",
    "    /*\n",
    "    1. Use :+ operation for list manipulation\n",
    "    2. Access entries in the list using an index \n",
    "    */\n",
    "    \n",
    "    // BEGIN Solution\n",
    "    for (i <- 0 to listLen-1) {\n",
    "        result = result :+ l1(i) + l2(i)\n",
    "    }\n",
    "    // END Solution\n",
    "    \n",
    "    result\n",
    "}"
   ]
  },
  {
   "cell_type": "code",
   "execution_count": 39,
   "id": "d2e38ef7-8b6e-4578-a432-3c480e5e017b",
   "metadata": {},
   "outputs": [
    {
     "data": {
      "text/plain": [
       "\u001b[36msmallList1\u001b[39m: \u001b[32mList\u001b[39m[\u001b[32mInt\u001b[39m] = \u001b[33mList\u001b[39m(\n",
       "  \u001b[32m1\u001b[39m,\n",
       "  \u001b[32m2\u001b[39m,\n",
       "  \u001b[32m3\u001b[39m,\n",
       "  \u001b[32m4\u001b[39m,\n",
       "  \u001b[32m5\u001b[39m,\n",
       "  \u001b[32m6\u001b[39m,\n",
       "  \u001b[32m7\u001b[39m,\n",
       "  \u001b[32m8\u001b[39m,\n",
       "  \u001b[32m9\u001b[39m,\n",
       "  \u001b[32m10\u001b[39m,\n",
       "  \u001b[32m11\u001b[39m,\n",
       "  \u001b[32m12\u001b[39m,\n",
       "  \u001b[32m13\u001b[39m,\n",
       "  \u001b[32m14\u001b[39m,\n",
       "  \u001b[32m15\u001b[39m,\n",
       "  \u001b[32m16\u001b[39m,\n",
       "  \u001b[32m17\u001b[39m,\n",
       "  \u001b[32m18\u001b[39m,\n",
       "  \u001b[32m19\u001b[39m,\n",
       "  \u001b[32m20\u001b[39m,\n",
       "  \u001b[32m21\u001b[39m,\n",
       "  \u001b[32m22\u001b[39m,\n",
       "  \u001b[32m23\u001b[39m,\n",
       "  \u001b[32m24\u001b[39m,\n",
       "  \u001b[32m25\u001b[39m,\n",
       "  \u001b[32m26\u001b[39m,\n",
       "  \u001b[32m27\u001b[39m,\n",
       "  \u001b[32m28\u001b[39m,\n",
       "  \u001b[32m29\u001b[39m,\n",
       "  \u001b[32m30\u001b[39m,\n",
       "  \u001b[32m31\u001b[39m,\n",
       "  \u001b[32m32\u001b[39m,\n",
       "  \u001b[32m33\u001b[39m,\n",
       "  \u001b[32m34\u001b[39m,\n",
       "  \u001b[32m35\u001b[39m,\n",
       "  \u001b[32m36\u001b[39m,\n",
       "  \u001b[32m37\u001b[39m,\n",
       "  \u001b[32m38\u001b[39m,\n",
       "...\n",
       "\u001b[36msmallList2\u001b[39m: \u001b[32mList\u001b[39m[\u001b[32mInt\u001b[39m] = \u001b[33mList\u001b[39m(\n",
       "  \u001b[32m100\u001b[39m,\n",
       "  \u001b[32m99\u001b[39m,\n",
       "  \u001b[32m98\u001b[39m,\n",
       "  \u001b[32m97\u001b[39m,\n",
       "  \u001b[32m96\u001b[39m,\n",
       "  \u001b[32m95\u001b[39m,\n",
       "  \u001b[32m94\u001b[39m,\n",
       "  \u001b[32m93\u001b[39m,\n",
       "  \u001b[32m92\u001b[39m,\n",
       "  \u001b[32m91\u001b[39m,\n",
       "  \u001b[32m90\u001b[39m,\n",
       "  \u001b[32m89\u001b[39m,\n",
       "  \u001b[32m88\u001b[39m,\n",
       "  \u001b[32m87\u001b[39m,\n",
       "  \u001b[32m86\u001b[39m,\n",
       "  \u001b[32m85\u001b[39m,\n",
       "  \u001b[32m84\u001b[39m,\n",
       "  \u001b[32m83\u001b[39m,\n",
       "  \u001b[32m82\u001b[39m,\n",
       "  \u001b[32m81\u001b[39m,\n",
       "  \u001b[32m80\u001b[39m,\n",
       "  \u001b[32m79\u001b[39m,\n",
       "  \u001b[32m78\u001b[39m,\n",
       "  \u001b[32m77\u001b[39m,\n",
       "  \u001b[32m76\u001b[39m,\n",
       "  \u001b[32m75\u001b[39m,\n",
       "  \u001b[32m74\u001b[39m,\n",
       "  \u001b[32m73\u001b[39m,\n",
       "  \u001b[32m72\u001b[39m,\n",
       "  \u001b[32m71\u001b[39m,\n",
       "  \u001b[32m70\u001b[39m,\n",
       "  \u001b[32m69\u001b[39m,\n",
       "  \u001b[32m68\u001b[39m,\n",
       "  \u001b[32m67\u001b[39m,\n",
       "  \u001b[32m66\u001b[39m,\n",
       "  \u001b[32m65\u001b[39m,\n",
       "  \u001b[32m64\u001b[39m,\n",
       "  \u001b[32m63\u001b[39m,\n",
       "..."
      ]
     },
     "execution_count": 39,
     "metadata": {},
     "output_type": "execute_result"
    }
   ],
   "source": [
    "// A basic test case to verify the implementation\n",
    "val smallList1 = (1 to 100).toList\n",
    "val smallList2 = (1 to 100).toList.reverse\n",
    "assert(addListsNaive(smallList1, smallList2) == (1 to 100).map( _ => 101))"
   ]
  },
  {
   "cell_type": "code",
   "execution_count": 40,
   "id": "4c1297bb",
   "metadata": {},
   "outputs": [
    {
     "data": {
      "text/plain": [
       "\u001b[36mlist1\u001b[39m: \u001b[32mList\u001b[39m[\u001b[32mInt\u001b[39m] = \u001b[33mList\u001b[39m(\n",
       "  \u001b[32m1\u001b[39m,\n",
       "  \u001b[32m2\u001b[39m,\n",
       "  \u001b[32m3\u001b[39m,\n",
       "  \u001b[32m4\u001b[39m,\n",
       "  \u001b[32m5\u001b[39m,\n",
       "  \u001b[32m6\u001b[39m,\n",
       "  \u001b[32m7\u001b[39m,\n",
       "  \u001b[32m8\u001b[39m,\n",
       "  \u001b[32m9\u001b[39m,\n",
       "  \u001b[32m10\u001b[39m,\n",
       "  \u001b[32m11\u001b[39m,\n",
       "  \u001b[32m12\u001b[39m,\n",
       "  \u001b[32m13\u001b[39m,\n",
       "  \u001b[32m14\u001b[39m,\n",
       "  \u001b[32m15\u001b[39m,\n",
       "  \u001b[32m16\u001b[39m,\n",
       "  \u001b[32m17\u001b[39m,\n",
       "  \u001b[32m18\u001b[39m,\n",
       "  \u001b[32m19\u001b[39m,\n",
       "  \u001b[32m20\u001b[39m,\n",
       "  \u001b[32m21\u001b[39m,\n",
       "  \u001b[32m22\u001b[39m,\n",
       "  \u001b[32m23\u001b[39m,\n",
       "  \u001b[32m24\u001b[39m,\n",
       "  \u001b[32m25\u001b[39m,\n",
       "  \u001b[32m26\u001b[39m,\n",
       "  \u001b[32m27\u001b[39m,\n",
       "  \u001b[32m28\u001b[39m,\n",
       "  \u001b[32m29\u001b[39m,\n",
       "  \u001b[32m30\u001b[39m,\n",
       "  \u001b[32m31\u001b[39m,\n",
       "  \u001b[32m32\u001b[39m,\n",
       "  \u001b[32m33\u001b[39m,\n",
       "  \u001b[32m34\u001b[39m,\n",
       "  \u001b[32m35\u001b[39m,\n",
       "  \u001b[32m36\u001b[39m,\n",
       "  \u001b[32m37\u001b[39m,\n",
       "  \u001b[32m38\u001b[39m,\n",
       "...\n",
       "\u001b[36mlist2\u001b[39m: \u001b[32mList\u001b[39m[\u001b[32mInt\u001b[39m] = \u001b[33mList\u001b[39m(\n",
       "  \u001b[32m10001\u001b[39m,\n",
       "  \u001b[32m10002\u001b[39m,\n",
       "  \u001b[32m10003\u001b[39m,\n",
       "  \u001b[32m10004\u001b[39m,\n",
       "  \u001b[32m10005\u001b[39m,\n",
       "  \u001b[32m10006\u001b[39m,\n",
       "  \u001b[32m10007\u001b[39m,\n",
       "  \u001b[32m10008\u001b[39m,\n",
       "  \u001b[32m10009\u001b[39m,\n",
       "  \u001b[32m10010\u001b[39m,\n",
       "  \u001b[32m10011\u001b[39m,\n",
       "  \u001b[32m10012\u001b[39m,\n",
       "  \u001b[32m10013\u001b[39m,\n",
       "  \u001b[32m10014\u001b[39m,\n",
       "  \u001b[32m10015\u001b[39m,\n",
       "  \u001b[32m10016\u001b[39m,\n",
       "  \u001b[32m10017\u001b[39m,\n",
       "  \u001b[32m10018\u001b[39m,\n",
       "  \u001b[32m10019\u001b[39m,\n",
       "  \u001b[32m10020\u001b[39m,\n",
       "  \u001b[32m10021\u001b[39m,\n",
       "  \u001b[32m10022\u001b[39m,\n",
       "  \u001b[32m10023\u001b[39m,\n",
       "  \u001b[32m10024\u001b[39m,\n",
       "  \u001b[32m10025\u001b[39m,\n",
       "  \u001b[32m10026\u001b[39m,\n",
       "  \u001b[32m10027\u001b[39m,\n",
       "  \u001b[32m10028\u001b[39m,\n",
       "  \u001b[32m10029\u001b[39m,\n",
       "  \u001b[32m10030\u001b[39m,\n",
       "  \u001b[32m10031\u001b[39m,\n",
       "  \u001b[32m10032\u001b[39m,\n",
       "  \u001b[32m10033\u001b[39m,\n",
       "  \u001b[32m10034\u001b[39m,\n",
       "  \u001b[32m10035\u001b[39m,\n",
       "  \u001b[32m10036\u001b[39m,\n",
       "  \u001b[32m10037\u001b[39m,\n",
       "  \u001b[32m10038\u001b[39m,\n",
       "..."
      ]
     },
     "execution_count": 40,
     "metadata": {},
     "output_type": "execute_result"
    }
   ],
   "source": [
    "val list1 = (1 to 10000).toList\n",
    "val list2 = (10001 to 20000).toList"
   ]
  },
  {
   "cell_type": "code",
   "execution_count": 41,
   "id": "41c6ef25",
   "metadata": {},
   "outputs": [
    {
     "name": "stdout",
     "output_type": "stream",
     "text": [
      "Time taken : 951 milli seconds\n"
     ]
    },
    {
     "data": {
      "text/plain": [
       "\u001b[36mres\u001b[39m: \u001b[32mList\u001b[39m[\u001b[32mInt\u001b[39m] = \u001b[33mList\u001b[39m(\n",
       "  \u001b[32m10002\u001b[39m,\n",
       "  \u001b[32m10004\u001b[39m,\n",
       "  \u001b[32m10006\u001b[39m,\n",
       "  \u001b[32m10008\u001b[39m,\n",
       "  \u001b[32m10010\u001b[39m,\n",
       "  \u001b[32m10012\u001b[39m,\n",
       "  \u001b[32m10014\u001b[39m,\n",
       "  \u001b[32m10016\u001b[39m,\n",
       "  \u001b[32m10018\u001b[39m,\n",
       "  \u001b[32m10020\u001b[39m,\n",
       "  \u001b[32m10022\u001b[39m,\n",
       "  \u001b[32m10024\u001b[39m,\n",
       "  \u001b[32m10026\u001b[39m,\n",
       "  \u001b[32m10028\u001b[39m,\n",
       "  \u001b[32m10030\u001b[39m,\n",
       "  \u001b[32m10032\u001b[39m,\n",
       "  \u001b[32m10034\u001b[39m,\n",
       "  \u001b[32m10036\u001b[39m,\n",
       "  \u001b[32m10038\u001b[39m,\n",
       "  \u001b[32m10040\u001b[39m,\n",
       "  \u001b[32m10042\u001b[39m,\n",
       "  \u001b[32m10044\u001b[39m,\n",
       "  \u001b[32m10046\u001b[39m,\n",
       "  \u001b[32m10048\u001b[39m,\n",
       "  \u001b[32m10050\u001b[39m,\n",
       "  \u001b[32m10052\u001b[39m,\n",
       "  \u001b[32m10054\u001b[39m,\n",
       "  \u001b[32m10056\u001b[39m,\n",
       "  \u001b[32m10058\u001b[39m,\n",
       "  \u001b[32m10060\u001b[39m,\n",
       "  \u001b[32m10062\u001b[39m,\n",
       "  \u001b[32m10064\u001b[39m,\n",
       "  \u001b[32m10066\u001b[39m,\n",
       "  \u001b[32m10068\u001b[39m,\n",
       "  \u001b[32m10070\u001b[39m,\n",
       "  \u001b[32m10072\u001b[39m,\n",
       "  \u001b[32m10074\u001b[39m,\n",
       "  \u001b[32m10076\u001b[39m,\n",
       "..."
      ]
     },
     "execution_count": 41,
     "metadata": {},
     "output_type": "execute_result"
    }
   ],
   "source": [
    "// Calculate time taken\n",
    "// Note: Incase this keeps on running interrupt the execution. \n",
    "// Reference: https://jupyter-notebook.readthedocs.io/en/stable/notebook.html#basic-workflow\n",
    "val res = calculateTimeElapsed(addListsNaive)(list1, list2)"
   ]
  },
  {
   "cell_type": "markdown",
   "id": "83d87d8d",
   "metadata": {},
   "source": [
    "### What is the complexity of the above approach and how? How? \n",
    "\n",
    "The complexity of the above approach is O(n^2). \n",
    "\n",
    "The :+ operator takes O(n) time for each operation. In Scala, Lists are implemented using linked lists rather than arrays/ vectors. So, whenever we access a particular index in a list it again is O(n) operation. So, the code result = result :+ l1(i) + l2(i) takes O(3n) ~ O(n) time. This operation when done inside a loop results in O(n^2) time.\n",
    "\n",
    "\n",
    "### How do we improve the complexity?\n",
    "\n",
    "The main bottlenecks that we face in the above approach are:\n",
    "\n",
    "1. O(n) time taken by :+ operation\n",
    "2. O(n) time taken to access a particular index in a list\n",
    "\n",
    "Eliminating above bottlenecks can result in better time complexity. There are several ways to achieve a better complexity. \n",
    "\n",
    "### Better approach 1:\n",
    "\n",
    "1. Use Cons (::) operator and reverse the result\n",
    "2. Zip the lists together and iterate over the zipped list\n",
    "\n",
    "###### Syntax for cons:\n",
    "newElement :: existingList\n",
    "\n",
    "###### Note: \n",
    "If we use the cons operator, the output might not be in the order that we expect. In that case we can either,\n",
    "\n",
    "1) reverse the final output that we get (or)\n",
    "\n",
    "2) reverse the input and then do the operations that we want.\n",
    "\n",
    "Reference: https://www.scala-lang.org/api/current/scala/collection/immutable/List.html\n",
    "Learn more about perfo"
   ]
  },
  {
   "cell_type": "code",
   "execution_count": 42,
   "id": "2294a65e",
   "metadata": {},
   "outputs": [
    {
     "data": {
      "text/plain": [
       "defined \u001b[32mfunction\u001b[39m \u001b[36maddListsBetter\u001b[39m"
      ]
     },
     "execution_count": 42,
     "metadata": {},
     "output_type": "execute_result"
    }
   ],
   "source": [
    "def addListsBetter(l1: List[Int], l2: List[Int]): List[Int] = {\n",
    "    var result: List[Int] = Nil\n",
    "    // BEGIN Solution\n",
    "    val zippedList = l1.zip(l2) // or l1 zip l2\n",
    "    for (entry <- zippedList){\n",
    "        result = (entry._1 + entry._2) :: result \n",
    "    }\n",
    "    result.reverse\n",
    "    // END Solution\n",
    "}"
   ]
  },
  {
   "cell_type": "code",
   "execution_count": 43,
   "id": "e5c97e82-907a-48bf-9711-6b9da7dac50b",
   "metadata": {},
   "outputs": [
    {
     "data": {
      "text/plain": [
       "\u001b[36msmallList1\u001b[39m: \u001b[32mList\u001b[39m[\u001b[32mInt\u001b[39m] = \u001b[33mList\u001b[39m(\n",
       "  \u001b[32m1\u001b[39m,\n",
       "  \u001b[32m2\u001b[39m,\n",
       "  \u001b[32m3\u001b[39m,\n",
       "  \u001b[32m4\u001b[39m,\n",
       "  \u001b[32m5\u001b[39m,\n",
       "  \u001b[32m6\u001b[39m,\n",
       "  \u001b[32m7\u001b[39m,\n",
       "  \u001b[32m8\u001b[39m,\n",
       "  \u001b[32m9\u001b[39m,\n",
       "  \u001b[32m10\u001b[39m,\n",
       "  \u001b[32m11\u001b[39m,\n",
       "  \u001b[32m12\u001b[39m,\n",
       "  \u001b[32m13\u001b[39m,\n",
       "  \u001b[32m14\u001b[39m,\n",
       "  \u001b[32m15\u001b[39m,\n",
       "  \u001b[32m16\u001b[39m,\n",
       "  \u001b[32m17\u001b[39m,\n",
       "  \u001b[32m18\u001b[39m,\n",
       "  \u001b[32m19\u001b[39m,\n",
       "  \u001b[32m20\u001b[39m,\n",
       "  \u001b[32m21\u001b[39m,\n",
       "  \u001b[32m22\u001b[39m,\n",
       "  \u001b[32m23\u001b[39m,\n",
       "  \u001b[32m24\u001b[39m,\n",
       "  \u001b[32m25\u001b[39m,\n",
       "  \u001b[32m26\u001b[39m,\n",
       "  \u001b[32m27\u001b[39m,\n",
       "  \u001b[32m28\u001b[39m,\n",
       "  \u001b[32m29\u001b[39m,\n",
       "  \u001b[32m30\u001b[39m,\n",
       "  \u001b[32m31\u001b[39m,\n",
       "  \u001b[32m32\u001b[39m,\n",
       "  \u001b[32m33\u001b[39m,\n",
       "  \u001b[32m34\u001b[39m,\n",
       "  \u001b[32m35\u001b[39m,\n",
       "  \u001b[32m36\u001b[39m,\n",
       "  \u001b[32m37\u001b[39m,\n",
       "  \u001b[32m38\u001b[39m,\n",
       "...\n",
       "\u001b[36msmallList2\u001b[39m: \u001b[32mList\u001b[39m[\u001b[32mInt\u001b[39m] = \u001b[33mList\u001b[39m(\n",
       "  \u001b[32m100\u001b[39m,\n",
       "  \u001b[32m99\u001b[39m,\n",
       "  \u001b[32m98\u001b[39m,\n",
       "  \u001b[32m97\u001b[39m,\n",
       "  \u001b[32m96\u001b[39m,\n",
       "  \u001b[32m95\u001b[39m,\n",
       "  \u001b[32m94\u001b[39m,\n",
       "  \u001b[32m93\u001b[39m,\n",
       "  \u001b[32m92\u001b[39m,\n",
       "  \u001b[32m91\u001b[39m,\n",
       "  \u001b[32m90\u001b[39m,\n",
       "  \u001b[32m89\u001b[39m,\n",
       "  \u001b[32m88\u001b[39m,\n",
       "  \u001b[32m87\u001b[39m,\n",
       "  \u001b[32m86\u001b[39m,\n",
       "  \u001b[32m85\u001b[39m,\n",
       "  \u001b[32m84\u001b[39m,\n",
       "  \u001b[32m83\u001b[39m,\n",
       "  \u001b[32m82\u001b[39m,\n",
       "  \u001b[32m81\u001b[39m,\n",
       "  \u001b[32m80\u001b[39m,\n",
       "  \u001b[32m79\u001b[39m,\n",
       "  \u001b[32m78\u001b[39m,\n",
       "  \u001b[32m77\u001b[39m,\n",
       "  \u001b[32m76\u001b[39m,\n",
       "  \u001b[32m75\u001b[39m,\n",
       "  \u001b[32m74\u001b[39m,\n",
       "  \u001b[32m73\u001b[39m,\n",
       "  \u001b[32m72\u001b[39m,\n",
       "  \u001b[32m71\u001b[39m,\n",
       "  \u001b[32m70\u001b[39m,\n",
       "  \u001b[32m69\u001b[39m,\n",
       "  \u001b[32m68\u001b[39m,\n",
       "  \u001b[32m67\u001b[39m,\n",
       "  \u001b[32m66\u001b[39m,\n",
       "  \u001b[32m65\u001b[39m,\n",
       "  \u001b[32m64\u001b[39m,\n",
       "  \u001b[32m63\u001b[39m,\n",
       "..."
      ]
     },
     "execution_count": 43,
     "metadata": {},
     "output_type": "execute_result"
    }
   ],
   "source": [
    "// A basic test case to verify the better implementation\n",
    "val smallList1 = (1 to 100).toList\n",
    "val smallList2 = (1 to 100).toList.reverse\n",
    "assert(addListsBetter(smallList1, smallList2) == (1 to 100).map( _ => 101))"
   ]
  },
  {
   "cell_type": "code",
   "execution_count": 44,
   "id": "5df37cd2",
   "metadata": {},
   "outputs": [
    {
     "name": "stdout",
     "output_type": "stream",
     "text": [
      "Time taken : 2 milli seconds\n"
     ]
    },
    {
     "data": {
      "text/plain": [
       "\u001b[36mres\u001b[39m: \u001b[32mList\u001b[39m[\u001b[32mInt\u001b[39m] = \u001b[33mList\u001b[39m(\n",
       "  \u001b[32m10002\u001b[39m,\n",
       "  \u001b[32m10004\u001b[39m,\n",
       "  \u001b[32m10006\u001b[39m,\n",
       "  \u001b[32m10008\u001b[39m,\n",
       "  \u001b[32m10010\u001b[39m,\n",
       "  \u001b[32m10012\u001b[39m,\n",
       "  \u001b[32m10014\u001b[39m,\n",
       "  \u001b[32m10016\u001b[39m,\n",
       "  \u001b[32m10018\u001b[39m,\n",
       "  \u001b[32m10020\u001b[39m,\n",
       "  \u001b[32m10022\u001b[39m,\n",
       "  \u001b[32m10024\u001b[39m,\n",
       "  \u001b[32m10026\u001b[39m,\n",
       "  \u001b[32m10028\u001b[39m,\n",
       "  \u001b[32m10030\u001b[39m,\n",
       "  \u001b[32m10032\u001b[39m,\n",
       "  \u001b[32m10034\u001b[39m,\n",
       "  \u001b[32m10036\u001b[39m,\n",
       "  \u001b[32m10038\u001b[39m,\n",
       "  \u001b[32m10040\u001b[39m,\n",
       "  \u001b[32m10042\u001b[39m,\n",
       "  \u001b[32m10044\u001b[39m,\n",
       "  \u001b[32m10046\u001b[39m,\n",
       "  \u001b[32m10048\u001b[39m,\n",
       "  \u001b[32m10050\u001b[39m,\n",
       "  \u001b[32m10052\u001b[39m,\n",
       "  \u001b[32m10054\u001b[39m,\n",
       "  \u001b[32m10056\u001b[39m,\n",
       "  \u001b[32m10058\u001b[39m,\n",
       "  \u001b[32m10060\u001b[39m,\n",
       "  \u001b[32m10062\u001b[39m,\n",
       "  \u001b[32m10064\u001b[39m,\n",
       "  \u001b[32m10066\u001b[39m,\n",
       "  \u001b[32m10068\u001b[39m,\n",
       "  \u001b[32m10070\u001b[39m,\n",
       "  \u001b[32m10072\u001b[39m,\n",
       "  \u001b[32m10074\u001b[39m,\n",
       "  \u001b[32m10076\u001b[39m,\n",
       "..."
      ]
     },
     "execution_count": 44,
     "metadata": {},
     "output_type": "execute_result"
    }
   ],
   "source": [
    "// Calculate time taken\n",
    "val res = calculateTimeElapsed(addListsBetter)(list1, list2)"
   ]
  },
  {
   "cell_type": "markdown",
   "id": "8dfd879c",
   "metadata": {
    "tags": []
   },
   "source": [
    "## A more functional implementation: a flavour of functors"
   ]
  },
  {
   "cell_type": "code",
   "execution_count": 45,
   "id": "ed594a39",
   "metadata": {},
   "outputs": [
    {
     "data": {
      "text/plain": [
       "defined \u001b[32mfunction\u001b[39m \u001b[36maddListsFunctor\u001b[39m"
      ]
     },
     "execution_count": 45,
     "metadata": {},
     "output_type": "execute_result"
    }
   ],
   "source": [
    "def addListsFunctor(l1: List[Int], l2: List[Int]): List[Int] = {\n",
    "    l1.zip(l2).map { case (e1, e2) => e1 + e2 } // or l1.zip(l2).map (e => e._1 + e._2 )\n",
    "}"
   ]
  },
  {
   "cell_type": "code",
   "execution_count": 46,
   "id": "d7a5a141",
   "metadata": {},
   "outputs": [
    {
     "name": "stdout",
     "output_type": "stream",
     "text": [
      "Time taken : 1 milli seconds\n"
     ]
    },
    {
     "data": {
      "text/plain": [
       "\u001b[36mres\u001b[39m: \u001b[32mList\u001b[39m[\u001b[32mInt\u001b[39m] = \u001b[33mList\u001b[39m(\n",
       "  \u001b[32m10002\u001b[39m,\n",
       "  \u001b[32m10004\u001b[39m,\n",
       "  \u001b[32m10006\u001b[39m,\n",
       "  \u001b[32m10008\u001b[39m,\n",
       "  \u001b[32m10010\u001b[39m,\n",
       "  \u001b[32m10012\u001b[39m,\n",
       "  \u001b[32m10014\u001b[39m,\n",
       "  \u001b[32m10016\u001b[39m,\n",
       "  \u001b[32m10018\u001b[39m,\n",
       "  \u001b[32m10020\u001b[39m,\n",
       "  \u001b[32m10022\u001b[39m,\n",
       "  \u001b[32m10024\u001b[39m,\n",
       "  \u001b[32m10026\u001b[39m,\n",
       "  \u001b[32m10028\u001b[39m,\n",
       "  \u001b[32m10030\u001b[39m,\n",
       "  \u001b[32m10032\u001b[39m,\n",
       "  \u001b[32m10034\u001b[39m,\n",
       "  \u001b[32m10036\u001b[39m,\n",
       "  \u001b[32m10038\u001b[39m,\n",
       "  \u001b[32m10040\u001b[39m,\n",
       "  \u001b[32m10042\u001b[39m,\n",
       "  \u001b[32m10044\u001b[39m,\n",
       "  \u001b[32m10046\u001b[39m,\n",
       "  \u001b[32m10048\u001b[39m,\n",
       "  \u001b[32m10050\u001b[39m,\n",
       "  \u001b[32m10052\u001b[39m,\n",
       "  \u001b[32m10054\u001b[39m,\n",
       "  \u001b[32m10056\u001b[39m,\n",
       "  \u001b[32m10058\u001b[39m,\n",
       "  \u001b[32m10060\u001b[39m,\n",
       "  \u001b[32m10062\u001b[39m,\n",
       "  \u001b[32m10064\u001b[39m,\n",
       "  \u001b[32m10066\u001b[39m,\n",
       "  \u001b[32m10068\u001b[39m,\n",
       "  \u001b[32m10070\u001b[39m,\n",
       "  \u001b[32m10072\u001b[39m,\n",
       "  \u001b[32m10074\u001b[39m,\n",
       "  \u001b[32m10076\u001b[39m,\n",
       "..."
      ]
     },
     "execution_count": 46,
     "metadata": {},
     "output_type": "execute_result"
    }
   ],
   "source": [
    "// Calculate time taken\n",
    "val res = calculateTimeElapsed(addListsFunctor)(list1, list2)"
   ]
  },
  {
   "cell_type": "markdown",
   "id": "2eadecf0",
   "metadata": {},
   "source": [
    "## Problem 3 : Exercise\n",
    "\n",
    "Complete the gradeCalculator method below. The method returns grades according to the percentage of marks based on the following criteria: \n",
    "\n",
    "1. For 0 to 50 percentage, return \"Grade D\"\n",
    "2. For 51 to 75 percentage, return \"Grade C\"\n",
    "3. For 76 to 90 percentage, return \"Grade B\"\n",
    "4. For 91 to 100 percentage, return \"Grade A\""
   ]
  },
  {
   "cell_type": "code",
   "execution_count": 47,
   "id": "716fa1f3",
   "metadata": {},
   "outputs": [
    {
     "data": {
      "text/plain": [
       "defined \u001b[32mfunction\u001b[39m \u001b[36mgradeCalculator\u001b[39m"
      ]
     },
     "execution_count": 47,
     "metadata": {},
     "output_type": "execute_result"
    }
   ],
   "source": [
    "def gradeCalculator(p: Double): String = {\n",
    "    // BEGIN Solution\n",
    "    if (p >= 0 && p <= 50) \"Grade D\"\n",
    "    else if (p > 50 && p <= 75) \"Grade C\"\n",
    "    else if (p > 75 && p <= 90) \"Grade B\"\n",
    "    else \"Grade A\"\n",
    "    // END Solution\n",
    "}"
   ]
  },
  {
   "cell_type": "code",
   "execution_count": 48,
   "id": "c3216bfc",
   "metadata": {},
   "outputs": [],
   "source": [
    "assert(gradeCalculator(25)==\"Grade D\", \"Result should be 'Grade D'\")\n",
    "assert(gradeCalculator(55)==\"Grade C\", \"Result should be 'Grade C'\")\n",
    "assert(gradeCalculator(83)==\"Grade B\", \"Result should be 'Grade B'\")\n",
    "assert(gradeCalculator(97)==\"Grade A\", \"Result should be 'Grade A'\")"
   ]
  },
  {
   "cell_type": "markdown",
   "id": "71cb7118",
   "metadata": {},
   "source": [
    "## Problem 4: Example -  A flavour of Scala Class\n",
    "\n",
    "Let's create a restaurant menu and have a method for customers to order. \n",
    "\n",
    "We have a `Restaurant` class. \n",
    "\n",
    "It has list of the menu items, and a list with stock records.\n",
    "\n",
    "There is an incomplete "
   ]
  },
  {
   "cell_type": "code",
   "execution_count": 11,
   "id": "5fee9e33",
   "metadata": {},
   "outputs": [
    {
     "data": {
      "text/plain": [
       "defined \u001b[32mclass\u001b[39m \u001b[36mRestaurant\u001b[39m"
      ]
     },
     "execution_count": 11,
     "metadata": {},
     "output_type": "execute_result"
    }
   ],
   "source": [
    "/* Classes can have methods inside them */\n",
    "class Restaurant() {\n",
    "    \n",
    "    //available items\n",
    "    var menuItems = List(\"Chicken masala\", \"Paneer Briyani\", \"Lasagna\", \"Cheese Burger\")\n",
    "    var stock = List((\"Chicken masala\", 3, 20),(\"Paneer Briyani\", 4, 25), (\"Lasagna\", 5, 15), (\"Cheese Burger\", 10, 18))\n",
    "    \n",
    "    def placeOrder(name: String, spiceLevel: String, quantity: Int): Unit = {\n",
    "        /* Print the order */\n",
    "        // Assume that we always have the requested quantity available for simplicity\n",
    "        \n",
    "        var id : Int = -1\n",
    "        // Step 1: Find the index of the item requested\n",
    "        for (idx <- 0 to menuItems.length-1) {\n",
    "            if (menuItems(idx) == name) id = idx\n",
    "        }\n",
    "        if (id < 0) throw new Exception(\"Please provide an item from the menu provided..\")\n",
    "        \n",
    "        // Step 2: Calculate the total cost of the order\n",
    "        val total = quantity * stock(id)._3\n",
    "        \n",
    "        // Step 3: Update the stock available\n",
    "        val newQuantity = stock(id)._2 - quantity\n",
    "        stock = stock.updated(id, (stock(id)._1, newQuantity, stock(id)._3))\n",
    "        \n",
    "        println(s\"You ordered ${name}, with spice level ${spiceLevel} and ${quantity} plates\")\n",
    "        println(s\"Your Bill is ${total} dollars\")\n",
    "        println(s\"New Stock for ${name} is ${stock(id)._2}\")\n",
    "        \n",
    "    }    \n",
    "}"
   ]
  },
  {
   "cell_type": "code",
   "execution_count": 12,
   "id": "b577df20",
   "metadata": {},
   "outputs": [
    {
     "data": {
      "text/plain": [
       "\u001b[36mrest\u001b[39m: \u001b[32mRestaurant\u001b[39m = ammonite.$sess.cmd11$Helper$Restaurant@3a3b2a68"
      ]
     },
     "execution_count": 12,
     "metadata": {},
     "output_type": "execute_result"
    }
   ],
   "source": [
    "val rest = new Restaurant()"
   ]
  },
  {
   "cell_type": "code",
   "execution_count": 13,
   "id": "25615dca",
   "metadata": {},
   "outputs": [
    {
     "name": "stdout",
     "output_type": "stream",
     "text": [
      "You ordered Chicken masala, with spice level Medium and 1 plates\n",
      "Your Bill is 20 dollars\n",
      "New Stock for Chicken masala is 2\n"
     ]
    }
   ],
   "source": [
    "rest.placeOrder(\"Chicken masala\", \"Medium\", 1)"
   ]
  },
  {
   "cell_type": "code",
   "execution_count": 14,
   "id": "0efa51c0",
   "metadata": {},
   "outputs": [
    {
     "name": "stdout",
     "output_type": "stream",
     "text": [
      "You ordered Paneer Briyani, with spice level High and 2 plates\n",
      "Your Bill is 50 dollars\n",
      "New Stock for Paneer Briyani is 2\n"
     ]
    }
   ],
   "source": [
    "rest.placeOrder(\"Paneer Briyani\", \"High\", 2)"
   ]
  },
  {
   "cell_type": "code",
   "execution_count": 15,
   "id": "2ec83e46",
   "metadata": {},
   "outputs": [
    {
     "name": "stdout",
     "output_type": "stream",
     "text": [
      "You ordered Paneer Briyani, with spice level Medium and 1 plates\n",
      "Your Bill is 25 dollars\n",
      "New Stock for Paneer Briyani is 1\n"
     ]
    }
   ],
   "source": [
    "rest.placeOrder(\"Paneer Briyani\", \"Medium\", 1)"
   ]
  },
  {
   "cell_type": "code",
   "execution_count": 16,
   "id": "b04bd168",
   "metadata": {},
   "outputs": [
    {
     "ename": "java.lang.Exception",
     "evalue": "Please provide an item from the menu provided..",
     "output_type": "error",
     "traceback": [
      "\u001b[31mjava.lang.Exception: Please provide an item from the menu provided..\u001b[39m",
      "  ammonite.$sess.cmd11$Helper$Restaurant.placeOrder(\u001b[32mcmd11.sc\u001b[39m:\u001b[32m17\u001b[39m)",
      "  ammonite.$sess.cmd16$Helper.<init>(\u001b[32mcmd16.sc\u001b[39m:\u001b[32m1\u001b[39m)",
      "  ammonite.$sess.cmd16$.<clinit>(\u001b[32mcmd16.sc\u001b[39m:\u001b[32m7\u001b[39m)"
     ]
    }
   ],
   "source": [
    "rest.placeOrder(\"Not Listed\", \"Medium\", 1)"
   ]
  },
  {
   "cell_type": "markdown",
   "id": "9525b668",
   "metadata": {},
   "source": [
    "# That's all folks !!"
   ]
  }
 ],
 "metadata": {
  "kernelspec": {
   "display_name": "Scala",
   "language": "scala",
   "name": "scala"
  },
  "language_info": {
   "codemirror_mode": "text/x-scala",
   "file_extension": ".sc",
   "mimetype": "text/x-scala",
   "name": "scala",
   "nbconvert_exporter": "script",
   "version": "2.13.14"
  }
 },
 "nbformat": 4,
 "nbformat_minor": 5
}
