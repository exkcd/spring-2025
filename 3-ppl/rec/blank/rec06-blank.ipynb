{
 "cells": [
  {
   "cell_type": "markdown",
   "id": "24969d5a-7a90-4853-9ee6-e382a1afc7fa",
   "metadata": {},
   "source": [
    "# CSCI 3155 Spring 2025\n",
    "\n",
    "# Recitation Week 6\n",
    "\n",
    "## Higher Order Functions and Let Expressions\n",
    "\n",
    "In this recitation, we will first warm up our functional programming brains by working with higher order functions. Then, we will explore let expressions by:\n",
    "- Reading operational semantics rules,\n",
    "- Implementing them (writing an interpreter in scala), and\n",
    "- Writing our own rules."
   ]
  },
  {
   "cell_type": "markdown",
   "id": "f9f48917-7a8c-42bf-ac6a-a75bb4e22b1e",
   "metadata": {},
   "source": [
    "# Part 1: Higher Order Functions"
   ]
  },
  {
   "cell_type": "markdown",
   "id": "50f1bd50-fcb1-4408-aed4-236d8df0479f",
   "metadata": {},
   "source": [
    "## Anonymous Functions\n",
    "\n",
    "A useful prerequisite to higher order functions is anonymous functions. These are functions which are not named. An anonymous function provides a lightweight function definition, and is useful when we want to create an inline function.\n",
    "\n",
    "[Refer to the Scala doccumentation for more](https://docs.scala-lang.org/scala3/book/fun-anonymous-functions.html)"
   ]
  },
  {
   "cell_type": "code",
   "execution_count": 54,
   "id": "59d0c1d5-3083-4e9f-b875-b278b41d483f",
   "metadata": {},
   "outputs": [
    {
     "name": "stdout",
     "output_type": "stream",
     "text": [
      "It Worked!\n"
     ]
    },
    {
     "data": {
      "text/plain": [
       "defined \u001b[32mfunction\u001b[39m \u001b[36mis_one_method\u001b[39m"
      ]
     },
     "execution_count": 54,
     "metadata": {},
     "output_type": "execute_result"
    }
   ],
   "source": [
    "// Returns true if input is 1, false otherwise\n",
    "// A named function\n",
    "def is_one_method(x: Int): Boolean = {\n",
    "    (x==1)\n",
    "}\n",
    "assert(is_one_method(1))\n",
    "assert(!is_one_method(2))\n",
    "println(\"It Worked!\")"
   ]
  },
  {
   "cell_type": "code",
   "execution_count": 83,
   "id": "6becfd9d-155e-430e-8059-73ac62046e05",
   "metadata": {},
   "outputs": [
    {
     "name": "stdout",
     "output_type": "stream",
     "text": [
      "It Worked!\n"
     ]
    },
    {
     "data": {
      "text/plain": [
       "\u001b[36mis_one_val\u001b[39m: \u001b[32mInt\u001b[39m => \u001b[32mBoolean\u001b[39m = ammonite.$sess.cmd83$Helper$$Lambda/0x000001fc01938818@4b858803"
      ]
     },
     "execution_count": 83,
     "metadata": {},
     "output_type": "execute_result"
    }
   ],
   "source": [
    "// another way to define functions\n",
    "// function value (not quite anonymous)\n",
    "// stored to a val named is_one_val\n",
    "val is_one_val: (Int) => Boolean = x => (x == 1)\n",
    "assert(is_one_val(1))\n",
    "assert(!is_one_val(2))\n",
    "println(\"It Worked!\")"
   ]
  },
  {
   "cell_type": "code",
   "execution_count": 56,
   "id": "e7856423-6592-4d17-8ea8-47e94dc890f7",
   "metadata": {},
   "outputs": [
    {
     "name": "stdout",
     "output_type": "stream",
     "text": [
      "It Worked!\n"
     ]
    }
   ],
   "source": [
    "// An ANONYMOUS FUNCTION\n",
    "// never stored to a val\n",
    "assert(({ (x: Int) => x == 1 })(1))\n",
    "assert(!({ (x: Int) => x == 1 })(2))\n",
    "println(\"It Worked!\")"
   ]
  },
  {
   "cell_type": "code",
   "execution_count": 57,
   "id": "c94e9099-2229-485f-abd6-ce595975890f",
   "metadata": {},
   "outputs": [
    {
     "name": "stdout",
     "output_type": "stream",
     "text": [
      "It Worked!\n"
     ]
    },
    {
     "data": {
      "text/plain": [
       "\u001b[36mis_one_pattern\u001b[39m: \u001b[32mInt\u001b[39m => \u001b[32mBoolean\u001b[39m = ammonite.$sess.cmd57$Helper$$Lambda/0x000001fc018fb450@5f668401"
      ]
     },
     "execution_count": 57,
     "metadata": {},
     "output_type": "execute_result"
    }
   ],
   "source": [
    "// function value\n",
    "// new: pattern matching\n",
    "// Returns true if input is 1, false otherwise *using patterrn matching*\n",
    "val is_one_pattern: (Int) => Boolean = {\n",
    "    case 1 => true\n",
    "    case _ => false\n",
    "}\n",
    "assert(is_one_pattern(1))\n",
    "assert(!is_one_pattern(2))\n",
    "println(\"It Worked!\")"
   ]
  },
  {
   "cell_type": "code",
   "execution_count": 84,
   "id": "cde8e31b-4e6e-4665-b2ea-9fc4b4dec8e5",
   "metadata": {},
   "outputs": [
    {
     "name": "stdout",
     "output_type": "stream",
     "text": [
      "It Worked!\n",
      "It Worked!\n"
     ]
    },
    {
     "data": {
      "text/plain": [
       "\u001b[36madd\u001b[39m: (\u001b[32mInt\u001b[39m, \u001b[32mInt\u001b[39m) => \u001b[32mInt\u001b[39m = ammonite.$sess.cmd84$Helper$$Lambda/0x000001fc01939d48@7da57ea2"
      ]
     },
     "execution_count": 84,
     "metadata": {},
     "output_type": "execute_result"
    }
   ],
   "source": [
    "// new: multi-parameter\n",
    "// Returns the addition of the inputs\n",
    "val add: (Int, Int) => Int = (x, y) => x + y\n",
    "assert(add(1,2) == 3)\n",
    "\n",
    "assert(add(3,4) == 7)\n",
    "println(\"It Worked!\")\n",
    "\n",
    "// anonymous version\n",
    "assert(({(x: Int, y: Int) => x + y})(1,2) == 3)\n",
    "println(\"It Worked!\")"
   ]
  },
  {
   "cell_type": "markdown",
   "id": "e80d2c33-5713-4e6c-b236-aa15ff90471a",
   "metadata": {},
   "source": [
    "## Higher Ordered Functions\n",
    "\n",
    "A **higher-order function (HOF)** is defined as a function that\n",
    "1. takes other functions as input parameters **and/or**\n",
    "2. returns a function as a result.\n",
    "\n",
    "In Scala, **HOF**s are possible because functions are first-class values. A function is a first-class value or citizen when you can do the following:\n",
    "1. Assign a function to a variable.\n",
    "2. Pass a function as an argument to another function.\n",
    "3. Return a function from other functions.\n",
    "\n",
    "Some **HOF**s are: \n",
    "1. map\n",
    "2. filter\n",
    "3. foldLeft\n",
    "\n",
    "We have encountered all of these in recitation and/or lecture.\n",
    "\n",
    "### An example"
   ]
  },
  {
   "cell_type": "code",
   "execution_count": 90,
   "id": "e80c197c-b4a6-493b-9051-875a6a59170b",
   "metadata": {},
   "outputs": [
    {
     "name": "stdout",
     "output_type": "stream",
     "text": [
      "It Worked!\n"
     ]
    },
    {
     "data": {
      "text/plain": [
       "defined \u001b[32mfunction\u001b[39m \u001b[36mdoBinOp\u001b[39m"
      ]
     },
     "execution_count": 90,
     "metadata": {},
     "output_type": "execute_result"
    }
   ],
   "source": [
    "def doBinOp (x: Int, y: Int, binOp: (Int, Int) => Int): Int = {\n",
    "    binOp(x, y)\n",
    "}\n",
    "assert(doBinOp(3,4, add) == 7)\n",
    "println(\"It Worked!\")"
   ]
  },
  {
   "cell_type": "markdown",
   "id": "09f6f5e9-80c8-430e-bcdc-0749bb12b2f1",
   "metadata": {},
   "source": [
    "## Map, Filter and Fold (Reduce)\n",
    "\n",
    "In functional programming, we tend to avoid loops and replace it with tail recursive functions. \n",
    "\n",
    "Another mechanism to avoid loops that we will now study is higher order functions such as \"**map**\", \"**filter**\" and \"**fold**\". These allow us to manipulate lists and other data structures which are collections of objects.\n",
    "\n",
    "- **map**: apply a function f to every element of a list.\n",
    "- **filter**: keep just the elements of the list that satisfy a \"predicate\"\n",
    "- **fold** (or **reduce**): perform an accumulative operation to every element of the list."
   ]
  },
  {
   "cell_type": "markdown",
   "id": "e0d2ca90-cfc2-44fb-aa47-c3e07ba5b466",
   "metadata": {},
   "source": [
    "## map\n",
    "\n",
    "The idea of a map operation is to apply a function $f$ to every member of a container (eg., list, array, map, etc.) and return a new container which is every element of the input with $f$ applied.\n",
    "\n",
    "## Exercise 1a\n",
    "\n",
    "We have a list `List(1, 3, 4, 5, 6, 110, 12, 2)`. We wish to compute the square of each element in the list and make a new list with the result. Use map to write this function."
   ]
  },
  {
   "cell_type": "code",
   "execution_count": 111,
   "id": "e6a088ab-8997-42c1-a8f1-263ced6420ff",
   "metadata": {},
   "outputs": [
    {
     "data": {
      "text/plain": [
       "defined \u001b[32mfunction\u001b[39m \u001b[36msquareEachElt\u001b[39m"
      ]
     },
     "execution_count": 111,
     "metadata": {},
     "output_type": "execute_result"
    }
   ],
   "source": [
    "def squareEachElt(l: List[Int]): List[Int] = ???"
   ]
  },
  {
   "cell_type": "code",
   "execution_count": 112,
   "id": "9c359b55-8afb-4cd1-9a1c-c2664bc7cfbf",
   "metadata": {},
   "outputs": [
    {
     "ename": "scala.NotImplementedError",
     "evalue": "an implementation is missing",
     "output_type": "error",
     "traceback": [
      "\u001b[31mscala.NotImplementedError: an implementation is missing\u001b[39m",
      "  scala.Predef$.$qmark$qmark$qmark(\u001b[32mPredef.scala\u001b[39m:\u001b[32m344\u001b[39m)",
      "  ammonite.$sess.cmd111$Helper.squareEachElt(\u001b[32mcmd111.sc\u001b[39m:\u001b[32m1\u001b[39m)",
      "  ammonite.$sess.cmd112$Helper.<init>(\u001b[32mcmd112.sc\u001b[39m:\u001b[32m7\u001b[39m)",
      "  ammonite.$sess.cmd112$.<clinit>(\u001b[32mcmd112.sc\u001b[39m:\u001b[32m7\u001b[39m)"
     ]
    }
   ],
   "source": [
    "val l1 = List(10)\n",
    "val l1Squared = List(100)\n",
    "\n",
    "val l2 = List(1, 3, 4, 5, 6, 110, 12, 2)\n",
    "val l2Squared = List(1, 9, 16, 25, 36, 12100, 144, 4)\n",
    "\n",
    "assert(l1Squared == squareEachElt(l1))\n",
    "assert(l2Squared == squareEachElt(l2))\n",
    "println(\"It Worked!\")"
   ]
  },
  {
   "cell_type": "markdown",
   "id": "8eda5f7a-df5f-4c47-b0f0-e9bc17a7ba5d",
   "metadata": {},
   "source": [
    "## filter\n",
    "\n",
    "The idea of a filter operation is to apply a function $f$ (which returns a boolean) to every member of a container. It returns a new container which is exactly the items which when passed to $f$ return true. \n",
    "\n",
    "## Exercise 1b\n",
    "\n",
    "We have a list `List(1, 3, 4, 5, 6, 110, 12, 2)`. We wish to obtain a new list which includes all items that are greater than or equal to 5. Use filter to write this function."
   ]
  },
  {
   "cell_type": "code",
   "execution_count": 113,
   "id": "4e591c7f-320a-4f7a-b9c2-e59275e31bdc",
   "metadata": {},
   "outputs": [
    {
     "data": {
      "text/plain": [
       "defined \u001b[32mfunction\u001b[39m \u001b[36mkeepIfGt5\u001b[39m"
      ]
     },
     "execution_count": 113,
     "metadata": {},
     "output_type": "execute_result"
    }
   ],
   "source": [
    "def keepIfGt5(l : List[Int]) : List[Int] = ???"
   ]
  },
  {
   "cell_type": "code",
   "execution_count": 114,
   "id": "0b2e18b5-ccfc-4b99-9fbc-cae19ba0262d",
   "metadata": {},
   "outputs": [
    {
     "ename": "scala.NotImplementedError",
     "evalue": "an implementation is missing",
     "output_type": "error",
     "traceback": [
      "\u001b[31mscala.NotImplementedError: an implementation is missing\u001b[39m",
      "  scala.Predef$.$qmark$qmark$qmark(\u001b[32mPredef.scala\u001b[39m:\u001b[32m344\u001b[39m)",
      "  ammonite.$sess.cmd113$Helper.keepIfGt5(\u001b[32mcmd113.sc\u001b[39m:\u001b[32m1\u001b[39m)",
      "  ammonite.$sess.cmd114$Helper.<init>(\u001b[32mcmd114.sc\u001b[39m:\u001b[32m7\u001b[39m)",
      "  ammonite.$sess.cmd114$.<clinit>(\u001b[32mcmd114.sc\u001b[39m:\u001b[32m7\u001b[39m)"
     ]
    }
   ],
   "source": [
    "val l1 = List(10)\n",
    "val l1gt = List(10)\n",
    "\n",
    "val l2 = List(1, 3, 4, 5, 6, 110, 12, 2)\n",
    "val l2gt = List(5, 6, 110, 12)\n",
    "\n",
    "assert(l1gt == keepIfGt5(l1))\n",
    "assert(l2gt == keepIfGt5(l2))\n",
    "println(\"It Worked!\")"
   ]
  },
  {
   "cell_type": "markdown",
   "id": "c8424d03-d7df-4629-b8ed-86a80fa90f08",
   "metadata": {},
   "source": [
    "## fold\n",
    "\n",
    "The idea of a fold operation is to apply a function $f$ (which takes two parameters) to every member of a collection in order. The return value from one application gets passed as a parameter to $f$ for the next member (the other parameter is the member itself). Given an initial value, when $f$ has been applied to every member, we are left with the final return value.\n",
    "\n",
    "## Exercise 1c\n",
    "Given a list of number 1 to $n$: `List(1, 2, ..., n)`. We wish to compute the factorial of $n$ using `foldLeft`. Assume the list is constructed correctly."
   ]
  },
  {
   "cell_type": "code",
   "execution_count": 115,
   "id": "00740132-13e6-4da5-9ef2-2738a89a7799",
   "metadata": {},
   "outputs": [
    {
     "data": {
      "text/plain": [
       "defined \u001b[32mfunction\u001b[39m \u001b[36mmyFact\u001b[39m"
      ]
     },
     "execution_count": 115,
     "metadata": {},
     "output_type": "execute_result"
    }
   ],
   "source": [
    "def myFact(l : List[Int]) : Int = ???"
   ]
  },
  {
   "cell_type": "code",
   "execution_count": 116,
   "id": "e4c592f8-2bd1-4170-9296-bf9cd52aeb7e",
   "metadata": {},
   "outputs": [
    {
     "ename": "scala.NotImplementedError",
     "evalue": "an implementation is missing",
     "output_type": "error",
     "traceback": [
      "\u001b[31mscala.NotImplementedError: an implementation is missing\u001b[39m",
      "  scala.Predef$.$qmark$qmark$qmark(\u001b[32mPredef.scala\u001b[39m:\u001b[32m344\u001b[39m)",
      "  ammonite.$sess.cmd115$Helper.myFact(\u001b[32mcmd115.sc\u001b[39m:\u001b[32m1\u001b[39m)",
      "  ammonite.$sess.cmd116$Helper.<init>(\u001b[32mcmd116.sc\u001b[39m:\u001b[32m1\u001b[39m)",
      "  ammonite.$sess.cmd116$.<clinit>(\u001b[32mcmd116.sc\u001b[39m:\u001b[32m7\u001b[39m)"
     ]
    }
   ],
   "source": [
    "assert(120 == myFact( (1 to 5).toList ))\n",
    "println(\"It Worked!\")"
   ]
  },
  {
   "cell_type": "markdown",
   "id": "5a57901c-6af7-4544-ad64-6bdeba664a11",
   "metadata": {},
   "source": [
    "# Part 2: Let Expressions with Value Environment"
   ]
  },
  {
   "cell_type": "markdown",
   "id": "7c13ea85-259f-4aa9-a177-38f191bfe1a8",
   "metadata": {},
   "source": [
    "## Let Bindings\n",
    "\n",
    "Below is a sample lettuce program\n",
    "\n",
    "```\n",
    "let x = 3 in \n",
    "    let y = 2 in \n",
    "        if x >= y \n",
    "            x\n",
    "        else \n",
    "            y\n",
    "```\n",
    "\n",
    "What is the result of this program?"
   ]
  },
  {
   "cell_type": "markdown",
   "id": "e8e9f62f-af4d-471e-b0a5-2427194d85c2",
   "metadata": {},
   "source": [
    "We have operational semantics for `Ident` and `Let` that tells us how to evaluate the above program.\n",
    "Let's read and understand them\n",
    "\n",
    "## Grammar\n",
    "$$\\begin{array}{rcll}\n",
    "\\mathbf{Expr} & \\rightarrow & Const(\\mathbf{Number}) \\\\\n",
    " & | & Ident(\\mathbf{Identifier}) \\\\\n",
    " & | & Plus(\\mathbf{Expr}, \\mathbf{Expr}) \\\\\n",
    " & | & Geq (\\mathbf{Expr}, \\mathbf{Expr}) \\\\\n",
    "& | & IfThenElse(\\mathbf{Expr}, \\mathbf{Expr}, \\mathbf{Expr}) & \\text{if (expr) then expr else expr} \\\\\n",
    " & | & Let( \\mathbf{Identifier}, \\mathbf{Expr}, \\mathbf{Expr}) & \\text{let identifier = expr in expr} \\\\\n",
    "\\end{array}$$\n",
    "\n",
    "\n",
    "## Rules for Let\n",
    "\n",
    "$$\\begin{array}{c} \n",
    "eval(\\texttt{e1}, \\sigma) = v_1,\\ v_1 \\not= \\mathbf{error}\\;\\; eval(\\texttt{e2},  {\\sigma[x \\mapsto v_1]}) = v_2,\\ \\;\\; v_2 \\not= \\mathbf{error}\\\\\n",
    "\\hline\n",
    "eval(\\texttt{Let(x,e1, e2)}, \\sigma) = v_2\\\\\n",
    "\\end{array} \\text{(let-binding-ok)} $$\n",
    "\n",
    "The most important part of the rule above is notice that $\\texttt{e2}$ is being evaluated under\n",
    "$\\color{red}{\\sigma[ x \\mapsto v_1]}$, which is the environment $\\sigma$ extended with $x$ bound to $v_1$.\n",
    "\n",
    "$$\\begin{array}{c} \n",
    "eval(\\texttt{e1}, \\sigma) =  \\mathbf{error}\\\\\n",
    "\\hline\n",
    "eval(\\texttt{Let(x,e1, e2)}, \\sigma) = \\mathbf{error}\\\\\n",
    "\\end{array} \\text{(let-binding-nok-1)}\n",
    "\\\\\n",
    "\\begin{array}{c} \n",
    "eval(\\texttt{e1}, \\sigma) =  v_1,\\; v_1 \\not= \\mathbf{error}\\; eval(\\texttt{e2}, \\sigma[x \\mapsto v_1]) =  \\mathbf{error}\\\\\n",
    "\\hline\n",
    "eval(\\texttt{Let(x, e1, e2)}, \\sigma) = \\mathbf{error}\\\\\n",
    "\\end{array} \\text{(let-binding-nok-2)}$$"
   ]
  },
  {
   "cell_type": "markdown",
   "id": "4756c70c-1079-4c71-bdfe-fb29e09cfd3e",
   "metadata": {},
   "source": [
    "## Environment\n",
    "\n",
    "- $\\sigma$ refers to an environment that maps names of identifiers to their values.\n",
    "- $\\text{domain}(\\sigma)$ refers to the domain of $\\sigma$.\n",
    "- $\\emptyset$ will refer to the empty environment in which no identifier is defined.\n",
    "- If $\\sigma$ is an environment, then $\\sigma[x \\mapsto v]$ is a new environment in which the identifier $x$ is mapped to the value $v$.\n",
    "\n",
    "\n",
    "For our implementation today, we will use `Map[String, Value]` as an implementation of *Environment* to help us write `eval` function for Lettuce"
   ]
  },
  {
   "cell_type": "markdown",
   "id": "4609d8a2-a50f-42d2-aae7-9a4e1cd97bcc",
   "metadata": {},
   "source": [
    "### What is **error**?\n",
    "\n",
    "**error** is value that will indicate an error evaluation. We will use this whenever we come across a expression we consider to be invalid.\n",
    "For our implementation we will throw an exception `throw new IllegalArgumentException(s)`."
   ]
  },
  {
   "cell_type": "markdown",
   "id": "5d0c948c-fbdd-4e66-a2f0-d6b0204721c9",
   "metadata": {},
   "source": [
    "## Rules for Ident\n",
    "$$\\begin{array}{c}\n",
    "x \\in \\text{domain}(\\sigma) \\\\\n",
    "\\hline\n",
    "eval(\\texttt{Ident(x)}, \\sigma) = \\sigma(\\texttt{x}) \\\\\n",
    "\\end{array} \\text{(ident-ok-rule)}\\ \\;\\;\\; \\begin{array}{c}\n",
    "x \\not\\in \\text{domain}(\\sigma) \\\\\n",
    "\\hline\n",
    "eval(\\texttt{Ident(x)}, \\sigma) = \\mathbf{error} \\\\\n",
    "\\end{array} \\text{(ident-nok-rule)} $$"
   ]
  },
  {
   "cell_type": "markdown",
   "id": "9ffeb27a-39c4-46ac-bcbc-8a8b02310758",
   "metadata": {},
   "source": [
    "## Definitions"
   ]
  },
  {
   "cell_type": "code",
   "execution_count": 80,
   "id": "2fbe8026-b213-47fa-964b-884c3fa82079",
   "metadata": {},
   "outputs": [
    {
     "data": {
      "text/plain": [
       "defined \u001b[32mtrait\u001b[39m \u001b[36mValue\u001b[39m\n",
       "defined \u001b[32mclass\u001b[39m \u001b[36mNumValue\u001b[39m\n",
       "defined \u001b[32mclass\u001b[39m \u001b[36mBoolValue\u001b[39m\n",
       "defined \u001b[32mtrait\u001b[39m \u001b[36mExpr\u001b[39m\n",
       "defined \u001b[32mclass\u001b[39m \u001b[36mConst\u001b[39m\n",
       "defined \u001b[32mclass\u001b[39m \u001b[36mIdent\u001b[39m\n",
       "defined \u001b[32mclass\u001b[39m \u001b[36mPlus\u001b[39m\n",
       "defined \u001b[32mclass\u001b[39m \u001b[36mGeq\u001b[39m\n",
       "defined \u001b[32mclass\u001b[39m \u001b[36mIfThenElse\u001b[39m\n",
       "defined \u001b[32mclass\u001b[39m \u001b[36mLet\u001b[39m\n",
       "defined \u001b[32mtype\u001b[39m \u001b[36mEnvironment\u001b[39m"
      ]
     },
     "execution_count": 80,
     "metadata": {},
     "output_type": "execute_result"
    }
   ],
   "source": [
    "sealed trait Value \n",
    "case class NumValue(d: Double) extends Value\n",
    "case class BoolValue(b: Boolean) extends Value\n",
    "// We many times use a ErrorValue for wrapping error cases, for our use we will skip it\n",
    "\n",
    "sealed trait Expr\n",
    "\n",
    "case class Const(v: Double) extends Expr // Expr -> Const(v)\n",
    "case class Ident(s: String) extends Expr // Expr -> Ident(s)\n",
    "\n",
    "// Arithmetic Expressions\n",
    "case class Plus(e1: Expr, e2: Expr) extends Expr // Expr -> Plus(Expr, Expr)\n",
    "\n",
    "// Boolean Expressions\n",
    "case class Geq(e1: Expr, e2:Expr) extends Expr\n",
    "\n",
    "//If then else\n",
    "case class IfThenElse(e: Expr, eIf: Expr, eElse: Expr) extends Expr\n",
    "\n",
    "//Let bindings\n",
    "case class Let(s: String, defExpr: Expr, bodyExpr: Expr) extends Expr\n",
    "\n",
    "type Environment = Map[String, Value]"
   ]
  },
  {
   "cell_type": "code",
   "execution_count": 87,
   "id": "3aa3a699-4cdc-481e-bb84-3e6e6523168d",
   "metadata": {},
   "outputs": [
    {
     "data": {
      "text/plain": [
       "\u001b[36mp1\u001b[39m: \u001b[32mLet\u001b[39m = \u001b[33mLet\u001b[39m(\n",
       "  s = \u001b[32m\"x\"\u001b[39m,\n",
       "  defExpr = \u001b[33mConst\u001b[39m(v = \u001b[32m3.0\u001b[39m),\n",
       "  bodyExpr = \u001b[33mLet\u001b[39m(\n",
       "    s = \u001b[32m\"y\"\u001b[39m,\n",
       "    defExpr = \u001b[33mConst\u001b[39m(v = \u001b[32m2.0\u001b[39m),\n",
       "    bodyExpr = \u001b[33mIfThenElse\u001b[39m(\n",
       "      e = \u001b[33mGeq\u001b[39m(e1 = \u001b[33mIdent\u001b[39m(s = \u001b[32m\"x\"\u001b[39m), e2 = \u001b[33mIdent\u001b[39m(s = \u001b[32m\"y\"\u001b[39m)),\n",
       "      eIf = \u001b[33mIdent\u001b[39m(s = \u001b[32m\"x\"\u001b[39m),\n",
       "      eElse = \u001b[33mIdent\u001b[39m(s = \u001b[32m\"y\"\u001b[39m)\n",
       "    )\n",
       "  )\n",
       ")\n",
       "\u001b[36mp2\u001b[39m: \u001b[32mLet\u001b[39m = \u001b[33mLet\u001b[39m(\n",
       "  s = \u001b[32m\"x\"\u001b[39m,\n",
       "  defExpr = \u001b[33mConst\u001b[39m(v = \u001b[32m3.0\u001b[39m),\n",
       "  bodyExpr = \u001b[33mLet\u001b[39m(\n",
       "    s = \u001b[32m\"x\"\u001b[39m,\n",
       "    defExpr = \u001b[33mPlus\u001b[39m(e1 = \u001b[33mIdent\u001b[39m(s = \u001b[32m\"x\"\u001b[39m), e2 = \u001b[33mConst\u001b[39m(v = \u001b[32m1.0\u001b[39m)),\n",
       "    bodyExpr = \u001b[33mIdent\u001b[39m(s = \u001b[32m\"x\"\u001b[39m)\n",
       "  )\n",
       ")\n",
       "\u001b[36mp3\u001b[39m: \u001b[32mLet\u001b[39m = \u001b[33mLet\u001b[39m(\n",
       "  s = \u001b[32m\"x\"\u001b[39m,\n",
       "  defExpr = \u001b[33mPlus\u001b[39m(e1 = \u001b[33mIdent\u001b[39m(s = \u001b[32m\"x\"\u001b[39m), e2 = \u001b[33mConst\u001b[39m(v = \u001b[32m3.0\u001b[39m)),\n",
       "  bodyExpr = \u001b[33mLet\u001b[39m(\n",
       "    s = \u001b[32m\"x\"\u001b[39m,\n",
       "    defExpr = \u001b[33mPlus\u001b[39m(e1 = \u001b[33mIdent\u001b[39m(s = \u001b[32m\"x\"\u001b[39m), e2 = \u001b[33mConst\u001b[39m(v = \u001b[32m1.0\u001b[39m)),\n",
       "    bodyExpr = \u001b[33mIdent\u001b[39m(s = \u001b[32m\"x\"\u001b[39m)\n",
       "  )\n",
       ")"
      ]
     },
     "execution_count": 87,
     "metadata": {},
     "output_type": "execute_result"
    }
   ],
   "source": [
    "// Our Programs for future re-use\n",
    "val p1 = Let(\"x\", Const(3.0),\n",
    "             Let(\"y\", Const(2.0),\n",
    "                 IfThenElse(Geq(Ident(\"x\"), Ident(\"y\")), Ident(\"x\"), Ident(\"y\"))\n",
    "                 )\n",
    "             )\n",
    "\n",
    "val p2 = Let(\"x\", Const(3.0),\n",
    "             Let(\"x\", Plus(Ident(\"x\"), Const(1.0)),\n",
    "               Ident(\"x\")\n",
    "            )\n",
    "         )\n",
    "\n",
    "val p3 = Let(\"x\", Plus(Ident(\"x\"), Const(3.0)),\n",
    "                 Let(\"x\", Plus(Ident(\"x\"), Const(1.0)),\n",
    "                     Ident(\"x\")\n",
    "                 )\n",
    "         )\n",
    "         "
   ]
  },
  {
   "cell_type": "code",
   "execution_count": 92,
   "id": "73a09dfa-cbdb-4e47-8120-321b0c111f5b",
   "metadata": {},
   "outputs": [
    {
     "data": {
      "text/plain": [
       "defined \u001b[32mtype\u001b[39m \u001b[36mEval\u001b[39m\n",
       "defined \u001b[32mfunction\u001b[39m \u001b[36mgetEvalExpr\u001b[39m\n",
       "defined \u001b[32mfunction\u001b[39m \u001b[36mevalIdent1\u001b[39m"
      ]
     },
     "execution_count": 92,
     "metadata": {},
     "output_type": "execute_result"
    }
   ],
   "source": [
    "// Convenience functions for allowing modular implementation\n",
    "type Eval = (Expr, Environment) => Value\n",
    "\n",
    "def getEvalExpr(evalLet: (Expr, Environment, Eval) => Value, evalIdent: (Expr, Environment, Eval) => Value): Eval = {\n",
    "    def evalExpr(e: Expr, env: Environment) : Value = e match {\n",
    "        case Const(f) => NumValue(f)\n",
    "\n",
    "        case Ident(x) => evalIdent(e, env, evalExpr)\n",
    "\n",
    "        case Plus(e1, e2) => (evalExpr(e1, env), evalExpr(e2, env)) match {\n",
    "                case (NumValue(n1), NumValue(n2)) => NumValue(n1 + n2)\n",
    "                case _ => throw new IllegalArgumentException(\"Plus on non-number\")\n",
    "        }\n",
    "\n",
    "        case Geq(e1, e2) => (evalExpr(e1, env), evalExpr(e2, env)) match {\n",
    "            case (NumValue(n1), NumValue(n2)) => BoolValue( n1 >= n2)\n",
    "            case _ => throw new IllegalArgumentException(\"Geq on non-number\")\n",
    "        }\n",
    "\n",
    "        case IfThenElse(e1, e2, e3) => {\n",
    "            val v = evalExpr(e1, env)\n",
    "            v match {\n",
    "                case BoolValue(true) => evalExpr(e2, env)\n",
    "                case BoolValue(false) => evalExpr(e3, env)\n",
    "                case _ => throw new IllegalArgumentException(s\"If-then-else condition expr: ${e1} is non-boolean -- evaluates to ${v}\")\n",
    "            }\n",
    "        }\n",
    "        case e @ Let(_, _, _) => evalLet(e, env, evalExpr)\n",
    "        case _ => throw new IllegalArgumentException(\"Not supported\")\n",
    "    }\n",
    "    \n",
    "    evalExpr\n",
    "}\n",
    "\n",
    "def evalIdent1(identExpr : Expr, env: Environment, evalExpr: (Expr, Environment) => Value): Value = identExpr match {\n",
    "    case Ident(x) => if (env contains x) env(x) else throw new IllegalArgumentException(\"Ill-formed\")\n",
    "    case _ => throw new IllegalArgumentException(\"Not a Let Expression\")\n",
    "}"
   ]
  },
  {
   "cell_type": "markdown",
   "id": "59210dc1-abb3-4d43-b923-41e26ef0ada7",
   "metadata": {},
   "source": [
    "## Exercise 2a\n",
    "\n",
    "What is the value of the following programs according to the operational semantics defined above? Assume the typical semantics of plus, if-then-else, and $\\ge$.\n",
    "\n",
    "### Program 1\n",
    "```ocaml\n",
    "let x = 3 in \n",
    "    let y = 2 in \n",
    "        if x >= y \n",
    "            x\n",
    "        else \n",
    "            y\n",
    "```\n",
    "Expected Value: ???\n",
    "\n",
    "### Program 2\n",
    "```ocaml\n",
    "let x = 3 in \n",
    "    let x = x + 1 in\n",
    "        x\n",
    "```\n",
    "\n",
    "Expected Value: ???\n",
    "### Program 3\n",
    "```ocaml\n",
    "let x = x + 3 in \n",
    "    let x = x + 1 in\n",
    "        x\n",
    "```\n",
    "\n",
    "Expected Value: ???\n",
    "\n",
    "An exercise for the enthusiatic reader: What operational semantics did you implicitly assume in order to answer the above question? Write them out."
   ]
  },
  {
   "cell_type": "markdown",
   "id": "24154910-8d6d-4892-bbaa-30b0358b6b06",
   "metadata": {},
   "source": [
    "## Exercise 2b\n",
    "\n",
    "Implement the semantics of `let` according to the operational semantics above."
   ]
  },
  {
   "cell_type": "code",
   "execution_count": 117,
   "id": "4d3dc322-199f-4e1d-b2e2-bc7711e2b970",
   "metadata": {},
   "outputs": [
    {
     "data": {
      "text/plain": [
       "defined \u001b[32mfunction\u001b[39m \u001b[36mevalLet1\u001b[39m"
      ]
     },
     "execution_count": 117,
     "metadata": {},
     "output_type": "execute_result"
    }
   ],
   "source": [
    "def evalLet1(letExpr: Expr, env: Environment, evalExpr: (Expr, Environment) => Value): Value = letExpr match {\n",
    "    case Let(x, e1, e2) => ???\n",
    "    case _ => throw new IllegalArgumentException(\"Not a Let Expression\")\n",
    "}"
   ]
  },
  {
   "cell_type": "code",
   "execution_count": 118,
   "id": "8c4784fa-c15a-4728-b88f-593186b407ea",
   "metadata": {},
   "outputs": [
    {
     "ename": "scala.NotImplementedError",
     "evalue": "an implementation is missing",
     "output_type": "error",
     "traceback": [
      "\u001b[31mscala.NotImplementedError: an implementation is missing\u001b[39m",
      "  scala.Predef$.$qmark$qmark$qmark(\u001b[32mPredef.scala\u001b[39m:\u001b[32m344\u001b[39m)",
      "  ammonite.$sess.cmd117$Helper.evalLet1(\u001b[32mcmd117.sc\u001b[39m:\u001b[32m2\u001b[39m)",
      "  ammonite.$sess.cmd118$Helper.$anonfun$evalExpr$1(\u001b[32mcmd118.sc\u001b[39m:\u001b[32m1\u001b[39m)",
      "  ammonite.$sess.cmd92$Helper.evalExpr$1(\u001b[32mcmd92.sc\u001b[39m:\u001b[32m28\u001b[39m)",
      "  ammonite.$sess.cmd92$Helper.$anonfun$getEvalExpr$3(\u001b[32mcmd92.sc\u001b[39m:\u001b[32m32\u001b[39m)",
      "  ammonite.$sess.cmd118$Helper.<init>(\u001b[32mcmd118.sc\u001b[39m:\u001b[32m2\u001b[39m)",
      "  ammonite.$sess.cmd118$.<clinit>(\u001b[32mcmd118.sc\u001b[39m:\u001b[32m7\u001b[39m)"
     ]
    }
   ],
   "source": [
    "val evalExpr: Eval = getEvalExpr(evalLet1, evalIdent1)\n",
    "assert(evalExpr(p1, Map.empty) == NumValue(3.0))\n",
    "assert(evalExpr(p2, Map.empty) == NumValue(4.0))\n",
    "try {\n",
    "    evalExpr(p3, Map.empty)\n",
    "    assert(false)\n",
    "} catch {\n",
    "    case e : IllegalArgumentException => if (e.getMessage == \"Ill-formed\") assert(true) else assert(false)\n",
    "}\n",
    "println(\"It Worked!\")"
   ]
  },
  {
   "cell_type": "markdown",
   "id": "ace77662-498a-49e6-8435-425889e03ae8",
   "metadata": {},
   "source": [
    "## Exercise 2c\n",
    "\n",
    "Now, we wish alter the semantics so the default value of all identifiers is 0. This means that Program 3 will not result in an error, and instead result in the value 4. We will achieve this updating the rules for `Ident`. Do so below.\n",
    "\n",
    "\n",
    "$$\\begin{array}{c}\n",
    "??? \\\\\n",
    "\\hline\n",
    "eval(\\texttt{Ident(x)}, \\sigma) = ??? \\\\\n",
    "\\end{array} \\text{(ident-rule-1)}\\ \\;\\;\\; \\begin{array}{c}\n",
    "??? \\\\\n",
    "\\hline\n",
    "eval(\\texttt{Ident(x)}, \\sigma) = ??? \\\\\n",
    "\\end{array} \\text{(ident-rule-2)} $$"
   ]
  },
  {
   "cell_type": "markdown",
   "id": "3a75e4f6-91b7-48c2-9e7a-2266efd915f0",
   "metadata": {},
   "source": [
    "## Exercise 2d\n",
    "\n",
    "Now, implement this rule to update our interpreter."
   ]
  },
  {
   "cell_type": "code",
   "execution_count": 119,
   "id": "40ed86fa-7d5f-46a9-98b7-dc83d858d6ce",
   "metadata": {},
   "outputs": [
    {
     "data": {
      "text/plain": [
       "defined \u001b[32mfunction\u001b[39m \u001b[36mevalIdent1\u001b[39m"
      ]
     },
     "execution_count": 119,
     "metadata": {},
     "output_type": "execute_result"
    }
   ],
   "source": [
    "def evalIdent1(identExpr : Expr, env: Environment, evalExpr: (Expr, Environment) => Value): Value = identExpr match {\n",
    "    case Ident(x) => ???\n",
    "    case _ => throw new IllegalArgumentException(\"Not a Let Expression\")\n",
    "}"
   ]
  },
  {
   "cell_type": "code",
   "execution_count": 120,
   "id": "d6f2e934-4ba1-48ae-b8c2-0bb031d91f74",
   "metadata": {},
   "outputs": [
    {
     "ename": "scala.NotImplementedError",
     "evalue": "an implementation is missing",
     "output_type": "error",
     "traceback": [
      "\u001b[31mscala.NotImplementedError: an implementation is missing\u001b[39m",
      "  scala.Predef$.$qmark$qmark$qmark(\u001b[32mPredef.scala\u001b[39m:\u001b[32m344\u001b[39m)",
      "  ammonite.$sess.cmd117$Helper.evalLet1(\u001b[32mcmd117.sc\u001b[39m:\u001b[32m2\u001b[39m)",
      "  ammonite.$sess.cmd120$Helper.$anonfun$evalExpr$1(\u001b[32mcmd120.sc\u001b[39m:\u001b[32m2\u001b[39m)",
      "  ammonite.$sess.cmd92$Helper.evalExpr$1(\u001b[32mcmd92.sc\u001b[39m:\u001b[32m28\u001b[39m)",
      "  ammonite.$sess.cmd92$Helper.$anonfun$getEvalExpr$3(\u001b[32mcmd92.sc\u001b[39m:\u001b[32m32\u001b[39m)",
      "  ammonite.$sess.cmd120$Helper.<init>(\u001b[32mcmd120.sc\u001b[39m:\u001b[32m3\u001b[39m)",
      "  ammonite.$sess.cmd120$.<clinit>(\u001b[32mcmd120.sc\u001b[39m:\u001b[32m7\u001b[39m)"
     ]
    }
   ],
   "source": [
    "// test\n",
    "val evalExpr: Eval = getEvalExpr(evalLet1, evalIdent1)\n",
    "assert(evalExpr(p1, Map.empty) == NumValue(3.0))\n",
    "assert(evalExpr(p2, Map.empty) == NumValue(4.0))\n",
    "assert(evalExpr(p3, Map.empty) == NumValue(4.0))\n",
    "println(\"It Worked!\")"
   ]
  }
 ],
 "metadata": {
  "kernelspec": {
   "display_name": "Scala",
   "language": "scala",
   "name": "scala"
  },
  "language_info": {
   "codemirror_mode": "text/x-scala",
   "file_extension": ".sc",
   "mimetype": "text/x-scala",
   "name": "scala",
   "nbconvert_exporter": "script",
   "version": "2.13.14"
  }
 },
 "nbformat": 4,
 "nbformat_minor": 5
}
