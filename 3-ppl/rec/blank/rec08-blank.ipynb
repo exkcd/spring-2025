{
 "cells": [
  {
   "attachments": {},
   "cell_type": "markdown",
   "id": "ad0ef2a2-d3ec-48e3-9f4d-5e979b6d9663",
   "metadata": {},
   "source": [
    "# CSCI 3155: Spring 2025\n",
    "# Recitation Week 8\n",
    "\n",
    "### Closures and Let Rec"
   ]
  },
  {
   "cell_type": "markdown",
   "id": "310b3d55",
   "metadata": {
    "tags": []
   },
   "source": [
    "## Static and Dynamic Scope \n",
    "Last week we looked at simple function definitions and dynamic scoping.\n",
    "\n",
    "Consider the example:\n",
    "\n",
    "~~~ocaml\n",
    "let x = 5 in \n",
    "   let addx = function(y) x + y in \n",
    "      let x = 10 in /\n",
    "          addx(2)\n",
    "          \n",
    "~~~\n",
    "\n",
    "Or equivalently in scala:\n",
    "\n",
    "~~~scala\n",
    "val x = 5;\n",
    "{\n",
    "    val addx: Int => Int = (y: Int) => { x+y }\n",
    "    {\n",
    "        val x = 10;\n",
    "        {\n",
    "            addx(2)\n",
    "        }\n",
    "    }\n",
    "}\n",
    "~~~"
   ]
  },
  {
   "cell_type": "markdown",
   "id": "50e48e0c",
   "metadata": {
    "tags": []
   },
   "source": [
    "* What should the value of this program be:\n",
    "    * Under dynamic scoping conditions?\n",
    "        * ???\n",
    "    * Under static scoping conditions?\n",
    "        * ???\n",
    "* Which scoping condition have we used more in programming languages (static or dynamic)?\n",
    "    * ???"
   ]
  },
  {
   "cell_type": "markdown",
   "id": "c1d8129f-496a-4f03-b348-6ee476062156",
   "metadata": {
    "tags": []
   },
   "source": [
    "## Closures"
   ]
  },
  {
   "cell_type": "markdown",
   "id": "03eadfeb-0217-4d79-968b-f107851a697b",
   "metadata": {},
   "source": [
    "A *closure* is a way to represent functions in our environments, containing the variable name, expression to be evaluated, and environment to execute the function in.\n",
    "\n",
    "Why should a closure include an environment?"
   ]
  },
  {
   "cell_type": "markdown",
   "id": "ba29885e-9d66-4fe1-b83b-9668ba5c199c",
   "metadata": {},
   "source": [
    "Consider the example:\n",
    "\n",
    "~~~ocaml\n",
    "let x = 5 in \n",
    "   let addx = function(y) x + y in \n",
    "      let x = 10 in \n",
    "          addx(2)\n",
    "          \n",
    "~~~\n",
    "\n",
    "Or equivalently in scala:"
   ]
  },
  {
   "cell_type": "code",
   "execution_count": 1,
   "id": "7a10985a-7dd8-4972-9088-246fab0a5858",
   "metadata": {},
   "outputs": [
    {
     "data": {
      "text/plain": [
       "\u001b[36mx\u001b[39m: \u001b[32mInt\u001b[39m = \u001b[32m5\u001b[39m\n",
       "\u001b[36mres1_1\u001b[39m: \u001b[32mInt\u001b[39m = \u001b[32m7\u001b[39m"
      ]
     },
     "execution_count": 1,
     "metadata": {},
     "output_type": "execute_result"
    }
   ],
   "source": [
    "// try out scala code after discussion\n",
    "val x = 5;\n",
    "{\n",
    "    val addx: Int => Int = (y: Int) => { x+y }\n",
    "    {\n",
    "        val x = 10;\n",
    "        {\n",
    "            addx(2)\n",
    "        }\n",
    "    }\n",
    "}"
   ]
  },
  {
   "cell_type": "markdown",
   "id": "54458274",
   "metadata": {},
   "source": [
    "* We see the value 7 for the full program\n",
    "* Scala, like many languages uses **static scoping**\n",
    "* How could we build an interpreter to have the same effect?"
   ]
  },
  {
   "cell_type": "markdown",
   "id": "1aa8c028",
   "metadata": {},
   "source": [
    "## Exercise 1: Currying a function\n",
    "\n",
    "Today we only allow functions to have one argument each. Could we update the language to have multiple argument functions?\n",
    "\n",
    "~~~ocaml\n",
    "let foo = function(x)\n",
    "            function(y)\n",
    "                x + y in\n",
    "    let tmp = foo(5) in\n",
    "        tmp(10)\n",
    "        \n",
    "~~~"
   ]
  },
  {
   "cell_type": "markdown",
   "id": "81b0114e",
   "metadata": {},
   "source": [
    "* What is the value of the above program?\n",
    "    * `15`\n",
    "    ```scala\n",
    "    foo(x)(y)\n",
    "    tmp = foo(5)(y)\n",
    "    ```\n",
    "* How could we rewrite it with a function with multiple arguments?\n",
    "\n",
    "~~~ocaml\n",
    "_YOUR_ANSWER_HERE_\n",
    "???\n",
    "~~~"
   ]
  },
  {
   "cell_type": "markdown",
   "id": "354872f7-a87a-44bd-ad73-9a504f28ab76",
   "metadata": {},
   "source": [
    "## Exercise 2: Functions with Multiple Parameters\n",
    "\n",
    "Here, we will explore extending our closures to support multi parameter functions."
   ]
  },
  {
   "cell_type": "markdown",
   "id": "7cea51fe-f338-48a8-82e5-b37d6b403029",
   "metadata": {
    "nbgrader": {
     "grade": false,
     "grade_id": "cell-6b9f8af95e1ee726",
     "locked": true,
     "schema_version": 3,
     "solution": false
    }
   },
   "source": [
    "For this exercise, we will use a small part of the grammar we have been working with and change our function calls and definitions.\n",
    "\n",
    "Reference: https://github.com/sriram0339/csci3155_notebooks/blob/master/7/RecursionInLettuce.ipynb\n",
    "\n",
    "$$\n",
    "\\begin{array}{c|c}\n",
    "    \\text{original grammar} & \\text{updated multiparameter function grammar} \\\\\\hline\n",
    "    \\begin{array}{rcl}\n",
    "    \\mathbf{Program} & \\rightarrow & TopLevel(\\mathbf{Expr}) \\\\[5pt]\n",
    "    \\mathbf{Expr} & \\rightarrow & Const(\\mathbf{Number}) \\\\\n",
    "     & | & Ident(\\mathbf{Identifier}) \\\\\n",
    "     & | & Plus(\\mathbf{Expr}, \\mathbf{Expr}) \\\\\n",
    "     & | & FunDef( \\mathbf{Identifier}, \\mathbf{Expr}) \\\\ \n",
    "     & | & FunCall(\\mathbf{Expr}, \\mathbf{Expr}) \\\\\n",
    "     & | & Let(\\mathbf{Identifier},\\mathbf{Expr}, \\mathbf{Expr})  \\\\\n",
    "    \\end{array}\n",
    "    &\n",
    "    \\begin{array}{rcll}\n",
    "    \\mathbf{Program} & \\rightarrow & TopLevel(\\mathbf{Expr}) \\\\[5pt]\n",
    "    \\mathbf{Expr} & \\rightarrow & Const(\\mathbf{Number}) \\\\\n",
    "     & | & Ident(\\mathbf{Identifier}) \\\\\n",
    "     & | & Plus(\\mathbf{Expr}, \\mathbf{Expr}) \\\\\n",
    "     & | & FunDef(\\color{red} {\\mathbf{Identifier}^*}, \\mathbf{Expr}) & \\text{Note multiple parameters now possible} \\\\ \n",
    "     & | & FunCall(\\mathbf{Expr}, \\color{red} {\\mathbf{Expr}^*}) & \\text{function call - expr(expr1, ... , exprn)} \\\\\n",
    "     & | & Let(\\mathbf{Identifier},\\mathbf{Expr}, \\mathbf{Expr})  \\\\\n",
    "    \\end{array}\n",
    "\\end{array}\n",
    "$$\n",
    "\n",
    "Write the scala definition for `FunDef` and `FunCall`. Please use lists to implement the Kleene Star.\n",
    "\n",
    "#### Note: \n",
    "\n",
    "Kleene star, represented by the '$^*$', is a way of representing multiple instances of a something.\n",
    "It could be one, two, ten, or even none of the item in question.\n",
    "For example, $\\mathbf{Number}^*$ could be no numbers, a single number like $10$, or several numbers, like $10,\\ 21,\\ 32$. In Scala, we use `List` datatype to implement Kleene star mechanics."
   ]
  },
  {
   "cell_type": "code",
   "execution_count": 2,
   "id": "4dcff0c6-5ff9-4e6a-8fdc-1569686a43ad",
   "metadata": {
    "nbgrader": {
     "grade": false,
     "grade_id": "cell-925e2ee1e5248e66",
     "locked": false,
     "schema_version": 3,
     "solution": true
    }
   },
   "outputs": [
    {
     "data": {
      "text/plain": [
       "defined \u001b[32mtrait\u001b[39m \u001b[36mProgram\u001b[39m\n",
       "defined \u001b[32mtrait\u001b[39m \u001b[36mExpr\u001b[39m\n",
       "defined \u001b[32mclass\u001b[39m \u001b[36mConst\u001b[39m\n",
       "defined \u001b[32mclass\u001b[39m \u001b[36mIdent\u001b[39m\n",
       "defined \u001b[32mclass\u001b[39m \u001b[36mPlus\u001b[39m\n",
       "defined \u001b[32mclass\u001b[39m \u001b[36mMinus\u001b[39m\n",
       "defined \u001b[32mclass\u001b[39m \u001b[36mLet\u001b[39m\n",
       "defined \u001b[32mclass\u001b[39m \u001b[36mIfThenElse\u001b[39m\n",
       "defined \u001b[32mclass\u001b[39m \u001b[36mGeq\u001b[39m\n",
       "defined \u001b[32mclass\u001b[39m \u001b[36mFunDef\u001b[39m\n",
       "defined \u001b[32mclass\u001b[39m \u001b[36mFunCall\u001b[39m\n",
       "defined \u001b[32mclass\u001b[39m \u001b[36mTopLevel\u001b[39m"
      ]
     },
     "execution_count": 2,
     "metadata": {},
     "output_type": "execute_result"
    }
   ],
   "source": [
    "sealed trait Program\n",
    "sealed trait Expr\n",
    "case class Const(f: Double) extends Expr\n",
    "case class Ident(s: String) extends Expr\n",
    "case class Plus(e1: Expr, e2: Expr) extends Expr\n",
    "case class Minus(e1: Expr, e2: Expr) extends Expr\n",
    "case class Let(x: String, e1: Expr, e2: Expr) extends Expr\n",
    "case class IfThenElse(e1: Expr, e2: Expr, e3: Expr) extends Expr\n",
    "case class Geq(e1: Expr, e2: Expr) extends Expr\n",
    "\n",
    "//BEGIN SOLUTION\n",
    "case class FunDef(params: List[String], e: Expr) extends Expr\n",
    "case class FunCall(e: Expr, params: List[String]) extends Expr\n",
    "//END SOLUTION\n",
    "\n",
    "case class TopLevel(e: Expr) extends Program"
   ]
  },
  {
   "cell_type": "markdown",
   "id": "a5d26cb4-97ee-4222-8d61-0d4d97cdcdde",
   "metadata": {},
   "source": [
    "### Environment\n",
    "\n",
    "We have defined an environment as a function from identifiers to values denoted by them. What sort of environments have we encountered?\n",
    "\n",
    "* The empty environment: implemented as an empty map. Let us call this environment: $EmptyEnv$\n",
    "* The environment $\\sigma[x \\mapsto v]$ which denotes a previously existing environment $\\sigma$ extended with the mapping $x \\mapsto v$ that associates identifier $x$ with value $v$. Let us call this operation $\\texttt{Extend}(\\sigma, x, v)$."
   ]
  },
  {
   "cell_type": "markdown",
   "id": "d9121b66-8b65-40b2-a40d-679ab73b6511",
   "metadata": {
    "nbgrader": {
     "grade": false,
     "grade_id": "cell-fc759814f6e6f19f",
     "locked": true,
     "schema_version": 3,
     "solution": false,
     "task": false
    }
   },
   "source": [
    "### Closure\n",
    "If you recall, last week we had something similar to Closure, which we called Function. Last week's implementation was based on dynamic scoping, now let's look at static scoping implementation.\n",
    "\n",
    "We will now redefine closures for functions with zero or more args. When our function had one argument, our closures were defined as `Closure(id, expr, env)`. We would now like to define closures as\n",
    "`Closure( [id1, ..., idn], expr, env)` where \n",
    "  - `id1..., idn` are the list of arguments for the function to be called. \n",
    "  - `expr` is the body of the function and \n",
    "  - `env` is the stored environment for static scoping.\n",
    " \n",
    " $$\\begin{array}{rcl}\n",
    " \\mathbf{Value} & \\Rightarrow & Num(\\mathbf{Double}) \\\\\n",
    " & \\Rightarrow & Closure(\\color{red}{\\mathbf{String}^*}, \\mathbf{Expr}, \\mathbf{Environment}) \\\\\n",
    " & \\Rightarrow & Error \\\\\n",
    " \\\\\n",
    " \\\\\n",
    " \\mathbf{Environment} & \\Rightarrow & EmptyEnv \\\\\n",
    " & \\Rightarrow & Extend(String, Value, Environment) \\\\\n",
    " \\end{array}$$"
   ]
  },
  {
   "cell_type": "code",
   "execution_count": 3,
   "id": "fac93227-1f48-403d-be37-622405561161",
   "metadata": {},
   "outputs": [
    {
     "data": {
      "text/plain": [
       "defined \u001b[32mtrait\u001b[39m \u001b[36mEnvironment\u001b[39m\n",
       "defined \u001b[32mtrait\u001b[39m \u001b[36mValue\u001b[39m\n",
       "defined \u001b[32mclass\u001b[39m \u001b[36mNum\u001b[39m\n",
       "defined \u001b[32mclass\u001b[39m \u001b[36mBool\u001b[39m\n",
       "defined \u001b[32mobject\u001b[39m \u001b[36mError\u001b[39m\n",
       "defined \u001b[32mclass\u001b[39m \u001b[36mClosure\u001b[39m\n",
       "defined \u001b[32mobject\u001b[39m \u001b[36mEmptyEnv\u001b[39m\n",
       "defined \u001b[32mclass\u001b[39m \u001b[36mExtend\u001b[39m"
      ]
     },
     "execution_count": 3,
     "metadata": {},
     "output_type": "execute_result"
    }
   ],
   "source": [
    "sealed trait Environment \n",
    "sealed trait Value\n",
    "\n",
    "case class Num(d: Double) extends Value\n",
    "case class Bool(b: Boolean) extends Value\n",
    "case object Error extends Value\n",
    "//BEGIN SOLUTION\n",
    "case class Closure(params: List[String], body: Value, env: Environment) extends Value\n",
    "//END SOLUTION\n",
    "\n",
    "case object EmptyEnv extends Environment // Represent an environment with nothing in it.\n",
    "case class Extend(x: String, v: Value, sigma: Environment) extends Environment"
   ]
  },
  {
   "cell_type": "markdown",
   "id": "2d04c8b1-5c3d-4b22-87f0-0ee374b56445",
   "metadata": {
    "nbgrader": {
     "grade": false,
     "grade_id": "cell-ea94ae8aa9613fa0",
     "locked": true,
     "schema_version": 3,
     "solution": false
    }
   },
   "source": [
    "Build an interpreter using the following semantic rules. Ensure that your interpreter correctly deals with the cases that give rise to error by throwing an exception.\n",
    "\n",
    "$$\\newcommand\\semRule[3]{\\begin{array}{c} #1 \\\\ \\hline #2 \\\\\\end{array} (\\text{#3})} $$\n",
    "$$\\newcommand\\eval{\\mathbf{eval}}$$\n",
    "$$\\semRule{}{\\eval(\\texttt{FunDef([id1,..., idk], e)},\\sigma) = \\text{Closure}(\\texttt{[id1,..., idk]}, \\texttt{e}, \\sigma)}{fundef}$$\n",
    "<br /><br />\n",
    "\n",
    "$$\\semRule {\\eval(\\texttt{e}, \\sigma) = \\text{Closure}(\\texttt{[id1,..., idn]}, \\texttt{fBody}, \\color{red}{\\sigma_{cl}}),\\  \\color{red}{n = k},\\ (\\forall\\ i \\in \\{ 1, \\ldots, k\\})\\ \\eval(\\texttt{ei}, \\sigma) = v_i,  v_i \\not= \\mathbf{error}}\n",
    "           {\\eval(\\texttt{FunCall(e, [e1, ..., ek])}, \\sigma) = \\eval(\\texttt{fBody}, \\color{red}{\\sigma_{cl}} \\color{blue}{\\circ [id1 \\rightarrow v_1, \\ldots, idk \\rightarrow v_k]})}{funcall-ok}$$\n",
    " <br /><br />\n",
    "          \n",
    "Let us interpret this rule.\n",
    "   - __Purpose__ : Evaluate an expression of the form `FunCall(e, [e1,...,ek])` where `e` is the expr for the called function, and `e1, ..., ek` are exprs for the arguments of this call. There are $k$ arguments.\n",
    "     - The called function `e` must evaluate to a closure of the form $\\text{Closure}(\\texttt{[id1,..., idn]}, \\texttt{fBody}, \\sigma_{cl})$.\n",
    "     - The function call must have the same number of arguments as the closure ($n=k$).\n",
    "     - Each of the $k$ arguments `ei` must evaluate to a value $v_i$ where $v_i$ is not error.\n",
    "     - Then the result of evaluating the function call is the same as that of evaluating `fBody` under the environment $\\sigma_{cl}$ extended by mapping the formal parameters of the closure, `id1,.., idk`, to $v_1, \\ldots, v_k$, respectively.\n",
    "\n",
    "\n",
    "We can also write some error rules:\n",
    "\n",
    "$$\\semRule {\\eval(\\texttt{e}, \\sigma) \\not\\in \\text{Closure}}\n",
    "           {\\eval(\\texttt{FunCall(e, [e1, ..., ek])}, \\sigma) = \\mathbf{error}}{funcall-not-a-function}$$\n",
    "<br /><br />\n",
    "\n",
    "\n",
    "$$\\semRule {\\eval(\\texttt{e}, \\sigma) = \\text{Closure}(\\texttt{[id1,..., idn]}, \\texttt{fBody}, \\color{red}{\\sigma_{cl}}),\\  \\color{red}{n \\not= k}}\n",
    "           {\\eval(\\texttt{FunCall(e, [e1, ..., ek])}, \\sigma) = \\mathbf{error}}{funcall-wrong-num-args}$$\n",
    "<br /><br />\n",
    "           \n",
    "  \n",
    "$$\\semRule {\\eval(\\texttt{e}, \\sigma) = \\text{Closure}(\\texttt{[id1,..., idn]}, \\texttt{fBody}, \\color{red}{\\sigma_{cl}}),\\  \\color{red}{n = k},\\ (\\exists\\ i \\in \\{1, \\ldots, k\\})\\ \\eval(\\texttt{ei}, \\sigma) = \\mathbf{error}}\n",
    "           {\\eval(\\texttt{FunCall(e, [e1, ..., ek])}, \\sigma) = \\mathbf{error}}{funcall-arg-error}$$\n",
    "<br /><br />\n",
    "           \n",
    "           \n",
    "**Hint:** Can map, zip, and foldLeft be used for this?\n",
    " "
   ]
  },
  {
   "cell_type": "code",
   "execution_count": 4,
   "id": "29bb742a",
   "metadata": {
    "nbgrader": {
     "grade": false,
     "grade_id": "cell-cc0ebc1ead5d46dd",
     "locked": false,
     "schema_version": 3,
     "solution": true,
     "task": false
    }
   },
   "outputs": [
    {
     "data": {
      "text/plain": [
       "defined \u001b[32mclass\u001b[39m \u001b[36mErrorException\u001b[39m\n",
       "defined \u001b[32mfunction\u001b[39m \u001b[36mlookupEnv\u001b[39m"
      ]
     },
     "execution_count": 4,
     "metadata": {},
     "output_type": "execute_result"
    }
   ],
   "source": [
    "class ErrorException(s:String) extends Exception(s){}\n",
    "\n",
    "def lookupEnv(sigma: Environment, x: String): Value = sigma match {\n",
    "    case EmptyEnv => throw new ErrorException(s\"Error could not find string $x in environment\")\n",
    "    case Extend(y, v, rest) => {\n",
    "        // BEGIN SOLUTION\n",
    "        if (x == y) v\n",
    "        else lookupEnv(rest, x)\n",
    "        // END SOLUTION\n",
    "    }\n",
    "}"
   ]
  },
  {
   "cell_type": "code",
   "execution_count": 5,
   "id": "054fc340",
   "metadata": {},
   "outputs": [
    {
     "name": "stderr",
     "output_type": "stream",
     "text": [
      "cmd5.sc:4: type mismatch;\n",
      " found   : cmd5.this.cmd2.Plus\n",
      " required: cmd5.this.cmd3.Value\n",
      "                                 Plus(Plus(Ident(\"x\"), Ident(\"y\")), Ident(\"z\")), \n",
      "                                     ^\n",
      "cmd5.sc:20: type mismatch;\n",
      " found   : cmd5.this.cmd2.Plus\n",
      " required: cmd5.this.cmd3.Value\n",
      "                                 Plus(Plus(Ident(\"x\"), Ident(\"y\")), Ident(\"z\")), \n",
      "                                     ^\n",
      "cmd5.sc:27: type mismatch;\n",
      " found   : cmd5.this.cmd2.Plus\n",
      " required: cmd5.this.cmd3.Value\n",
      "                                 Plus(Plus(Ident(\"x\"), Ident(\"y\")), Ident(\"z\")), \n",
      "                                     ^\n",
      "Compilation Failed"
     ]
    }
   ],
   "source": [
    "val env0 = EmptyEnv\n",
    "val env1 = Extend(\"x\", Num(5), env0)\n",
    "val env2 = Extend(\"foo\", Closure(List(\"y\", \"z\"),\n",
    "                                 Plus(Plus(Ident(\"x\"), Ident(\"y\")), Ident(\"z\")), \n",
    "                                 env1), \n",
    "                  env1)\n",
    "val env3 = Extend(\"x\", Num(10), env2)\n",
    "\n",
    "// lookupEnv(env0, \"x\") // is an error\n",
    "// lookupEnv(env0, \"y\") // is an error\n",
    "// lookupEnv(env0, \"foo\") // is an error\n",
    "\n",
    "assert(lookupEnv(env1, \"x\") == Num(5), \"test x in env1\")\n",
    "// lookupEnv(env1, \"y\") // is an error\n",
    "// lookupEnv(env1, \"foo\") // is an error\n",
    "\n",
    "assert(lookupEnv(env2, \"x\") == Num(5), \"test x in env2\")\n",
    "// lookupEnv(env2, \"y\") // is an error\n",
    "assert(lookupEnv(env2, \"foo\") == Closure(List(\"y\", \"z\"),\n",
    "                                 Plus(Plus(Ident(\"x\"), Ident(\"y\")), Ident(\"z\")), \n",
    "                                 Extend(\"x\", Num(5), EmptyEnv)), \n",
    "       \"test foo in env2\")\n",
    "\n",
    "assert(lookupEnv(env3, \"x\") == Num(10), \"test x in env3\")\n",
    "// lookupEnv(env3, \"y\") // is an error\n",
    "assert(lookupEnv(env3, \"foo\") == Closure(List(\"y\", \"z\"),\n",
    "                                 Plus(Plus(Ident(\"x\"), Ident(\"y\")), Ident(\"z\")), \n",
    "                                 Extend(\"x\", Num(5), EmptyEnv)), \n",
    "       \"test foo in env3\")"
   ]
  },
  {
   "cell_type": "code",
   "execution_count": 5,
   "id": "29d4af54-ef41-489d-96f7-2affe5751ca6",
   "metadata": {
    "nbgrader": {
     "grade": false,
     "grade_id": "cell-cc0ebc1ead5d46dd",
     "locked": false,
     "schema_version": 3,
     "solution": true,
     "task": false
    }
   },
   "outputs": [
    {
     "name": "stderr",
     "output_type": "stream",
     "text": [
      "cmd5.sc:45: type mismatch;\n",
      " found   : cmd5.this.cmd2.Expr\n",
      " required: cmd5.this.cmd3.Value\n",
      "            Closure(idList, e, env)\n",
      "                            ^\n",
      "cmd5.sc:71: type mismatch;\n",
      " found   : cmd5.this.cmd2.FunCall.type\n",
      " required: cmd5.this.cmd2.Expr\n",
      "            eval(FunCall, env) match {\n",
      "                 ^\n",
      "cmd5.sc:74: type mismatch;\n",
      " found   : String\n",
      " required: cmd5.this.cmd2.Expr\n",
      "                    idList.zip(eList.map(x => eval(x, env))).foldLeft(closureEnv)(x => Extend(x._1, x._2, closureEnv))\n",
      "                                                   ^\n",
      "cmd5.sc:97: This catches all Throwables. If this is really intended, use `case e : Throwable` to clear this warning.\n",
      "        case e => {\n",
      "             ^\n",
      "Compilation Failed"
     ]
    }
   ],
   "source": [
    "def valueToNumber(v: Value): Double = v match {\n",
    "    case Num(d) => d\n",
    "    case _ => throw new ErrorException(s\"Could not convert value $v to a number\")\n",
    "}\n",
    "\n",
    "def eval(e: Expr, env: Environment): Value = {\n",
    "    \n",
    "    def applyArith2 (e1: Expr, e2: Expr) (fun: (Double , Double) => Double) = {\n",
    "        val v1 = valueToNumber(eval(e1, env))\n",
    "        val v2 = valueToNumber(eval(e2, env))\n",
    "        val v3 = fun(v1, v2)\n",
    "        Num(v3)\n",
    "    }  \n",
    "    \n",
    "    def applyComp(e1: Expr, e2: Expr) (fun: (Double, Double) => Boolean) = {\n",
    "        val v1 = valueToNumber(eval(e1, env))\n",
    "        val v2 = valueToNumber(eval(e2, env))\n",
    "        val v3 = fun(v1, v2)\n",
    "        Bool(v3)\n",
    "    }\n",
    "    \n",
    "    e match {\n",
    "        case Const(d) => Num(d)\n",
    "        case Ident(x) => lookupEnv(env, x)\n",
    "        case Plus(e1,e2) => applyArith2(e1, e2)(_ + _)\n",
    "        case Minus(e1, e2) =>  applyArith2(e1, e2)(_ - _)\n",
    "        case Geq(e1, e2) => applyComp(e1, e2)(_ >= _)\n",
    "        \n",
    "        case Let(id, e1, e2) => {\n",
    "            val v1 = eval(e1, env)\n",
    "            val env2 =  Extend(id, v1, env)\n",
    "            eval(e2, env2)\n",
    "        }\n",
    "        \n",
    "        case IfThenElse(e1, e2, e3) => {\n",
    "            eval(e1, env) match {\n",
    "                case Bool(true) => eval(e2, env)\n",
    "                case Bool(false) => eval(e3, env)\n",
    "                case _ => throw new ErrorException(\"Not a bool for Geq operation\")\n",
    "            }\n",
    "        }\n",
    "        \n",
    "        case FunDef(idList, e) => {\n",
    "            // BEGIN SOLUTION\n",
    "            Closure(idList, e, env)\n",
    "            // END SOLUTION\n",
    "        }\n",
    "        \n",
    "        /* the single parameter version of FunCall\n",
    "        case FunCall(e1, e2) => {\n",
    "            val v1 = evalExpr(e1, env)\n",
    "            val v2 = evalExpr(e2, env)\n",
    "            // Since evaluating e2 did not fail with an exception,\n",
    "            // if I reach this point in my execution, I know that\n",
    "            // neither v1 nor v2 are error.\n",
    "            v1 match {\n",
    "                case Closure(x, closure_ex, closed_env) => {\n",
    "                    // First extend closed_env by binding x to v2\n",
    "                    val new_env = closed_env + ( x -> v2)\n",
    "                    // Evaluate the body of the closure under the extended environment.\n",
    "                    evalExpr(closure_ex, new_env)\n",
    "                }\n",
    "                case _ => throw new IllegalArgumentException(s\"Function call error: expression $e1 does not evaluate to a closure\")\n",
    "            }\n",
    "        }\n",
    "        // */\n",
    "        \n",
    "        case FunCall(e, eList) => {\n",
    "            //BEGIN SOLUTION\n",
    "            // Hint: Can map, zip, and foldLeft be used for this?\n",
    "            eval(FunCall, env) match {\n",
    "                case Closure(idList, fBody, closureEnv) => {\n",
    "                    if (eList.length != idList.length) throw new IllegalArgumentException(s\"Expected ${idList.length} parameters in function call got ${eList.length}\")\n",
    "                    idList.zip(eList.map(x => eval(x, env))).foldLeft(closureEnv)(x => Extend(x._1, x._2, closureEnv))\n",
    "                    \n",
    "                }\n",
    "            }\n",
    "            //END SOLUTION\n",
    "        }\n",
    "        \n",
    "    }\n",
    "}\n",
    "\n",
    "\n",
    "def evalProgram(p: Program): Value = p match {\n",
    "    case TopLevel(e) => try\n",
    "            eval(e, EmptyEnv)\n",
    "    catch {\n",
    "        case e: ErrorException => {\n",
    "            println(e)\n",
    "            Error\n",
    "        }\n",
    "        case e: IllegalArgumentException => {\n",
    "            println(e)\n",
    "            Error\n",
    "        }\n",
    "        case e => {\n",
    "            println(\"Unknown Exception \" + e.toString)\n",
    "            Error\n",
    "        }\n",
    "            \n",
    "    }\n",
    "}"
   ]
  },
  {
   "cell_type": "markdown",
   "id": "bce9dafd-b526-41fc-a235-af04cb37977a",
   "metadata": {
    "tags": []
   },
   "source": [
    "### Tests"
   ]
  },
  {
   "cell_type": "code",
   "execution_count": null,
   "id": "f682e2f2-5169-48cc-a845-faf274412d82",
   "metadata": {
    "nbgrader": {
     "grade": true,
     "grade_id": "cell-d59f51be3ed29a31",
     "locked": true,
     "points": 5,
     "schema_version": 3,
     "solution": false,
     "task": false
    }
   },
   "outputs": [],
   "source": [
    "//BEGIN TEST\n",
    "// TEST three arguments\n",
    "val x = Ident(\"x\")\n",
    "val y = Ident(\"y\")\n",
    "val z = Ident(\"z\")\n",
    "val foo = Ident(\"foo2\")\n",
    "// function(x, y,z)  x + y+z+z\n",
    "val fun2 = FunDef(List(\"x\", \"y\", \"z\"), Plus(Plus(Plus(x, y), z), z))\n",
    "//let foo = function(x,y,z) x+y+z+z in foo(10, 20, 30)\n",
    "val l2 = Let(\"foo2\", fun2, FunCall(foo, List(Const(10.0), Const(20.0), Const(30.0))))\n",
    "//Program\n",
    "val p2 = TopLevel(l2)\n",
    "val v2 = evalProgram(p2)\n",
    "println(s\"Your program evaluated to $v2\")\n",
    "assert(v2 == Num(90.0), \"Test 2 Failed\")\n",
    "//END TEST"
   ]
  },
  {
   "cell_type": "code",
   "execution_count": null,
   "id": "19a83fe6-419e-424f-bc40-c295c4808dc0",
   "metadata": {
    "nbgrader": {
     "grade": true,
     "grade_id": "cell-8b5aa13d74ba3278",
     "locked": true,
     "points": 5,
     "schema_version": 3,
     "solution": false,
     "task": false
    }
   },
   "outputs": [],
   "source": [
    "//BEGIN TEST\n",
    "//Test zero arguments\n",
    "/*\n",
    "let x = 10 in\n",
    "    let foo = function() x in\n",
    "        foo()\n",
    "*/\n",
    "val x = Ident(\"x\")\n",
    "val foo = Ident(\"foo\")\n",
    "val fcall = FunCall(foo, List())\n",
    "val fdef = FunDef(List(), x)\n",
    "val l2 = Let(\"foo\", fdef, fcall)\n",
    "val l3 = Let(\"x\", Const(10), l2)\n",
    "val p2 = TopLevel(l3)\n",
    "val v3 = evalProgram(p2)\n",
    "println(s\"Your program evaluated to $v3\")\n",
    "assert(v3 == Num(10.0), \"Test 3 Failed\")\n",
    "//END TEST"
   ]
  },
  {
   "cell_type": "code",
   "execution_count": null,
   "id": "42092e77-c176-4dd1-a0c0-ad5d36db6d52",
   "metadata": {
    "nbgrader": {
     "grade": true,
     "grade_id": "cell-e305341e54d2e37c",
     "locked": true,
     "points": 5,
     "schema_version": 3,
     "solution": false,
     "task": false
    }
   },
   "outputs": [],
   "source": [
    "//BEGIN TEST\n",
    "/*\n",
    "let x = 10 in\n",
    "    let foo = function() x in\n",
    "        foo(1)\n",
    "*/\n",
    "//Evaluate with wrong number of args\n",
    "val x = Ident(\"x\")\n",
    "val foo = Ident(\"foo\")\n",
    "val fcall = FunCall(foo, List(Const(1.0)))\n",
    "val fdef = FunDef(List(), x)\n",
    "val l2 = Let(\"foo\", fdef, fcall)\n",
    "val l3 = Let(\"x\", Const(10), l2)\n",
    "val p4 = TopLevel(l3)\n",
    "val v4 = evalProgram(p4)\n",
    "assert(v4 == Error, \"Test 4 failed -- your program should have detected that arguments were mismatched\")\n",
    "//END TEST"
   ]
  },
  {
   "cell_type": "code",
   "execution_count": null,
   "id": "76b65fbe-f12f-457c-a51a-073a5ea99c6a",
   "metadata": {
    "nbgrader": {
     "grade": true,
     "grade_id": "cell-90f1081c0f420045",
     "locked": true,
     "points": 5,
     "schema_version": 3,
     "solution": false,
     "task": false
    }
   },
   "outputs": [],
   "source": [
    "//BEGIN TEST\n",
    "/*\n",
    "let x = 1 in\n",
    "    let z = 50 in\n",
    "      let foo = fun(x,y) x + y + x + z in\n",
    "        let = 2 in\n",
    "          f(10,30)\n",
    "*/\n",
    "// TEST scoping\n",
    "val x = Ident(\"x\")\n",
    "val y = Ident(\"y\")\n",
    "val z = Ident(\"z\")\n",
    "val foo = Ident(\"foo\")\n",
    "// function(x, y)  x + y + x + z \n",
    "val fun = FunDef(List(\"x\", \"y\"), Plus(Plus(Plus(x, y), x),z))\n",
    "val funcall = FunCall(foo, List(Const(10.0), Const(30.0)))\n",
    "val l4 = Let(\"x\", Const(1.0), Let(\"z\", Const(50.0), Let(\"foo\", fun, Let(\"y\", Const(2.0), funcall))))\n",
    "//Program\n",
    "val p2 = TopLevel(l4)\n",
    "val v2 = evalProgram(p2)\n",
    "println(s\"Your program evaluated to $v2\")\n",
    "assert(v2 == Num(100.0), \"Test 5 Failed == you did not evaluate static scoping correctly\")\n",
    "//END TEST"
   ]
  },
  {
   "cell_type": "markdown",
   "id": "4ab2b6f6-2305-4e0f-b3cc-be34774193d4",
   "metadata": {},
   "source": [
    "## Exercise 3: Recursive multi-param functions\n",
    "\n",
    "Consider the below recursive function which takes multiple parameters: \n",
    "\n",
    "~~~\n",
    "let rec crazy_rec = function (x, y)\n",
    "                    if (x >= 0) then 0.5 + x + y\n",
    "                    else 20 + crazy_rec (0 - x, y)\n",
    "in \n",
    "crazy_rec( -5.0, 2.0)\n",
    "~~~"
   ]
  },
  {
   "cell_type": "markdown",
   "id": "904bfe01-20d6-4f73-a9a1-94f34e3726ed",
   "metadata": {},
   "source": [
    "We note here that, our grammar so far does not support $let rec$ as of now. Therefore, let us expand the above grammar with let recursion for functions with multiple parameters. \n",
    "\n",
    "$$\n",
    "\\begin{array}{c|c}\n",
    "    \\text{original grammar} & \\text{updated multiparameter function grammar} \\\\\\hline\n",
    "    \\begin{array}{rcl}\n",
    "    \\mathbf{Program} & \\rightarrow & TopLevel(\\mathbf{Expr}) \\\\[5pt]\n",
    "    \\mathbf{Expr} & \\rightarrow & Const(\\mathbf{Number}) \\\\\n",
    "     & | & Ident(\\mathbf{Identifier}) \\\\\n",
    "     & | & Plus(\\mathbf{Expr}, \\mathbf{Expr}) \\\\\n",
    "     & | & FunDef( \\mathbf{Identifier}, \\mathbf{Expr}) \\\\ \n",
    "     & | & FunCall(\\mathbf{Expr}, \\mathbf{Expr}) \\\\\n",
    "     & | & Let(\\mathbf{Identifier},\\mathbf{Expr}, \\mathbf{Expr})  \\\\\n",
    "     & | & \\color{red}{LetRec(\\mathbf{Identifier},\\mathbf{Identifier} ,\\mathbf{Expr}, \\mathbf{Expr})}\n",
    "    \\end{array}\n",
    "    &\n",
    "    \\begin{array}{rcll}\n",
    "    \\mathbf{Program} & \\rightarrow & TopLevel(\\mathbf{Expr}) \\\\[5pt]\n",
    "    \\mathbf{Expr} & \\rightarrow & Const(\\mathbf{Number}) \\\\\n",
    "     & | & Ident(\\mathbf{Identifier}) \\\\\n",
    "     & | & Plus(\\mathbf{Expr}, \\mathbf{Expr}) \\\\\n",
    "     & | & FunDef( \\mathbf{Identifier}^*, \\mathbf{Expr}) & \\text{Note multiple parameters now possible} \\\\ \n",
    "     & | & FunCall(\\mathbf{Expr}, \\mathbf{Expr}^*) & \\text{function call - expr(expr1, ... , exprn)} \\\\\n",
    "     & | & Let(\\mathbf{Identifier},\\mathbf{Expr}, \\mathbf{Expr})  \\\\\n",
    "     & | & \\color{red}{LetRec(\\mathbf{Identifier},\\mathbf{Identifier^*} ,\\mathbf{Expr}, \\mathbf{Expr})}\n",
    "    \\end{array}\n",
    "\\end{array}\n",
    "$$\n",
    "\n",
    "Now, we have to go back and modify some portions in $eval$ method and define the necessary case classes for making $LetRec$ with multiple parameters happen. "
   ]
  },
  {
   "cell_type": "code",
   "execution_count": null,
   "id": "ceb8c5c0",
   "metadata": {
    "nbgrader": {
     "grade": false,
     "grade_id": "cell-925e2ee1e5248e66",
     "locked": false,
     "schema_version": 3,
     "solution": true
    }
   },
   "outputs": [],
   "source": [
    "sealed trait Program\n",
    "sealed trait Expr\n",
    "case class Const(f: Double) extends Expr\n",
    "case class Ident(s: String) extends Expr\n",
    "case class Plus(e1: Expr, e2: Expr) extends Expr\n",
    "case class Minus(e1: Expr, e2: Expr) extends Expr\n",
    "case class Let(x: String, e1: Expr, e2: Expr) extends Expr\n",
    "case class IfThenElse(e1: Expr, e2: Expr, e3: Expr) extends Expr\n",
    "case class Geq(e1: Expr, e2: Expr) extends Expr\n",
    "case class FunDef(idList: List[String], e: Expr) extends Expr\n",
    "case class FunCall(calledFun: Expr, argExpr: List[Expr]) extends Expr\n",
    "\n",
    "// BEGIN SOLUTION\n",
    "???\n",
    "// END SOLUTION \n",
    "\n",
    "case class TopLevel(e: Expr) extends Program"
   ]
  },
  {
   "cell_type": "markdown",
   "id": "c8295d6d",
   "metadata": {},
   "source": [
    "### Environment\n",
    "\n",
    "We have defined an environment as a function from identifiers to values denoted by them. What sort of environments have we encountered?\n",
    "\n",
    "* The empty environment: implemented as an empty map. Let us call this environment: $EmptyEnv$\n",
    "* The environment $\\sigma[x \\mapsto v]$ which denotes a previously existing environment $\\sigma$ extended with the mapping $x \\mapsto v$ that associates identifier $x$ with value $v$. Let us call this operation $\\texttt{Extend}(\\sigma, x, v)$.\n",
    "\n",
    "#### ADDING\n",
    "* Let us add a third kind of extension to support recursion:\n",
    "    $\\texttt{ExtendRec}(f, x, \\texttt{e}, \\sigma)$ which creates a new environment $\\color{red}{\\hat{\\sigma}}$ such that $\\color{red}{\\hat{\\sigma}}(x) = \\sigma(x)$ for all identifiers $x \\not= f$ and $\\color{red}{\\hat{\\sigma}}(f) = \\texttt{Closure}(x, \\texttt{<body of function expr>}, \\color{red}{\\hat{\\sigma}})$.\n",
    "    * NOTE: In looking up $\\color{red}{\\hat{\\sigma}}(x)$ we can get a closure over $\\color{red}{\\hat{\\sigma}}$ itself\n",
    "    \n",
    " $$\\begin{array}{rcl}\n",
    " \\mathbf{Value} & \\Rightarrow & Num(\\mathbf{Double}) \\\\\n",
    " & \\Rightarrow & Closure(\\color{red}{\\mathbf{String}^*}, \\mathbf{Expr}, \\mathbf{Environment}) \\\\\n",
    " & \\Rightarrow & Error \\\\\n",
    " \\\\\n",
    " \\\\\n",
    " \\mathbf{Environment} & \\Rightarrow & EmptyEnv \\\\\n",
    " & \\Rightarrow & Extend(String, Value, Environment) \\\\\n",
    " & \\Rightarrow & ExtendRec(String, \\color{red}{String*}, Expr, Environment) \\\\\n",
    " \\end{array}$$"
   ]
  },
  {
   "cell_type": "code",
   "execution_count": null,
   "id": "1dff8d26",
   "metadata": {},
   "outputs": [],
   "source": [
    "sealed trait Environment \n",
    "sealed trait Value\n",
    "\n",
    "case class Num(d: Double) extends Value\n",
    "case class Bool(b: Boolean) extends Value\n",
    "case object Error extends Value\n",
    "case class Closure(s: List[String], e: Expr, env: Environment ) extends Value\n",
    "\n",
    "case object EmptyEnv extends Environment // Represent an environment with nothing in it.\n",
    "case class Extend(x: String, v: Value, sigma: Environment) extends Environment\n",
    "\n",
    "// Begin Solution\n",
    "???\n",
    "// End Solution"
   ]
  },
  {
   "cell_type": "code",
   "execution_count": null,
   "id": "c7bcd729",
   "metadata": {
    "nbgrader": {
     "grade": false,
     "grade_id": "cell-cc0ebc1ead5d46dd",
     "locked": false,
     "schema_version": 3,
     "solution": true,
     "task": false
    }
   },
   "outputs": [],
   "source": [
    "class ErrorException(s:String) extends Exception(s){}  \n",
    "\n",
    "def lookupEnv(sigma: Environment, x: String): Value = sigma match {\n",
    "    case EmptyEnv => throw new ErrorException(s\"Error could not find string $x in environment\")\n",
    "    case Extend(y, v, rest) => {\n",
    "        if (y == x ) v\n",
    "        else lookupEnv (rest, x)\n",
    "    } \n",
    "    case ExtendRec(funName, params, funBody, rest) => {\n",
    "        // BEGIN SOLUTION\n",
    "        // The illusion of circularity is here.\n",
    "        ???\n",
    "        // END SOLUTION\n",
    "    }\n",
    "}"
   ]
  },
  {
   "cell_type": "code",
   "execution_count": null,
   "id": "7d31f24d",
   "metadata": {},
   "outputs": [],
   "source": [
    "// let rec crazy_rec = function (x, y)\n",
    "//                     if (x >= 0) then 0.5 + x + y\n",
    "//                     else 20 + crazy_rec (0 - x, y)\n",
    "// in \n",
    "// crazy_rec( -5.0, 2.0)\n",
    "val eBody = IfThenElse(Geq(Ident(\"x\"), \n",
    "                           Const(0)),\n",
    "                       Plus(Plus(Const(0.5), \n",
    "                                 Ident(\"x\")), \n",
    "                            Ident(\"y\")),\n",
    "                       Plus(Const(20), \n",
    "                            FunCall(Ident(\"crazy_rec\"), \n",
    "                                    List(Minus(Const(0),\n",
    "                                               Ident(\"x\")),\n",
    "                                         Ident(\"y\")))))\n",
    "\n",
    "val env0 = EmptyEnv\n",
    "val env1 = ExtendRec(\"crazy_rec\", \n",
    "                     List(\"x\", \"y\"), \n",
    "                     eBody,\n",
    "                     env0)\n",
    "val env2 = Extend(\"x\", Bool(true), env1)\n",
    "\n",
    "// lookupEnv(env0, \"x\")  // is an error\n",
    "// lookupEnv(env0, \"y\")  // is an error\n",
    "// lookupEnv(env0, \"crazy_rec\")  // is an error\n",
    "\n",
    "// lookupEnv(env1, \"x\")  // is an error\n",
    "// lookupEnv(env1, \"y\")  // is an error\n",
    "// NOTE: tempting to say env0 in the result...\n",
    "assert(lookupEnv(env1, \"crazy_rec\") == Closure(List(\"x\", \"y\"), eBody, env1), \"test crazy_rec in env1\")\n",
    "\n",
    "assert(lookupEnv(env2, \"x\") == Bool(true), \"test x in env 2\")\n",
    "// lookupEnv(env2, \"y\")  // is an error\n",
    "assert(lookupEnv(env2, \"crazy_rec\") == Closure(List(\"x\", \"y\"), eBody, env1), \"test crazy_rec in env2\")"
   ]
  },
  {
   "cell_type": "code",
   "execution_count": null,
   "id": "5eaeec47",
   "metadata": {
    "nbgrader": {
     "grade": false,
     "grade_id": "cell-cc0ebc1ead5d46dd",
     "locked": false,
     "schema_version": 3,
     "solution": true,
     "task": false
    }
   },
   "outputs": [],
   "source": [
    "def valueToNumber(v: Value): Double = v match {\n",
    "    case Num(d) => d\n",
    "    case _ => throw new ErrorException(s\"Could not convert value $v to a number\")\n",
    "}\n",
    "\n",
    "def eval(e: Expr, env: Environment): Value = {\n",
    "    \n",
    "    def applyArith2 (e1: Expr, e2: Expr) (fun: (Double , Double) => Double) = {\n",
    "        val v1 = valueToNumber(eval(e1, env))\n",
    "        val v2 = valueToNumber(eval(e2, env))\n",
    "        val v3 = fun(v1, v2)\n",
    "        Num(v3)\n",
    "    }  \n",
    "    \n",
    "    def applyComp(e1: Expr, e2: Expr) (fun: (Double, Double) => Boolean) = {\n",
    "        val v1 = valueToNumber(eval(e1, env))\n",
    "        val v2 = valueToNumber(eval(e2, env))\n",
    "        val v3 = fun(v1, v2)\n",
    "        Bool(v3)\n",
    "    }\n",
    "    \n",
    "    e match {\n",
    "        case Const(d) => Num(d)\n",
    "        case Ident(x) => lookupEnv(env, x)\n",
    "        case Plus(e1,e2) => applyArith2(e1, e2)(_ + _)\n",
    "        case Minus(e1, e2) =>  applyArith2(e1, e2)(_ - _)\n",
    "        case Geq(e1, e2) => applyComp(e1, e2)(_ >= _)\n",
    "        \n",
    "        case Let(id, e1, e2) => {\n",
    "            val v1 = eval(e1, env)\n",
    "            val env2 =  Extend(id, v1, env)\n",
    "            eval(e2, env2)\n",
    "        }\n",
    "        \n",
    "        case IfThenElse(e1, e2, e3) => {\n",
    "            eval(e1, env) match {\n",
    "                case Bool(true) => eval(e2, env)\n",
    "                case Bool(false) => eval(e3, env)\n",
    "                case _ => throw new ErrorException(\"Not a bool for Geq operation\")\n",
    "            }\n",
    "        }\n",
    "        \n",
    "        case FunDef(idList, e) => {\n",
    "            Closure(idList, e, env)\n",
    "        }\n",
    "        case FunCall(e, eList) => {\n",
    "            val v = eval(e, env)\n",
    "            v match {\n",
    "                case Closure(argList, fBody, closureEnv) => {\n",
    "                    if (argList.length == eList.length){\n",
    "                        val valList = eList.map {eval(_, env)}\n",
    "                        val zipList = argList.zip(valList)\n",
    "                        val newMap = zipList.foldLeft[Environment] (env) { (newEnv, newBind) => Extend(newBind._1, newBind._2, newEnv) }\n",
    "                        eval(fBody, newMap)\n",
    "                    } else {\n",
    "                        throw new ErrorException(s\"Argument length mismatch\")\n",
    "                    }\n",
    "                }\n",
    "                case _ => throw new ErrorException(s\"Tried to use a numerical value as a function\")\n",
    "            }\n",
    "        }\n",
    "        \n",
    "        // Space for LetRec\n",
    "        // BEGIN SOLUTION\n",
    "        ???\n",
    "        // END SOLUTION\n",
    "    }\n",
    "}\n",
    "\n",
    "\n",
    "def evalProgram(p: Program): Value = p match {\n",
    "    case TopLevel(e) => try\n",
    "            eval(e, EmptyEnv)\n",
    "    catch {\n",
    "        case e: ErrorException => {\n",
    "            println(e)\n",
    "            Error\n",
    "        }\n",
    "        case e: IllegalArgumentException => {\n",
    "            println(e)\n",
    "            Error\n",
    "        }\n",
    "        case e => {\n",
    "            println(\"Unknown Exception \" + e.toString)\n",
    "            Error\n",
    "        }\n",
    "            \n",
    "    }\n",
    "}"
   ]
  },
  {
   "cell_type": "markdown",
   "id": "61fb437c-e6ca-407e-bf91-50f3675a335e",
   "metadata": {},
   "source": [
    "### Workspace\n",
    "Space to add your logic here so that grammar reference becomes easy. Once done copy paste your implementation to above.\n",
    "\n",
    "// Define LetRec\n",
    "~~~\n",
    "???\n",
    "~~~\n",
    "\n",
    "// Define Extend Rec\n",
    "~~~\n",
    "???\n",
    "~~~\n",
    "\n",
    "// Space for Letrec eval logic\n",
    "~~~\n",
    "???\n",
    "~~~"
   ]
  },
  {
   "cell_type": "markdown",
   "id": "5347b883-353a-4060-a7e5-fa027f1412ab",
   "metadata": {},
   "source": [
    "#### Test\n",
    "\n",
    "Run this test after you are done with making changes as per the new grammar above. "
   ]
  },
  {
   "cell_type": "code",
   "execution_count": null,
   "id": "6e8b562a-7e5f-45af-8251-193aa66eba9a",
   "metadata": {},
   "outputs": [],
   "source": [
    "/**\n",
    "let rec crazy_rec = function(x, y)\n",
    "        if ( x >= 0 )\n",
    "        then 0.5 + x + y\n",
    "        else 22 + crazy_rec( 0-x, y)\n",
    "    in\n",
    "    crazy_rec(-5, 2)\n",
    " */\n",
    "val crec = Ident(\"crazy_rec\")\n",
    "val x = Ident(\"x\")\n",
    "val y = Ident(\"y\")\n",
    "\n",
    "val e1 = FunCall(crec, List(Const(-5.0), Const(2.0)))\n",
    "val e21 = Plus(Const(0.5), Plus(x, y))\n",
    "val e22 = Plus(Const(20.0), FunCall(crec, List(Minus(Const(0), x), y)))\n",
    "val e2 = LetRec(\"crazy_rec\", List(\"x\", \"y\"), IfThenElse(Geq(x, Const(0)), e21, e22), e1)\n",
    "\n",
    "val crazyProg = TopLevel(e2)\n",
    "assert (evalProgram(crazyProg) == Num(27.5))"
   ]
  },
  {
   "cell_type": "markdown",
   "id": "3b9f6397-8d61-4646-a6d4-d59bdf786931",
   "metadata": {},
   "source": [
    "## That's all folks !"
   ]
  }
 ],
 "metadata": {
  "kernelspec": {
   "display_name": "Scala",
   "language": "scala",
   "name": "scala"
  },
  "language_info": {
   "codemirror_mode": "text/x-scala",
   "file_extension": ".sc",
   "mimetype": "text/x-scala",
   "name": "scala",
   "nbconvert_exporter": "script",
   "version": "2.13.14"
  }
 },
 "nbformat": 4,
 "nbformat_minor": 5
}
