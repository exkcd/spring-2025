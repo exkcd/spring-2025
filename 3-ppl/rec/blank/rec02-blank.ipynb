{
 "cells": [
  {
   "cell_type": "markdown",
   "id": "567274f1",
   "metadata": {},
   "source": [
    "# CSCI 3155 Spring 2025\n",
    "* This document is on Canvas\n",
    "    * Modules\n",
    "    * Week 2: Constructing Programs, ...\n",
    "    * Recitation Materials\n",
    "* Have it reading in Jupyter Notebooks before recitation begins"
   ]
  },
  {
   "cell_type": "markdown",
   "id": "deebc432",
   "metadata": {},
   "source": [
    "## Announcements\n",
    "* Assignment 1 is due tonight Friday 1/24\n",
    "* Assignment 2 will be released today and be due next Friday 1/31\n",
    "    * Start early\n",
    "    * Use OH to get help, check course google calendar (also embedded in Canvas) for times and locations\n",
    "    * Since recitations happen on Friday we don't have any OH then, it means you need to get help before\n",
    "    * Please read the collaboration policy again and follow the honor code\n",
    "    * Make sure to submit the right notebook (use good naming practices)\n",
    "* Accommodations\n",
    "    * Work with Disability Services to get your accommodations to us\n",
    "    * We have Standard operating practices for most accommodations but please discuss with your TA for any information or clarity.\n",
    "* Piazza\n",
    "    * Do not post solutions in any form\n",
    "    * Check existing posts in the relevant folder before making posting a new one\n",
    "    * Post questions publicly (optionally anonymously to peers) for things that you consider are generally applicable to the class and it helps everyone\n",
    "    * Post code snippets and not screenshots when discussing code\n",
    "    * For private post for all course related things, send it to \"Instructors\", and not just Gowtham or a specific TA"
   ]
  },
  {
   "cell_type": "markdown",
   "id": "7ece3b2a",
   "metadata": {},
   "source": [
    "# Recitation Week 2\n",
    "\n",
    "### Ref: Course Notes notebook 3 \"Recursion\"\n",
    "* Modules\n",
    "* Week 2\n",
    "* Readings\n",
    "* Recursion.ipynb\n",
    "\n",
    "In this recitation, we will focus on writing functions using recursion and tail recursions. We will also learn how to convert a non-recursive code to recursive version."
   ]
  },
  {
   "cell_type": "markdown",
   "id": "f246cafe",
   "metadata": {},
   "source": [
    "# Example 1\n",
    "\n",
    "Let's write a recursive function to count all the zeros in a given list"
   ]
  },
  {
   "cell_type": "markdown",
   "id": "282cd4ba-a781-4cdb-8a9a-9ef01ba6efab",
   "metadata": {},
   "source": [
    "## Example  1(A) : Writing a recursive function\n",
    "* How many `0`s are in the following lists?\n",
    "    * List( )\n",
    "    * List(1,2,3)\n",
    "    * List(0, 1, 0, 1, 5, 0)"
   ]
  },
  {
   "cell_type": "code",
   "execution_count": 1,
   "id": "27be24ee",
   "metadata": {},
   "outputs": [
    {
     "data": {
      "text/plain": [
       "defined \u001b[32mfunction\u001b[39m \u001b[36mcountZeros\u001b[39m"
      ]
     },
     "execution_count": 1,
     "metadata": {},
     "output_type": "execute_result"
    }
   ],
   "source": [
    "def countZeros(lst: List[Int]): Int = {\n",
    "    // Let's write a recursive function\n",
    "\n",
    "    if(lst.length == 0) {\n",
    "        return 0\n",
    "    } else { // recursive call\n",
    "        if (lst.head == 0) {\n",
    "            // increment\n",
    "            return 1 + countZeros(lst.tail)\n",
    "        } else {\n",
    "            // don't increment\n",
    "            return countZeros(lst.tail)\n",
    "        }\n",
    "    }\n",
    "}"
   ]
  },
  {
   "cell_type": "code",
   "execution_count": 3,
   "id": "53a7ed6c",
   "metadata": {},
   "outputs": [],
   "source": [
    "assert(countZeros(List(0, 1, 0, 1, 0, 1)) == 3)\n",
    "assert(countZeros(List(0)) == 1)\n",
    "assert(countZeros(List(2, 3, 4, -2)) == 0)\n",
    "assert(countZeros(List(0, 0, 0, 0, 0, 0)) == 6)\n",
    "assert(countZeros(List(5, 1, 2, 3, 4, 5, 0, 1, 5)) == 1)\n",
    "assert(countZeros(List()) == 0)"
   ]
  },
  {
   "cell_type": "markdown",
   "id": "6f1e7d64-464f-4775-8bf2-5263b24b140b",
   "metadata": {},
   "source": [
    "## The magic of Tail Recursion\n",
    "\n",
    "We have discussed tail recursion in lecture, let's discuss the why and how some more."
   ]
  },
  {
   "cell_type": "markdown",
   "id": "e9930372-ad31-4ce4-8ba2-333f363cb9b6",
   "metadata": {},
   "source": [
    "## Example 1(B) : A tail-recursive function"
   ]
  },
  {
   "cell_type": "code",
   "execution_count": 3,
   "id": "d00f26c0",
   "metadata": {},
   "outputs": [
    {
     "data": {
      "text/plain": [
       "\u001b[32mimport \u001b[39m\u001b[36mscala.annotation.tailrec\u001b[39m"
      ]
     },
     "execution_count": 3,
     "metadata": {},
     "output_type": "execute_result"
    }
   ],
   "source": [
    "// import this only once to save time\n",
    "import scala.annotation.tailrec"
   ]
  },
  {
   "cell_type": "code",
   "execution_count": 4,
   "id": "4e00daf0",
   "metadata": {},
   "outputs": [
    {
     "data": {
      "text/plain": [
       "defined \u001b[32mfunction\u001b[39m \u001b[36mcountZerosTail\u001b[39m"
      ]
     },
     "execution_count": 4,
     "metadata": {},
     "output_type": "execute_result"
    }
   ],
   "source": [
    "//BEGIN SOLUTION\n",
    "// NOTE: acc: Int = ???\n",
    "//       in the ??? we can set a default argument for acc\n",
    "//       so users can call countZerosTail with only one argument\n",
    "//       from outside of the function\n",
    "@tailrec\n",
    "def countZerosTail(lst: List[Int], acc: Int = 0): Int = {\n",
    "    if (lst == Nil) {\n",
    "        return acc\n",
    "    } else {\n",
    "        if (lst.head==0) {\n",
    "            return countZerosTail(lst.tail, acc+1)    \n",
    "        } else {\n",
    "            return countZerosTail(lst.tail, acc)\n",
    "        }\n",
    "    }\n",
    "}\n",
    "//END SOLUTION"
   ]
  },
  {
   "cell_type": "code",
   "execution_count": 5,
   "id": "b2fda881",
   "metadata": {},
   "outputs": [],
   "source": [
    "assert(countZerosTail(List(0, 1, 0, 1, 0, 1)) == 3)\n",
    "assert(countZerosTail(List(0)) == 1)\n",
    "assert(countZerosTail(List(2, 3, 4, -2)) == 0)\n",
    "assert(countZerosTail(List(0, 0, 0, 0, 0, 0)) == 6)\n",
    "assert(countZerosTail(List(5, 1, 2, 3, 4, 5, 0, 1, 5)) == 1)\n",
    "assert(countZerosTail(List()) == 0)"
   ]
  },
  {
   "cell_type": "markdown",
   "id": "d1fbd839",
   "metadata": {},
   "source": [
    "## Exercise 2\n",
    "\n",
    "* Complete below function which calculates sum of first 'N' natural numbers. Natural numbers start from 0, 1, 2...N.\n",
    "* name it `sumOfNumbers`\n",
    "* Sanity check:\n",
    "    * what is sumOfNumbers(1) equal to?\n",
    "        * 1 = 0 + 1\n",
    "    * what is sumOfNumbers(2) equal to?\n",
    "        * 3 = 0 + 1 + 2\n",
    "    * what is sumOfNumbers(3) equal to?\n",
    "        * 6 = 0 + 1 + 2 + 3"
   ]
  },
  {
   "cell_type": "code",
   "execution_count": 6,
   "id": "3f6ef647",
   "metadata": {},
   "outputs": [
    {
     "data": {
      "text/plain": [
       "defined \u001b[32mfunction\u001b[39m \u001b[36msumOfNumbers\u001b[39m"
      ]
     },
     "execution_count": 6,
     "metadata": {},
     "output_type": "execute_result"
    }
   ],
   "source": [
    "// Write a recursive function named sumOfNumbers\n",
    "def sumOfNumbers(n: Int) : Int = {\n",
    "    var acc = 0\n",
    "    if (n==0) {\n",
    "        return 0\n",
    "    } else {\n",
    "        sumOfNumbers(n-1) + n\n",
    "    }\n",
    "\n",
    "}"
   ]
  },
  {
   "cell_type": "code",
   "execution_count": 7,
   "id": "4b90ba91-7c3a-4e00-a680-a0cbce7a24db",
   "metadata": {},
   "outputs": [
    {
     "data": {
      "text/plain": [
       "\u001b[36mn1\u001b[39m: \u001b[32mInt\u001b[39m = \u001b[32m10\u001b[39m\n",
       "\u001b[36mn2\u001b[39m: \u001b[32mInt\u001b[39m = \u001b[32m5\u001b[39m"
      ]
     },
     "execution_count": 7,
     "metadata": {},
     "output_type": "execute_result"
    }
   ],
   "source": [
    "val n1 = 10\n",
    "val n2 = 5\n",
    "assert(sumOfNumbers(n1)==55, \"Failed to return 55\") // 55 is the correct answer\n",
    "assert(sumOfNumbers(n2)==15, \"Failed to return 15\") // 15 is the correct answer"
   ]
  },
  {
   "cell_type": "code",
   "execution_count": 7,
   "id": "062647d2",
   "metadata": {},
   "outputs": [],
   "source": [
    "// // Should already be imported from earlier\n",
    "// // but uncomment and run if you see error on below block::\n",
    "//    // cmd0.sc:1: not found: type tailrec\n",
    "//    // @tailrec\n",
    "//    //  ^Compilation Failed\n",
    "// import scala.annotation.tailrec"
   ]
  },
  {
   "cell_type": "code",
   "execution_count": 8,
   "id": "1148603e-03fe-4932-9041-d88f057001c3",
   "metadata": {},
   "outputs": [
    {
     "data": {
      "text/plain": [
       "defined \u001b[32mfunction\u001b[39m \u001b[36msumOfNumbersTailRec\u001b[39m"
      ]
     },
     "execution_count": 8,
     "metadata": {},
     "output_type": "execute_result"
    }
   ],
   "source": [
    "// Write a tail-recursive function named sumOfNumbersTailRec\n",
    "// Not sure where to start? \n",
    "//    There is a template at the bottom of this document\n",
    "@tailrec\n",
    "def sumOfNumbersTailRec(n: Int, acc: Int = 0) : Int = {\n",
    "    if (n==0) {\n",
    "        return acc\n",
    "    }\n",
    "    return sumOfNumbersTailRec(n-1, acc+n)\n",
    "}"
   ]
  },
  {
   "cell_type": "code",
   "execution_count": 9,
   "id": "5b354021",
   "metadata": {},
   "outputs": [
    {
     "data": {
      "text/plain": [
       "\u001b[36mn1\u001b[39m: \u001b[32mInt\u001b[39m = \u001b[32m10\u001b[39m\n",
       "\u001b[36mn2\u001b[39m: \u001b[32mInt\u001b[39m = \u001b[32m5\u001b[39m"
      ]
     },
     "execution_count": 9,
     "metadata": {},
     "output_type": "execute_result"
    }
   ],
   "source": [
    "val n1 = 10\n",
    "val n2 = 5\n",
    "assert(sumOfNumbersTailRec(n1)==55, \"Failed to return 55\") // 55 is the correct answer\n",
    "assert(sumOfNumbersTailRec(n2)==15, \"Failed to return 15\") // 15 is the correct answer"
   ]
  },
  {
   "cell_type": "markdown",
   "id": "5f5cccc0",
   "metadata": {},
   "source": [
    "## Exercise 3\n",
    "\n",
    "You are given a non recursive function to check if a string is a palindrome. Convert this function to its tail recursive version."
   ]
  },
  {
   "cell_type": "code",
   "execution_count": 10,
   "id": "a0798941",
   "metadata": {},
   "outputs": [
    {
     "data": {
      "text/plain": [
       "defined \u001b[32mfunction\u001b[39m \u001b[36mcheckPalindrome\u001b[39m"
      ]
     },
     "execution_count": 10,
     "metadata": {},
     "output_type": "execute_result"
    }
   ],
   "source": [
    "// provided non recursive\n",
    "def checkPalindrome(s: String): Boolean = {\n",
    "    var start: Int = 0\n",
    "    var end: Int = s.length-1\n",
    "    \n",
    "    while (start < end){\n",
    "        if (s(start) != s(end)) return false\n",
    "        start += 1\n",
    "        end -= 1\n",
    "    }\n",
    "    return true\n",
    "}"
   ]
  },
  {
   "cell_type": "code",
   "execution_count": 11,
   "id": "85602d3b",
   "metadata": {},
   "outputs": [
    {
     "data": {
      "text/plain": [
       "\u001b[36ms1\u001b[39m: \u001b[32mString\u001b[39m = \u001b[32m\"abba\"\u001b[39m\n",
       "\u001b[36ms2\u001b[39m: \u001b[32mString\u001b[39m = \u001b[32m\"scala\"\u001b[39m\n",
       "\u001b[36ms3\u001b[39m: \u001b[32mString\u001b[39m = \u001b[32m\"malayalam\"\u001b[39m\n",
       "\u001b[36ms4\u001b[39m: \u001b[32mString\u001b[39m = \u001b[32m\"aabb\"\u001b[39m"
      ]
     },
     "execution_count": 11,
     "metadata": {},
     "output_type": "execute_result"
    }
   ],
   "source": [
    "val s1 = \"abba\"; val s2 = \"scala\"; val s3 = \"malayalam\"; val s4 = \"aabb\"\n",
    "assert(checkPalindrome(s1)==true, s\"Failed. $s1 is a palindrome\") // Palindrome\n",
    "assert(checkPalindrome(s2)==false, s\"Failed. $s1 is not a palindrome\") // not palindrome\n",
    "assert(checkPalindrome(s3)==true, s\"Failed. $s3 is a palindrome\") // palindrome\n",
    "assert(checkPalindrome(s4)==false, s\"Failed. $s1 is not a palindrome\") // not palindrome"
   ]
  },
  {
   "cell_type": "code",
   "execution_count": 23,
   "id": "0082cc9a-d746-400b-9255-c7525759ab05",
   "metadata": {},
   "outputs": [
    {
     "data": {
      "text/plain": [
       "\u001b[36mres23\u001b[39m: \u001b[32mChar\u001b[39m = \u001b[32m'a'\u001b[39m"
      ]
     },
     "execution_count": 23,
     "metadata": {},
     "output_type": "execute_result"
    }
   ],
   "source": [
    "\"abba\"(0)"
   ]
  },
  {
   "cell_type": "code",
   "execution_count": 11,
   "id": "3bd61f68",
   "metadata": {},
   "outputs": [],
   "source": [
    "// // Should already be imported from earlier\n",
    "// // but uncomment and run if you see error on below block::\n",
    "//    // cmd0.sc:1: not found: type tailrec\n",
    "//    // @tailrec\n",
    "//    //  ^Compilation Failed\n",
    "// import scala.annotation.tailrec"
   ]
  },
  {
   "cell_type": "code",
   "execution_count": null,
   "id": "89109fa4",
   "metadata": {},
   "outputs": [],
   "source": [
    "@tailrec\n",
    "def checkPalindromeTailRec(s:String, start:Int, end:Int): Boolean = {\n",
    "    // Write your code here\n",
    "    \n",
    "    \n",
    "}"
   ]
  },
  {
   "cell_type": "code",
   "execution_count": null,
   "id": "3f6b8fc6",
   "metadata": {},
   "outputs": [],
   "source": [
    "val s1 = \"abba\"; val s2 = \"scala\"; val s3 = \"malayalam\"; val s4 = \"aabb\"\n",
    "assert(checkPalindromeTailRec(s1, 0, s1.length - 1)==true, s\"Failed. $s1 is a palindrome\") // Palindrome\n",
    "assert(checkPalindromeTailRec(s2, 0, s2.length - 1)==false, s\"Failed. $s2 is not a palindrome\") // not palindrome\n",
    "assert(checkPalindromeTailRec(s3, 0, s3.length - 1)==true, s\"Failed. $s3 is a palindrome\") // palindrome\n",
    "assert(checkPalindromeTailRec(s4, 0, s4.length - 1)==false, s\"Failed. $s4 is not a palindrome\") // not palindrome"
   ]
  },
  {
   "cell_type": "markdown",
   "id": "17b61c36",
   "metadata": {},
   "source": [
    "# Reminders\n",
    "* The Solutions version of this document goes live on canvas this evening.\n",
    "* Assignment 1 is dues tonight Friday 1/24\n",
    "* Assignment 2 will be released today and be due next Friday 1/31"
   ]
  },
  {
   "cell_type": "markdown",
   "id": "3db58fd5",
   "metadata": {},
   "source": [
    "### That's all for today folks!!"
   ]
  },
  {
   "cell_type": "code",
   "execution_count": null,
   "id": "e3885b78",
   "metadata": {},
   "outputs": [],
   "source": [
    "// a template to get you started for sumOfNumbersTailRec\n",
    "// one blank filled in in the next template if you are struggling\n",
    "// and want another hint.\n",
    "// This isn't THE template for THE solution\n",
    "//      This is merely a valid template\n",
    "@tailrec\n",
    "def sumOfNumbersTailRec(n: Int, accum:Int = ???): Int = {\n",
    "    // Complete the missing portions in this function\n",
    "    if (???) { ??? }\n",
    "    else {\n",
    "        sumOfNumbersTailRec(???, ???)\n",
    "    }\n",
    "}"
   ]
  },
  {
   "cell_type": "code",
   "execution_count": null,
   "id": "85192498",
   "metadata": {},
   "outputs": [],
   "source": [
    "// a template to get you started for sumOfNumbersTailRec\n",
    "// This isn't THE template for THE solution\n",
    "//      This is merely a valid template\n",
    "@tailrec\n",
    "def sumOfNumbersTailRec(n: Int, accum:Int = 1): Int = {\n",
    "    // Complete the missing portions in this function\n",
    "    if (???) { ??? }\n",
    "    else {\n",
    "        sumOfNumbersTailRec(???, ???)\n",
    "    }\n",
    "}"
   ]
  }
 ],
 "metadata": {
  "kernelspec": {
   "display_name": "Scala",
   "language": "scala",
   "name": "scala"
  },
  "language_info": {
   "codemirror_mode": "text/x-scala",
   "file_extension": ".sc",
   "mimetype": "text/x-scala",
   "name": "scala",
   "nbconvert_exporter": "script",
   "version": "2.13.14"
  }
 },
 "nbformat": 4,
 "nbformat_minor": 5
}
