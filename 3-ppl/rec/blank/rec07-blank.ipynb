{
 "cells": [
  {
   "cell_type": "markdown",
   "id": "b764d0e4-bce6-4424-875d-c97924b38e74",
   "metadata": {},
   "source": [
    "# Week 7: Functions and Dynamic Scoping"
   ]
  },
  {
   "cell_type": "markdown",
   "id": "7fd54ceb-4b7c-4a3f-a127-01f004a64ac0",
   "metadata": {},
   "source": [
    "We're introducing functions to Lettuce, which means we'll need a few new things:\n",
    "- A way for functions to be defined\n",
    "- A way for functions to be called\n",
    "\n",
    "In order for us to have those as inference rules, we'll need to be able to save functions to our environment; that means updating our the Value rule in our grammar:\n",
    "\n",
    "$$\\begin{array}{rcl}\n",
    " \\mathbf{Value} & \\Rightarrow & Num(\\mathbf{Double}) \\\\\n",
    " & \\Rightarrow & Function({\\mathbf{String^*}}, \\mathbf{Expr}) \\\\\n",
    " & \\Rightarrow & Error \\\\\n",
    "\\end{array}$$\n",
    "\n",
    "Here, the String* within our Function value denotes parameter names.\n"
   ]
  },
  {
   "cell_type": "markdown",
   "id": "8f15c1b4-32a5-4e86-865e-712a2c3d4986",
   "metadata": {},
   "source": [
    "Now we need to consider our inference rules for creating a function:\n",
    "\n",
    "$$\\newcommand\\semRule[3]{\\begin{array}{c} #1 \\\\ \\hline #2 \\\\\\end{array} (\\text{#3})} $$\n",
    "$$\\newcommand\\eval{\\mathbf{eval}}$$\n",
    "$$\\semRule{}{\\eval(\\texttt{FunDef([id1,..., idk], e)},\\sigma) = \\text{Function}(\\texttt{[id1,..., idk]}, \\texttt{e})}{fundef}$$\n",
    "<br /><br />\n",
    "\n",
    "$$\\semRule {\\eval(\\texttt{e}, \\sigma) = \\text{Function}(\\texttt{[id1,..., idn]}, \\texttt{fBody}), {n = k},\\ (\\forall\\ i \\in \\{ 1, \\ldots, k\\})\\ \\eval(\\texttt{ei}, \\sigma) = v_i,  v_i \\not= \\mathbf{error}}\n",
    "           {\\eval(\\texttt{FunCall(e, [e1, ..., ek])}, \\sigma) = \\eval(\\texttt{fBody},{\\sigma} {\\circ [id1 \\rightarrow v_1, \\ldots, idk \\rightarrow v_k]})}{funcall-ok}$$\n",
    "     \n",
    "So we have one rule that describes the ability to define a function.  Then we have our rule to call a function, which does the following:\n",
    "- Evaluates all of the expressions passed in as parameters\n",
    "- Updates the environment to ensure that parameter names point to the appropriate values\n",
    "- Evaluates the function body on that new environment\n",
    "\n",
    "We can also write some error rules:\n",
    "\n",
    "$$\\semRule {\\eval(\\texttt{e}, \\sigma) \\not\\in \\text{Function}}\n",
    "           {\\eval(\\texttt{FunCall(e, [e1, ..., ek])}, \\sigma) = \\mathbf{error}}{funcall-not-a-function}$$\n",
    "<br /><br />\n",
    "\n",
    "\n",
    "$$\\semRule {\\eval(\\texttt{e}, \\sigma) = \\text{Function}(\\texttt{[id1,..., idn]}, \\texttt{fBody}), {n \\not= k}}\n",
    "           {\\eval(\\texttt{FunCall(e, [e1, ..., ek])}, \\sigma) = \\mathbf{error}}{funcall-wrong-num-args}$$\n",
    "           \n",
    "  <br /><br />\n",
    "\n",
    "$$\\semRule {\\eval(\\texttt{e}, \\sigma) = \\text{Closure}(\\texttt{[id1,..., idn]}, \\texttt{fBody}), {n = k},\\ (\\exists\\ i \\in \\{1, \\ldots, k\\})\\ \\eval(\\texttt{ei}, \\sigma) = \\mathbf{error}}\n",
    "           {\\eval(\\texttt{FunCall(e, [e1, ..., ek])}, \\sigma) = \\mathbf{error}}{funcall-arg-error}$$"
   ]
  },
  {
   "cell_type": "markdown",
   "id": "fe436665-926a-4156-b46c-d8e3256c5ffb",
   "metadata": {},
   "source": [
    "# Exercise 1\n",
    "Implement the necessary classes for our function inference rules"
   ]
  },
  {
   "cell_type": "code",
   "execution_count": 3,
   "id": "d95429ec-4e94-4e6d-aabf-483ab7fe0814",
   "metadata": {},
   "outputs": [
    {
     "data": {
      "text/plain": [
       "defined \u001b[32mtrait\u001b[39m \u001b[36mValue\u001b[39m\n",
       "defined \u001b[32mtrait\u001b[39m \u001b[36mExpr\u001b[39m\n",
       "defined \u001b[32mclass\u001b[39m \u001b[36mNumValue\u001b[39m\n",
       "defined \u001b[32mclass\u001b[39m \u001b[36mBoolValue\u001b[39m\n",
       "defined \u001b[32mobject\u001b[39m \u001b[36mError\u001b[39m\n",
       "defined \u001b[32mclass\u001b[39m \u001b[36mFunction\u001b[39m\n",
       "defined \u001b[32mclass\u001b[39m \u001b[36mConst\u001b[39m\n",
       "defined \u001b[32mclass\u001b[39m \u001b[36mIdent\u001b[39m\n",
       "defined \u001b[32mclass\u001b[39m \u001b[36mPlus\u001b[39m\n",
       "defined \u001b[32mclass\u001b[39m \u001b[36mGeq\u001b[39m\n",
       "defined \u001b[32mclass\u001b[39m \u001b[36mIfThenElse\u001b[39m\n",
       "defined \u001b[32mclass\u001b[39m \u001b[36mLet\u001b[39m\n",
       "defined \u001b[32mclass\u001b[39m \u001b[36mFunCall\u001b[39m\n",
       "defined \u001b[32mclass\u001b[39m \u001b[36mFunDef\u001b[39m\n",
       "defined \u001b[32mtype\u001b[39m \u001b[36mEnv\u001b[39m"
      ]
     },
     "execution_count": 3,
     "metadata": {},
     "output_type": "execute_result"
    }
   ],
   "source": [
    "sealed trait Value\n",
    "sealed trait Expr\n",
    "\n",
    "case class NumValue(d: Double) extends Value\n",
    "case class BoolValue(b: Boolean) extends Value\n",
    "case object Error extends Value\n",
    "\n",
    "//TODO: implement Function Value\n",
    "case class Function(params: List[String], body: Expr) extends Value\n",
    "\n",
    "case class Const(v: Double) extends Expr // Expr -> Const(v)\n",
    "case class Ident(s: String) extends Expr // Expr -> Ident(s)\n",
    "\n",
    "// Arithmetic Expressions\n",
    "case class Plus(e1: Expr, e2: Expr) extends Expr // Expr -> Plus(Expr, Expr)\n",
    "\n",
    "// Boolean Expressions\n",
    "case class Geq(e1: Expr, e2:Expr) extends Expr\n",
    "\n",
    "//If then else\n",
    "case class IfThenElse(e: Expr, eIf: Expr, eElse: Expr) extends Expr\n",
    "\n",
    "//Let bindings\n",
    "case class Let(s: String, defExpr: Expr, bodyExpr: Expr) extends Expr\n",
    "\n",
    "// BEGIN SOLUTION\n",
    "case class FunCall(exp: Expr, params: List[String]) extends Expr\n",
    "case class FunDef(params: List[String], fbody: Expr) extends Expr\n",
    "// END SOLUTION\n",
    "\n",
    "type Env = Map[String, Value]"
   ]
  },
  {
   "cell_type": "markdown",
   "id": "86bdfc15-de79-43f3-9648-283d357a6f25",
   "metadata": {},
   "source": [
    "# Exercise 2\n",
    "Implement the necessary cases for function definitions and calls within our evaluation logic."
   ]
  },
  {
   "cell_type": "code",
   "execution_count": null,
   "id": "0d8f41de-b4e5-471c-b482-6529c3647df9",
   "metadata": {},
   "outputs": [
    {
     "name": "stderr",
     "output_type": "stream",
     "text": [
      "(console):38:46 expected \"=>\"\n",
      "                case Function(params, fBody) {\n",
      "                                             ^"
     ]
    }
   ],
   "source": [
    "// Convenience functions for allowing modular implementation\n",
    "type Eval = (Expr, Env) => Value\n",
    "\n",
    "def getEvalExpr(evalLet: (Expr, Env, Eval) => Value, evalIdent: (Expr, Env, Eval) => Value): Eval = {\n",
    "    def evalExpr(e: Expr, env: Env) : Value = e match {\n",
    "        case Const(f) => NumValue(f)\n",
    "\n",
    "        case Ident(x) => evalIdent(e, env, evalExpr)\n",
    "\n",
    "        case Plus(e1, e2) => (evalExpr(e1, env), evalExpr(e2, env)) match {\n",
    "                case (NumValue(n1), NumValue(n2)) => NumValue(n1 + n2)\n",
    "                case _ => throw new IllegalArgumentException(\"Plus on non-number\")\n",
    "        }\n",
    "\n",
    "        case Geq(e1, e2) => (evalExpr(e1, env), evalExpr(e2, env)) match {\n",
    "            case (NumValue(n1), NumValue(n2)) => BoolValue( n1 >= n2)\n",
    "            case _ => throw new IllegalArgumentException(\"Geq on non-number\")\n",
    "        }\n",
    "\n",
    "        case IfThenElse(e1, e2, e3) => {\n",
    "            val v = evalExpr(e1, env)\n",
    "            v match {\n",
    "                case BoolValue(true) => evalExpr(e2, env)\n",
    "                case BoolValue(false) => evalExpr(e3, env)\n",
    "                case _ => throw new IllegalArgumentException(s\"If-then-else condition expr: ${e1} is non-boolean -- evaluates to ${v}\")\n",
    "            }\n",
    "        }\n",
    "        case e @ Let(_, _, _) => evalLet(e, env, evalExpr)\n",
    "        \n",
    "        // Hint: it might be worth thinking about map/zip/foldLeft with FunCall\n",
    "        // BEGIN SOLUTION\n",
    "\n",
    "        case FunDef(ids, e) =>  Function(ids, e)\n",
    "        \n",
    "        case FunCall(e, inputEx) => {\n",
    "            val v = evalExpr(e, env) // this will evaluate the expression, put in param?\n",
    "            v match {\n",
    "                case Function(params, fBody) {\n",
    "                    if (params.length == inputEx.length) {\n",
    "                        val inVal = \n",
    "                    }\n",
    "\n",
    "                }\n",
    "            }\n",
    "        }\n",
    "        // END SOLUTION\n",
    "        \n",
    "        case _ => throw new IllegalArgumentException(\"Not supported\")\n",
    "    }\n",
    "    \n",
    "    evalExpr\n",
    "}\n",
    "\n",
    "def evalIdent1(identExpr : Expr, env: Env, evalExpr: (Expr, Env) => Value): Value = identExpr match {\n",
    "    case Ident(x) => if (env contains x) env(x) else throw new IllegalArgumentException(\"Ill-formed\")\n",
    "    case _ => throw new IllegalArgumentException(\"Not a Let Expression\")\n",
    "}\n",
    "\n",
    "def evalLet1(letExpr: Expr, env: Env, evalExpr: (Expr, Env) => Value): Value = letExpr match {\n",
    "    case Let(x, e1, e2) => {\n",
    "        val v1 = evalExpr(e1, env)\n",
    "        val env2 = env + (x -> v1)\n",
    "        evalExpr(e2, env2)\n",
    "    }\n",
    "    case _ => throw new IllegalArgumentException(\"Not a Let Expression\")\n",
    "}"
   ]
  },
  {
   "cell_type": "markdown",
   "id": "c38d11fe-c4b5-44b0-9b4e-d55e95f4019d",
   "metadata": {},
   "source": [
    "# Exercise 3\n",
    "Let's test our logic with the programs below."
   ]
  },
  {
   "cell_type": "code",
   "execution_count": 3,
   "id": "a8716389-00fe-4b3f-b079-3d80aadb7ec0",
   "metadata": {},
   "outputs": [
    {
     "name": "stderr",
     "output_type": "stream",
     "text": [
      "cmd3.sc:21: type mismatch;\n",
      " found   : cmd3.this.cmd1.Const\n",
      " required: String\n",
      "                 FunCall(Ident(\"f\"), List(Const(2.0))))\n",
      "                                               ^\n",
      "Compilation Failed"
     ]
    }
   ],
   "source": [
    "// Programs without function definitions/calls . . . we want to make sure we're not breaking\n",
    "// some pre-existing logic\n",
    "val p1 = Let(\"x\", Const(3.0),\n",
    "             Let(\"y\", Const(2.0),\n",
    "                 IfThenElse(Geq(Ident(\"x\"), Ident(\"y\")), Ident(\"x\"), Ident(\"y\"))\n",
    "                 )\n",
    "             )\n",
    "\n",
    "val p2 = Let(\"x\", Const(3.0),\n",
    "             Let(\"x\", Plus(Ident(\"x\"), Const(1.0)),\n",
    "               Ident(\"x\")\n",
    "            )\n",
    "         )\n",
    "\n",
    "val p3 = Let(\"x\", Plus(Ident(\"x\"), Const(3.0)),\n",
    "                 Let(\"x\", Plus(Ident(\"x\"), Const(1.0)),\n",
    "                     Ident(\"x\")\n",
    "                 )\n",
    "         )\n",
    "val p4 = Let(\"f\", FunDef(List(\"var\"), Plus(Ident(\"var\"), Const(3.0))),\n",
    "                 FunCall(Ident(\"f\"), List(Const(2.0))))"
   ]
  },
  {
   "cell_type": "markdown",
   "id": "96dd6e0a-94fe-4e5d-8c74-2ff1af11154e",
   "metadata": {},
   "source": [
    "Our programs above are as follows:\n",
    "\n",
    "### Program 1\n",
    "```ocaml\n",
    "let x = 3 in \n",
    "    let y = 2 in \n",
    "        if x >= y \n",
    "            x\n",
    "        else \n",
    "            y\n",
    "```\n",
    "Expected Value: 3\n",
    "\n",
    "### Program 2\n",
    "```ocaml\n",
    "let x = 3 in \n",
    "    let x = x + 1 in\n",
    "        x\n",
    "```\n",
    "\n",
    "Expected Value: 4\n",
    "### Program 3\n",
    "```ocaml\n",
    "let x = x + 3 in \n",
    "    let x = x + 1 in\n",
    "        x\n",
    "```\n",
    "\n",
    "### Program 4\n",
    "```ocaml\n",
    "let f = func(var) var + 3 in \n",
    "    f(2)\n",
    "```\n",
    "\n",
    "Expected Value: 5"
   ]
  },
  {
   "cell_type": "code",
   "execution_count": null,
   "id": "c3503760-3e8c-4e20-bd75-1f6c9d917ecf",
   "metadata": {
    "tags": []
   },
   "outputs": [],
   "source": [
    "val evalExpr: Eval = getEvalExpr(evalLet1, evalIdent1)\n",
    "assert(evalExpr(p1, Map.empty) == NumValue(3.0))\n",
    "assert(evalExpr(p2, Map.empty) == NumValue(4.0))\n",
    "try {\n",
    "    evalExpr(p3, Map.empty)\n",
    "    assert(false)\n",
    "} catch {\n",
    "    case e : IllegalArgumentException => if (e.getMessage == \"Ill-formed\") assert(true) else assert(false)\n",
    "}\n",
    "\n",
    "assert(evalExpr(p4, Map.empty) == NumValue(5.0))\n",
    "println(\"It Worked!\")"
   ]
  },
  {
   "cell_type": "markdown",
   "id": "e3ebe269-2ddb-475d-83dc-cb0a38138be9",
   "metadata": {},
   "source": [
    "Now let's add a program to test multiple parameters:\n",
    "### Program 5\n",
    "```ocaml\n",
    "let f = func(x, y) x + y in \n",
    "    f(2, 5)\n",
    "```\n",
    "\n",
    "Expected Value: 7"
   ]
  },
  {
   "cell_type": "code",
   "execution_count": null,
   "id": "7d76548f-8715-4a62-a165-6d44bd969049",
   "metadata": {
    "tags": []
   },
   "outputs": [],
   "source": [
    "val p5 = Let(\"f\", FunDef(List(\"x\", \"y\"), Plus(Ident(\"x\"), Ident(\"y\"))),\n",
    "                 FunCall(Ident(\"f\"), List(Const(2.0), Const(5.0))))"
   ]
  },
  {
   "cell_type": "code",
   "execution_count": null,
   "id": "361d2886-a3ae-49b6-a229-4f8878f858e2",
   "metadata": {
    "tags": []
   },
   "outputs": [],
   "source": [
    "assert(evalExpr(p5, Map.empty) == NumValue(7.0))"
   ]
  },
  {
   "cell_type": "markdown",
   "id": "6700baea-1649-4410-bf10-1a9de2c1f732",
   "metadata": {},
   "source": [
    "Now let's try referencing a global variable\n",
    "\n",
    "### Program 6\n",
    "```ocaml\n",
    "let y = 2 in\n",
    "    let f = func(x) x + y in \n",
    "        let y = 3 in\n",
    "            f(2)\n",
    "```\n",
    "\n",
    "Expected Value: ???\n",
    "\n",
    "What do we think this evaluates to?  Why?  Write a test case for this program; it should follow the assertion syntax above."
   ]
  },
  {
   "cell_type": "code",
   "execution_count": null,
   "id": "72073219-3ec2-4e6f-9cd6-28f56cb80d64",
   "metadata": {
    "tags": []
   },
   "outputs": [],
   "source": [
    "val p6 = Let(\"y\", Const(2.0), \n",
    "             Let(\"f\", FunDef(List(\"x\"), Plus(Ident(\"x\"), Ident(\"y\"))),\n",
    "                Let(\"y\", Const(3.0),\n",
    "                    FunCall(Ident(\"f\"), List(Const(2.0))\n",
    "                    )\n",
    "                )\n",
    "            )\n",
    "        )\n",
    "\n",
    "// BEGIN SOLUTION\n",
    "???\n",
    "// END SOLUTION"
   ]
  },
  {
   "cell_type": "markdown",
   "id": "f23505b5-ec19-4108-9eaf-6e63e8a8edf3",
   "metadata": {},
   "source": [
    "# Dynamic Scope\n",
    "\n",
    "What we've stumbled upon is what's known as dynamic scope.  This means that that, unlike most programming languages we're familiar with, when a function is called, it runs on the environment at runtime INSTEAD of running on the environment that existed when the function was defined.\n",
    "\n",
    "As we can see, this might result in behavior that we don't expect, so it isn't necessarily desirable.  Instead, we'll be looking to implement static scope, which is what most of us are familiar with.  But in order to do so, we'll need to shake up our inference rules and create a few clever work arounds . . . and that is a task for the future."
   ]
  }
 ],
 "metadata": {
  "kernelspec": {
   "display_name": "Scala",
   "language": "scala",
   "name": "scala"
  },
  "language_info": {
   "codemirror_mode": "text/x-scala",
   "file_extension": ".sc",
   "mimetype": "text/x-scala",
   "name": "scala",
   "nbconvert_exporter": "script",
   "version": "2.13.14"
  }
 },
 "nbformat": 4,
 "nbformat_minor": 5
}
