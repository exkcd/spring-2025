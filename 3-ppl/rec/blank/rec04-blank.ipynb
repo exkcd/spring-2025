{
 "cells": [
  {
   "cell_type": "markdown",
   "id": "84971b88-f250-4415-9b3d-6e56d11f2701",
   "metadata": {},
   "source": [
    "# CSCI 3155 Spring 2024\n",
    "\n",
    "# Recitation Week 4\n",
    "\n",
    "## Mython\n",
    "Today we will work through building a mini-interpreter for a language inspired by Python 3 that we'll call 'Mython'.\n",
    "You'll explore some design decisions Python makes, and document langauge features in english prose.\n",
    "You'll then implement a simple interpreter for these features.\n",
    "\n",
    "### Checking Python 3's behavior\n",
    "Our class environment on https://coding.csel.io has a Python 3 interpreter installed. You can open up a launcher tab and start a Python 3 console to test out how expressions work in Python 3.\n"
   ]
  },
  {
   "cell_type": "markdown",
   "id": "9776a187-4920-4182-98d7-eeb558c1e84d",
   "metadata": {},
   "source": [
    "# Mython Language\n",
    "The grammar for our Mython language is given as follows: \n",
    "\n",
    "$$\n",
    "\\begin{array}{rrll}\n",
    "e & \\Rightarrow & n & \\texttt{n is a number} \\\\\n",
    "&|& s & \\texttt{s is a string} \\\\\n",
    "&|& (e) \\\\\n",
    "&|& e_{left}\\; +\\; e_{right} \\\\\n",
    "&|& e_{left}\\; *\\; e_{right} \\\\\n",
    "\\end{array}\n",
    "$$\n",
    "\n",
    "Our language supports numbers, strings, a plus operator (`+`), a star operator (`*`), and parentheses. `+` and `*` correspond to addition and multiplication for numbers, but what should its behavior be for strings? What about when one operand is a number, and one operand is a string? For example, what should 'Hello' + 3 do? What about 'Hello * 3? Try a few combinations of these to see what you find!\n"
   ]
  },
  {
   "cell_type": "markdown",
   "id": "3675b7ba-cf9f-4ef2-b031-e687b54ef2ee",
   "metadata": {},
   "source": [
    "## Mython Inference Rules\n",
    "$\\newcommand{\\llbracket}{[\\![}$\n",
    "$\\newcommand{\\rrbracket}{]\\!]}$\n",
    "$\\newcommand{\\denote}[1]{\\llbracket #1 \\rrbracket}$\n",
    "$\\newcommand{\\bigstep}[2]{#1 \\Downarrow #2}$\n",
    "$\\newcommand{\\eval}[2]{\\mathbf{eval}(#1) = #2}$\n",
    "$\\newcommand{\\error}{\\mathbf{error}}$\n",
    "$\\newcommand{\\Number}{\\mathbb{R}}$\n",
    "$\\newcommand{\\String}{\\mathbb{S}}$\n",
    "\n",
    "Now that you've seen how Python behaves with these operators, lets write some rules for the `+` and `*` operators using english statements. Below we give rules for numbers, you can follow the same format for other cases. Feel free to write these out (on paper, tablet, whiteboard, etc.) instead of typing out the LaTeX notation as done below.\n",
    "\n",
    "Note that we'll use the shorthand $\\eval{e}{n}$ to mean \"$e$ evaluates to the value $n$\", $n \\in \\Number$ to mean \"$n$ is a (real) number\", and $s \\in \\String$ to mean \"$s$ is a string\".\n",
    "\n",
    "**`+` operator rule: two numbers:**\n",
    "\n",
    "If $\\eval{e_{left}}{n_l}$ and $\\eval{e_{right}}{n_r}$ and $n_l \\in \\Number$ and $n_r \\in \\Number$ then $\\eval{e_{left} + e_{right}}{n_l + n_r}$.\n",
    "\n",
    "**`+` operator rule: two strings:**\n",
    "\n",
    "If $\\eval{e_{left}}{s_1}$ and $\\eval{e_{right}}{s_2}$ and $s_1 \\in \\String$ and $s_2 \\in \\String$ then $\\eval{e_{left} + e_{right}}{s_1s_2}$\n",
    "\n",
    "**`+` operator rule: number & string:**\n",
    "\n",
    "Throw error\n",
    "\n",
    "**`+` operator rule: string & number:**\n",
    "\n",
    "Throw error\n",
    "\n",
    "**`*` operator rule: two numbers:**\n",
    "\n",
    "If $\\eval{e_{left}}{n_l}$ and $\\eval{e_{right}}{n_r}$ and $n_l \\in \\Number$ and $n_r \\in \\Number$ then $\\eval{e_{left} * e_{right}}{n_l * n_r}$.\n",
    "\n",
    "**`*` operator rule: two strings:**\n",
    "\n",
    "Throw error\n",
    "\n",
    "**`*` operator rule: number & string:**\n",
    "\n",
    "If $\\eval{e_{left}}{n_1}$ and $\\eval{e_{right}}{s_1}$ and $n_1 \\in \\Number$ and $s_1 \\in \\String$ then $\\eval{e_{left} * e_{right}}{n_1 * s_1}$\n",
    "\n",
    "**`*` operator rule: string & number:**\n",
    "\n",
    "If $\\eval{e_{left}}{s_1}$ and $\\eval{e_{right}}{n_1}$ and $s_1 \\in \\String$ and $n_1 \\in \\Number$ then $\\eval{e_{left} * e_{right}}{n_1 * s_1}$"
   ]
  },
  {
   "cell_type": "markdown",
   "id": "2ca2dbee-a114-4d15-9045-274715eabbc2",
   "metadata": {},
   "source": [
    "# Mython Interpreter\n",
    "\n",
    "We'll now write a simple interpreter (the `eval` function below) that evaluates Mython expressions using the rules we came up with above. But we don't want to deal with parsing out expressions, so we'll instead use the following Abstract Grammar and just operate on Abstract Syntax Trees (ASTs). Note that we no longer need parentheses in our abstract grammar since an AST has an unambigious order of operations.\n",
    "\n",
    "### Abstract Grammar\n",
    "$$\n",
    "\\begin{array}{rrll}\n",
    "Expr & \\Rightarrow & Const(n) & \\texttt{n is a number} \\\\\n",
    "&|& StrExpr(s) & \\texttt{s is a string} \\\\\n",
    "&|& Plus(Expr_{left},\\; Expr_{right}) \\\\\n",
    "&|& Mult(Expr_{left},\\; Expr_{right}) \\\\\n",
    "\\\\\n",
    "\\\\\n",
    "Value & \\Rightarrow & Num(n) & \\texttt{n is a number} \\\\\n",
    "&|& Str(s) & \\texttt{s is a string} \\\\\n",
    "\\end{array}\n",
    "$$\n",
    "\n",
    "\n",
    "The definitions for an equivalent Abstract Syntax Tree are given for you to use below.\n",
    "\n",
    "### Abstract Syntax Tree Implementation"
   ]
  },
  {
   "cell_type": "code",
   "execution_count": 2,
   "id": "e987b5bc-2e57-4722-8d69-7f712b73c18d",
   "metadata": {},
   "outputs": [
    {
     "data": {
      "text/plain": [
       "defined \u001b[32mtrait\u001b[39m \u001b[36mExpr\u001b[39m\n",
       "defined \u001b[32mclass\u001b[39m \u001b[36mConst\u001b[39m\n",
       "defined \u001b[32mclass\u001b[39m \u001b[36mStrExpr\u001b[39m\n",
       "defined \u001b[32mclass\u001b[39m \u001b[36mPlus\u001b[39m\n",
       "defined \u001b[32mclass\u001b[39m \u001b[36mMult\u001b[39m\n",
       "defined \u001b[32mtrait\u001b[39m \u001b[36mValue\u001b[39m\n",
       "defined \u001b[32mclass\u001b[39m \u001b[36mNum\u001b[39m\n",
       "defined \u001b[32mclass\u001b[39m \u001b[36mStr\u001b[39m"
      ]
     },
     "execution_count": 2,
     "metadata": {},
     "output_type": "execute_result"
    }
   ],
   "source": [
    "sealed trait Expr\n",
    "case class Const(n: Double) extends Expr\n",
    "case class StrExpr(s: String) extends Expr\n",
    "case class Plus(e1: Expr, e2: Expr) extends Expr\n",
    "case class Mult(e1: Expr, e2: Expr) extends Expr\n",
    "\n",
    "sealed trait Value\n",
    "case class Num(n: Double) extends Value\n",
    "case class Str(s: String) extends Value"
   ]
  },
  {
   "cell_type": "markdown",
   "id": "d9974c5e-ee86-465b-aefb-afdab574fa0f",
   "metadata": {},
   "source": [
    "### Interpreter\n",
    "\n",
    "Fill in the interpreter's `eval` implementation with the rules we discussed above. The following cell provides a few test cases you can use to make sure your implementation works. What other tests would you want to write to make sure your `eval` implementation works?"
   ]
  },
  {
   "cell_type": "code",
   "execution_count": 3,
   "id": "1ff65737-109b-4537-a9fa-da0c358fc828",
   "metadata": {},
   "outputs": [
    {
     "data": {
      "text/plain": [
       "defined \u001b[32mfunction\u001b[39m \u001b[36meval\u001b[39m\n",
       "\u001b[32mimport \u001b[39m\u001b[36mscala.annotation.tailrec\u001b[39m\n",
       "defined \u001b[32mfunction\u001b[39m \u001b[36mrepeat\u001b[39m"
      ]
     },
     "execution_count": 3,
     "metadata": {},
     "output_type": "execute_result"
    }
   ],
   "source": [
    "def eval( e: Expr ): Value = {  \n",
    "    e match {\n",
    "        case Const(n) => {\n",
    "            // YOUR CODE HERE\n",
    "            Num(n)\n",
    "        }\n",
    "        case StrExpr(s) => {\n",
    "            // YOUR CODE HERE\n",
    "            Str(s)\n",
    "        }\n",
    "        case Plus(e1, e2) => {\n",
    "            // YOUR CODE HERE\n",
    "            val v1 = eval(e1)\n",
    "            val v2 = eval(e2)\n",
    "            (v1, v2) match {\n",
    "                case (Num(v1), Num(v2)) => Num(v1+v2)\n",
    "                case (Str(v1), Str(v2)) => Str(v1.concat(v2))\n",
    "                case (Num(v1), Str(v2)) => throw new IllegalArgumentException(\"No :(\")\n",
    "                case (Str(v1), Num(v2)) => throw new IllegalArgumentException(\"No :(\")\n",
    "            }\n",
    "        }\n",
    "        case Mult(e1, e2) => {\n",
    "            // YOUR CODE HERE\n",
    "            val v1 = eval(e1)\n",
    "            val v2 = eval(e2)\n",
    "            (v1, v2) match {\n",
    "                case (Num(v1), Num(v2)) => Num(v1*v2)\n",
    "                case (Str(v1), Str(v2)) => throw new IllegalArgumentException(\"No :(\")\n",
    "                case (Num(v1), Str(v2)) => Str(repeat(v2, v1))\n",
    "                case (Str(v1), Num(v2)) => Str(repeat(v1, v2))\n",
    "            }\n",
    "        }\n",
    "    }\n",
    "}\n",
    "\n",
    "\n",
    "import scala.annotation.tailrec\n",
    "\n",
    "// Helper function to repeatedly concatenate a string `s` to itself `times` times.\n",
    "def repeat(s: String, times: Double) : String = {\n",
    "    @tailrec def helper(n: Double, acc: String) : String = {\n",
    "        if (n <= 0) {\n",
    "            acc\n",
    "        } else {\n",
    "            helper(n - 1, acc.concat(s))\n",
    "        }\n",
    "    };\n",
    "    helper(times, \"\")\n",
    "}"
   ]
  },
  {
   "cell_type": "code",
   "execution_count": 4,
   "id": "b5039f52-d5a9-41bf-be84-0b37fa0823ee",
   "metadata": {},
   "outputs": [
    {
     "name": "stderr",
     "output_type": "stream",
     "text": [
      "cmd4.sc:13: This catches all Throwables. If this is really intended, use `case err : Throwable` to clear this warning.\n",
      "            case err => false\n",
      "                 ^\n"
     ]
    },
    {
     "name": "stdout",
     "output_type": "stream",
     "text": [
      "All tests passed!\n"
     ]
    },
    {
     "data": {
      "text/plain": [
       "defined \u001b[32mfunction\u001b[39m \u001b[36mtest_eval\u001b[39m\n",
       "defined \u001b[32mfunction\u001b[39m \u001b[36mtest_eval_error\u001b[39m"
      ]
     },
     "execution_count": 4,
     "metadata": {},
     "output_type": "execute_result"
    }
   ],
   "source": [
    "// Some tests are provided for you. Add your own to test other cases. Wrap your tests in braces if you want to re-use variable names.\n",
    "def test_eval(e: Expr, vExpected: Value, testName: String) = {\n",
    "    val vFound: Value = eval(e)\n",
    "    assert(vExpected == vFound, s\"Test '$testName' failed, expected: $vExpected, got: $vFound\")\n",
    "}\n",
    "\n",
    "def test_eval_error(e: Expr, testName: String) = { \n",
    "    val failed =\n",
    "        try {\n",
    "            eval(e)\n",
    "            true\n",
    "        } catch {\n",
    "            case err => false\n",
    "        }\n",
    "\n",
    "    if (failed) {\n",
    "        assert(false, s\"Test '$testName' failed, expected an error that did not occur\")\n",
    "    }\n",
    "}\n",
    "\n",
    "{\n",
    "    // 3 + 2\n",
    "    val e: Expr = Plus(Const(3.0), Const(2.0))\n",
    "    val vExpected: Value = Num(5.0)\n",
    "    test_eval(e, vExpected, \"Numeric Addition\")\n",
    "}\n",
    "\n",
    "{\n",
    "    // \"hi\" + \"bye\"\n",
    "    val e: Expr = Plus(StrExpr(\"hi\"), StrExpr(\"bye\"))\n",
    "    val vExpected: Value = Str(\"hibye\")\n",
    "    test_eval(e, vExpected, \"String Concatenation\")\n",
    "}\n",
    "\n",
    "{\n",
    "    // \"hi\" * 5\n",
    "    val e: Expr = Mult(StrExpr(\"hi\"), Const(5.0))\n",
    "    val vExpected: Value = Str(\"hihihihihi\")\n",
    "    test_eval(e, vExpected, \"Multiply String by Number\")\n",
    "}\n",
    "\n",
    "{\n",
    "    // 3 + \"hi\"\n",
    "    val e: Expr = Plus(Const(3.0), StrExpr(\"hi\"))\n",
    "    test_eval_error(e, \"Cannot Add Number and String\")\n",
    "}\n",
    "\n",
    "{\n",
    "    // 1 + (4 * 2)\n",
    "    val e: Expr = Plus(Const(1.0), Mult(Const(4.0), Const(2.0)))\n",
    "    val vExpected: Value = Num(9.0)\n",
    "    test_eval(e, vExpected, \"Multiply then Add\")\n",
    "}\n",
    "\n",
    "// YOUR TESTS HERE\n",
    "\n",
    "// END YOUR TESTS\n",
    "println(\"All tests passed!\")"
   ]
  },
  {
   "cell_type": "code",
   "execution_count": null,
   "id": "27d0a363-671c-422e-a1ca-7f8f8c6e1873",
   "metadata": {},
   "outputs": [],
   "source": []
  }
 ],
 "metadata": {
  "kernelspec": {
   "display_name": "Scala",
   "language": "scala",
   "name": "scala"
  },
  "language_info": {
   "codemirror_mode": "text/x-scala",
   "file_extension": ".sc",
   "mimetype": "text/x-scala",
   "name": "scala",
   "nbconvert_exporter": "script",
   "version": "2.13.14"
  }
 },
 "nbformat": 4,
 "nbformat_minor": 5
}
