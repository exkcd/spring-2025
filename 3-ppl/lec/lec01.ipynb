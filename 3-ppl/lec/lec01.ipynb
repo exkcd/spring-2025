{
 "cells": [
  {
   "cell_type": "markdown",
   "metadata": {},
   "source": [
    "# Lecture 1\n",
    "\n",
    "*January 14, 2025*"
   ]
  },
  {
   "cell_type": "markdown",
   "metadata": {},
   "source": [
    "## Single instruction programming language\n",
    "\n",
    "```c\n",
    "subleq a, b, c // *b = *b - *a\n",
    "                // if (*b <= 0) goto c\n",
    "```"
   ]
  },
  {
   "cell_type": "markdown",
   "metadata": {},
   "source": [
    "### This one instruction PL is as powerful as EVERY PL\n",
    "\n",
    "**BUT**\n",
    "\n",
    "* Have fun writing anything like\n",
    "* quicksort\n",
    "* or Facebook\n",
    "* or GTA 6\n"
   ]
  },
  {
   "cell_type": "markdown",
   "metadata": {},
   "source": [
    "### A programming language is a medium of communication between machines and humans\n",
    "\n",
    "* Programming is a human activity (humans *love* principles)\n",
    "* Different PLs choose different principles depending on the domain they want to serve\n",
    "\n",
    "E.g. C++:\n",
    "* Computer = Von Neumann machine\n",
    "* Minimal types to weed out basic errors\n",
    "* Programmer knows best"
   ]
  },
  {
   "cell_type": "markdown",
   "metadata": {},
   "source": [
    "## Functional Programming\n",
    "\n",
    "*programming paradigm*:\n",
    "\n",
    "* Computations are performed by composing and applying *pure functions* on *immutable data*\n",
    "\n",
    "* Focus is on expressing *what* needs to be computed\n",
    "\n",
    "### Vs. Imperative programming\n",
    "\n",
    "* Computations are performed by issuing a series of statements/commands that change the state of a machine\n",
    "\n",
    "* Focus = HOW to perform a computation"
   ]
  },
  {
   "cell_type": "markdown",
   "metadata": {},
   "source": [
    "## Why learn functional programming?\n",
    "\n",
    "* Gives different perspective on programming\n",
    "\n",
    "* Ideal to to study *semantics* of programming languages"
   ]
  }
 ],
 "metadata": {
  "language_info": {
   "name": "python"
  }
 },
 "nbformat": 4,
 "nbformat_minor": 2
}
