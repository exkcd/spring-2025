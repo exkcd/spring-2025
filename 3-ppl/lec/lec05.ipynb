{
 "cells": [
  {
   "cell_type": "markdown",
   "metadata": {},
   "source": [
    "# Lecture 5\n",
    "\n",
    "*January 28, 2025*"
   ]
  },
  {
   "cell_type": "markdown",
   "metadata": {},
   "source": [
    "## Induction\n",
    "\n",
    "* Define natural numbers from \"first principles\"\n",
    "    * Inductive def in English\n",
    "    * Inductive def as gen. grammar\n",
    "* List of natural numbers\n",
    "    * Gen grammar\n",
    "    * Terms as trees\n",
    "* Binary trees\n",
    "    * Grammar\n",
    "    * Tree viz"
   ]
  },
  {
   "cell_type": "markdown",
   "metadata": {},
   "source": [
    "### How to define a natural number from first principles using symbols\n",
    "\n",
    "* Symbol `Z` is a natural number.\n",
    "* If `n` is a natural number, then `Succ(n)` is a natural number. Intuitively, this stands for +1.\n",
    "* Nothing else is a natural number."
   ]
  },
  {
   "cell_type": "markdown",
   "metadata": {},
   "source": [
    "### What does first principles mean?\n",
    "\n",
    "If you have access to just symbols, how do you denote the presentation of natural numbers?\n",
    "\n",
    "#### More formal definition\n",
    "\n",
    "In math, using inductive grammars:\n",
    "\n",
    "```\n",
    "Num --> Z //rule 1\n",
    "Num --> Succ(Num) //rule 2\n",
    "```\n",
    "\n",
    "How can we use this grammar to put together \"sentences\"? (An expression of some meaning)\n",
    "\n",
    "* Should let us put together valid sentences using this grammar\n",
    "\n",
    "In this grammar, we have:\n",
    "\n",
    "* One non-terminal symbol: `Num` //can be split into non-terminals or terminals (used to derive something)\n",
    "* Two terminal symbols: `Succ()` and `Z` //\"atoms\", cannot divide them into anything else\n",
    "* Two production rules as shown above"
   ]
  },
  {
   "cell_type": "markdown",
   "metadata": {},
   "source": [
    "Which of these are valid \"sentences\" in this language?:\n",
    "\n",
    "* Z (yes) //corresponds to zero\n",
    "* Succ(Succ(Z)) (yes) //corresponds to two\n",
    "* Succ(Z, Succ(Z)) (no, grammar does not allow for this; invalid way of putting them together) //corresponds to nothing\n",
    "* Succ(Succ(Succ(Z))) //corresponds to three"
   ]
  },
  {
   "cell_type": "markdown",
   "metadata": {},
   "source": [
    "A more succinct representation:\n",
    "\n",
    "```\n",
    "Num --> Z | Succ(Num)\n",
    "```"
   ]
  },
  {
   "cell_type": "markdown",
   "metadata": {},
   "source": [
    "#### What can we do with this?"
   ]
  },
  {
   "cell_type": "code",
   "execution_count": 13,
   "metadata": {},
   "outputs": [
    {
     "data": {
      "text/plain": [
       "defined \u001b[32mtrait\u001b[39m \u001b[36mNum\u001b[39m\n",
       "defined \u001b[32mclass\u001b[39m \u001b[36mZ\u001b[39m\n",
       "defined \u001b[32mclass\u001b[39m \u001b[36mSucc\u001b[39m"
      ]
     },
     "execution_count": 13,
     "metadata": {},
     "output_type": "execute_result"
    }
   ],
   "source": [
    "sealed trait Num\n",
    "\n",
    "case class Z() extends Num\n",
    "\n",
    "case class Succ(n: Num) extends Num\n",
    "\n",
    "//algebraic type representation of the natural numbers"
   ]
  },
  {
   "cell_type": "code",
   "execution_count": 14,
   "metadata": {},
   "outputs": [
    {
     "data": {
      "text/plain": [
       "\u001b[36mzero\u001b[39m: \u001b[32mNum\u001b[39m = Z()"
      ]
     },
     "execution_count": 14,
     "metadata": {},
     "output_type": "execute_result"
    }
   ],
   "source": [
    "val zero : Num = Z()"
   ]
  },
  {
   "cell_type": "code",
   "execution_count": 15,
   "metadata": {},
   "outputs": [
    {
     "data": {
      "text/plain": [
       "\u001b[36mone\u001b[39m: \u001b[32mNum\u001b[39m = \u001b[33mSucc\u001b[39m(n = Z())"
      ]
     },
     "execution_count": 15,
     "metadata": {},
     "output_type": "execute_result"
    }
   ],
   "source": [
    "val one : Num = Succ(zero)"
   ]
  },
  {
   "cell_type": "markdown",
   "metadata": {},
   "source": [
    "Essentially created two \"objects\"\n",
    "\n",
    "* First corresponds to zero\n",
    "* Second corresponds to \"one\"\n",
    "\n",
    "What's the difference between this and creating a class \"Dog\"?\n",
    "\n",
    "Instead of creating a new instance of \"Num\" everytime, we are essentially using the grammar to define \"zero\" and \"one\" \n",
    "\n",
    "`case` prints the internal structure of `Z` and `Succ`"
   ]
  },
  {
   "cell_type": "code",
   "execution_count": 16,
   "metadata": {},
   "outputs": [
    {
     "data": {
      "text/plain": [
       "\u001b[36mtwo\u001b[39m: \u001b[32mNum\u001b[39m = \u001b[33mSucc\u001b[39m(n = \u001b[33mSucc\u001b[39m(n = Z()))"
      ]
     },
     "execution_count": 16,
     "metadata": {},
     "output_type": "execute_result"
    }
   ],
   "source": [
    "val two : Num = Succ(one)"
   ]
  },
  {
   "cell_type": "code",
   "execution_count": 17,
   "metadata": {},
   "outputs": [
    {
     "data": {
      "text/plain": [
       "\u001b[36mthree\u001b[39m: \u001b[32mNum\u001b[39m = \u001b[33mSucc\u001b[39m(n = \u001b[33mSucc\u001b[39m(n = \u001b[33mSucc\u001b[39m(n = Z())))"
      ]
     },
     "execution_count": 17,
     "metadata": {},
     "output_type": "execute_result"
    }
   ],
   "source": [
    "val three : Num = Succ(two)"
   ]
  },
  {
   "cell_type": "code",
   "execution_count": 18,
   "metadata": {},
   "outputs": [
    {
     "data": {
      "text/plain": [
       "\u001b[36mfour\u001b[39m: \u001b[32mNum\u001b[39m = \u001b[33mSucc\u001b[39m(n = \u001b[33mSucc\u001b[39m(n = \u001b[33mSucc\u001b[39m(n = \u001b[33mSucc\u001b[39m(n = Z()))))"
      ]
     },
     "execution_count": 18,
     "metadata": {},
     "output_type": "execute_result"
    }
   ],
   "source": [
    "val four : Num = Succ(Succ(two))"
   ]
  },
  {
   "cell_type": "markdown",
   "metadata": {},
   "source": [
    "This type of definition can be used to describe other data structures in functional programming languages (like Scala)"
   ]
  },
  {
   "cell_type": "markdown",
   "metadata": {},
   "source": [
    "## Derivation\n",
    "\n",
    "`Succ(Succ(Z))` is a valid sentence in our language. Therefore, there must exist a derivation for this.\n",
    "\n",
    "```\n",
    "Num --> Succ(Num) --> Succ(Succ(Num)) --> Succ(Succ(Z))\n",
    "```\n",
    "\n",
    "Derivation for number \"two\"\n",
    "\n",
    "Derivation = Proof that our language can produce a sentence\n",
    "\n",
    "```\n",
    "Num -2-> Succ(Num) -2-> Succ(Succ(Num)) -1-> Succ(Succ(Z))\n",
    "\n",
    "```"
   ]
  },
  {
   "cell_type": "markdown",
   "metadata": {},
   "source": [
    "## Lists\n",
    "\n",
    "```\n",
    "NumList --> E //Rule 1\n",
    "NumList --> L(NumList)\n",
    "```\n",
    "\n",
    "Are these valid?\n",
    "\n",
    "* L(L(E))\n",
    "* L(L(L(E)))\n",
    "\n",
    "This is basically the structure of the natural numbers :/\n",
    "\n",
    "\n",
    "\n",
    "```\n",
    "NumList --> Nil //Rule 1\n",
    "NumList --> Cons(Num, NumList)\n",
    "```\n",
    "\n",
    "* `L(one, L(two, E))` // this corresponds to `List(1,2)`\n",
    "* `L(one, L(two, L(three, E)))` // this corresponds to `List(1,2,3)`"
   ]
  },
  {
   "cell_type": "code",
   "execution_count": 19,
   "metadata": {},
   "outputs": [
    {
     "data": {
      "text/plain": [
       "defined \u001b[32mtrait\u001b[39m \u001b[36mNumList\u001b[39m\n",
       "defined \u001b[32mclass\u001b[39m \u001b[36mNil\u001b[39m\n",
       "defined \u001b[32mclass\u001b[39m \u001b[36mCons\u001b[39m"
      ]
     },
     "execution_count": 19,
     "metadata": {},
     "output_type": "execute_result"
    }
   ],
   "source": [
    "sealed trait NumList\n",
    "\n",
    "case class Nil() extends NumList // Rule 1\n",
    "\n",
    "case class Cons(hd: Num, tl: NumList) extends NumList // Rule 2 hd = head, tl = tail"
   ]
  },
  {
   "cell_type": "code",
   "execution_count": 20,
   "metadata": {},
   "outputs": [
    {
     "data": {
      "text/plain": [
       "\u001b[36ml\u001b[39m: \u001b[32mList\u001b[39m[\u001b[32mInt\u001b[39m] = \u001b[33mList\u001b[39m(\u001b[32m2\u001b[39m, \u001b[32m1\u001b[39m, \u001b[32m3\u001b[39m)"
      ]
     },
     "execution_count": 20,
     "metadata": {},
     "output_type": "execute_result"
    }
   ],
   "source": [
    "val l:List[Int]  = List(2,1,3)"
   ]
  },
  {
   "cell_type": "code",
   "execution_count": 21,
   "metadata": {},
   "outputs": [
    {
     "data": {
      "text/plain": [
       "\u001b[36ml1\u001b[39m: \u001b[32mNumList\u001b[39m = \u001b[33mCons\u001b[39m(\n",
       "  hd = \u001b[33mSucc\u001b[39m(n = \u001b[33mSucc\u001b[39m(n = Z())),\n",
       "  tl = \u001b[33mCons\u001b[39m(\n",
       "    hd = \u001b[33mSucc\u001b[39m(n = Z()),\n",
       "    tl = \u001b[33mCons\u001b[39m(hd = \u001b[33mSucc\u001b[39m(n = \u001b[33mSucc\u001b[39m(n = \u001b[33mSucc\u001b[39m(n = Z()))), tl = Nil())\n",
       "  )\n",
       ")"
      ]
     },
     "execution_count": 21,
     "metadata": {},
     "output_type": "execute_result"
    }
   ],
   "source": [
    "val l1: NumList = Cons(two, Cons(one, Cons(three, Nil())))"
   ]
  },
  {
   "cell_type": "code",
   "execution_count": 22,
   "metadata": {},
   "outputs": [
    {
     "data": {
      "text/plain": [
       "\u001b[36ml2\u001b[39m: \u001b[32mNumList\u001b[39m = \u001b[33mCons\u001b[39m(\n",
       "  hd = \u001b[33mSucc\u001b[39m(n = \u001b[33mSucc\u001b[39m(n = Z())),\n",
       "  tl = \u001b[33mCons\u001b[39m(\n",
       "    hd = \u001b[33mSucc\u001b[39m(n = Z()),\n",
       "    tl = \u001b[33mCons\u001b[39m(hd = \u001b[33mSucc\u001b[39m(n = \u001b[33mSucc\u001b[39m(n = \u001b[33mSucc\u001b[39m(n = Z()))), tl = Nil())\n",
       "  )\n",
       ")"
      ]
     },
     "execution_count": 22,
     "metadata": {},
     "output_type": "execute_result"
    }
   ],
   "source": [
    "val l2: NumList = Cons(two, Cons(one, Cons(three, Nil())))"
   ]
  },
  {
   "cell_type": "code",
   "execution_count": 23,
   "metadata": {},
   "outputs": [
    {
     "name": "stdout",
     "output_type": "stream",
     "text": [
      "true\n"
     ]
    }
   ],
   "source": [
    "println(l1==l2) // What will this print?"
   ]
  },
  {
   "cell_type": "markdown",
   "metadata": {},
   "source": [
    "`case` class\n",
    "* if two objects are structurally equal, comparing them will return True\n",
    "* don't need to create a new class instance\n",
    "* List: if they contain the same elements in the same order, `l1` and `l2` will return True"
   ]
  },
  {
   "cell_type": "markdown",
   "metadata": {},
   "source": [
    "## Binary Tree"
   ]
  },
  {
   "cell_type": "markdown",
   "metadata": {},
   "source": [
    "Using grammar:\n",
    "\n",
    "```\n",
    "NumBTree --> Leaf // Rule 1\n",
    "NumBTree --> Parent(NumBTree, Num,  NumBTree) // Rule 2\n",
    "```"
   ]
  },
  {
   "cell_type": "code",
   "execution_count": 24,
   "metadata": {},
   "outputs": [
    {
     "data": {
      "text/plain": [
       "defined \u001b[32mtrait\u001b[39m \u001b[36mNumBTree\u001b[39m\n",
       "defined \u001b[32mclass\u001b[39m \u001b[36mLeaf\u001b[39m\n",
       "defined \u001b[32mclass\u001b[39m \u001b[36mBranch\u001b[39m"
      ]
     },
     "execution_count": 24,
     "metadata": {},
     "output_type": "execute_result"
    }
   ],
   "source": [
    "sealed trait NumBTree\n",
    "\n",
    "case class Leaf() extends NumBTree\n",
    "\n",
    "case class Branch(lt: NumBTree, n: Num, rt: NumBTree) extends NumBTree"
   ]
  }
 ],
 "metadata": {
  "kernelspec": {
   "display_name": "Scala",
   "language": "scala",
   "name": "scala"
  },
  "language_info": {
   "codemirror_mode": "text/x-scala",
   "file_extension": ".sc",
   "mimetype": "text/x-scala",
   "name": "scala",
   "nbconvert_exporter": "script",
   "version": "2.13.14"
  }
 },
 "nbformat": 4,
 "nbformat_minor": 2
}
