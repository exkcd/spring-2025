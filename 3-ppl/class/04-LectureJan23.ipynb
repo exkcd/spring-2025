{
 "cells": [
  {
   "cell_type": "markdown",
   "id": "b32e4eb3-c112-4193-a91f-4655a368a74c",
   "metadata": {},
   "source": [
    "<div style=\"text-align:center\">\n",
    "<h1> CSCI 3155 Principles of Programming Languages </h1>\n",
    "<h2> Spring 2025</h2>\n",
    "</div>"
   ]
  },
  {
   "cell_type": "markdown",
   "id": "baf4ab42-fbc6-40e6-bed0-1a4ab12e9afd",
   "metadata": {},
   "source": [
    "## Recursion and Tail Recursion\n",
    "* Activation Records\n",
    "* Recursive Definitions\n",
    "* Depth of the Recursion Tree\n",
    "* Tail Recursion\n",
    "\n",
    "## Inductive Definitions\n",
    "* Defining natural numbers from \"first principles\".\n",
    "* List of natural numbers"
   ]
  },
  {
   "cell_type": "code",
   "execution_count": 1,
   "id": "6d6327ed-7512-4b2c-88b5-6809d08dd20a",
   "metadata": {},
   "outputs": [
    {
     "data": {
      "text/html": [
       "<div class=\"jp-RenderedText\">\n",
       "<pre><code><span style=\"color: rgb(0, 187, 187)\"><span class=\"ansi-cyan-fg\">l</span></span>: <span style=\"color: rgb(0, 187, 0)\"><span class=\"ansi-green-fg\">List</span></span>[<span style=\"color: rgb(0, 187, 0)\"><span class=\"ansi-green-fg\">Int</span></span>] = <span style=\"color: yellow\"><span class=\"ansi-yellow-fg\">List</span></span>(<span style=\"color: rgb(0, 187, 0)\"><span class=\"ansi-green-fg\">0</span></span>, <span style=\"color: rgb(0, 187, 0)\"><span class=\"ansi-green-fg\">1</span></span>, <span style=\"color: rgb(0, 187, 0)\"><span class=\"ansi-green-fg\">2</span></span>, <span style=\"color: rgb(0, 187, 0)\"><span class=\"ansi-green-fg\">3</span></span>)</code></pre>\n",
       "</div>"
      ],
      "text/plain": [
       "\u001b[36ml\u001b[39m: \u001b[32mList\u001b[39m[\u001b[32mInt\u001b[39m] = \u001b[33mList\u001b[39m(\u001b[32m0\u001b[39m, \u001b[32m1\u001b[39m, \u001b[32m2\u001b[39m, \u001b[32m3\u001b[39m)"
      ]
     },
     "metadata": {},
     "output_type": "display_data"
    }
   ],
   "source": [
    "var l = List(1,2,3)\n",
    "l = 0 :: l "
   ]
  },
  {
   "cell_type": "code",
   "execution_count": 2,
   "id": "fcd84716-7bff-45e6-b128-e48b1124d99e",
   "metadata": {},
   "outputs": [
    {
     "name": "stdout",
     "output_type": "stream",
     "text": [
      "List(0, 1, 2, 3)\n"
     ]
    }
   ],
   "source": [
    "println(l)"
   ]
  },
  {
   "cell_type": "code",
   "execution_count": 4,
   "id": "b537b1a1-c143-4b80-ab5e-efb30e2e6afb",
   "metadata": {},
   "outputs": [
    {
     "data": {
      "text/plain": [
       "defined \u001b[32mfunction\u001b[39m \u001b[36mh\u001b[39m\n",
       "defined \u001b[32mfunction\u001b[39m \u001b[36mg\u001b[39m\n",
       "defined \u001b[32mfunction\u001b[39m \u001b[36mf\u001b[39m\n",
       "\u001b[36mres3_3\u001b[39m: \u001b[32mInt\u001b[39m = \u001b[32m100\u001b[39m"
      ]
     },
     "execution_count": 4,
     "metadata": {},
     "output_type": "execute_result"
    }
   ],
   "source": [
    "def h(x:Int) : Int = {\n",
    "   x + 20   \n",
    "}\n",
    "//stack frame for g would store value for tmp after h returns\n",
    "def g(y:Int) : Int = {\n",
    "    \n",
    "    val tmp = h(y)\n",
    "    30 + tmp\n",
    "}\n",
    "\n",
    "//stack frame for f would store value for tmp after g returns\n",
    "def f(z:Int): Int = {\n",
    "    val tmp = g(z)\n",
    "    40 + tmp\n",
    "}\n",
    "\n",
    "f(10)"
   ]
  },
  {
   "cell_type": "code",
   "execution_count": 15,
   "id": "4f1d30ca-a626-4c41-9942-59622f2026d6",
   "metadata": {},
   "outputs": [
    {
     "name": "stderr",
     "output_type": "stream",
     "text": [
      "cmd15.sc:8: could not optimize @tailrec annotated method fact: it contains a recursive call not in tail position\n",
      "        n*fact(n-1)\n",
      "         ^Compilation Failed"
     ]
    },
    {
     "ename": "",
     "evalue": "",
     "output_type": "error",
     "traceback": [
      "Compilation Failed"
     ]
    }
   ],
   "source": [
    "import scala.annotation.tailrec\n",
    "\n",
    "\n",
    "@tailrec\n",
    "def fact(n:Int) : Int = {\n",
    "    if (n==0) 1\n",
    "    else {\n",
    "        n*fact(n-1)\n",
    "    }\n",
    "}"
   ]
  },
  {
   "cell_type": "code",
   "execution_count": 6,
   "id": "99ac2c9a-726d-4849-a6a2-427986a2caf2",
   "metadata": {},
   "outputs": [
    {
     "data": {
      "text/plain": [
       "\u001b[36mres5\u001b[39m: \u001b[32mInt\u001b[39m = \u001b[32m120\u001b[39m"
      ]
     },
     "execution_count": 6,
     "metadata": {},
     "output_type": "execute_result"
    }
   ],
   "source": [
    "fact(5)"
   ]
  },
  {
   "cell_type": "code",
   "execution_count": 9,
   "id": "d6a892f8-9468-4d11-b75d-c81de7b0060c",
   "metadata": {},
   "outputs": [
    {
     "data": {
      "text/plain": [
       "defined \u001b[32mfunction\u001b[39m \u001b[36mfact_loop\u001b[39m"
      ]
     },
     "execution_count": 9,
     "metadata": {},
     "output_type": "execute_result"
    }
   ],
   "source": [
    "def fact_loop(n:Int) : Int = {\n",
    "    var result = 1\n",
    "    for(i <- 1 to n) {\n",
    "        result = result * i\n",
    "    }\n",
    "    return result\n",
    "}"
   ]
  },
  {
   "cell_type": "code",
   "execution_count": 17,
   "id": "d7fb687e-1128-4bd3-9757-b1bb0e7158ca",
   "metadata": {},
   "outputs": [
    {
     "data": {
      "text/plain": [
       "\u001b[32mimport \u001b[39m\u001b[36mscala.annotation.tailrec\n",
       "\n",
       "\n",
       "\u001b[39m\n",
       "defined \u001b[32mfunction\u001b[39m \u001b[36mfact_tail\u001b[39m"
      ]
     },
     "execution_count": 17,
     "metadata": {},
     "output_type": "execute_result"
    }
   ],
   "source": [
    "// We want to apply the insight from the loop version, namely having a \n",
    "// partial result (or summarized result), but we would liken to write\n",
    "// a recursive version.\n",
    "import scala.annotation.tailrec\n",
    "\n",
    "\n",
    "@tailrec\n",
    "def fact_tail(n:Int, result:Int = 1) : Int = {\n",
    "    if (n==0) {\n",
    "        result\n",
    "    } else {\n",
    "        fact_tail(n-1,n*result)\n",
    "    }\n",
    "    \n",
    "}"
   ]
  },
  {
   "cell_type": "code",
   "execution_count": 14,
   "id": "94e1f2bb-d799-44eb-9a3c-955879c636c2",
   "metadata": {},
   "outputs": [
    {
     "data": {
      "text/plain": [
       "\u001b[36mres13\u001b[39m: \u001b[32mInt\u001b[39m = \u001b[32m120\u001b[39m"
      ]
     },
     "execution_count": 14,
     "metadata": {},
     "output_type": "execute_result"
    }
   ],
   "source": [
    "fact_tail(5)"
   ]
  },
  {
   "cell_type": "code",
   "execution_count": 21,
   "id": "720bd83a-5886-4567-9929-58e54e2954eb",
   "metadata": {},
   "outputs": [
    {
     "data": {
      "text/plain": [
       "defined \u001b[32mfunction\u001b[39m \u001b[36mfib_loop\u001b[39m"
      ]
     },
     "execution_count": 21,
     "metadata": {},
     "output_type": "execute_result"
    }
   ],
   "source": [
    "// Apply your intuitions from Python/C/C++\n",
    "def fib_loop(n:Int) : Int = {\n",
    "    var acc1:Int = 1\n",
    "    var acc2:Int = 1\n",
    "    //acc1 and acc2 are the previous two fibonacci numbers, respectively\n",
    "    for(i <- 3 to n) {\n",
    "        var tmp = acc1\n",
    "        acc1 = acc2\n",
    "        acc2 = tmp + acc1\n",
    "    }\n",
    "    return acc2\n",
    "}"
   ]
  },
  {
   "cell_type": "code",
   "execution_count": 22,
   "id": "36e1520e-c8a2-49dd-b9a3-c09effcb6847",
   "metadata": {},
   "outputs": [
    {
     "data": {
      "text/plain": [
       "\u001b[36mres21\u001b[39m: \u001b[32mInt\u001b[39m = \u001b[32m3\u001b[39m"
      ]
     },
     "execution_count": 22,
     "metadata": {},
     "output_type": "execute_result"
    }
   ],
   "source": [
    "fib_loop(4)"
   ]
  },
  {
   "cell_type": "code",
   "execution_count": 26,
   "id": "3a8b5452-3eef-4c98-adb9-68f9ad7c806a",
   "metadata": {},
   "outputs": [
    {
     "data": {
      "text/plain": [
       "defined \u001b[32mfunction\u001b[39m \u001b[36mfib_tail\u001b[39m"
      ]
     },
     "execution_count": 26,
     "metadata": {},
     "output_type": "execute_result"
    }
   ],
   "source": [
    "def fib_tail(n:Int, acc1:Int=1, acc2:Int=1): Int = {\n",
    "    if(n<=2) {\n",
    "       acc2\n",
    "    } else {\n",
    "        fib_tail(n-1, acc2, acc1 + acc2)\n",
    "    }\n",
    "}"
   ]
  },
  {
   "cell_type": "code",
   "execution_count": 27,
   "id": "479a4d53-b290-4646-abf9-604c2614ff1e",
   "metadata": {},
   "outputs": [
    {
     "data": {
      "text/plain": [
       "\u001b[36mres26\u001b[39m: \u001b[32mInt\u001b[39m = \u001b[32m3\u001b[39m"
      ]
     },
     "execution_count": 27,
     "metadata": {},
     "output_type": "execute_result"
    }
   ],
   "source": [
    "fib_tail(4)"
   ]
  },
  {
   "cell_type": "code",
   "execution_count": 32,
   "id": "bcd4826d-9419-4564-ba8a-b4d58d7e0331",
   "metadata": {},
   "outputs": [
    {
     "data": {
      "text/plain": [
       "\u001b[32mimport \u001b[39m\u001b[36mscala.annotation.tailrec\n",
       "\n",
       "\u001b[39m\n",
       "defined \u001b[32mfunction\u001b[39m \u001b[36mfib_tail2\u001b[39m"
      ]
     },
     "execution_count": 32,
     "metadata": {},
     "output_type": "execute_result"
    }
   ],
   "source": [
    "import scala.annotation.tailrec\n",
    "\n",
    "@tailrec\n",
    "def fib_tail2(n:Int, i:Int = 2, acc1:Int=1, acc2:Int=1): Int = {\n",
    "    require(n>=1)\n",
    "    if (n<=2) {\n",
    "        1\n",
    "    }\n",
    "    else if(i == n) {\n",
    "       acc2\n",
    "    } else {\n",
    "        fib_tail2(n, i+1, acc2, acc1 + acc2)\n",
    "    }\n",
    "}"
   ]
  },
  {
   "cell_type": "code",
   "execution_count": 33,
   "id": "28557be5-bede-4d3f-b3df-ac92132918ca",
   "metadata": {},
   "outputs": [
    {
     "data": {
      "text/plain": [
       "\u001b[36mres32\u001b[39m: \u001b[32mInt\u001b[39m = \u001b[32m3\u001b[39m"
      ]
     },
     "execution_count": 33,
     "metadata": {},
     "output_type": "execute_result"
    }
   ],
   "source": [
    "fib_tail2(4)"
   ]
  },
  {
   "cell_type": "markdown",
   "id": "d0a854d4-9963-459c-a8f5-10c910c7d5ba",
   "metadata": {},
   "source": [
    "$$n \\in \\mathbb{Z}$$ \n",
    "\n",
    "```\n",
    "l ::= Nil\n",
    "    | n :: l\n",
    "```    "
   ]
  },
  {
   "cell_type": "markdown",
   "id": "5b376797-a365-4c97-a5f6-23e554811a07",
   "metadata": {},
   "source": [
    "```\n",
    "n ::= Z\n",
    "    | S(n)\n",
    "```  "
   ]
  }
 ],
 "metadata": {
  "kernelspec": {
   "display_name": "Scala",
   "language": "scala",
   "name": "scala"
  },
  "language_info": {
   "codemirror_mode": "text/x-scala",
   "file_extension": ".sc",
   "mimetype": "text/x-scala",
   "name": "scala",
   "nbconvert_exporter": "script",
   "version": "2.13.4"
  }
 },
 "nbformat": 4,
 "nbformat_minor": 5
}
