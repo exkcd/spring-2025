{
 "cells": [
  {
   "cell_type": "markdown",
   "id": "455736fa-a216-4abc-bbb9-24237b32bca3",
   "metadata": {},
   "source": [
    "<h1><center>CSCI 3155 Principles of Programming Languages</center></h1>\n",
    "<h2><center>Spring 2025</center></h2>"
   ]
  },
  {
   "cell_type": "markdown",
   "id": "1ba6d42c-52c6-45cf-8dfc-04905c0499e3",
   "metadata": {},
   "source": [
    "## Functions & Recursion in Lettuce\n"
   ]
  },
  {
   "cell_type": "markdown",
   "id": "f3f0dfd0-20b7-44e1-9b24-21cebb530bf4",
   "metadata": {},
   "source": [
    "\n",
    "### How does this get evaluated?\n",
    "~~~\n",
    "let f = function (x)  x * x + 20 \n",
    "   in \n",
    "     f(20)\n",
    "~~~\n",
    "\n",
    "* EmptyEnv = Map()\n",
    "~~~\n",
    "let factorial = function(n)\n",
    "                if (n <= 0) then 1\n",
    "                else n * factorial(n-1)\n",
    "            in\n",
    "    factorial(3)\n",
    "~~~\n",
    "\n",
    "* What is the closure that \"factorial\" get evaluate to?\n",
    "* Closure(n, if (n <= 0) then 1\n",
    "                else n * factorial(n-1), EmptyEnv)\n",
    "* What happens when you apply this closure on `Const(3)`?"
   ]
  },
  {
   "cell_type": "markdown",
   "id": "fd12bba8-5e54-4295-a84c-b5de0340c615",
   "metadata": {},
   "source": [
    "~~~\n",
    "let almost_fact = function(f)\n",
    "                    function(n)\n",
    "                        if (n <= 0) then 1\n",
    "                        else n * f(f)(n-1) \n",
    "                  in\n",
    "let factorial = function(n)\n",
    "                    almost_fact(almost_fact)(n)\n",
    "                in\n",
    "factorial(3)\n",
    "~~~\n",
    "Let's see how it evaluates:\n",
    "~~~\n",
    "almost_fact(almost_fact)(3)\n",
    "==>\n",
    "3 * almost_fact(almost_fact)(2)\n",
    "==>\n",
    "3 * 2 * almost_fact(almost_fact)(1)\n",
    "==> \n",
    "3 * 2 * 1 * almost_fact(almost_fact)(0)\n",
    "==>\n",
    "3 * 2 * 1 * if (0 <= 0) then 1 else 0 * almost_fact(almost_fact)(-1)\n",
    "==>\n",
    "3* 2 * 1 * 1\n",
    "==>\n",
    "6\n",
    "~~~"
   ]
  },
  {
   "cell_type": "markdown",
   "id": "4434ca40-b17a-432c-8642-b7f9fe1b29a1",
   "metadata": {},
   "source": [
    "```\n",
    "almost_fact : (T1 => T2) => Int => Int\n",
    "```"
   ]
  },
  {
   "cell_type": "markdown",
   "id": "7eaea463-1a9e-4072-9027-89532b800532",
   "metadata": {},
   "source": [
    "```\n",
    "\\f.\\x.f(x)\n",
    "```"
   ]
  },
  {
   "cell_type": "markdown",
   "id": "db6d4678-89e0-4abe-8566-80706c743986",
   "metadata": {},
   "source": [
    "* Omega Combinator\n",
    "```\n",
    "(\\x.x x) (\\x. x x)\n",
    "\n",
    "==> \n",
    "(\\x. x x) (\\x. x x)\n",
    "```\n",
    "\n",
    "* Y-Combinator\n",
    "```\n",
    "Y = \\f. (\\x. f (x x)) ((\\x. f (x x)))\n",
    "```\n",
    "\n",
    "```\n",
    "Y(g) = g (Y(g)) =g (g (Y(g)))\n",
    "```"
   ]
  },
  {
   "cell_type": "code",
   "execution_count": null,
   "id": "43bcb317-267e-4727-9cd8-e73b5ad89edb",
   "metadata": {},
   "outputs": [],
   "source": []
  }
 ],
 "metadata": {
  "kernelspec": {
   "display_name": "Scala",
   "language": "scala",
   "name": "scala"
  },
  "language_info": {
   "codemirror_mode": "text/x-scala",
   "file_extension": ".sc",
   "mimetype": "text/x-scala",
   "name": "scala",
   "nbconvert_exporter": "script",
   "version": "2.13.4"
  }
 },
 "nbformat": 4,
 "nbformat_minor": 5
}
