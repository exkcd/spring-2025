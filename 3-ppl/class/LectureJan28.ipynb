{
 "cells": [
  {
   "cell_type": "markdown",
   "id": "a744290c-07c5-46fc-aca6-97e4657c86f0",
   "metadata": {},
   "source": [
    "<div style=\"text-align:center\">\n",
    "<h1> CSCI 3155 Principles of Programming Languages </h1>\n",
    "<h2> Spring 2025</h2>\n",
    "</div>"
   ]
  },
  {
   "cell_type": "markdown",
   "id": "80e842d6-8610-4492-8c21-de2876baf8ea",
   "metadata": {},
   "source": [
    "## Inductive Definitions\n",
    "* Defining natural numbers from \"first principles\".\n",
    "  - Inductive definition in English\n",
    "  - Inductive definition as a generative grammar\n",
    "  - Derivations\n",
    "  - Inductive definition in Scala\n",
    "* List of natural numbers\n",
    "  - Generative grammar\n",
    "  - Scala\n",
    "  - Terms as trees\n",
    "* Binary Trees\n",
    "  - Grammar\n",
    "  - Tree visualization\n",
    "  - Scala\n",
    "* A grammar for arithmetic expressions"
   ]
  },
  {
   "cell_type": "markdown",
   "id": "40eb036c-b950-464d-b567-f895b8c66694",
   "metadata": {},
   "source": [
    "## Inductive Definition of Natural Numbers\n",
    "Defining natural numbers from first principles using just symbols.\n",
    "\n",
    "* Symbol `Z` is a natural number. Intuitively, this stands for zero.\n",
    "* If `n` is a natural number, then `Succ(n)` is a natural number. Intuitively, this stands for +1.\n",
    "* Nothing else is a natural number."
   ]
  },
  {
   "cell_type": "markdown",
   "id": "a37e621d-d2b2-4873-87a6-065d6d05c586",
   "metadata": {},
   "source": [
    "In math, using inductive grammars:\n",
    "\n",
    "Definition of Num:\n",
    "\n",
    "```\n",
    "Num --> Z //Rule 1\n",
    "Num --> Succ(Num)  //Rule 2\n",
    "```\n",
    "\n",
    "In this grammar, we have:\n",
    "* One non-terminal symbol: `Num`\n",
    "* Two terminal symbols: `Z` and `Succ`\n",
    "* Two production rules as shown above."
   ]
  },
  {
   "cell_type": "markdown",
   "id": "e5eda790-178e-4c82-be99-9807168fe079",
   "metadata": {},
   "source": [
    "Which of these are valid \"sentences\" in this language?:\n",
    "* Z  // corresponds to zero\n",
    "* Succ(Succ(Z)) // corresponds to two \n",
    "* Succ(Z, Succ(Z)) // nonsense\n",
    "* Succ(Succ(Succ(Z))) //corresponds to three"
   ]
  },
  {
   "cell_type": "markdown",
   "id": "8185e9f8-c1d1-43f0-956c-fa07743c7518",
   "metadata": {},
   "source": [
    "A more succinct representation:\n",
    "```\n",
    "Num --> Z | Succ(Num)\n",
    "\n",
    "```"
   ]
  },
  {
   "cell_type": "code",
   "execution_count": 13,
   "id": "91e77326-c4cc-469e-9470-797dcb4ee768",
   "metadata": {},
   "outputs": [
    {
     "data": {
      "text/plain": [
       "defined \u001b[32mtrait\u001b[39m \u001b[36mNum\u001b[39m\n",
       "defined \u001b[32mobject\u001b[39m \u001b[36mZ\u001b[39m\n",
       "defined \u001b[32mclass\u001b[39m \u001b[36mSucc\u001b[39m"
      ]
     },
     "execution_count": 13,
     "metadata": {},
     "output_type": "execute_result"
    }
   ],
   "source": [
    "sealed trait Num\n",
    "\n",
    "case object Z extends Num\n",
    "\n",
    "case class Succ(n: Num) extends Num"
   ]
  },
  {
   "cell_type": "code",
   "execution_count": 14,
   "id": "c4a985c7-c9f4-4772-a663-68263c3dbed4",
   "metadata": {},
   "outputs": [
    {
     "data": {
      "text/plain": [
       "\u001b[36mzero\u001b[39m: \u001b[32mNum\u001b[39m = Z"
      ]
     },
     "execution_count": 14,
     "metadata": {},
     "output_type": "execute_result"
    }
   ],
   "source": [
    "val zero: Num = Z"
   ]
  },
  {
   "cell_type": "code",
   "execution_count": 15,
   "id": "52b82dc8-e6d9-42ec-9b1b-9d3421bee76f",
   "metadata": {},
   "outputs": [
    {
     "data": {
      "text/plain": [
       "\u001b[36mone\u001b[39m: \u001b[32mNum\u001b[39m = \u001b[33mSucc\u001b[39m(n = Z)"
      ]
     },
     "execution_count": 15,
     "metadata": {},
     "output_type": "execute_result"
    }
   ],
   "source": [
    "val one: Num = Succ(zero)"
   ]
  },
  {
   "cell_type": "code",
   "execution_count": 5,
   "id": "54b125ae-7cbe-42f3-a671-d7a8fe8737a8",
   "metadata": {},
   "outputs": [
    {
     "data": {
      "text/plain": [
       "defined \u001b[32mclass\u001b[39m \u001b[36mDog\u001b[39m"
      ]
     },
     "execution_count": 5,
     "metadata": {},
     "output_type": "execute_result"
    }
   ],
   "source": [
    "class Dog(name:String, breed:String, age:Int)"
   ]
  },
  {
   "cell_type": "code",
   "execution_count": 6,
   "id": "b0637369-24d4-4623-8ba5-ad524d0e1715",
   "metadata": {},
   "outputs": [
    {
     "data": {
      "text/plain": [
       "\u001b[36md\u001b[39m: \u001b[32mDog\u001b[39m = ammonite.$sess.cmd4$Helper$Dog@1c67257"
      ]
     },
     "execution_count": 6,
     "metadata": {},
     "output_type": "execute_result"
    }
   ],
   "source": [
    "val d:Dog = new Dog(\"Scooby\", \"A great dane\", 6)"
   ]
  },
  {
   "cell_type": "code",
   "execution_count": 16,
   "id": "19ff3b7f-5172-4845-a9c2-f57f59b79b09",
   "metadata": {},
   "outputs": [
    {
     "data": {
      "text/plain": [
       "\u001b[36mtwo\u001b[39m: \u001b[32mNum\u001b[39m = \u001b[33mSucc\u001b[39m(n = \u001b[33mSucc\u001b[39m(n = Z))\n",
       "\u001b[36mthree\u001b[39m: \u001b[32mNum\u001b[39m = \u001b[33mSucc\u001b[39m(n = \u001b[33mSucc\u001b[39m(n = \u001b[33mSucc\u001b[39m(n = Z)))"
      ]
     },
     "execution_count": 16,
     "metadata": {},
     "output_type": "execute_result"
    }
   ],
   "source": [
    "val two:Num = Succ(one)\n",
    "val three:Num = Succ(two)"
   ]
  },
  {
   "cell_type": "code",
   "execution_count": 17,
   "id": "50ffb0bc-ce35-4485-8744-4af4d1ac5cb4",
   "metadata": {},
   "outputs": [
    {
     "data": {
      "text/plain": [
       "\u001b[36mfour\u001b[39m: \u001b[32mNum\u001b[39m = \u001b[33mSucc\u001b[39m(n = \u001b[33mSucc\u001b[39m(n = \u001b[33mSucc\u001b[39m(n = \u001b[33mSucc\u001b[39m(n = Z))))"
      ]
     },
     "execution_count": 17,
     "metadata": {},
     "output_type": "execute_result"
    }
   ],
   "source": [
    "val four:Num = Succ(Succ(two))"
   ]
  },
  {
   "cell_type": "markdown",
   "id": "58619bc2-3c55-408f-93ff-e382fd4232e6",
   "metadata": {},
   "source": [
    "### Derivation\n",
    "\n",
    "`Succ(Succ(Z))` is a valid sentence in our langauge. Therefore, there must exist a derivation for this.\n",
    "\n",
    "```\n",
    "Num -2-> Succ(Num) -2-> Succ(Succ(Num)) -1-> Succ(Succ(Z))\n",
    "```"
   ]
  },
  {
   "cell_type": "markdown",
   "id": "30e0ec14-91d2-4153-8027-3f3a5e23c300",
   "metadata": {},
   "source": [
    "## Lists\n",
    "\n",
    "```\n",
    "NumList --> Nil  //Rule1\n",
    "NumList --> Cons(Num, NumList)\n",
    "```\n",
    "\n",
    "* `Cons(one, Cons(two, Nil))` // this corresponds to `List(1,2)`\n",
    "* `Cons(one, Cons(two, Cons(three, Nil)))` // this corresponds to `List(1,2,3)`"
   ]
  },
  {
   "cell_type": "code",
   "execution_count": 18,
   "id": "d2be958f-1116-4de2-a1d2-aa3243dd0f0d",
   "metadata": {},
   "outputs": [
    {
     "data": {
      "text/plain": [
       "defined \u001b[32mtrait\u001b[39m \u001b[36mNumList\u001b[39m\n",
       "defined \u001b[32mobject\u001b[39m \u001b[36mNil\u001b[39m\n",
       "defined \u001b[32mclass\u001b[39m \u001b[36mCons\u001b[39m"
      ]
     },
     "execution_count": 18,
     "metadata": {},
     "output_type": "execute_result"
    }
   ],
   "source": [
    "sealed trait NumList\n",
    "\n",
    "case object Nil extends NumList // Rule1\n",
    "\n",
    "case class Cons(hd:Num, tl:NumList) extends NumList // Rule 2"
   ]
  },
  {
   "cell_type": "code",
   "execution_count": 10,
   "id": "f953a0fd-f9a5-4e05-8ec3-ed117fc77908",
   "metadata": {},
   "outputs": [
    {
     "data": {
      "text/plain": [
       "\u001b[36ml\u001b[39m: \u001b[32mList\u001b[39m[\u001b[32mInt\u001b[39m] = \u001b[33mList\u001b[39m(\u001b[32m2\u001b[39m, \u001b[32m1\u001b[39m, \u001b[32m3\u001b[39m)"
      ]
     },
     "execution_count": 10,
     "metadata": {},
     "output_type": "execute_result"
    }
   ],
   "source": [
    "val l:List[Int] = List(2,1,3)"
   ]
  },
  {
   "cell_type": "code",
   "execution_count": 21,
   "id": "8030e3c8-7d4f-415f-8106-136ff8e816c8",
   "metadata": {},
   "outputs": [
    {
     "data": {
      "text/plain": [
       "\u001b[36ml1\u001b[39m: \u001b[32mNumList\u001b[39m = \u001b[33mCons\u001b[39m(\n",
       "  hd = \u001b[33mSucc\u001b[39m(n = \u001b[33mSucc\u001b[39m(n = Z)),\n",
       "  tl = \u001b[33mCons\u001b[39m(\n",
       "    hd = \u001b[33mSucc\u001b[39m(n = Z),\n",
       "    tl = \u001b[33mCons\u001b[39m(hd = \u001b[33mSucc\u001b[39m(n = \u001b[33mSucc\u001b[39m(n = \u001b[33mSucc\u001b[39m(n = Z))), tl = Nil)\n",
       "  )\n",
       ")"
      ]
     },
     "execution_count": 21,
     "metadata": {},
     "output_type": "execute_result"
    }
   ],
   "source": [
    "val l1: NumList = Cons(two, Cons(one, Cons(three, Nil)))"
   ]
  },
  {
   "cell_type": "code",
   "execution_count": 20,
   "id": "c9f600e4-af95-4f61-b6b3-b830531176f6",
   "metadata": {},
   "outputs": [
    {
     "data": {
      "text/plain": [
       "\u001b[36ml2\u001b[39m: \u001b[32mNumList\u001b[39m = \u001b[33mCons\u001b[39m(\n",
       "  hd = \u001b[33mSucc\u001b[39m(n = \u001b[33mSucc\u001b[39m(n = Z)),\n",
       "  tl = \u001b[33mCons\u001b[39m(\n",
       "    hd = \u001b[33mSucc\u001b[39m(n = Z),\n",
       "    tl = \u001b[33mCons\u001b[39m(hd = \u001b[33mSucc\u001b[39m(n = \u001b[33mSucc\u001b[39m(n = \u001b[33mSucc\u001b[39m(n = Z))), tl = Nil)\n",
       "  )\n",
       ")"
      ]
     },
     "execution_count": 20,
     "metadata": {},
     "output_type": "execute_result"
    }
   ],
   "source": [
    "val l2: NumList = Cons(two, Cons(one, Cons(three, Nil)))"
   ]
  },
  {
   "cell_type": "code",
   "execution_count": 22,
   "id": "de3ef35e-cfdc-4f6f-a737-8284948e94d6",
   "metadata": {},
   "outputs": [
    {
     "name": "stdout",
     "output_type": "stream",
     "text": [
      "true"
     ]
    }
   ],
   "source": [
    "print(l1==l2)"
   ]
  },
  {
   "cell_type": "code",
   "execution_count": 23,
   "id": "7b86b020-d7bb-4aac-8c94-3c0ae5892e06",
   "metadata": {},
   "outputs": [
    {
     "name": "stdout",
     "output_type": "stream",
     "text": [
      "true"
     ]
    },
    {
     "data": {
      "text/plain": [
       "\u001b[36msl1\u001b[39m: \u001b[32mList\u001b[39m[\u001b[32mInt\u001b[39m] = \u001b[33mList\u001b[39m(\u001b[32m2\u001b[39m, \u001b[32m1\u001b[39m, \u001b[32m3\u001b[39m)\n",
       "\u001b[36msl2\u001b[39m: \u001b[32mList\u001b[39m[\u001b[32mInt\u001b[39m] = \u001b[33mList\u001b[39m(\u001b[32m2\u001b[39m, \u001b[32m1\u001b[39m, \u001b[32m3\u001b[39m)"
      ]
     },
     "execution_count": 23,
     "metadata": {},
     "output_type": "execute_result"
    }
   ],
   "source": [
    "val sl1: List[Int] = List(2,1,3)\n",
    "val sl2: List[Int] = List(2,1,3)\n",
    "print(sl1 == sl2)"
   ]
  },
  {
   "cell_type": "markdown",
   "id": "0c70168b-b00b-43a6-9646-c0d947bb445b",
   "metadata": {},
   "source": [
    "## Binary Tree\n",
    "\n",
    "```\n",
    "NumBTree -->  Leaf     //Rule1\n",
    "NumBTree -->  Branch(NumBtree, Num, NumBTree)    //Rule2\n",
    "```"
   ]
  },
  {
   "cell_type": "code",
   "execution_count": 25,
   "id": "13245550-914a-4604-a2e9-5aa05cbec509",
   "metadata": {},
   "outputs": [
    {
     "data": {
      "text/plain": [
       "defined \u001b[32mtrait\u001b[39m \u001b[36mNumBTree\u001b[39m\n",
       "defined \u001b[32mobject\u001b[39m \u001b[36mLeaf\u001b[39m\n",
       "defined \u001b[32mclass\u001b[39m \u001b[36mBranch\u001b[39m"
      ]
     },
     "execution_count": 25,
     "metadata": {},
     "output_type": "execute_result"
    }
   ],
   "source": [
    "sealed trait NumBTree\n",
    "case object Leaf extends NumBTree\n",
    "case class Branch(lt: NumBTree, n: Num, rt:NumBTree) extends NumBTree"
   ]
  },
  {
   "cell_type": "code",
   "execution_count": 26,
   "id": "4808c0b8-8509-493c-9302-557e589a9537",
   "metadata": {},
   "outputs": [
    {
     "data": {
      "text/plain": [
       "\u001b[36mt1\u001b[39m: \u001b[32mNumBTree\u001b[39m = \u001b[33mBranch\u001b[39m(lt = Leaf, n = \u001b[33mSucc\u001b[39m(n = Z), rt = Leaf)"
      ]
     },
     "execution_count": 26,
     "metadata": {},
     "output_type": "execute_result"
    }
   ],
   "source": [
    "val t1: NumBTree = Branch(Leaf, one, Leaf)"
   ]
  },
  {
   "cell_type": "code",
   "execution_count": null,
   "id": "f6c26fbf-4051-4caf-a652-e33cbe7a799e",
   "metadata": {},
   "outputs": [],
   "source": []
  }
 ],
 "metadata": {
  "kernelspec": {
   "display_name": "Scala",
   "language": "scala",
   "name": "scala"
  },
  "language_info": {
   "codemirror_mode": "text/x-scala",
   "file_extension": ".sc",
   "mimetype": "text/x-scala",
   "name": "scala",
   "nbconvert_exporter": "script",
   "version": "2.13.4"
  }
 },
 "nbformat": 4,
 "nbformat_minor": 5
}
