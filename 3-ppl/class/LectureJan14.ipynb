{
 "cells": [
  {
   "cell_type": "markdown",
   "id": "1b4d587a-c350-4559-b461-f08482db9ccc",
   "metadata": {},
   "source": [
    "<div style=\"text-align:center\">\n",
    "<h1> CSCI 3155 Principles of Programming Languages </h1>\n",
    "<h2> Spring 2025 </h2>\n",
    "</div>"
   ]
  },
  {
   "cell_type": "markdown",
   "id": "72bd5b70-7518-48e5-96d8-95d2df0a46bc",
   "metadata": {},
   "source": [
    "## Hello Folks!\n",
    "\n",
    "* About Me: [Gowtham Kaki](https://gowthamk.github.io), Assistant Professor, CS Department.\n",
    "\n",
    "\n",
    "* About you:\n",
    "  + 285 Students\n",
    "  + 31 Majors\n",
    "  + From Sophomores to Seniors in Fifth year.\n",
    "\n",
    "\n",
    "* About the course staff:\n",
    "  + 1 Instructor\n",
    "  + 6 Teaching Asistants (TAs)\n",
    "      - Kevin Lane\n",
    "      - Dakota Bryan\n",
    "      - Christian Fontenot\n",
    "      - Nour Rahal-Arabi\n",
    "      - Saksham Khatwani\n",
    "      - Idriss Djiofack Teledjieu\n",
    "  + 6 Course Assistants (CAs)\n",
    "      - Dudanov Tome\n",
    "      - Singh Yash\n",
    "      - Kaliaperumal, Pranav Kumar\n",
    "      - Turner, Tavin, G\n",
    "      - Bhaskara, Adithya\n",
    "      - Smith, Nat, M (Marcy)\n",
    "  + 1 Course Manager\n",
    "      - Lawrence Khadka\n",
    "  + 1 Grader\n",
    "      - Shreshth Srivastava\n",
    "\n",
    "* About course tools:\n",
    "  + [Canvas](https://canvas.colorado.edu/courses/117892)\n",
    "  + [Piazza](https://piazza.com/class/m5vbq5jqulv5cl/)"
   ]
  },
  {
   "cell_type": "markdown",
   "id": "810413e6-39b8-4a67-a331-5e69ebe3397a",
   "metadata": {},
   "source": [
    "## What is this course about?\n",
    "* Programming Languages?\n",
    "* Principles?\n",
    "* Why do we need principles for programming languages?\n",
    "> “Those are my principles, and if you don't like them...well I have others.” \n",
    "> ― Groucho Marx \n"
   ]
  },
  {
   "cell_type": "markdown",
   "id": "cff56093-604f-46ba-92a8-288bd9d50d27",
   "metadata": {},
   "source": [
    "## Thought Experiment: Single instruction programming language\n",
    "\n",
    "```c\n",
    "subleq a, b, c   // *b = *b - *a\n",
    "                 // if (*b ≤ 0) goto c\n",
    "```"
   ]
  },
  {
   "cell_type": "markdown",
   "id": "eaf7b1cc-c084-406d-ab41-3070174980e5",
   "metadata": {},
   "source": [
    "If the branch target is the next instruction, then drop the third argument.\n",
    "\n",
    "    subleq a, b\n",
    "    \n",
    "is equivalent to\n",
    "\n",
    "        subleq a, b, L1\n",
    "    L1: ..."
   ]
  },
  {
   "cell_type": "markdown",
   "id": "4bdb3f9d-e3c8-484a-80ca-1dab9674dc5b",
   "metadata": {},
   "source": [
    "## What does this program do?\n",
    "\n",
    "```c\n",
    "// initially *Z = 0, *a = 4, *b = 7\n",
    "subleq a, Z\n",
    "subleq Z, b\n",
    "subleq Z, Z\n",
    "// Finally, *Z = 0, *a = 4, *b = 7+4 = 11\n",
    "```\n"
   ]
  },
  {
   "cell_type": "markdown",
   "id": "5bfa906b-7c5b-4971-a928-3345a0ea72ef",
   "metadata": {},
   "source": [
    "## What does this program do?\n",
    "\n",
    "```c\n",
    "// initially *Z = 0\n",
    "subleq a, Z // *Z = *Z - *a \n",
    "            // *Z = -(*a)\n",
    "subleq Z, b // *b = *b - *Z\n",
    "            // *b = *b - (-*a) \n",
    "            // *b = *b + *a\n",
    "subleq Z, Z // *Z = *Z - *Z\n",
    "            // *Z = 0\n",
    "```"
   ]
  },
  {
   "cell_type": "markdown",
   "id": "11aea879-3880-4773-bb8e-114bac50e712",
   "metadata": {},
   "source": [
    "**Answer:** *b = *a + *b (Addition)"
   ]
  },
  {
   "cell_type": "markdown",
   "id": "fe35af81-be01-4cb3-9778-f3285e22de01",
   "metadata": {},
   "source": [
    "## In fact, this one instruction PL is as powerful as *every* PL.\n",
    "\n",
    "* But good luck writing quicksort in this PL\n",
    "  + let alone Facebook\n",
    "  + ..or Linux\n",
    "  + ..or Grand Theft Auto V."
   ]
  },
  {
   "cell_type": "markdown",
   "id": "84e48a90-144c-40ce-9e77-6334dae25cc9",
   "metadata": {},
   "source": [
    "The `subleq` instruction is from [One Instruction Set Computer](https://en.wikipedia.org/wiki/One_instruction_set_computer). If you thought such a machine is hypothetical, think again. It has been shown that the [x86 `mov` instruction is turing complete](https://esolangs.org/wiki/Mov) and is as powerful as every programming language. "
   ]
  },
  {
   "cell_type": "markdown",
   "id": "4bb710fa-9e20-48b3-8897-387a666a1e80",
   "metadata": {},
   "source": [
    "## A programming language is a medium of communication between machines and *humans*. \n",
    "* Programming is a human activity and humans *love* principles!\n",
    "* Different programming languages chose different principles depending on the domain they intend to serve.\n"
   ]
  },
  {
   "cell_type": "markdown",
   "id": "7962b756-afe7-4f12-982a-310733905979",
   "metadata": {},
   "source": [
    "* E.g., C/C++:\n",
    "  + Computer = Von Neumann machine \n",
    "  + Minimal types to weed out basic errors.\n",
    "  + Programmer knows the best.\n",
    "\n",
    "* What does the following C program do?\n",
    "```c\n",
    "void foo(int a[], int len) {\n",
    "    int* b = a+len-1;\n",
    "    while(a<=b) {\n",
    "        *b-- = 0;\n",
    "    }\n",
    "}\n",
    "```\n",
    "* Is it possible to write a similar program in python? Why (not)?"
   ]
  },
  {
   "cell_type": "code",
   "execution_count": 4,
   "id": "a90e5005-3108-41ad-8de9-2e57ff253348",
   "metadata": {},
   "outputs": [
    {
     "name": "stdout",
     "output_type": "stream",
     "text": [
      "Saksham\n",
      "Nour\n",
      "Kevin\n",
      "Idriss\n",
      "Christian\n",
      "Dakota\n"
     ]
    }
   ],
   "source": [
    "TAs = [\"Dakota\", \"Christian\", \"Idriss\", \"Kevin\", \"Nour\", \"Saksham\"]\n",
    "for i,ta in enumerate(reversed(TAs)):\n",
    "    print(ta)"
   ]
  },
  {
   "cell_type": "markdown",
   "id": "3dcacf09-0df9-46e9-92a4-85066248664e",
   "metadata": {},
   "source": [
    "* [Principles of Python](https://en.wikipedia.org/wiki/Zen_of_Python)\n",
    "* [Principles (or the lack thereof) of Javascript](https://insen.github.io/blog/img/posts/Javascript-GoodPartsVsDefinitiveGuide.png)\n",
    "  + [JS Equality Table](https://dorey.github.io/JavaScript-Equality-Table/)"
   ]
  },
  {
   "cell_type": "markdown",
   "id": "cc21e163-6692-4ed6-882e-301e11514ea0",
   "metadata": {},
   "source": [
    "## Liberation from Von Neumann Model \n",
    "* Python is still based on Von Neumann Model. Can you name a language that is NOT?\n",
    "* [\"Can programming be liberated from the von Neumann style?\"](https://dl.acm.org/doi/10.1145/359576.359579)"
   ]
  },
  {
   "cell_type": "markdown",
   "id": "80c09629-fc81-4cab-9622-5630e9c7be04",
   "metadata": {},
   "source": [
    "## Functional Programming\n",
    "* A *programming paradigm* where computations are performed by composing and applying *pure functions* on *immutable data*.\n",
    "* Focus is on expressing *what* needs to be computed.\n",
    "\n",
    "#### Compare with Imperative Programming, where:\n",
    "* Computations are performed by issuing a series of statements/commands that change the state of a machine.\n",
    "* Focus is on describing *how* to perform a computation."
   ]
  },
  {
   "cell_type": "markdown",
   "id": "9fe95608-1932-4f14-a2cd-0e7b07fe33f6",
   "metadata": {},
   "source": [
    "#### Pure Functions\n",
    "\n",
    "A function is pure iff its output depends only on its inputs.\n",
    "\n",
    "**Example 1:**\n",
    "\n",
    "$f(x,y) = 2*x + 3*y +2$, where $x\\in\\mathbb{Z}$\n",
    "\n",
    "Python:\n",
    "```python\n",
    "  def f(x,y):\n",
    "    2*x + 3*y + 2\n",
    "```\n",
    "\n",
    "Haskell:\n",
    "```haskell\n",
    "f (x,y) = 2*x + 3*y + 2\n",
    "```"
   ]
  },
  {
   "cell_type": "markdown",
   "id": "66635ac8-a099-47b7-b641-593d0e6d2de5",
   "metadata": {},
   "source": [
    "## Why learn functional programming?\n",
    "* Gives you a fundamentally different perspective on programming.\n",
    "> \"A language that doesn't affect the way you think about programming is not worth knowing\" -- Alan Perlis\n",
    "* [FP = Galaxy Brain](https://imgflip.com/i/7xd4hi)\n",
    "* An ideal tool to study the *semantics* of programming languages."
   ]
  },
  {
   "cell_type": "markdown",
   "id": "4572b0f9-34df-4d97-acf9-7f2b1f69aa03",
   "metadata": {},
   "source": [
    "## Less philosophical reasons to learn functional programming (FP)\n",
    "#### 1. FP languages predict the future\n",
    "\n",
    "* Garbage collection\n",
    "  + Java [1995], LISP [1958]\n",
    "* Generics\n",
    "  + Java 5 [2004], ML [1990]\n",
    "* Higher-order functions\n",
    "  + C#3.0 [2007], Java 8 [2014], LISP [1958]\n",
    "* Type inference\n",
    "  + C++11 [2011], Java 7 [2011] and 8, ML [1990]\n",
    "* Onwership Types\n",
    "  + Rust [2014], Pizza [1998]\n",
    "\n",
    "#### 2. FP is seeing increasing adoption\n",
    "\n",
    "* F#, C# 3.0, LINQ -- Microsoft\n",
    "* Scala -- Twitter, Foursquare, LinkedIn\n",
    "* Haskell -- Facebook, Barclays, AT&T.\n",
    "* Erlang -- Facebook, Amazon, WhatsApp\n",
    "* OCaml -- Facebook, Bloomberg, Docker, Citrix, JaneStreet, Tezos Blockchain \n",
    "* Rust?"
   ]
  },
  {
   "cell_type": "markdown",
   "id": "e92cf354-d91d-4e30-af9e-236f98849ecb",
   "metadata": {},
   "source": [
    "## Structure of this course\n",
    "* Part1: Functional programming through Scala\n",
    "* Part2: Semantics of Programming Languages."
   ]
  },
  {
   "cell_type": "markdown",
   "id": "a61b6b30-2aa0-4d8f-b060-8ff42f3e1f56",
   "metadata": {},
   "source": [
    "## Textbook\n",
    "* No textbook; we will distribute Jupyter notebooks with lecture notes and exectuable Scala code.\n",
    "* Reference book: Programming in Scala, third edition by Martin Odersky, Lex Spoon, and Bill Venners."
   ]
  },
  {
   "cell_type": "markdown",
   "id": "e94ff766-c33c-41a1-8e74-d150651179e1",
   "metadata": {},
   "source": [
    "## Evaluation Components\n",
    "* Weekly online quizzes - 10%\n",
    "* Weekly problem sets - 30%\n",
    "* Mini Projects - 20%\n",
    "* In-ClassExams - 20%\n",
    "* Final Exams - 20%"
   ]
  },
  {
   "cell_type": "markdown",
   "id": "4b9ff825-84e1-4a75-b250-5206611030fa",
   "metadata": {},
   "source": [
    "## Logistics\n",
    "* Use Piazza for all course-related communication. We are drowning in email!\n",
    "* Make private piazza post if necessary.\n",
    "* Make anonymous post if you do not want to reveal your identity to your peers.\n",
    "* Attend recitations. TAs are your friends!\n",
    "* Start problem sets early; submit on time; **submit the correct version!**\n",
    "* Grading is purely individual based: the performance of your classmate will have no bearing on your own grades. See syllabus page on Canvas for tentative grade cutoffs. \n",
    "* Reach out early if you are facing problems."
   ]
  },
  {
   "cell_type": "markdown",
   "id": "8f73b915-bb5f-4734-8e7c-4b7ed36ab0a0",
   "metadata": {},
   "source": [
    "## TODO for today\n",
    "* Enroll on Course Pizza. Link can be found on Canvas.\n",
    "* Read the syllabus page and complete the Introductory quiz (will be released shortly).\n",
    "* Install Jupyter notebook with Scala Kernel. Instructions can be found on Canvas. Post on Piazza if you run into issues."
   ]
  }
 ],
 "metadata": {
  "kernelspec": {
   "display_name": "env",
   "language": "python",
   "name": "python3"
  },
  "language_info": {
   "codemirror_mode": {
    "name": "ipython",
    "version": 3
   },
   "file_extension": ".py",
   "mimetype": "text/x-python",
   "name": "python",
   "nbconvert_exporter": "python",
   "pygments_lexer": "ipython3",
   "version": "3.13.1"
  }
 },
 "nbformat": 4,
 "nbformat_minor": 5
}
