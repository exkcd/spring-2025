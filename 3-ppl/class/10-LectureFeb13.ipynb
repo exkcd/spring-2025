{
 "cells": [
  {
   "cell_type": "markdown",
   "id": "f9386cdf-08de-4c87-9f65-9289a15d0559",
   "metadata": {},
   "source": [
    "<h1><center>CSCI 3155 Principles of Programming Languages</center></h1>\n",
    "<h2><center>Spring 2025</center></h2>\n",
    "<h3><center>Dakota Bryan</center></h3>\n"
   ]
  },
  {
   "cell_type": "markdown",
   "id": "b5a07177-a535-444f-8625-74bdf8f59d48",
   "metadata": {},
   "source": [
    "## Higher Order Functions"
   ]
  },
  {
   "cell_type": "markdown",
   "id": "be43b423-5e74-4474-b660-37945f4927b2",
   "metadata": {},
   "source": [
    "### Three similar functions"
   ]
  },
  {
   "cell_type": "code",
   "execution_count": 47,
   "id": "2af253da-56eb-46e0-b169-2ab0cf47b83f",
   "metadata": {},
   "outputs": [
    {
     "data": {
      "text/plain": [
       "defined \u001b[32mfunction\u001b[39m \u001b[36mabsOfList\u001b[39m\n",
       "defined \u001b[32mfunction\u001b[39m \u001b[36mfloorOfList\u001b[39m\n",
       "defined \u001b[32mfunction\u001b[39m \u001b[36mstringOfList\u001b[39m"
      ]
     },
     "execution_count": 47,
     "metadata": {},
     "output_type": "execute_result"
    }
   ],
   "source": [
    "def absOfList(l : List[Double]) : List[Double] = {\n",
    "  l match {\n",
    "    case Nil => Nil\n",
    "    case hd::tl => hd.abs :: absOfList(tl)\n",
    "  }\n",
    "}\n",
    "def floorOfList(l : List[Double]) : List[Double] = {\n",
    "  l match {\n",
    "    case Nil => Nil\n",
    "    case hd::tl => hd.floor :: floorOfList(tl)\n",
    "  }\n",
    "}\n",
    "def stringOfList(l : List[Double]) : List[String] = {\n",
    "  l match {\n",
    "    case Nil => Nil\n",
    "    case hd::tl => hd.toString :: stringOfList(tl)\n",
    "  }\n",
    "}"
   ]
  },
  {
   "cell_type": "code",
   "execution_count": 48,
   "id": "5d43b657-f4ca-49c2-9269-9121499850b1",
   "metadata": {},
   "outputs": [
    {
     "data": {
      "text/plain": [
       "\u001b[36ml1\u001b[39m: \u001b[32mList\u001b[39m[\u001b[32mDouble\u001b[39m] = \u001b[33mList\u001b[39m(\u001b[32m2.1\u001b[39m, \u001b[32m-3.2\u001b[39m, \u001b[32m-4.5\u001b[39m, \u001b[32m7.1\u001b[39m)\n",
       "\u001b[36ml1_abs\u001b[39m: \u001b[32mList\u001b[39m[\u001b[32mDouble\u001b[39m] = \u001b[33mList\u001b[39m(\u001b[32m2.1\u001b[39m, \u001b[32m3.2\u001b[39m, \u001b[32m4.5\u001b[39m, \u001b[32m7.1\u001b[39m)\n",
       "\u001b[36ml1_floor\u001b[39m: \u001b[32mList\u001b[39m[\u001b[32mDouble\u001b[39m] = \u001b[33mList\u001b[39m(\u001b[32m2.0\u001b[39m, \u001b[32m-4.0\u001b[39m, \u001b[32m-5.0\u001b[39m, \u001b[32m7.0\u001b[39m)\n",
       "\u001b[36ml1_str\u001b[39m: \u001b[32mList\u001b[39m[\u001b[32mString\u001b[39m] = \u001b[33mList\u001b[39m(\u001b[32m\"2.1\"\u001b[39m, \u001b[32m\"-3.2\"\u001b[39m, \u001b[32m\"-4.5\"\u001b[39m, \u001b[32m\"7.1\"\u001b[39m)"
      ]
     },
     "execution_count": 48,
     "metadata": {},
     "output_type": "execute_result"
    }
   ],
   "source": [
    "// tets\n",
    "val l1 = List(2.1, -3.2, -4.5, 7.1)\n",
    "val l1_abs = absOfList(l1)\n",
    "val l1_floor = floorOfList(l1)\n",
    "val l1_str = stringOfList(l1)"
   ]
  },
  {
   "cell_type": "markdown",
   "id": "4cdcc8d3-6285-4e90-a968-d8fc1558c4c5",
   "metadata": {},
   "source": [
    "### Map"
   ]
  },
  {
   "cell_type": "code",
   "execution_count": 49,
   "id": "2f57f276-ade8-497f-9c79-dd036e231bfa",
   "metadata": {},
   "outputs": [
    {
     "data": {
      "text/plain": [
       "defined \u001b[32mfunction\u001b[39m \u001b[36mmyMap\u001b[39m"
      ]
     },
     "execution_count": 49,
     "metadata": {},
     "output_type": "execute_result"
    }
   ],
   "source": [
    "def myMap(l : List[Double], f : Double => Double) : List[Double] = {\n",
    "  l match {\n",
    "    case Nil => Nil\n",
    "    case hd::tl => f(hd) :: myMap(tl, f)\n",
    "  }\n",
    "}"
   ]
  },
  {
   "cell_type": "code",
   "execution_count": 50,
   "id": "e9e3dfe1-42a1-42c9-92b3-edc002293adb",
   "metadata": {},
   "outputs": [
    {
     "data": {
      "text/plain": [
       "defined \u001b[32mfunction\u001b[39m \u001b[36mdouble_abs\u001b[39m\n",
       "\u001b[36ml1_abs_\u001b[39m: \u001b[32mList\u001b[39m[\u001b[32mDouble\u001b[39m] = \u001b[33mList\u001b[39m(\u001b[32m2.1\u001b[39m, \u001b[32m3.2\u001b[39m, \u001b[32m4.5\u001b[39m, \u001b[32m7.1\u001b[39m)"
      ]
     },
     "execution_count": 50,
     "metadata": {},
     "output_type": "execute_result"
    }
   ],
   "source": [
    "// test \n",
    "def double_abs(x: Double) : Double = x.abs\n",
    "val l1_abs_ = myMap(l1, double_abs)\n"
   ]
  },
  {
   "cell_type": "code",
   "execution_count": 51,
   "id": "60025f95-b6c1-4f4b-a404-b45266d136e5",
   "metadata": {},
   "outputs": [
    {
     "data": {
      "text/plain": [
       "defined \u001b[32mfunction\u001b[39m \u001b[36mmyMap\u001b[39m"
      ]
     },
     "execution_count": 51,
     "metadata": {},
     "output_type": "execute_result"
    }
   ],
   "source": [
    "def myMap[A, B](l : List[A], f : A => B) : List[B] = {\n",
    "  l match {\n",
    "    case Nil => Nil\n",
    "    case hd::tl => f(hd) :: myMap(tl, f)\n",
    "  }\n",
    "}"
   ]
  },
  {
   "cell_type": "code",
   "execution_count": 52,
   "id": "d1a81d25-b2df-41b8-a278-bfbe0add7d60",
   "metadata": {},
   "outputs": [
    {
     "data": {
      "text/plain": [
       "defined \u001b[32mfunction\u001b[39m \u001b[36mdouble_abs\u001b[39m\n",
       "\u001b[36ml1_abs_\u001b[39m: \u001b[32mList\u001b[39m[\u001b[32mDouble\u001b[39m] = \u001b[33mList\u001b[39m(\u001b[32m2.1\u001b[39m, \u001b[32m3.2\u001b[39m, \u001b[32m4.5\u001b[39m, \u001b[32m7.1\u001b[39m)"
      ]
     },
     "execution_count": 52,
     "metadata": {},
     "output_type": "execute_result"
    }
   ],
   "source": [
    "def double_abs(x: Double) : Double = x.abs\n",
    "val l1_abs_ = myMap(l1, double_abs)"
   ]
  },
  {
   "cell_type": "code",
   "execution_count": 53,
   "id": "f720a30e-55d2-40d2-9739-2db42b3de71a",
   "metadata": {},
   "outputs": [
    {
     "data": {
      "text/plain": [
       "defined \u001b[32mfunction\u001b[39m \u001b[36mdouble_toString\u001b[39m\n",
       "\u001b[36ml1_string\u001b[39m: \u001b[32mList\u001b[39m[\u001b[32mString\u001b[39m] = \u001b[33mList\u001b[39m(\u001b[32m\"2.1\"\u001b[39m, \u001b[32m\"-3.2\"\u001b[39m, \u001b[32m\"-4.5\"\u001b[39m, \u001b[32m\"7.1\"\u001b[39m)"
      ]
     },
     "execution_count": 53,
     "metadata": {},
     "output_type": "execute_result"
    }
   ],
   "source": [
    "def double_toString(x: Double) : String = x.toString\n",
    "val l1_string = myMap(l1, double_toString)"
   ]
  },
  {
   "cell_type": "markdown",
   "id": "575ca92e-a4f3-474a-ae5b-84c8d1dc6b54",
   "metadata": {},
   "source": [
    "#### Parametric on Types??? "
   ]
  },
  {
   "cell_type": "markdown",
   "id": "95a4f40a-d720-4e4e-8766-55f8392538a2",
   "metadata": {},
   "source": [
    "### anonymous functions"
   ]
  },
  {
   "cell_type": "code",
   "execution_count": 55,
   "id": "8432a002-cad6-4e27-95fa-c3834097bd4a",
   "metadata": {},
   "outputs": [
    {
     "data": {
      "text/plain": [
       "\u001b[36mres55_0\u001b[39m: \u001b[32mString\u001b[39m = \u001b[32m\"4.2\"\u001b[39m\n",
       "\u001b[36mdouble_str\u001b[39m: \u001b[32mDouble\u001b[39m => \u001b[32mString\u001b[39m = ammonite.$sess.cmd55$Helper$$Lambda/0x00000003018e9b98@10fcd920\n",
       "\u001b[36mres55_2\u001b[39m: \u001b[32mInt\u001b[39m = \u001b[32m4\u001b[39m"
      ]
     },
     "execution_count": 55,
     "metadata": {},
     "output_type": "execute_result"
    }
   ],
   "source": [
    "((x: Double) => x.toString)(4.2)\n",
    "\n",
    "val double_str : Double => String = (x: Double) => x.toString\n",
    "4"
   ]
  },
  {
   "cell_type": "markdown",
   "id": "a5550d75-8288-477a-b3be-8c94a3e84742",
   "metadata": {},
   "source": [
    "#### another way of writing functions"
   ]
  },
  {
   "cell_type": "code",
   "execution_count": 56,
   "id": "6cd7a8d2-7716-443a-a5c6-52345acc9c74",
   "metadata": {},
   "outputs": [
    {
     "data": {
      "text/plain": [
       "\u001b[36ml1_abs_\u001b[39m: \u001b[32mList\u001b[39m[\u001b[32mDouble\u001b[39m] = \u001b[33mList\u001b[39m(\u001b[32m2.1\u001b[39m, \u001b[32m3.2\u001b[39m, \u001b[32m4.5\u001b[39m, \u001b[32m7.1\u001b[39m)\n",
       "\u001b[36ml1_str_\u001b[39m: \u001b[32mList\u001b[39m[\u001b[32mString\u001b[39m] = \u001b[33mList\u001b[39m(\u001b[32m\"2.1\"\u001b[39m, \u001b[32m\"-3.2\"\u001b[39m, \u001b[32m\"-4.5\"\u001b[39m, \u001b[32m\"7.1\"\u001b[39m)"
      ]
     },
     "execution_count": 56,
     "metadata": {},
     "output_type": "execute_result"
    }
   ],
   "source": [
    "val l1_abs_ = myMap(l1, (x : Double) => x.abs)\n",
    "val l1_str_ = myMap(l1, double_str)"
   ]
  },
  {
   "cell_type": "markdown",
   "id": "33039a90-c5ef-4f8d-a4cf-7adf618753ba",
   "metadata": {},
   "source": [
    "### Filter"
   ]
  },
  {
   "cell_type": "code",
   "execution_count": 58,
   "id": "773c1801-4e48-44ff-9198-70f44cb49919",
   "metadata": {},
   "outputs": [
    {
     "data": {
      "text/plain": [
       "defined \u001b[32mfunction\u001b[39m \u001b[36mmyFilter\u001b[39m"
      ]
     },
     "execution_count": 58,
     "metadata": {},
     "output_type": "execute_result"
    }
   ],
   "source": [
    "def myFilter(l : List[Int], f: Int => Boolean) : List[Int] = {\n",
    "  l match {\n",
    "    case Nil => Nil\n",
    "    case hd::tl => if (f(hd)) hd :: myFilter(tl, f) else myFilter(tl, f)\n",
    "  }\n",
    "}"
   ]
  },
  {
   "cell_type": "code",
   "execution_count": 59,
   "id": "d1ee1eac-42b4-4ad5-9646-eb5d68a4b50b",
   "metadata": {},
   "outputs": [
    {
     "data": {
      "text/plain": [
       "\u001b[36ml2\u001b[39m: \u001b[32mList\u001b[39m[\u001b[32mInt\u001b[39m] = \u001b[33mList\u001b[39m(\u001b[32m1\u001b[39m, \u001b[32m2\u001b[39m, \u001b[32m3\u001b[39m, \u001b[32m4\u001b[39m)\n",
       "\u001b[36ml2_evens\u001b[39m: \u001b[32mList\u001b[39m[\u001b[32mInt\u001b[39m] = \u001b[33mList\u001b[39m(\u001b[32m2\u001b[39m, \u001b[32m4\u001b[39m)"
      ]
     },
     "execution_count": 59,
     "metadata": {},
     "output_type": "execute_result"
    }
   ],
   "source": [
    "val l2 : List[Int] = List(1, 2, 3, 4)\n",
    "val l2_evens : List[Int] = myFilter(l2, (x : Int) => x % 2 == 0 )"
   ]
  },
  {
   "cell_type": "code",
   "execution_count": 60,
   "id": "5fe9a1cb-b76d-47ce-b1c9-75b41a1988d8",
   "metadata": {},
   "outputs": [
    {
     "data": {
      "text/plain": [
       "defined \u001b[32mfunction\u001b[39m \u001b[36mmyFilter\u001b[39m\n",
       "\u001b[36ml2_evens\u001b[39m: \u001b[32mList\u001b[39m[\u001b[32mInt\u001b[39m] = \u001b[33mList\u001b[39m(\u001b[32m2\u001b[39m, \u001b[32m4\u001b[39m)"
      ]
     },
     "execution_count": 60,
     "metadata": {},
     "output_type": "execute_result"
    }
   ],
   "source": [
    "def myFilter[A](l : List[A], f: A => Boolean) : List[A] = {\n",
    "  l match {\n",
    "    case Nil => Nil\n",
    "    case hd::tl => if (f(hd)) hd :: myFilter(tl, f) else myFilter(tl, f)\n",
    "  }\n",
    "}\n",
    "val l2_evens : List[Int] = myFilter(l2, (x : Int) => x % 2 == 0 )"
   ]
  },
  {
   "cell_type": "code",
   "execution_count": 61,
   "id": "a3138f3e-d1e2-44d0-9607-2959b6302d9e",
   "metadata": {},
   "outputs": [
    {
     "data": {
      "text/plain": [
       "\u001b[36ml2_evens\u001b[39m: \u001b[32mList\u001b[39m[\u001b[32mInt\u001b[39m] = \u001b[33mList\u001b[39m(\u001b[32m2\u001b[39m, \u001b[32m4\u001b[39m)\n",
       "\u001b[36ml2_evens_\u001b[39m: \u001b[32mList\u001b[39m[\u001b[32mInt\u001b[39m] = \u001b[33mList\u001b[39m(\u001b[32m2\u001b[39m, \u001b[32m4\u001b[39m)"
      ]
     },
     "execution_count": 61,
     "metadata": {},
     "output_type": "execute_result"
    }
   ],
   "source": [
    "val l2_evens : List[Int] = l2 filter {x => x % 2 == 0 }\n",
    "val l2_evens_ : List[Int] = l2.filter((x) => x % 2 == 0 )"
   ]
  },
  {
   "cell_type": "code",
   "execution_count": 62,
   "id": "edd03ab9-c386-433d-b23b-1f528e070394",
   "metadata": {},
   "outputs": [
    {
     "data": {
      "text/plain": [
       "\u001b[36ml1_abs_\u001b[39m: \u001b[32mList\u001b[39m[\u001b[32mDouble\u001b[39m] = \u001b[33mList\u001b[39m(\u001b[32m2.1\u001b[39m, \u001b[32m3.2\u001b[39m, \u001b[32m4.5\u001b[39m, \u001b[32m7.1\u001b[39m)"
      ]
     },
     "execution_count": 62,
     "metadata": {},
     "output_type": "execute_result"
    }
   ],
   "source": [
    "val l1_abs_ = l1.map(double_abs)"
   ]
  },
  {
   "cell_type": "markdown",
   "id": "e7c4698e-7912-4454-8b8d-3fd9609620d2",
   "metadata": {},
   "source": [
    "#### Compute sum and reverse"
   ]
  },
  {
   "cell_type": "code",
   "execution_count": 63,
   "id": "b634737d-b3bc-4654-b340-b2232cd00020",
   "metadata": {},
   "outputs": [
    {
     "data": {
      "text/plain": [
       "defined \u001b[32mfunction\u001b[39m \u001b[36mcomputeSum\u001b[39m"
      ]
     },
     "execution_count": 63,
     "metadata": {},
     "output_type": "execute_result"
    }
   ],
   "source": [
    "def computeSum(l : List[Int]) : Int = {\n",
    "  var acc : Int = 0\n",
    "  for (ele <- l) {\n",
    "    acc = acc + ele\n",
    "  }\n",
    "  acc\n",
    "}\n",
    "\n"
   ]
  },
  {
   "cell_type": "code",
   "execution_count": 64,
   "id": "fc4a200b-7d05-47a5-81a7-3a00e8a3e426",
   "metadata": {},
   "outputs": [
    {
     "data": {
      "text/html": [
       "<div class=\"jp-RenderedText\">\n",
       "<pre><code><span style=\"color: rgb(0, 187, 187)\"><span class=\"ansi-cyan-fg\">res64_0</span></span>: <span style=\"color: rgb(0, 187, 0)\"><span class=\"ansi-green-fg\">List</span></span>[<span style=\"color: rgb(0, 187, 0)\"><span class=\"ansi-green-fg\">Int</span></span>] = <span style=\"color: yellow\"><span class=\"ansi-yellow-fg\">List</span></span>(<span style=\"color: rgb(0, 187, 0)\"><span class=\"ansi-green-fg\">1</span></span>, <span style=\"color: rgb(0, 187, 0)\"><span class=\"ansi-green-fg\">2</span></span>, <span style=\"color: rgb(0, 187, 0)\"><span class=\"ansi-green-fg\">3</span></span>, <span style=\"color: rgb(0, 187, 0)\"><span class=\"ansi-green-fg\">4</span></span>)\n",
       "<span style=\"color: rgb(0, 187, 187)\"><span class=\"ansi-cyan-fg\">l2_sum</span></span>: <span style=\"color: rgb(0, 187, 0)\"><span class=\"ansi-green-fg\">Int</span></span> = <span style=\"color: rgb(0, 187, 0)\"><span class=\"ansi-green-fg\">10</span></span></code></pre>\n",
       "</div>"
      ],
      "text/plain": [
       "\u001b[36mres64_0\u001b[39m: \u001b[32mList\u001b[39m[\u001b[32mInt\u001b[39m] = \u001b[33mList\u001b[39m(\u001b[32m1\u001b[39m, \u001b[32m2\u001b[39m, \u001b[32m3\u001b[39m, \u001b[32m4\u001b[39m)\n",
       "\u001b[36ml2_sum\u001b[39m: \u001b[32mInt\u001b[39m = \u001b[32m10\u001b[39m"
      ]
     },
     "metadata": {},
     "output_type": "display_data"
    }
   ],
   "source": [
    "l2\n",
    "var l2_sum = computeSum(l2)"
   ]
  },
  {
   "cell_type": "code",
   "execution_count": 65,
   "id": "0e8778c8-a257-4d02-bf5f-b880b845d33f",
   "metadata": {},
   "outputs": [
    {
     "data": {
      "text/plain": [
       "defined \u001b[32mfunction\u001b[39m \u001b[36mrev\u001b[39m"
      ]
     },
     "execution_count": 65,
     "metadata": {},
     "output_type": "execute_result"
    }
   ],
   "source": [
    "def rev(l : List[Int]) : List[Int] = { \n",
    "  var acc : List[Int] = Nil\n",
    "  for (ele <- l) {\n",
    "    acc = ele :: acc\n",
    "  }\n",
    "  acc\n",
    "}"
   ]
  },
  {
   "cell_type": "code",
   "execution_count": 66,
   "id": "fa512392-9842-4e69-b416-878ff172d537",
   "metadata": {},
   "outputs": [
    {
     "data": {
      "text/html": [
       "<div class=\"jp-RenderedText\">\n",
       "<pre><code><span style=\"color: rgb(0, 187, 187)\"><span class=\"ansi-cyan-fg\">res66_0</span></span>: <span style=\"color: rgb(0, 187, 0)\"><span class=\"ansi-green-fg\">List</span></span>[<span style=\"color: rgb(0, 187, 0)\"><span class=\"ansi-green-fg\">Int</span></span>] = <span style=\"color: yellow\"><span class=\"ansi-yellow-fg\">List</span></span>(<span style=\"color: rgb(0, 187, 0)\"><span class=\"ansi-green-fg\">1</span></span>, <span style=\"color: rgb(0, 187, 0)\"><span class=\"ansi-green-fg\">2</span></span>, <span style=\"color: rgb(0, 187, 0)\"><span class=\"ansi-green-fg\">3</span></span>, <span style=\"color: rgb(0, 187, 0)\"><span class=\"ansi-green-fg\">4</span></span>)\n",
       "<span style=\"color: rgb(0, 187, 187)\"><span class=\"ansi-cyan-fg\">l2_rev</span></span>: <span style=\"color: rgb(0, 187, 0)\"><span class=\"ansi-green-fg\">List</span></span>[<span style=\"color: rgb(0, 187, 0)\"><span class=\"ansi-green-fg\">Int</span></span>] = <span style=\"color: yellow\"><span class=\"ansi-yellow-fg\">List</span></span>(<span style=\"color: rgb(0, 187, 0)\"><span class=\"ansi-green-fg\">4</span></span>, <span style=\"color: rgb(0, 187, 0)\"><span class=\"ansi-green-fg\">3</span></span>, <span style=\"color: rgb(0, 187, 0)\"><span class=\"ansi-green-fg\">2</span></span>, <span style=\"color: rgb(0, 187, 0)\"><span class=\"ansi-green-fg\">1</span></span>)</code></pre>\n",
       "</div>"
      ],
      "text/plain": [
       "\u001b[36mres66_0\u001b[39m: \u001b[32mList\u001b[39m[\u001b[32mInt\u001b[39m] = \u001b[33mList\u001b[39m(\u001b[32m1\u001b[39m, \u001b[32m2\u001b[39m, \u001b[32m3\u001b[39m, \u001b[32m4\u001b[39m)\n",
       "\u001b[36ml2_rev\u001b[39m: \u001b[32mList\u001b[39m[\u001b[32mInt\u001b[39m] = \u001b[33mList\u001b[39m(\u001b[32m4\u001b[39m, \u001b[32m3\u001b[39m, \u001b[32m2\u001b[39m, \u001b[32m1\u001b[39m)"
      ]
     },
     "metadata": {},
     "output_type": "display_data"
    }
   ],
   "source": [
    "l2 \n",
    "var l2_rev = rev(l2)"
   ]
  },
  {
   "cell_type": "markdown",
   "id": "cdb3e527-3608-45ea-81bf-dbb117fdd823",
   "metadata": {},
   "source": [
    "### Fold Left"
   ]
  },
  {
   "cell_type": "code",
   "execution_count": 67,
   "id": "fed1cca0-a9a5-4323-b28b-1c40cbeb9685",
   "metadata": {},
   "outputs": [
    {
     "data": {
      "text/plain": [
       "defined \u001b[32mfunction\u001b[39m \u001b[36mmyFoldLeft\u001b[39m"
      ]
     },
     "execution_count": 67,
     "metadata": {},
     "output_type": "execute_result"
    }
   ],
   "source": [
    "def myFoldLeft[A, B](l : List[A], acc : B, f : (B, A) => B) : B = {\n",
    "  l match {\n",
    "    case Nil => acc\n",
    "    case hd::tl => myFoldLeft(tl,f(acc, hd),f)\n",
    "  }\n",
    "}"
   ]
  },
  {
   "cell_type": "code",
   "execution_count": 68,
   "id": "7170728c-edb0-41d0-907b-97d3ad39f464",
   "metadata": {},
   "outputs": [
    {
     "data": {
      "text/plain": [
       "\u001b[36mres68_0\u001b[39m: \u001b[32mList\u001b[39m[\u001b[32mInt\u001b[39m] = \u001b[33mList\u001b[39m(\u001b[32m1\u001b[39m, \u001b[32m2\u001b[39m, \u001b[32m3\u001b[39m, \u001b[32m4\u001b[39m)\n",
       "\u001b[36ml2_sum_\u001b[39m: \u001b[32mInt\u001b[39m = \u001b[32m10\u001b[39m\n",
       "\u001b[36ml2_rev_\u001b[39m: \u001b[32mList\u001b[39m[\u001b[32mInt\u001b[39m] = \u001b[33mList\u001b[39m(\u001b[32m4\u001b[39m, \u001b[32m3\u001b[39m, \u001b[32m2\u001b[39m, \u001b[32m1\u001b[39m)"
      ]
     },
     "execution_count": 68,
     "metadata": {},
     "output_type": "execute_result"
    }
   ],
   "source": [
    "l2\n",
    "val l2_sum_ = myFoldLeft(l2, 0, (x: Int, y:Int) => x + y)\n",
    "val l2_rev_ = myFoldLeft(l2, Nil, (acc : List[Int], curr: Int) => curr :: acc)"
   ]
  },
  {
   "cell_type": "code",
   "execution_count": 69,
   "id": "8fec6ee3-2591-43c8-89d1-61c590cf4d69",
   "metadata": {},
   "outputs": [
    {
     "data": {
      "text/plain": [
       "\u001b[36ml2_rev__\u001b[39m: \u001b[32mList\u001b[39m[\u001b[32mInt\u001b[39m] = \u001b[33mList\u001b[39m(\u001b[32m4\u001b[39m, \u001b[32m3\u001b[39m, \u001b[32m2\u001b[39m, \u001b[32m1\u001b[39m)"
      ]
     },
     "execution_count": 69,
     "metadata": {},
     "output_type": "execute_result"
    }
   ],
   "source": [
    "val l2_rev__ = l2.foldLeft (List.empty[Int]) ((acc : List[Int], curr: Int) => curr :: acc)"
   ]
  },
  {
   "cell_type": "markdown",
   "id": "74452477-095d-4216-873d-a518498a619e",
   "metadata": {},
   "source": [
    "### Fold Right"
   ]
  },
  {
   "cell_type": "code",
   "execution_count": null,
   "id": "03a5c30d-f6d7-44b8-abc6-84b53e5b23de",
   "metadata": {},
   "outputs": [],
   "source": []
  }
 ],
 "metadata": {
  "kernelspec": {
   "display_name": "Scala",
   "language": "scala",
   "name": "scala"
  },
  "language_info": {
   "codemirror_mode": "text/x-scala",
   "file_extension": ".sc",
   "mimetype": "text/x-scala",
   "name": "scala",
   "nbconvert_exporter": "script",
   "version": "2.13.14"
  }
 },
 "nbformat": 4,
 "nbformat_minor": 5
}
