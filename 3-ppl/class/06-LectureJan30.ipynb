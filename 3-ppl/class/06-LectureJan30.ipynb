{
 "cells": [
  {
   "cell_type": "markdown",
   "id": "ff584910-9d11-40c2-900e-1cde5c6fc0e5",
   "metadata": {},
   "source": [
    "<div style=\"text-align:center\">\n",
    "<h1> CSCI 3155 Principles of Programming Languages </h1>\n",
    "<h2> Spring 2025</h2>\n",
    "</div>"
   ]
  },
  {
   "cell_type": "markdown",
   "id": "e350623f-e62f-4e75-8e49-cde12eb86d72",
   "metadata": {},
   "source": [
    "### Today's Lecture\n",
    "+ Inductive Definitions\n",
    "  * A grammar for arithmetic expressions\n",
    "  * Abstract Syntax Trees (ASTs)\n",
    "+ Operations on Inductive Definitions\n",
    "  * `minusOne` function on natural numbers using visitor pattern\n",
    "  * `minusOne` using pattern matching\n",
    "  * `plusNum`\n",
    "  * Operations on lists: `listLen`, `isAscending`, `concat`, `reverse`.\n",
    "  * Operations on Arithematic ASTs\n",
    "  "
   ]
  },
  {
   "cell_type": "markdown",
   "id": "09b9a649-8a06-4ce4-b4b7-1177fcf2f90a",
   "metadata": {},
   "source": [
    "### Arithmetic Expression Grammar\n",
    "\n",
    "Let us now examine a grammar for arithmetic expressions involving operators like `+`, `*`, `/` and even functions like log, exp, sine and cosine.\n",
    "\n",
    "$$\\begin{array}{rcc}\n",
    "\\textbf{Expr} & \\rightarrow & Const(\\textbf{Double}) \\\\\n",
    "& |  & Ident(\\textbf{Identifier}) \\\\\n",
    "& | & Plus( \\textbf{Expr}, \\textbf{Expr}) \\\\\n",
    "& | & Minus( \\textbf{Expr}, \\textbf{Expr}) \\\\\n",
    "& | & Mult(\\textbf{Expr}, \\textbf{Expr}) \\\\\n",
    "& | & Div(\\textbf{Expr}, \\textbf{Expr}) \\\\\n",
    "& | & Log(\\textbf{Expr}) \\\\\n",
    "& | & Exp(\\textbf{Expr}) \\\\\n",
    "& | & Sine(\\textbf{Expr}) \\\\\n",
    "& | & Cosine(\\textbf{Expr}) \\\\\\\\\n",
    "\\textbf{Double} & \\rightarrow & \\cdots\\ |\\  -2\\ |\\ -1\\ |\\ 0\\ |\\ 1\\ |\\ 2\\ |\\ \\cdots \\\\\n",
    "\\textbf{Identifier} & \\rightarrow & [a-z\\ A-Z][a-z\\ A-Z\\ 0-9\\ \\_]*\n",
    "\\end{array}$$"
   ]
  },
  {
   "cell_type": "markdown",
   "id": "d2693d59-b992-4814-86c7-f95ba1ccdff3",
   "metadata": {
    "jupyter": {
     "source_hidden": true
    },
    "tags": []
   },
   "source": [
    "We will clarify a few things first. The non terminal **Identifier** stands for a string that\n",
    "represents a variable name like `x`, `y`, `velocity`, `s_29109_12xyZ` and so on. We wrote a regular expression as a stand in for all possible legal variable names that can appear.\n",
    "\n",
    "The start symbol is **Expr**. \n",
    "\n",
    "Let us look at some examples of expressions that can be created this way.\n",
    "\n",
    "1.  $ x^2 + 5$ is expressed as  Plus(Mult( Ident(\"x\"),  Ident(\"x\")), Const(5))\n",
    "2.  $ \\sin(x) + \\cos(x)$ is expressed as Plus(Sine(Ident(\"x\")), Cosine(Ident(\"x\")))\n",
    "3.  $e^{e^{xy}}$ is expressed as Exp(Exp(Mult( Ident(\"x\"),  Ident(\"y\") ) ))\n",
    "\n",
    "You can guess from the context what the  symbols *Plus, Minus, Mult, Div, Log,\n",
    "Exp, Sine* and *Cosine* should mean. The symbols *Const* and *Ident* seem superfluous here. After all, \n",
    "if there is a string \"x\" it can only refer to an identifier and if there is a constant 10, it can only\n",
    "be an integer. However, for scala (or any other programming language) \"x\" is a string and 10 is an integer.\n",
    "We need a means to tell the scala interpreter to *promote* a number 10 to an expression 10 or a string \"x_25\" to \n",
    "the expression \"x_25\". The easiest way to achieve this is to wrap these inside a symbol such as *Const* or\n",
    "*Ident* that makes it easy for\n",
    "the scala interpreter to undertand what is going on.\n",
    "\n",
    "* Arithmetic  expression: `x^2 + 2.0`\n",
    "* In my language: `Plus(Mult(Ident(\"x\"), Ident(\"x\")), Const(2.0))`"
   ]
  },
  {
   "cell_type": "code",
   "execution_count": 2,
   "id": "65888dc3-ace8-4c20-91df-ed24f1dfe577",
   "metadata": {},
   "outputs": [
    {
     "data": {
      "text/plain": [
       "defined \u001b[32mtrait\u001b[39m \u001b[36mExpr\u001b[39m\n",
       "defined \u001b[32mclass\u001b[39m \u001b[36mConst\u001b[39m\n",
       "defined \u001b[32mclass\u001b[39m \u001b[36mIdent\u001b[39m\n",
       "defined \u001b[32mclass\u001b[39m \u001b[36mPlus\u001b[39m\n",
       "defined \u001b[32mclass\u001b[39m \u001b[36mMult\u001b[39m\n",
       "defined \u001b[32mclass\u001b[39m \u001b[36mMinus\u001b[39m\n",
       "defined \u001b[32mclass\u001b[39m \u001b[36mSine\u001b[39m"
      ]
     },
     "execution_count": 2,
     "metadata": {},
     "output_type": "execute_result"
    }
   ],
   "source": [
    "sealed trait Expr\n",
    "\n",
    "case class Const(x:Double) extends Expr\n",
    "case class Ident(v:String) extends Expr\n",
    "case class Plus(e1:Expr,e2:Expr) extends Expr\n",
    "case class Mult(e1:Expr,e2:Expr) extends Expr\n",
    "case class Minus(e1:Expr,e2:Expr) extends Expr\n",
    "case class Sine(e:Expr) extends Expr"
   ]
  },
  {
   "cell_type": "code",
   "execution_count": 5,
   "id": "4c05511a-5fa1-4777-b6f7-38e90e0278b3",
   "metadata": {},
   "outputs": [
    {
     "data": {
      "text/plain": [
       "\u001b[36me\u001b[39m: \u001b[32mExpr\u001b[39m = \u001b[33mPlus\u001b[39m(\n",
       "  e1 = \u001b[33mMult\u001b[39m(e1 = \u001b[33mIdent\u001b[39m(v = \u001b[32m\"x\"\u001b[39m), e2 = \u001b[33mIdent\u001b[39m(v = \u001b[32m\"x\"\u001b[39m)),\n",
       "  e2 = \u001b[33mConst\u001b[39m(x = \u001b[32m2.0\u001b[39m)\n",
       ")"
      ]
     },
     "execution_count": 5,
     "metadata": {},
     "output_type": "execute_result"
    }
   ],
   "source": [
    "val e:Expr = Plus(Mult(Ident(\"x\"),Ident(\"x\")), Const(2))//x^2 + 2"
   ]
  },
  {
   "cell_type": "code",
   "execution_count": 8,
   "id": "3d81ec64-72f6-4de9-9a55-befd33e7601d",
   "metadata": {},
   "outputs": [
    {
     "data": {
      "text/plain": [
       "defined \u001b[32mtrait\u001b[39m \u001b[36mNum\u001b[39m\n",
       "defined \u001b[32mobject\u001b[39m \u001b[36mZ\u001b[39m\n",
       "defined \u001b[32mclass\u001b[39m \u001b[36mSucc\u001b[39m"
      ]
     },
     "execution_count": 8,
     "metadata": {},
     "output_type": "execute_result"
    }
   ],
   "source": [
    "//\"Visitor pattern\"\n",
    "sealed trait Num {\n",
    "    def minusOne():Num\n",
    "}\n",
    "\n",
    "case object Z extends Num {\n",
    "    def minusOne():Num = {\n",
    "        throw (new IllegalArgumentException(\"You can't subtract from zero!\"))\n",
    "    }\n",
    "}\n",
    "case class Succ(n:Num) extends Num {\n",
    "    def minusOne():Num = {\n",
    "        n\n",
    "    }\n",
    "}"
   ]
  },
  {
   "cell_type": "code",
   "execution_count": 9,
   "id": "49f3fa43-27f4-4c23-bb06-4b7156d2b20f",
   "metadata": {},
   "outputs": [
    {
     "data": {
      "text/plain": [
       "\u001b[36mn1\u001b[39m: \u001b[32mNum\u001b[39m = \u001b[33mSucc\u001b[39m(n = \u001b[33mSucc\u001b[39m(n = Z))\n",
       "\u001b[36mn2\u001b[39m: \u001b[32mNum\u001b[39m = \u001b[33mSucc\u001b[39m(n = Z)"
      ]
     },
     "execution_count": 9,
     "metadata": {},
     "output_type": "execute_result"
    }
   ],
   "source": [
    "val n1:Num = Succ(Succ(Z)) //two\n",
    "val n2:Num = n1.minusOne // Succ(Z)"
   ]
  },
  {
   "cell_type": "code",
   "execution_count": 17,
   "id": "4159c08d-b0ee-4321-97ff-0cbf96f105c6",
   "metadata": {},
   "outputs": [
    {
     "data": {
      "text/plain": [
       "defined \u001b[32mfunction\u001b[39m \u001b[36maltMinusOne\u001b[39m"
      ]
     },
     "execution_count": 17,
     "metadata": {},
     "output_type": "execute_result"
    }
   ],
   "source": [
    "//\"pattern matching\"\n",
    "def altMinusOne(n:Num) : Num = {\n",
    "    n match {\n",
    "        case Succ(n1) => n1\n",
    "        case _ => throw (new IllegalArgumentException(\"You can't subtract from zero!\"))\n",
    "    }\n",
    "}"
   ]
  },
  {
   "cell_type": "code",
   "execution_count": 19,
   "id": "26ee075c-2df8-4813-8cb4-d331b57fd65b",
   "metadata": {},
   "outputs": [
    {
     "data": {
      "text/plain": [
       "\u001b[36mres18\u001b[39m: \u001b[32mNum\u001b[39m = \u001b[33mSucc\u001b[39m(n = Z)"
      ]
     },
     "execution_count": 19,
     "metadata": {},
     "output_type": "execute_result"
    }
   ],
   "source": [
    "altMinusOne(n1)"
   ]
  },
  {
   "cell_type": "code",
   "execution_count": 20,
   "id": "419f5470-ce5e-48e9-b6eb-2a056ef40184",
   "metadata": {},
   "outputs": [
    {
     "data": {
      "text/plain": [
       "defined \u001b[32mtrait\u001b[39m \u001b[36mNumList\u001b[39m\n",
       "defined \u001b[32mobject\u001b[39m \u001b[36mNil\u001b[39m\n",
       "defined \u001b[32mclass\u001b[39m \u001b[36mCons\u001b[39m"
      ]
     },
     "execution_count": 20,
     "metadata": {},
     "output_type": "execute_result"
    }
   ],
   "source": [
    "sealed trait NumList\n",
    "case object Nil extends NumList\n",
    "case class Cons(hd:Num, tl:NumList) extends NumList"
   ]
  },
  {
   "cell_type": "code",
   "execution_count": 21,
   "id": "47dfd349-2acb-4501-8e60-ec832159317c",
   "metadata": {},
   "outputs": [
    {
     "data": {
      "text/plain": [
       "\u001b[36ml1\u001b[39m: \u001b[32mNumList\u001b[39m = \u001b[33mCons\u001b[39m(\n",
       "  hd = \u001b[33mSucc\u001b[39m(n = \u001b[33mSucc\u001b[39m(n = Z)),\n",
       "  tl = \u001b[33mCons\u001b[39m(hd = \u001b[33mSucc\u001b[39m(n = Z), tl = Nil)\n",
       ")"
      ]
     },
     "execution_count": 21,
     "metadata": {},
     "output_type": "execute_result"
    }
   ],
   "source": [
    "val l1: NumList = Cons(n1, Cons(n2, Nil)) //equivalent to scala list `List(2,1)`"
   ]
  },
  {
   "cell_type": "code",
   "execution_count": 26,
   "id": "6ba55bb5-592b-48c4-9672-8ac828d4dfd0",
   "metadata": {},
   "outputs": [
    {
     "data": {
      "text/plain": [
       "defined \u001b[32mfunction\u001b[39m \u001b[36mnumListLen\u001b[39m"
      ]
     },
     "execution_count": 26,
     "metadata": {},
     "output_type": "execute_result"
    }
   ],
   "source": [
    "def numListLen(l:NumList, acc:Int = 0) : Int = {\n",
    "    l match {\n",
    "        case Nil => acc\n",
    "        case Cons(hd,tl) => numListLen(tl, acc+1)\n",
    "    }\n",
    "}"
   ]
  },
  {
   "cell_type": "code",
   "execution_count": 25,
   "id": "43435745-d676-4b0e-8f5b-be159e33d136",
   "metadata": {},
   "outputs": [
    {
     "data": {
      "text/plain": [
       "\u001b[36mres24\u001b[39m: \u001b[32mInt\u001b[39m = \u001b[32m2\u001b[39m"
      ]
     },
     "execution_count": 25,
     "metadata": {},
     "output_type": "execute_result"
    }
   ],
   "source": [
    "numListLen(l1)"
   ]
  },
  {
   "cell_type": "code",
   "execution_count": 28,
   "id": "8e70f661-8926-4b45-83a2-0b1522b869a0",
   "metadata": {},
   "outputs": [
    {
     "data": {
      "text/plain": [
       "defined \u001b[32mfunction\u001b[39m \u001b[36mconcat\u001b[39m"
      ]
     },
     "execution_count": 28,
     "metadata": {},
     "output_type": "execute_result"
    }
   ],
   "source": [
    "def concat(l1:NumList, l2:NumList) : NumList = {\n",
    "    l1 match {\n",
    "        case Nil => l2\n",
    "        case Cons(hd,tl) =>  Cons(hd,concat(tl,l2))\n",
    "    }\n",
    "}"
   ]
  },
  {
   "cell_type": "code",
   "execution_count": 29,
   "id": "6716a3fd-6611-4fbf-88ad-d6075e1f5ab8",
   "metadata": {},
   "outputs": [
    {
     "data": {
      "text/plain": [
       "\u001b[36mres28\u001b[39m: \u001b[32mNumList\u001b[39m = \u001b[33mCons\u001b[39m(\n",
       "  hd = \u001b[33mSucc\u001b[39m(n = \u001b[33mSucc\u001b[39m(n = Z)),\n",
       "  tl = \u001b[33mCons\u001b[39m(\n",
       "    hd = \u001b[33mSucc\u001b[39m(n = Z),\n",
       "    tl = \u001b[33mCons\u001b[39m(hd = \u001b[33mSucc\u001b[39m(n = \u001b[33mSucc\u001b[39m(n = Z)), tl = \u001b[33mCons\u001b[39m(hd = \u001b[33mSucc\u001b[39m(n = Z), tl = Nil))\n",
       "  )\n",
       ")"
      ]
     },
     "execution_count": 29,
     "metadata": {},
     "output_type": "execute_result"
    }
   ],
   "source": [
    "concat(l1,l1)"
   ]
  },
  {
   "cell_type": "code",
   "execution_count": 30,
   "id": "6a07095e-76d3-41ce-a55d-beed6620b510",
   "metadata": {},
   "outputs": [
    {
     "data": {
      "text/plain": [
       "defined \u001b[32mfunction\u001b[39m \u001b[36mrealConcat\u001b[39m"
      ]
     },
     "execution_count": 30,
     "metadata": {},
     "output_type": "execute_result"
    }
   ],
   "source": [
    "def realConcat(l1:List[Int], l2:List[Int]) : List[Int] = {\n",
    "    l1 match {\n",
    "        case List() => l2\n",
    "        case hd::tl =>  hd::(realConcat(tl,l2))\n",
    "    }\n",
    "}"
   ]
  }
 ],
 "metadata": {
  "kernelspec": {
   "display_name": "Scala",
   "language": "scala",
   "name": "scala"
  },
  "language_info": {
   "codemirror_mode": "text/x-scala",
   "file_extension": ".sc",
   "mimetype": "text/x-scala",
   "name": "scala",
   "nbconvert_exporter": "script",
   "version": "2.13.4"
  }
 },
 "nbformat": 4,
 "nbformat_minor": 5
}
