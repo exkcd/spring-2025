{
 "cells": [
  {
   "cell_type": "markdown",
   "id": "a86c2eae-d059-4ec6-8c65-09441f4b1a22",
   "metadata": {},
   "source": [
    "<div style=\"text-align:center\">\n",
    "<h1> CSCI 3155 Principles of Programming Languages </h1>\n",
    "<h2> Spring 2025</h2>\n",
    "</div>"
   ]
  },
  {
   "cell_type": "markdown",
   "id": "9c1159a0-4366-45ca-b1cb-8a1bfcbba341",
   "metadata": {},
   "source": [
    "### Today's Lecture\n",
    "+ Operations on Inductive Definitions\n",
    "  * Operations on lists: `listLen`, `isAscending`, `concat`, `reverse`.\n",
    "  * Operations on Arithematic ASTs\n",
    "+ Big-step Operational Semantics\n",
    "  "
   ]
  },
  {
   "cell_type": "code",
   "execution_count": 4,
   "id": "254f01af-4e77-4da0-b3bf-a903d8cfaaab",
   "metadata": {},
   "outputs": [
    {
     "data": {
      "text/plain": [
       "defined \u001b[32mfunction\u001b[39m \u001b[36mconcat\u001b[39m"
      ]
     },
     "execution_count": 4,
     "metadata": {},
     "output_type": "execute_result"
    }
   ],
   "source": [
    "// concat(l1,l2) should concatenate l1 and l2. \n",
    "//    () -> l2\n",
    "// l1\n",
    "//    hd::concat(tl,l2)\n",
    "def concat(l1: List[Int], l2: List[Int]) : List[Int] = {\n",
    "    l1 match {\n",
    "        case Nil => l2\n",
    "        case hd::tl => hd::(concat(tl,l2))\n",
    "    }\n",
    "}"
   ]
  },
  {
   "cell_type": "code",
   "execution_count": 2,
   "id": "df48dc60-19d2-4471-9023-180f65eebb40",
   "metadata": {},
   "outputs": [
    {
     "data": {
      "text/plain": [
       "\u001b[36ml1\u001b[39m: \u001b[32mList\u001b[39m[\u001b[32mInt\u001b[39m] = \u001b[33mList\u001b[39m(\u001b[32m2\u001b[39m, \u001b[32m3\u001b[39m, \u001b[32m5\u001b[39m)\n",
       "\u001b[36ml2\u001b[39m: \u001b[32mList\u001b[39m[\u001b[32mInt\u001b[39m] = \u001b[33mList\u001b[39m(\u001b[32m7\u001b[39m, \u001b[32m11\u001b[39m, \u001b[32m13\u001b[39m)"
      ]
     },
     "execution_count": 2,
     "metadata": {},
     "output_type": "execute_result"
    }
   ],
   "source": [
    "val l1 = List(2,3,5)\n",
    "val l2 = List(7,11,13)"
   ]
  },
  {
   "cell_type": "code",
   "execution_count": 3,
   "id": "859288e7-0ba9-4a61-b51b-c5df6c6ff23e",
   "metadata": {},
   "outputs": [
    {
     "data": {
      "text/plain": [
       "\u001b[36mres2\u001b[39m: \u001b[32mList\u001b[39m[\u001b[32mInt\u001b[39m] = \u001b[33mList\u001b[39m(\u001b[32m2\u001b[39m, \u001b[32m3\u001b[39m, \u001b[32m5\u001b[39m, \u001b[32m7\u001b[39m, \u001b[32m11\u001b[39m, \u001b[32m13\u001b[39m)"
      ]
     },
     "execution_count": 3,
     "metadata": {},
     "output_type": "execute_result"
    }
   ],
   "source": [
    "concat(l1,l2)\n",
    "// l1 = 2::3::5::[]\n",
    "// return list = concat(2::3::5::[], l2) = 2::concat(3::5::[], l2)) = 2::3::concat(5::[], l2)\n",
    "// = 2::3::5::concat([], l2) = 2::3::5::l2  "
   ]
  },
  {
   "cell_type": "code",
   "execution_count": 9,
   "id": "a73cd362-6d5b-475b-8c0d-286921aeecd5",
   "metadata": {},
   "outputs": [
    {
     "data": {
      "text/plain": [
       "defined \u001b[32mfunction\u001b[39m \u001b[36mlistRev\u001b[39m"
      ]
     },
     "execution_count": 9,
     "metadata": {},
     "output_type": "execute_result"
    }
   ],
   "source": [
    "def listRev(l: List[Int]) : List[Int] = {\n",
    "    //what goes here?\n",
    "    l match {\n",
    "        case List() => l\n",
    "        case hd :: tl => concat(listRev(tl), List(hd))\n",
    "    }\n",
    "}"
   ]
  },
  {
   "cell_type": "code",
   "execution_count": 8,
   "id": "7ad222a0-f7f1-4d2a-ab7a-ff0780c9103a",
   "metadata": {},
   "outputs": [
    {
     "data": {
      "text/plain": [
       "\u001b[36mres7\u001b[39m: \u001b[32mList\u001b[39m[\u001b[32mInt\u001b[39m] = \u001b[33mList\u001b[39m(\u001b[32m3\u001b[39m, \u001b[32m2\u001b[39m, \u001b[32m1\u001b[39m)"
      ]
     },
     "execution_count": 8,
     "metadata": {},
     "output_type": "execute_result"
    }
   ],
   "source": [
    "listRev(List(1,2,3))"
   ]
  },
  {
   "cell_type": "code",
   "execution_count": 10,
   "id": "c2cc798f-5e9a-45ea-8e96-d2c197af7350",
   "metadata": {},
   "outputs": [
    {
     "data": {
      "text/plain": [
       "\u001b[36mb\u001b[39m: \u001b[32mBoolean\u001b[39m = true"
      ]
     },
     "execution_count": 10,
     "metadata": {},
     "output_type": "execute_result"
    }
   ],
   "source": [
    "val b: Boolean = true"
   ]
  },
  {
   "cell_type": "code",
   "execution_count": 13,
   "id": "8035e1cb-dd92-4e07-ab91-037aebcdf66a",
   "metadata": {},
   "outputs": [
    {
     "data": {
      "text/plain": [
       "defined \u001b[32mfunction\u001b[39m \u001b[36misAscending\u001b[39m"
      ]
     },
     "execution_count": 13,
     "metadata": {},
     "output_type": "execute_result"
    }
   ],
   "source": [
    "//isAscending(List(1,4,8)) = true\n",
    "//isAscending(List(4,1,8)) = false\n",
    "def isAscending(l: List[Int]) : Boolean = {\n",
    "    l match {\n",
    "        case List() => true\n",
    "        case List(_) => true\n",
    "        case hd::tl => {\n",
    "            val b = isAscending(tl)\n",
    "            val hd1 = tl.head\n",
    "            if (hd <= hd1) {\n",
    "                b && true\n",
    "            } else {\n",
    "                false\n",
    "            }\n",
    "        }\n",
    "    }\n",
    "}"
   ]
  },
  {
   "cell_type": "code",
   "execution_count": 14,
   "id": "12b465b3-f304-4ed1-bc73-104b887923ef",
   "metadata": {},
   "outputs": [
    {
     "data": {
      "text/plain": [
       "\u001b[36mres13\u001b[39m: \u001b[32mBoolean\u001b[39m = true"
      ]
     },
     "execution_count": 14,
     "metadata": {},
     "output_type": "execute_result"
    }
   ],
   "source": [
    "isAscending(List(1,4,8))"
   ]
  },
  {
   "cell_type": "markdown",
   "id": "e60e334b-921e-4fbc-b536-12b1e5d6639d",
   "metadata": {},
   "source": [
    "```\n",
    "\n",
    "\n",
    "\n",
    "\n",
    "\n",
    "\n",
    "\n",
    "\n",
    "\n",
    "\n",
    "\n",
    "\n",
    "\n",
    "\n",
    "\n",
    "\n",
    "\n",
    "\n",
    "```"
   ]
  },
  {
   "cell_type": "markdown",
   "id": "4eb022ad-9540-4277-a63e-1fc8a3d19655",
   "metadata": {},
   "source": [
    "## Arithmetic Expressions\n",
    "\n",
    "Arithmetic expressions are generated by the grammar we saw before.\n",
    "\n",
    "$$\\begin{array}{rcll}\n",
    "\\textbf{Expr} & \\rightarrow & Const(\\textbf{Double}) \\\\\n",
    "& |  & Ident(\\textbf{Identifier}) \\\\\n",
    "& | & Plus( \\textbf{Expr}^+) & \\text{Note:}\\ A^+ \\ \\text{is one or more reps of}\\ A \\\\\n",
    "& | & Minus( \\textbf{Expr}, \\textbf{Expr}^+) \\\\\n",
    "& | & Mult(\\textbf{Expr}^+) \\\\\n",
    "& | & Div(\\textbf{Expr}, \\textbf{Expr}) \\\\\n",
    "& | & Log(\\textbf{Expr}) \\\\\n",
    "& | & Exp(\\textbf{Expr}) \\\\\n",
    "& | & Sine(\\textbf{Expr}) \\\\\n",
    "& | & Cosine(\\textbf{Expr}) \\\\\\\\\n",
    "\\textbf{Double} & \\rightarrow & \\text{all double precision numbers in Scala}\\\\\n",
    "\\textbf{Identifier} & \\rightarrow & [a-zA-Z][a-z\\ A-Z\\ 0-9\\ \\_]* & \\text{Note: All strings that begin with letters}\\\\\n",
    "&&& \\text{a-z or A-Z and subsequently can contain a-z, A-Z, 0-9 or \\_ chars}\n",
    "\\end{array}$$"
   ]
  },
  {
   "cell_type": "code",
   "execution_count": 16,
   "id": "7571f22d-e440-4808-91bb-c1ed92a9199b",
   "metadata": {},
   "outputs": [
    {
     "data": {
      "text/plain": [
       "defined \u001b[32mtrait\u001b[39m \u001b[36mExpr\u001b[39m\n",
       "defined \u001b[32mclass\u001b[39m \u001b[36mConst\u001b[39m\n",
       "defined \u001b[32mclass\u001b[39m \u001b[36mIdent\u001b[39m\n",
       "defined \u001b[32mclass\u001b[39m \u001b[36mPlus\u001b[39m\n",
       "defined \u001b[32mclass\u001b[39m \u001b[36mMinus\u001b[39m\n",
       "defined \u001b[32mclass\u001b[39m \u001b[36mMult\u001b[39m\n",
       "defined \u001b[32mclass\u001b[39m \u001b[36mDiv\u001b[39m\n",
       "defined \u001b[32mclass\u001b[39m \u001b[36mSine\u001b[39m"
      ]
     },
     "execution_count": 16,
     "metadata": {},
     "output_type": "execute_result"
    }
   ],
   "source": [
    "sealed trait Expr\n",
    "case class Const(c:Double) extends Expr\n",
    "case class Ident(v:String) extends Expr\n",
    "case class Plus(e1:Expr, e2: Expr) extends Expr\n",
    "case class Minus(e1:Expr, e2: Expr) extends Expr\n",
    "case class Mult(e1:Expr, e2: Expr) extends Expr\n",
    "case class Div(e1:Expr, e2: Expr) extends Expr\n",
    "case class Sine(e:Expr) extends Expr"
   ]
  },
  {
   "cell_type": "code",
   "execution_count": 17,
   "id": "defdcd09-57c2-4cd0-92fc-3424fbefc9c3",
   "metadata": {},
   "outputs": [
    {
     "data": {
      "text/plain": [
       "\u001b[36me1\u001b[39m: \u001b[32mExpr\u001b[39m = \u001b[33mPlus\u001b[39m(\n",
       "  e1 = \u001b[33mMult\u001b[39m(\n",
       "    e1 = \u001b[33mConst\u001b[39m(c = \u001b[32m2.0\u001b[39m),\n",
       "    e2 = \u001b[33mMult\u001b[39m(e1 = \u001b[33mIdent\u001b[39m(v = \u001b[32m\"x\"\u001b[39m), e2 = \u001b[33mIdent\u001b[39m(v = \u001b[32m\"x\"\u001b[39m))\n",
       "  ),\n",
       "  e2 = \u001b[33mPlus\u001b[39m(\n",
       "    e1 = \u001b[33mMult\u001b[39m(e1 = \u001b[33mConst\u001b[39m(c = \u001b[32m3.0\u001b[39m), e2 = \u001b[33mSine\u001b[39m(e = \u001b[33mIdent\u001b[39m(v = \u001b[32m\"x\"\u001b[39m))),\n",
       "    e2 = \u001b[33mConst\u001b[39m(c = \u001b[32m4.0\u001b[39m)\n",
       "  )\n",
       ")"
      ]
     },
     "execution_count": 17,
     "metadata": {},
     "output_type": "execute_result"
    }
   ],
   "source": [
    "// 2*x^2 + 3*sin(x) + 4\n",
    "val e1: Expr = Plus(Mult(Const(2), Mult(Ident(\"x\"),Ident(\"x\"))) , \n",
    "                    Plus(Mult(Const(3),Sine(Ident(\"x\"))),Const(4)))"
   ]
  },
  {
   "cell_type": "code",
   "execution_count": 20,
   "id": "6b73352e-21cd-4ddb-8415-3359ad6ad3e9",
   "metadata": {},
   "outputs": [
    {
     "data": {
      "text/plain": [
       "\u001b[36mword_length\u001b[39m: \u001b[32mMap\u001b[39m[\u001b[32mString\u001b[39m, \u001b[32mInt\u001b[39m] = \u001b[33mMap\u001b[39m(\u001b[32m\"skibidi\"\u001b[39m -> \u001b[32m7\u001b[39m, \u001b[32m\"cheugy\"\u001b[39m -> \u001b[32m6\u001b[39m, \u001b[32m\"cap\"\u001b[39m -> \u001b[32m3\u001b[39m)\n",
       "\u001b[36mres19_1\u001b[39m: \u001b[32mInt\u001b[39m = \u001b[32m6\u001b[39m"
      ]
     },
     "execution_count": 20,
     "metadata": {},
     "output_type": "execute_result"
    }
   ],
   "source": [
    "val word_length : Map[String, Int] = Map(\"skibidi\" -> 7, \"cheugy\" -> 6, \"cap\" -> 3)\n",
    "word_length(\"cheugy\")"
   ]
  },
  {
   "cell_type": "code",
   "execution_count": 19,
   "id": "512d03b1-22c6-4570-95a7-08e5c0e3e0e6",
   "metadata": {},
   "outputs": [
    {
     "data": {
      "text/plain": [
       "\u001b[36mmyenv\u001b[39m: \u001b[32mMap\u001b[39m[\u001b[32mString\u001b[39m, \u001b[32mDouble\u001b[39m] = \u001b[33mMap\u001b[39m(\u001b[32m\"x\"\u001b[39m -> \u001b[32m0.7\u001b[39m, \u001b[32m\"y\"\u001b[39m -> \u001b[32m1.8\u001b[39m)"
      ]
     },
     "execution_count": 19,
     "metadata": {},
     "output_type": "execute_result"
    }
   ],
   "source": [
    "val myenv: Map[String,Double] = Map(\"x\" -> 0.7, \"y\" -> 1.8)\n",
    "// x -> 0.7\n",
    "// y -> 1.8\n"
   ]
  },
  {
   "cell_type": "code",
   "execution_count": 33,
   "id": "1679212a-ace1-4c09-a83c-4f89ed3fa63a",
   "metadata": {},
   "outputs": [
    {
     "data": {
      "text/plain": [
       "defined \u001b[32mfunction\u001b[39m \u001b[36mevalExpr\u001b[39m"
      ]
     },
     "execution_count": 33,
     "metadata": {},
     "output_type": "execute_result"
    }
   ],
   "source": [
    "def evalExpr(env: Map[String,Double], e:Expr) : Double = {\n",
    "    e match {\n",
    "        case Const(c) => c\n",
    "        case Ident(v) => env(v)\n",
    "        case Plus(e1,e2) => {\n",
    "            val v1 = evalExpr(env, e1)\n",
    "            val v2 = evalExpr(env, e2)\n",
    "            v1+v2\n",
    "        }\n",
    "        case Mult(e1,e2) => {\n",
    "            val v1 = evalExpr(env, e1)\n",
    "            val v2 = evalExpr(env, e2)\n",
    "            v1*v2\n",
    "        }\n",
    "        case Sine(e1) => {\n",
    "            val v1 = evalExpr(env, e1)\n",
    "            math.sin(v1)\n",
    "        }\n",
    "        case Div(e1,e2) => {\n",
    "            val v1 = evalExpr(env, e1)\n",
    "            val v2 = evalExpr(env, e2)\n",
    "            require(v2 != 0)\n",
    "            v1/v2\n",
    "        }\n",
    "        case _ => throw (new IllegalArgumentException(\"Haven't Implemented!\"))\n",
    "    }\n",
    "}"
   ]
  },
  {
   "cell_type": "code",
   "execution_count": 29,
   "id": "92c08874-bf7d-4505-8b3c-fec253260ee6",
   "metadata": {},
   "outputs": [
    {
     "data": {
      "text/plain": [
       "\u001b[36me2\u001b[39m: \u001b[32mExpr\u001b[39m = \u001b[33mPlus\u001b[39m(\n",
       "  e1 = \u001b[33mMult\u001b[39m(\n",
       "    e1 = \u001b[33mConst\u001b[39m(c = \u001b[32m2.0\u001b[39m),\n",
       "    e2 = \u001b[33mMult\u001b[39m(e1 = \u001b[33mIdent\u001b[39m(v = \u001b[32m\"x\"\u001b[39m), e2 = \u001b[33mIdent\u001b[39m(v = \u001b[32m\"x\"\u001b[39m))\n",
       "  ),\n",
       "  e2 = \u001b[33mPlus\u001b[39m(\n",
       "    e1 = \u001b[33mMult\u001b[39m(e1 = \u001b[33mConst\u001b[39m(c = \u001b[32m3.0\u001b[39m), e2 = \u001b[33mIdent\u001b[39m(v = \u001b[32m\"x\"\u001b[39m)),\n",
       "    e2 = \u001b[33mConst\u001b[39m(c = \u001b[32m4.0\u001b[39m)\n",
       "  )\n",
       ")"
      ]
     },
     "execution_count": 29,
     "metadata": {},
     "output_type": "execute_result"
    }
   ],
   "source": [
    "//3*x^2 + 3*x + 4\n",
    "val e2: Expr = Plus(Mult(Const(2), Mult(Ident(\"x\"),Ident(\"x\"))) , \n",
    "                    Plus(Mult(Const(3),Ident(\"x\")),Const(4)))"
   ]
  },
  {
   "cell_type": "code",
   "execution_count": 24,
   "id": "1cf9983e-01c9-4116-b692-391646ece7a5",
   "metadata": {},
   "outputs": [
    {
     "data": {
      "text/plain": [
       "\u001b[36mres23\u001b[39m: \u001b[32mDouble\u001b[39m = \u001b[32m7.079999999999999\u001b[39m"
      ]
     },
     "execution_count": 24,
     "metadata": {},
     "output_type": "execute_result"
    }
   ],
   "source": [
    "evalExpr(myenv, e2)"
   ]
  },
  {
   "cell_type": "code",
   "execution_count": 27,
   "id": "fa8c2d86-02ee-4378-a0ee-0a581092eb9e",
   "metadata": {},
   "outputs": [
    {
     "data": {
      "text/plain": [
       "\u001b[36mres26\u001b[39m: \u001b[32mDouble\u001b[39m = \u001b[32m6.912653061713073\u001b[39m"
      ]
     },
     "execution_count": 27,
     "metadata": {},
     "output_type": "execute_result"
    }
   ],
   "source": [
    "evalExpr(myenv, e1)"
   ]
  },
  {
   "cell_type": "code",
   "execution_count": 34,
   "id": "3d3061b1-2682-4c81-8ea2-53976178097c",
   "metadata": {},
   "outputs": [
    {
     "ename": "",
     "evalue": "",
     "output_type": "error",
     "traceback": [
      "\u001b[31mjava.lang.IllegalArgumentException: requirement failed\u001b[39m\n  scala.Predef$.require(\u001b[32mPredef.scala\u001b[39m:\u001b[32m325\u001b[39m)\n  ammonite.$sess.cmd32$Helper.evalExpr(\u001b[32mcmd32.sc\u001b[39m:\u001b[32m22\u001b[39m)\n  ammonite.$sess.cmd33$Helper.<init>(\u001b[32mcmd33.sc\u001b[39m:\u001b[32m2\u001b[39m)\n  ammonite.$sess.cmd33$.<clinit>(\u001b[32mcmd33.sc\u001b[39m:\u001b[32m7\u001b[39m)"
     ]
    }
   ],
   "source": [
    "val e3 = Div(Const(4), Const(0))\n",
    "evalExpr(Map(), e3)"
   ]
  },
  {
   "cell_type": "code",
   "execution_count": 32,
   "id": "1715cb18-8dd9-4101-ab26-f9b331eba334",
   "metadata": {},
   "outputs": [
    {
     "data": {
      "text/plain": [
       "\u001b[36mres31\u001b[39m: \u001b[32mDouble\u001b[39m = \u001b[32mInfinity\u001b[39m"
      ]
     },
     "execution_count": 32,
     "metadata": {},
     "output_type": "execute_result"
    }
   ],
   "source": [
    "1.0/0.0"
   ]
  },
  {
   "cell_type": "code",
   "execution_count": null,
   "id": "8ff6e23b-b4c4-4026-be26-fd8be0658c87",
   "metadata": {},
   "outputs": [],
   "source": []
  }
 ],
 "metadata": {
  "kernelspec": {
   "display_name": "Scala",
   "language": "scala",
   "name": "scala"
  },
  "language_info": {
   "codemirror_mode": "text/x-scala",
   "file_extension": ".sc",
   "mimetype": "text/x-scala",
   "name": "scala",
   "nbconvert_exporter": "script",
   "version": "2.13.4"
  }
 },
 "nbformat": 4,
 "nbformat_minor": 5
}
