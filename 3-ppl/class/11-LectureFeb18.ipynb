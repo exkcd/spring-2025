{
 "cells": [
  {
   "cell_type": "markdown",
   "id": "1c5b7cd2-092f-4065-b68b-ae52c1fb3e30",
   "metadata": {},
   "source": [
    "<h1><center>CSCI 3155 Principles of Programming Languages</center></h1>\n",
    "<h2><center>Spring 2025</center></h2>"
   ]
  },
  {
   "cell_type": "markdown",
   "id": "b07278f6-7176-4aa4-804d-7e33a93675b8",
   "metadata": {},
   "source": [
    "### Today's Lecture\n",
    "* Higher-Order Functions (\"Functors\")\n",
    "* Lettuce - The Let Expression Language"
   ]
  },
  {
   "cell_type": "markdown",
   "id": "9d83685e-af5f-4a42-b812-3d2d9b0e4095",
   "metadata": {},
   "source": [
    "### foldRight\n",
    "\n",
    "```\n",
    "l = [\"skibidi\";\"cheugy\";\"nocap\"]\n",
    "\n",
    "str_rtol = \"nocapcheugyskibidi\"\n",
    "str_ltor = \"skibidicheugynocap\"\n",
    "\n",
    "l.foldLeft((acc,x) => acc+x)\n",
    "\n",
    "```"
   ]
  },
  {
   "cell_type": "code",
   "execution_count": 9,
   "id": "f7d068ec-9283-416d-ba39-7b7207e4bab9",
   "metadata": {},
   "outputs": [
    {
     "data": {
      "text/plain": [
       "defined \u001b[32mfunction\u001b[39m \u001b[36mmyFoldLeft\u001b[39m"
      ]
     },
     "execution_count": 9,
     "metadata": {},
     "output_type": "execute_result"
    }
   ],
   "source": [
    "def myFoldLeft[A, B](l : List[A], acc : B, f : (B, A) => B) : B = {\n",
    "  l match {\n",
    "    case Nil => acc\n",
    "    case hd::tl => {\n",
    "        val new_acc = f(acc,hd)\n",
    "        myFoldLeft(tl, new_acc, f)\n",
    "    }\n",
    "  }\n",
    "}"
   ]
  },
  {
   "cell_type": "code",
   "execution_count": 8,
   "id": "b0f5bfdd-fef9-4316-84aa-33763e4e757b",
   "metadata": {},
   "outputs": [
    {
     "data": {
      "text/plain": [
       "\u001b[36ml\u001b[39m: \u001b[32mList\u001b[39m[\u001b[32mString\u001b[39m] = \u001b[33mList\u001b[39m(\u001b[32m\"skibidi\"\u001b[39m, \u001b[32m\"cheugy\"\u001b[39m, \u001b[32m\"nocap\"\u001b[39m)\n",
       "\u001b[36mstr_rtol\u001b[39m: \u001b[32mString\u001b[39m = \u001b[32m\"nocapcheugyskibidi\"\u001b[39m\n",
       "\u001b[36mstr_ltor\u001b[39m: \u001b[32mString\u001b[39m = \u001b[32m\"skibidicheugynocap\"\u001b[39m\n",
       "\u001b[36mstr\u001b[39m: \u001b[32mString\u001b[39m = \u001b[32m\"skibidicheugynocap\"\u001b[39m"
      ]
     },
     "execution_count": 8,
     "metadata": {},
     "output_type": "execute_result"
    }
   ],
   "source": [
    "val l = List(\"skibidi\",\"cheugy\",\"nocap\")\n",
    "\n",
    "val str_rtol = \"nocapcheugyskibidi\"\n",
    "val str_ltor = \"skibidicheugynocap\"\n",
    "\n",
    "val str = myFoldLeft[String,String](l, \"\", (acc,x) => acc + x)"
   ]
  },
  {
   "cell_type": "code",
   "execution_count": 6,
   "id": "794b5b1e-6393-4ac1-8459-6dfd08fff931",
   "metadata": {},
   "outputs": [
    {
     "data": {
      "text/plain": [
       "\u001b[36mres5\u001b[39m: \u001b[32mString\u001b[39m = \u001b[32m\"3\"\u001b[39m"
      ]
     },
     "execution_count": 6,
     "metadata": {},
     "output_type": "execute_result"
    }
   ],
   "source": [
    "3.toString"
   ]
  },
  {
   "cell_type": "code",
   "execution_count": 7,
   "id": "479b1408-7be8-413b-ab17-f936c65cc673",
   "metadata": {},
   "outputs": [
    {
     "data": {
      "text/plain": [
       "\u001b[36mnum_list\u001b[39m: \u001b[32mList\u001b[39m[\u001b[32mInt\u001b[39m] = \u001b[33mList\u001b[39m(\u001b[32m13\u001b[39m, \u001b[32m17\u001b[39m, \u001b[32m19\u001b[39m)\n",
       "\u001b[36mres6_1\u001b[39m: \u001b[32mString\u001b[39m = \u001b[32m\"131719\"\u001b[39m"
      ]
     },
     "execution_count": 7,
     "metadata": {},
     "output_type": "execute_result"
    }
   ],
   "source": [
    "val num_list = List(13, 17, 19)\n",
    "myFoldLeft[Int,String](num_list, \"\", (acc:String,x:Int) => acc + x.toString)"
   ]
  },
  {
   "cell_type": "code",
   "execution_count": 10,
   "id": "0bee0f7e-1c7c-4c45-8cdd-0e407a7f9580",
   "metadata": {},
   "outputs": [
    {
     "data": {
      "text/plain": [
       "defined \u001b[32mfunction\u001b[39m \u001b[36mmyFoldRight\u001b[39m"
      ]
     },
     "execution_count": 10,
     "metadata": {},
     "output_type": "execute_result"
    }
   ],
   "source": [
    "def myFoldRight[A, B](l : List[A], acc : B, f : (A,B) => B) : B = {\n",
    "  l match {\n",
    "    case Nil => acc\n",
    "    case hd::tl => {\n",
    "        val tl_fold = myFoldRight(tl,acc,f)\n",
    "        f(hd, tl_fold)\n",
    "    }\n",
    "  }\n",
    "}\n",
    "\n",
    "/*\n",
    "  myFoldRight([x; y ; z], acc, f)\n",
    "     \n",
    " = f(x,f(y,f(z,acc)))\n",
    "*/"
   ]
  },
  {
   "cell_type": "code",
   "execution_count": null,
   "id": "17c1f1f2-8442-439b-8c7b-42bbbcf9f318",
   "metadata": {},
   "outputs": [],
   "source": []
  },
  {
   "cell_type": "code",
   "execution_count": 12,
   "id": "4ba12955-0b51-4d54-8495-200c90f08f37",
   "metadata": {},
   "outputs": [
    {
     "data": {
      "text/plain": [
       "\u001b[36mstr\u001b[39m: \u001b[32mString\u001b[39m = \u001b[32m\"nocapcheugyskibidi\"\u001b[39m"
      ]
     },
     "execution_count": 12,
     "metadata": {},
     "output_type": "execute_result"
    }
   ],
   "source": [
    "val str = myFoldRight[String,String](l, \"\", (x,acc) => acc + x)"
   ]
  },
  {
   "cell_type": "code",
   "execution_count": 13,
   "id": "c496a70a-2bd4-4047-9000-b0b748acd5e7",
   "metadata": {},
   "outputs": [
    {
     "data": {
      "text/plain": [
       "\u001b[36mres12\u001b[39m: \u001b[32mInt\u001b[39m = \u001b[32m49\u001b[39m"
      ]
     },
     "execution_count": 13,
     "metadata": {},
     "output_type": "execute_result"
    }
   ],
   "source": [
    "myFoldRight[Int,Int](List(13,17,19), 0, (x,acc) => x+acc)"
   ]
  },
  {
   "cell_type": "code",
   "execution_count": 14,
   "id": "a220ef8f-8913-43b0-949e-f83708a94a7a",
   "metadata": {},
   "outputs": [
    {
     "name": "stderr",
     "output_type": "stream",
     "text": [
      "cmd14.sc:1: not found: value map\n",
      "val res14 = map(num_list, (x:Int) => x+1)\n",
      "            ^Compilation Failed"
     ]
    },
    {
     "ename": "",
     "evalue": "",
     "output_type": "error",
     "traceback": [
      "Compilation Failed"
     ]
    }
   ],
   "source": [
    "map(num_list, (x:Int) => x+1)"
   ]
  },
  {
   "cell_type": "code",
   "execution_count": 15,
   "id": "6807c7fc-8c29-487b-8311-d541d06a246c",
   "metadata": {},
   "outputs": [
    {
     "data": {
      "text/plain": [
       "\u001b[36mres14\u001b[39m: \u001b[32mList\u001b[39m[\u001b[32mInt\u001b[39m] = \u001b[33mList\u001b[39m(\u001b[32m14\u001b[39m, \u001b[32m18\u001b[39m, \u001b[32m20\u001b[39m)"
      ]
     },
     "execution_count": 15,
     "metadata": {},
     "output_type": "execute_result"
    }
   ],
   "source": [
    "num_list.map((x:Int) => x+1)"
   ]
  },
  {
   "cell_type": "code",
   "execution_count": 18,
   "id": "a4154670-55e8-46f1-b06b-c8f29b46112c",
   "metadata": {},
   "outputs": [
    {
     "data": {
      "text/plain": [
       "\u001b[36mres17\u001b[39m: \u001b[32mInt\u001b[39m = \u001b[32m49\u001b[39m"
      ]
     },
     "execution_count": 18,
     "metadata": {},
     "output_type": "execute_result"
    }
   ],
   "source": [
    "myFoldLeft(num_list, 0, (acc:Int,x:Int) => acc+x )\n"
   ]
  },
  {
   "cell_type": "code",
   "execution_count": 29,
   "id": "ac704ad3-60c1-4ca0-add1-0727ffee3fe9",
   "metadata": {},
   "outputs": [
    {
     "data": {
      "text/plain": [
       "\u001b[36mres28\u001b[39m: \u001b[32mInt\u001b[39m = \u001b[32m49\u001b[39m"
      ]
     },
     "execution_count": 29,
     "metadata": {},
     "output_type": "execute_result"
    }
   ],
   "source": [
    "(num_list.foldLeft(0))((acc:Int, x:Int) => acc + x)"
   ]
  },
  {
   "cell_type": "code",
   "execution_count": 22,
   "id": "55f50f42-ecb6-4fd5-85cc-695a21832664",
   "metadata": {},
   "outputs": [
    {
     "data": {
      "text/plain": [
       "\u001b[36mres21\u001b[39m: (\u001b[32mInt\u001b[39m, \u001b[32mInt\u001b[39m) => \u001b[32mInt\u001b[39m => \u001b[32mInt\u001b[39m = ammonite.$sess.cmd21$Helper$$Lambda$2272/1320288326@2d1d6d6d"
      ]
     },
     "execution_count": 22,
     "metadata": {},
     "output_type": "execute_result"
    }
   ],
   "source": [
    "(f:(Int,Int) => Int) => num_list.foldLeft(0)(f)"
   ]
  },
  {
   "cell_type": "code",
   "execution_count": 24,
   "id": "3f9d1f93-d928-45d5-b9a7-d18334d18448",
   "metadata": {},
   "outputs": [
    {
     "data": {
      "text/plain": [
       "\u001b[36mfun1\u001b[39m: (\u001b[32mInt\u001b[39m, \u001b[32mInt\u001b[39m) => \u001b[32mInt\u001b[39m = ammonite.$sess.cmd23$Helper$$Lambda$2405/1073577957@23d54997\n",
       "\u001b[36mfun2\u001b[39m: \u001b[32mInt\u001b[39m => \u001b[32mInt\u001b[39m => \u001b[32mInt\u001b[39m = ammonite.$sess.cmd23$Helper$$Lambda$2406/1762436825@2ca75065"
      ]
     },
     "execution_count": 24,
     "metadata": {},
     "output_type": "execute_result"
    }
   ],
   "source": [
    "//fun1 has two arguments\n",
    "// fun1 is \"uncurried\" function\n",
    "val fun1 = (x:Int,y:Int) => x+y\n",
    "//fun2 has only one argument\n",
    "// fun2 is \"curried\"\n",
    "val fun2 = (x:Int) => (y:Int) => x+y"
   ]
  },
  {
   "cell_type": "code",
   "execution_count": null,
   "id": "2b55c29a-713b-4a31-8286-4aaa69ac48a4",
   "metadata": {},
   "outputs": [],
   "source": [
    "//exactly same as above, i.e., it defines a curried function called fun2\n",
    "// \"def\" keyword is simply a syntactic sugar\n",
    "def fun2(x:Int)(y:Int) = x+y"
   ]
  },
  {
   "cell_type": "code",
   "execution_count": 28,
   "id": "919013ca-0097-408f-895f-b63245d78251",
   "metadata": {},
   "outputs": [
    {
     "data": {
      "text/plain": [
       "\u001b[36mx\u001b[39m: \u001b[32mInt\u001b[39m = \u001b[32m3\u001b[39m\n",
       "\u001b[36madd_one\u001b[39m: \u001b[32mInt\u001b[39m => \u001b[32mInt\u001b[39m = ammonite.$sess.cmd23$Helper$$Lambda$2416/1913270078@3f7b78ed\n",
       "\u001b[36my\u001b[39m: \u001b[32mInt\u001b[39m = \u001b[32m3\u001b[39m"
      ]
     },
     "execution_count": 28,
     "metadata": {},
     "output_type": "execute_result"
    }
   ],
   "source": [
    "\n",
    "val x = fun1(1,2)\n",
    "val add_one = fun2(1)\n",
    "val y = add_one(2)"
   ]
  },
  {
   "cell_type": "code",
   "execution_count": 34,
   "id": "46469ac2-27ff-4765-a7e5-37cbeeb15149",
   "metadata": {},
   "outputs": [
    {
     "data": {
      "text/plain": [
       "defined \u001b[32mfunction\u001b[39m \u001b[36mmyCurriedFoldLeft\u001b[39m"
      ]
     },
     "execution_count": 34,
     "metadata": {},
     "output_type": "execute_result"
    }
   ],
   "source": [
    "def myCurriedFoldLeft[A, B](l : List[A]) (acc : B) (f : (B, A) => B) : B = {\n",
    "  l match {\n",
    "    case Nil => acc\n",
    "    case hd::tl => {\n",
    "        val new_acc = f(acc,hd)\n",
    "        myCurriedFoldLeft(tl)(new_acc)(f)\n",
    "    }\n",
    "  }\n",
    "}"
   ]
  },
  {
   "cell_type": "code",
   "execution_count": 37,
   "id": "bc516b4c-bf27-4be4-b455-1a7dc89f54f6",
   "metadata": {},
   "outputs": [
    {
     "data": {
      "text/plain": [
       "\u001b[36mpartial_fold_left\u001b[39m: (\u001b[32mInt\u001b[39m, \u001b[32mInt\u001b[39m) => \u001b[32mInt\u001b[39m => \u001b[32mInt\u001b[39m = ammonite.$sess.cmd36$Helper$$Lambda$2473/1228154100@442526e7"
      ]
     },
     "execution_count": 37,
     "metadata": {},
     "output_type": "execute_result"
    }
   ],
   "source": [
    "val partial_fold_left = (f:(Int,Int) => Int) => num_list.foldLeft(0)(f)"
   ]
  },
  {
   "cell_type": "code",
   "execution_count": 39,
   "id": "24d18d47-2eee-4b3a-a654-ae9cb529c20a",
   "metadata": {},
   "outputs": [
    {
     "data": {
      "text/plain": [
       "\u001b[36mres38\u001b[39m: \u001b[32mInt\u001b[39m = \u001b[32m49\u001b[39m"
      ]
     },
     "execution_count": 39,
     "metadata": {},
     "output_type": "execute_result"
    }
   ],
   "source": [
    "partial_fold_left((x,y) => x+y)"
   ]
  },
  {
   "cell_type": "markdown",
   "id": "d7e4723e-1a58-406c-a707-2169f6e2293e",
   "metadata": {},
   "source": [
    "```\n",
    "\n",
    "\n",
    "\n",
    "\n",
    "\n",
    "\n",
    "\n",
    "\n",
    "\n",
    "\n",
    "\n",
    "\n",
    "\n",
    "\n",
    "\n",
    "\n",
    "\n",
    "```"
   ]
  },
  {
   "cell_type": "markdown",
   "id": "e08a3b72-4f52-45be-9c35-bfd535979c55",
   "metadata": {},
   "source": [
    "## Grammar for Lettuce\n",
    "\n",
    "We are now ready to define a grammar for Lettuce.\n",
    "\n",
    "$$\\begin{array}{rcll}\n",
    "\\mathbf{Program} & \\rightarrow & TopLevel(\\mathbf{Expr}) \\\\[5pt]\n",
    "\\mathbf{Expr} & \\rightarrow & Const(\\mathbf{Number}) \\\\\n",
    " & | & True \\\\\n",
    " & | & False \\\\\n",
    " & | & Ident(\\mathbf{Identifier}) \\\\\n",
    " & | & Plus(\\mathbf{Expr}, \\mathbf{Expr}) \\\\\n",
    " & | & Minus(\\mathbf{Expr}, \\mathbf{Expr}) \\\\\n",
    " & | & Mult (\\mathbf{Expr}, \\mathbf{Expr}) \\\\\n",
    " & | & Div (\\mathbf{Expr}, \\mathbf{Expr}) \\\\\n",
    " & | & Log (\\mathbf{Expr}) \\\\\n",
    " & | & Exp (\\mathbf{Expr}) \\\\\n",
    " & | & Sine (\\mathbf{Expr}) \\\\\n",
    " & | & Cosine (\\mathbf{Expr}) \\\\\n",
    " & | & Geq (\\mathbf{Expr}, \\mathbf{Expr}) \\\\\n",
    " & | & Eq (\\mathbf{Expr}, \\mathbf{Expr}) \\\\\n",
    " & | & And ( \\mathbf{Expr}, \\mathbf{Expr} ) \\\\\n",
    " & | & Or ( \\mathbf{Expr}, \\mathbf{Expr} ) \\\\\n",
    " & | & Not ( \\mathbf{Expr}) \\\\\n",
    " & | & IfThenElse(\\mathbf{Expr}, \\mathbf{Expr}, \\mathbf{Expr}) & \\text{if (expr) then expr else expr} \\\\\n",
    " & | & Let( \\mathbf{Identifier}, \\mathbf{Expr}, \\mathbf{Expr}) & \\text{let identifier = expr in expr} \\\\\n",
    " & | & FunDef( \\mathbf{Identifier}, \\mathbf{Expr}) & \\text{function (identifier) expr } \\\\ \n",
    " & | & FunCall(\\mathbf{Expr}, \\mathbf{Expr}) & \\text{function call - identifier(expr)} \\\\[5pt]\n",
    "\\end{array}$$\n"
   ]
  },
  {
   "cell_type": "markdown",
   "id": "c84756cf-f734-4632-9b00-c4aeb9d9eb42",
   "metadata": {},
   "source": [
    "### Lettuce\n",
    "\n",
    "```\n",
    "  let x = 2.2 in\n",
    "  let y = 3.3 in\n",
    "    x*x+sin(y)\n",
    "\n",
    "```"
   ]
  },
  {
   "cell_type": "code",
   "execution_count": 40,
   "id": "8b364789-7ce5-499b-b1f4-2a40d54e98c3",
   "metadata": {},
   "outputs": [
    {
     "data": {
      "text/plain": [
       "\u001b[36mx\u001b[39m: \u001b[32mDouble\u001b[39m = \u001b[32m2.2\u001b[39m\n",
       "\u001b[36my\u001b[39m: \u001b[32mDouble\u001b[39m = \u001b[32m3.3\u001b[39m\n",
       "\u001b[36mres39_2\u001b[39m: \u001b[32mDouble\u001b[39m = \u001b[32m4.682254305856753\u001b[39m"
      ]
     },
     "execution_count": 40,
     "metadata": {},
     "output_type": "execute_result"
    }
   ],
   "source": [
    "// Scala\n",
    "\n",
    "val x = 2.2\n",
    "val y = 3.3\n",
    "x*x + math.sin(y)"
   ]
  },
  {
   "cell_type": "code",
   "execution_count": 40,
   "id": "5a65ca03-c43f-49b1-ba81-2fd5e7bcc381",
   "metadata": {},
   "outputs": [
    {
     "name": "stderr",
     "output_type": "stream",
     "text": [
      "(console):5:1 expected end-of-input\n",
      "println(x)\n",
      "^"
     ]
    },
    {
     "ename": "",
     "evalue": "",
     "output_type": "error",
     "traceback": [
      "(console):5:1 expected end-of-input\nprintln(x)\n^"
     ]
    }
   ],
   "source": [
    "{\n",
    "    val x = 2\n",
    "    val y = 3\n",
    "}\n",
    "println(x)"
   ]
  },
  {
   "cell_type": "code",
   "execution_count": null,
   "id": "e7905667-089f-4b53-afe2-24b59b3e0954",
   "metadata": {},
   "outputs": [],
   "source": []
  }
 ],
 "metadata": {
  "kernelspec": {
   "display_name": "Scala",
   "language": "scala",
   "name": "scala"
  },
  "language_info": {
   "codemirror_mode": "text/x-scala",
   "file_extension": ".sc",
   "mimetype": "text/x-scala",
   "name": "scala",
   "nbconvert_exporter": "script",
   "version": "2.13.4"
  }
 },
 "nbformat": 4,
 "nbformat_minor": 5
}
