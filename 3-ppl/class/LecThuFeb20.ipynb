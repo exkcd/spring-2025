{
 "cells": [
  {
   "cell_type": "markdown",
   "id": "746eaedd-1cd6-48e2-a9e6-c4ef1ccc06e7",
   "metadata": {},
   "source": [
    "<h1><center>CSCI 3155 Principles of Programming Languages</center></h1>\n",
    "<h2><center>Spring 2025</center></h2>"
   ]
  },
  {
   "cell_type": "markdown",
   "id": "224593e2-9dfc-4cc2-ba26-290b1d8d3b0e",
   "metadata": {},
   "source": [
    "### Today's Lecture\n",
    "* Lettuce - The Let Expression Language\n",
    "  + `let` expressions\n",
    "  + Scoping\n",
    "  + Operational Semantics"
   ]
  },
  {
   "cell_type": "markdown",
   "id": "444149e0-9640-4de1-9118-8ea1865649b3",
   "metadata": {},
   "source": [
    "## Grammar for Lettuce\n",
    "\n",
    "We are now ready to define a grammar for Lettuce.\n",
    "\n",
    "$$\\begin{array}{rcll}\n",
    "\\mathbf{Program} & \\rightarrow & TopLevel(\\mathbf{Expr}) \\\\[5pt]\n",
    "\\mathbf{Expr} & \\rightarrow & Const(\\mathbf{Number}) \\\\\n",
    " & | & True \\\\\n",
    " & | & False \\\\\n",
    " & | & Ident(\\mathbf{Identifier}) \\\\\n",
    " & | & Plus(\\mathbf{Expr}, \\mathbf{Expr}) \\\\\n",
    " & | & Minus(\\mathbf{Expr}, \\mathbf{Expr}) \\\\\n",
    " & | & Mult (\\mathbf{Expr}, \\mathbf{Expr}) \\\\\n",
    " & | & Div (\\mathbf{Expr}, \\mathbf{Expr}) \\\\\n",
    " & | & Log (\\mathbf{Expr}) \\\\\n",
    " & | & Exp (\\mathbf{Expr}) \\\\\n",
    " & | & Sine (\\mathbf{Expr}) \\\\\n",
    " & | & Cosine (\\mathbf{Expr}) \\\\\n",
    " & | & Geq (\\mathbf{Expr}, \\mathbf{Expr}) \\\\\n",
    " & | & Eq (\\mathbf{Expr}, \\mathbf{Expr}) \\\\\n",
    " & | & And ( \\mathbf{Expr}, \\mathbf{Expr} ) \\\\\n",
    " & | & Or ( \\mathbf{Expr}, \\mathbf{Expr} ) \\\\\n",
    " & | & Not ( \\mathbf{Expr}) \\\\\n",
    " & | & IfThenElse(\\mathbf{Expr}, \\mathbf{Expr}, \\mathbf{Expr}) & \\text{if (expr) then expr else expr} \\\\\n",
    " & | & Let( \\mathbf{Identifier}, \\mathbf{Expr}, \\mathbf{Expr}) & \\text{let identifier = expr in expr} \\\\\n",
    " & | & FunDef( \\mathbf{Identifier}, \\mathbf{Expr}) & \\text{function (identifier) expr } \\\\ \n",
    " & | & FunCall(\\mathbf{Expr}, \\mathbf{Expr}) & \\text{function call - identifier(expr)} \\\\[5pt]\n",
    "\\end{array}$$\n"
   ]
  },
  {
   "cell_type": "code",
   "execution_count": 8,
   "id": "b62bea09-29fe-44bf-933f-2084d6f65258",
   "metadata": {},
   "outputs": [
    {
     "data": {
      "text/plain": [
       "defined \u001b[32mfunction\u001b[39m \u001b[36mfoo\u001b[39m"
      ]
     },
     "execution_count": 8,
     "metadata": {},
     "output_type": "execute_result"
    }
   ],
   "source": [
    "def foo(x:Int) = x+2"
   ]
  },
  {
   "cell_type": "code",
   "execution_count": 11,
   "id": "e2c92249-28cc-48b3-875c-a5133d9f0202",
   "metadata": {},
   "outputs": [
    {
     "data": {
      "text/plain": [
       "\u001b[36mbar\u001b[39m: \u001b[32mInt\u001b[39m => \u001b[32mInt\u001b[39m = ammonite.$sess.cmd10$Helper$$Lambda$1921/897746883@79b4d49a"
      ]
     },
     "execution_count": 11,
     "metadata": {},
     "output_type": "execute_result"
    }
   ],
   "source": [
    "val bar = (x:Int) => x+2\n",
    "//FunDef(\"x\",x+2)"
   ]
  },
  {
   "cell_type": "markdown",
   "id": "1b1861c7-42d4-460b-b101-16aa62a54b7c",
   "metadata": {},
   "source": [
    "~~~\n",
    "let bar = function(x) x+2 in\n",
    "  bar(2)\n",
    "~~~"
   ]
  },
  {
   "cell_type": "markdown",
   "id": "0a18fff4-17d7-4a96-8797-414a61611433",
   "metadata": {},
   "source": [
    "\n",
    "### Let expressions\n",
    "~~~\n",
    "let x = e1 in e2\n",
    "~~~\n",
    "\n",
    "### Example 1\n",
    "~~~\n",
    "let x = 2.5 in \n",
    "  x+2\n",
    "~~~\n",
    "\n",
    "==>\n",
    "\n",
    "~~~\n",
    "2.5 + 2\n",
    "~~~\n",
    "\n",
    "==>\n",
    "\n",
    "~~~\n",
    "4.5\n",
    "~~~\n",
    "\n",
    "\n",
    "### Example 2\n",
    "\n",
    "~~~\n",
    "let x = 2 in\n",
    "(let y = x + 3 in\n",
    "  x + y)\n",
    "~~~\n",
    "\n",
    "==> \n",
    "\n",
    "~~~\n",
    "let y = 2 + 3 in\n",
    " 2 + y\n",
    "~~~\n",
    "\n",
    "==>\n",
    "\n",
    "~~~\n",
    "let y = 5 in\n",
    " 2 + y\n",
    "~~~\n",
    "\n",
    "==> \n",
    "\n",
    "~~~\n",
    "2 + 5 = 7\n",
    "~~~\n",
    "\n"
   ]
  },
  {
   "cell_type": "code",
   "execution_count": 2,
   "id": "eabfdfae-3399-4864-814d-83582dd6865d",
   "metadata": {},
   "outputs": [
    {
     "data": {
      "text/plain": [
       "\u001b[36mx\u001b[39m: \u001b[32mInt\u001b[39m = \u001b[32m2\u001b[39m\n",
       "\u001b[36my\u001b[39m: \u001b[32mInt\u001b[39m = \u001b[32m5\u001b[39m\n",
       "\u001b[36mres1_2\u001b[39m: \u001b[32mInt\u001b[39m = \u001b[32m7\u001b[39m"
      ]
     },
     "execution_count": 2,
     "metadata": {},
     "output_type": "execute_result"
    }
   ],
   "source": [
    "/*\n",
    "let x = 2 in\n",
    "(let y = x + 3 in\n",
    "  x + y)\n",
    "*/\n",
    "val x = 2\n",
    "val y = x + 3\n",
    "x+y"
   ]
  },
  {
   "cell_type": "code",
   "execution_count": 6,
   "id": "15218050-6711-40dd-9bf0-6a492d041bb1",
   "metadata": {},
   "outputs": [
    {
     "data": {
      "text/plain": [
       "\u001b[36mx\u001b[39m: \u001b[32mInt\u001b[39m = \u001b[32m4\u001b[39m\n",
       "\u001b[36mres5_1\u001b[39m: \u001b[32mInt\u001b[39m = \u001b[32m12\u001b[39m"
      ]
     },
     "execution_count": 6,
     "metadata": {},
     "output_type": "execute_result"
    }
   ],
   "source": [
    "val x = {\n",
    "    val z = 2\n",
    "    z + 2\n",
    "}\n",
    "x * 3 //e2\n",
    "\n",
    "/*\n",
    "\n",
    "let x = let z = 2 in \n",
    "            z+2 in\n",
    "  x*3 //e2\n",
    "\n",
    "*/"
   ]
  },
  {
   "cell_type": "code",
   "execution_count": 6,
   "id": "af3c1867-6488-411b-ab07-20ead1e65575",
   "metadata": {},
   "outputs": [
    {
     "name": "stderr",
     "output_type": "stream",
     "text": [
      "cmd6.sc:2: x is already defined as value x\n",
      "val x = 3\n",
      "    ^Compilation Failed"
     ]
    },
    {
     "ename": "",
     "evalue": "",
     "output_type": "error",
     "traceback": [
      "Compilation Failed"
     ]
    }
   ],
   "source": [
    "val x = 2\n",
    "val x = 3\n",
    "x+x\n",
    "\n",
    "/*\n",
    "\n",
    "let x = 2 in\n",
    "  let x = 3 in\n",
    "    x+x\n",
    "*/"
   ]
  },
  {
   "cell_type": "code",
   "execution_count": 7,
   "id": "e3223831-ca68-4a23-8771-f912d0525b6e",
   "metadata": {},
   "outputs": [
    {
     "data": {
      "text/plain": [
       "\u001b[36mx\u001b[39m: \u001b[32mInt\u001b[39m = \u001b[32m2\u001b[39m\n",
       "\u001b[36my\u001b[39m: \u001b[32mInt\u001b[39m = \u001b[32m4\u001b[39m\n",
       "\u001b[36mres6_2\u001b[39m: \u001b[32mInt\u001b[39m = \u001b[32m6\u001b[39m"
      ]
     },
     "execution_count": 7,
     "metadata": {},
     "output_type": "execute_result"
    }
   ],
   "source": [
    "/*\n",
    "let x = 2 in\n",
    "  (let y = x+2 in\n",
    "    x + y)\n",
    "*/\n",
    "val x = 2 \n",
    "val y = x+2\n",
    "x+y"
   ]
  },
  {
   "cell_type": "code",
   "execution_count": 7,
   "id": "bf0de105-fe47-4462-aca5-12e76d45a805",
   "metadata": {},
   "outputs": [],
   "source": [
    "/*\n",
    "\n",
    "let x = 2.5 in\n",
    "  let x = x + 1.5 in\n",
    "    let x = x - 1 in\n",
    "      x\n",
    "*/\n"
   ]
  },
  {
   "cell_type": "code",
   "execution_count": 7,
   "id": "8a347ab3-4dea-49ef-876a-73d970128156",
   "metadata": {},
   "outputs": [],
   "source": [
    "/*\n",
    "\n",
    "let x = (let y = 2*2 in \n",
    "            let x = 3 in\n",
    "                y + x) in\n",
    "    (let y = x - 1 in\n",
    "        x*y)\n",
    "*/\n",
    "\n",
    "/*\n",
    "\n",
    "e1 is:\n",
    "\n",
    "let y = 2*2 in \n",
    "    let x = 3 in\n",
    "        y + x\n",
    "        \n",
    "==>\n",
    "\n",
    "7\n",
    "\n",
    "*/\n",
    "\n",
    "/*\n",
    "\n",
    "let x = e1 in e2 is\n",
    "\n",
    "let x = 7\n",
    "let y = x - 1 in\n",
    "        x*y\n",
    "\n",
    "==>\n",
    "\n",
    "42\n",
    "*/\n"
   ]
  },
  {
   "cell_type": "markdown",
   "id": "2fa4a65d-ecd2-4db4-a262-77dce6a881b5",
   "metadata": {},
   "source": [
    "\n",
    "~~~\n",
    "\n",
    "\n",
    "\n",
    "~~~\n"
   ]
  },
  {
   "cell_type": "markdown",
   "id": "45d3024d-792d-48b9-85e6-b68dd10da75b",
   "metadata": {},
   "source": [
    "It helps to how programs written in the concrete syntax translate into abstract syntax using the grammar.\n",
    "\n",
    "### Example 1\n",
    "\n",
    "\n",
    "~~~\n",
    "Let(\"x\", Plus(Const(10), Const(15)), \n",
    "         Let(\"y\", Geq(Ident(\"x\"), Const(25)), \n",
    "                IfThenElse( Ident(\"y\"), \n",
    "                               Ident(\"x\"), \n",
    "                               Minus(Ident(\"x\"), Const(35))\n",
    "                           )\n",
    "             )\n",
    "    )\n",
    "~~~\n",
    "\n",
    "Represents:\n",
    "\n",
    "~~~\n",
    "let x = 10 + 15 in\n",
    "    let y = x >= 25 in\n",
    "      if (y) then x else x - 35\n",
    "~~~\n",
    "\n",
    "### Example 2\n",
    "\n",
    "\n",
    "~~~\n",
    "Let(\"square\", FunDef(\"w\", Mult(Ident(\"w\"), Ident(\"w\")) ),\n",
    "            Plus(Const(25), FunCall(Ident(\"square\"), Const(25)))\n",
    "~~~\n",
    "\n",
    "Represents:\n",
    "\n",
    "~~~\n",
    "let square = function(w) w*w in\n",
    "     25  +  square(25)\n",
    "\n",
    "~~~\n",
    "           "
   ]
  },
  {
   "cell_type": "markdown",
   "id": "9ebaf1c3-8d58-42e9-b7a1-28ffd6dcae7f",
   "metadata": {},
   "source": [
    "~~~\n",
    "  eval(env, e1) = b1 \n",
    "  eval(env, e2) = b2  b1,b2 \\in Bool\n",
    "----------------------------------- [E-And]\n",
    "eval(env, And(e1,e2)) = b1 && b2\n",
    "~~~\n",
    "\n",
    "~~~\n",
    "  eval(env, e1) = false\n",
    "----------------------------- [E-And-SC]\n",
    "eval(env, And(e1,e2)) = false\n",
    "~~~\n",
    "\n",
    "~~~\n",
    "\n",
    "     eval(env, e1) = v1\n",
    "     env' = env + (x -> v1)\n",
    "     eval(env', e2) = v2\n",
    "----------------------------------------- [E-Let]\n",
    "    eval(env, let x = e1 in e2) = v2\n",
    "~~~"
   ]
  },
  {
   "cell_type": "code",
   "execution_count": null,
   "id": "5709aa84-c8f2-4e9b-85cd-16bac25104b5",
   "metadata": {},
   "outputs": [],
   "source": []
  }
 ],
 "metadata": {
  "kernelspec": {
   "display_name": "Scala",
   "language": "scala",
   "name": "scala"
  },
  "language_info": {
   "codemirror_mode": "text/x-scala",
   "file_extension": ".sc",
   "mimetype": "text/x-scala",
   "name": "scala",
   "nbconvert_exporter": "script",
   "version": "2.13.4"
  }
 },
 "nbformat": 4,
 "nbformat_minor": 5
}
