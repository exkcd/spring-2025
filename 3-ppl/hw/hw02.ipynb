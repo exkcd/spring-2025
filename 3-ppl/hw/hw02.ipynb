{
 "cells": [
  {
   "cell_type": "markdown",
   "id": "b379ffec",
   "metadata": {},
   "source": [
    "Before you turn this problem in, make sure everything runs as expected. First, **restart the kernel** (in the menubar, select Kernel $\\rightarrow$ Restart) and then **run all cells** (in the menubar, select Cell $\\rightarrow$ Run All).\n",
    "\n",
    "Make sure you fill in any place that says `YOUR CODE HERE` or \"YOUR ANSWER HERE\", as well as your name and collaborators below:"
   ]
  },
  {
   "cell_type": "markdown",
   "id": "2b3af7fd",
   "metadata": {},
   "source": [
    "NAME = \"Rey Stone\"\n",
    "COLLABORATORS = \"Just me, again...\""
   ]
  },
  {
   "cell_type": "markdown",
   "id": "1ea347e2",
   "metadata": {},
   "source": [
    "---"
   ]
  },
  {
   "cell_type": "markdown",
   "id": "4f522491",
   "metadata": {
    "deletable": false,
    "editable": false,
    "nbgrader": {
     "cell_type": "markdown",
     "checksum": "93ce673b2a7385ad3ba416ec1934c6c3",
     "grade": false,
     "grade_id": "cell-23caf73bddab1bd2",
     "locked": true,
     "schema_version": 3,
     "solution": false,
     "task": false
    }
   },
   "source": [
    "# CSCI 3155 Assignment 2 : Recursion and Tail Recursion\n",
    "\n",
    "This assignment asks you to write scala programs. \n",
    "\n",
    "**Restrictions** apply to each problem in terms of forbidden Scala features and API functions. Please read them carefully and ask for clarifications from the course staff over Piazza or during office hours if unsure.\n",
    "\n",
    "Note: `???` indicates that there is a missing function or code fragment that needs to be filled in. In scala, \n",
    "it is also a macro that throws a `NotImplemented` exception. Make sure that you remove the `???` and replace it with the answer. \n",
    "\n",
    "Use the test cases provided to test them. You are also encouraged to write your own test cases to help debug your work. However, please delete any extra cells you may have created lest they break our autograder.\n",
    "\n",
    "**Very Important:** \n",
    "1. Please run the cell that defines the functions `passed` and `testWithMessage` below whenever you restart the notebook.\n",
    "2. Use `@tailrec` annotation wherever a tail recursive function is expected. "
   ]
  },
  {
   "cell_type": "markdown",
   "id": "c56c63ad",
   "metadata": {},
   "source": [
    "### Rey Stone"
   ]
  },
  {
   "cell_type": "code",
   "execution_count": 2,
   "id": "11ea0f3c",
   "metadata": {
    "deletable": false,
    "editable": false,
    "nbgrader": {
     "cell_type": "code",
     "checksum": "12e190ffe3f1f675a92c892ecb55966a",
     "grade": false,
     "grade_id": "cell-aeddd2cf2ccfdd6a",
     "locked": true,
     "schema_version": 3,
     "solution": false,
     "task": false
    }
   },
   "outputs": [
    {
     "data": {
      "text/plain": [
       "defined \u001b[32mfunction\u001b[39m \u001b[36mpassed\u001b[39m\n",
       "defined \u001b[32mfunction\u001b[39m \u001b[36mtestWithMessage\u001b[39m"
      ]
     },
     "execution_count": 2,
     "metadata": {},
     "output_type": "execute_result"
    }
   ],
   "source": [
    "// TEST HELPER\n",
    "\n",
    "// FIRST RUN THIS CELL EVERY TIME YOU START THE NOTEBOOK\n",
    "def passed(points: Int) = {\n",
    "    require(points >=0)\n",
    "    if (points == 1) print(s\"\\n*** Tests Passed (1 point) ***\\n\")\n",
    "    else print(s\"\\n*** Tests Passed ($points points) ***\\n\")\n",
    "}\n",
    "\n",
    "def testWithMessage[T](v1: T, expected: T, testID: String) = { \n",
    "    println(s\"Test $testID\"); \n",
    "    println(s\"\\t Expected: $expected, your code returned: $v1\")\n",
    "    assert (v1 == expected, s\"Test $testID FAILED.\")\n",
    "    println(\"\\t Passed!\")\n",
    "}"
   ]
  },
  {
   "cell_type": "markdown",
   "id": "79b1c77a",
   "metadata": {
    "deletable": false,
    "editable": false,
    "nbgrader": {
     "cell_type": "markdown",
     "checksum": "97240d01f3f33caafc3f10a7ba229afc",
     "grade": false,
     "grade_id": "cell-d1cc7d9a1f4ba632",
     "locked": true,
     "schema_version": 3,
     "solution": false,
     "task": false
    }
   },
   "source": [
    "## Problem 1A  (5 points)\n",
    "\n",
    "Write a function `countEven` that inputs a list of numbers `lst` and counts how many elements of `lst` are even. \n",
    "\n",
    "\n",
    "### Restrictions \n",
    " - Your function must be recursive (not necessary that it be tail recursive)\n",
    " - You __cannot__ use loops (for-loops, while loops etc..), and  __no__ mutables (var).\n",
    " - You __cannot__ use return statement in your function.\n",
    " - List Operations allowed: \n",
    "    - list.length - length of a list\n",
    "    - list.head - extract the first element of a list\n",
    "    - list.tail - extract the sublist from the second element  to last element of  list.\n",
    " - No other list API functions or API functions of any other datastructure allowed. Eg., do not look to convert your list into an array and use some Array API function."
   ]
  },
  {
   "cell_type": "code",
   "execution_count": 3,
   "id": "1c064622",
   "metadata": {
    "deletable": false,
    "nbgrader": {
     "cell_type": "code",
     "checksum": "8441d5e1478c9211358f1c266852f2b2",
     "grade": false,
     "grade_id": "cell-0cb565560e29312d",
     "locked": false,
     "schema_version": 3,
     "solution": true,
     "task": false
    }
   },
   "outputs": [
    {
     "data": {
      "text/plain": [
       "defined \u001b[32mfunction\u001b[39m \u001b[36mcountEven\u001b[39m"
      ]
     },
     "execution_count": 3,
     "metadata": {},
     "output_type": "execute_result"
    }
   ],
   "source": [
    "// YOUR CODE HERE\n",
    "def countEven(lst: List[Int]) : Int = {\n",
    "    if (lst.length == 0) { 0 }\n",
    "    else {\n",
    "        if ((lst.head % 2) == 0) {\n",
    "            1 + countEven(lst.tail)\n",
    "        } else {\n",
    "            countEven(lst.tail)\n",
    "        }\n",
    "    }\n",
    "}"
   ]
  },
  {
   "cell_type": "code",
   "execution_count": 4,
   "id": "6494d233",
   "metadata": {
    "deletable": false,
    "editable": false,
    "nbgrader": {
     "cell_type": "code",
     "checksum": "cad0df283b2b62d8e2917d9d2ccc7300",
     "grade": true,
     "grade_id": "cell-c6190c2906bcedea",
     "locked": true,
     "points": 5,
     "schema_version": 3,
     "solution": false,
     "task": false
    }
   },
   "outputs": [
    {
     "name": "stdout",
     "output_type": "stream",
     "text": [
      "Test  countEven(List(0, 1, 0, 1, 0, 1)) # 1\n",
      "\t Expected: 3, your code returned: 3\n",
      "\t Passed!\n",
      "Test  countEven(List(0)) # 2\n",
      "\t Expected: 1, your code returned: 1\n",
      "\t Passed!\n",
      "Test  countEven(List(2, 3, 4, -2)) # 3\n",
      "\t Expected: 4, your code returned: 4\n",
      "\t Passed!\n",
      "Test  countEven(List(5, 1, 2, 3, 4, 5, 0, 1, 5)) # 5\n",
      "\t Expected: 3, your code returned: 3\n",
      "\t Passed!\n",
      "Test countEven(List()) # 6\n",
      "\t Expected: 0, your code returned: 0\n",
      "\t Passed!\n",
      "\n",
      "*** Tests Passed (5 points) ***\n"
     ]
    }
   ],
   "source": [
    "testWithMessage( countEven(List(2, 1, 4, 1, 0, 1)), 3 , \" countEven(List(0, 1, 0, 1, 0, 1)) # 1\")\n",
    "testWithMessage( countEven(List(0)), 1, \" countEven(List(0)) # 2\")\n",
    "testWithMessage( countEven(List(2, 6, 4, 8)), 4, \" countEven(List(2, 3, 4, -2)) # 3\")\n",
    "testWithMessage( countEven(List(5, 1, 2, 3, 4, 5, 0, 1, 5)), 3, \" countEven(List(5, 1, 2, 3, 4, 5, 0, 1, 5)) # 5\")\n",
    "testWithMessage( countEven(List()), 0, \"countEven(List()) # 6\")\n",
    "passed(5)"
   ]
  },
  {
   "cell_type": "markdown",
   "id": "4577f74b",
   "metadata": {
    "nbgrader": {
     "grade": false,
     "grade_id": "cell-257f5003cdb7f0f3",
     "locked": false,
     "schema_version": 3,
     "solution": false,
     "task": false
    }
   },
   "source": [
    "## Problem 1B (5 points)\n",
    "\n",
    "Write a tail recursive version of the `countEven` function  described in Problem 1A. Call your tail recursive function `countEvenTail`. The tests call `countEvenTail` with only one argument (the list). However, the function may take additional additional arguments (such as`acc`) as long as the additional arguments have a default value so that the tests wont fail. As discussed in the class, you may want to write a loop-based solution and use it to guide your tail recursive solution.\n",
    "\n",
    "Place a `@tailrec` decorator in font of your function. \n",
    "Some scala versions (Scala < 2.12?) may require you to declare your function with the `final` keyword in front. \n",
    "\n",
    "~~~\n",
    "final def countEvenTail(lst:List[Int],....): Int = { ... }\n",
    "~~~\n",
    "\n",
    "\n",
    "### Restrictions\n",
    "\n",
    "Same restrictions as problem 1A.\n",
    "\n",
    "Additionally your function must be tail recursive.\n",
    "\n",
    "Calling `countEven` from inside your `countEvenTail` function is not allowed."
   ]
  },
  {
   "cell_type": "code",
   "execution_count": 5,
   "id": "52f49cdb",
   "metadata": {
    "deletable": false,
    "nbgrader": {
     "cell_type": "code",
     "checksum": "3b98a5d5efb146e263153b42e0953f23",
     "grade": false,
     "grade_id": "cell-7326b99db5f0bc73",
     "locked": false,
     "schema_version": 3,
     "solution": true,
     "task": false
    }
   },
   "outputs": [
    {
     "data": {
      "text/plain": [
       "\u001b[32mimport \u001b[39m\u001b[36mscala.annotation.tailrec\u001b[39m\n",
       "defined \u001b[32mfunction\u001b[39m \u001b[36mcountEvenTail\u001b[39m"
      ]
     },
     "execution_count": 5,
     "metadata": {},
     "output_type": "execute_result"
    }
   ],
   "source": [
    "import scala.annotation.tailrec\n",
    "\n",
    "\n",
    "@tailrec\n",
    "// YOUR CODE HERE\n",
    "final def countEvenTail(lst: List[Int], acc: Int = 0) : Int = {\n",
    "    if (lst.length == 0) { acc }\n",
    "    else {\n",
    "        if ((lst.head % 2) == 0) {\n",
    "            countEvenTail(lst.tail, acc+1)\n",
    "        } else {\n",
    "            countEvenTail(lst.tail, acc)\n",
    "        }\n",
    "    } \n",
    "\n",
    "}"
   ]
  },
  {
   "cell_type": "code",
   "execution_count": 6,
   "id": "50257f80",
   "metadata": {
    "deletable": false,
    "editable": false,
    "nbgrader": {
     "cell_type": "code",
     "checksum": "c1e7120ee17c5e09cb23cce9f919527e",
     "grade": true,
     "grade_id": "cell-96da0d4bea949b29",
     "locked": true,
     "points": 5,
     "schema_version": 3,
     "solution": false,
     "task": false
    }
   },
   "outputs": [
    {
     "name": "stdout",
     "output_type": "stream",
     "text": [
      "Test  countEvenTail(List(0, 1, 0, 1, 0, 1)) # 1\n",
      "\t Expected: 3, your code returned: 3\n",
      "\t Passed!\n",
      "Test  countEvenTail(List(0)) # 2\n",
      "\t Expected: 1, your code returned: 1\n",
      "\t Passed!\n",
      "Test  countEvenTail(List(2, 3, 4, -2)) # 3\n",
      "\t Expected: 4, your code returned: 4\n",
      "\t Passed!\n",
      "Test  countEvenTail(List(5, 1, 2, 3, 4, 5, 0, 1, 5)) # 5\n",
      "\t Expected: 3, your code returned: 3\n",
      "\t Passed!\n",
      "Test countEvenTail(List()) # 6\n",
      "\t Expected: 0, your code returned: 0\n",
      "\t Passed!\n",
      "\n",
      "*** Tests Passed (5 points) ***\n"
     ]
    }
   ],
   "source": [
    "testWithMessage( countEvenTail(List(2, 1, 4, 1, 0, 1)), 3 , \" countEvenTail(List(0, 1, 0, 1, 0, 1)) # 1\")\n",
    "testWithMessage( countEvenTail(List(0)), 1, \" countEvenTail(List(0)) # 2\")\n",
    "testWithMessage( countEvenTail(List(2, 6, 4, 8)), 4, \" countEvenTail(List(2, 3, 4, -2)) # 3\")\n",
    "testWithMessage( countEvenTail(List(5, 1, 2, 3, 4, 5, 0, 1, 5)), 3, \" countEvenTail(List(5, 1, 2, 3, 4, 5, 0, 1, 5)) # 5\")\n",
    "testWithMessage( countEvenTail(List()), 0, \"countEvenTail(List()) # 6\")\n",
    "passed(5)"
   ]
  },
  {
   "cell_type": "markdown",
   "id": "0a97341b",
   "metadata": {
    "deletable": false,
    "editable": false,
    "nbgrader": {
     "cell_type": "markdown",
     "checksum": "4014ac17d554c886c16f06bc65c5ddfa",
     "grade": false,
     "grade_id": "cell-1cb51a426718ec3a",
     "locked": true,
     "schema_version": 3,
     "solution": false,
     "task": false
    }
   },
   "source": [
    "## Problem 1C (10 points)\n",
    "\n",
    "Write a tail recursive function `extractSubList` that inputs three arguments: a list `lst` of integers and indices `i` and `j`.\n",
    "\n",
    "Given a list of integers `lst` and indices `i` and `j` into the list, extract all the elements in the original list `lst(i), ..., lst(j)` into a new list. Handle corner cases by returning an empty list when (a) `j < i` or (b) `j` is greater than or equal to the length of the list `lst`.\n",
    "\n",
    "__Hint:__ Write a function `extractSubList` that handles all the _corner_ cases above and calls a \"helper\" function `extractSubListHelper` for all the _non corner_ cases. Make sure that `extractSubListHelper` is itself tail recursive. Make sure that the `@tailrec` decorator is applied to the helper function.\n",
    "\n",
    "### Restrictions\n",
    "\n",
    "  - Same restrictions as problem 1A.\n",
    "  - Additionally your helper function must be tail recursive.\n",
    "  - You __can__ use `list.head` and `list.tail` functions. Read about them here: https://www.tutorialspoint.com/scala/scala_lists.htm\n",
    "  - You __can__ use `list.length`\n",
    "  - You __can__ use list cons operator `elt::list` to append an element in front of a list, and also use `:+` operator to append to the back of the list. You __can__ also use `++` operator (or `:::` operator) to append two lists to each other.\n",
    "  - You __can__ reverse a list by calling the List API function `list.reverse`.\n",
    "  - You __cannot__ access list elements using their indices: Eg., `lst(i)` to directly access the ith element is forbidden.\n",
    "  - No other list API functions allowed."
   ]
  },
  {
   "cell_type": "code",
   "execution_count": 24,
   "id": "e57798fc",
   "metadata": {
    "deletable": false,
    "nbgrader": {
     "cell_type": "code",
     "checksum": "c86c557d92bab9d0b3fe1c349f959642",
     "grade": false,
     "grade_id": "cell-2ea676480d0a3998",
     "locked": false,
     "schema_version": 3,
     "solution": true,
     "task": false
    }
   },
   "outputs": [
    {
     "data": {
      "text/plain": [
       "\u001b[32mimport \u001b[39m\u001b[36mscala.annotation.tailrec\u001b[39m\n",
       "\u001b[36macc\u001b[39m: \u001b[32mList\u001b[39m[\u001b[32mInt\u001b[39m] = \u001b[33mList\u001b[39m()\n",
       "defined \u001b[32mfunction\u001b[39m \u001b[36mextractSubList\u001b[39m"
      ]
     },
     "execution_count": 24,
     "metadata": {},
     "output_type": "execute_result"
    }
   ],
   "source": [
    "import scala.annotation.tailrec\n",
    "\n",
    "\n",
    "@tailrec\n",
    "// YOUR CODE HERE\n",
    "var acc: List[Int] = Nil\n",
    "def extractSubList(lst: List[Int], i: Int, j: Int): List[Int] = {\n",
    "    // edge cases\n",
    "    if ((j < i) | (j >= lst.length)) { Nil }\n",
    "    else {\n",
    "        \n",
    "    }\n",
    "}"
   ]
  },
  {
   "cell_type": "code",
   "execution_count": 25,
   "id": "807ad05f",
   "metadata": {
    "deletable": false,
    "editable": false,
    "nbgrader": {
     "cell_type": "code",
     "checksum": "8489a8975050d6d33e6bf8b84e880f31",
     "grade": true,
     "grade_id": "cell-ea11f3b0e46ecd37",
     "locked": true,
     "points": 10,
     "schema_version": 3,
     "solution": false,
     "task": false
    }
   },
   "outputs": [
    {
     "name": "stdout",
     "output_type": "stream",
     "text": [
      "List(1, 2, 3, 4, 5)\n",
      "List()\n",
      "List(2, 3, 4, 5)\n",
      "List(3)\n",
      "List(3, 4, 5)\n",
      "List(3, 4)\n",
      "Test test1\n",
      "\t Expected: List(3, 4, 5), your code returned: List()\n"
     ]
    },
    {
     "ename": "java.lang.AssertionError",
     "evalue": "assertion failed: Test test1 FAILED.",
     "output_type": "error",
     "traceback": [
      "\u001b[31mjava.lang.AssertionError: assertion failed: Test test1 FAILED.\u001b[39m",
      "  scala.Predef$.assert(\u001b[32mPredef.scala\u001b[39m:\u001b[32m279\u001b[39m)",
      "  ammonite.$sess.cmd2$Helper.testWithMessage(\u001b[32mcmd2.sc\u001b[39m:\u001b[32m13\u001b[39m)",
      "  ammonite.$sess.cmd25$Helper.<init>(\u001b[32mcmd25.sc\u001b[39m:\u001b[32m5\u001b[39m)",
      "  ammonite.$sess.cmd25$.<clinit>(\u001b[32mcmd25.sc\u001b[39m:\u001b[32m7\u001b[39m)"
     ]
    }
   ],
   "source": [
    "//BEGIN TESTS\n",
    "testWithMessage(\n",
    "    extractSubList(List(1, 2, 3, 4, 5), 2, 4),\n",
    "    List(3, 4, 5),\n",
    "    \"test1\"\n",
    "    )\n",
    "\n",
    "testWithMessage(\n",
    "    extractSubList(List(1, 2, 3, 4, 5), 3, 5),\n",
    "    List(),\n",
    "    \"test2\"\n",
    "    )\n",
    "\n",
    "testWithMessage(\n",
    "    extractSubList(List(1, 2, 3, 4, 5), 6, 5),\n",
    "    List(),\n",
    "    \"test3\"\n",
    "    )\n",
    "\n",
    "testWithMessage(\n",
    "    extractSubList(List(1, 2, 3, 4, 5), 1, 1),\n",
    "    List(2),\n",
    "    \"test4\"\n",
    "    )\n",
    "\n",
    "testWithMessage(\n",
    "    extractSubList(List(), 0, 0),\n",
    "    List(),\n",
    "    \"test5\"\n",
    "    )\n",
    "\n",
    "testWithMessage(\n",
    "    extractSubList(List(1, 2, 3, 4, 5), 0, 4),\n",
    "    List(1, 2, 3, 4, 5),\n",
    "    \"test6\"\n",
    "    )\n",
    "passed(10)\n",
    "//END TESTS"
   ]
  },
  {
   "cell_type": "markdown",
   "id": "ecb733ac",
   "metadata": {
    "deletable": false,
    "editable": false,
    "nbgrader": {
     "cell_type": "markdown",
     "checksum": "7d48bf0787df79c11ebb71d08326b851",
     "grade": false,
     "grade_id": "cell-3bf5488affed2aec",
     "locked": true,
     "schema_version": 3,
     "solution": false,
     "task": false
    }
   },
   "source": [
    "## Problem 2A (5 points)\n",
    "\n",
    "Write a function `countVowels` that inputs a string `str` and counts the number of vowels `a, e, i, o, u, A, E, I, O, U` in the string. \n",
    "\n",
    "### Restrictions\n",
    " - Must be tail recursive.\n",
    " - You __cannot__ use loops (for-loops, while loops etc..), and  __no__ mutables (var).\n",
    " - You __cannot__ use return statement in your function.\n",
    " - String Operations allowed: \n",
    "    - `string.length` - length of a string\n",
    "    - `string.head` - the first character in a string. Equivalent to `string(0)`\n",
    "    - `string.tail` - extract the substring from the second character to end of string. Equivalent to `string.substring(1, string.length)`\n",
    "    - No other string API functions are allowed.\n",
    " - Char Operations: \n",
    "    - `char.toLower` - Convert a char to lower case. Has no effect if char is already lower case or is not an alphabet.\n",
    " - No other list API functions or API functions of any other data structures allowed. Eg., do not look to convert your string into an array/list and use some Array/List API function.\n"
   ]
  },
  {
   "cell_type": "code",
   "execution_count": 7,
   "id": "c26719dc",
   "metadata": {
    "deletable": false,
    "nbgrader": {
     "cell_type": "code",
     "checksum": "e3b87da8a44e94e6a87c5eebfde75990",
     "grade": false,
     "grade_id": "cell-2e7bb9392d8c5bd3",
     "locked": false,
     "schema_version": 3,
     "solution": true,
     "task": false
    }
   },
   "outputs": [
    {
     "data": {
      "text/plain": [
       "\u001b[32mimport \u001b[39m\u001b[36mscala.annotation.tailrec\u001b[39m\n",
       "defined \u001b[32mfunction\u001b[39m \u001b[36mcountVowels\u001b[39m"
      ]
     },
     "execution_count": 7,
     "metadata": {},
     "output_type": "execute_result"
    }
   ],
   "source": [
    "import scala.annotation.tailrec\n",
    "\n",
    "\n",
    "@tailrec\n",
    "// YOUR CODE HERE\n",
    "def countVowels(str : String, acc : Int = 0) : Int = {\n",
    "    if (str.length == 0) acc\n",
    "    else {\n",
    "        if ((str.head.toLower == 'a') | (str.head.toLower == 'e') | (str.head.toLower == 'i') | (str.head.toLower == 'o') | (str.head.toLower == 'u')) {\n",
    "            countVowels(str.tail+1, acc+1)\n",
    "        } else {\n",
    "            countVowels(str.tail, acc)\n",
    "        }\n",
    "    }\n",
    "}"
   ]
  },
  {
   "cell_type": "code",
   "execution_count": 8,
   "id": "b4ee8c7a",
   "metadata": {
    "deletable": false,
    "editable": false,
    "nbgrader": {
     "cell_type": "code",
     "checksum": "68c269cc9a4bec8e1afce599e5d3c8ae",
     "grade": true,
     "grade_id": "cell-4ba3adff731ac05c",
     "locked": true,
     "points": 5,
     "schema_version": 3,
     "solution": false,
     "task": false
    }
   },
   "outputs": [
    {
     "name": "stdout",
     "output_type": "stream",
     "text": [
      "Test \"atchou\" must have three vowels in it\n",
      "\t Expected: 3, your code returned: 3\n",
      "\t Passed!\n",
      "Test Empty string has no vowels\n",
      "\t Expected: 0, your code returned: 0\n",
      "\t Passed!\n",
      "Test Non alphabet chars handled\n",
      "\t Expected: 0, your code returned: 0\n",
      "\t Passed!\n",
      "Test Capitalized vowels handled\n",
      "\t Expected: 6, your code returned: 6\n",
      "\t Passed!\n",
      "Test \"Grzzly\" has no vowels\n",
      "\t Expected: 0, your code returned: 0\n",
      "\t Passed!\n",
      "Test Handling commas and spaces?\n",
      "\t Expected: 12, your code returned: 12\n",
      "\t Passed!\n",
      "\n",
      "*** Tests Passed (5 points) ***\n"
     ]
    }
   ],
   "source": [
    "//BEGIN TEST\n",
    "testWithMessage( countVowels(\"atchou\") , 3, \"\\\"atchou\\\" must have three vowels in it\" )\n",
    "testWithMessage( countVowels(\"\"), 0, \"Empty string has no vowels\")\n",
    "testWithMessage( countVowels(\"$%!%@!1125122^^&&\"), 0, \"Non alphabet chars handled\")\n",
    "testWithMessage( countVowels(\"AAEIOU\"), 6, \"Capitalized vowels handled\")\n",
    "testWithMessage( countVowels(\"Grzzly\"), 0, \"\\\"Grzzly\\\" has no vowels\")\n",
    "testWithMessage( countVowels(\"Meow, Meow, says the alley cat next door!!\"), 12, \"Handling commas and spaces?\")\n",
    "passed(5)\n",
    "//END TEST"
   ]
  },
  {
   "cell_type": "markdown",
   "id": "09cb6ca8",
   "metadata": {
    "deletable": false,
    "editable": false,
    "nbgrader": {
     "cell_type": "markdown",
     "checksum": "670043a531d89434c6dbeca8d2b78df7",
     "grade": false,
     "grade_id": "cell-4c8610b981068620",
     "locked": true,
     "schema_version": 3,
     "solution": false,
     "task": false
    }
   },
   "source": [
    "## Problem 2B (10 points)\n",
    "\n",
    "Write a function `extractPrefix` that takes in a string `str`, and a length `j`. It extracts the first `j` characters of the string if `j < str.length` or else returns the entire string if `j >= str.length`. If `j < 0`, then `IllegalArgumentException` must be thrown using `require`.\n",
    "\n",
    "### Examples\n",
    "\n",
    "  - `extractPrefix(\"Hello\", 3)` should return `\"Hel\"`\n",
    "  - `extractPrefix(\"Yallooo\", 1)` should return `\"Y\"`\n",
    "  - `extractPrefix(\"AnyongHaseyo\", 0)` should return `\"\"` (empty string)\n",
    "  - `extractPrefix(\"hello\", 10)` should return `\"hello\"` (entire string)\n",
    "  - `extractPrefix(\"hello\", -1)` should throw an `IllegalArgumentException`.\n",
    " \n",
    "### Restrictions\n",
    "- Must be tail recursive.\n",
    "- You __cannot__ use loops (for-loops, while loops etc..), and  __no__ mutables (var).\n",
    "- You __cannot__ use return statement in your function.\n",
    "- String Operations allowed: \n",
    "    - `string.length` - length of a string\n",
    "    - `string.head` - the first character in a string. Equivalent to `string(0)`\n",
    "    - `string.tail` - extract the substring from the second character to end of string. Equivalent to `string.substring(1, string.length)`\n",
    "    - Appending two strings `s1 + s2` is permitted. It is also permitted to append `s + c` where `s` is a string and `c` is a Char. This will yield a new string with the character concatenated  to the end of the string.\n",
    "- No other list API functions or API functions of any other data structures allowed. Eg., do not look to convert your string into an array/list and use some Array/List API function.\n",
    "\n",
    "\n"
   ]
  },
  {
   "cell_type": "code",
   "execution_count": 9,
   "id": "d980fa69",
   "metadata": {
    "deletable": false,
    "nbgrader": {
     "cell_type": "code",
     "checksum": "c8b3c8376964e03fc1e443375ef6b19b",
     "grade": false,
     "grade_id": "cell-d6dc9fd0bc67aa68",
     "locked": false,
     "schema_version": 3,
     "solution": true,
     "task": false
    }
   },
   "outputs": [
    {
     "data": {
      "text/plain": [
       "\u001b[32mimport \u001b[39m\u001b[36mscala.annotation.tailrec\u001b[39m\n",
       "defined \u001b[32mfunction\u001b[39m \u001b[36mextractPrefix\u001b[39m"
      ]
     },
     "execution_count": 9,
     "metadata": {},
     "output_type": "execute_result"
    }
   ],
   "source": [
    "import scala.annotation.tailrec\n",
    "\n",
    "\n",
    "@tailrec\n",
    "// YOUR CODE HERE\n",
    "def extractPrefix(str: String, j: Int, acc: String=\"\"): String = {\n",
    "    require (j > -1)\n",
    "    if (j >= str.length) { str }\n",
    "    else {\n",
    "        if (j == 0 ){ acc }\n",
    "        else {\n",
    "            extractPrefix(str.tail, j-1, acc + str.head)\n",
    "        }\n",
    "    }\n",
    "}"
   ]
  },
  {
   "cell_type": "code",
   "execution_count": 11,
   "id": "a9dda121",
   "metadata": {
    "deletable": false,
    "editable": false,
    "nbgrader": {
     "cell_type": "code",
     "checksum": "1c387ac5e081bf5eb1919b6a25e6d060",
     "grade": true,
     "grade_id": "cell-c350ba564b712141",
     "locked": true,
     "points": 10,
     "schema_version": 3,
     "solution": false,
     "task": false
    }
   },
   "outputs": [
    {
     "name": "stdout",
     "output_type": "stream",
     "text": [
      "Test Test # 1\n",
      "\t Expected: Hel, your code returned: Hel\n",
      "\t Passed!\n",
      "Test Test # 2\n",
      "\t Expected: Hel, your code returned: Hel\n",
      "\t Passed!\n",
      "Test Test # 3\n",
      "\t Expected: , your code returned: \n",
      "\t Passed!\n",
      "Test Test # 4\n",
      "\t Expected: , your code returned: \n",
      "\t Passed!\n",
      "Test Test # 5\n",
      "\t Expected: Papa, your code returned: Papa\n",
      "\t Passed!\n",
      "Test Test # 6\n",
      "\t Expected: Papa, your code returned: Papa\n",
      "\t Passed!\n",
      "Test Test # 7\n",
      "\t Expected: IllegalArgumentException, your code returned: IllegalArgumentException\n",
      "\t Passed!\n",
      "\n",
      "*** Tests Passed (10 points) ***\n"
     ]
    }
   ],
   "source": [
    "testWithMessage(extractPrefix(\"Hello\", 3), \"Hel\", \"Test # 1\")\n",
    "testWithMessage(extractPrefix(\"Hel\", 6), \"Hel\", \"Test # 2\")\n",
    "testWithMessage(extractPrefix(\"\", 10), \"\", \"Test # 3\")\n",
    "testWithMessage(extractPrefix(\"Papa\", 0), \"\", \"Test # 4\")\n",
    "\n",
    "testWithMessage(extractPrefix(\"Papa\", 5), \"Papa\", \"Test # 5\")\n",
    "testWithMessage(extractPrefix(\"Papa\", 4), \"Papa\", \"Test # 6\")\n",
    "try {\n",
    "    testWithMessage(extractPrefix(\"Papa\", -1), \"IllegalArgumentException\", \"Test #7\")\n",
    "    \n",
    "} catch {\n",
    "    case e: IllegalArgumentException => \n",
    "        testWithMessage(\"IllegalArgumentException\", \"IllegalArgumentException\", \"Test # 7\")\n",
    "    case _: Throwable =>\n",
    "        testWithMessage(\"Some other exception\", \"IllegalArgumentException\", \"Test # 7\")\n",
    "}\n",
    "\n",
    "passed(10)"
   ]
  },
  {
   "cell_type": "markdown",
   "id": "e2f079d0",
   "metadata": {
    "deletable": false,
    "editable": false,
    "nbgrader": {
     "cell_type": "markdown",
     "checksum": "e41a9a0e96a147d94337f5e00b76ee11",
     "grade": false,
     "grade_id": "cell-1a8d7b3d6bd2f23b",
     "locked": true,
     "schema_version": 3,
     "solution": false,
     "task": false
    }
   },
   "source": [
    "## Problem 3 (15 points)\n",
    "\n",
    "The Newton-Raphson method for finding the square root of a positive number $s > 0$ works as follows:\n",
    "\n",
    "  - Set $x_0 = s$ as the starting value.\n",
    "  - At each step $n$, set $x_n = 0.5 ( x_{n-1} + \\frac{s}{x_{n-1}}) $.\n",
    "  - Terminate whenever $| x_n^2 - s| \\leq \\epsilon$, where $\\epsilon $ is a small error tolerance (typically $10^{-10}$).\n",
    "\n",
    "For your convenience we provide you with a while loop based version of this method to find square root. Your goal is to implement it as a tail recursive function.\n"
   ]
  },
  {
   "cell_type": "code",
   "execution_count": 12,
   "id": "dad91991",
   "metadata": {
    "deletable": false,
    "editable": false,
    "nbgrader": {
     "cell_type": "code",
     "checksum": "49c719b350c4a93d72c712f01558cd70",
     "grade": false,
     "grade_id": "cell-0dc02150f63834aa",
     "locked": true,
     "schema_version": 3,
     "solution": false,
     "task": false
    }
   },
   "outputs": [
    {
     "data": {
      "text/plain": [
       "defined \u001b[32mfunction\u001b[39m \u001b[36msqrtLoop\u001b[39m"
      ]
     },
     "execution_count": 12,
     "metadata": {},
     "output_type": "execute_result"
    }
   ],
   "source": [
    "def sqrtLoop(s: Double, epsilon: Double = 1E-10): Double = {\n",
    "    require (s >= 0.0) // This is just a fancy assert statement that expresses a precondition\n",
    "    var x:Double = s\n",
    "    while ( math.abs(x*x - s) > epsilon) {\n",
    "        x = 0.5 * (x + s/x)\n",
    "    }\n",
    "    x\n",
    "}"
   ]
  },
  {
   "cell_type": "code",
   "execution_count": 13,
   "id": "74b07f96",
   "metadata": {
    "deletable": false,
    "editable": false,
    "nbgrader": {
     "cell_type": "code",
     "checksum": "b7e11d121628fcdf85cfe3d2b83f343a",
     "grade": false,
     "grade_id": "cell-56e05cc5a98185cc",
     "locked": true,
     "schema_version": 3,
     "solution": false,
     "task": false
    }
   },
   "outputs": [
    {
     "name": "stdout",
     "output_type": "stream",
     "text": [
      "sqrt(0.0) = 0.0\n",
      "sqrt(0.1) = 0.31622776601683794\n",
      "sqrt(0.2) = 0.4472135954999956\n",
      "sqrt(0.3) = 0.5477225575051661\n",
      "sqrt(0.4) = 0.6324555320888272\n",
      "sqrt(0.5) = 0.7071067811873449\n",
      "sqrt(0.6) = 0.7745966692414905\n",
      "sqrt(0.7) = 0.8366600265340756\n",
      "sqrt(0.8) = 0.894427190999916\n",
      "sqrt(0.9) = 0.9486832980509526\n",
      "sqrt(1.0) = 1.0\n",
      "sqrt(1.1) = 1.0488088481703692\n",
      "sqrt(1.2) = 1.0954451150509241\n",
      "sqrt(1.3) = 1.140175425099138\n",
      "sqrt(1.4) = 1.1832159566199232\n",
      "sqrt(1.5) = 1.2247448713915894\n",
      "sqrt(1.6) = 1.2649110640673549\n",
      "sqrt(1.7) = 1.3038404810405515\n",
      "sqrt(1.8) = 1.3416407864999869\n",
      "sqrt(1.9) = 1.3784048752094868\n",
      "sqrt(2.0) = 1.4142135623746899\n",
      "sqrt(2.1) = 1.4491376746236861\n",
      "sqrt(2.2) = 1.4832396974316797\n",
      "sqrt(2.3) = 1.516575088840445\n",
      "sqrt(2.4) = 1.5491933384829668\n",
      "sqrt(2.5) = 1.5811388300841895\n",
      "sqrt(2.6) = 1.6124515496597098\n",
      "sqrt(2.7) = 1.6431676725154984\n",
      "sqrt(2.8) = 1.6733200530681511\n",
      "sqrt(2.9) = 1.70293863659264\n",
      "sqrt(3.0) = 1.7320508075688772\n",
      "sqrt(3.1) = 1.760681686165901\n",
      "sqrt(3.2) = 1.788854381999832\n",
      "sqrt(3.3) = 1.816590212458495\n",
      "sqrt(3.4) = 1.8439088914585775\n",
      "sqrt(3.5) = 1.8708286933869709\n",
      "sqrt(3.6) = 1.897366596101028\n",
      "sqrt(3.7) = 1.9235384061671348\n",
      "sqrt(3.8) = 1.9493588689617933\n",
      "sqrt(3.9) = 1.9748417658131512\n",
      "sqrt(4.0) = 2.000000000000002\n",
      "sqrt(4.1) = 2.0248456731316624\n",
      "sqrt(4.2) = 2.0493901531919256\n",
      "sqrt(4.3) = 2.073644135332782\n",
      "sqrt(4.4) = 2.0976176963403192\n",
      "sqrt(4.5) = 2.1213203435596677\n",
      "sqrt(4.6) = 2.1447610589527604\n",
      "sqrt(4.7) = 2.167948338867939\n",
      "sqrt(4.8) = 2.1908902300207522\n",
      "sqrt(4.9) = 2.213594362117995\n",
      "sqrt(5.0) = 2.236067977499978\n",
      "sqrt(5.1) = 2.2583179581275132\n",
      "sqrt(5.2) = 2.28035085019866\n",
      "sqrt(5.3) = 2.302172886644806\n",
      "sqrt(5.4) = 2.323790007725197\n",
      "sqrt(5.5) = 2.3452078799127403\n",
      "sqrt(5.6) = 2.3664319132412412\n",
      "sqrt(5.7) = 2.387467277264544\n",
      "sqrt(5.8) = 2.4083189157609706\n",
      "sqrt(5.9) = 2.428991560301551\n",
      "sqrt(6.0) = 2.4494897427875517\n",
      "sqrt(6.1) = 2.4698178070513994\n",
      "sqrt(6.2) = 2.489979919605137\n",
      "sqrt(6.3) = 2.5099800796117333\n",
      "sqrt(6.4) = 2.5298221281468525\n",
      "sqrt(6.5) = 2.549509756811821\n",
      "sqrt(6.6) = 2.569046515733026\n",
      "sqrt(6.7) = 2.588435821108957\n",
      "sqrt(6.8) = 2.6076809620810595\n",
      "sqrt(6.9) = 2.6267851073127395\n",
      "sqrt(7.0) = 2.6457513110645907\n",
      "sqrt(7.1) = 2.6645825188948455\n",
      "sqrt(7.2) = 2.6832815729997477\n",
      "sqrt(7.3) = 2.701851217221259\n",
      "sqrt(7.4) = 2.720294101747089\n",
      "sqrt(7.5) = 2.7386127875258306\n",
      "sqrt(7.6) = 2.756809750418044\n",
      "sqrt(7.7) = 2.7748873851023217\n",
      "sqrt(7.8) = 2.792848008753788\n",
      "sqrt(7.9) = 2.8106938645110393\n",
      "sqrt(8.0) = 2.82842712474619\n",
      "sqrt(8.1) = 2.846049894151541\n",
      "sqrt(8.2) = 2.8635642126552705\n",
      "sqrt(8.3) = 2.880972058177587\n",
      "sqrt(8.4) = 2.898275349237888\n",
      "sqrt(8.5) = 2.9154759474226504\n",
      "sqrt(8.6) = 2.932575659723036\n",
      "sqrt(8.7) = 2.949576240750525\n",
      "sqrt(8.8) = 2.9664793948382653\n",
      "sqrt(8.9) = 2.98328677803526\n",
      "sqrt(9.0) = 3.0\n",
      "sqrt(9.1) = 3.0166206257996713\n",
      "sqrt(9.2) = 3.03315017762062\n",
      "sqrt(9.3) = 3.0495901363953815\n",
      "sqrt(9.4) = 3.065941943351178\n",
      "sqrt(9.5) = 3.0822070014844885\n",
      "sqrt(9.6) = 3.0983866769659336\n",
      "sqrt(9.7) = 3.1144823004794873\n",
      "sqrt(9.8) = 3.1304951684997055\n",
      "sqrt(9.9) = 3.1464265445104544\n",
      "sqrt(10.0) = 3.162277660168379\n"
     ]
    }
   ],
   "source": [
    "/* -- Let's test our loopy version --*/\n",
    "for (i <- 0 to 100){\n",
    "    val x = i/10.0\n",
    "    println(s\"sqrt($x) = ${sqrtLoop(x)}\" )\n",
    "}"
   ]
  },
  {
   "cell_type": "markdown",
   "id": "89d881b9",
   "metadata": {
    "deletable": false,
    "editable": false,
    "nbgrader": {
     "cell_type": "markdown",
     "checksum": "4f394d0cbd2ee3860b60d2a49171c672",
     "grade": false,
     "grade_id": "cell-edd7b59fb5610cf5",
     "locked": true,
     "schema_version": 3,
     "solution": false,
     "task": false
    }
   },
   "source": [
    "Implement a tail recursive function `sqrtRec` which takes as an argument a double precision number `s` that is assumed to be non-negative, and optional argument `epsilon` which has a default value of `1E-10`.  You may implement a tail recursive _helper_ function and call that from your `sqrtRec` function.\n",
    "\n",
    "### Restrictions\n",
    "\n",
    " - Use of any math function other than `math.abs` is disallowed. You cannot, for instance, use `math.sqrt` or `math.log`. However, you can use `math.abs` function.\n",
    " - You __cannot__ use loops (for-loops, while loops etc..), and  __no__ mutables (var).\n",
    " - You __cannot__ use return statement in your function.\n",
    " - Your functions must be tail recursive.\n",
    " - Use of any other data-structure/number API function is also disallowed.\n",
    " - If it is more convenient,  make a tail recursive function `sqrtRecHelper` and call that function from the desired `sqrtRec` function."
   ]
  },
  {
   "cell_type": "code",
   "execution_count": 14,
   "id": "57ccc84f",
   "metadata": {
    "deletable": false,
    "nbgrader": {
     "cell_type": "code",
     "checksum": "78b7fcf50ad4613ca3d3450136d7d1dd",
     "grade": false,
     "grade_id": "cell-9793083fbebd61ef",
     "locked": false,
     "schema_version": 3,
     "solution": true,
     "task": false
    }
   },
   "outputs": [
    {
     "name": "stderr",
     "output_type": "stream",
     "text": [
      "(console):4:1 expected (Dcl | TraitDef | ClsDef | ObjDef)\n",
      "???\n",
      "^"
     ]
    }
   ],
   "source": [
    "import scala.annotation.tailrec\n",
    "@tailrec\n",
    "// YOUR CODE HERE\n",
    "def sqrtRec(s: Doulbe, epsilon: Double = 1E-10): Double  = {\n",
    "\n",
    "}"
   ]
  },
  {
   "cell_type": "code",
   "execution_count": 14,
   "id": "0500bc13",
   "metadata": {
    "deletable": false,
    "editable": false,
    "nbgrader": {
     "cell_type": "code",
     "checksum": "8d565776ee7219e73c1b701426555d18",
     "grade": true,
     "grade_id": "cell-d296cb8a424fbeb2",
     "locked": true,
     "points": 15,
     "schema_version": 3,
     "solution": false,
     "task": false
    }
   },
   "outputs": [
    {
     "name": "stderr",
     "output_type": "stream",
     "text": [
      "cmd14.sc:12: not found: value sqrtRec\n",
      "    val y = sqrtRec(x, 1E-10)\n",
      "            ^\n",
      "Compilation Failed"
     ]
    }
   ],
   "source": [
    "def sqrtLoop(s: Double, epsilon: Double = 1E-10): Double = {\n",
    "    require (s >= 0.0) // This is just a fancy assert statement that expresses a precondition\n",
    "    var x:Double = s\n",
    "    while ( math.abs(x*x - s) > epsilon) {\n",
    "        x = 0.5 * (x + s/x)\n",
    "    }\n",
    "    x\n",
    "}\n",
    "\n",
    "for (i <- 0 to 100){\n",
    "    val x:Double = i.toDouble/10.0 + 0.05\n",
    "    val y = sqrtRec(x, 1E-10)\n",
    "    println(s\"Computing sqrt($x)\")\n",
    "    if ( math.abs(y * y - x) > 1E-10){\n",
    "        println(s\"Your Implementation failed for s = $x, it returned $y, the expected answer is ${sqrtLoop(x)}\" )\n",
    "        assert (false)\n",
    "    }\n",
    "}\n",
    "passed(15)"
   ]
  },
  {
   "cell_type": "markdown",
   "id": "de2e2636",
   "metadata": {
    "deletable": false,
    "editable": false,
    "nbgrader": {
     "cell_type": "markdown",
     "checksum": "2e4cab31d6b38e669b49d4389d242365",
     "grade": false,
     "grade_id": "cell-2a1e0ab7da03023d",
     "locked": true,
     "schema_version": 3,
     "solution": false,
     "task": false
    }
   },
   "source": [
    "## That's All Folks"
   ]
  }
 ],
 "metadata": {
  "kernelspec": {
   "display_name": "Scala",
   "language": "scala",
   "name": "scala"
  },
  "language_info": {
   "codemirror_mode": "text/x-scala",
   "file_extension": ".sc",
   "mimetype": "text/x-scala",
   "name": "scala",
   "nbconvert_exporter": "script",
   "version": "2.13.14"
  }
 },
 "nbformat": 4,
 "nbformat_minor": 5
}
