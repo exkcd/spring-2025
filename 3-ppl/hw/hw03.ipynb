{
 "cells": [
  {
   "cell_type": "markdown",
   "id": "67d8f366",
   "metadata": {},
   "source": [
    "Before you turn this problem in, make sure everything runs as expected. First, **restart the kernel** (in the menubar, select Kernel $\\rightarrow$ Restart) and then **run all cells** (in the menubar, select Cell $\\rightarrow$ Run All).\n",
    "\n",
    "Make sure you fill in any place that says `YOUR CODE HERE` or \"YOUR ANSWER HERE\", as well as your name and collaborators below:"
   ]
  },
  {
   "cell_type": "markdown",
   "id": "584c0d70",
   "metadata": {},
   "source": [
    "NAME = \"Rey Stone\"\n",
    "COLLABORATORS = \"\""
   ]
  },
  {
   "cell_type": "markdown",
   "id": "8eaf262a",
   "metadata": {},
   "source": [
    "---"
   ]
  },
  {
   "cell_type": "markdown",
   "id": "4f522491",
   "metadata": {
    "deletable": false,
    "editable": false,
    "nbgrader": {
     "cell_type": "markdown",
     "checksum": "c0c330e8c554835cb0a55b6a917560b1",
     "grade": false,
     "grade_id": "cell-23caf73bddab1bd2",
     "locked": true,
     "schema_version": 3,
     "solution": false,
     "task": false
    }
   },
   "source": [
    "# CSCI 3155 Spring 2025 Assignment 3 : Inductive Definitions and Case Pattern Matching.\n",
    "\n",
    "This assignment asks you to write scala programs. \n",
    "\n",
    "**Restrictions** apply to each problem in terms of forbidden Scala features and API functions. Please read them carefully and ask for clarifications from the course staff over Piazza or during office hours if unsure.\n",
    "\n",
    "Note: `???` indicates that there is a missing function or code fragment that needs to be filled in. In scala, \n",
    "it is also a macro that throws a `NotImplemented` exception. Make sure that you remove the `???` and replace it with the answer. \n",
    "\n",
    "Use the test cases provided to test them. You are also encouraged to write your own test cases to help debug your work. However, please delete any extra cells you may have created lest they break our autograder.\n",
    "\n",
    "**Very Important:** Please run the cell that defines the functions `passed` and `testWithMessage` below whenever you restart the notebook."
   ]
  },
  {
   "cell_type": "code",
   "execution_count": 1,
   "id": "11ea0f3c",
   "metadata": {
    "deletable": false,
    "editable": false,
    "nbgrader": {
     "cell_type": "code",
     "checksum": "12e190ffe3f1f675a92c892ecb55966a",
     "grade": false,
     "grade_id": "cell-aeddd2cf2ccfdd6a",
     "locked": true,
     "schema_version": 3,
     "solution": false,
     "task": false
    }
   },
   "outputs": [
    {
     "data": {
      "text/plain": [
       "defined \u001b[32mfunction\u001b[39m \u001b[36mpassed\u001b[39m\n",
       "defined \u001b[32mfunction\u001b[39m \u001b[36mtestWithMessage\u001b[39m"
      ]
     },
     "execution_count": 1,
     "metadata": {},
     "output_type": "execute_result"
    }
   ],
   "source": [
    "// TEST HELPER\n",
    "\n",
    "// FIRST RUN THIS CELL EVERY TIME YOU START THE NOTEBOOK\n",
    "def passed(points: Int) = {\n",
    "    require(points >=0)\n",
    "    if (points == 1) print(s\"\\n*** Tests Passed (1 point) ***\\n\")\n",
    "    else print(s\"\\n*** Tests Passed ($points points) ***\\n\")\n",
    "}\n",
    "\n",
    "def testWithMessage[T](v1: T, expected: T, testID: String) = { \n",
    "    println(s\"Test $testID\"); \n",
    "    println(s\"\\t Expected: $expected, your code returned: $v1\")\n",
    "    assert (v1 == expected, s\"Test $testID FAILED.\")\n",
    "    println(\"\\t Passed!\")\n",
    "}"
   ]
  },
  {
   "cell_type": "markdown",
   "id": "73edf3c3",
   "metadata": {
    "deletable": false,
    "editable": false,
    "nbgrader": {
     "cell_type": "markdown",
     "checksum": "4a0ef574b09a3d827a9d92e9a5245346",
     "grade": false,
     "grade_id": "cell-ece7acc4160733ea",
     "locked": true,
     "schema_version": 3,
     "solution": false,
     "task": false
    }
   },
   "source": [
    "## Problem 1\n",
    "\n",
    "In class, we studied the grammar of arithmetic expressions: \n",
    "\n",
    " $$ \\newcommand\\Expr{\\mathbf{Expr}}\n",
    "\\begin{array}{rcll}\n",
    "\\Expr & \\Rightarrow & \\textit{Const}(\\mathbf{Double}) & \\leftarrow\\ \\text{Scala's in-built double precision type}.\\\\\n",
    "& |& \\textit{Var}(\\mathbf{String}) & \\leftarrow\\ \\text{Variable} \\\\ \n",
    "& |  & \\textit{Plus}(\\Expr, \\Expr) & \\leftarrow\\ \\text{sum of two expressions} \\\\ \n",
    "& |  & \\textit{Diff}(\\Expr, \\Expr) & \\leftarrow\\ \\text{difference}\\\\\n",
    "& |  & \\textit{Mult}(\\Expr, \\Expr) & \\leftarrow\\ \\text{product}\\\\\n",
    "& | & \\textit{Div}(\\Expr, \\Expr) & \\leftarrow\\ \\text{division}\\\\\n",
    "\\end{array} $$ \n",
    "\n",
    "## Part A (5 points)\n",
    "\n",
    "Write down an inductive definition of the grammar above in Scala. Please do not change the names of the constructors (non-terminals) The name of the sealed trait you define should be `Expr`.  Use the inbuilt types `String` and `Double` in Scala corresponding to their non-terminal symbol in the grammar above.\n"
   ]
  },
  {
   "cell_type": "code",
   "execution_count": 4,
   "id": "b8cc0c24",
   "metadata": {
    "deletable": false,
    "nbgrader": {
     "cell_type": "code",
     "checksum": "95dbe5d8419f9279352e5fbc3e5a82c6",
     "grade": false,
     "grade_id": "cell-d1659bc5ad17ffb6",
     "locked": false,
     "schema_version": 3,
     "solution": true,
     "task": false
    }
   },
   "outputs": [
    {
     "data": {
      "text/plain": [
       "defined \u001b[32mtrait\u001b[39m \u001b[36mExpr\u001b[39m\n",
       "defined \u001b[32mclass\u001b[39m \u001b[36mConst\u001b[39m\n",
       "defined \u001b[32mclass\u001b[39m \u001b[36mVar\u001b[39m\n",
       "defined \u001b[32mclass\u001b[39m \u001b[36mPlus\u001b[39m\n",
       "defined \u001b[32mclass\u001b[39m \u001b[36mDiff\u001b[39m\n",
       "defined \u001b[32mclass\u001b[39m \u001b[36mMult\u001b[39m\n",
       "defined \u001b[32mclass\u001b[39m \u001b[36mDiv\u001b[39m"
      ]
     },
     "execution_count": 4,
     "metadata": {},
     "output_type": "execute_result"
    }
   ],
   "source": [
    "// YOUR CODE HERE\n",
    "sealed trait Expr\n",
    "\n",
    "case class Const(n: Double) extends Expr\n",
    "case class Var(n: String) extends Expr\n",
    "case class Plus(n1: Expr, n2: Expr) extends Expr\n",
    "case class Diff(n1: Expr, n2: Expr) extends Expr\n",
    "case class Mult(n1: Expr, n2: Expr) extends Expr\n",
    "case class Div(n1: Expr, n2: Expr) extends Expr"
   ]
  },
  {
   "cell_type": "code",
   "execution_count": 5,
   "id": "83d09e8f",
   "metadata": {
    "deletable": false,
    "editable": false,
    "nbgrader": {
     "cell_type": "code",
     "checksum": "5870f0d4961b0419e708aff1b96e6a5e",
     "grade": true,
     "grade_id": "cell-ff1166c66661cf18",
     "locked": true,
     "points": 5,
     "schema_version": 3,
     "solution": false,
     "task": false
    }
   },
   "outputs": [
    {
     "name": "stdout",
     "output_type": "stream",
     "text": [
      "\n",
      "*** Tests Passed (5 points) ***\n"
     ]
    },
    {
     "data": {
      "text/plain": [
       "\u001b[36mx\u001b[39m: \u001b[32mExpr\u001b[39m = \u001b[33mVar\u001b[39m(n = \u001b[32m\"x\"\u001b[39m)\n",
       "\u001b[36my\u001b[39m: \u001b[32mExpr\u001b[39m = \u001b[33mVar\u001b[39m(n = \u001b[32m\"y\"\u001b[39m)\n",
       "\u001b[36mz\u001b[39m: \u001b[32mExpr\u001b[39m = \u001b[33mVar\u001b[39m(n = \u001b[32m\"z\"\u001b[39m)\n",
       "\u001b[36me1\u001b[39m: \u001b[32mExpr\u001b[39m = \u001b[33mConst\u001b[39m(n = \u001b[32m5.0\u001b[39m)\n",
       "\u001b[36me2\u001b[39m: \u001b[32mExpr\u001b[39m = \u001b[33mPlus\u001b[39m(n1 = \u001b[33mConst\u001b[39m(n = \u001b[32m5.0\u001b[39m), n2 = \u001b[33mVar\u001b[39m(n = \u001b[32m\"x\"\u001b[39m))\n",
       "\u001b[36me3\u001b[39m: \u001b[32mExpr\u001b[39m = \u001b[33mDiff\u001b[39m(\n",
       "  n1 = \u001b[33mVar\u001b[39m(n = \u001b[32m\"x\"\u001b[39m),\n",
       "  n2 = \u001b[33mPlus\u001b[39m(n1 = \u001b[33mConst\u001b[39m(n = \u001b[32m5.0\u001b[39m), n2 = \u001b[33mVar\u001b[39m(n = \u001b[32m\"z\"\u001b[39m))\n",
       ")\n",
       "\u001b[36me4\u001b[39m: \u001b[32mExpr\u001b[39m = \u001b[33mDiv\u001b[39m(\n",
       "  n1 = \u001b[33mPlus\u001b[39m(n1 = \u001b[33mMult\u001b[39m(n1 = \u001b[33mVar\u001b[39m(n = \u001b[32m\"x\"\u001b[39m), n2 = \u001b[33mVar\u001b[39m(n = \u001b[32m\"z\"\u001b[39m)), n2 = \u001b[33mVar\u001b[39m(n = \u001b[32m\"y\"\u001b[39m)),\n",
       "  n2 = \u001b[33mConst\u001b[39m(n = \u001b[32m4.5\u001b[39m)\n",
       ")"
      ]
     },
     "execution_count": 5,
     "metadata": {},
     "output_type": "execute_result"
    }
   ],
   "source": [
    "//BEGIN TESTS\n",
    "val x:Expr = Var(\"x\")\n",
    "val y:Expr = Var(\"y\")\n",
    "val z:Expr = Var(\"z\")\n",
    "val e1:Expr = Const(5.0)\n",
    "val e2:Expr = Plus(Const(5.0), x)\n",
    "val e3:Expr = Diff(x, Plus(Const(5.0), z))\n",
    "val e4:Expr = Div(Plus(Mult(x, z), y), Const(4.5))\n",
    "passed(5)\n",
    "//END TESTS"
   ]
  },
  {
   "cell_type": "markdown",
   "id": "da8c544d",
   "metadata": {
    "deletable": false,
    "editable": false,
    "nbgrader": {
     "cell_type": "markdown",
     "checksum": "b562ccfb4453e84c8adff71aea777efa",
     "grade": false,
     "grade_id": "cell-0219c870a4690e3d",
     "locked": true,
     "schema_version": 3,
     "solution": false,
     "task": false
    }
   },
   "source": [
    "## Problem 1B (10 points)\n",
    "\n",
    "Write a program to convert the expression `Expr` defined above into a `String` in the so-called _prefix notation_ (PN). The PN is a way of expressing arithmetic expressions where the operator comes first. Here are some examples:\n",
    "\n",
    "~~~\n",
    "(6 + x ) - (y / z)  ==> (- (+ 6 x) (/ y z ))\n",
    "~~~\n",
    "\n",
    "~~~\n",
    "(15 - x) + (45 * z) - w ==> (- (+ (- 15 x) (* 45 z)) w)\n",
    "~~~\n",
    "\n",
    "In order to carry out the conversion systematically please follow the rules specified below.\n",
    "\n",
    " - An expression of the form `Const(d)` --> simply convert the number `d` to a string.\n",
    " - An expression of the form `Var(x)` --> simply use the variable name `x`.\n",
    " - An expression of the form `Plus(e1, e2)` --> convert `e1` and `e2` recursively into strings `s1` and `s2` respectively. Then output the string `(+ s1 s2)` : we will ignore whitespaces during testing.\n",
    " - An expression of the form `Diff(e1, e2)` --> convert `e1` and `e2` recursively into strings `s1` and `s2` respectively. Then output the string `(- s1 s2)`.\n",
    " - An expression of the form `Mult(e1, e2)` --> convert `e1` and `e2` recursively into strings `s1` and `s2` respectively. Then output the string `(* s1 s2)`.\n",
    " - An expression of the form `Div(e1, e2)` --> convert `e1` and `e2` recursively into strings `s1` and `s2` respectively. Then output the string `(/ s1 s2)`.\n",
    " \n",
    " \n",
    " \n",
    "\n"
   ]
  },
  {
   "cell_type": "code",
   "execution_count": null,
   "id": "5ddfe72a",
   "metadata": {
    "deletable": false,
    "nbgrader": {
     "cell_type": "code",
     "checksum": "a484fcc9346c2d29a4abe575475ad460",
     "grade": false,
     "grade_id": "cell-1f8035faa2440711",
     "locked": false,
     "schema_version": 3,
     "solution": true,
     "task": false
    }
   },
   "outputs": [],
   "source": [
    "def pnConvert(e: Expr): String = \n",
    "// YOUR CODE HERE\n",
    "???\n"
   ]
  },
  {
   "cell_type": "code",
   "execution_count": null,
   "id": "64fc672b",
   "metadata": {
    "deletable": false,
    "editable": false,
    "nbgrader": {
     "cell_type": "code",
     "checksum": "37dae2940ce6b64724b05e102fa7c0d1",
     "grade": true,
     "grade_id": "cell-8e8c3a4afc6890ae",
     "locked": true,
     "points": 10,
     "schema_version": 3,
     "solution": false,
     "task": false
    }
   },
   "outputs": [],
   "source": [
    "val x = Var(\"x\")\n",
    "val y = Var(\"y\")\n",
    "val z = Var(\"z\")\n",
    "val e1 = Const(5.0)\n",
    "val e2 = Plus(Const(5.0), x)\n",
    "val e3 = Diff(x, Plus(Const(5.0), z))\n",
    "val e4 = Diff(Div(Plus(Mult(x, z), y), Const(4.5)), Mult(Const(2.0), x))\n",
    "\n",
    "val x_expected=\"x\"\n",
    "val x_answer = pnConvert(x).filterNot(_.isWhitespace)\n",
    "testWithMessage( x_answer,x_expected, \"#0\")\n",
    "\n",
    "val e1_expected = \"5.0\"\n",
    "val e1_answer = pnConvert(e1).filterNot(_.isWhitespace) // Remove white spaces to facilitate comparisons\n",
    "testWithMessage(e1_answer, e1_expected,  \"#1\")\n",
    "\n",
    "val e2_expected = \"(+ 5.0 x)\".filterNot(_.isWhitespace)\n",
    "val e2_answer = pnConvert(e2).filterNot(_.isWhitespace)\n",
    "testWithMessage(e2_answer, e2_expected, \"#2\")\n",
    "\n",
    "val e3_expected = \"(- x (+ 5.0 z))\".filterNot(_.isWhitespace)\n",
    "val e3_answer = pnConvert(e3).filterNot(_.isWhitespace)\n",
    "testWithMessage(e3_answer, e3_expected,  \"#3\")\n",
    "\n",
    "val e4_expected = \"(- (/ (+ (* x z) y) 4.5) (* 2.0 x))\".filterNot(_.isWhitespace)\n",
    "val e4_answer = pnConvert(e4).filterNot(_.isWhitespace)\n",
    "testWithMessage(e4_answer, e4_expected,  \"#4\")\n",
    "\n",
    "passed(10)"
   ]
  },
  {
   "cell_type": "markdown",
   "id": "ee6b4750",
   "metadata": {
    "deletable": false,
    "editable": false,
    "nbgrader": {
     "cell_type": "markdown",
     "checksum": "cd792c43f06b49de023f46a3a42078cd",
     "grade": false,
     "grade_id": "cell-a1dc1471e858f84a",
     "locked": true,
     "schema_version": 3,
     "solution": false,
     "task": false
    }
   },
   "source": [
    "## Problem 2 \n",
    "\n",
    "In this problem, we will study the grammar of boolean formulas shown below. \n",
    "\n",
    "$$\\begin{array}{rcll}\n",
    "\\mathbf{BExpr} & ::= & \\mathit{Variable}( \\mathbf{String} ) & \\text{ A boolean literal} \\\\ \n",
    "& |  & \\mathit{Not} ( \\mathbf{BExpr} ) & \\text{ Negation} \\\\ \n",
    "& |  & \\mathit{And} ( \\mathbf{BExpr}, \\mathbf{BExpr} ) & \\text{ Conjunction}\\\\ \n",
    "&|  & \\mathit{Or} ( \\mathbf{BExpr}, \\mathbf{BExpr} ) & \\text{ Disjunction}\\\\ \n",
    "%& | & \\mathit{Apply} (\\mathbf{Term}, \\mathbf{Term} ) & \\text{ apply one combinator term to another combinator term}\\\\ \n",
    "\\end{array}$$\n",
    "\n",
    "In this grammar, the boolean formula $(A \\wedge \\neg B) ~\\vee~ (B \\wedge \\neg A)$ is written as:\n",
    "```\n",
    "Or(And(Variable(\"A\"),Not(Variable(\"B\"))), And(Variable(\"B\"),Not(Variable(\"A\"))))\n",
    "```\n",
    "\n",
    "### Part A: 5 points\n",
    "Write down an inductive definition of the above grammar in Scala. Please do not change the names of the constructors (non-terminals). Use the Scala inbuilt type `String` for non-terminal symbol $\\mathbf{String}$ in the grammar above.\n",
    "\n",
    "\n"
   ]
  },
  {
   "cell_type": "code",
   "execution_count": null,
   "id": "e5a8b64a",
   "metadata": {
    "deletable": false,
    "nbgrader": {
     "cell_type": "code",
     "checksum": "c8f3b9f25e8368a1edba82e7dacd4e9e",
     "grade": false,
     "grade_id": "cell-6813d83b6b2177c7",
     "locked": false,
     "schema_version": 3,
     "solution": true,
     "task": false
    }
   },
   "outputs": [],
   "source": [
    "// YOUR CODE HERE\n",
    "???"
   ]
  },
  {
   "cell_type": "code",
   "execution_count": null,
   "id": "37da9c3f",
   "metadata": {
    "deletable": false,
    "editable": false,
    "nbgrader": {
     "cell_type": "code",
     "checksum": "490389e4ca0f35fe6ec124d1d619137e",
     "grade": true,
     "grade_id": "cell-8687780755334866",
     "locked": true,
     "points": 5,
     "schema_version": 3,
     "solution": false,
     "task": false
    }
   },
   "outputs": [],
   "source": [
    "//BEGIN TESTS\n",
    "val a:BExpr = Variable(\"A\")\n",
    "val b:BExpr = Variable(\"B\")\n",
    "val c:BExpr = Variable(\"C\")\n",
    "val not_b:BExpr = Not(b)\n",
    "val not_a:BExpr = Not(a)\n",
    "val e1:BExpr = And(a,not_b)\n",
    "val e2:BExpr = And(b, not_a)\n",
    "val e3:BExpr = Or(e1,e2)\n",
    "passed(5)\n",
    "//END TESTS"
   ]
  },
  {
   "cell_type": "markdown",
   "id": "b5f7f84a",
   "metadata": {
    "deletable": false,
    "editable": false,
    "nbgrader": {
     "cell_type": "markdown",
     "checksum": "650b3bc5554e7406edf5415795ad7cdf",
     "grade": false,
     "grade_id": "cell-0926a86277bf68f4",
     "locked": true,
     "schema_version": 3,
     "solution": false,
     "task": false
    }
   },
   "source": [
    "### Part B: 10 points\n",
    "\n",
    "Write a function `nnf` to convert boolean formulas from the above grammar to their Negation Normal Form ([NNF](https://en.wikipedia.org/wiki/Negation_normal_form)). A boolean formula is said to be in NNF iff negation operator ($\\neg$ or `Not`) is only applied to the variables. For example, the following formula is in NNF because negation is only applied to $A$ or $B$, both of which are literals:\n",
    "\n",
    "$$(A \\wedge \\neg B) ~\\vee~ (B \\wedge \\neg A)$$\n",
    "\n",
    "On the other hand, the following formula is not in NNF as negation is applied to an complex expression $A \\vee B$:\n",
    "\n",
    "$$\\neg(A \\vee B) ~\\wedge~ (\\neg B \\vee C)$$\n",
    "\n",
    "The negation normal form of the above formula is $(\\neg A \\wedge \\neg B) \\wedge (\\neg B \\vee C)$. In general, a formula can be converted to NNF by applying three rules:\n",
    "* Rule 1: Double negation is cancelled, i.e.,  $\\neg(\\neg e) \\;=\\; e$ for any boolean formula $e$.\n",
    "* Rule 2: De Morgan's Law for conjunction: $\\neg (e_1 \\wedge e_2) \\;=\\; \\neg e_1 \\vee \\neg e_2$, for any two boolean formulas $e_1$ and $e_2$. \n",
    "* Rule 3: De Morgan's Law for disjunction: $\\neg (e_1 \\vee e_2) \\;=\\; \\neg e_1 \\wedge \\neg e_2$, for any two boolean formulas $e_1$ and $e_2$. \n",
    "\n",
    "The `nnf` function will have a case for each of the above rule. In addition, the function also need to handle the following cases:\n",
    "* A variable $A$ is already in NNF\n",
    "* $e_1 \\wedge e_2$ is in NNF iff $e_1$ and $e_2$ are already in NNF\n",
    "* $e_1 \\vee e_2$ is in NNF iff $e_1$ and $e_2$ are already in NNF\n",
    "* $\\neg e$ is in NNF iff $e$ is in NNF and none of the above 3 rules apply.\n",
    "\n",
    "If you handle all the 7 cases described above, then your `nnf` function will likely be correct (it should pass the test cases, ofcourse). "
   ]
  },
  {
   "cell_type": "code",
   "execution_count": null,
   "id": "29a6f507",
   "metadata": {
    "deletable": false,
    "nbgrader": {
     "cell_type": "code",
     "checksum": "82fccc066394a9a47ade608eb336715c",
     "grade": false,
     "grade_id": "cell-9163c3aa8cc0c15b",
     "locked": false,
     "schema_version": 3,
     "solution": true,
     "task": false
    }
   },
   "outputs": [],
   "source": [
    "def nnf(e: BExpr): BExpr = e match {\n",
    "  // Hint: 7 cases\n",
    "  // YOUR CODE HERE\n",
    "  ???\n",
    "}\n"
   ]
  },
  {
   "cell_type": "code",
   "execution_count": null,
   "id": "78070928",
   "metadata": {
    "deletable": false,
    "editable": false,
    "nbgrader": {
     "cell_type": "code",
     "checksum": "15aa4403a02d86622b22777c2c71928b",
     "grade": true,
     "grade_id": "cell-0fc855e9797d73db",
     "locked": true,
     "points": 10,
     "schema_version": 3,
     "solution": false,
     "task": false
    }
   },
   "outputs": [],
   "source": [
    "val testcase1 = Variable(\"A\")\n",
    "val testcase2 = Not(Not(Variable(\"B\")))\n",
    "val testcase3 = And(Variable(\"A\"), Or(Variable(\"B\"), Variable(\"C\")))\n",
    "val testcase4 = Or(Variable(\"A\"), And(Variable(\"B\"), Variable(\"C\")))\n",
    "val testcase5 = Not(And(Variable(\"A\"), Variable(\"B\")))\n",
    "val testcase6 = Not(Or(Variable(\"A\"), Variable(\"B\")))\n",
    "val testcase7 = Or(And(testcase5,testcase6),testcase2)\n",
    "\n",
    "testWithMessage(nnf(testcase1), Variable(\"A\"), \"Test Case 1\")\n",
    "testWithMessage(nnf(testcase2), Variable(\"B\"), \"Test Case 2\")\n",
    "testWithMessage(nnf(testcase3), And(Variable(\"A\"), Or(Variable(\"B\"), Variable(\"C\"))), \"Test Case 3\")\n",
    "testWithMessage(nnf(testcase4), Or(Variable(\"A\"), And(Variable(\"B\"), Variable(\"C\"))), \"Test Case 4\")\n",
    "testWithMessage(nnf(testcase5), Or(Not(Variable(\"A\")), Not(Variable(\"B\"))), \"Test Case 5\")\n",
    "testWithMessage(nnf(testcase6), And(Not(Variable(\"A\")), Not(Variable(\"B\"))), \"Test Case 6\" )\n",
    "testWithMessage(nnf(testcase7), Or(And(Or(Not(Variable(\"A\")), Not(Variable(\"B\"))), And(Not(Variable(\"A\")), Not(Variable(\"B\")))), Variable(\"B\")),\"Test Case 7\")\n",
    "passed(10)"
   ]
  },
  {
   "cell_type": "markdown",
   "id": "55afa162",
   "metadata": {
    "deletable": false,
    "editable": false,
    "nbgrader": {
     "cell_type": "markdown",
     "checksum": "84c9cb963dd7cb303b32f5a80d4efb40",
     "grade": false,
     "grade_id": "cell-d84953926facc712",
     "locked": true,
     "schema_version": 3,
     "solution": false,
     "task": false
    }
   },
   "source": [
    "### Part C: 5 points\n",
    "\n",
    "Write a function `subst` that substitutes one variable for other in a boolean formula. For example, substituting $D$ for $B$ in $\\neg(A \\vee B) ~\\wedge~ (\\neg B \\vee C)$ should result in the formula $\\neg(A \\vee D) ~\\wedge~ (\\neg D \\vee C)$. "
   ]
  },
  {
   "cell_type": "code",
   "execution_count": null,
   "id": "fb909535",
   "metadata": {
    "deletable": false,
    "nbgrader": {
     "cell_type": "code",
     "checksum": "e46f599791cccd522b10b6504692f07f",
     "grade": false,
     "grade_id": "cell-e2f4e8b1198ab2b4",
     "locked": false,
     "schema_version": 3,
     "solution": true,
     "task": false
    }
   },
   "outputs": [],
   "source": [
    "def subst(e: BExpr, old: String, nue: String): BExpr = {// using \"nue\" because \"new\" is a keyword!\n",
    "    // YOUR CODE HERE\n",
    "    ???\n",
    "}"
   ]
  },
  {
   "cell_type": "code",
   "execution_count": null,
   "id": "a2da729a",
   "metadata": {
    "deletable": false,
    "editable": false,
    "nbgrader": {
     "cell_type": "code",
     "checksum": "e515079afcb72d36ce0aeccb57b53a0c",
     "grade": true,
     "grade_id": "cell-79331829f1eea5a6",
     "locked": true,
     "points": 5,
     "schema_version": 3,
     "solution": false,
     "task": false
    }
   },
   "outputs": [],
   "source": [
    "val testcase1 = Variable(\"A\")\n",
    "val testcase2 = Not(Variable(\"B\"))\n",
    "val testcase3 = Or(Variable(\"A\"), Variable(\"B\"))\n",
    "val testcase4 = And(Not(Variable(\"C\")), Or(Variable(\"D\"), Variable(\"E\")))\n",
    "val testcase5 = Or(And(Variable(\"X\"), Variable(\"Y\")), Or(Variable(\"Z\"), Variable(\"X\")))\n",
    "\n",
    "testWithMessage(subst(testcase1, \"A\", \"X\"), Variable(\"X\"), \"Test Case 1\")\n",
    "testWithMessage(subst(testcase2, \"B\", \"Y\"), Not(Variable(\"Y\")), \"Test Case 2\")\n",
    "testWithMessage(subst(testcase3, \"A\", \"C\"), Or(Variable(\"C\"), Variable(\"B\")), \"Test Case 3\")\n",
    "testWithMessage(subst(testcase4, \"E\", \"F\"), And(Not(Variable(\"C\")), Or(Variable(\"D\"), Variable(\"F\"))), \"Test Case 4\")\n",
    "testWithMessage(subst(testcase5, \"X\", \"W\"), Or(And(Variable(\"W\"), Variable(\"Y\")), Or(Variable(\"Z\"), Variable(\"W\"))), \"Test Case 5\")\n",
    "passed(5)"
   ]
  },
  {
   "cell_type": "markdown",
   "id": "f4201e0a",
   "metadata": {
    "deletable": false,
    "editable": false,
    "nbgrader": {
     "cell_type": "markdown",
     "checksum": "1f5493a7dde88128b25902696d7c3056",
     "grade": false,
     "grade_id": "cell-1da17fff652c6b88",
     "locked": true,
     "schema_version": 3,
     "solution": false,
     "task": false
    }
   },
   "source": [
    "## Problem 3\n",
    "\n",
    "In class, we introduced you to the inductive definition of __NatList__. In this problem, we work with __IntList__ (lists with integers in them).\n",
    "\n",
    "$$\n",
    "\\newcommand{\\nt}[1]{\\mathbf{#1}}\n",
    "\\newcommand{\\term}[1]{\\mathit{#1}}\n",
    "$$\n",
    "\n",
    "$$\\begin{array}{rcl}\n",
    "\\nt{IntList} & \\Rightarrow & \\term{Nil} \\\\\n",
    "& | & \\term{Cons}(\\nt{Integer}, \\term{IntList}) \\\\\n",
    "\\end{array}$$\n",
    "\n",
    "Suppose we extend the grammar by adding two additional rules to the ones already shown above.\n",
    "$$\\begin{array}{rcl}\n",
    "\\nt{IntList} & \\Rightarrow & \\term{Cat}(\\nt{IntList}, \\nt{IntList}) \\\\\n",
    "& | & \\term{Snoc}(\\nt{IntList}, \\nt{Integer}) \\\\\n",
    "\\end{array}$$\n",
    "Here _Cat_ models the concatenation of two __IntList__ and\n",
    "_Snoc_ models the appending of an element to the end of a __IntList__ (as opposed to _Cons_ that appends to the beginning).\n",
    "\n",
    "\n",
    "### 3 A (5 points) \n",
    "Implement the Scala inductive definition of the type __IntList__ following the four grammar rules provided above. Ensure that the non-terminal __Integer__ is mapped to the Scala type $\\mathsf{Int}$. Use `case object` to define `Nil` constructor rather than `case class` as it doesn't need any arguments (See [this stackoverflow answer](https://stackoverflow.com/a/32078685) to understand the difference between both). "
   ]
  },
  {
   "cell_type": "code",
   "execution_count": null,
   "id": "5542e176",
   "metadata": {
    "deletable": false,
    "nbgrader": {
     "cell_type": "code",
     "checksum": "12c414d548fca6fa1684f5551fb5ad86",
     "grade": false,
     "grade_id": "cell-8b2a3993c4623861",
     "locked": false,
     "schema_version": 3,
     "solution": true,
     "task": false
    }
   },
   "outputs": [],
   "source": [
    "// YOUR CODE HERE\n",
    "???"
   ]
  },
  {
   "cell_type": "code",
   "execution_count": null,
   "id": "3e37f1bd",
   "metadata": {
    "deletable": false,
    "editable": false,
    "nbgrader": {
     "cell_type": "code",
     "checksum": "bb99261c108b6df3d45248e33e729b08",
     "grade": true,
     "grade_id": "cell-10401c115fcd5287",
     "locked": true,
     "points": 5,
     "schema_version": 3,
     "solution": false,
     "task": false
    }
   },
   "outputs": [],
   "source": [
    "val l1:IntList = Nil //If `Nil` is defined a case object, then it shouldn't require parenthesis\n",
    "val l2:IntList = Cons(2, Cons(3, l1))\n",
    "val l3:IntList = Cons(1, Cons(2, l2))\n",
    "val l4:IntList = Cat(l2, l3)\n",
    "val l5:IntList = Cons(3, Cat(l2, l3))\n",
    "val l6:IntList = Cons(5, Snoc(l5, 4))\n",
    "val l7:IntList = Cons(6, Cat(l6, Nil))\n",
    "passed(5)"
   ]
  },
  {
   "cell_type": "markdown",
   "id": "b2053ade",
   "metadata": {
    "deletable": false,
    "editable": false,
    "nbgrader": {
     "cell_type": "markdown",
     "checksum": "8f49cb665cdc4024a12311da9178450c",
     "grade": false,
     "grade_id": "cell-80a52a37a2da4f0f",
     "locked": true,
     "schema_version": 3,
     "solution": false,
     "task": false
    }
   },
   "source": [
    "### 3 B (10 points) \n",
    "\n",
    "Write a function `scala_list_of_intlist` that takes an input of type `IntList` (defined above) and returns the corresponding scala list of type `List[Int]`.\n",
    "\n",
    "#### Example\n",
    "\n",
    "Input: \n",
    "\n",
    "~~~\n",
    " Cat(\n",
    "  Cons(2, Cons(3, Nil)),\n",
    "  Cons(1, Cons(2, Cons(2, Cons(3, Nil))))\n",
    ")\n",
    "~~~\n",
    "\n",
    "Output: `List(2, 3, 1, 2, 2, 3)`\n",
    "\n",
    "#### Restrictions\n",
    "\n",
    "- No loops, var or return.\n",
    "- List operations `::`, `++` and `:+` are allowed, and use of list API functions are allowed as well.\n"
   ]
  },
  {
   "cell_type": "code",
   "execution_count": null,
   "id": "468772ef",
   "metadata": {
    "deletable": false,
    "nbgrader": {
     "cell_type": "code",
     "checksum": "fddceb1ede3969d41ad84a49079dcd32",
     "grade": false,
     "grade_id": "cell-d62cd672a331c23f",
     "locked": false,
     "schema_version": 3,
     "solution": true,
     "task": false
    }
   },
   "outputs": [],
   "source": [
    "// YOUR CODE HERE\n",
    "???"
   ]
  },
  {
   "cell_type": "code",
   "execution_count": null,
   "id": "971ba8d9",
   "metadata": {
    "deletable": false,
    "editable": false,
    "nbgrader": {
     "cell_type": "code",
     "checksum": "a443ef4365407a0080f0b53844fb193d",
     "grade": true,
     "grade_id": "cell-34bcbbcc3ce0addc",
     "locked": true,
     "points": 3,
     "schema_version": 3,
     "solution": false,
     "task": false
    }
   },
   "outputs": [],
   "source": [
    "val l1 = Cat(\n",
    "  Cons(2, Cons(3, Nil)),\n",
    "  Cons(1, Cons(2, Cons(2, Cons(3, Nil))))\n",
    ")\n",
    "\n",
    "testWithMessage(scala_list_of_intlist(l1), List(2, 3, 1, 2, 2, 3), \"#1\")\n",
    "passed(3)"
   ]
  },
  {
   "cell_type": "code",
   "execution_count": null,
   "id": "d9b5e75c",
   "metadata": {
    "deletable": false,
    "editable": false,
    "nbgrader": {
     "cell_type": "code",
     "checksum": "f67daa824bcd18375521b49c987eb07e",
     "grade": true,
     "grade_id": "cell-e91b81fa277e2d22",
     "locked": true,
     "points": 1,
     "schema_version": 3,
     "solution": false,
     "task": false
    }
   },
   "outputs": [],
   "source": [
    "val l2 = Nil\n",
    "testWithMessage(scala_list_of_intlist(l2), List(), \"#2\")\n",
    "passed(1)"
   ]
  },
  {
   "cell_type": "code",
   "execution_count": null,
   "id": "debe087c",
   "metadata": {
    "deletable": false,
    "editable": false,
    "nbgrader": {
     "cell_type": "code",
     "checksum": "47107150146102cce1d25fbf4ddcde5e",
     "grade": true,
     "grade_id": "cell-e7c4b79aa26999eb",
     "locked": true,
     "points": 3,
     "schema_version": 3,
     "solution": false,
     "task": false
    }
   },
   "outputs": [],
   "source": [
    "val l6 = Cons(\n",
    "  5,\n",
    "  Snoc(\n",
    "    Cons(\n",
    "      3,\n",
    "      Cat(\n",
    "        Cons(2, Cons(3, Nil)),\n",
    "        Cons(1, Cons(2, Cons(2, Cons(3, Nil))))\n",
    "      )\n",
    "    ),\n",
    "    4\n",
    "  )\n",
    ")\n",
    "testWithMessage(scala_list_of_intlist(l6), List(5, 3, 2, 3, 1, 2, 2, 3, 4), \"#2\")\n",
    "passed(3)"
   ]
  },
  {
   "cell_type": "code",
   "execution_count": null,
   "id": "96cc9c03",
   "metadata": {
    "deletable": false,
    "editable": false,
    "nbgrader": {
     "cell_type": "code",
     "checksum": "6698a1f93d3a00f51459a3f5fa4c786b",
     "grade": true,
     "grade_id": "cell-396db004ea367ee7",
     "locked": true,
     "points": 3,
     "schema_version": 3,
     "solution": false,
     "task": false
    }
   },
   "outputs": [],
   "source": [
    "val l7 =  Cons(\n",
    "  6,\n",
    "  Cat(\n",
    "    Cons(\n",
    "      5,\n",
    "      Snoc(\n",
    "        Cons(\n",
    "          3,\n",
    "          Cat(\n",
    "            Cons(2, Cons(3, Nil)),\n",
    "            Cons(1, Cons(2, Cons(3, Cons(-1, Nil))))\n",
    "          )\n",
    "        ),\n",
    "        -4\n",
    "      )\n",
    "    ),\n",
    "    Nil\n",
    "  )\n",
    ")\n",
    "\n",
    "testWithMessage(scala_list_of_intlist(l7), List(6, 5, 3, 2, 3, 1, 2, 3, -1, -4), \"#2\")\n",
    "passed(3)"
   ]
  },
  {
   "cell_type": "markdown",
   "id": "c3ce6e62",
   "metadata": {
    "deletable": false,
    "editable": false,
    "nbgrader": {
     "cell_type": "markdown",
     "checksum": "9bc78aeb0199afe833536db732da4150",
     "grade": false,
     "grade_id": "cell-e4f30ce3a640e50d",
     "locked": true,
     "schema_version": 3,
     "solution": false,
     "task": false
    }
   },
   "source": [
    "## That's All Folks!"
   ]
  }
 ],
 "metadata": {
  "kernelspec": {
   "display_name": "Scala",
   "language": "scala",
   "name": "scala"
  },
  "language_info": {
   "codemirror_mode": "text/x-scala",
   "file_extension": ".sc",
   "mimetype": "text/x-scala",
   "name": "scala",
   "nbconvert_exporter": "script",
   "version": "2.13.14"
  }
 },
 "nbformat": 4,
 "nbformat_minor": 5
}
