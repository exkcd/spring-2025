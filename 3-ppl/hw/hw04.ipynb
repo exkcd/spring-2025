{
 "cells": [
  {
   "cell_type": "markdown",
   "id": "d942a871",
   "metadata": {},
   "source": [
    "Before you turn this problem in, make sure everything runs as expected. First, **restart the kernel** (in the menubar, select Kernel$\\rightarrow$Restart) and then **run all cells** (in the menubar, select Cell$\\rightarrow$Run All).\n",
    "\n",
    "Make sure you fill in any place that says `YOUR CODE HERE` or \"YOUR ANSWER HERE\", as well as your name and collaborators below:"
   ]
  },
  {
   "cell_type": "markdown",
   "id": "591c97c5",
   "metadata": {},
   "source": [
    "NAME = \"Rey Stone\"\n",
    "COLLABORATORS = \"Mara Backsen\""
   ]
  },
  {
   "cell_type": "markdown",
   "id": "9f177356",
   "metadata": {},
   "source": [
    "---"
   ]
  },
  {
   "cell_type": "markdown",
   "id": "5dee8741",
   "metadata": {
    "deletable": false,
    "editable": false,
    "nbgrader": {
     "cell_type": "markdown",
     "checksum": "f3e573a2d7c8f9f17ce9fa25ba4f6998",
     "grade": false,
     "grade_id": "cell-acfad365fca0e57b",
     "locked": true,
     "schema_version": 3,
     "solution": false,
     "task": false
    }
   },
   "source": [
    "# CSCI 3155 Spring 2025 Assignment 4 : Semantics\n",
    "\n",
    "This assignment asks you to write scala programs. \n",
    "\n",
    "**Restrictions** apply to each problem in terms of forbidden Scala features and API functions. Please read them carefully and ask for clarifications from the course staff over Piazza or during office hours if unsure.\n",
    "\n",
    "Note: `???` indicates that there is a missing function or code fragment that needs to be filled in. In scala, \n",
    "it is also a macro that throws a `NotImplemented` exception. Make sure that you remove the `???` and replace it with the answer. \n",
    "\n",
    "Use the test cases provided to test them. You are also encouraged to write your own test cases to help debug your work. However, please delete any extra cells you may have created lest they break our autograder.\n",
    "\n",
    "**Very Important:** Please run the cell that defines the functions `passed` and `testWithMessage` below whenever you restart the notebook."
   ]
  },
  {
   "cell_type": "code",
   "execution_count": 1,
   "id": "0d648ed7",
   "metadata": {},
   "outputs": [
    {
     "data": {
      "text/plain": [
       "defined \u001b[32mfunction\u001b[39m \u001b[36mpassed\u001b[39m\n",
       "defined \u001b[32mfunction\u001b[39m \u001b[36mtestWithMessage\u001b[39m"
      ]
     },
     "execution_count": 1,
     "metadata": {},
     "output_type": "execute_result"
    }
   ],
   "source": [
    "// TEST HELPER\n",
    "\n",
    "// FIRST RUN THIS CELL EVERY TIME YOU START THE NOTEBOOK\n",
    "def passed(points: Int) = {\n",
    "    require(points >=0)\n",
    "    if (points == 1) print(s\"\\n*** Tests Passed (1 point) ***\\n\")\n",
    "    else print(s\"\\n*** Tests Passed ($points points) ***\\n\")\n",
    "}\n",
    "\n",
    "def testWithMessage[T](v1: T, expected: T, testID: String) = { \n",
    "    println(s\"Test $testID\"); \n",
    "    println(s\"\\t Your code returned: $v1, Expected: $expected\")\n",
    "    assert (v1 == expected, s\"Test $testID FAILED.\")\n",
    "    println(\"\\t Passed!\")\n",
    "}"
   ]
  },
  {
   "cell_type": "markdown",
   "id": "6b0470ee",
   "metadata": {
    "deletable": false,
    "editable": false,
    "nbgrader": {
     "cell_type": "markdown",
     "checksum": "6413228fe4e3b6beeadcaced32fbce04",
     "grade": false,
     "grade_id": "cell-11bdf98667c70c4a",
     "locked": true,
     "schema_version": 3,
     "solution": false,
     "task": false
    }
   },
   "source": [
    "## Problem 1 (50 points)\n",
    "\n",
    "In this assignment, we will implement regular expression \n",
    "matching using semantic rules. H/T to Prof. Matt Might : https://matt.might.net/articles/implementation-of-regular-expression-matching-in-scheme-with-derivatives/ \n",
    "\n",
    "$$\\newcommand\\Regex{\\mathbf{Regex}}\n",
    "\\newcommand\\trm[1]{\\mathit{#1}}$$\n",
    "\n",
    "The grammar of regular expressions is given by \n",
    "$$\\begin{array}{rll}\n",
    "\\Regex & \\Rightarrow \\trm{Atom}(\\mathbf{String}) & \\text{match the string}\\\\ \n",
    "& | \\ \\trm{EmptyStr} & \\text{match empty string} \\\\ \n",
    "& | \\ \\trm{Null} & \\text{a regular expression that does not match any string} \\\\ \n",
    "& |\\ \\trm{Seq}(\\Regex, \\Regex) & \\text{match the first regex and then the second}\\\\ \n",
    "& |\\ \\trm{Or}(\\Regex, \\Regex) & \\text{Or of two regular expressions}\\\\ \n",
    "& |\\ \\trm{Star} (\\Regex) & \\text{Kleene-star: match zero or more occurrences of regex}\\\\ \n",
    "\\end{array} $$ \n",
    "\n",
    "A regex such as `(\"hello\")* | ( \"world\" ; \"csci3155) *` is expressed in our abstract syntax by the term\n",
    "~~~\n",
    "Or( \n",
    "    Star(Atom(\"hello\")), \n",
    "    Star( Seq( Atom(\"world\"), Atom(\"csci3155\")) \n",
    "  )\n",
    "~~~\n",
    "\n",
    "Note that `Null` and `EmptyStr` do not correspond to anything that a user writes. But we need them to implement the semantics. In general, it is possible to have abstract syntax that does not correspond to any concrete syntax. We will see an example of this when we implement the \"Lettuce\" language in class.\n",
    "\n",
    "### Regular Expression Matching\n",
    "\n",
    "Given a Regex `(\"hello\")* | ( \"world\" ; \"csci3155) *` \n",
    " - The string `\"worldcsci3155worldcsci3155\"` matches the regex. \n",
    " - Likewise the string `\"hellohellohello\"` also matches\n",
    "the regex. \n",
    " - However, the string `\"helloworld\"` does not match the regex.\n",
    "\n",
    "We will use semantic rules to write a matcher function `match(str, regex)` that returns `true` if a string matches a regular expression and `false` otherwise. \n",
    "\n",
    "To do so, we proceed in three stages: \n",
    "  - We will define the `acceptsEmpty` function.\n",
    "  - We will define the `simplifyNull` function to remove `null` wherever possible.\n",
    "  - We will define the `derivative` of a regex with respect to a character.\n",
    "  - We will finally put the two together to define a `match` function. \n",
    "  \n",
    "Strap on your seatbelts and join us for the regex match!!\n",
    "\n",
    "**Note** Below you'll see a lot of semantic rules. **Do not panic!** Semantic rules are simply describing the regex matching algorithm using Math instead of English. You do not have to write any new rules in this assignment. You simply have to translate the algorithm described as semantic rules into Scala code. Each rule generally corresponds to a `case` in the the `match-case` expression, so translating rules to code should be straightforward.\n",
    "\n",
    "\n"
   ]
  },
  {
   "cell_type": "markdown",
   "id": "d5a8e536",
   "metadata": {
    "deletable": false,
    "editable": false,
    "nbgrader": {
     "cell_type": "markdown",
     "checksum": "c80ff679c515a1e6f9ec1f7c2a0b8e94",
     "grade": false,
     "grade_id": "cell-3067de82c9a1506b",
     "locked": true,
     "schema_version": 3,
     "solution": false,
     "task": false
    }
   },
   "source": [
    "### The acceptsEmpty Function\n",
    "\n",
    "The acceptsEmpty function described below uses the semantic rules to specify whether a regular expression accepts the _empty string_.\n",
    "\n",
    "\n",
    "$$\\newcommand\\semRule[3]{\\begin{array}{c} #1 \\\\ \\hline #2 \\\\ \\end{array}\\ (\\text{#3}) }\\newcommand\\acc{\\mathsf{acceptsEmpty}} \\newcommand\\true{\\mathit{true}} \\newcommand\\false{\\mathit{false}}\\newcommand\\sNull{\\mathsf{simplifyNull}}$$\n",
    "\n",
    "Here are three simple rules. They state that empty string regex accepts the empty string, $\\trm{Null}$ rejects the empty string and a regex of the form $\\trm{Star}(t)$ accepts the empty string as long as $t \\not= Null$. Additionally, there are two rules for $\\trm{Atom}$, as well.\n",
    "\n",
    "$$\\semRule{}{\\acc(\\trm{EmptyStr}) = \\true}{empty-str}$$\n",
    "$$\\semRule{}{\\acc(\\trm{Null}) = \\false}{null}$$\n",
    "$$\\semRule{s \\not= \"\"}{\\acc(\\trm{Atom}(s)) = \\false}{atom-non-empty}$$\n",
    "$$\\semRule{s = \"\"}{\\acc(\\trm{Atom}(s)) = \\true}{atom-empty}$$\n",
    "$$\\semRule{t \\not= Null}{\\acc(\\trm{Star}(t)) = \\true}{kleene-star}$$\n",
    "\n",
    "The rules for Or and Seq.\n",
    "$$\\semRule{ \\acc(t_1) \\ \\textbf{or}\\ \\acc(t_2) }{\\acc(Or(t_1, t_2)) = \\true }{or-rule}$$\n",
    "$$\\semRule{ \\acc(t_1) \\ \\textbf{and}\\ \\acc(t_2) }{\\acc(Seq(t_1, t_2)) = \\true }{or-rule}$$\n",
    "\n",
    "We will skip the remaining rules for $\\trm{Or}(...)$, $\\trm{Seq}(...)$ and $\\trm{Star}(\\trm{Null})$ for which the function evaluates to  $\\false$ but you should be able to figure those out yourself.\n",
    "\n",
    "Run the definitions for Regex below and implement the function `acceptsEmpty(r: Regex): Boolean` as specified by the rules above.\n"
   ]
  },
  {
   "cell_type": "code",
   "execution_count": 2,
   "id": "61e8d24d",
   "metadata": {
    "deletable": false,
    "editable": false,
    "nbgrader": {
     "cell_type": "code",
     "checksum": "d260febc0e1670adca9ac4a8aea86880",
     "grade": false,
     "grade_id": "cell-6b59accd2267acd1",
     "locked": true,
     "schema_version": 3,
     "solution": false,
     "task": false
    }
   },
   "outputs": [
    {
     "name": "stderr",
     "output_type": "stream",
     "text": [
      "cmd2.sc:19: implicit conversion method to_regex should be enabled\n",
      "by making the implicit value scala.language.implicitConversions visible.\n",
      "This can be achieved by adding the import clause 'import scala.language.implicitConversions'\n",
      "or by setting the compiler option -language:implicitConversions.\n",
      "See the Scaladoc for value scala.language.implicitConversions for a discussion\n",
      "why the feature should be explicitly enabled.\n",
      "implicit def to_regex(s:String): Regex = Atom(s)\n",
      "             ^\n"
     ]
    },
    {
     "data": {
      "text/plain": [
       "\u001b[32mimport \u001b[39m\u001b[36mscala.language.postfixOps\u001b[39m\n",
       "defined \u001b[32mtrait\u001b[39m \u001b[36mRegex\u001b[39m\n",
       "defined \u001b[32mobject\u001b[39m \u001b[36mEmptyStr\u001b[39m\n",
       "defined \u001b[32mobject\u001b[39m \u001b[36mNull\u001b[39m\n",
       "defined \u001b[32mclass\u001b[39m \u001b[36mAtom\u001b[39m\n",
       "defined \u001b[32mclass\u001b[39m \u001b[36mOr\u001b[39m\n",
       "defined \u001b[32mclass\u001b[39m \u001b[36mSeq\u001b[39m\n",
       "defined \u001b[32mclass\u001b[39m \u001b[36mStar\u001b[39m\n",
       "defined \u001b[32mfunction\u001b[39m \u001b[36mto_regex\u001b[39m"
      ]
     },
     "execution_count": 2,
     "metadata": {},
     "output_type": "execute_result"
    }
   ],
   "source": [
    "import scala.language.postfixOps\n",
    "/* Please ensure that you run this cell */\n",
    "sealed trait Regex { \n",
    "    // The operators below and the \"implicit def\" at the bottom \n",
    "    // are for convenience. For e.g., we can write \"world\".star \n",
    "    // to mean Star(Atom(\"world\")) \n",
    "    def | (r2: Regex) = Or(this, r2) // or\n",
    "    def o (r2: Regex) = Seq(this, r2) // semicolon operator\n",
    "    def star = Star(this) // Kleene star\n",
    "}\n",
    "case object EmptyStr extends Regex\n",
    "case object Null extends Regex\n",
    "case class Atom(s: String) extends Regex\n",
    "case class Or(r1: Regex, r2: Regex) extends Regex\n",
    "case class Seq(r1: Regex, r2: Regex) extends Regex\n",
    "case class Star(r: Regex) extends Regex\n",
    "\n",
    "/*-- implicitly convert strings to Atoms --*/\n",
    "implicit def to_regex(s:String): Regex = Atom(s)"
   ]
  },
  {
   "cell_type": "code",
   "execution_count": 3,
   "id": "4f1fec34",
   "metadata": {
    "deletable": false,
    "editable": false,
    "nbgrader": {
     "cell_type": "code",
     "checksum": "9b27ffdb2fcc53d972271fef6afb0ad2",
     "grade": false,
     "grade_id": "cell-bb61ffcc9bc8aa1f",
     "locked": true,
     "schema_version": 3,
     "solution": false,
     "task": false
    }
   },
   "outputs": [
    {
     "data": {
      "text/plain": [
       "\u001b[36mr1\u001b[39m: \u001b[32mOr\u001b[39m = \u001b[33mOr\u001b[39m(\n",
       "  r1 = \u001b[33mStar\u001b[39m(r = \u001b[33mSeq\u001b[39m(r1 = \u001b[33mAtom\u001b[39m(s = \u001b[32m\"x\"\u001b[39m), r2 = \u001b[33mStar\u001b[39m(r = \u001b[33mAtom\u001b[39m(s = \u001b[32m\"_yellow\"\u001b[39m)))),\n",
       "  r2 = \u001b[33mAtom\u001b[39m(s = \u001b[32m\"_white\"\u001b[39m)\n",
       ")"
      ]
     },
     "execution_count": 3,
     "metadata": {},
     "output_type": "execute_result"
    }
   ],
   "source": [
    "val r1 = (\"x\" o (\"_yellow\").star).star | (\"_white\")"
   ]
  },
  {
   "cell_type": "code",
   "execution_count": 3,
   "id": "b3cec1cd",
   "metadata": {
    "deletable": false,
    "nbgrader": {
     "cell_type": "code",
     "checksum": "c80788c2b7ac6c578418087aadaa30cf",
     "grade": false,
     "grade_id": "cell-79ccbcf0e76b06ed",
     "locked": false,
     "schema_version": 3,
     "solution": true,
     "task": false
    }
   },
   "outputs": [],
   "source": [
    "/* Implement the acceptsEmpty function */\n",
    "// YOUR CODE HERE\n"
   ]
  },
  {
   "cell_type": "code",
   "execution_count": 4,
   "id": "f59f3594",
   "metadata": {
    "deletable": false,
    "editable": false,
    "nbgrader": {
     "cell_type": "code",
     "checksum": "d5f0f49bc66f7e0fa7a0c8408f14d77d",
     "grade": true,
     "grade_id": "cell-19b32e1f8fc5c630",
     "locked": true,
     "points": 10,
     "schema_version": 3,
     "solution": false,
     "task": false
    }
   },
   "outputs": [
    {
     "name": "stderr",
     "output_type": "stream",
     "text": [
      "cmd4.sc:2: not found: value acceptsEmpty\n",
      "val res4_1 = assert(acceptsEmpty(r1), \"Test # 1 failed\")\n",
      "                    ^\n",
      "cmd4.sc:5: not found: value acceptsEmpty\n",
      "val res4_3 = assert(acceptsEmpty(r2), \"Test # 2 failed\")\n",
      "                    ^\n",
      "cmd4.sc:8: not found: value acceptsEmpty\n",
      "val res4_5 = assert(!acceptsEmpty(r3), \"Test # 3 failed\")\n",
      "                     ^\n",
      "cmd4.sc:11: not found: value acceptsEmpty\n",
      "val res4_7 = assert (acceptsEmpty(r4), \"Test # 4 failed\")\n",
      "                     ^\n",
      "cmd4.sc:14: not found: value acceptsEmpty\n",
      "val res4_9 = assert(!acceptsEmpty(r5), \"Test # 5 failed\")\n",
      "                     ^\n",
      "cmd4.sc:17: not found: value acceptsEmpty\n",
      "val res4_11 = assert(!acceptsEmpty(r6), \"Test #6 failed\")\n",
      "                      ^\n",
      "cmd4.sc:20: not found: value acceptsEmpty\n",
      "val res4_13 = assert(!acceptsEmpty(r7), \"Test # 7 failed\")\n",
      "                      ^\n",
      "cmd4.sc:23: not found: value acceptsEmpty\n",
      "val res4_15 = assert(acceptsEmpty(r8), \"Test # 8 failed\")\n",
      "                     ^\n",
      "cmd4.sc:26: not found: value acceptsEmpty\n",
      "val res4_17 = assert(acceptsEmpty(r9), \"Test # 9 failed\")\n",
      "                     ^\n",
      "cmd4.sc:29: not found: value acceptsEmpty\n",
      "val res4_19 = assert(!acceptsEmpty(r10), \"Test # 10 failed\")\n",
      "                      ^\n",
      "cmd4.sc:32: not found: value acceptsEmpty\n",
      "val res4_21 = assert(!acceptsEmpty(r11), \"Test #11 failed\")\n",
      "                      ^\n",
      "Compilation Failed"
     ]
    }
   ],
   "source": [
    "val r1: Regex = \"\" // This is where the implicit function we defined above helps us\n",
    "assert(acceptsEmpty(r1), \"Test # 1 failed\")\n",
    "\n",
    "val r2 = \"\".star\n",
    "assert(acceptsEmpty(r2), \"Test # 2 failed\")\n",
    "\n",
    "val r3 = \"hello\" | \"world\"\n",
    "assert(!acceptsEmpty(r3), \"Test # 3 failed\")\n",
    "\n",
    "val r4 = \"hello\" | \"world\".star \n",
    "assert (acceptsEmpty(r4), \"Test # 4 failed\")\n",
    "\n",
    "val r5: Regex = \"hello\"\n",
    "assert(!acceptsEmpty(r5), \"Test # 5 failed\")\n",
    "\n",
    "val r6: Regex = \"hello\" o \"world\".star\n",
    "assert(!acceptsEmpty(r6), \"Test #6 failed\")\n",
    "\n",
    "val r7: Regex = \"\" o \"world\"\n",
    "assert(!acceptsEmpty(r7), \"Test # 7 failed\")\n",
    "\n",
    "val r8: Regex = (\"\" o \"world\".star ) |  \"csci3155\"o \"hello\".star\n",
    "assert(acceptsEmpty(r8), \"Test # 8 failed\")\n",
    "\n",
    "val r9: Regex = (\"\" o \"world\".star ) |  (\"csci3155\"o \"hello\".star)\n",
    "assert(acceptsEmpty(r9), \"Test # 9 failed\")\n",
    "\n",
    "val r10: Regex = Null | \"hello\"\n",
    "assert(!acceptsEmpty(r10), \"Test # 10 failed\")\n",
    "\n",
    "val r11:Regex =  Null.star\n",
    "assert(!acceptsEmpty(r11), \"Test #11 failed\")\n",
    "\n",
    "passed(10)"
   ]
  },
  {
   "cell_type": "markdown",
   "id": "d74f5834",
   "metadata": {
    "deletable": false,
    "editable": false,
    "nbgrader": {
     "cell_type": "markdown",
     "checksum": "327f66090ac8d7c0da11c67b511d821b",
     "grade": false,
     "grade_id": "cell-b089888be18dfd5a",
     "locked": true,
     "schema_version": 3,
     "solution": false,
     "task": false
    }
   },
   "source": [
    "## Simplify Null \n",
    "\n",
    "Next we specify some rules for getting rid of $\\trm{Null}$. These rules are deliberately setup to avoid doing expensive \"full\" simplifications. Please read them carefully and implement  them as specified below.\n",
    "\n",
    "If a term is an atom or null or an empty string, simplifying the term just yields the original term  back.\n",
    "$$\\semRule{t \\in \\{  \\trm{Atom}(s), \\trm{Null}, \\trm{EmptyStr} \\} }{\\sNull(t) = t }{simplify-base}$$\n",
    "\n",
    "Here are the rules for $\\trm{Or}$: if one of the two arguments simplifies to $\\trm{Null}$, we remove $\\trm{Or}$ and replace it by the simplified version of the other term.\n",
    "\n",
    "$$\\semRule{\\sNull(t_1) = \\trm{Null} }{\\sNull( \\trm{Or}(t_1, t_2) ) = \\sNull(t_2) }{simplify-or-1}$$\n",
    "\n",
    "$$\\semRule{\\sNull(t_1) = s_1, s_1 \\not= \\trm{Null}, \\text{and}\\ \\sNull(t_2) = \\trm{Null} }{\\sNull( \\trm{Or}(t_1, t_2) ) = s_1 }{simplify-or-2}$$\n",
    "\n",
    "$$\\semRule{\\sNull(t_1) = s_1,\\ s_1 \\not= \\trm{Null},\\ \\sNull(t_2) = s_2,\\ \\text{and}\\ s_2 \\not= \\trm{Null} }{\\sNull( \\trm{Or}(t_1, t_2) ) = \\trm{Or}(s_1, s_2) }{simplify-or-2}$$\n",
    "\n",
    "Here are the rules for $\\trm{Seq}$:\n",
    "\n",
    "\n",
    "$$\\semRule{\\sNull(t_1) = \\trm{Null} }{\\sNull( \\trm{Seq}(t_1, t_2) ) = \\trm{Null} }{simplify-seq-1}$$\n",
    "\n",
    "$$\\semRule{\\sNull(t_1)= s_1\\ \\text{and}\\ s_1 \\not= \\trm{Null}}{\\sNull( \\trm{Seq}(t_1, t_2) ) = \\trm{Seq}(s_1, t_2) }{simplify-seq-2}$$\n",
    "\n",
    "Notice that we do not bother simplifying $t_2$ for the $\\trm{Seq}$ operator. We simplify $t_1$ and the two rules do different things based on whether $t_1$ simplifies to $\\trm{Null}$ or not.\n",
    "\n",
    "Here are the rules for $\\trm{Star}$:\n",
    "$$\\semRule{\\sNull(t_1) = \\trm{Null} }{\\sNull( \\trm{Star}(t_1) ) = \\trm{Null} }{simplify-star-1}$$\n",
    "$$\\semRule{\\sNull(t_1)= s_1\\ \\text{and}\\ s_1 \\not= \\trm{Null}}{\\sNull( \\trm{Star}(t_1) ) = \\trm{Star}(s_1) }{simplify-star-2}$$\n",
    "\n",
    "Implement a function `simplifyNull(r: Regex): Regex` following the specifications above."
   ]
  },
  {
   "cell_type": "code",
   "execution_count": 4,
   "id": "f6cb6425",
   "metadata": {
    "deletable": false,
    "nbgrader": {
     "cell_type": "code",
     "checksum": "633e0c082517efb980ea053dfe879f1a",
     "grade": false,
     "grade_id": "cell-8814afec1f94eb44",
     "locked": false,
     "schema_version": 3,
     "solution": true,
     "task": false
    }
   },
   "outputs": [
    {
     "ename": "scala.NotImplementedError",
     "evalue": "an implementation is missing",
     "output_type": "error",
     "traceback": [
      "\u001b[31mscala.NotImplementedError: an implementation is missing\u001b[39m",
      "  scala.Predef$.$qmark$qmark$qmark(\u001b[32mPredef.scala\u001b[39m:\u001b[32m344\u001b[39m)",
      "  ammonite.$sess.cmd4$Helper.<init>(\u001b[32mcmd4.sc\u001b[39m:\u001b[32m2\u001b[39m)",
      "  ammonite.$sess.cmd4$.<clinit>(\u001b[32mcmd4.sc\u001b[39m:\u001b[32m7\u001b[39m)"
     ]
    }
   ],
   "source": [
    "// YOUR CODE HERE\n",
    "???"
   ]
  },
  {
   "cell_type": "code",
   "execution_count": 5,
   "id": "65db14a3",
   "metadata": {
    "deletable": false,
    "editable": false,
    "nbgrader": {
     "cell_type": "code",
     "checksum": "e496d75768ef76927fdf054bf591f929",
     "grade": true,
     "grade_id": "cell-bc8cb5024285d4e3",
     "locked": true,
     "points": 15,
     "schema_version": 3,
     "solution": false,
     "task": false
    }
   },
   "outputs": [
    {
     "name": "stderr",
     "output_type": "stream",
     "text": [
      "cmd5.sc:3: not found: value simplifyNull\n",
      "val res5_2 = testWithMessage(simplifyNull(r1), e1, \"1\")\n",
      "                             ^\n",
      "cmd5.sc:7: not found: value simplifyNull\n",
      "val res5_5 = testWithMessage(simplifyNull(r2), e2, \"2\")\n",
      "                             ^\n",
      "cmd5.sc:12: not found: value simplifyNull\n",
      "val res5_8 = testWithMessage(simplifyNull(r3), e3, \"3\")\n",
      "                             ^\n",
      "cmd5.sc:16: not found: value simplifyNull\n",
      "val res5_11 = testWithMessage(simplifyNull(r4), e4, \"4\")\n",
      "                              ^\n",
      "cmd5.sc:20: not found: value simplifyNull\n",
      "val res5_14 = testWithMessage(simplifyNull(r5), e5, \"5\")\n",
      "                              ^\n",
      "Compilation Failed"
     ]
    }
   ],
   "source": [
    "val r1 = Atom(\"hello\") | (Null o Atom(\"World\"))\n",
    "val e1 = Atom(\"hello\")\n",
    "testWithMessage(simplifyNull(r1), e1, \"1\")\n",
    "\n",
    "val r2 = Atom(\"hello\") | (Null.star o Atom(\"World\"))\n",
    "val e2 = Atom(\"hello\")\n",
    "testWithMessage(simplifyNull(r2), e2, \"2\")\n",
    "\n",
    "\n",
    "val r3 = (Null.star o Atom(\"World\")) | Atom(\"excellent\")\n",
    "val e3 = Atom(\"excellent\")\n",
    "testWithMessage(simplifyNull(r3), e3, \"3\")\n",
    "\n",
    "val r4 = (Null.star o Atom(\"sophisticated\")) | (Null.star o Null)\n",
    "val e4 = Null\n",
    "testWithMessage(simplifyNull(r4), e4, \"4\")\n",
    "\n",
    "val r5 = Atom(\"star rise\") | r4.star | Atom(\"very nice\")\n",
    "val e5 = Atom(\"star rise\") | Atom(\"very nice\")\n",
    "testWithMessage(simplifyNull(r5), e5, \"5\")\n",
    "passed(15)"
   ]
  },
  {
   "cell_type": "code",
   "execution_count": 5,
   "id": "ceac71c8",
   "metadata": {
    "deletable": false,
    "editable": false,
    "nbgrader": {
     "cell_type": "code",
     "checksum": "7763539173842121f230c334cd767a9e",
     "grade": true,
     "grade_id": "cell-4326162d3b03be55",
     "locked": true,
     "points": 5,
     "schema_version": 3,
     "solution": false,
     "task": false
    }
   },
   "outputs": [
    {
     "name": "stderr",
     "output_type": "stream",
     "text": [
      "cmd5.sc:4: not found: value simplifyNull\n",
      "val res5_2 = testWithMessage(simplifyNull(r6), e6, \"6\")\n",
      "                             ^\n",
      "cmd5.sc:9: not found: value simplifyNull\n",
      "val res5_6 = testWithMessage(simplifyNull(r7), e7, \"7\")\n",
      "                             ^\n",
      "cmd5.sc:13: not found: value simplifyNull\n",
      "val res5_9 = testWithMessage(simplifyNull(r8), e8, \"8\")\n",
      "                             ^\n",
      "Compilation Failed"
     ]
    }
   ],
   "source": [
    "//Tests for Seq\n",
    "val r6 = Null o \"Python\"\n",
    "val e6 = Null\n",
    "testWithMessage(simplifyNull(r6), e6, \"6\")\n",
    "\n",
    "println(\"Remember according to semantic rules for seq, you should not simplify the second argument\")\n",
    "val r7 =  \"Python\" o Null.star\n",
    "val e7 = r7\n",
    "testWithMessage(simplifyNull(r7), e7, \"7\")\n",
    "\n",
    "val r8 =  (\"Python\" | Null.star) o ( Null.star o \"Scala\")\n",
    "val e8 = \"Python\" o (Null.star o \"Scala\")\n",
    "testWithMessage(simplifyNull(r8), e8, \"8\")\n",
    "\n",
    "passed(5)"
   ]
  },
  {
   "cell_type": "markdown",
   "id": "9e8c295a",
   "metadata": {
    "deletable": false,
    "editable": false,
    "nbgrader": {
     "cell_type": "markdown",
     "checksum": "bb50708f421f0cedef2a7df2774bb9f6",
     "grade": false,
     "grade_id": "cell-2dc3be25c2b2fa25",
     "locked": true,
     "schema_version": 3,
     "solution": false,
     "task": false
    }
   },
   "source": [
    "## Derivatives \n",
    "\n",
    "We will now define the \"derivative\" of a regular expression `r` with respect to a character `c` $\\delta(r, c)$ using the semantic rules below.\n",
    "\n",
    "$$\\semRule{r \\in \\{  \\trm{EmptyStr}, \\trm{Null} \\} }{\\delta(r, c) = \\trm{Null}}{deriv-empty-null}$$\n",
    "\n",
    "Rules for `Atom`. For a string $s$, we will denote its first characted by $s.head$ and the substring from second position to end as $s.tail$.\n",
    "\n",
    "$$\\semRule{}{\\delta(\\trm{Atom}(\"\"), c) = \\trm{Null}}{deriv-empty-atom}$$\n",
    "$$\\semRule{s.head = c}{\\delta(\\trm{Atom}(s), c) = \\trm{Atom}(s.tail)}{deriv-atom-1}$$\n",
    "$$\\semRule{s.head \\not= c}{\\delta(\\trm{Atom}(s), c) = \\trm{Null} }{deriv-atom-2}$$\n",
    "\n",
    "Notice that if an atom starts with the character `c`, then the derivative is the tail of the contained string. But if an atom does not start with the character `c`, its derivative is simply null denoting a match failure.\n",
    "\n",
    "Rules for `Seq`.\n",
    "\n",
    "If the first sub-term $t_1$ is not accepting then we take the derivative of $t_1$ as specified below:\n",
    "\n",
    "$$\\semRule{\\acc(t_1) = \\false,\\ \\text{and}\\  s_1 = \\delta(t_1, c) }{\\delta(\\trm{Seq}(t_1, t_2), c)) = \\trm{Seq}(s_1, t_2)}{deriv-seq-1}$$\n",
    "\n",
    "If the first sub-term $t_1$ is accepting, then the derivative of $\\trm{Seq}(t_1, t_2)$ is given by the following expression obtained by taking derivative of both subterms. \n",
    "\n",
    "$$\\semRule{\\acc(t_1) = \\true,\\ s_1 = \\delta(t_1, c),\\ \\text{and}\\ s_2 = \\delta(t_2, c) }{\\delta(\\trm{Seq}(t_1, t_2), c)) = \\trm{Or}( \\trm{Seq}(s_1, t_2), s_2 )}{deriv-seq-2}$$\n",
    "\n",
    "Rules of `Or`.\n",
    "$$\\semRule{}{\\delta(\\trm{Or}(t_1, t_2), c)) = \\trm{Or}(\\delta(t_1, c), \\delta(t_2, c))}{deriv-or-1}$$\n",
    "\n",
    "Rule for `Star`.\n",
    "\n",
    "$$\\semRule{}{\\delta(\\trm{Star}(t)), c) = \\trm{Seq}(\\delta(t, c), \\trm{Star}(t))}{deriv-star-1}$$\n",
    "\n",
    "Implement the function `delta(r: Regex, c: Char): Regex` using the semantic rules above."
   ]
  },
  {
   "cell_type": "code",
   "execution_count": 5,
   "id": "e1716bf6",
   "metadata": {
    "deletable": false,
    "nbgrader": {
     "cell_type": "code",
     "checksum": "96c76393a3977ae83a49c46c560db9e0",
     "grade": false,
     "grade_id": "cell-2ab4fe98fb27019c",
     "locked": false,
     "schema_version": 3,
     "solution": true,
     "task": false
    }
   },
   "outputs": [
    {
     "ename": "scala.NotImplementedError",
     "evalue": "an implementation is missing",
     "output_type": "error",
     "traceback": [
      "\u001b[31mscala.NotImplementedError: an implementation is missing\u001b[39m",
      "  scala.Predef$.$qmark$qmark$qmark(\u001b[32mPredef.scala\u001b[39m:\u001b[32m344\u001b[39m)",
      "  ammonite.$sess.cmd5$Helper.<init>(\u001b[32mcmd5.sc\u001b[39m:\u001b[32m2\u001b[39m)",
      "  ammonite.$sess.cmd5$.<clinit>(\u001b[32mcmd5.sc\u001b[39m:\u001b[32m7\u001b[39m)"
     ]
    }
   ],
   "source": [
    "// YOUR CODE HERE\n",
    "???"
   ]
  },
  {
   "cell_type": "code",
   "execution_count": 6,
   "id": "98a21f55",
   "metadata": {
    "deletable": false,
    "editable": false,
    "nbgrader": {
     "cell_type": "code",
     "checksum": "4ef919bb4929bc76ee54bfc1c76fa8d5",
     "grade": true,
     "grade_id": "cell-d3afaca2f34fd184",
     "locked": true,
     "points": 5,
     "schema_version": 3,
     "solution": false,
     "task": false
    }
   },
   "outputs": [
    {
     "name": "stderr",
     "output_type": "stream",
     "text": [
      "cmd6.sc:4: not found: value delta\n",
      "val res6_2 = testWithMessage(delta(r1, 'h'), e1, \"#1\")\n",
      "                             ^\n",
      "cmd6.sc:8: not found: value delta\n",
      "val res6_5 = testWithMessage(delta(r2, 'c'), e2, \"#2\")\n",
      "                             ^\n",
      "cmd6.sc:14: not found: value delta\n",
      "val res6_7 = testWithMessage(delta(r3, 'a'), Null, \"#3\")\n",
      "                             ^\n",
      "cmd6.sc:19: not found: value delta\n",
      "val res6_9 = testWithMessage(delta(r4, 'a'), Null, \"#4\")\n",
      "                             ^\n",
      "cmd6.sc:23: not found: value delta\n",
      "val res6_11 = testWithMessage(delta(r5, 'x'), Null, \"#5\")\n",
      "                              ^\n",
      "Compilation Failed"
     ]
    }
   ],
   "source": [
    "// Test for Atom\n",
    "val r1 = Atom(\"hello\")\n",
    "val e1 = Atom(\"ello\")\n",
    "testWithMessage(delta(r1, 'h'), e1, \"#1\")\n",
    "\n",
    "val r2 = Atom(\"hello\")\n",
    "val e2 = Null\n",
    "testWithMessage(delta(r2, 'c'), e2, \"#2\")\n",
    "\n",
    "// Test for EmptyStr\n",
    "\n",
    "\n",
    "val r3 = EmptyStr\n",
    "testWithMessage(delta(r3, 'a'), Null, \"#3\")\n",
    "\n",
    "// Test for Null\n",
    "\n",
    "val r4 = Null\n",
    "testWithMessage(delta(r4, 'a'), Null, \"#4\")\n",
    "\n",
    "// Atom empty str\n",
    "val r5 = Atom(\"\")\n",
    "testWithMessage(delta(r5, 'x'), Null, \"#5\")\n",
    "\n",
    "passed(5)"
   ]
  },
  {
   "cell_type": "code",
   "execution_count": 6,
   "id": "671d5fa9",
   "metadata": {
    "deletable": false,
    "editable": false,
    "nbgrader": {
     "cell_type": "code",
     "checksum": "746dc8d4bc0d040dd4784083fd14e87c",
     "grade": true,
     "grade_id": "cell-f4c7ca1eae7a74a4",
     "locked": true,
     "points": 5,
     "schema_version": 3,
     "solution": false,
     "task": false
    }
   },
   "outputs": [
    {
     "name": "stderr",
     "output_type": "stream",
     "text": [
      "cmd6.sc:4: not found: value delta\n",
      "val res6_2 = testWithMessage(delta(r7,'w'), e7, \"#6\")\n",
      "                             ^\n",
      "cmd6.sc:8: not found: value delta\n",
      "val res6_5 = testWithMessage(delta(r6,'h'), e6, \"#7\")\n",
      "                             ^\n",
      "cmd6.sc:12: not found: value delta\n",
      "val res6_8 = testWithMessage(delta(r8, 's'), e8, \"#8\")\n",
      "                             ^\n",
      "cmd6.sc:15: not found: value delta\n",
      "val res6_10 = testWithMessage(delta(r9, 'x'), Null o r9, \"#9\")\n",
      "                              ^\n",
      "Compilation Failed"
     ]
    }
   ],
   "source": [
    "// Test Or only\n",
    "val r7 = \"hello\" | \"world\"\n",
    "val e7 = Null | \"orld\"\n",
    "testWithMessage(delta(r7,'w'), e7, \"#6\")\n",
    "// Test Or and star\n",
    "val r6 = \"hello\" | \"world\".star \n",
    "val e6 = \"ello\" | (Null o \"world\".star)\n",
    "testWithMessage(delta(r6,'h'), e6, \"#7\")\n",
    "// Test Star\n",
    "val r8 = \"star\".star \n",
    "val e8 = \"tar\" o r8\n",
    "testWithMessage(delta(r8, 's'), e8, \"#8\")\n",
    "// Test Star\n",
    "val r9 = \"\".star\n",
    "testWithMessage(delta(r9, 'x'), Null o r9, \"#9\")\n",
    "passed(5)"
   ]
  },
  {
   "cell_type": "code",
   "execution_count": 6,
   "id": "41954287",
   "metadata": {
    "deletable": false,
    "editable": false,
    "nbgrader": {
     "cell_type": "code",
     "checksum": "6b9260e5cde026af1d4db02ff21aedae",
     "grade": true,
     "grade_id": "cell-bcfdacf07a47749a",
     "locked": true,
     "points": 5,
     "schema_version": 3,
     "solution": false,
     "task": false
    }
   },
   "outputs": [
    {
     "name": "stderr",
     "output_type": "stream",
     "text": [
      "cmd6.sc:4: not found: value delta\n",
      "val res6_2 = testWithMessage(delta(r10, 'h'), e10, \"#10\")\n",
      "                             ^\n",
      "cmd6.sc:5: not found: value delta\n",
      "val res6_3 = testWithMessage(delta(r10, 'k'), Null o \"world\", \"#11\")\n",
      "                             ^\n",
      "cmd6.sc:9: not found: value delta\n",
      "val res6_6 = testWithMessage(delta(r11, 'w'), e11, \"#12\")\n",
      "                             ^\n",
      "cmd6.sc:13: not found: value delta\n",
      "val res6_9 = testWithMessage(delta(r12,'w'), e12, \"#13\")\n",
      "                             ^\n",
      "Compilation Failed"
     ]
    }
   ],
   "source": [
    "// Test Seq\n",
    "val r10 = \"hello\" o \"world\"\n",
    "val e10: Regex = \"ello\" o \"world\"\n",
    "testWithMessage(delta(r10, 'h'), e10, \"#10\")\n",
    "testWithMessage(delta(r10, 'k'), Null o \"world\", \"#11\")\n",
    "\n",
    "val r11 = \"\" o \"world\"\n",
    "val e11 = (Null o \"world\") | \"orld\"\n",
    "testWithMessage(delta(r11, 'w'), e11, \"#12\")\n",
    "\n",
    "val r12 = Star(\"world\") o \"water\"\n",
    "val e12 = ((\"orld\" o Star(\"world\")) o \"water\") | \"ater\"\n",
    "testWithMessage(delta(r12,'w'), e12, \"#13\")\n",
    "passed(5)\n"
   ]
  },
  {
   "cell_type": "markdown",
   "id": "41480684",
   "metadata": {
    "deletable": false,
    "editable": false,
    "nbgrader": {
     "cell_type": "markdown",
     "checksum": "109f4e2a79b36f2ac9b22f1d0882f059",
     "grade": false,
     "grade_id": "cell-433e4c0c8d5c8658",
     "locked": true,
     "schema_version": 3,
     "solution": false,
     "task": false
    }
   },
   "source": [
    "We are now ready to implement our regular expression matcher. You are given  a regex `r` and a string `s`. We wish to know if the entire string `s` matches `r`. We do the following: \n",
    "\n",
    "  1. Start with initial regex `r`\n",
    "  2. Iterate through each character `c` of the string:\n",
    "     - compute derivative $\\delta(r, c)$, call the result $r'$.\n",
    "     - assign $r'' = \\sNull(r')$ and update $r$ to equal $r''$.\n",
    "  3. If at the end of the string, $\\acc(r)$ is true then we have a match, else we do not have a match.\n",
    "\n",
    "Here is a loopy version for your reference."
   ]
  },
  {
   "cell_type": "code",
   "execution_count": 6,
   "id": "8cf354eb",
   "metadata": {
    "deletable": false,
    "editable": false,
    "nbgrader": {
     "cell_type": "code",
     "checksum": "deb8db5c94161be1a6aaa7661af54853",
     "grade": false,
     "grade_id": "cell-78305a22f64f5a99",
     "locked": true,
     "schema_version": 3,
     "solution": false,
     "task": false
    }
   },
   "outputs": [
    {
     "name": "stderr",
     "output_type": "stream",
     "text": [
      "cmd6.sc:4: not found: value simplifyNull\n",
      "        r  = simplifyNull(delta(r, c))\n",
      "             ^\n",
      "cmd6.sc:4: not found: value delta\n",
      "        r  = simplifyNull(delta(r, c))\n",
      "                          ^\n",
      "cmd6.sc:6: not found: value acceptsEmpty\n",
      "    acceptsEmpty(r)\n",
      "    ^\n",
      "Compilation Failed"
     ]
    }
   ],
   "source": [
    "def match_loop(r0: Regex, s: String) : Boolean = {\n",
    "    var r = r0\n",
    "    for (c <- s) { // Iterate through the string\n",
    "        r  = simplifyNull(delta(r, c))\n",
    "    }\n",
    "    acceptsEmpty(r)\n",
    "}"
   ]
  },
  {
   "cell_type": "code",
   "execution_count": 6,
   "id": "436f78ca",
   "metadata": {
    "deletable": false,
    "editable": false,
    "nbgrader": {
     "cell_type": "code",
     "checksum": "11a96d247248676478f96d9e11e63afc",
     "grade": false,
     "grade_id": "cell-58a62d30002e9bd1",
     "locked": true,
     "schema_version": 3,
     "solution": false,
     "task": false
    }
   },
   "outputs": [
    {
     "name": "stderr",
     "output_type": "stream",
     "text": [
      "cmd6.sc:2: not found: value match_loop\n",
      "val res6_1 = println(\"1 -> \"+ match_loop(r12, \"worldworldwater\"))\n",
      "                              ^\n",
      "cmd6.sc:3: not found: value match_loop\n",
      "val res6_2 = println(\"2 -> \"+match_loop(r12, \"worldwaterwater\"))\n",
      "                             ^\n",
      "cmd6.sc:4: not found: value match_loop\n",
      "val res6_3 = println(\"3 -> \"+match_loop(r12, \"water\"))\n",
      "                             ^\n",
      "cmd6.sc:5: not found: value match_loop\n",
      "val res6_4 = println(\"4 -> \"+match_loop(r12, \"waterworldworld\"))\n",
      "                             ^\n",
      "cmd6.sc:8: not found: value match_loop\n",
      "val res6_6 = println(\"5 -> \"+match_loop(r13, \"x\"))\n",
      "                             ^\n",
      "cmd6.sc:9: not found: value match_loop\n",
      "val res6_7 = println(\"6 -> \"+match_loop(r13, \"x_yellow_yellowx_yellow_yellow_yellowxxxxx\"))\n",
      "                             ^\n",
      "cmd6.sc:10: not found: value match_loop\n",
      "val res6_8 = println(\"7 -> \"+match_loop(r13, \"_white\"))\n",
      "                             ^\n",
      "cmd6.sc:13: not found: value match_loop\n",
      "val res6_10 = println(\"8 ->\" +  match_loop(r14,\"x_yellow_whitex_yellow_yellow_whitexxxx_yellow_whitex\"))\n",
      "                                ^\n",
      "Compilation Failed"
     ]
    }
   ],
   "source": [
    "val r12 = Star(\"world\") o \"water\"\n",
    "println(\"1 -> \"+ match_loop(r12, \"worldworldwater\"))\n",
    "println(\"2 -> \"+match_loop(r12, \"worldwaterwater\"))\n",
    "println(\"3 -> \"+match_loop(r12, \"water\"))\n",
    "println(\"4 -> \"+match_loop(r12, \"waterworldworld\"))\n",
    "\n",
    "val r13 = (\"x\" o (\"_yellow\").star).star | (\"_white\")\n",
    "println(\"5 -> \"+match_loop(r13, \"x\"))\n",
    "println(\"6 -> \"+match_loop(r13, \"x_yellow_yellowx_yellow_yellow_yellowxxxxx\"))\n",
    "println(\"7 -> \"+match_loop(r13, \"_white\"))\n",
    "\n",
    "val r14 = r13.star\n",
    "println(\"8 ->\" +  match_loop(r14,\"x_yellow_whitex_yellow_yellow_whitexxxx_yellow_whitex\"))\n"
   ]
  },
  {
   "cell_type": "markdown",
   "id": "16532431",
   "metadata": {
    "deletable": false,
    "editable": false,
    "nbgrader": {
     "cell_type": "markdown",
     "checksum": "26821cd7c83116e694ef45c1f84d45ba",
     "grade": false,
     "grade_id": "cell-a3fe84c69520c836",
     "locked": true,
     "schema_version": 3,
     "solution": false,
     "task": false
    }
   },
   "source": [
    "Just like lists, scala String API supports `head` and `tail` operations. Use these to write a recursive version of match below."
   ]
  },
  {
   "cell_type": "code",
   "execution_count": 6,
   "id": "0f133053",
   "metadata": {
    "deletable": false,
    "nbgrader": {
     "cell_type": "code",
     "checksum": "4f84173738044ba0ece78a2d6c95c060",
     "grade": false,
     "grade_id": "cell-674437523ce86666",
     "locked": false,
     "schema_version": 3,
     "solution": true,
     "task": false
    }
   },
   "outputs": [
    {
     "data": {
      "text/plain": [
       "defined \u001b[32mfunction\u001b[39m \u001b[36mmatch_rec\u001b[39m"
      ]
     },
     "execution_count": 6,
     "metadata": {},
     "output_type": "execute_result"
    }
   ],
   "source": [
    "\n",
    "def match_rec(r: Regex, s: String) : Boolean = {\n",
    "    // YOUR CODE HERE\n",
    "    ???\n",
    "}\n"
   ]
  },
  {
   "cell_type": "code",
   "execution_count": 7,
   "id": "b52c5a39",
   "metadata": {
    "deletable": false,
    "editable": false,
    "nbgrader": {
     "cell_type": "code",
     "checksum": "91a548a32b76a27d0c5165d10269be59",
     "grade": true,
     "grade_id": "cell-585c84cca0775e21",
     "locked": true,
     "points": 5,
     "schema_version": 3,
     "solution": false,
     "task": false
    }
   },
   "outputs": [
    {
     "name": "stderr",
     "output_type": "stream",
     "text": [
      "cmd7.sc:2: not found: value match_loop\n",
      "val res7_1 = testWithMessage( match_rec(r12, \"worldworldwater\"), match_loop(r12, \"worldworldwater\"), \"#1\")\n",
      "                                                                 ^\n",
      "cmd7.sc:3: not found: value match_loop\n",
      "val res7_2 = testWithMessage( match_rec(r12, \"worldwaterwater\"), match_loop(r12, \"worldwaterwater\"), \"#2\")\n",
      "                                                                 ^\n",
      "cmd7.sc:4: not found: value match_loop\n",
      "val res7_3 = testWithMessage( match_rec(r12, \"water\"), match_loop(r12, \"water\"), \"#3\")\n",
      "                                                       ^\n",
      "cmd7.sc:5: not found: value match_loop\n",
      "val res7_4 = testWithMessage(match_rec(r12, \"waterworldworld\"), match_loop(r12, \"waterworldworld\"), \"#4\")\n",
      "                                                                ^\n",
      "cmd7.sc:8: not found: value match_loop\n",
      "val res7_6 = testWithMessage(match_rec(r13,\"x\"), match_loop(r13, \"x\"), \"#5\")\n",
      "                                                 ^\n",
      "cmd7.sc:10: not found: value match_loop\n",
      "                match_loop(r13, \"x_yellow_yellowx_yellow_yellow_yellowxxxxx\"),\n",
      "                ^\n",
      "cmd7.sc:12: not found: value match_loop\n",
      "val res7_8 = testWithMessage(match_rec(r13, \"_white\"), match_loop(r13, \"_white\"), \"#7\")\n",
      "                                                       ^\n",
      "cmd7.sc:16: not found: value match_loop\n",
      "                match_loop(r14,\"x_yellow_whitex_yellow_yellow_whitexxxx_yellow_whitex\"), \"#8\")\n",
      "                ^\n",
      "Compilation Failed"
     ]
    }
   ],
   "source": [
    "val r12 = Star(\"world\") o \"water\"\n",
    "testWithMessage( match_rec(r12, \"worldworldwater\"), match_loop(r12, \"worldworldwater\"), \"#1\")\n",
    "testWithMessage( match_rec(r12, \"worldwaterwater\"), match_loop(r12, \"worldwaterwater\"), \"#2\")\n",
    "testWithMessage( match_rec(r12, \"water\"), match_loop(r12, \"water\"), \"#3\")\n",
    "testWithMessage(match_rec(r12, \"waterworldworld\"), match_loop(r12, \"waterworldworld\"), \"#4\")\n",
    "\n",
    "val r13 = (\"x\" o (\"_yellow\").star).star | (\"_white\")\n",
    "testWithMessage(match_rec(r13,\"x\"), match_loop(r13, \"x\"), \"#5\")\n",
    "testWithMessage(match_rec(r13, \"x_yellow_yellowx_yellow_yellow_yellowxxxxx\"),\n",
    "                match_loop(r13, \"x_yellow_yellowx_yellow_yellow_yellowxxxxx\"),\n",
    "                \"#6\")\n",
    "testWithMessage(match_rec(r13, \"_white\"), match_loop(r13, \"_white\"), \"#7\")\n",
    "\n",
    "val r14 = r13.star\n",
    "testWithMessage( match_rec(r14,\"x_yellow_whitex_yellow_yellow_whitexxxx_yellow_whitex\"),\n",
    "                match_loop(r14,\"x_yellow_whitex_yellow_yellow_whitexxxx_yellow_whitex\"), \"#8\")\n",
    "\n",
    "passed(10)"
   ]
  },
  {
   "cell_type": "markdown",
   "id": "b368abdb",
   "metadata": {
    "deletable": false,
    "editable": false,
    "nbgrader": {
     "cell_type": "markdown",
     "checksum": "f83447e5fa5ab7011cf584ee424f97d1",
     "grade": false,
     "grade_id": "cell-fae5906f6dcd719f",
     "locked": true,
     "schema_version": 3,
     "solution": false,
     "task": false
    }
   },
   "source": [
    "Congratulations! You have now implemented a decent regex matcher using functional programming principles. We will eliminate the use of recursion later in this course using continuations and trampolines. "
   ]
  },
  {
   "cell_type": "markdown",
   "id": "525e2beb",
   "metadata": {
    "deletable": false,
    "editable": false,
    "nbgrader": {
     "cell_type": "markdown",
     "checksum": "8bf705e2de71e43cfc8e5bdd69cbcf68",
     "grade": false,
     "grade_id": "cell-7e1d531affd2434a",
     "locked": true,
     "schema_version": 3,
     "solution": false,
     "task": false
    }
   },
   "source": [
    "## That's All Folks!"
   ]
  }
 ],
 "metadata": {
  "kernelspec": {
   "display_name": "Scala",
   "language": "scala",
   "name": "scala"
  },
  "language_info": {
   "codemirror_mode": "text/x-scala",
   "file_extension": ".sc",
   "mimetype": "text/x-scala",
   "name": "scala",
   "nbconvert_exporter": "script",
   "version": "2.13.14"
  }
 },
 "nbformat": 4,
 "nbformat_minor": 5
}
