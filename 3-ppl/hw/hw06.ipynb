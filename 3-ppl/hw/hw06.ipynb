{
 "cells": [
  {
   "cell_type": "markdown",
   "id": "b5216b87",
   "metadata": {},
   "source": [
    "Before you turn this problem in, make sure everything runs as expected. First, **restart the kernel** (in the menubar, select Kernel$\\rightarrow$Restart) and then **run all cells** (in the menubar, select Cell$\\rightarrow$Run All).\n",
    "\n",
    "Make sure you fill in any place that says `YOUR CODE HERE` or \"YOUR ANSWER HERE\", as well as your name and collaborators below:"
   ]
  },
  {
   "cell_type": "markdown",
   "id": "ee84b57a",
   "metadata": {},
   "source": [
    "NAME = \"Rey Stone\"\n",
    "COLLABORATORS = \"\""
   ]
  },
  {
   "cell_type": "markdown",
   "id": "a890ffa5",
   "metadata": {},
   "source": [
    "---"
   ]
  },
  {
   "cell_type": "markdown",
   "id": "5dee8741",
   "metadata": {
    "deletable": false,
    "editable": false,
    "nbgrader": {
     "cell_type": "markdown",
     "checksum": "360eb40ec7637097d3dacc287b7fd337",
     "grade": false,
     "grade_id": "cell-acfad365fca0e57b",
     "locked": true,
     "schema_version": 3,
     "solution": false,
     "task": false
    }
   },
   "source": [
    "# CSCI 3155 Spring 2025 Assignment 6 : Let Bindings and Scopes\n",
    "\n",
    "This assignment asks you to write scala programs. \n",
    "\n",
    "**Restrictions** apply to each problem in terms of forbidden Scala features and API functions. Please read them carefully and ask for clarifications from the course staff over Piazza or during office hours if unsure.\n",
    "\n",
    "Note: `???` indicates that there is a missing function or code fragment that needs to be filled in. In scala, \n",
    "it is also a macro that throws a `NotImplemented` exception. Make sure that you remove the `???` and replace it with the answer. \n",
    "\n",
    "Use the test cases provided to test them. You are also encouraged to write your own test cases to help debug your work. However, please delete any extra cells you may have created lest they break our autograder.\n",
    "\n",
    "**Very Important:** Please run the cell that defines the functions `passed` and `testWithMessage` below whenever you restart the notebook."
   ]
  },
  {
   "cell_type": "code",
   "execution_count": 2,
   "id": "0d648ed7",
   "metadata": {
    "deletable": false,
    "editable": false,
    "nbgrader": {
     "cell_type": "code",
     "checksum": "04b483d1251cef338604197e8bf666db",
     "grade": false,
     "grade_id": "cell-42942cc3665e925c",
     "locked": true,
     "schema_version": 3,
     "solution": false,
     "task": false
    }
   },
   "outputs": [
    {
     "data": {
      "text/plain": [
       "defined \u001b[32mfunction\u001b[39m \u001b[36mpassed\u001b[39m\n",
       "defined \u001b[32mfunction\u001b[39m \u001b[36mtestWithMessage\u001b[39m"
      ]
     },
     "execution_count": 2,
     "metadata": {},
     "output_type": "execute_result"
    }
   ],
   "source": [
    "// TEST HELPER\n",
    "\n",
    "// FIRST RUN THIS CELL EVERY TIME YOU START THE NOTEBOOK\n",
    "def passed(points: Int) = {\n",
    "    require(points >=0)\n",
    "    if (points == 1) print(s\"\\n*** Tests Passed (1 point) ***\\n\")\n",
    "    else print(s\"\\n*** Tests Passed ($points points) ***\\n\")\n",
    "}\n",
    "\n",
    "def testWithMessage[T](v1: T, expected: T, testID: String) = { \n",
    "    println(s\"Test $testID\"); \n",
    "    println(s\"\\t Your code returned: $v1, Expected: $expected\")\n",
    "    assert (v1 == expected, s\"Test $testID FAILED.\")\n",
    "    println(\"\\t Passed!\")\n",
    "}"
   ]
  },
  {
   "cell_type": "markdown",
   "id": "b1a6fd40",
   "metadata": {
    "deletable": false,
    "editable": false,
    "nbgrader": {
     "cell_type": "markdown",
     "checksum": "530da9c5df21be47ea4a4ad30248eaf4",
     "grade": false,
     "grade_id": "cell-fbc647b0aaee3fc6",
     "locked": true,
     "schema_version": 3,
     "solution": false,
     "task": false
    }
   },
   "source": [
    "## Problem 1: Multiple Simultaneous Let Bindings (25 points)"
   ]
  },
  {
   "cell_type": "markdown",
   "id": "316afc82",
   "metadata": {
    "deletable": false,
    "editable": false,
    "nbgrader": {
     "cell_type": "markdown",
     "checksum": "cad515f709c0eed4563f76356d6bd46e",
     "grade": false,
     "grade_id": "cell-23c9f7992612ebe8",
     "locked": true,
     "schema_version": 3,
     "solution": false,
     "task": false
    }
   },
   "source": [
    "In class, we studied let bindings that assigned a \"single\" identifier to a \"single\" expression. Here, we will extend lettuce with multiple let bindings at the same time:\n",
    "\n",
    "## Example 1 \n",
    "~~~\n",
    "let (x, y, z) = (10, 25.6, 30.3) in \n",
    "   x - y * z\n",
    "~~~\n",
    "\n",
    "The program computes `10 - 25.6 * 30.3`.\n",
    "\n",
    "## Example 2\n",
    "\n",
    " In multi-let binding, we treat all the assignments as happening \"simultaneously\". For instance, the program \n",
    "\n",
    "~~~\n",
    "let (x, y, z) = (10, x, y - x) in \n",
    "  x - y * z\n",
    "~~~\n",
    "\n",
    "is disallowed since neither `x` nor `y` are in scope in the right hand side of the multi-let binding. Example 2 above produces an `error` value since `x` and `y` are out of scope on the right hand side of the assignment.\n",
    "\n",
    "## Example 3\n",
    "\n",
    "~~~\n",
    "let x = 15 in \n",
    "  let (x, y, z) = (x*x, -10 *x, -2*x) in \n",
    "     x + y + z\n",
    "~~~\n",
    "\n",
    "Note that the usage `x*x`, `-10*x` and `-2*x` refer back to `let x = 15` definition. However, the usages `x+y+z` refer to the result of the \"multi-let\" binding. Verify that this program will evaluate to \"45\".\n",
    "\n",
    "## Grammar of Lettuce\n",
    "\n",
    "Let us extend a minimalistic subset of Lettuce by adding a `MultiLet` statement as shown below (Note: `Ident` denotes an identifier, i.e., a variable).\n",
    "$$\\newcommand\\Expr{\\mathbf{Expr}}$$\n",
    "\n",
    "$$\\begin{array}{rcll}\n",
    "  \\Expr & \\Rightarrow & \\text{Const}(\\mathbf{Double}) \\\\\n",
    "  & | & \\text{Ident}(\\mathbf{String}) \\\\\n",
    "  & | & \\text{Plus}(\\mathbf{Expr}, \\mathbf{Expr}) \\\\\n",
    "  & | & \\text{Mult}(\\mathbf{Expr}, \\mathbf{Expr})\\\\\n",
    "  & | & \\text{Let}(\\mathbf{Ident}, \\mathbf{Expr}, \\mathbf{Expr}) \\\\\n",
    "  & | & \\text{MultiLet}(\\mathbf{Ident}*, \\mathbf{Expr}*, \\mathbf{Expr}) & \\leftarrow\\ \\text{ let (x1, .., xn) = (e1, ...,en) in e } \\\\\n",
    "  & & & \\text{Note: Number of identifiers n must match number of expressions n, or else evaluate to error }\\\\\n",
    "  \\end{array}$$\n",
    "  \n",
    "The scala definitions are given below."
   ]
  },
  {
   "cell_type": "code",
   "execution_count": 3,
   "id": "cebb8015",
   "metadata": {
    "deletable": false,
    "editable": false,
    "nbgrader": {
     "cell_type": "code",
     "checksum": "2a5c631886fc39fdf4658d9aad788032",
     "grade": false,
     "grade_id": "cell-0721126a00877145",
     "locked": true,
     "schema_version": 3,
     "solution": false,
     "task": false
    }
   },
   "outputs": [
    {
     "data": {
      "text/plain": [
       "defined \u001b[32mtrait\u001b[39m \u001b[36mExpr\u001b[39m\n",
       "defined \u001b[32mclass\u001b[39m \u001b[36mConst\u001b[39m\n",
       "defined \u001b[32mclass\u001b[39m \u001b[36mIdent\u001b[39m\n",
       "defined \u001b[32mclass\u001b[39m \u001b[36mPlus\u001b[39m\n",
       "defined \u001b[32mclass\u001b[39m \u001b[36mMult\u001b[39m\n",
       "defined \u001b[32mclass\u001b[39m \u001b[36mLet\u001b[39m\n",
       "defined \u001b[32mclass\u001b[39m \u001b[36mMultiLet\u001b[39m"
      ]
     },
     "execution_count": 3,
     "metadata": {},
     "output_type": "execute_result"
    }
   ],
   "source": [
    "sealed trait Expr\n",
    "case class Const(d: Double) extends Expr\n",
    "case class Ident(s: String) extends Expr\n",
    "case class Plus(e1: Expr, e2: Expr) extends Expr\n",
    "case class Mult(e1: Expr, e2: Expr) extends Expr \n",
    "case class Let(id: String, e1: Expr, e2: Expr) extends Expr\n",
    "case class MultiLet(id: List[String], eList: List[Expr], e2: Expr) extends Expr"
   ]
  },
  {
   "cell_type": "markdown",
   "id": "b51afc15",
   "metadata": {
    "deletable": false,
    "editable": false,
    "nbgrader": {
     "cell_type": "markdown",
     "checksum": "d180624b5a2f34a60ed89e1a610416ce",
     "grade": false,
     "grade_id": "cell-ff5684de0dab161b",
     "locked": true,
     "schema_version": 3,
     "solution": false,
     "task": false
    }
   },
   "source": [
    "## Semantics for MultiLet\n",
    "\n",
    "$$\\newcommand\\semrule[3]{\\begin{array}{c} #1 \\\\ \\hline #2 \\\\ \\end{array}(\\text{#3})} $$\n",
    "\n",
    "Let us write down the semantic rules for a multilet statement:\n",
    "\n",
    "$$\\newcommand\\eval{\\textit{eval}}$$\n",
    "$$\\semrule{ \\eval(\\texttt{ei}, \\texttt{env})= v_i,\\ v_i \\not= \\mathbf{error}, \\text{for}\\ i = 1, \\ldots, n,\\ \\texttt{newenv} = env \\circ \\{ \\texttt{x1} \\mapsto v_1, \\ldots, \\texttt{xn} \\mapsto v_n \\} }{ \\eval( \\texttt{MultiLet([x1,..,xn], [e1,...,en], eBody), env}) = \\eval(\\texttt{eBody, newenv})}{multilet-ok}$$\n",
    "\n",
    "The semantic rule above tells you to\n",
    "  - Evaluate each of the expressions from `e1`, ..., `en` under the environment `env`.\n",
    "  - Next, if all the expressions above evaluated without an error, it tells you to update the map `env` by binding each `xi` to $v_i$, the result of evaluating `ei`. You can use the Scala Map \"++\" operator to achieve this in one shot.\n",
    "  \n",
    "  ~~~\n",
    "  val m1 : Map[String, Int] = Map( \"x\" -> 10, \"y\" -> 20, \"z\" -> 30 )\n",
    "  val m2 : Map[String, Int] = Map( \"w\" -> 40, \"l\" -> 50, \"z\" -> 60)\n",
    "  val m3 = m1 ++ m2 // Join the two maps together and obtain a new map. z will map to 60\n",
    "  ~~~\n",
    "  - Finally, you should evaluate `eBody` under the new environment created.\n",
    "\n",
    "For convenience, we write a single \"generic\" semantic rule that shows that if some argument `ej` evaluates to an error, the whole expression is erroneous.\n",
    "\n",
    "$$\\semrule{ j \\leq n, \\eval(\\texttt{ei}, \\texttt{env})= v_i,\\ v_i \\not= \\mathbf{error}, \\text{for}\\ i = 1, \\ldots, j-1,\\ \\ eval(\\texttt{ej}, \\texttt{env})= \\mathbf{error} }{ \\eval( \\texttt{MultiLet([x1,..,xn], [e1,...,en], eBody), env}) = \\mathbf{error}}{multilet-err-j}$$\n",
    "\n",
    "### Interpreter for MultiLet Statements\n",
    "\n",
    "Complete the missing parts of the following interpreter for the lettuce language with `multi-let` statements. Your interpreter does not need to \"propagate\" error: instead you should throw an `IllegalArgumentException` whenever an error is encountered.\n",
    "\n",
    "### Style Guide\n",
    "\n",
    "Use of var/while/for loops in your solution below is disallowed. Use higher-order functions such as `map` and `zip` instead.\n"
   ]
  },
  {
   "cell_type": "code",
   "execution_count": 4,
   "id": "0440788d",
   "metadata": {
    "deletable": false,
    "nbgrader": {
     "cell_type": "code",
     "checksum": "5298c90883fc01732b5e3e679f75dfbc",
     "grade": false,
     "grade_id": "cell-b0c581e7fd05ee58",
     "locked": false,
     "schema_version": 3,
     "solution": true,
     "task": false
    }
   },
   "outputs": [
    {
     "data": {
      "text/plain": [
       "defined \u001b[32mtrait\u001b[39m \u001b[36mValue\u001b[39m\n",
       "defined \u001b[32mclass\u001b[39m \u001b[36mNumValue\u001b[39m\n",
       "defined \u001b[32mobject\u001b[39m \u001b[36mError\u001b[39m\n",
       "defined \u001b[32mtype\u001b[39m \u001b[36mEnvironment\u001b[39m\n",
       "defined \u001b[32mfunction\u001b[39m \u001b[36mevalExpr\u001b[39m"
      ]
     },
     "execution_count": 4,
     "metadata": {},
     "output_type": "execute_result"
    }
   ],
   "source": [
    "sealed trait Value\n",
    "case class NumValue(f: Double) extends Value\n",
    "case object Error extends Value /* -- Do not return Error -- simply throw an new IllegalArgumentException whenever you encounter an erroneous case --*/\n",
    "\n",
    "type Environment = Map[String, Value]\n",
    "\n",
    "def evalExpr(e: Expr, env: Environment): Value = {\n",
    "    \n",
    "    e match {\n",
    "        case Const(f) => NumValue(f)\n",
    "        case Ident(x) => {\n",
    "            if (env.contains(x)) {\n",
    "                env(x)\n",
    "            } else {\n",
    "                throw new IllegalArgumentException(\"Not found identifier\")\n",
    "            }\n",
    "        }\n",
    "        case Plus(e1, e2) => {\n",
    "            val v1 = evalExpr(e1, env)\n",
    "            val v2 = evalExpr(e2, env)\n",
    "            (v1, v2) match {\n",
    "                case (NumValue(f1), NumValue(f2)) => NumValue(f1 + f2)\n",
    "                case _ => throw new IllegalArgumentException(\"plus failed\")\n",
    "            }\n",
    "        }\n",
    "        case Mult(e1, e2) => {\n",
    "            val v1 = evalExpr(e1, env)\n",
    "            val v2 = evalExpr(e2, env)\n",
    "            (v1, v2) match {\n",
    "                case (NumValue(f1), NumValue(f2)) => NumValue(f1 * f2)\n",
    "                case _ => throw new IllegalArgumentException(\"mult failed\")\n",
    "            }\n",
    "        }\n",
    "        case Let(x, e1, e2) => {\n",
    "            // YOUR CODE HERE\n",
    "            val v1 = evalExpr(e1, env)\n",
    "            val env2 = env + (x -> v1)\n",
    "            evalExpr(e2, env2)\n",
    "        }\n",
    "        case MultiLet(xList, eList, e2) => {\n",
    "            if (xList.length == eList.length) {\n",
    "                val inputValues = eList.map(x => evalExpr(x, env))\n",
    "                val newVariables = xList.zip(inputValues)\n",
    "                val updatedEnv = newVariables.foldLeft[Environment] (env) {\n",
    "                    (newEnv, newBind) => newEnv + (newBind._1 -> newBind._2)\n",
    "                }\n",
    "                evalExpr(e2, updatedEnv)\n",
    "            } else {\n",
    "                throw new IllegalArgumentException(\"No\")\n",
    "            }\n",
    "        }\n",
    "    }\n",
    "}"
   ]
  },
  {
   "cell_type": "code",
   "execution_count": 5,
   "id": "3a71510c",
   "metadata": {
    "deletable": false,
    "editable": false,
    "nbgrader": {
     "cell_type": "code",
     "checksum": "27adccc5460fb2fa55e8194794b6ead6",
     "grade": true,
     "grade_id": "cell-057ff52ae71bca9f",
     "locked": true,
     "points": 7,
     "schema_version": 3,
     "solution": false,
     "task": false
    }
   },
   "outputs": [
    {
     "name": "stdout",
     "output_type": "stream",
     "text": [
      "\n",
      "*** Tests Passed (7 points) ***\n"
     ]
    },
    {
     "data": {
      "text/plain": [
       "\u001b[36mx\u001b[39m: \u001b[32mIdent\u001b[39m = \u001b[33mIdent\u001b[39m(s = \u001b[32m\"x\"\u001b[39m)\n",
       "\u001b[36my\u001b[39m: \u001b[32mIdent\u001b[39m = \u001b[33mIdent\u001b[39m(s = \u001b[32m\"y\"\u001b[39m)\n",
       "\u001b[36mlet1\u001b[39m: \u001b[32mLet\u001b[39m = \u001b[33mLet\u001b[39m(\n",
       "  id = \u001b[32m\"x\"\u001b[39m,\n",
       "  e1 = \u001b[33mIdent\u001b[39m(s = \u001b[32m\"y\"\u001b[39m),\n",
       "  e2 = \u001b[33mPlus\u001b[39m(\n",
       "    e1 = \u001b[33mIdent\u001b[39m(s = \u001b[32m\"x\"\u001b[39m),\n",
       "    e2 = \u001b[33mMult\u001b[39m(e1 = \u001b[33mIdent\u001b[39m(s = \u001b[32m\"x\"\u001b[39m), e2 = \u001b[33mIdent\u001b[39m(s = \u001b[32m\"y\"\u001b[39m))\n",
       "  )\n",
       ")\n",
       "\u001b[36mmlet1\u001b[39m: \u001b[32mMultiLet\u001b[39m = \u001b[33mMultiLet\u001b[39m(\n",
       "  id = \u001b[33mList\u001b[39m(\u001b[32m\"x\"\u001b[39m, \u001b[32m\"y\"\u001b[39m),\n",
       "  eList = \u001b[33mList\u001b[39m(\u001b[33mConst\u001b[39m(d = \u001b[32m10.0\u001b[39m), \u001b[33mConst\u001b[39m(d = \u001b[32m20.0\u001b[39m)),\n",
       "  e2 = \u001b[33mLet\u001b[39m(\n",
       "    id = \u001b[32m\"x\"\u001b[39m,\n",
       "    e1 = \u001b[33mIdent\u001b[39m(s = \u001b[32m\"y\"\u001b[39m),\n",
       "    e2 = \u001b[33mPlus\u001b[39m(\n",
       "      e1 = \u001b[33mIdent\u001b[39m(s = \u001b[32m\"x\"\u001b[39m),\n",
       "      e2 = \u001b[33mMult\u001b[39m(e1 = \u001b[33mIdent\u001b[39m(s = \u001b[32m\"x\"\u001b[39m), e2 = \u001b[33mIdent\u001b[39m(s = \u001b[32m\"y\"\u001b[39m))\n",
       "    )\n",
       "  )\n",
       ")\n",
       "\u001b[36mv\u001b[39m: \u001b[32mValue\u001b[39m = \u001b[33mNumValue\u001b[39m(f = \u001b[32m420.0\u001b[39m)"
      ]
     },
     "execution_count": 5,
     "metadata": {},
     "output_type": "execute_result"
    }
   ],
   "source": [
    "//BEGIN TEST\n",
    "/*\n",
    " let (x, y) = (10, 20) in \n",
    "    let x = y in \n",
    "      x +  x * y\n",
    "*/\n",
    "val x = Ident(\"x\")\n",
    "val y = Ident(\"y\")\n",
    "val let1 = Let(\"x\", y, Plus(x, Mult(x, y)) )\n",
    "val mlet1 = MultiLet( List(\"x\", \"y\"), List(Const(10.0), Const(20.0)), let1)\n",
    "val v = evalExpr(mlet1, Map.empty)\n",
    "assert(v == NumValue(420.0), s\"Test 1 failed expected: NumValue(420.0), obtained $v\")\n",
    "\n",
    "passed(7)\n",
    "//END TEST"
   ]
  },
  {
   "cell_type": "code",
   "execution_count": 6,
   "id": "0acbedf1",
   "metadata": {
    "deletable": false,
    "editable": false,
    "nbgrader": {
     "cell_type": "code",
     "checksum": "3cf18e4ab8285c9528ce3ad79a44a4a7",
     "grade": true,
     "grade_id": "cell-0e289e2aff61b5b0",
     "locked": true,
     "points": 10,
     "schema_version": 3,
     "solution": false,
     "task": false
    }
   },
   "outputs": [
    {
     "name": "stderr",
     "output_type": "stream",
     "text": [
      "cmd6.sc:16: This catches all Throwables. If this is really intended, use `case _ : Throwable` to clear this warning.\n",
      "    case _ => {println(\"Wrong type of exception thrown\")}\n",
      "         ^\n"
     ]
    },
    {
     "name": "stdout",
     "output_type": "stream",
     "text": [
      "Illegal argument exception caught -- as expected!!\n",
      "\n",
      "*** Tests Passed (10 points) ***\n"
     ]
    },
    {
     "data": {
      "text/plain": [
       "\u001b[36mx\u001b[39m: \u001b[32mIdent\u001b[39m = \u001b[33mIdent\u001b[39m(s = \u001b[32m\"x\"\u001b[39m)\n",
       "\u001b[36my\u001b[39m: \u001b[32mIdent\u001b[39m = \u001b[33mIdent\u001b[39m(s = \u001b[32m\"y\"\u001b[39m)\n",
       "\u001b[36mlet1\u001b[39m: \u001b[32mLet\u001b[39m = \u001b[33mLet\u001b[39m(\n",
       "  id = \u001b[32m\"x\"\u001b[39m,\n",
       "  e1 = \u001b[33mIdent\u001b[39m(s = \u001b[32m\"y\"\u001b[39m),\n",
       "  e2 = \u001b[33mPlus\u001b[39m(\n",
       "    e1 = \u001b[33mIdent\u001b[39m(s = \u001b[32m\"x\"\u001b[39m),\n",
       "    e2 = \u001b[33mMult\u001b[39m(e1 = \u001b[33mIdent\u001b[39m(s = \u001b[32m\"x\"\u001b[39m), e2 = \u001b[33mIdent\u001b[39m(s = \u001b[32m\"y\"\u001b[39m))\n",
       "  )\n",
       ")\n",
       "\u001b[36mmlet1\u001b[39m: \u001b[32mMultiLet\u001b[39m = \u001b[33mMultiLet\u001b[39m(\n",
       "  id = \u001b[33mList\u001b[39m(\u001b[32m\"x\"\u001b[39m, \u001b[32m\"y\"\u001b[39m),\n",
       "  eList = \u001b[33mList\u001b[39m(\u001b[33mConst\u001b[39m(d = \u001b[32m10.0\u001b[39m), \u001b[33mIdent\u001b[39m(s = \u001b[32m\"x\"\u001b[39m)),\n",
       "  e2 = \u001b[33mLet\u001b[39m(\n",
       "    id = \u001b[32m\"x\"\u001b[39m,\n",
       "    e1 = \u001b[33mIdent\u001b[39m(s = \u001b[32m\"y\"\u001b[39m),\n",
       "    e2 = \u001b[33mPlus\u001b[39m(\n",
       "      e1 = \u001b[33mIdent\u001b[39m(s = \u001b[32m\"x\"\u001b[39m),\n",
       "      e2 = \u001b[33mMult\u001b[39m(e1 = \u001b[33mIdent\u001b[39m(s = \u001b[32m\"x\"\u001b[39m), e2 = \u001b[33mIdent\u001b[39m(s = \u001b[32m\"y\"\u001b[39m))\n",
       "    )\n",
       "  )\n",
       ")"
      ]
     },
     "execution_count": 6,
     "metadata": {},
     "output_type": "execute_result"
    }
   ],
   "source": [
    "//BEGIN TEST\n",
    "/*\n",
    " let (x, y) = (10, x) in \n",
    "    let x = y in \n",
    "      x +  x * y\n",
    "*/\n",
    "val x = Ident(\"x\")\n",
    "val y = Ident(\"y\")\n",
    "val let1 = Let(\"x\", y, Plus(x, Mult(x, y)) )\n",
    "val mlet1 = MultiLet( List(\"x\", \"y\"), List(Const(10.0), x), let1)\n",
    "try {\n",
    "    val v = evalExpr(mlet1, Map.empty)\n",
    "    assert(false, \"Test 2 failed -- your code should detect a usage of x that is out of scope\")\n",
    "} catch {\n",
    "    case e:IllegalArgumentException => { println(\"Illegal argument exception caught -- as expected!!\") }\n",
    "    case _ => {println(\"Wrong type of exception thrown\")}\n",
    "}\n",
    "\n",
    "passed(10)\n",
    "//END TEST"
   ]
  },
  {
   "cell_type": "code",
   "execution_count": 7,
   "id": "c26af9e7",
   "metadata": {
    "deletable": false,
    "editable": false,
    "nbgrader": {
     "cell_type": "code",
     "checksum": "00d6ec178271972b7cb13138a693b589",
     "grade": true,
     "grade_id": "cell-0b8bac4591e81507",
     "locked": true,
     "points": 8,
     "schema_version": 3,
     "solution": false,
     "task": false
    }
   },
   "outputs": [
    {
     "name": "stdout",
     "output_type": "stream",
     "text": [
      "\n",
      "*** Tests Passed (8 points) ***\n"
     ]
    },
    {
     "data": {
      "text/plain": [
       "\u001b[36mx\u001b[39m: \u001b[32mIdent\u001b[39m = \u001b[33mIdent\u001b[39m(s = \u001b[32m\"x\"\u001b[39m)\n",
       "\u001b[36my\u001b[39m: \u001b[32mIdent\u001b[39m = \u001b[33mIdent\u001b[39m(s = \u001b[32m\"y\"\u001b[39m)\n",
       "\u001b[36mz\u001b[39m: \u001b[32mIdent\u001b[39m = \u001b[33mIdent\u001b[39m(s = \u001b[32m\"z\"\u001b[39m)\n",
       "\u001b[36mw\u001b[39m: \u001b[32mIdent\u001b[39m = \u001b[33mIdent\u001b[39m(s = \u001b[32m\"w\"\u001b[39m)\n",
       "\u001b[36mten\u001b[39m: \u001b[32mConst\u001b[39m = \u001b[33mConst\u001b[39m(d = \u001b[32m10.0\u001b[39m)\n",
       "\u001b[36mtwenty\u001b[39m: \u001b[32mConst\u001b[39m = \u001b[33mConst\u001b[39m(d = \u001b[32m20.0\u001b[39m)\n",
       "\u001b[36minnerLet2\u001b[39m: \u001b[32mLet\u001b[39m = \u001b[33mLet\u001b[39m(\n",
       "  id = \u001b[32m\"w\"\u001b[39m,\n",
       "  e1 = \u001b[33mIdent\u001b[39m(s = \u001b[32m\"w\"\u001b[39m),\n",
       "  e2 = \u001b[33mMult\u001b[39m(\n",
       "    e1 = \u001b[33mIdent\u001b[39m(s = \u001b[32m\"x\"\u001b[39m),\n",
       "    e2 = \u001b[33mPlus\u001b[39m(e1 = \u001b[33mIdent\u001b[39m(s = \u001b[32m\"y\"\u001b[39m), e2 = \u001b[33mIdent\u001b[39m(s = \u001b[32m\"w\"\u001b[39m))\n",
       "  )\n",
       ")\n",
       "\u001b[36mmultiLet1\u001b[39m: \u001b[32mMultiLet\u001b[39m = \u001b[33mMultiLet\u001b[39m(\n",
       "  id = \u001b[33mList\u001b[39m(),\n",
       "  eList = \u001b[33mList\u001b[39m(),\n",
       "  e2 = \u001b[33mLet\u001b[39m(\n",
       "    id = \u001b[32m\"w\"\u001b[39m,\n",
       "    e1 = \u001b[33mIdent\u001b[39m(s = \u001b[32m\"w\"\u001b[39m),\n",
       "    e2 = \u001b[33mMult\u001b[39m(\n",
       "      e1 = \u001b[33mIdent\u001b[39m(s = \u001b[32m\"x\"\u001b[39m),\n",
       "      e2 = \u001b[33mPlus\u001b[39m(e1 = \u001b[33mIdent\u001b[39m(s = \u001b[32m\"y\"\u001b[39m), e2 = \u001b[33mIdent\u001b[39m(s = \u001b[32m\"w\"\u001b[39m))\n",
       "    )\n",
       "  )\n",
       ")\n",
       "\u001b[36me\u001b[39m: \u001b[32mMultiLet\u001b[39m = \u001b[33mMultiLet\u001b[39m(\n",
       "  id = \u001b[33mList\u001b[39m(\u001b[32m\"x\"\u001b[39m, \u001b[32m\"y\"\u001b[39m, \u001b[32m\"z\"\u001b[39m, \u001b[32m\"w\"\u001b[39m),\n",
       "  eList = \u001b[33mList\u001b[39m(\n",
       "    \u001b[33mConst\u001b[39m(d = \u001b[32m10.0\u001b[39m),\n",
       "    \u001b[33mConst\u001b[39m(d = \u001b[32m10.0\u001b[39m),\n",
       "    \u001b[33mConst\u001b[39m(d = \u001b[32m10.0\u001b[39m),\n",
       "    \u001b[33mConst\u001b[39m(d = \u001b[32m20.0\u001b[39m)\n",
       "  ),\n",
       "  e2 = \u001b[33mMultiLet\u001b[39m(\n",
       "    id = \u001b[33mList\u001b[39m(),\n",
       "    eList = \u001b[33mList\u001b[39m(),\n",
       "    e2 = \u001b[33mLet\u001b[39m(\n",
       "      id = \u001b[32m\"w\"\u001b[39m,\n",
       "      e1 = \u001b[33mIdent\u001b[39m(s = \u001b[32m\"w\"\u001b[39m),\n",
       "      e2 = \u001b[33mMult\u001b[39m(\n",
       "        e1 = \u001b[33mIdent\u001b[39m(s = \u001b[32m\"x\"\u001b[39m),\n",
       "        e2 = \u001b[33mPlus\u001b[39m(e1 = \u001b[33mIdent\u001b[39m(s = \u001b[32m\"y\"\u001b[39m), e2 = \u001b[33mIdent\u001b[39m(s = \u001b[32m\"w\"\u001b[39m))\n",
       "      )\n",
       "    )\n",
       "  )\n",
       ")\n",
       "\u001b[36mv\u001b[39m: \u001b[32mValue\u001b[39m = \u001b[33mNumValue\u001b[39m(f = \u001b[32m300.0\u001b[39m)"
      ]
     },
     "execution_count": 7,
     "metadata": {},
     "output_type": "execute_result"
    }
   ],
   "source": [
    "//BEGIN TEST\n",
    "/*\n",
    "let (x, y, z, w) = (10, 10, 10, 20 ) in \n",
    "  let () = () in \n",
    "    let w = w in \n",
    "       x *( y + w )\n",
    "*/\n",
    "\n",
    "val x = Ident(\"x\")\n",
    "val y = Ident(\"y\")\n",
    "val z = Ident(\"z\")\n",
    "val w = Ident(\"w\")\n",
    "val ten = Const(10.0)\n",
    "val twenty = Const(20.0)\n",
    "val innerLet2 = Let(\"w\", w, Mult(x, Plus(y, w)))\n",
    "val multiLet1 = MultiLet(Nil, Nil, innerLet2)\n",
    "val e = MultiLet(List(\"x\",\"y\",\"z\",\"w\"), List(ten, ten, ten, twenty), multiLet1)\n",
    "val v = evalExpr(e, Map.empty)\n",
    "assert(v == NumValue(300.0), \"Test2 Failed -- expected value NumValue(300.0), obtained value $v\")\n",
    "\n",
    "passed(8)\n",
    "//END TEST"
   ]
  },
  {
   "cell_type": "markdown",
   "id": "44e1c039",
   "metadata": {
    "deletable": false,
    "editable": false,
    "nbgrader": {
     "cell_type": "markdown",
     "checksum": "f3b519f775a6a8a1a01900f26fade6e5",
     "grade": false,
     "grade_id": "cell-271c9f30e1d344b0",
     "locked": true,
     "schema_version": 3,
     "solution": false,
     "task": false
    }
   },
   "source": [
    "## Problem 2: Tag Usages of Identifiers with Definitions (25 points)\n",
    "\n",
    "In this problem, we will extend Lettuce by adding user-defined \"tags\" to the `Let` bindings and usages `Ident` in the abstract syntax. The task is to produce a mapping from each ident-tag back to the tag of the let binding that defines the variable, such that scoping becomes explicit. This kind of analysis is called a \"use-def\" chain and is used in many compilers to optimize the code that is generated (https://en.wikipedia.org/wiki/Use-define_chain).\n",
    "\n",
    "## Example 1\n",
    "\n",
    "~~~\n",
    "let x (@tag1) = 10 in \n",
    "   let y (@tag2 ) = ( let x (@tag3) = 10 in x (@use1) + 100 ) in \n",
    "      x (@use2) + y (@use3)\n",
    "~~~\n",
    "\n",
    "In this example, we add \"comment tags\" to each let binding (`tag1`, `tag2` and `tag3`) and to each usage (`use1`, `use2`, `use3`). The tags play no role in the program execution other than giving names to refer to the appropriate definitions and usages of identifiers. \n",
    "\n",
    "The purpose of this analysis is to produce a Map that maps usage tags to the let binding tags.\n",
    "\n",
    "~~~\n",
    "use1 -> tag3\n",
    "use2 -> tag1\n",
    "use3 -> tag2\n",
    "~~~\n",
    "\n",
    "This denotes that the usage tagged \"use1\" corresponds to the let-binding \"tag3\", \"use2\" usage corresponds to let binding \"tag1\" and \"use3\" usage corresponds to let binding \"tag2\".\n",
    "\n",
    "\n",
    "\n",
    "\n",
    "### Abstract Syntax\n",
    "\n",
    "$$\\begin{array}{rcll}\n",
    "  \\mathbf{Expr} & \\Rightarrow & \\text{Const}(\\mathbf{Double}) \\\\\n",
    "  & | & \\text{Ident}(\\mathbf{String}, \\color{red}{\\mathbf{Tag}} ) \\\\\n",
    "  & | & \\text{Plus}(\\mathbf{Expr}, \\mathbf{Expr}) \\\\\n",
    "  & | & \\text{Mult}(\\mathbf{Expr}, \\mathbf{Expr})\\\\\n",
    "  & | & \\text{Let}(\\mathbf{Ident}, \\color{red}{\\mathbf{Tag}}, \\mathbf{Expr}, \\mathbf{Expr}) \\\\\n",
    "  \\color{red}{\\mathbf{Tag}} & \\Rightarrow & \\mathbf{String} \\\\\n",
    "  \\end{array}$$\n",
    "  \n",
    "We will modify the abstract syntax as shown by the grammar above. Note that we add a new non-terminal called __Tag__ that is simply another name for a scala String datatype. We add these tags to `Ident` and `Let` which are the places where new identifiers are produced.\n",
    "\n",
    "Note: \n",
    "\n",
    " - We do not really differentiate use/def tags -- they are all strings that are user defined.\n",
    " - All tags must be distinct from one another. This need not be checked.\n",
    " \n",
    "\n",
    "### Semantic Rules\n",
    "\n",
    "We will now define the function: `getAllUseDefLinks(e: Expr, env: Map[String, String]): Map[String, String]` that will return a map from the \"use tags\" strings to the \"def tags\" strings. \n",
    "  - We will use an extra parameter `env` to keep track of a \"tag environment\", which maps idenfiers to tags. This is similar in one sense to the environment we have seen for `eval` but rather than mapping to a `Value` for each identifier, it maps to a \"tag\".\n",
    "  \n",
    "  \n",
    "\n",
    "\n",
    "$$\\newcommand\\semrule[3]{\\begin{array}{c} #1 \\\\ \\hline #2 \\\\ \\end{array}(\\text{#3})} $$\n",
    "$$\\newcommand\\getAllUseDefLinks{\\textsf{getAllUseDefLinks}}$$\n",
    "\n",
    "Here is the rule for a let-binding:\n",
    "\n",
    "$$\\semrule{ \\getAllUseDefLinks(\\texttt{e1}, \\text{env}) = \\text{map1},\\ \\text{env}' = \\text{env}\\circ [id \\mapsto tag],\\ \\getAllUseDefLinks(\\texttt{e2}, \\text{env}') = \\text{map2} }{ \\getAllUseDefLinks(\\texttt{Let(id, tag, e1, e2)}, \\text{env}) = map1 + map2  }{let-binding}$$ \n",
    "\n",
    "  - First compute the use-def mappings for the RHS expression `e1`.\n",
    "  - Next, update the environment to note that identifier `id` is associated with `tag`.\n",
    "  - Now, compute the mappings for \"in\" expression `e2` under the new environment.\n",
    "  - Conjoin the two maps for `e1` and `e2`.\n",
    "\n",
    "\n",
    "Here are two rules for a identifiers:\n",
    "\n",
    "\n",
    "$$\\semrule{ \\texttt{id} \\in \\mathsf{domain}(\\text{env})}{ \\getAllUseDefLinks(\\texttt{Ident(id, usetag)}, \\text{env}) = \\{ \\texttt{usetag} \\rightarrow \\text{env}(\\texttt{id}) \\} }{ident-defined}$$ \n",
    "\n",
    "- If the identifier `id` belongs to the domain of the environment, then return a singleton mapping from the use-tag `usetag` associated with this use of `id` to the tag looked up from the environment.\n",
    "\n",
    "\n",
    "$$\\semrule{ \\texttt{id} \\not\\in \\mathsf{domain}(\\text{env})}{ \\getAllUseDefLinks(\\texttt{Ident(id, usetag)}, \\text{env}) = \\{ \\texttt{usetag} \\rightarrow  \\text{\"UNDEFINED\"} \\} }{ident-undefined}$$ \n",
    "\n",
    "Note that we reserve a special tag name `UNDEFINED` (i.e., the string \"UNDEFINED\") to denote identifiers that are not defined in the current scope.\n",
    "\n",
    "- If the identifier `id` does not belong to the domain of the environment, then return a singleton mapping from the use-tag `usetag` associated with this use of `id` to the special tag `UNDEFINED`.\n",
    "\n",
    "### Part (A) : Complete the rules for Plus and Const (5 points).\n",
    "This part is not ~graded~ evaluated for correctness, but you will need these rules to complete the `getAllUseDefLinks` implementation below. 5 points for making an attempt at the rules.\n",
    "\n",
    "#### Plus \n",
    "$$\\semrule{ ???_1}{ \\getAllUseDefLinks(\\texttt{Plus(e1, e2)}, \\text{env}) = ???_2 }{plus}$$ \n",
    "\n",
    "Write down what should go in for $???_1$ and $???_2$ below.\n",
    "\n",
    " - If there are no antecedents just write \"blank\". \n",
    " - The empty map is represented as $\\{\\}$.\n",
    " - Concatenation of two maps is `map1` and `map2` is denoted `map1 + map2`: the scala operator for this is `++` though."
   ]
  },
  {
   "cell_type": "markdown",
   "id": "03c6d36a",
   "metadata": {
    "deletable": false,
    "nbgrader": {
     "cell_type": "markdown",
     "checksum": "ebca1d39c5bcae9ecfa04b503c4f2b2d",
     "grade": true,
     "grade_id": "cell-8f70352346def39f",
     "locked": false,
     "points": 3,
     "schema_version": 3,
     "solution": true,
     "task": false
    }
   },
   "source": [
    "YOUR ANSWER HERE"
   ]
  },
  {
   "cell_type": "markdown",
   "id": "e85439f2",
   "metadata": {
    "deletable": false,
    "editable": false,
    "nbgrader": {
     "cell_type": "markdown",
     "checksum": "793dc058f2d955fea1af3490c5f98f87",
     "grade": false,
     "grade_id": "cell-11bfe57108dd3895",
     "locked": true,
     "schema_version": 3,
     "solution": false,
     "task": false
    }
   },
   "source": [
    "#### Const\n",
    "\n",
    "$$\\semrule{???_1}{ \\getAllUseDefLinks(\\texttt{Const(f)}, \\text{env}) = ???_2 }{const}$$\n",
    "\n",
    "Write down what should go in for $???_1$ and $???_2$ below.\n",
    "\n",
    "  - If there are no antecedents just write \"blank\".\n",
    "  - The empty map is represented as $\\{\\}$.\n",
    "  - Concatenation of two maps is `map1` and `map2` is denoted `map1 + map2`."
   ]
  },
  {
   "cell_type": "markdown",
   "id": "dac31ee0",
   "metadata": {
    "deletable": false,
    "nbgrader": {
     "cell_type": "markdown",
     "checksum": "8a223214adb48eb90449b384aae6c6d3",
     "grade": true,
     "grade_id": "cell-256241257aa14836",
     "locked": false,
     "points": 2,
     "schema_version": 3,
     "solution": true,
     "task": false
    }
   },
   "source": [
    "YOUR ANSWER HERE"
   ]
  },
  {
   "cell_type": "code",
   "execution_count": 8,
   "id": "10367aa2",
   "metadata": {
    "deletable": false,
    "editable": false,
    "nbgrader": {
     "cell_type": "code",
     "checksum": "7031c60dcd042b1ff6097cf4844b1381",
     "grade": false,
     "grade_id": "cell-97dae7e2ba3a272f",
     "locked": true,
     "schema_version": 3,
     "solution": false,
     "task": false
    }
   },
   "outputs": [
    {
     "data": {
      "text/plain": [
       "defined \u001b[32mtrait\u001b[39m \u001b[36mExpr\u001b[39m\n",
       "defined \u001b[32mtype\u001b[39m \u001b[36mTag\u001b[39m\n",
       "defined \u001b[32mtype\u001b[39m \u001b[36mIdentifier\u001b[39m\n",
       "defined \u001b[32mclass\u001b[39m \u001b[36mConst\u001b[39m\n",
       "defined \u001b[32mclass\u001b[39m \u001b[36mIdent\u001b[39m\n",
       "defined \u001b[32mclass\u001b[39m \u001b[36mPlus\u001b[39m\n",
       "defined \u001b[32mclass\u001b[39m \u001b[36mMult\u001b[39m\n",
       "defined \u001b[32mclass\u001b[39m \u001b[36mLet\u001b[39m"
      ]
     },
     "execution_count": 8,
     "metadata": {},
     "output_type": "execute_result"
    }
   ],
   "source": [
    "sealed trait Expr\n",
    "type Tag = String \n",
    "type Identifier = String \n",
    "\n",
    "case class Const(d: Double) extends Expr\n",
    "case class Ident(id:Identifier, tag: Tag) extends Expr\n",
    "case class Plus(e1: Expr, e2: Expr) extends Expr\n",
    "case class Mult(e1: Expr, e2: Expr) extends Expr \n",
    "case class Let(id: Identifier, tag: Tag, e1: Expr, e2: Expr) extends Expr\n"
   ]
  },
  {
   "cell_type": "code",
   "execution_count": null,
   "id": "e983c3c4",
   "metadata": {
    "deletable": false,
    "nbgrader": {
     "cell_type": "code",
     "checksum": "f5ef71f3b2b1d02f98406e15bfce6555",
     "grade": false,
     "grade_id": "cell-f78988f9d5c35370",
     "locked": false,
     "schema_version": 3,
     "solution": true,
     "task": false
    }
   },
   "outputs": [],
   "source": [
    "def getAllUseDefLinks(e: Expr, env: Map[Identifier, Tag]): Map[Tag, Tag] =\n",
    "\n",
    "    e match {\n",
    "        case Const(_) => {\n",
    "            // YOUR CODE HERE\n",
    "            ???\n",
    "        }\n",
    "        case Ident(id, usetag) => {\n",
    "            // YOUR CODE HERE\n",
    "            ???\n",
    "        }\n",
    "    \n",
    "        case Plus(e1, e2) => {\n",
    "            // YOUR CODE HERE\n",
    "            ???\n",
    "        }\n",
    "    \n",
    "        case Mult(e1, e2) => {\n",
    "            // YOUR CODE HERE\n",
    "            ???\n",
    "        }\n",
    "    \n",
    "        case Let(x, tag, e1, e2) => {\n",
    "            // YOUR CODE HERE\n",
    "            ???\n",
    "        }\n",
    "}\n"
   ]
  },
  {
   "cell_type": "code",
   "execution_count": null,
   "id": "ce1a1aeb",
   "metadata": {
    "deletable": false,
    "editable": false,
    "nbgrader": {
     "cell_type": "code",
     "checksum": "a179f60a743754f72f76a796aebb27d2",
     "grade": true,
     "grade_id": "cell-d5a3120cfef87e17",
     "locked": true,
     "points": 10,
     "schema_version": 3,
     "solution": false,
     "task": false
    }
   },
   "outputs": [],
   "source": [
    "// Some helpful functions to write test cases -- you can ignore these.\n",
    "\n",
    "def x(tag:String):Expr = Ident(\"x\",  tag)\n",
    "def y(tag:String):Expr = Ident(\"y\",  tag)\n",
    "def z(tag:String):Expr = Ident(\"z\",  tag)\n",
    "def w(tag:String):Expr = Ident(\"w\", tag)\n",
    "\n",
    "\n",
    "/*\n",
    " let y@tag2 = x @use0 in \n",
    "    let x @tag1 = 10 in \n",
    "       x@use1 + x@use2\n",
    "*/\n",
    "val e = Let(\"y\", \"tag2\", x(\"use0\"), Let (\"x\", \"tag1\", Const(10), Plus(x(\"use1\"), x(\"use2\"))))\n",
    "val map = getAllUseDefLinks(e, Map.empty)\n",
    "\n",
    "assert (map(\"use0\") == \"UNDEFINED\", s\"Test1 failed: use0 must be associated with UNDEFINED. Your code returns ${map(\"use0\")}\")\n",
    "assert (map(\"use1\") == \"tag1\", s\"Test2 failed: use1 must be associated with tag1. Your code returns ${map(\"use1\")}\")\n",
    "assert (map(\"use2\") == \"tag1\", s\"Test3 failed: use2 must be associated with tag1. Your code returns ${map(\"use2\")}\")\n",
    "\n",
    "passed(10)"
   ]
  },
  {
   "cell_type": "code",
   "execution_count": null,
   "id": "72df624f",
   "metadata": {
    "deletable": false,
    "editable": false,
    "nbgrader": {
     "cell_type": "code",
     "checksum": "8aa6cdbbe8e0320e01ec791aac55de62",
     "grade": true,
     "grade_id": "cell-0c9a1ff855474d92",
     "locked": true,
     "points": 10,
     "schema_version": 3,
     "solution": false,
     "task": false
    }
   },
   "outputs": [],
   "source": [
    "/* \n",
    "let x @tag3 =  x @use0 + 10 in \n",
    "   let y@tag1 = 10 in \n",
    "      x@use1 * y @use2 */\n",
    "\n",
    "val e =  Let(\"x\", \"tag3\", Plus(x(\"use0\"), Const(10.0)), \n",
    "            Let (\"y\", \"tag1\", Const(10), Mult(x(\"use1\"), y(\"use2\"))))\n",
    "val map = getAllUseDefLinks(e, Map.empty)\n",
    "assert (map(\"use0\") == \"UNDEFINED\", s\"Test1 failed: use0 must be associated with UNDEFINED. Your code returns ${map(\"use0\")}\")\n",
    "assert (map(\"use1\") == \"tag3\", s\"Test2 failed: use1 must be associated with UNDEFINED. Your code returns ${map(\"use1\")}\")\n",
    "assert (map(\"use2\") == \"tag1\", s\"Test3 failed: use2 must be associated with tag1. Your code returns ${map(\"use2\")}\")\n",
    "\n",
    "passed(10)"
   ]
  },
  {
   "cell_type": "markdown",
   "id": "525e2beb",
   "metadata": {
    "deletable": false,
    "editable": false,
    "nbgrader": {
     "cell_type": "markdown",
     "checksum": "8bf705e2de71e43cfc8e5bdd69cbcf68",
     "grade": false,
     "grade_id": "cell-7e1d531affd2434a",
     "locked": true,
     "schema_version": 3,
     "solution": false,
     "task": false
    }
   },
   "source": [
    "## That's All Folks!"
   ]
  }
 ],
 "metadata": {
  "kernelspec": {
   "display_name": "Scala",
   "language": "scala",
   "name": "scala"
  },
  "language_info": {
   "codemirror_mode": "text/x-scala",
   "file_extension": ".sc",
   "mimetype": "text/x-scala",
   "name": "scala",
   "nbconvert_exporter": "script",
   "version": "2.13.14"
  }
 },
 "nbformat": 4,
 "nbformat_minor": 5
}
