{
 "cells": [
  {
   "cell_type": "markdown",
   "id": "c6dcf609",
   "metadata": {},
   "source": [
    "Before you turn this problem in, make sure everything runs as expected. First, **restart the kernel** (in the menubar, select Kernel $\\rightarrow$ Restart) and then **run all cells** (in the menubar, select Cell $\\rightarrow$ Run All).\n",
    "\n",
    "Make sure you fill in any place that says `YOUR CODE HERE` or \"YOUR ANSWER HERE\", as well as your name and collaborators below:"
   ]
  },
  {
   "cell_type": "markdown",
   "id": "63a36970",
   "metadata": {},
   "source": [
    "NAME = \"Rey Stone\"\n",
    "COLLABORATORS = \"Me, myself, and the Oxford comma\""
   ]
  },
  {
   "cell_type": "markdown",
   "id": "e5545b49",
   "metadata": {},
   "source": [
    "---"
   ]
  },
  {
   "cell_type": "markdown",
   "id": "65313781",
   "metadata": {
    "deletable": false,
    "editable": false,
    "nbgrader": {
     "cell_type": "markdown",
     "checksum": "9ec2c15310de7fd5337f6cb8ce19dfbb",
     "grade": false,
     "grade_id": "cell-ad942997647f0afb",
     "locked": true,
     "schema_version": 3,
     "solution": false,
     "task": false
    }
   },
   "source": [
    "# CSCI 3155 Assignment 1 : Scala Programming\n",
    "\n",
    "This assignment asks you to write scala programs. There are restrictions associated with how you can solve these problems. Please pay careful heed to those. If you are unsure ask your TA or post on piazza. \n",
    "\n",
    "Note: `???` indicates that there is a missing function or code fragment that needs to be filled in. In scala, \n",
    "it is also a macro that throws a `NotImplemented` exception. Make sure that you remove the `???` and replace it with the answer. \n",
    "\n",
    "Use the test cases provided to test them. You are also encouraged to write your own test cases to help debug your work. However, please delete any extra cells you may have created lest they break our autograder.\n",
    "\n",
    "**Very Important:** Please run the cell that defines the functions `passed` and `testWithMessage` below whenever you restart the notebook."
   ]
  },
  {
   "cell_type": "code",
   "execution_count": 1,
   "id": "295fabdf",
   "metadata": {
    "deletable": false,
    "editable": false,
    "nbgrader": {
     "cell_type": "code",
     "checksum": "6376fb6a61e7b5b9551e693fed9d8056",
     "grade": false,
     "grade_id": "cell-ebccb4a9c552a099",
     "locked": true,
     "schema_version": 3,
     "solution": false,
     "task": false
    }
   },
   "outputs": [
    {
     "name": "stderr",
     "output_type": "stream",
     "text": [
      "cmd1.sc:111: procedure syntax is deprecated: instead, add `: Unit =` to explicitly declare `passed`'s return type [quickfixable]\n",
      "def passed(points: Int) {\n",
      "                        ^\n"
     ]
    },
    {
     "data": {
      "text/plain": [
       "defined \u001b[32mfunction\u001b[39m \u001b[36mpassed\u001b[39m\n",
       "defined \u001b[32mfunction\u001b[39m \u001b[36mtestWithMessage\u001b[39m"
      ]
     },
     "execution_count": 1,
     "metadata": {},
     "output_type": "execute_result"
    }
   ],
   "source": [
    "// TEST HELPER\n",
    "\n",
    "// FIRST RUN THIS CELL EVERY TIME YOU START THE NOTEBOOK\n",
    "\n",
    "def passed(points: Int) {\n",
    "    require(points >=0)\n",
    "    if (points == 1) print(s\"\\n*** Tests Passed (1 point) ***\\n\")\n",
    "    else print(s\"\\n*** Tests Passed ($points points) ***\\n\")\n",
    "}\n",
    "\n",
    "def testWithMessage[T](v1: T, expected: T, testID: String) = { \n",
    "    println(s\"Test $testID\"); \n",
    "    println(s\"\\t Expected: $expected, your code returned: $v1\")\n",
    "    assert (v1 == expected, s\"Test $testID FAILED.\")\n",
    "    println(\"\\t Passed!\")\n",
    "}"
   ]
  },
  {
   "cell_type": "markdown",
   "id": "f9c46076",
   "metadata": {
    "deletable": false,
    "editable": false,
    "nbgrader": {
     "cell_type": "markdown",
     "checksum": "a9fffd6fcc930911e51ceadd99a41814",
     "grade": false,
     "grade_id": "cell-cca34383b7e9353c",
     "locked": true,
     "schema_version": 3,
     "solution": false,
     "task": false
    }
   },
   "source": [
    "## Problem 1 \n",
    "\n",
    "### Part (A) , 5 points.\n",
    "\n",
    "Given a list of employees and their salaries, for example\n",
    "\n",
    "~~~\n",
    "List(\n",
    "  (\"Alice\", 50000),\n",
    "  (\"Bob\", 60000),\n",
    "  (\"Charlie\", 45000),\n",
    "  (\"Diana\", 70000),\n",
    "  (\"Ethan\", 55000),\n",
    "  (\"Fiona\", 80000),\n",
    "  (\"George\", 40000),\n",
    "  (\"Hannah\", 75000)\n",
    ")\n",
    "~~~\n",
    "\n",
    "And given two numbers, $m$ and $k$, such that $k < m$, output the names of all employees whose salary $s$ is at most $k$ less than or greater than $m$, i.e., $ | s - m | \\leq k $, where $|n|$ denotes absolute value of integer $n$. Ensure that the order of names in the output list is the same as that in the input list.\n",
    "\n",
    "For the list above, with $m=50000$ and $k=10000$ the expected output is:\n",
    "\n",
    "~~~\n",
    "List(\"Alice\", \"Bob\", \"Charlie\", \"Ethan\", \"George\")\n",
    "~~~\n",
    "\n",
    "With $m=60000$ and $k=5000$ the expected output is:\n",
    "~~~\n",
    "List(\"Bob\", \"Ethan\")\n",
    "~~~\n",
    "\n",
    "__Note__\n",
    "\n",
    "  - Your function must be called `findEmployeesWithSalary` with three arguments: (1). a list of pairs of strings and integers, (2). the $m$ value, and (3). the $k$ value. It must return a list of strings.\n",
    "  - You can use for-loops and the following operators for concatenating elements to list.\n",
    "      - `::` or cons appends an element to the front of a list.\n",
    "      - `:+` appends an element to the back of a list.\n",
    "      - `++` appends two lists together.\n",
    "  - You can use list API functions: `reverse` and `length`. You may also use the `abs` function to obtain the absolute value of an integer.\n",
    "  - You should not use any other list API functions including `filter`, `map`, `foldLeft`, `foldRight` and so on. \n",
    "    - Plenty of time to learn them properly later on. \n",
    "  - Do not try to convert your list to an array or vector so that you can mutate it.\n",
    "  - If you are unable to solve the problem without violating the restrictions or unsure, ask us privately on piazza or ask a TA during office hours.\n",
    "  - There are no restrictions on the use of vars.\n",
    "\n",
    "__Hints__\n",
    "\n",
    " - In Scala, pairs of strings and integers have the type `(String, Int)` \n",
    " - A list containing pairs of strings and integers has the type : `List[(String, Int)]`. \n",
    " - A list containing strings has the type : `List[String]`. \n",
    " - Here is how one iterates over the elements of a list in Scala\n",
    "~~~\n",
    "  for (elt <- list) {\n",
    "    // do stuff with elt\n",
    "    }\n",
    "~~~\n",
    " - Appending an element to the end of a list (see below). \n",
    "~~~\n",
    "  result_list = result_list :+ elt // result_list must be declared as a var\n",
    "~~~\n",
    " - Appending an element to the front of a list :\n",
    " ~~~\n",
    " result_list = elt:: result_list // using cons\n",
    " ~~~\n",
    " - Appending an element to the end of a list \n",
    " ~~~\n",
    " result_list = result_list ++ List(elt) // use list concatenation\n",
    " ~~~\n",
    " - Warning: The append at end of a list `:+` (or other operations like list concat `++`) operation takes $O(n)$ time, where $n$ is the size of the list. We will often try to avoid it. But OK to use it for this particular part of problem 1.\n",
    " "
   ]
  },
  {
   "cell_type": "code",
   "execution_count": 2,
   "id": "f0ab97dc",
   "metadata": {
    "deletable": false,
    "nbgrader": {
     "cell_type": "code",
     "checksum": "f6d157f3ce4693f0d0f83023085503dc",
     "grade": false,
     "grade_id": "cell-e5177772a6bb98cf",
     "locked": false,
     "schema_version": 3,
     "solution": true,
     "task": false
    }
   },
   "outputs": [
    {
     "data": {
      "text/plain": [
       "defined \u001b[32mfunction\u001b[39m \u001b[36mfindEmployeesWithSalary\u001b[39m"
      ]
     },
     "execution_count": 2,
     "metadata": {},
     "output_type": "execute_result"
    }
   ],
   "source": [
    "// YOUR CODE HERE\n",
    "def findEmployeesWithSalary(lst1: List[(String, Int)], m: Int, k: Int): List[String] = {\n",
    "\n",
    "    var result: List[String] = Nil // final list of employees\n",
    "\n",
    "    for (elt <- 0 to lst1.length-1) {\n",
    "        if ((lst1(elt)._2 - m).abs <= k) {\n",
    "            result = (result :+ lst1(elt)._1)\n",
    "        }\n",
    "    }\n",
    "\n",
    "    return result\n",
    "\n",
    "}"
   ]
  },
  {
   "cell_type": "code",
   "execution_count": 3,
   "id": "0439e2bb",
   "metadata": {
    "deletable": false,
    "editable": false,
    "nbgrader": {
     "cell_type": "code",
     "checksum": "fb37a58b72d1dd02377a57bf50ba12b9",
     "grade": true,
     "grade_id": "cell-d5751cda70aace19",
     "locked": true,
     "points": 5,
     "schema_version": 3,
     "solution": false,
     "task": false
    }
   },
   "outputs": [
    {
     "name": "stdout",
     "output_type": "stream",
     "text": [
      "Test test1\n",
      "\t Expected: List(Bob, Ethan), your code returned: List(Bob, Ethan)\n",
      "\t Passed!\n",
      "Test test2\n",
      "\t Expected: List(), your code returned: List()\n",
      "\t Passed!\n",
      "Test test3\n",
      "\t Expected: List(Alice, Bob, Charlie, Diana, Ethan, Fiona, George, Hannah), your code returned: List(Alice, Bob, Charlie, Diana, Ethan, Fiona, George, Hannah)\n",
      "\t Passed!\n",
      "Test test4\n",
      "\t Expected: List(Charlie), your code returned: List(Charlie)\n",
      "\t Passed!\n",
      "Test test5\n",
      "\t Expected: List(Charlie, George), your code returned: List(Charlie, George)\n",
      "\t Passed!\n",
      "Test test6\n",
      "\t Expected: List(), your code returned: List()\n",
      "\t Passed!\n",
      "Test test7\n",
      "\t Expected: List(), your code returned: List()\n",
      "\t Passed!\n",
      "\n",
      "*** Tests Passed (5 points) ***\n"
     ]
    },
    {
     "data": {
      "text/plain": [
       "\u001b[36mlst1\u001b[39m: \u001b[32mList\u001b[39m[(\u001b[32mString\u001b[39m, \u001b[32mInt\u001b[39m)] = \u001b[33mList\u001b[39m(\n",
       "  (\u001b[32m\"Alice\"\u001b[39m, \u001b[32m50000\u001b[39m),\n",
       "  (\u001b[32m\"Bob\"\u001b[39m, \u001b[32m60000\u001b[39m),\n",
       "  (\u001b[32m\"Charlie\"\u001b[39m, \u001b[32m45000\u001b[39m),\n",
       "  (\u001b[32m\"Diana\"\u001b[39m, \u001b[32m70000\u001b[39m),\n",
       "  (\u001b[32m\"Ethan\"\u001b[39m, \u001b[32m55000\u001b[39m),\n",
       "  (\u001b[32m\"Fiona\"\u001b[39m, \u001b[32m80000\u001b[39m),\n",
       "  (\u001b[32m\"George\"\u001b[39m, \u001b[32m40000\u001b[39m),\n",
       "  (\u001b[32m\"Hannah\"\u001b[39m, \u001b[32m75000\u001b[39m)\n",
       ")\n",
       "\u001b[36mout1\u001b[39m: \u001b[32mList\u001b[39m[\u001b[32mString\u001b[39m] = \u001b[33mList\u001b[39m(\u001b[32m\"Bob\"\u001b[39m, \u001b[32m\"Ethan\"\u001b[39m)\n",
       "\u001b[36mout2\u001b[39m: \u001b[32mList\u001b[39m[\u001b[32mString\u001b[39m] = \u001b[33mList\u001b[39m()\n",
       "\u001b[36mout3\u001b[39m: \u001b[32mList\u001b[39m[\u001b[32mString\u001b[39m] = \u001b[33mList\u001b[39m(\n",
       "  \u001b[32m\"Alice\"\u001b[39m,\n",
       "  \u001b[32m\"Bob\"\u001b[39m,\n",
       "  \u001b[32m\"Charlie\"\u001b[39m,\n",
       "  \u001b[32m\"Diana\"\u001b[39m,\n",
       "  \u001b[32m\"Ethan\"\u001b[39m,\n",
       "  \u001b[32m\"Fiona\"\u001b[39m,\n",
       "  \u001b[32m\"George\"\u001b[39m,\n",
       "  \u001b[32m\"Hannah\"\u001b[39m\n",
       ")\n",
       "\u001b[36mout4\u001b[39m: \u001b[32mList\u001b[39m[\u001b[32mString\u001b[39m] = \u001b[33mList\u001b[39m(\u001b[32m\"Charlie\"\u001b[39m)\n",
       "\u001b[36mout5\u001b[39m: \u001b[32mList\u001b[39m[\u001b[32mString\u001b[39m] = \u001b[33mList\u001b[39m(\u001b[32m\"Charlie\"\u001b[39m, \u001b[32m\"George\"\u001b[39m)\n",
       "\u001b[36mout6\u001b[39m: \u001b[32mList\u001b[39m[\u001b[32mString\u001b[39m] = \u001b[33mList\u001b[39m()\n",
       "\u001b[36mout7\u001b[39m: \u001b[32mList\u001b[39m[\u001b[32mString\u001b[39m] = \u001b[33mList\u001b[39m()"
      ]
     },
     "execution_count": 3,
     "metadata": {},
     "output_type": "execute_result"
    }
   ],
   "source": [
    "val lst1 = List(\n",
    "  (\"Alice\", 50000),\n",
    "  (\"Bob\", 60000),\n",
    "  (\"Charlie\", 45000),\n",
    "  (\"Diana\", 70000),\n",
    "  (\"Ethan\", 55000),\n",
    "  (\"Fiona\", 80000),\n",
    "  (\"George\", 40000),\n",
    "  (\"Hannah\", 75000)\n",
    ")\n",
    "\n",
    "// Test 1: Basic case with m and k in a mid-range\n",
    "val out1 = findEmployeesWithSalary(lst1, 60000, 5000)\n",
    "testWithMessage(out1, List(\"Bob\", \"Ethan\"), \"test1\")\n",
    "\n",
    "// Test 2: Edge case where no employee matches the criteria\n",
    "val out2 = findEmployeesWithSalary(lst1, 90000, 5000)\n",
    "testWithMessage(out2, List(), \"test2\")\n",
    "\n",
    "// Test 3: Edge case where all employees match the criteria\n",
    "val out3 = findEmployeesWithSalary(lst1, 60000, 40000)\n",
    "testWithMessage(out3, List(\"Alice\", \"Bob\", \"Charlie\", \"Diana\", \"Ethan\", \"Fiona\", \"George\", \"Hannah\"), \"test3\")\n",
    "\n",
    "// Test 4: Case where k is 0 (exact match)\n",
    "val out4 = findEmployeesWithSalary(lst1, 45000, 0)\n",
    "testWithMessage(out4, List(\"Charlie\"), \"test4\")\n",
    "\n",
    "// Test 5: Case where m is smaller than all salaries and k covers only a few\n",
    "val out5 = findEmployeesWithSalary(lst1, 30000, 15000)\n",
    "testWithMessage(out5, List(\"Charlie\", \"George\"), \"test5\")\n",
    "\n",
    "// Test 6: Case where m is larger than all salaries and k is small\n",
    "val out6 = findEmployeesWithSalary(lst1, 90000, 5000)\n",
    "testWithMessage(out6, List(), \"test6\")\n",
    "\n",
    "// Test 7: Case where list is empty\n",
    "val out7 = findEmployeesWithSalary(List(), 50000, 10000)\n",
    "testWithMessage(out7, List(), \"test7\")\n",
    "\n",
    "passed(5)"
   ]
  },
  {
   "cell_type": "markdown",
   "id": "4d705e28",
   "metadata": {
    "deletable": false,
    "editable": false,
    "nbgrader": {
     "cell_type": "markdown",
     "checksum": "c80fc087bc6b25b36ea8397510b38306",
     "grade": false,
     "grade_id": "cell-e723dcb4aee79665",
     "locked": true,
     "schema_version": 3,
     "solution": false,
     "task": false
    }
   },
   "source": [
    "### Part (B), 7 points\n",
    "\n",
    "If you followed the hint we provided in part (A), you would have used the `:+` or `++` operation to append an element to the end of a list at each step. \n",
    "\n",
    "~~~\n",
    "for ... {\n",
    "  // iterate over a loop\n",
    "  ...\n",
    "  new_list = new_list :+ new_element // this takes O( size of new_list )\n",
    "}\n",
    "~~~\n",
    "\n",
    "\n",
    "Each `:+` or `++` operation requires a full list traversal to find the end of the list and append to the end. The overall algorithm thus requires $O(n^2)$ time where $n$ is the size of the original list (also the number of loop iterations)\n",
    "\n",
    "To illustrate: cut & paste/run this code in a new test cell. Just **remember to delete that cell before you submit**. It will take a long time to run.\n",
    "\n",
    "~~~\n",
    "//create a list of 1,000,000 pairs\n",
    "val longTestList = (1 to 1000000).map ( x => (x, x-1)).toList\n",
    "//run the function you wrote\n",
    "outputConsecutivePairs(longTestList)\n",
    "//This will take a long time to finish.\n",
    "~~~\n"
   ]
  },
  {
   "cell_type": "markdown",
   "id": "96cca762",
   "metadata": {
    "deletable": false,
    "editable": false,
    "nbgrader": {
     "cell_type": "markdown",
     "checksum": "bb4e5b3d800908069ccab075094c101c",
     "grade": false,
     "grade_id": "cell-5a4ac338bdef67f5",
     "locked": true,
     "schema_version": 3,
     "solution": false,
     "task": false
    }
   },
   "source": [
    "In this problem, we wish to implement a function  `findEmployeesWithSalaryLinear` that solves the exact same problem as in __Part(A)__ but takes time linear in the size of the input list. \n",
    "\n",
    "To do so, we would like you to use  the `::` or Cons operator on a list that appends an element to the __front__ of a list.  \n",
    "\n",
    "~~~\n",
    "val l1 = List(1, 2, 3)\n",
    "val l2 = 25 :: l1 // place 25 and then the contents of list l1.\n",
    "// list l2 is List(25, 1, 2, 3)\n",
    "~~~\n",
    "\n",
    "You may also want to use the list reverse function \n",
    "\n",
    "~~~\n",
    "val l = List(1, 2, 5, 6, 7, 8)\n",
    "val r = l.reverse\n",
    "println(r) // r is the reverse of list l, this works in linear time in the size of the list.\n",
    "~~~\n",
    "\n",
    "\n",
    "\n",
    "**Restrictions** remain the same as problem 1. But we would like you to focus on ensuring that your solution runs in linear time. \n",
    "\n"
   ]
  },
  {
   "cell_type": "code",
   "execution_count": 9,
   "id": "0fe36dff",
   "metadata": {
    "deletable": false,
    "nbgrader": {
     "cell_type": "code",
     "checksum": "b162fdf541e694025b6200f9a0507275",
     "grade": false,
     "grade_id": "cell-3f907e7f84708a69",
     "locked": false,
     "schema_version": 3,
     "solution": true,
     "task": false
    }
   },
   "outputs": [
    {
     "data": {
      "text/plain": [
       "defined \u001b[32mfunction\u001b[39m \u001b[36mfindEmployeesWithSalaryLinear\u001b[39m"
      ]
     },
     "execution_count": 9,
     "metadata": {},
     "output_type": "execute_result"
    }
   ],
   "source": [
    "// YOUR CODE HERE\n",
    "def findEmployeesWithSalaryLinear(lst1: List[(String, Int)], m: Int, k: Int): List[String] = {\n",
    "    var result: List[String] = Nil\n",
    "\n",
    "    for (elt <- 0 to lst1.length-1) {\n",
    "        if ((lst1(elt)._2 - m).abs <= k) {\n",
    "            result = lst1(elt)._1 :: result\n",
    "        }\n",
    "    }\n",
    "\n",
    "    return result.reverse\n",
    "}"
   ]
  },
  {
   "cell_type": "code",
   "execution_count": 10,
   "id": "4386e5ae",
   "metadata": {
    "deletable": false,
    "editable": false,
    "nbgrader": {
     "cell_type": "code",
     "checksum": "82a0bd3faee80fceac2fd877511a9ba4",
     "grade": true,
     "grade_id": "cell-7d0353dc1859efdc",
     "locked": true,
     "points": 5,
     "schema_version": 3,
     "solution": false,
     "task": false
    }
   },
   "outputs": [
    {
     "name": "stdout",
     "output_type": "stream",
     "text": [
      "Test test1\n",
      "\t Expected: List(Bob, Ethan), your code returned: List(Bob, Ethan)\n",
      "\t Passed!\n",
      "Test test2\n",
      "\t Expected: List(), your code returned: List()\n",
      "\t Passed!\n",
      "Test test3\n",
      "\t Expected: List(Alice, Bob, Charlie, Diana, Ethan, Fiona, George, Hannah), your code returned: List(Alice, Bob, Charlie, Diana, Ethan, Fiona, George, Hannah)\n",
      "\t Passed!\n",
      "Test test4\n",
      "\t Expected: List(Charlie), your code returned: List(Charlie)\n",
      "\t Passed!\n",
      "Test test5\n",
      "\t Expected: List(Charlie, George), your code returned: List(Charlie, George)\n",
      "\t Passed!\n",
      "Test test6\n",
      "\t Expected: List(), your code returned: List()\n",
      "\t Passed!\n",
      "Test test7\n",
      "\t Expected: List(), your code returned: List()\n",
      "\t Passed!\n",
      "\n",
      "*** Tests Passed (5 points) ***\n"
     ]
    },
    {
     "data": {
      "text/plain": [
       "\u001b[36mlst1\u001b[39m: \u001b[32mList\u001b[39m[(\u001b[32mString\u001b[39m, \u001b[32mInt\u001b[39m)] = \u001b[33mList\u001b[39m(\n",
       "  (\u001b[32m\"Alice\"\u001b[39m, \u001b[32m50000\u001b[39m),\n",
       "  (\u001b[32m\"Bob\"\u001b[39m, \u001b[32m60000\u001b[39m),\n",
       "  (\u001b[32m\"Charlie\"\u001b[39m, \u001b[32m45000\u001b[39m),\n",
       "  (\u001b[32m\"Diana\"\u001b[39m, \u001b[32m70000\u001b[39m),\n",
       "  (\u001b[32m\"Ethan\"\u001b[39m, \u001b[32m55000\u001b[39m),\n",
       "  (\u001b[32m\"Fiona\"\u001b[39m, \u001b[32m80000\u001b[39m),\n",
       "  (\u001b[32m\"George\"\u001b[39m, \u001b[32m40000\u001b[39m),\n",
       "  (\u001b[32m\"Hannah\"\u001b[39m, \u001b[32m75000\u001b[39m)\n",
       ")\n",
       "\u001b[36mout1\u001b[39m: \u001b[32mList\u001b[39m[\u001b[32mString\u001b[39m] = \u001b[33mList\u001b[39m(\u001b[32m\"Bob\"\u001b[39m, \u001b[32m\"Ethan\"\u001b[39m)\n",
       "\u001b[36mout2\u001b[39m: \u001b[32mList\u001b[39m[\u001b[32mString\u001b[39m] = \u001b[33mList\u001b[39m()\n",
       "\u001b[36mout3\u001b[39m: \u001b[32mList\u001b[39m[\u001b[32mString\u001b[39m] = \u001b[33mList\u001b[39m(\n",
       "  \u001b[32m\"Alice\"\u001b[39m,\n",
       "  \u001b[32m\"Bob\"\u001b[39m,\n",
       "  \u001b[32m\"Charlie\"\u001b[39m,\n",
       "  \u001b[32m\"Diana\"\u001b[39m,\n",
       "  \u001b[32m\"Ethan\"\u001b[39m,\n",
       "  \u001b[32m\"Fiona\"\u001b[39m,\n",
       "  \u001b[32m\"George\"\u001b[39m,\n",
       "  \u001b[32m\"Hannah\"\u001b[39m\n",
       ")\n",
       "\u001b[36mout4\u001b[39m: \u001b[32mList\u001b[39m[\u001b[32mString\u001b[39m] = \u001b[33mList\u001b[39m(\u001b[32m\"Charlie\"\u001b[39m)\n",
       "\u001b[36mout5\u001b[39m: \u001b[32mList\u001b[39m[\u001b[32mString\u001b[39m] = \u001b[33mList\u001b[39m(\u001b[32m\"Charlie\"\u001b[39m, \u001b[32m\"George\"\u001b[39m)\n",
       "\u001b[36mout6\u001b[39m: \u001b[32mList\u001b[39m[\u001b[32mString\u001b[39m] = \u001b[33mList\u001b[39m()\n",
       "\u001b[36mout7\u001b[39m: \u001b[32mList\u001b[39m[\u001b[32mString\u001b[39m] = \u001b[33mList\u001b[39m()"
      ]
     },
     "execution_count": 10,
     "metadata": {},
     "output_type": "execute_result"
    }
   ],
   "source": [
    "val lst1 = List(\n",
    "  (\"Alice\", 50000),\n",
    "  (\"Bob\", 60000),\n",
    "  (\"Charlie\", 45000),\n",
    "  (\"Diana\", 70000),\n",
    "  (\"Ethan\", 55000),\n",
    "  (\"Fiona\", 80000),\n",
    "  (\"George\", 40000),\n",
    "  (\"Hannah\", 75000)\n",
    ")\n",
    "\n",
    "// Test 1: Basic case with m and k in a mid-range\n",
    "val out1 = findEmployeesWithSalaryLinear(lst1, 60000, 5000)\n",
    "testWithMessage(out1, List(\"Bob\", \"Ethan\"), \"test1\")\n",
    "\n",
    "// Test 2: Edge case where no employee matches the criteria\n",
    "val out2 = findEmployeesWithSalaryLinear(lst1, 90000, 5000)\n",
    "testWithMessage(out2, List(), \"test2\")\n",
    "\n",
    "// Test 3: Edge case where all employees match the criteria\n",
    "val out3 = findEmployeesWithSalaryLinear(lst1, 60000, 40000)\n",
    "testWithMessage(out3, List(\"Alice\", \"Bob\", \"Charlie\", \"Diana\", \"Ethan\", \"Fiona\", \"George\", \"Hannah\"), \"test3\")\n",
    "\n",
    "// Test 4: Case where k is 0 (exact match)\n",
    "val out4 = findEmployeesWithSalaryLinear(lst1, 45000, 0)\n",
    "testWithMessage(out4, List(\"Charlie\"), \"test4\")\n",
    "\n",
    "// Test 5: Case where m is smaller than all salaries and k covers only a few\n",
    "val out5 = findEmployeesWithSalaryLinear(lst1, 30000, 15000)\n",
    "testWithMessage(out5, List(\"Charlie\", \"George\"), \"test5\")\n",
    "\n",
    "// Test 6: Case where m is larger than all salaries and k is small\n",
    "val out6 = findEmployeesWithSalaryLinear(lst1, 90000, 5000)\n",
    "testWithMessage(out6, List(), \"test6\")\n",
    "\n",
    "// Test 7: Case where list is empty\n",
    "val out7 = findEmployeesWithSalaryLinear(List(), 50000, 10000)\n",
    "testWithMessage(out7, List(), \"test7\")\n",
    "\n",
    "passed(5)"
   ]
  },
  {
   "cell_type": "code",
   "execution_count": null,
   "id": "8c90a850",
   "metadata": {
    "deletable": false,
    "editable": false,
    "nbgrader": {
     "cell_type": "code",
     "checksum": "98243302d593c3b4f3e78f056b141799",
     "grade": true,
     "grade_id": "cell-c8d6b0308ab78562",
     "locked": true,
     "points": 2,
     "schema_version": 3,
     "solution": false,
     "task": false
    }
   },
   "outputs": [
    {
     "name": "stdout",
     "output_type": "stream",
     "text": [
      "Generated list size: 1000000\n",
      "(UCwilsp,262119)\n",
      "(ipBAMzDzVtdkRXpMivytCSU,47431)\n",
      "(MDnnWtig,297318)\n",
      "(YfyY,15630)\n",
      "(J,278339)\n",
      "(nbHrobdAwnYiaoKjhBQWJv,101921)\n",
      "(K,25913)\n",
      "(fSaLaQgbwZElw,299232)\n",
      "(ddiyIoArxAOSjyTcZxtCzHgLU,260057)\n",
      "(MWNpOjllabcBlYrmHh,42229)\n"
     ]
    }
   ],
   "source": [
    "//BEGIN TEST\n",
    "//create a list of one million pairs\n",
    "import scala.util.Random\n",
    "\n",
    "\n",
    "val random = new Random()\n",
    "\n",
    "// Function to generate a random string of length between 1 and 25\n",
    "def randomString(): String = {\n",
    "  val length = random.nextInt(25) + 1\n",
    "  random.alphanumeric.filter(_.isLetter).take(length).mkString\n",
    "}\n",
    "\n",
    "// Function to generate a random salary between 10000 and 300000\n",
    "def randomSalary(): Int = {\n",
    "  10000 + random.nextInt(300000 - 10000 + 1)\n",
    "}\n",
    "\n",
    "// Generate the list\n",
    "val randomList: List[(String, Int)] = (1 to 1000000).map { _ =>\n",
    "  (randomString(), randomSalary())\n",
    "}.toList\n",
    "\n",
    "// Output the size of the list to verify\n",
    "println(s\"Generated list size: ${randomList.size}\")\n",
    "\n",
    "// Optionally print a sample of the generated list\n",
    "randomList.take(10).foreach(println)\n",
    "\n",
    "\n",
    "//run the function you wrote\n",
    "findEmployeesWithSalaryLinear(randomList,50000,10000)\n",
    "// this better finish in <= 5 seconds\n",
    "\n",
    "passed(2)\n",
    "\n",
    "//END TEST"
   ]
  },
  {
   "cell_type": "markdown",
   "id": "fb06ea26",
   "metadata": {
    "deletable": false,
    "editable": false,
    "nbgrader": {
     "cell_type": "markdown",
     "checksum": "1f7c734608aad5345560fcfbc02a0e63",
     "grade": false,
     "grade_id": "cell-bfb37bf723f0d12e",
     "locked": true,
     "schema_version": 3,
     "solution": false,
     "task": false
    }
   },
   "source": [
    "## Problem 2 \n",
    "\n",
    "\n",
    "### Part A\n",
    "\n",
    "Write a function `findAllOddIndices` that takes in a list of integers `lst` of type `List[Int]`\n",
    "\n",
    "Return a list of indices $[i_1, \\ldots, i_k]$  from the original list `lst` such that \n",
    "the list element $e_j$ corresponding to each returned index $i_j$ is odd.\n",
    "\n",
    "Remember indices start at $0$ and range until the length of list -1.\n",
    "\n",
    "#### Example \n",
    "\n",
    "~~~\n",
    "lst: List( 1, 5, 0, 2, 4, 8, 7)\n",
    "~~~\n",
    "\n",
    "should return \n",
    "\n",
    "~~~\n",
    "List(0, 1, 6)\n",
    "~~~\n",
    "\n",
    "since the elements at indices 0, 1 and 6 are odd.\n",
    "\n",
    "**Restrictions** are same as problem 1. Do not use list API functions other than `length` and `reverse`. You can use operators `:+`, `++`, `::` to append elements to a list. \n",
    "  - Be careful not to use the list indexing operator `list(i)`.\n",
    "\n",
    "**Challenge:** Make your code as efficient as possible. Ideally, it should have complexity O(n) though we will not deduct points for inefficient code."
   ]
  },
  {
   "cell_type": "code",
   "execution_count": 6,
   "id": "f1f6ef83",
   "metadata": {
    "deletable": false,
    "nbgrader": {
     "cell_type": "code",
     "checksum": "299968acf5329995b11723edfbcbe8f3",
     "grade": false,
     "grade_id": "cell-26bc006609901570",
     "locked": false,
     "schema_version": 3,
     "solution": true,
     "task": false
    }
   },
   "outputs": [
    {
     "data": {
      "text/plain": [
       "defined \u001b[32mfunction\u001b[39m \u001b[36mfindAllOddIndices\u001b[39m"
      ]
     },
     "execution_count": 6,
     "metadata": {},
     "output_type": "execute_result"
    }
   ],
   "source": [
    "// YOUR CODE HERE\n",
    "def findAllOddIndices(lst: List[Int]): List[Int]  = {\n",
    "\n",
    "    var result: List[Int] = Nil\n",
    "\n",
    "    for (elt <- 0 to lst.length-1) {\n",
    "        if ((lst(elt) % 2) == 1) {\n",
    "            result = elt :: result\n",
    "        }\n",
    "    }\n",
    "\n",
    "    return result.reverse\n",
    "}"
   ]
  },
  {
   "cell_type": "code",
   "execution_count": 7,
   "id": "08a24d04",
   "metadata": {
    "deletable": false,
    "editable": false,
    "nbgrader": {
     "cell_type": "code",
     "checksum": "5a909ff483596e5ad3bbce0485ff0b68",
     "grade": true,
     "grade_id": "cell-1992c5b4c1ddfdef",
     "locked": true,
     "points": 5,
     "schema_version": 3,
     "solution": false,
     "task": false
    }
   },
   "outputs": [
    {
     "name": "stdout",
     "output_type": "stream",
     "text": [
      "Test Test1\n",
      "\t Expected: List(0, 1, 6), your code returned: List(0, 1, 6)\n",
      "\t Passed!\n",
      "Test Test2\n",
      "\t Expected: List(), your code returned: List()\n",
      "\t Passed!\n",
      "Test Test3\n",
      "\t Expected: List(0, 1, 2, 3, 4, 5), your code returned: List(0, 1, 2, 3, 4, 5)\n",
      "\t Passed!\n",
      "Test Test4\n",
      "\t Expected: List(), your code returned: List()\n",
      "\t Passed!\n",
      "\n",
      "*** Tests Passed (5 points) ***\n"
     ]
    },
    {
     "data": {
      "text/plain": [
       "\u001b[36mlst1\u001b[39m: \u001b[32mList\u001b[39m[\u001b[32mInt\u001b[39m] = \u001b[33mList\u001b[39m(\u001b[32m1\u001b[39m, \u001b[32m3\u001b[39m, \u001b[32m0\u001b[39m, \u001b[32m2\u001b[39m, \u001b[32m4\u001b[39m, \u001b[32m6\u001b[39m, \u001b[32m5\u001b[39m)\n",
       "\u001b[36mlst2\u001b[39m: \u001b[32mList\u001b[39m[\u001b[32mInt\u001b[39m] = \u001b[33mList\u001b[39m(\u001b[32m4\u001b[39m, \u001b[32m6\u001b[39m, \u001b[32m-2\u001b[39m, \u001b[32m8\u001b[39m, \u001b[32m10\u001b[39m)\n",
       "\u001b[36mlst3\u001b[39m: \u001b[32mList\u001b[39m[\u001b[32mInt\u001b[39m] = \u001b[33mList\u001b[39m(\u001b[32m5\u001b[39m, \u001b[32m3\u001b[39m, \u001b[32m1\u001b[39m, \u001b[32m5\u001b[39m, \u001b[32m15\u001b[39m, \u001b[32m9\u001b[39m)\n",
       "\u001b[36mlst4\u001b[39m: \u001b[32mList\u001b[39m[\u001b[32mNothing\u001b[39m] = \u001b[33mList\u001b[39m()"
      ]
     },
     "execution_count": 7,
     "metadata": {},
     "output_type": "execute_result"
    }
   ],
   "source": [
    "//BEGIN TESTS\n",
    "val lst1 = List(1, 3, 0, 2, 4, 6, 5)\n",
    "testWithMessage(findAllOddIndices(lst1), List(0, 1, 6), \"Test1\")\n",
    "\n",
    "val lst2 = List(4, 6, -2, 8, 10)\n",
    "testWithMessage(findAllOddIndices(lst2), Nil, \"Test2\")\n",
    "\n",
    "val lst3 = List(5, 3, 1, 5, 15, 9 )\n",
    "testWithMessage(findAllOddIndices(lst3), List(0, 1, 2, 3, 4, 5), \"Test3\")\n",
    "\n",
    "val lst4 = List()\n",
    "testWithMessage(findAllOddIndices(lst4), Nil, \"Test4\")\n",
    "\n",
    "passed(5)\n",
    "//END TESTS"
   ]
  },
  {
   "cell_type": "markdown",
   "id": "28544e7f",
   "metadata": {
    "deletable": false,
    "editable": false,
    "nbgrader": {
     "cell_type": "markdown",
     "checksum": "f6353c91aea5e9c05f8862af94c8053d",
     "grade": false,
     "grade_id": "cell-5195f1a3455e25c1",
     "locked": true,
     "schema_version": 3,
     "solution": false,
     "task": false
    }
   },
   "source": [
    "Is your code above efficient? Try using the following code test. It should run in under a  second ideally.\n",
    "We have disabled running this cell just in case you have an inefficient solution that crashes your computer or our autograder. \n",
    "~~~\n",
    "val lst = (0 to 100000).toList\n",
    "val ret =findAllOddIndices(lst)\n",
    "assert(ret.length == 50000)\n",
    "~~~"
   ]
  },
  {
   "cell_type": "markdown",
   "id": "0310b298",
   "metadata": {
    "deletable": false,
    "editable": false,
    "nbgrader": {
     "cell_type": "markdown",
     "checksum": "234481a9458637739976f10a482a5436",
     "grade": false,
     "grade_id": "cell-0d58c4e106a31252",
     "locked": true,
     "schema_version": 3,
     "solution": false,
     "task": false
    }
   },
   "source": [
    "### Part B (13 points)\n",
    "\n",
    "Write a function `findAllOddElementsAndNext` wherein  \n",
    " - Input a list of integers $[e_1, \\ldots, e_n]$, \n",
    " - Return list of pairs of integers $[(e_{i}, e_{i+1}), (e_{j}, e_{j+1}), \\ldots, (e_k, e_{k+1})]$ such that the first elements of the pair $e_i, e_j, \\ldots, e_k$ are all odd elements and the second elements of the pair $e_{i+1}, e_{j+1}, \\ldots, e_{k+1}$ are the subsequent elements in the list. \n",
    " - If an odd element happens to be the very last element, it should not appear in the output.\n",
    " - The order of elements appearing in the output list must be the same as that in the input list.\n",
    "\n",
    "#### Example\n",
    "\n",
    "~~~\n",
    "Input: List(1, 5, 0, 2, 3, 7)\n",
    "Output: List( (1,5), (5,0), (3,7) )\n",
    "\n",
    "Input: List(19)\n",
    "Output: List() //Empty list\n",
    "\n",
    "Input: List(25, 36)\n",
    "Output: List( (25, 36) )\n",
    "~~~\n",
    "\n",
    "You may use the previously implemented function `findAllOddIndices` as a subroutine.\n",
    "\n",
    "**Restrictions** same as problem 1 but we will allow you to use the following operations if you need them.\n",
    "  - To access the $i^{th}$ element in the list you are allowed to use `list(i)`. However, note that it takes $i$ steps to traverse a linked list to reach the $i^{th}$ element. Using this operation in a loop is guaranteed to give you $O(n^2)$ complexity.\n",
    "  - The very first element of a list can be accessed by `list.head`\n",
    "  - The tail of the list (from second to last element) can be accessed as `list.tail`\n",
    "  - You can find the size of a list by `list.length`."
   ]
  },
  {
   "cell_type": "code",
   "execution_count": null,
   "id": "387e7f7b",
   "metadata": {
    "deletable": false,
    "nbgrader": {
     "cell_type": "code",
     "checksum": "b9a6c6dad2b7344c1aafaff7b9e7650e",
     "grade": false,
     "grade_id": "cell-6352b2abd77615be",
     "locked": false,
     "schema_version": 3,
     "solution": true,
     "task": false
    }
   },
   "outputs": [],
   "source": [
    "def findAllOddElementsAndNext(lst: List[Int]): List[(Int, Int)] = {\n",
    "// YOUR CODE HERE\n",
    "???\n",
    "}\n"
   ]
  },
  {
   "cell_type": "code",
   "execution_count": null,
   "id": "032719e0",
   "metadata": {
    "deletable": false,
    "editable": false,
    "nbgrader": {
     "cell_type": "code",
     "checksum": "091633f5012038fb988c046d731501da",
     "grade": true,
     "grade_id": "cell-6dcd99ffc92c4d93",
     "locked": true,
     "points": 13,
     "schema_version": 3,
     "solution": false,
     "task": false
    }
   },
   "outputs": [],
   "source": [
    "//BEGIN TESTS\n",
    "val lst1 = List(1, 5, 0, 2, 3, 7)\n",
    "val expected1 = List( (1,5), (5,0), (3,7) )\n",
    "testWithMessage(findAllOddElementsAndNext(lst1), expected1, \"Test 1\")\n",
    "\n",
    "val lst2 = List(17)\n",
    "val expected2 = List()\n",
    "testWithMessage(findAllOddElementsAndNext(lst2), expected2, \"Test 2\")\n",
    "\n",
    "val lst3 = List(17, 14)\n",
    "val expected3 = List( (17, 14))\n",
    "testWithMessage(findAllOddElementsAndNext(lst3), expected3, \"Test 3\")\n",
    "\n",
    "val lst4 = List(7, 3, 5, 5, 3, 9)\n",
    "val expected4 = List((7,3), (3,5), (5,5), (5,3), (3,9))\n",
    "testWithMessage(findAllOddElementsAndNext(lst4), expected4, \"Test 4\")\n",
    "\n",
    "\n",
    "val lst5 = List(7, 0, 3, 2, 5, 2, 5, 4, 3, 6, 9)\n",
    "val expected5 = List((7,0), (3,2), (5,2), (5,4), (3,6))\n",
    "testWithMessage(findAllOddElementsAndNext(lst5), expected5, \"Test 5\")\n",
    "\n",
    "passed(13)\n",
    "\n",
    "//END TESTS"
   ]
  },
  {
   "cell_type": "markdown",
   "id": "3f865d3d",
   "metadata": {
    "deletable": false,
    "editable": false,
    "nbgrader": {
     "cell_type": "markdown",
     "checksum": "0b42c2b61c3647d215eff006e15a0b4c",
     "grade": false,
     "grade_id": "cell-90d47bba59e1ad3b",
     "locked": true,
     "schema_version": 3,
     "solution": false,
     "task": false
    }
   },
   "source": [
    "## Problem 3\n",
    "\n",
    "### Part A (5 points)\n",
    "\n",
    "Implement a function `rotate` that takes in a string and \"rotates\" two places to the left as follows:\n",
    "\n",
    "~~~\n",
    "Input: hello\n",
    "Output: llohe\n",
    "\n",
    "Input: world\n",
    "Output: rldwo\n",
    "\n",
    "Input: abcd \n",
    "Output: cdab\n",
    "~~~\n",
    "\n",
    "If the length of the input string is $\\le 2$, then the output string is same as the input string:\n",
    "\n",
    "~~~\n",
    "Input: ab\n",
    "Output: ab\n",
    "\n",
    "Input: a\n",
    "Output: a\n",
    "\n",
    "Input:  // Empty String\n",
    "Output: // Empty String\n",
    "~~~\n",
    "See here for a nice \"cheat sheet\" of examples of Scala string API functions.\n",
    "https://alvinalexander.com/scala/scala-string-examples-collection-cheat-sheet/\n",
    "There are no restrictions for this problem :-)\n"
   ]
  },
  {
   "cell_type": "code",
   "execution_count": null,
   "id": "4763a4fc",
   "metadata": {
    "deletable": false,
    "nbgrader": {
     "cell_type": "code",
     "checksum": "411460c3c26eddf15582eef874e61384",
     "grade": false,
     "grade_id": "cell-d0753d6aeee8bccb",
     "locked": false,
     "schema_version": 3,
     "solution": true,
     "task": false
    }
   },
   "outputs": [],
   "source": [
    "// YOUR CODE HERE\n",
    "???"
   ]
  },
  {
   "cell_type": "code",
   "execution_count": null,
   "id": "7a1a7aa9",
   "metadata": {
    "deletable": false,
    "editable": false,
    "nbgrader": {
     "cell_type": "code",
     "checksum": "6f5e92426f5adc07cbbaff7e92b50a5c",
     "grade": true,
     "grade_id": "cell-d187e7ccf2d224e0",
     "locked": true,
     "points": 5,
     "schema_version": 3,
     "solution": false,
     "task": false
    }
   },
   "outputs": [],
   "source": [
    "//BEGIN TEST\n",
    "testWithMessage(rotate(\"\"),\"\", \"Test1\")\n",
    "testWithMessage(rotate(\"z\"),\"z\", \"Test2\")\n",
    "testWithMessage(rotate(\"hello\"),\"llohe\", \"Test3\")\n",
    "testWithMessage(rotate(\"ananas\"),\"anasan\", \"Test4\")\n",
    "testWithMessage(rotate(\"za\"),\"za\", \"Test5\")\n",
    "passed(5)\n",
    "//END TEST"
   ]
  },
  {
   "cell_type": "markdown",
   "id": "8dd04245",
   "metadata": {
    "deletable": false,
    "editable": false,
    "nbgrader": {
     "cell_type": "markdown",
     "checksum": "4a5b0508ccd54cd7cbe3bb248cefaf19",
     "grade": false,
     "grade_id": "cell-ee70e262e92fa077",
     "locked": true,
     "schema_version": 3,
     "solution": false,
     "task": false
    }
   },
   "source": [
    "## Part B (15 points)\n",
    "\n",
    "Implement a class `RotateText` which has an immutable class parameter  `str` of type `String` and the following methods:\n",
    "  - `get_str()` : takes in no arguments, returns the string `str` (return type is `String`)\n",
    "  - `rotate_str()`: takes in no arguments, returns a new RotateText instance whose member string is given by calling `roll` function on the current member string `str`. Return type is `RotateText`.\n",
    "  - `reverse_str()`: takes in no arguments, returns a new RotateText instance whose member string is given by reversing the current member string `str`. Return type is `RotateText`.\n",
    "  - `append_str(str_to_add: String)`: takes in an argument `str_to_add` and returns a new RotateText whose member string appends `str_to_add` to the end of the current member string `str`. Return type is `RotateText`.\n",
    "  - `length()`: takes in no argument, returns the length of the string `str`. Return type is `Int`.\n",
    " "
   ]
  },
  {
   "cell_type": "code",
   "execution_count": null,
   "id": "352498fc",
   "metadata": {
    "deletable": false,
    "nbgrader": {
     "cell_type": "code",
     "checksum": "6ae92807cc42edb332f5903c4e03370c",
     "grade": false,
     "grade_id": "cell-655423d63f9c97dc",
     "locked": false,
     "schema_version": 3,
     "solution": true,
     "task": false
    }
   },
   "outputs": [],
   "source": [
    "// YOUR CODE HERE\n",
    "???"
   ]
  },
  {
   "cell_type": "code",
   "execution_count": null,
   "id": "d128fdc6",
   "metadata": {
    "deletable": false,
    "editable": false,
    "nbgrader": {
     "cell_type": "code",
     "checksum": "52199bf49d913c0be6c17b84c8b44b56",
     "grade": true,
     "grade_id": "cell-03cbb1f2ebd539f3",
     "locked": true,
     "points": 15,
     "schema_version": 3,
     "solution": false,
     "task": false
    }
   },
   "outputs": [],
   "source": [
    "val r1 = new RotateText(\"hello\")\n",
    "val r1_str = r1.get_str()\n",
    "testWithMessage(r1_str,  \"hello\", \"Test 1\")\n",
    "\n",
    "val r2 = r1.rotate_str()\n",
    "val r2_str = r2.get_str()\n",
    "testWithMessage(r2_str, \"llohe\", \"Test 2\")\n",
    "\n",
    "val r3 = r2.rotate_str()\n",
    "val r3_str = r3.get_str()\n",
    "testWithMessage(r3_str, \"ohell\", \"Test 3\")\n",
    "\n",
    "val r4 = r3.reverse_str()\n",
    "val r4_str = r4.get_str()\n",
    "testWithMessage(r4_str, \"lleho\", \"Test 4\")\n",
    "\n",
    "val r5 = r4.append_str(\"what\")\n",
    "val r5_str = r5.get_str()\n",
    "testWithMessage(r5_str, \"llehowhat\", \"Test 5\")\n",
    "\n",
    "testWithMessage(r5.length(), 9, \"Test 6\")\n",
    "\n",
    "passed(15)\n"
   ]
  },
  {
   "cell_type": "markdown",
   "id": "2c327175",
   "metadata": {
    "deletable": false,
    "editable": false,
    "nbgrader": {
     "cell_type": "markdown",
     "checksum": "be379d2b0e241ce48ca0cc7943a98fd3",
     "grade": false,
     "grade_id": "cell-0502d2e8a6ca01fe",
     "locked": true,
     "schema_version": 3,
     "solution": false,
     "task": false
    }
   },
   "source": [
    "## That's all folks"
   ]
  }
 ],
 "metadata": {
  "kernelspec": {
   "display_name": "Scala",
   "language": "scala",
   "name": "scala"
  },
  "language_info": {
   "codemirror_mode": "text/x-scala",
   "file_extension": ".sc",
   "mimetype": "text/x-scala",
   "name": "scala",
   "nbconvert_exporter": "script",
   "version": "2.13.14"
  }
 },
 "nbformat": 4,
 "nbformat_minor": 5
}
