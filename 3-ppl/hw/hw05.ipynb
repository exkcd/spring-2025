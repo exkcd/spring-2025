{
 "cells": [
  {
   "cell_type": "markdown",
   "metadata": {},
   "source": [
    "Before you turn this problem in, make sure everything runs as expected. First, **restart the kernel** (in the menubar, select Kernel$\\rightarrow$Restart) and then **run all cells** (in the menubar, select Cell$\\rightarrow$Run All).\n",
    "\n",
    "Make sure you fill in any place that says `YOUR CODE HERE` or \"YOUR ANSWER HERE\", as well as your name and collaborators below:"
   ]
  },
  {
   "cell_type": "markdown",
   "metadata": {},
   "source": [
    "NAME = Rey Stone\n",
    "COLLABORATORS = \"\""
   ]
  },
  {
   "cell_type": "markdown",
   "metadata": {},
   "source": [
    "---"
   ]
  },
  {
   "cell_type": "markdown",
   "metadata": {
    "deletable": false,
    "editable": false,
    "nbgrader": {
     "cell_type": "markdown",
     "checksum": "4c75cdfa1cdbbb6eac2ab8d16d49b7a4",
     "grade": false,
     "grade_id": "cell-ae24a8098f4ea9f1",
     "locked": true,
     "schema_version": 3,
     "solution": false,
     "task": false
    }
   },
   "source": [
    "# CSCI 3155 Spring 2025:  Assignment 5\n",
    "\n",
    "Topics Covered: Higher-Order Functions."
   ]
  },
  {
   "cell_type": "code",
   "execution_count": 16,
   "metadata": {
    "deletable": false,
    "editable": false,
    "nbgrader": {
     "cell_type": "code",
     "checksum": "657600b5095c27634401cb2d0f3e8bba",
     "grade": false,
     "grade_id": "cell-523e63f33a38d446",
     "locked": true,
     "schema_version": 3,
     "solution": false
    }
   },
   "outputs": [
    {
     "data": {
      "text/plain": [
       "defined \u001b[32mfunction\u001b[39m \u001b[36mpassed\u001b[39m\n",
       "defined \u001b[32mfunction\u001b[39m \u001b[36mtestWithMessage\u001b[39m"
      ]
     },
     "execution_count": 16,
     "metadata": {},
     "output_type": "execute_result"
    }
   ],
   "source": [
    "// TEST HELPER: PLEASE run this cell first\n",
    "def passed(points: Int) = {\n",
    "    require(points >=0)\n",
    "    if (points == 1) print(s\"Tests Passed (1 point)\")\n",
    "    else print(s\"Tests Passed ($points points)\") \n",
    "}\n",
    "\n",
    "def testWithMessage[T](v1: T, expected: T, testID: String) = { \n",
    "    println(s\"Test $testID\"); \n",
    "    println(s\"\\t Your code returned: $v1, Expected: $expected\")\n",
    "    assert (v1 == expected, s\"Test $testID FAILED.\")\n",
    "    println(\"\\t Passed!\")\n",
    "}"
   ]
  },
  {
   "cell_type": "markdown",
   "metadata": {
    "deletable": false,
    "editable": false,
    "nbgrader": {
     "cell_type": "markdown",
     "checksum": "8549ddfc3328955d7143b0f59606e248",
     "grade": false,
     "grade_id": "cell-1c25ff5512e1304b",
     "locked": true,
     "schema_version": 3,
     "solution": false,
     "task": false
    }
   },
   "source": [
    "## Problem 1: map, filter, reduce on containers (50 points)\n",
    "\n",
    "Solve the problems using a combination of map, filter and foldLeft/foldRight opertions over lists. \n",
    " - The use of mutables, recursion, For/While loops is forbidden for all problems.\n",
    " - Each problem has very specific set of allowed LIST API functions. Those are the only functions you can use. Other API functions are not allowed. \n",
    " - There are no restrictions on use of integer operations (addition, subtraction, division, mod etc..) or use of if-then-else, case-pattern matching and other scala constructs (however once again no loops of any kind and no use of var).\n",
    " - There are no restrictions on the use of named \"helper\" function vs anonymous functions.\n",
    " - Please do not use __return__ : It will cause a lot of strange issues in anonymous functions."
   ]
  },
  {
   "cell_type": "markdown",
   "metadata": {
    "deletable": false,
    "editable": false,
    "nbgrader": {
     "cell_type": "markdown",
     "checksum": "02b83d5f7b196f31efa715e7b605a4d8",
     "grade": false,
     "grade_id": "cell-57eb1b5c1720b797",
     "locked": true,
     "schema_version": 3,
     "solution": false
    }
   },
   "source": [
    "## A:  Compute Elementwise Difference of Two List (7 points)\n",
    "\n",
    "You are given two lists of numbers and these lists are of the same length. Compute a new list that is the element-wise difference.\n",
    "\n",
    "If the inputs are `lst1: List(e1, e2, e3, ..., en)` and `lst2: List(f1, f2, ..., fn)`. You should output: `List(e1-f1, e2-f2, ..., en-fn)`.\n",
    "\n",
    "### Examples\n",
    "  \n",
    "`lst1: List(2, 3, 4, 3), lst2: List(1, 1, -1, 5)`. Your code should return `List(1, 2, 5, -2)`.\n",
    "\n",
    "`lst1: Nil, lst2: Nil`. Your code should return `Nil`.\n",
    "\n",
    "\n",
    "\n",
    "**Restrictions**\n",
    "\n",
    " - List API functions that you are allowed to use: `zip` and `map`. \n",
    " - Use of any other List API function is not allowed.\n",
    " - You are __not__ allowed to use __var__, any kind of loops or recursion.\n",
    "\n",
    "You can look the list API documentation for scala to find out more about these functions.\n",
    "Post/Search on piazza if you are unsure. \n",
    "\n"
   ]
  },
  {
   "cell_type": "code",
   "execution_count": 17,
   "metadata": {
    "deletable": false,
    "nbgrader": {
     "cell_type": "code",
     "checksum": "88adc3684dab52fc8bc2c66df51a5f0d",
     "grade": false,
     "grade_id": "cell-d07d79524c90fd4e",
     "locked": false,
     "schema_version": 3,
     "solution": true,
     "task": false
    }
   },
   "outputs": [
    {
     "data": {
      "text/plain": [
       "defined \u001b[32mfunction\u001b[39m \u001b[36melementWiseDiff\u001b[39m"
      ]
     },
     "execution_count": 17,
     "metadata": {},
     "output_type": "execute_result"
    }
   ],
   "source": [
    "def elementWiseDiff(lstA: List[Int], lstB: List[Int]): List[Int] = {\n",
    "    require(lstA.length == lstB.length)\n",
    "    // YOUR CODE HERE\n",
    "    lstA.zip(lstB).map(x => x._1 - x._2)\n",
    "}"
   ]
  },
  {
   "cell_type": "code",
   "execution_count": 18,
   "metadata": {
    "deletable": false,
    "editable": false,
    "nbgrader": {
     "cell_type": "code",
     "checksum": "23f8d22cad303fa99215642c47e2c2c9",
     "grade": true,
     "grade_id": "cell-054acf67575fc99c",
     "locked": true,
     "points": 7,
     "schema_version": 3,
     "solution": false
    }
   },
   "outputs": [
    {
     "name": "stdout",
     "output_type": "stream",
     "text": [
      "Test 1\n",
      "\t Your code returned: List(-3, -3, -3), Expected: List(-3, -3, -3)\n",
      "\t Passed!\n",
      "Test 2\n",
      "\t Your code returned: List(-1, 3, -5), Expected: List(-1, 3, -5)\n",
      "\t Passed!\n",
      "Test 3\n",
      "\t Your code returned: List(), Expected: List()\n",
      "\t Passed!\n",
      "Test 4\n",
      "\t Your code returned: List(1, -4, 2, -1, 1), Expected: List(1, -4, 2, -1, 1)\n",
      "\t Passed!\n",
      "Tests Passed (7 points)"
     ]
    },
    {
     "data": {
      "text/plain": [
       "\u001b[36mt1\u001b[39m: \u001b[32mList\u001b[39m[\u001b[32mInt\u001b[39m] = \u001b[33mList\u001b[39m(\u001b[32m-3\u001b[39m, \u001b[32m-3\u001b[39m, \u001b[32m-3\u001b[39m)\n",
       "\u001b[36mt2\u001b[39m: \u001b[32mList\u001b[39m[\u001b[32mInt\u001b[39m] = \u001b[33mList\u001b[39m(\u001b[32m-1\u001b[39m, \u001b[32m3\u001b[39m, \u001b[32m-5\u001b[39m)\n",
       "\u001b[36mt3\u001b[39m: \u001b[32mList\u001b[39m[\u001b[32mInt\u001b[39m] = \u001b[33mList\u001b[39m()\n",
       "\u001b[36mt4\u001b[39m: \u001b[32mList\u001b[39m[\u001b[32mInt\u001b[39m] = \u001b[33mList\u001b[39m(\u001b[32m1\u001b[39m, \u001b[32m-4\u001b[39m, \u001b[32m2\u001b[39m, \u001b[32m-1\u001b[39m, \u001b[32m1\u001b[39m)"
      ]
     },
     "execution_count": 18,
     "metadata": {},
     "output_type": "execute_result"
    }
   ],
   "source": [
    "// BEGIN TEST\n",
    "\n",
    "val t1 = elementWiseDiff(List(1,2,3), List(4,5,6))\n",
    "testWithMessage(t1, List(-3,-3, -3), \"1\")\n",
    "\n",
    "val t2 = elementWiseDiff(List(1,4,0), List(2,1,5))\n",
    "testWithMessage(t2, List(-1,3,-5), \"2\")\n",
    "\n",
    "val t3 = elementWiseDiff(List(), List())\n",
    "testWithMessage(t3, List(), \"3\")\n",
    "\n",
    "val t4 = elementWiseDiff(List(1, 0, 3, -1, -2), List(0, 4, 1, 0, -3))\n",
    "testWithMessage(t4, List(1, -4, 2, -1, 1), \"4\")\n",
    "\n",
    "passed(7)\n",
    "// END TEST"
   ]
  },
  {
   "cell_type": "markdown",
   "metadata": {
    "deletable": false,
    "editable": false,
    "nbgrader": {
     "cell_type": "markdown",
     "checksum": "ead78320c0ef80ea2c8a8fbe88825daf",
     "grade": false,
     "grade_id": "cell-cce284d399573f50",
     "locked": true,
     "schema_version": 3,
     "solution": false
    }
   },
   "source": [
    "### B: GCD of all non-zero and non-one numbers in a list (7 points)\n",
    "\n",
    "You are given a list of numbers `List(e1, ..., en)`. You are required to output the greatest common divisor of all the elements of the list except the elements that are equal to 0 or 1. \n",
    "\n",
    "### Examples\n",
    "- Input: `List(1, 4, 6, 24, 0)`. Output: `gcd(4, 6, 24)` = 2.\n",
    "- Input: `List(1, 1, 1, 7, 8, 0, 15)`, Output: `gcd(7, 8, 15) = 1`.\n",
    "\n",
    "\n",
    "Assume that the list is not empty and  has atleast one element `ei` other than 0/1.\n",
    "\n",
    "**Restrictions**\n",
    "\n",
    "  - You are allowed to use the provided `gcd` function that computes GCD of two numbers.\n",
    "  - Allowed list API functions: `head`, `tail`, `map`, `filter`, `foldLeft`, `foldRight`, and `reduce`. \n",
    "  - No other list API functions allowed.\n",
    "  - No __var__, no loops and no recursive calls other than the call made for LCM.\n"
   ]
  },
  {
   "cell_type": "code",
   "execution_count": 19,
   "metadata": {
    "deletable": false,
    "nbgrader": {
     "cell_type": "code",
     "checksum": "26e2f42def7ee8229f3411c690f82bd6",
     "grade": false,
     "grade_id": "cell-332c55ac9d70c435",
     "locked": false,
     "schema_version": 3,
     "solution": true
    }
   },
   "outputs": [
    {
     "data": {
      "text/plain": [
       "\u001b[32mimport \u001b[39m\u001b[36mscala.annotation._\u001b[39m\n",
       "defined \u001b[32mfunction\u001b[39m \u001b[36mgcdOfNums\u001b[39m"
      ]
     },
     "execution_count": 19,
     "metadata": {},
     "output_type": "execute_result"
    }
   ],
   "source": [
    "import scala.annotation._\n",
    "\n",
    "@tailrec\n",
    "private def gcd(a: Int, b: Int):Int=if (b==0) a.abs else gcd(b, a%b)\n",
    "\n",
    "\n",
    "def gcdOfNums(lst: List[Int]): Int = {\n",
    "    // YOUR CODE HERE\n",
    "    lst.filter(x => x > 1).foldLeft(0)((x, y) => gcd(x,y))\n",
    "}"
   ]
  },
  {
   "cell_type": "code",
   "execution_count": 20,
   "metadata": {
    "deletable": false,
    "editable": false,
    "nbgrader": {
     "cell_type": "code",
     "checksum": "20ac6f219a626bbb908d740d28e03d9c",
     "grade": true,
     "grade_id": "cell-b37de6cd26982543",
     "locked": true,
     "points": 7,
     "schema_version": 3,
     "solution": false
    }
   },
   "outputs": [
    {
     "name": "stdout",
     "output_type": "stream",
     "text": [
      "Test 1\n",
      "\t Your code returned: 5, Expected: 5\n",
      "\t Passed!\n",
      "Test 2\n",
      "\t Your code returned: 2, Expected: 2\n",
      "\t Passed!\n",
      "Test 3\n",
      "\t Your code returned: 3, Expected: 3\n",
      "\t Passed!\n",
      "Tests Passed (7 points)"
     ]
    },
    {
     "data": {
      "text/plain": [
       "\u001b[36mi1\u001b[39m: \u001b[32mInt\u001b[39m = \u001b[32m5\u001b[39m\n",
       "\u001b[36mi2\u001b[39m: \u001b[32mInt\u001b[39m = \u001b[32m2\u001b[39m\n",
       "\u001b[36mi3\u001b[39m: \u001b[32mInt\u001b[39m = \u001b[32m3\u001b[39m"
      ]
     },
     "execution_count": 20,
     "metadata": {},
     "output_type": "execute_result"
    }
   ],
   "source": [
    "// BEGIN TEST\n",
    "val i1 = gcdOfNums(List(1, 1, 1, 0, 1, 1, 0, 5))\n",
    "testWithMessage(i1, 5, \"1\")\n",
    "val i2 = gcdOfNums(List(1, 2, 0, 4, 6, 8))\n",
    "testWithMessage(i2, 2, \"2\")\n",
    "val i3 = gcdOfNums(List(18, 27, 729, 1110))\n",
    "testWithMessage(i3, 3, \"3\")\n",
    "passed(7)\n",
    "// END TEST"
   ]
  },
  {
   "cell_type": "markdown",
   "metadata": {
    "deletable": false,
    "editable": false,
    "nbgrader": {
     "cell_type": "markdown",
     "checksum": "db758b191c4e14b695948e01a0113260",
     "grade": false,
     "grade_id": "cell-ea3d3fc4e6b8adf3",
     "locked": true,
     "schema_version": 3,
     "solution": false,
     "task": false
    }
   },
   "source": [
    "## C: All List Elements That are Less Than Their Index (10 points)\n",
    "\n",
    "Write a list function that inputs a list of integers `lst` and outputs a list consisting of all those elements in `lst` whose values are __strictly less__ than their indices. Indices of elements start at 0 and go upto `length of list -1`.\n",
    "The order of the elements in the original list must be preserved in the returned list.\n",
    "\n",
    "**Restrictions**\n",
    "\n",
    "- You may use  these list API functions: `zip`, `zipWithIndex` (read documentation), `map`, `foldLeft`, `foldRight` and `filter`.\n",
    "- No other list API functions are allowed.\n",
    "- Use of loops, var, recursion not allowed.\n",
    "\n",
    "#### Example\n",
    "\n",
    "  - Input: List(1, 2, 2, -2, 4, 4,5)\n",
    "  - Output: List(-2, 4, 5)\n",
    "Note that elements  -2 (index 3), 4 (index 5) and 5 (index 6) are returned. \n",
    "\n"
   ]
  },
  {
   "cell_type": "code",
   "execution_count": 21,
   "metadata": {
    "deletable": false,
    "nbgrader": {
     "cell_type": "code",
     "checksum": "6b4e70efc9dc8ce0f9b884e5c2275369",
     "grade": false,
     "grade_id": "cell-ec76364060e01d7b",
     "locked": false,
     "schema_version": 3,
     "solution": true,
     "task": false
    }
   },
   "outputs": [
    {
     "data": {
      "text/plain": [
       "defined \u001b[32mfunction\u001b[39m \u001b[36mlistElementsLessThanIndex\u001b[39m"
      ]
     },
     "execution_count": 21,
     "metadata": {},
     "output_type": "execute_result"
    }
   ],
   "source": [
    "def listElementsLessThanIndex(lst: List[Int]): List[Int] = {\n",
    "    // YOUR CODE HERE\n",
    "    lst.zipWithIndex.filter {\n",
    "        case (e, f) => e < f\n",
    "    }.map(_._1)\n",
    "}"
   ]
  },
  {
   "cell_type": "code",
   "execution_count": 22,
   "metadata": {
    "deletable": false,
    "editable": false,
    "nbgrader": {
     "cell_type": "code",
     "checksum": "9019c3d3ae9d8766adaea219a7f7d2d5",
     "grade": true,
     "grade_id": "cell-bbaaea1a391dc9de",
     "locked": true,
     "points": 10,
     "schema_version": 3,
     "solution": false,
     "task": false
    }
   },
   "outputs": [
    {
     "name": "stdout",
     "output_type": "stream",
     "text": [
      "Test 1\n",
      "\t Your code returned: List(-2), Expected: List(-2)\n",
      "\t Passed!\n",
      "Test 2\n",
      "\t Your code returned: List(-1, -2, -3, -4, -5, -6), Expected: List(-1, -2, -3, -4, -5, -6)\n",
      "\t Passed!\n",
      "Test 3\n",
      "\t Your code returned: List(), Expected: List()\n",
      "\t Passed!\n",
      "Test 4\n",
      "\t Your code returned: List(4, 3, 2, 1, -1, -2, -3), Expected: List(4, 3, 2, 1, -1, -2, -3)\n",
      "\t Passed!\n",
      "Tests Passed (10 points)"
     ]
    },
    {
     "data": {
      "text/plain": [
       "\u001b[36mlst1\u001b[39m: \u001b[32mList\u001b[39m[\u001b[32mInt\u001b[39m] = \u001b[33mList\u001b[39m(\u001b[32m1\u001b[39m, \u001b[32m2\u001b[39m, \u001b[32m2\u001b[39m, \u001b[32m-2\u001b[39m, \u001b[32m4\u001b[39m, \u001b[32m6\u001b[39m, \u001b[32m8\u001b[39m)\n",
       "\u001b[36mres1\u001b[39m: \u001b[32mList\u001b[39m[\u001b[32mInt\u001b[39m] = \u001b[33mList\u001b[39m(\u001b[32m-2\u001b[39m)\n",
       "\u001b[36mlst2\u001b[39m: \u001b[32mList\u001b[39m[\u001b[32mInt\u001b[39m] = \u001b[33mList\u001b[39m(\u001b[32m-1\u001b[39m, \u001b[32m-2\u001b[39m, \u001b[32m-3\u001b[39m, \u001b[32m-4\u001b[39m, \u001b[32m-5\u001b[39m, \u001b[32m-6\u001b[39m)\n",
       "\u001b[36mres2\u001b[39m: \u001b[32mList\u001b[39m[\u001b[32mInt\u001b[39m] = \u001b[33mList\u001b[39m(\u001b[32m-1\u001b[39m, \u001b[32m-2\u001b[39m, \u001b[32m-3\u001b[39m, \u001b[32m-4\u001b[39m, \u001b[32m-5\u001b[39m, \u001b[32m-6\u001b[39m)\n",
       "\u001b[36mlst3\u001b[39m: \u001b[32mList\u001b[39m[\u001b[32mInt\u001b[39m] = \u001b[33mList\u001b[39m(\u001b[32m1\u001b[39m, \u001b[32m2\u001b[39m, \u001b[32m3\u001b[39m, \u001b[32m4\u001b[39m, \u001b[32m5\u001b[39m, \u001b[32m6\u001b[39m, \u001b[32m7\u001b[39m, \u001b[32m8\u001b[39m)\n",
       "\u001b[36mres3\u001b[39m: \u001b[32mList\u001b[39m[\u001b[32mInt\u001b[39m] = \u001b[33mList\u001b[39m()\n",
       "\u001b[36mlst4\u001b[39m: \u001b[32mList\u001b[39m[\u001b[32mInt\u001b[39m] = \u001b[33mList\u001b[39m(\u001b[32m10\u001b[39m, \u001b[32m9\u001b[39m, \u001b[32m8\u001b[39m, \u001b[32m7\u001b[39m, \u001b[32m6\u001b[39m, \u001b[32m5\u001b[39m, \u001b[32m4\u001b[39m, \u001b[32m3\u001b[39m, \u001b[32m2\u001b[39m, \u001b[32m1\u001b[39m, \u001b[32m-1\u001b[39m, \u001b[32m-2\u001b[39m, \u001b[32m-3\u001b[39m)\n",
       "\u001b[36mres4\u001b[39m: \u001b[32mList\u001b[39m[\u001b[32mInt\u001b[39m] = \u001b[33mList\u001b[39m(\u001b[32m4\u001b[39m, \u001b[32m3\u001b[39m, \u001b[32m2\u001b[39m, \u001b[32m1\u001b[39m, \u001b[32m-1\u001b[39m, \u001b[32m-2\u001b[39m, \u001b[32m-3\u001b[39m)"
      ]
     },
     "execution_count": 22,
     "metadata": {},
     "output_type": "execute_result"
    }
   ],
   "source": [
    "val lst1 = List(1,2,2,-2,4,6,8)\n",
    "val res1 = listElementsLessThanIndex(lst1)\n",
    "testWithMessage(res1, List(-2), \"1\")\n",
    "\n",
    "\n",
    "val lst2 = List(-1,-2,-3,-4,-5,-6)\n",
    "val res2 = listElementsLessThanIndex(lst2)\n",
    "testWithMessage(res2, lst2, \"2\")\n",
    "\n",
    "val lst3 = List(1,2,3,4,5,6,7,8)\n",
    "val res3 = listElementsLessThanIndex(lst3)\n",
    "testWithMessage(res3, Nil, \"3\")\n",
    "\n",
    "val lst4 = List(10, 9, 8, 7, 6, 5, 4, 3, 2, 1, -1, -2, -3)\n",
    "val res4 = listElementsLessThanIndex(lst4)\n",
    "testWithMessage(res4, List(4, 3, 2, 1, -1, -2, -3), \"4\")\n",
    "\n",
    "passed(10)\n"
   ]
  },
  {
   "cell_type": "markdown",
   "metadata": {
    "deletable": false,
    "editable": false,
    "nbgrader": {
     "cell_type": "markdown",
     "checksum": "891906de392ccb2823ac09f4d9dfb699",
     "grade": false,
     "grade_id": "cell-6abc93774eacd7f4",
     "locked": true,
     "schema_version": 3,
     "solution": false,
     "task": false
    }
   },
   "source": [
    "## D ( 5 points) : All List Indices whose Elements are Divisible by 3.\n",
    "\n",
    "Write a function that inputs a list of integers and returns all the indices in the original list whose elements are divisible by 3. Note that indices start from 0. \n",
    "\n",
    "Your code must return the indices sorted in ascending order.\n",
    "\n",
    "**Restrictions**\n",
    "- Allowed List API functions: `zipWithIndex`, `zip`, `filter`, `map`, `foldLeft`, and `foldRight`.\n",
    "- Not allowed: all other list API functions.\n",
    "- Loops of any form, recursion and use of var not allowed.\n",
    "\n",
    "### Example\n",
    "\n",
    "  - Input: List(1, **3**, 5, 7, **6, 9, 12**, 11)\n",
    "  - Output: List(1, 4, 5, 6)\n",
    "  \n",
    "  Note that the returned list is a list of integers whose entries correspond to the indices in the original list.\n",
    "\n"
   ]
  },
  {
   "cell_type": "code",
   "execution_count": 23,
   "metadata": {
    "deletable": false,
    "nbgrader": {
     "cell_type": "code",
     "checksum": "11d54c43eb511f8ea59edf85c4cb39ef",
     "grade": false,
     "grade_id": "cell-2399c480ddc85d87",
     "locked": false,
     "schema_version": 3,
     "solution": true,
     "task": false
    }
   },
   "outputs": [
    {
     "data": {
      "text/plain": [
       "defined \u001b[32mfunction\u001b[39m \u001b[36mallIndicesDivisibleBy3\u001b[39m"
      ]
     },
     "execution_count": 23,
     "metadata": {},
     "output_type": "execute_result"
    }
   ],
   "source": [
    "def allIndicesDivisibleBy3(lst: List[Int]): List[Int] = {\n",
    "    // YOUR CODE HERE\n",
    "    lst.zipWithIndex.filter {\n",
    "        case (e,f) => e % 3 == 0\n",
    "    }.map(_._2)\n",
    "}"
   ]
  },
  {
   "cell_type": "code",
   "execution_count": 24,
   "metadata": {
    "deletable": false,
    "editable": false,
    "nbgrader": {
     "cell_type": "code",
     "checksum": "6d33f6d72c4e67d8c0c97b49a9e63378",
     "grade": true,
     "grade_id": "cell-ebebb499fc5f05d4",
     "locked": true,
     "points": 5,
     "schema_version": 3,
     "solution": false,
     "task": false
    }
   },
   "outputs": [
    {
     "name": "stdout",
     "output_type": "stream",
     "text": [
      "Test 1\n",
      "\t Your code returned: List(1, 4, 5, 6), Expected: List(1, 4, 5, 6)\n",
      "\t Passed!\n",
      "Test 2\n",
      "\t Your code returned: List(3, 6), Expected: List(3, 6)\n",
      "\t Passed!\n",
      "Test 3\n",
      "\t Your code returned: 0, Expected: 0\n",
      "\t Passed!\n",
      "Test 4\n",
      "\t Your code returned: List(0, 1, 2, 3, 4, 5, 6, 7), Expected: List(0, 1, 2, 3, 4, 5, 6, 7)\n",
      "\t Passed!\n",
      "Tests Passed (5 points)"
     ]
    },
    {
     "data": {
      "text/plain": [
       "\u001b[36mlst1\u001b[39m: \u001b[32mList\u001b[39m[\u001b[32mInt\u001b[39m] = \u001b[33mList\u001b[39m(\u001b[32m1\u001b[39m, \u001b[32m3\u001b[39m, \u001b[32m5\u001b[39m, \u001b[32m7\u001b[39m, \u001b[32m6\u001b[39m, \u001b[32m9\u001b[39m, \u001b[32m12\u001b[39m, \u001b[32m11\u001b[39m)\n",
       "\u001b[36mres1\u001b[39m: \u001b[32mList\u001b[39m[\u001b[32mInt\u001b[39m] = \u001b[33mList\u001b[39m(\u001b[32m1\u001b[39m, \u001b[32m4\u001b[39m, \u001b[32m5\u001b[39m, \u001b[32m6\u001b[39m)\n",
       "\u001b[36mlst2\u001b[39m: \u001b[32mList\u001b[39m[\u001b[32mInt\u001b[39m] = \u001b[33mList\u001b[39m(\u001b[32m1\u001b[39m, \u001b[32m5\u001b[39m, \u001b[32m7\u001b[39m, \u001b[32m9\u001b[39m, \u001b[32m11\u001b[39m, \u001b[32m13\u001b[39m, \u001b[32m15\u001b[39m)\n",
       "\u001b[36mres2\u001b[39m: \u001b[32mList\u001b[39m[\u001b[32mInt\u001b[39m] = \u001b[33mList\u001b[39m(\u001b[32m3\u001b[39m, \u001b[32m6\u001b[39m)\n",
       "\u001b[36mlst3\u001b[39m: \u001b[32mList\u001b[39m[\u001b[32mInt\u001b[39m] = \u001b[33mList\u001b[39m(\u001b[32m1\u001b[39m, \u001b[32m5\u001b[39m, \u001b[32m7\u001b[39m, \u001b[32m11\u001b[39m, \u001b[32m13\u001b[39m)\n",
       "\u001b[36mres3\u001b[39m: \u001b[32mList\u001b[39m[\u001b[32mInt\u001b[39m] = \u001b[33mList\u001b[39m()\n",
       "\u001b[36mlst4\u001b[39m: \u001b[32mList\u001b[39m[\u001b[32mInt\u001b[39m] = \u001b[33mList\u001b[39m(\u001b[32m-3\u001b[39m, \u001b[32m-6\u001b[39m, \u001b[32m-9\u001b[39m, \u001b[32m-12\u001b[39m, \u001b[32m-15\u001b[39m, \u001b[32m-18\u001b[39m, \u001b[32m-21\u001b[39m, \u001b[32m-24\u001b[39m)\n",
       "\u001b[36mres4\u001b[39m: \u001b[32mList\u001b[39m[\u001b[32mInt\u001b[39m] = \u001b[33mList\u001b[39m(\u001b[32m0\u001b[39m, \u001b[32m1\u001b[39m, \u001b[32m2\u001b[39m, \u001b[32m3\u001b[39m, \u001b[32m4\u001b[39m, \u001b[32m5\u001b[39m, \u001b[32m6\u001b[39m, \u001b[32m7\u001b[39m)"
      ]
     },
     "execution_count": 24,
     "metadata": {},
     "output_type": "execute_result"
    }
   ],
   "source": [
    "//BEGIN TESTS\n",
    "val lst1 = List(1,3,5,7,6,9,12,11)\n",
    "val res1 = allIndicesDivisibleBy3(lst1)\n",
    "testWithMessage(res1, List(1,4,5,6), \"1\")\n",
    "\n",
    "val lst2 = List(1,5,7,9,11,13,15)\n",
    "val res2 = allIndicesDivisibleBy3(lst2)\n",
    "testWithMessage(res2, List(3,6), \"2\")\n",
    "\n",
    "\n",
    "val lst3 = List(1,5,7,11,13)\n",
    "val res3 = allIndicesDivisibleBy3(lst3)\n",
    "testWithMessage(res3.length, 0, \"3\")\n",
    "\n",
    "\n",
    "val lst4 = List(-3,-6,-9,-12,-15,-18,-21,-24)\n",
    "val res4 = allIndicesDivisibleBy3(lst4)\n",
    "testWithMessage(res4, List(0,1,2,3,4,5,6,7), \"4\")\n",
    "\n",
    "passed(5)\n",
    "\n",
    "//END TESTS"
   ]
  },
  {
   "cell_type": "markdown",
   "metadata": {
    "deletable": false,
    "editable": false,
    "nbgrader": {
     "cell_type": "markdown",
     "checksum": "aabfad8c035e397db9b2cb8466e3f71a",
     "grade": false,
     "grade_id": "cell-065a72cb3c7df59e",
     "locked": true,
     "schema_version": 3,
     "solution": false,
     "task": false
    }
   },
   "source": [
    "## Problem E (7 points) : Convert a List of Strings into List of Tuples\n",
    "\n",
    "Write a function that achieves the following.\n",
    "\n",
    "Input: List of String\n",
    "\n",
    "Output: List of 4-tuples: wherein each tuple consists of the corresponding string in the input list, its length, its reverse and its index.\n",
    "\n",
    "See example below. Order of elements in the original list must be preserved.\n",
    "\n",
    "\n",
    "### Example\n",
    "\n",
    "  - Input: List(\"Que\", \"Sera\", \"Sera\", \"Whatever\", \"Will\", \"Be\")\n",
    "  - Output: List( ( \"Que\", 3, \"euQ\", 0), (\"Sera\", 4, \"areS\", 1), (\"Sera\", 4, \"areS\", 2), (\"Whatever\", 8, \"revetahW\", 3), (\"Will\", 4, \"lliW\", 4), (\"Be\", 2, \"eB\", 5)) )\n",
    "\n",
    "\n",
    "**Restrictions**\n",
    "- You are allowed to use `map`, `filter`, `foldLeft`, `foldRight`, `zip` and `zipWithIndex`.\n",
    "- All other list API functions are disallowed.\n",
    "- String API functions: `length` and `reverse` are allowed.\n",
    "- All other string API functions disallowed.\n",
    "- Use of var, recursion or any kind of loop is forbidden.\n",
    "\n"
   ]
  },
  {
   "cell_type": "code",
   "execution_count": 25,
   "metadata": {
    "deletable": false,
    "nbgrader": {
     "cell_type": "code",
     "checksum": "eda82a6fdd397b5d4fc7399608888b21",
     "grade": false,
     "grade_id": "cell-936623db4d48dc12",
     "locked": false,
     "schema_version": 3,
     "solution": true,
     "task": false
    }
   },
   "outputs": [
    {
     "data": {
      "text/plain": [
       "defined \u001b[32mfunction\u001b[39m \u001b[36mconvertListToListTuples\u001b[39m"
      ]
     },
     "execution_count": 25,
     "metadata": {},
     "output_type": "execute_result"
    }
   ],
   "source": [
    "def convertListToListTuples(lst: List[String]): List[(String, Int, String, Int)] = {\n",
    "    // YOUR CODE HERE\n",
    "    lst.zipWithIndex.map {\n",
    "        case (str, index) => {\n",
    "            (str, str.length, str.reverse, index)\n",
    "        }\n",
    "    }\n",
    "}"
   ]
  },
  {
   "cell_type": "code",
   "execution_count": 26,
   "metadata": {
    "deletable": false,
    "editable": false,
    "nbgrader": {
     "cell_type": "code",
     "checksum": "d43befb0786d50a484d7d0f927151a81",
     "grade": true,
     "grade_id": "cell-c920ce6277c82861",
     "locked": true,
     "points": 7,
     "schema_version": 3,
     "solution": false,
     "task": false
    }
   },
   "outputs": [
    {
     "name": "stdout",
     "output_type": "stream",
     "text": [
      "Test 1\n",
      "\t Your code returned: List((Que,3,euQ,0), (Sera,4,areS,1), (Sera,4,areS,2), (Whatever,8,revetahW,3), (Will,4,lliW,4), (Be,2,eB,5)), Expected: List((Que,3,euQ,0), (Sera,4,areS,1), (Sera,4,areS,2), (Whatever,8,revetahW,3), (Will,4,lliW,4), (Be,2,eB,5))\n",
      "\t Passed!\n",
      "Test 2\n",
      "\t Your code returned: List((All,3,llA,0), (The,3,ehT,1), (World,5,dlroW,2), (Is,2,sI,3), (A,1,A,4), (Stage,5,egatS,5)), Expected: List((All,3,llA,0), (The,3,ehT,1), (World,5,dlroW,2), (Is,2,sI,3), (A,1,A,4), (Stage,5,egatS,5))\n",
      "\t Passed!\n",
      "Test 3\n",
      "\t Your code returned: List((Cry,3,yrC,0), (Havoc!,6,!covaH,1), (And,3,dnA,2), (Let,3,teL,3), (Loose,5,esooL,4), (The,3,ehT,5), (Dogs,4,sgoD,6), (Of,2,fO,7), (War,3,raW,8)), Expected: List((Cry,3,yrC,0), (Havoc!,6,!covaH,1), (And,3,dnA,2), (Let,3,teL,3), (Loose,5,esooL,4), (The,3,ehT,5), (Dogs,4,sgoD,6), (Of,2,fO,7), (War,3,raW,8))\n",
      "\t Passed!\n",
      "Test 4\n",
      "\t Your code returned: List((To,2,oT,0), (Be,2,eB,1), (Or,2,rO,2), (Not,3,toN,3), (to,2,ot,4), (be,2,eb,5), (is,2,si,6), (the,3,eht,7), (question,8,noitseuq,8)), Expected: List((To,2,oT,0), (Be,2,eB,1), (Or,2,rO,2), (Not,3,toN,3), (to,2,ot,4), (be,2,eb,5), (is,2,si,6), (the,3,eht,7), (question,8,noitseuq,8))\n",
      "\t Passed!\n",
      "Tests Passed (7 points)"
     ]
    },
    {
     "data": {
      "text/plain": [
       "defined \u001b[32mfunction\u001b[39m \u001b[36mloopTestListOfTuples\u001b[39m\n",
       "\u001b[36mlst1\u001b[39m: \u001b[32mList\u001b[39m[\u001b[32mString\u001b[39m] = \u001b[33mList\u001b[39m(\u001b[32m\"Que\"\u001b[39m, \u001b[32m\"Sera\"\u001b[39m, \u001b[32m\"Sera\"\u001b[39m, \u001b[32m\"Whatever\"\u001b[39m, \u001b[32m\"Will\"\u001b[39m, \u001b[32m\"Be\"\u001b[39m)\n",
       "\u001b[36mexpected1\u001b[39m: \u001b[32mList\u001b[39m[(\u001b[32mString\u001b[39m, \u001b[32mInt\u001b[39m, \u001b[32mString\u001b[39m, \u001b[32mInt\u001b[39m)] = \u001b[33mList\u001b[39m(\n",
       "  (\u001b[32m\"Que\"\u001b[39m, \u001b[32m3\u001b[39m, \u001b[32m\"euQ\"\u001b[39m, \u001b[32m0\u001b[39m),\n",
       "  (\u001b[32m\"Sera\"\u001b[39m, \u001b[32m4\u001b[39m, \u001b[32m\"areS\"\u001b[39m, \u001b[32m1\u001b[39m),\n",
       "  (\u001b[32m\"Sera\"\u001b[39m, \u001b[32m4\u001b[39m, \u001b[32m\"areS\"\u001b[39m, \u001b[32m2\u001b[39m),\n",
       "  (\u001b[32m\"Whatever\"\u001b[39m, \u001b[32m8\u001b[39m, \u001b[32m\"revetahW\"\u001b[39m, \u001b[32m3\u001b[39m),\n",
       "  (\u001b[32m\"Will\"\u001b[39m, \u001b[32m4\u001b[39m, \u001b[32m\"lliW\"\u001b[39m, \u001b[32m4\u001b[39m),\n",
       "  (\u001b[32m\"Be\"\u001b[39m, \u001b[32m2\u001b[39m, \u001b[32m\"eB\"\u001b[39m, \u001b[32m5\u001b[39m)\n",
       ")\n",
       "\u001b[36mlst2\u001b[39m: \u001b[32mList\u001b[39m[\u001b[32mString\u001b[39m] = \u001b[33mList\u001b[39m(\u001b[32m\"All\"\u001b[39m, \u001b[32m\"The\"\u001b[39m, \u001b[32m\"World\"\u001b[39m, \u001b[32m\"Is\"\u001b[39m, \u001b[32m\"A\"\u001b[39m, \u001b[32m\"Stage\"\u001b[39m)\n",
       "\u001b[36mexpected2\u001b[39m: \u001b[32mList\u001b[39m[(\u001b[32mString\u001b[39m, \u001b[32mInt\u001b[39m, \u001b[32mString\u001b[39m, \u001b[32mInt\u001b[39m)] = \u001b[33mList\u001b[39m(\n",
       "  (\u001b[32m\"All\"\u001b[39m, \u001b[32m3\u001b[39m, \u001b[32m\"llA\"\u001b[39m, \u001b[32m0\u001b[39m),\n",
       "  (\u001b[32m\"The\"\u001b[39m, \u001b[32m3\u001b[39m, \u001b[32m\"ehT\"\u001b[39m, \u001b[32m1\u001b[39m),\n",
       "  (\u001b[32m\"World\"\u001b[39m, \u001b[32m5\u001b[39m, \u001b[32m\"dlroW\"\u001b[39m, \u001b[32m2\u001b[39m),\n",
       "  (\u001b[32m\"Is\"\u001b[39m, \u001b[32m2\u001b[39m, \u001b[32m\"sI\"\u001b[39m, \u001b[32m3\u001b[39m),\n",
       "  (\u001b[32m\"A\"\u001b[39m, \u001b[32m1\u001b[39m, \u001b[32m\"A\"\u001b[39m, \u001b[32m4\u001b[39m),\n",
       "  (\u001b[32m\"Stage\"\u001b[39m, \u001b[32m5\u001b[39m, \u001b[32m\"egatS\"\u001b[39m, \u001b[32m5\u001b[39m)\n",
       ")\n",
       "\u001b[36mlst3\u001b[39m: \u001b[32mList\u001b[39m[\u001b[32mString\u001b[39m] = \u001b[33mList\u001b[39m(\n",
       "  \u001b[32m\"Cry\"\u001b[39m,\n",
       "  \u001b[32m\"Havoc!\"\u001b[39m,\n",
       "  \u001b[32m\"And\"\u001b[39m,\n",
       "  \u001b[32m\"Let\"\u001b[39m,\n",
       "  \u001b[32m\"Loose\"\u001b[39m,\n",
       "  \u001b[32m\"The\"\u001b[39m,\n",
       "  \u001b[32m\"Dogs\"\u001b[39m,\n",
       "  \u001b[32m\"Of\"\u001b[39m,\n",
       "  \u001b[32m\"War\"\u001b[39m\n",
       ")\n",
       "\u001b[36mexpected3\u001b[39m: \u001b[32mList\u001b[39m[(\u001b[32mString\u001b[39m, \u001b[32mInt\u001b[39m, \u001b[32mString\u001b[39m, \u001b[32mInt\u001b[39m)] = \u001b[33mList\u001b[39m(\n",
       "  (\u001b[32m\"Cry\"\u001b[39m, \u001b[32m3\u001b[39m, \u001b[32m\"yrC\"\u001b[39m, \u001b[32m0\u001b[39m),\n",
       "  (\u001b[32m\"Havoc!\"\u001b[39m, \u001b[32m6\u001b[39m, \u001b[32m\"!covaH\"\u001b[39m, \u001b[32m1\u001b[39m),\n",
       "  (\u001b[32m\"And\"\u001b[39m, \u001b[32m3\u001b[39m, \u001b[32m\"dnA\"\u001b[39m, \u001b[32m2\u001b[39m),\n",
       "  (\u001b[32m\"Let\"\u001b[39m, \u001b[32m3\u001b[39m, \u001b[32m\"teL\"\u001b[39m, \u001b[32m3\u001b[39m),\n",
       "  (\u001b[32m\"Loose\"\u001b[39m, \u001b[32m5\u001b[39m, \u001b[32m\"esooL\"\u001b[39m, \u001b[32m4\u001b[39m),\n",
       "  (\u001b[32m\"The\"\u001b[39m, \u001b[32m3\u001b[39m, \u001b[32m\"ehT\"\u001b[39m, \u001b[32m5\u001b[39m),\n",
       "  (\u001b[32m\"Dogs\"\u001b[39m, \u001b[32m4\u001b[39m, \u001b[32m\"sgoD\"\u001b[39m, \u001b[32m6\u001b[39m),\n",
       "  (\u001b[32m\"Of\"\u001b[39m, \u001b[32m2\u001b[39m, \u001b[32m\"fO\"\u001b[39m, \u001b[32m7\u001b[39m),\n",
       "  (\u001b[32m\"War\"\u001b[39m, \u001b[32m3\u001b[39m, \u001b[32m\"raW\"\u001b[39m, \u001b[32m8\u001b[39m)\n",
       ")\n",
       "\u001b[36mlst4\u001b[39m: \u001b[32mList\u001b[39m[\u001b[32mString\u001b[39m] = \u001b[33mList\u001b[39m(\n",
       "  \u001b[32m\"To\"\u001b[39m,\n",
       "  \u001b[32m\"Be\"\u001b[39m,\n",
       "  \u001b[32m\"Or\"\u001b[39m,\n",
       "  \u001b[32m\"Not\"\u001b[39m,\n",
       "  \u001b[32m\"to\"\u001b[39m,\n",
       "  \u001b[32m\"be\"\u001b[39m,\n",
       "  \u001b[32m\"is\"\u001b[39m,\n",
       "  \u001b[32m\"the\"\u001b[39m,\n",
       "  \u001b[32m\"question\"\u001b[39m\n",
       ")\n",
       "\u001b[36mexpected4\u001b[39m: \u001b[32mList\u001b[39m[(\u001b[32mString\u001b[39m, \u001b[32mInt\u001b[39m, \u001b[32mString\u001b[39m, \u001b[32mInt\u001b[39m)] = \u001b[33mList\u001b[39m(\n",
       "  (\u001b[32m\"To\"\u001b[39m, \u001b[32m2\u001b[39m, \u001b[32m\"oT\"\u001b[39m, \u001b[32m0\u001b[39m),\n",
       "  (\u001b[32m\"Be\"\u001b[39m, \u001b[32m2\u001b[39m, \u001b[32m\"eB\"\u001b[39m, \u001b[32m1\u001b[39m),\n",
       "  (\u001b[32m\"Or\"\u001b[39m, \u001b[32m2\u001b[39m, \u001b[32m\"rO\"\u001b[39m, \u001b[32m2\u001b[39m),\n",
       "  (\u001b[32m\"Not\"\u001b[39m, \u001b[32m3\u001b[39m, \u001b[32m\"toN\"\u001b[39m, \u001b[32m3\u001b[39m),\n",
       "  (\u001b[32m\"to\"\u001b[39m, \u001b[32m2\u001b[39m, \u001b[32m\"ot\"\u001b[39m, \u001b[32m4\u001b[39m),\n",
       "  (\u001b[32m\"be\"\u001b[39m, \u001b[32m2\u001b[39m, \u001b[32m\"eb\"\u001b[39m, \u001b[32m5\u001b[39m),\n",
       "  (\u001b[32m\"is\"\u001b[39m, \u001b[32m2\u001b[39m, \u001b[32m\"si\"\u001b[39m, \u001b[32m6\u001b[39m),\n",
       "  (\u001b[32m\"the\"\u001b[39m, \u001b[32m3\u001b[39m, \u001b[32m\"eht\"\u001b[39m, \u001b[32m7\u001b[39m),\n",
       "  (\u001b[32m\"question\"\u001b[39m, \u001b[32m8\u001b[39m, \u001b[32m\"noitseuq\"\u001b[39m, \u001b[32m8\u001b[39m)\n",
       ")"
      ]
     },
     "execution_count": 26,
     "metadata": {},
     "output_type": "execute_result"
    }
   ],
   "source": [
    "//BEGIN TESTS\n",
    "def loopTestListOfTuples (lst: List[String]): List[(String, Int, String, Int)] = {\n",
    "    var count = 0\n",
    "    var ret_list:List[(String, Int, String, Int)]  = List()\n",
    "    for (elt <- lst){\n",
    "        ret_list = ret_list ++ List((elt, elt.length, elt.reverse, count))\n",
    "        count = count + 1\n",
    "    }\n",
    "    ret_list\n",
    "}\n",
    "\n",
    "val lst1 = List(\"Que\", \"Sera\", \"Sera\", \"Whatever\", \"Will\", \"Be\")\n",
    "val expected1 = loopTestListOfTuples(lst1)\n",
    "testWithMessage(expected1, convertListToListTuples(lst1), \"1\")\n",
    "\n",
    "val lst2 = List(\"All\", \"The\", \"World\", \"Is\", \"A\", \"Stage\")\n",
    "val expected2 = loopTestListOfTuples(lst2)\n",
    "testWithMessage(expected2, convertListToListTuples(lst2), \"2\")\n",
    "\n",
    "\n",
    "val lst3 = List(\"Cry\", \"Havoc!\", \"And\", \"Let\", \"Loose\", \"The\", \"Dogs\", \"Of\", \"War\")\n",
    "val expected3 = loopTestListOfTuples(lst3)\n",
    "testWithMessage(expected3, convertListToListTuples(lst3), \"3\")\n",
    "\n",
    "\n",
    "val lst4 = List(\"To\", \"Be\", \"Or\", \"Not\", \"to\", \"be\", \"is\", \"the\", \"question\")\n",
    "val expected4 = loopTestListOfTuples(lst4)\n",
    "testWithMessage(expected4, convertListToListTuples(lst4), \"4\")\n",
    "\n",
    "// END TESTS\n",
    "passed(7)\n"
   ]
  },
  {
   "cell_type": "code",
   "execution_count": 27,
   "metadata": {
    "deletable": false,
    "nbgrader": {
     "cell_type": "code",
     "checksum": "9a4b50799a46eb0980c1b868a76a922a",
     "grade": false,
     "grade_id": "cell-0c984f492b25b8b4",
     "locked": false,
     "schema_version": 3,
     "solution": true
    }
   },
   "outputs": [
    {
     "data": {
      "text/plain": [
       "defined \u001b[32mfunction\u001b[39m \u001b[36mmakeIndexedList\u001b[39m"
      ]
     },
     "execution_count": 27,
     "metadata": {},
     "output_type": "execute_result"
    }
   ],
   "source": [
    "def makeIndexedList(lst:List[String]): List[(String, Int)] = {\n",
    "    // YOUR CODE HERE\n",
    "    lst.foldLeft((List.empty[(String, Int)], 0)) {\n",
    "        case ((acc, index), str) =>  (acc :+ (str, index + 1), index+1)\n",
    "    }._1\n",
    "}"
   ]
  },
  {
   "cell_type": "code",
   "execution_count": 28,
   "metadata": {
    "deletable": false,
    "editable": false,
    "nbgrader": {
     "cell_type": "code",
     "checksum": "7742f9f67cd0e4f157ca77f6be18868a",
     "grade": true,
     "grade_id": "cell-8c49d31044f1e0ae",
     "locked": true,
     "points": 9,
     "schema_version": 3,
     "solution": false
    }
   },
   "outputs": [
    {
     "name": "stdout",
     "output_type": "stream",
     "text": [
      "Test 1\n",
      "\t Your code returned: List((hello,1)), Expected: List((hello,1))\n",
      "\t Passed!\n",
      "Test 2\n",
      "\t Your code returned: List((hello,1), (world,2)), Expected: List((hello,1), (world,2))\n",
      "\t Passed!\n",
      "Test 3\n",
      "\t Your code returned: List(), Expected: List()\n",
      "\t Passed!\n",
      "Test 4\n",
      "\t Your code returned: List((a,1), (b,2), (c,3), (d,4), (e,5)), Expected: List((a,1), (b,2), (c,3), (d,4), (e,5))\n",
      "\t Passed!\n",
      "Tests Passed (9 points)"
     ]
    },
    {
     "data": {
      "text/plain": [
       "\u001b[36mt1\u001b[39m: \u001b[32mList\u001b[39m[(\u001b[32mString\u001b[39m, \u001b[32mInt\u001b[39m)] = \u001b[33mList\u001b[39m((\u001b[32m\"hello\"\u001b[39m, \u001b[32m1\u001b[39m))\n",
       "\u001b[36mt2\u001b[39m: \u001b[32mList\u001b[39m[(\u001b[32mString\u001b[39m, \u001b[32mInt\u001b[39m)] = \u001b[33mList\u001b[39m((\u001b[32m\"hello\"\u001b[39m, \u001b[32m1\u001b[39m), (\u001b[32m\"world\"\u001b[39m, \u001b[32m2\u001b[39m))\n",
       "\u001b[36mt3\u001b[39m: \u001b[32mList\u001b[39m[(\u001b[32mString\u001b[39m, \u001b[32mInt\u001b[39m)] = \u001b[33mList\u001b[39m()\n",
       "\u001b[36mt4\u001b[39m: \u001b[32mList\u001b[39m[(\u001b[32mString\u001b[39m, \u001b[32mInt\u001b[39m)] = \u001b[33mList\u001b[39m((\u001b[32m\"a\"\u001b[39m, \u001b[32m1\u001b[39m), (\u001b[32m\"b\"\u001b[39m, \u001b[32m2\u001b[39m), (\u001b[32m\"c\"\u001b[39m, \u001b[32m3\u001b[39m), (\u001b[32m\"d\"\u001b[39m, \u001b[32m4\u001b[39m), (\u001b[32m\"e\"\u001b[39m, \u001b[32m5\u001b[39m))"
      ]
     },
     "execution_count": 28,
     "metadata": {},
     "output_type": "execute_result"
    }
   ],
   "source": [
    "// BEGIN TEST\n",
    "val t1 = makeIndexedList(List(\"hello\"))\n",
    "testWithMessage(t1, List((\"hello\", 1)), \"1\")\n",
    "\n",
    "val t2 = makeIndexedList(List(\"hello\", \"world\"))\n",
    "testWithMessage(t2, List((\"hello\", 1), (\"world\", 2)), \"2\")\n",
    "\n",
    "val t3 = makeIndexedList(Nil)\n",
    "testWithMessage(t3, Nil, \"3\")\n",
    "\n",
    "val t4 = makeIndexedList(List(\"a\",\"b\",\"c\",\"d\",\"e\"))\n",
    "testWithMessage(t4, List((\"a\",1), (\"b\",2), (\"c\",3), (\"d\",4), (\"e\",5)), \"4\")\n",
    "\n",
    "passed(9)\n",
    "// END TEST"
   ]
  },
  {
   "cell_type": "markdown",
   "metadata": {
    "deletable": false,
    "editable": false,
    "nbgrader": {
     "cell_type": "markdown",
     "checksum": "d75336eeeecd7f249fcec906d891b838",
     "grade": false,
     "grade_id": "cell-0272d508d2481088",
     "locked": true,
     "schema_version": 3,
     "solution": false
    }
   },
   "source": [
    "## G: Partitioning a list (5 points)\n",
    "\n",
    "Given a list of numbers, partition the list into a pair of lists where the first list contains only the even numbers and the second list contains only the odd numbers. Both the output lists must contain the elements in the same order as they occur in the input list. The result of partition an empty list is a pair of empty lists.\n",
    "\n",
    "Example:\n",
    "\n",
    "Input: List(1, 2, 8, 7, 5)\n",
    "\n",
    "Output: (List(2,8), List(1,7,5))\n",
    "\n",
    "**Restrictions**\n",
    "\n",
    "- You are allowed to use just the basic list operatios such as cons of an element to a list (::) and concatenation of two lists (++, or ::: operators). \n",
    "- List API functions  `map`, `filter`, `foldLeft` and `foldRight` but no other list API functions. \n",
    "- Do not use __var__, __loops__ or __recursion__.\n"
   ]
  },
  {
   "cell_type": "code",
   "execution_count": 29,
   "metadata": {
    "deletable": false,
    "nbgrader": {
     "cell_type": "code",
     "checksum": "d4a11aacd5dd7ade92ab29fb179ab62d",
     "grade": false,
     "grade_id": "cell-61ba46072b910129",
     "locked": false,
     "schema_version": 3,
     "solution": true
    }
   },
   "outputs": [
    {
     "data": {
      "text/plain": [
       "defined \u001b[32mfunction\u001b[39m \u001b[36moddEvenPartition\u001b[39m"
      ]
     },
     "execution_count": 29,
     "metadata": {},
     "output_type": "execute_result"
    }
   ],
   "source": [
    "def oddEvenPartition(lst: List[Int]): (List[Int], List[Int]) = {\n",
    "    // YOUR CODE HERE\n",
    "    (lst.filter(x => x % 2 == 0), lst.filter(x => x % 2 == 1))\n",
    "}"
   ]
  },
  {
   "cell_type": "code",
   "execution_count": 30,
   "metadata": {
    "deletable": false,
    "editable": false,
    "nbgrader": {
     "cell_type": "code",
     "checksum": "1beb72e159fcb4bf9cf9ccdf723d2297",
     "grade": true,
     "grade_id": "cell-b766aa2568f6e251",
     "locked": true,
     "points": 5,
     "schema_version": 3,
     "solution": false
    }
   },
   "outputs": [
    {
     "name": "stdout",
     "output_type": "stream",
     "text": [
      "Test 1\n",
      "\t Your code returned: (List(2, 8),List(1, 7, 5)), Expected: (List(2, 8),List(1, 7, 5))\n",
      "\t Passed!\n",
      "Test 2\n",
      "\t Your code returned: (List(18, 20),List(23, 15)), Expected: (List(18, 20),List(23, 15))\n",
      "\t Passed!\n",
      "Test 3\n",
      "\t Your code returned: (List(14, 12, 18, 20),List()), Expected: (List(14, 12, 18, 20),List())\n",
      "\t Passed!\n",
      "Test 4\n",
      "\t Your code returned: (List(),List()), Expected: (List(),List())\n",
      "\t Passed!\n",
      "Tests Passed (5 points)"
     ]
    },
    {
     "data": {
      "text/plain": [
       "\u001b[36mx\u001b[39m: (\u001b[32mList\u001b[39m[\u001b[32mInt\u001b[39m], \u001b[32mList\u001b[39m[\u001b[32mInt\u001b[39m]) = (\u001b[33mList\u001b[39m(\u001b[32m2\u001b[39m, \u001b[32m8\u001b[39m), \u001b[33mList\u001b[39m(\u001b[32m1\u001b[39m, \u001b[32m7\u001b[39m, \u001b[32m5\u001b[39m))\n",
       "\u001b[36my\u001b[39m: (\u001b[32mList\u001b[39m[\u001b[32mInt\u001b[39m], \u001b[32mList\u001b[39m[\u001b[32mInt\u001b[39m]) = (\u001b[33mList\u001b[39m(\u001b[32m18\u001b[39m, \u001b[32m20\u001b[39m), \u001b[33mList\u001b[39m(\u001b[32m23\u001b[39m, \u001b[32m15\u001b[39m))\n",
       "\u001b[36mz\u001b[39m: (\u001b[32mList\u001b[39m[\u001b[32mInt\u001b[39m], \u001b[32mList\u001b[39m[\u001b[32mInt\u001b[39m]) = (\u001b[33mList\u001b[39m(\u001b[32m14\u001b[39m, \u001b[32m12\u001b[39m, \u001b[32m18\u001b[39m, \u001b[32m20\u001b[39m), \u001b[33mList\u001b[39m())\n",
       "\u001b[36mw\u001b[39m: (\u001b[32mList\u001b[39m[\u001b[32mInt\u001b[39m], \u001b[32mList\u001b[39m[\u001b[32mInt\u001b[39m]) = (\u001b[33mList\u001b[39m(), \u001b[33mList\u001b[39m())"
      ]
     },
     "execution_count": 30,
     "metadata": {},
     "output_type": "execute_result"
    }
   ],
   "source": [
    "// BEGIN TEST\n",
    "val x = oddEvenPartition(List(1, 2, 8, 7, 5))\n",
    "testWithMessage(x, (List(2,8),List(1,7,5)), \"1\")\n",
    "\n",
    "val y = oddEvenPartition(List(23, 18, 20, 15))\n",
    "testWithMessage(y, (List(18,20), List(23,15)), \"2\")\n",
    "\n",
    "val z = oddEvenPartition(List(14, 12, 18, 20))\n",
    "testWithMessage(z, (List(14, 12, 18, 20), List()), \"3\")\n",
    "\n",
    "val w = oddEvenPartition(List())\n",
    "testWithMessage(w, (List(),List()), \"4\")\n",
    "\n",
    "passed(5)\n",
    "// END TEST"
   ]
  },
  {
   "cell_type": "markdown",
   "metadata": {
    "deletable": false,
    "editable": false,
    "nbgrader": {
     "cell_type": "markdown",
     "checksum": "7659078fc5adae3a21878b453caaf186",
     "grade": false,
     "grade_id": "cell-4bef7553709f6a41",
     "locked": true,
     "schema_version": 3,
     "solution": false,
     "task": false
    }
   },
   "source": [
    "## That's all folks!"
   ]
  }
 ],
 "metadata": {
  "kernelspec": {
   "display_name": "Scala",
   "language": "scala",
   "name": "scala"
  },
  "language_info": {
   "codemirror_mode": "text/x-scala",
   "file_extension": ".sc",
   "mimetype": "text/x-scala",
   "name": "scala",
   "nbconvert_exporter": "script",
   "version": "2.13.14"
  }
 },
 "nbformat": 4,
 "nbformat_minor": 4
}
