{
 "cells": [
  {
   "cell_type": "markdown",
   "id": "b2160d89-ce78-4eb3-8340-fe03dba03c4a",
   "metadata": {},
   "source": [
    "<div style=\"text-align:center\">\n",
    "<h1> CSCI 3155 Principles of Programming Languages </h1>\n",
    "<h2> Spring 2025 </h2>\n",
    "</div>"
   ]
  },
  {
   "cell_type": "markdown",
   "id": "bdc542c0-de65-4fed-9de7-5c031d45d625",
   "metadata": {},
   "source": [
    "* Review of control flow expressions (`for`, `if-then-else` and `return`)\n",
    "* Scala Classes\n",
    "* Referential Transparency\n",
    "* Preconditions\n",
    "* From loops to recursion\n",
    "* Tail recursion"
   ]
  },
  {
   "cell_type": "code",
   "execution_count": 3,
   "id": "52f23a4a-2d3f-40fe-915f-6d1fed3266e0",
   "metadata": {},
   "outputs": [
    {
     "data": {
      "text/plain": [
       "\u001b[36ml1\u001b[39m: \u001b[32mList\u001b[39m[\u001b[32mInt\u001b[39m] = \u001b[33mList\u001b[39m(\u001b[32m1\u001b[39m, \u001b[32m2\u001b[39m, \u001b[32m3\u001b[39m)"
      ]
     },
     "execution_count": 3,
     "metadata": {},
     "output_type": "execute_result"
    }
   ],
   "source": [
    "val l1 = List(1,2,3)"
   ]
  },
  {
   "cell_type": "code",
   "execution_count": 4,
   "id": "ef22fb99-619d-4c70-ab99-80f94819a751",
   "metadata": {},
   "outputs": [
    {
     "data": {
      "text/plain": [
       "\u001b[36ml2\u001b[39m: \u001b[32mList\u001b[39m[\u001b[32mInt\u001b[39m] = \u001b[33mList\u001b[39m(\u001b[32m4\u001b[39m, \u001b[32m5\u001b[39m, \u001b[32m6\u001b[39m)"
      ]
     },
     "execution_count": 4,
     "metadata": {},
     "output_type": "execute_result"
    }
   ],
   "source": [
    "val l2 = List(4,5,6)"
   ]
  },
  {
   "cell_type": "code",
   "execution_count": 5,
   "id": "d02989c7-0b78-475c-a3af-19113312baea",
   "metadata": {},
   "outputs": [
    {
     "name": "stdout",
     "output_type": "stream",
     "text": [
      "4"
     ]
    }
   ],
   "source": [
    "print(l2(0))"
   ]
  },
  {
   "cell_type": "code",
   "execution_count": 5,
   "id": "a2bc8c7c-9839-47fd-b96d-54aeee0dfff5",
   "metadata": {},
   "outputs": [
    {
     "name": "stderr",
     "output_type": "stream",
     "text": [
      "cmd5.sc:1: value update is not a member of List[Int]\n",
      "did you mean updated?\n",
      "val res5 = l2(0) = 1\n",
      "           ^Compilation Failed"
     ]
    },
    {
     "ename": "",
     "evalue": "",
     "output_type": "error",
     "traceback": [
      "Compilation Failed"
     ]
    }
   ],
   "source": [
    "l2(0) = 1"
   ]
  },
  {
   "cell_type": "code",
   "execution_count": 6,
   "id": "9cdc965a-9b4f-45ab-b291-c7d3a30076a7",
   "metadata": {},
   "outputs": [
    {
     "data": {
      "text/plain": [
       "\u001b[36ml3\u001b[39m: \u001b[32mList\u001b[39m[\u001b[32mInt\u001b[39m] = \u001b[33mList\u001b[39m(\u001b[32m4\u001b[39m, \u001b[32m5\u001b[39m, \u001b[32m6\u001b[39m, \u001b[32m7\u001b[39m)"
      ]
     },
     "execution_count": 6,
     "metadata": {},
     "output_type": "execute_result"
    }
   ],
   "source": [
    "val l3 = l2 :+ 7 //append 7 at the end of l2"
   ]
  },
  {
   "cell_type": "code",
   "execution_count": 8,
   "id": "7774401c-ad96-4b47-93fd-6dead6e5f08c",
   "metadata": {},
   "outputs": [
    {
     "data": {
      "text/plain": [
       "\u001b[36mres7\u001b[39m: \u001b[32mInt\u001b[39m = \u001b[32m7\u001b[39m"
      ]
     },
     "execution_count": 8,
     "metadata": {},
     "output_type": "execute_result"
    }
   ],
   "source": [
    "l3(3)"
   ]
  },
  {
   "cell_type": "code",
   "execution_count": 9,
   "id": "cdb41dfb-fabb-44e7-84cb-96eb948167b2",
   "metadata": {},
   "outputs": [
    {
     "ename": "",
     "evalue": "",
     "output_type": "error",
     "traceback": [
      "\u001b[31mjava.lang.IndexOutOfBoundsException: 3\u001b[39m\n  scala.collection.LinearSeqOps.apply(\u001b[32mLinearSeq.scala\u001b[39m:\u001b[32m117\u001b[39m)\n  scala.collection.LinearSeqOps.apply$(\u001b[32mLinearSeq.scala\u001b[39m:\u001b[32m114\u001b[39m)\n  scala.collection.immutable.List.apply(\u001b[32mList.scala\u001b[39m:\u001b[32m79\u001b[39m)\n  ammonite.$sess.cmd8$Helper.<init>(\u001b[32mcmd8.sc\u001b[39m:\u001b[32m1\u001b[39m)\n  ammonite.$sess.cmd8$.<clinit>(\u001b[32mcmd8.sc\u001b[39m:\u001b[32m7\u001b[39m)"
     ]
    }
   ],
   "source": [
    "l2(3)"
   ]
  },
  {
   "cell_type": "code",
   "execution_count": 10,
   "id": "5274c1e4-5349-4bb3-b604-429a2015b012",
   "metadata": {},
   "outputs": [
    {
     "data": {
      "text/plain": [
       "\u001b[36ml4\u001b[39m: \u001b[32mList\u001b[39m[\u001b[32mInt\u001b[39m] = \u001b[33mList\u001b[39m(\u001b[32m0\u001b[39m, \u001b[32m4\u001b[39m, \u001b[32m5\u001b[39m, \u001b[32m6\u001b[39m, \u001b[32m7\u001b[39m)"
      ]
     },
     "execution_count": 10,
     "metadata": {},
     "output_type": "execute_result"
    }
   ],
   "source": [
    "val l4 = 0 :: l3"
   ]
  },
  {
   "cell_type": "code",
   "execution_count": 11,
   "id": "a4c3700c-e7d0-4c5b-9763-a742692ad8e5",
   "metadata": {},
   "outputs": [
    {
     "name": "stdout",
     "output_type": "stream",
     "text": [
      "List(4, 5, 6, 7)\n"
     ]
    }
   ],
   "source": [
    "println(l3)"
   ]
  },
  {
   "cell_type": "code",
   "execution_count": 12,
   "id": "98c9cd7b-acbc-4c36-a896-dc205baf48ca",
   "metadata": {},
   "outputs": [
    {
     "name": "stdout",
     "output_type": "stream",
     "text": [
      "4567"
     ]
    }
   ],
   "source": [
    "for(e <- l3) {\n",
    "    print(e)\n",
    "}"
   ]
  },
  {
   "cell_type": "code",
   "execution_count": 13,
   "id": "a4851da8-7aee-4c90-9c9f-d0849d3c7f2e",
   "metadata": {},
   "outputs": [
    {
     "data": {
      "text/plain": [
       "defined \u001b[32mfunction\u001b[39m \u001b[36mconcat\u001b[39m"
      ]
     },
     "execution_count": 13,
     "metadata": {},
     "output_type": "execute_result"
    }
   ],
   "source": [
    "// |l1| = m \n",
    "// |l2| = n \n",
    "// space complexity >= m*n\n",
    "// time complexity : O(n^2)\n",
    "def concat(l1: List[Int], l2: List[Int]) : List[Int] = {\n",
    "    var res = l1\n",
    "    for(e2 <- l2) {\n",
    "        res = res :+ e2\n",
    "    }\n",
    "    return res\n",
    "}"
   ]
  },
  {
   "cell_type": "code",
   "execution_count": 14,
   "id": "a299a42b-ed06-44c6-8462-8138c3c43953",
   "metadata": {},
   "outputs": [
    {
     "data": {
      "text/plain": [
       "\u001b[36mres13\u001b[39m: \u001b[32mList\u001b[39m[\u001b[32mInt\u001b[39m] = \u001b[33mList\u001b[39m(\u001b[32m1\u001b[39m, \u001b[32m2\u001b[39m, \u001b[32m3\u001b[39m, \u001b[32m4\u001b[39m, \u001b[32m5\u001b[39m, \u001b[32m6\u001b[39m)"
      ]
     },
     "execution_count": 14,
     "metadata": {},
     "output_type": "execute_result"
    }
   ],
   "source": [
    "concat(l1,l2)"
   ]
  },
  {
   "cell_type": "code",
   "execution_count": 15,
   "id": "d9822943-337c-415a-b51f-ac11b3887c57",
   "metadata": {},
   "outputs": [
    {
     "data": {
      "text/plain": [
       "\u001b[36mres14\u001b[39m: \u001b[32mList\u001b[39m[\u001b[32mInt\u001b[39m] = \u001b[33mList\u001b[39m(\u001b[32m1\u001b[39m, \u001b[32m1\u001b[39m, \u001b[32m2\u001b[39m, \u001b[32m3\u001b[39m, \u001b[32m4\u001b[39m, \u001b[32m5\u001b[39m, \u001b[32m6\u001b[39m)"
      ]
     },
     "execution_count": 15,
     "metadata": {},
     "output_type": "execute_result"
    }
   ],
   "source": [
    "1 ::(concat(l1,l2))"
   ]
  },
  {
   "cell_type": "code",
   "execution_count": 18,
   "id": "4e0815b7-0ec9-4da2-95d6-6533461a1c64",
   "metadata": {},
   "outputs": [
    {
     "data": {
      "text/plain": [
       "\u001b[36mres17\u001b[39m: \u001b[32mList\u001b[39m[\u001b[32mInt\u001b[39m] = \u001b[33mList\u001b[39m(\u001b[32m1\u001b[39m, \u001b[32m1\u001b[39m, \u001b[32m2\u001b[39m, \u001b[32m3\u001b[39m, \u001b[32m4\u001b[39m, \u001b[32m5\u001b[39m, \u001b[32m6\u001b[39m)"
      ]
     },
     "execution_count": 18,
     "metadata": {},
     "output_type": "execute_result"
    }
   ],
   "source": [
    "1 :: (concat(l1,l2))"
   ]
  },
  {
   "cell_type": "code",
   "execution_count": 36,
   "id": "07ab96cc-13d0-4f37-a5de-4f1d143b913f",
   "metadata": {},
   "outputs": [
    {
     "data": {
      "text/plain": [
       "defined \u001b[32mclass\u001b[39m \u001b[36mDog\u001b[39m"
      ]
     },
     "execution_count": 36,
     "metadata": {},
     "output_type": "execute_result"
    }
   ],
   "source": [
    "class Dog(val name:String, val breed:String, val age:Int) {\n",
    "    def getName() : String = name\n",
    "    \n",
    "    def setName(new_name:String): Dog = {\n",
    "       new Dog(new_name, breed, age)\n",
    "    }\n",
    "    override def toString(): String = {\n",
    "        s\"$name, a $breed of age $age\"\n",
    "    }\n",
    "    \n",
    "}"
   ]
  },
  {
   "cell_type": "code",
   "execution_count": 37,
   "id": "45144309-d1f0-4099-9f1d-101ada7914a5",
   "metadata": {},
   "outputs": [
    {
     "data": {
      "text/plain": [
       "\u001b[36md\u001b[39m: \u001b[32mDog\u001b[39m = scooby, a great dane of age 7"
      ]
     },
     "execution_count": 37,
     "metadata": {},
     "output_type": "execute_result"
    }
   ],
   "source": [
    "val d = new Dog(\"scooby\", \"great dane\", 7)"
   ]
  },
  {
   "cell_type": "code",
   "execution_count": 31,
   "id": "9bef85af-9f9a-49f2-91e3-2322acc88ab9",
   "metadata": {},
   "outputs": [
    {
     "name": "stdout",
     "output_type": "stream",
     "text": [
      "scooby\n"
     ]
    }
   ],
   "source": [
    "println(d.getName)"
   ]
  },
  {
   "cell_type": "code",
   "execution_count": 31,
   "id": "aee3371c-5d0d-4a68-9b0e-d955e2254759",
   "metadata": {},
   "outputs": [
    {
     "name": "stderr",
     "output_type": "stream",
     "text": [
      "cmd31.sc:1: reassignment to val\n",
      "val res31 = d.name = \"snoopy\"\n",
      "                   ^Compilation Failed"
     ]
    },
    {
     "ename": "",
     "evalue": "",
     "output_type": "error",
     "traceback": [
      "Compilation Failed"
     ]
    }
   ],
   "source": [
    "d.name = \"snoopy\""
   ]
  },
  {
   "cell_type": "code",
   "execution_count": 22,
   "id": "e54fb7ab-9673-4957-99be-ce3ff8184c9e",
   "metadata": {},
   "outputs": [
    {
     "data": {
      "text/plain": [
       "\u001b[36mx\u001b[39m: \u001b[32mInt\u001b[39m = \u001b[32m2\u001b[39m"
      ]
     },
     "execution_count": 22,
     "metadata": {},
     "output_type": "execute_result"
    }
   ],
   "source": [
    "val x:Int = 2"
   ]
  },
  {
   "cell_type": "code",
   "execution_count": 33,
   "id": "fe6e9def-30a2-4f2f-adb8-7dc53771be59",
   "metadata": {},
   "outputs": [
    {
     "data": {
      "text/plain": [
       "\u001b[36md2\u001b[39m: \u001b[32mDog\u001b[39m = ammonite.$sess.cmd28$Helper$Dog@2356832b"
      ]
     },
     "execution_count": 33,
     "metadata": {},
     "output_type": "execute_result"
    }
   ],
   "source": [
    "val d2 = d.setName(\"snoopy\")"
   ]
  },
  {
   "cell_type": "code",
   "execution_count": 35,
   "id": "87ef3228-be65-492c-ae2b-9ef07cc0eb08",
   "metadata": {},
   "outputs": [
    {
     "name": "stdout",
     "output_type": "stream",
     "text": [
      "scooby\n"
     ]
    }
   ],
   "source": [
    "println(d.name)"
   ]
  },
  {
   "cell_type": "code",
   "execution_count": 45,
   "id": "5aaf6d29-1923-4610-9d5c-ae629deb0f62",
   "metadata": {},
   "outputs": [
    {
     "name": "stdout",
     "output_type": "stream",
     "text": [
      "true\n"
     ]
    },
    {
     "data": {
      "text/plain": [
       "\u001b[36ml1\u001b[39m: \u001b[32mList\u001b[39m[\u001b[32mInt\u001b[39m] = \u001b[33mList\u001b[39m(\u001b[32m2\u001b[39m, \u001b[32m9\u001b[39m, \u001b[32m7\u001b[39m)\n",
       "\u001b[36ml2\u001b[39m: \u001b[32mList\u001b[39m[\u001b[32mInt\u001b[39m] = \u001b[33mList\u001b[39m(\u001b[32m2\u001b[39m, \u001b[32m9\u001b[39m, \u001b[32m7\u001b[39m)"
      ]
     },
     "execution_count": 45,
     "metadata": {},
     "output_type": "execute_result"
    }
   ],
   "source": [
    "// Referential Transparency: It is always safe to substitute the value for its alias.\n",
    "val l1 = List(2,9,7)\n",
    "val l2 = List(2,9,7)\n",
    "println(List(2,9,7) == List(2,9,7))"
   ]
  },
  {
   "cell_type": "code",
   "execution_count": 42,
   "id": "f80f8693-289d-4856-aa86-9de628ab4c1c",
   "metadata": {},
   "outputs": [
    {
     "name": "stdout",
     "output_type": "stream",
     "text": [
      "false\n"
     ]
    },
    {
     "data": {
      "text/plain": [
       "\u001b[36md1\u001b[39m: \u001b[32mDog\u001b[39m = Scooby, a Great Dane of age 6\n",
       "\u001b[36md2\u001b[39m: \u001b[32mDog\u001b[39m = Scooby, a Great Dane of age 6"
      ]
     },
     "execution_count": 42,
     "metadata": {},
     "output_type": "execute_result"
    }
   ],
   "source": [
    "val d1: Dog = new Dog(\"Scooby\", \"Great Dane\", 6)\n",
    "val d2: Dog = new Dog(\"Scooby\", \"Great Dane\", 6)\n",
    "println(d1== d2)"
   ]
  },
  {
   "cell_type": "code",
   "execution_count": 47,
   "id": "3e0cc655-866a-43b1-86b0-7af24bddd56e",
   "metadata": {},
   "outputs": [
    {
     "data": {
      "text/plain": [
       "defined \u001b[32mfunction\u001b[39m \u001b[36mfibonacci\u001b[39m"
      ]
     },
     "execution_count": 47,
     "metadata": {},
     "output_type": "execute_result"
    }
   ],
   "source": [
    "def fibonacci(n:Int) : Int =\n",
    "    if (n<=2) {\n",
    "        1\n",
    "    } else {\n",
    "        fibonacci(n-1) + fibonacci(n-2)\n",
    "    }"
   ]
  },
  {
   "cell_type": "code",
   "execution_count": 48,
   "id": "0db018e6-fda4-4a48-bd32-3b1081abc235",
   "metadata": {},
   "outputs": [
    {
     "data": {
      "text/plain": [
       "\u001b[36mres47\u001b[39m: \u001b[32mInt\u001b[39m = \u001b[32m3\u001b[39m"
      ]
     },
     "execution_count": 48,
     "metadata": {},
     "output_type": "execute_result"
    }
   ],
   "source": [
    "fibonacci(4)"
   ]
  },
  {
   "cell_type": "code",
   "execution_count": 53,
   "id": "7fb7383c-0735-4bb9-8fbd-e052b0d8e959",
   "metadata": {},
   "outputs": [
    {
     "data": {
      "text/plain": [
       "defined \u001b[32mfunction\u001b[39m \u001b[36mfact\u001b[39m"
      ]
     },
     "execution_count": 53,
     "metadata": {},
     "output_type": "execute_result"
    }
   ],
   "source": [
    "// Precondition : a condition that needs to be true for the function to execute correctly.\n",
    "// Precondition for fact: n>=0\n",
    "def fact(n:Int): Int = {\n",
    "    require(n >= 0)\n",
    "    if (n<1) {\n",
    "        return 1\n",
    "    }\n",
    "    else {\n",
    "        return n*fact(n-1)\n",
    "    }\n",
    "}"
   ]
  },
  {
   "cell_type": "code",
   "execution_count": 65,
   "id": "55078cd5-2c16-4e30-9836-f4a86b3cd577",
   "metadata": {},
   "outputs": [
    {
     "data": {
      "text/plain": [
       "\u001b[32mimport \u001b[39m\u001b[36mscala.annotation.tailrec\n",
       "\n",
       "\u001b[39m\n",
       "defined \u001b[32mfunction\u001b[39m \u001b[36mfact_tail\u001b[39m"
      ]
     },
     "execution_count": 65,
     "metadata": {},
     "output_type": "execute_result"
    }
   ],
   "source": [
    "import scala.annotation.tailrec\n",
    "\n",
    "@tailrec\n",
    "def fact_tail(n:Int, acc:Int = 1): Int = {\n",
    "    require(n >= 0)\n",
    "    if (n<=1) {\n",
    "        acc\n",
    "    }\n",
    "    else {\n",
    "        fact_tail(n-1, n*acc)\n",
    "    }\n",
    "}"
   ]
  },
  {
   "cell_type": "code",
   "execution_count": 58,
   "id": "50471d8c-2189-4821-a18d-d9eb7e44c01c",
   "metadata": {},
   "outputs": [
    {
     "data": {
      "text/plain": [
       "defined \u001b[32mfunction\u001b[39m \u001b[36msayHello\u001b[39m"
      ]
     },
     "execution_count": 58,
     "metadata": {},
     "output_type": "execute_result"
    }
   ],
   "source": [
    "def sayHello(name:String = \"Bill\") {\n",
    "    println(s\"Hello, $name!\")\n",
    "}"
   ]
  },
  {
   "cell_type": "code",
   "execution_count": 59,
   "id": "f6ca6101-845b-4987-809d-811a15cee11d",
   "metadata": {},
   "outputs": [
    {
     "name": "stdout",
     "output_type": "stream",
     "text": [
      "Hello, Bill!\n"
     ]
    }
   ],
   "source": [
    "sayHello()"
   ]
  },
  {
   "cell_type": "code",
   "execution_count": 60,
   "id": "b292d120-c4e2-40ae-9f1e-3f7223bed382",
   "metadata": {},
   "outputs": [
    {
     "name": "stdout",
     "output_type": "stream",
     "text": [
      "Hello, Toby!\n"
     ]
    }
   ],
   "source": [
    "sayHello(\"Toby\")"
   ]
  },
  {
   "cell_type": "code",
   "execution_count": 63,
   "id": "b1fb33b8-c4dc-43ed-9d8f-f4694a54e32b",
   "metadata": {},
   "outputs": [
    {
     "data": {
      "text/plain": [
       "\u001b[36mres62\u001b[39m: \u001b[32mInt\u001b[39m = \u001b[32m120\u001b[39m"
      ]
     },
     "execution_count": 63,
     "metadata": {},
     "output_type": "execute_result"
    }
   ],
   "source": [
    "fact_tail(5)"
   ]
  },
  {
   "cell_type": "code",
   "execution_count": null,
   "id": "382f9e82-d679-4a35-8e41-8eba3a06e3a2",
   "metadata": {},
   "outputs": [],
   "source": []
  },
  {
   "cell_type": "code",
   "execution_count": null,
   "id": "ae94849e-0ccb-4ede-b91e-5ca13ccf400a",
   "metadata": {},
   "outputs": [],
   "source": []
  }
 ],
 "metadata": {
  "kernelspec": {
   "display_name": "Scala",
   "language": "scala",
   "name": "scala"
  },
  "language_info": {
   "codemirror_mode": "text/x-scala",
   "file_extension": ".sc",
   "mimetype": "text/x-scala",
   "name": "scala",
   "nbconvert_exporter": "script",
   "version": "2.13.4"
  }
 },
 "nbformat": 4,
 "nbformat_minor": 5
}
