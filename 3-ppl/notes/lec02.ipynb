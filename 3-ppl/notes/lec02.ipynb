{
 "cells": [
  {
   "cell_type": "markdown",
   "id": "42553f0f-8f24-47cf-9512-aca4b7b8a5f9",
   "metadata": {},
   "source": [
    "# Lecture 2\n",
    "\n",
    "*January 16, 2025*"
   ]
  },
  {
   "cell_type": "markdown",
   "id": "1226fb3c-e428-44b6-8373-c600c3ebf230",
   "metadata": {},
   "source": [
    "## Why learn functional programming?\n",
    "\n",
    "Gives fundamentally different perspective on programming.\n",
    "\n",
    "* Computations performed by composing and applying pure functions\n",
    "* Data is immutable\n",
    "* Focus on express what *what* needs to be computed."
   ]
  },
  {
   "cell_type": "markdown",
   "id": "fe1d7c76-7881-4ec5-9415-01252708cf43",
   "metadata": {},
   "source": [
    "## What is scala?\n",
    "\n",
    "* Compiles to Java Byte Code. Runs on JVM\n",
    "* Multi-paradigm language\n",
    "    * Functional\n",
    "    * OOP\n",
    "    * C-style functions\n",
    "* We're going to use this as a gateway drug to functional programming (mmmmm cocaine)"
   ]
  },
  {
   "cell_type": "code",
   "execution_count": 3,
   "id": "7cf5c2d8-1b7c-479e-ac04-3cbe9a15e3b3",
   "metadata": {},
   "outputs": [
    {
     "data": {
      "text/plain": [
       "defined \u001b[32mfunction\u001b[39m \u001b[36msayHelloTo\u001b[39m"
      ]
     },
     "execution_count": 3,
     "metadata": {},
     "output_type": "execute_result"
    }
   ],
   "source": [
    "def sayHelloTo(s:String) = {\n",
    "    println(s\"Hello, $s!\"); //printf(Hello, %s!\\n\", s);\n",
    "}"
   ]
  },
  {
   "cell_type": "code",
   "execution_count": 4,
   "id": "0df25776-15f7-46f4-9000-7906725c2d66",
   "metadata": {},
   "outputs": [
    {
     "name": "stdout",
     "output_type": "stream",
     "text": [
      "Hello, Anakin!\n"
     ]
    }
   ],
   "source": [
    "sayHelloTo(\"Anakin\")"
   ]
  },
  {
   "cell_type": "code",
   "execution_count": 5,
   "id": "1a7ed757-7869-4b0f-a6ff-259aca40dd28",
   "metadata": {},
   "outputs": [
    {
     "data": {
      "text/html": [
       "<div class=\"jp-RenderedText\">\n",
       "<pre><code><span style=\"color: rgb(0, 187, 187)\"><span class=\"ansi-cyan-fg\">x</span></span>: <span style=\"color: rgb(0, 187, 0)\"><span class=\"ansi-green-fg\">Int</span></span> = <span style=\"color: rgb(0, 187, 0)\"><span class=\"ansi-green-fg\">2</span></span>\n",
       "<span style=\"color: rgb(0, 187, 187)\"><span class=\"ansi-cyan-fg\">y</span></span>: <span style=\"color: rgb(0, 187, 0)\"><span class=\"ansi-green-fg\">Int</span></span> = <span style=\"color: rgb(0, 187, 0)\"><span class=\"ansi-green-fg\">3</span></span></code></pre>\n",
       "</div>"
      ],
      "text/plain": [
       "\u001b[36mx\u001b[39m: \u001b[32mInt\u001b[39m = \u001b[32m2\u001b[39m\n",
       "\u001b[36my\u001b[39m: \u001b[32mInt\u001b[39m = \u001b[32m3\u001b[39m"
      ]
     },
     "metadata": {},
     "output_type": "display_data"
    }
   ],
   "source": [
    "//cont int x\n",
    "val x:Int = 2 \n",
    "//int y\n",
    "var y:Int = 3"
   ]
  },
  {
   "cell_type": "code",
   "execution_count": 6,
   "id": "4593e8c0-cc36-4e98-8c0d-9d8ecc49020f",
   "metadata": {},
   "outputs": [
    {
     "name": "stdout",
     "output_type": "stream",
     "text": [
      "4"
     ]
    }
   ],
   "source": [
    "y = y+1\n",
    "print(y)"
   ]
  },
  {
   "cell_type": "code",
   "execution_count": 7,
   "id": "6a4f512a-fc29-417d-83a6-f6cb42ea8aa3",
   "metadata": {},
   "outputs": [
    {
     "name": "stdout",
     "output_type": "stream",
     "text": [
      "2"
     ]
    }
   ],
   "source": [
    "// x = x+1 vals are immutable!\n",
    "print(x)"
   ]
  },
  {
   "cell_type": "code",
   "execution_count": 8,
   "id": "7fbf3fad-8d80-48d3-bf79-9f5c1a714b95",
   "metadata": {},
   "outputs": [],
   "source": [
    "val x:Unit = ()"
   ]
  },
  {
   "cell_type": "code",
   "execution_count": 9,
   "id": "d7aadb08-aa77-439a-8ebe-490ca15637c9",
   "metadata": {},
   "outputs": [
    {
     "data": {
      "text/plain": [
       "defined \u001b[32mfunction\u001b[39m \u001b[36mf\u001b[39m"
      ]
     },
     "execution_count": 9,
     "metadata": {},
     "output_type": "execute_result"
    }
   ],
   "source": [
    "// f(x,y) = 2*x + 3*y + 2\n",
    "// s1; s2; ...; sn\n",
    "def f(x:Int, y:Int) : Int = 2*x + 3*y + 2"
   ]
  },
  {
   "cell_type": "code",
   "execution_count": 10,
   "id": "90bfca09-82fa-4c42-8895-c2e27c7b9024",
   "metadata": {},
   "outputs": [
    {
     "data": {
      "text/plain": [
       "\u001b[36mres10\u001b[39m: \u001b[32mInt\u001b[39m = \u001b[32m15\u001b[39m"
      ]
     },
     "execution_count": 10,
     "metadata": {},
     "output_type": "execute_result"
    }
   ],
   "source": [
    "f(2,3);"
   ]
  },
  {
   "cell_type": "markdown",
   "id": "f9e2b894-9cbb-46a3-be33-2a0b6368e897",
   "metadata": {},
   "source": [
    "#### Definition of a function:\n",
    "\n",
    "An expression that computes the written value of a function!\n",
    "\n",
    "* In Scala, everything is an expression\n",
    "\n",
    "\n",
    "#### What do they do?\n",
    "\n",
    "* Always computes a value"
   ]
  },
  {
   "cell_type": "code",
   "execution_count": 11,
   "id": "6981c16c-7295-4a29-a453-f2c7863eeb35",
   "metadata": {},
   "outputs": [
    {
     "data": {
      "text/plain": [
       "\u001b[36my\u001b[39m: \u001b[32mInt\u001b[39m = \u001b[32m6\u001b[39m"
      ]
     },
     "execution_count": 11,
     "metadata": {},
     "output_type": "execute_result"
    }
   ],
   "source": [
    "val y:Int = {\n",
    "    val x:Int = 2\n",
    "    val z:Int = 4\n",
    "    x+z\n",
    "}"
   ]
  },
  {
   "cell_type": "code",
   "execution_count": 12,
   "id": "96ed3f2a-43e0-4e9a-b56f-a29c2d3a16a2",
   "metadata": {},
   "outputs": [
    {
     "name": "stdout",
     "output_type": "stream",
     "text": [
      "264"
     ]
    },
    {
     "data": {
      "text/plain": [
       "\u001b[36mx\u001b[39m: \u001b[32mInt\u001b[39m = \u001b[32m2\u001b[39m\n",
       "\u001b[36mz\u001b[39m: \u001b[32mInt\u001b[39m = \u001b[32m4\u001b[39m\n",
       "\u001b[36my\u001b[39m: \u001b[32mInt\u001b[39m = \u001b[32m6\u001b[39m"
      ]
     },
     "execution_count": 12,
     "metadata": {},
     "output_type": "execute_result"
    }
   ],
   "source": [
    "val x:Int = 2\n",
    "val z:Int = 4\n",
    "val y:Int = {\n",
    "    x+1;//3\n",
    "    z+2;//6\n",
    "    x+z//6\n",
    "}\n",
    "print(x)\n",
    "print(y)\n",
    "print(z)"
   ]
  },
  {
   "cell_type": "code",
   "execution_count": 13,
   "id": "f57f514d-dd49-4b40-a867-98ba5dc818e2",
   "metadata": {},
   "outputs": [
    {
     "name": "stdout",
     "output_type": "stream",
     "text": [
      "2"
     ]
    },
    {
     "data": {
      "text/plain": [
       "\u001b[36mx\u001b[39m: \u001b[32mInt\u001b[39m = \u001b[32m2\u001b[39m\n",
       "\u001b[36my\u001b[39m: \u001b[32mInt\u001b[39m = \u001b[32m4\u001b[39m\n",
       "\u001b[36mz\u001b[39m: \u001b[32mInt\u001b[39m = \u001b[32m2\u001b[39m"
      ]
     },
     "execution_count": 13,
     "metadata": {},
     "output_type": "execute_result"
    }
   ],
   "source": [
    "val x:Int = 2\n",
    "val y:Int = 4\n",
    "val z = if (2==2) x else y\n",
    "print(z)"
   ]
  },
  {
   "cell_type": "code",
   "execution_count": 14,
   "id": "1b971740-e04a-4e2e-b9d8-284174f1b6ae",
   "metadata": {},
   "outputs": [
    {
     "data": {
      "text/plain": [
       "defined \u001b[32mfunction\u001b[39m \u001b[36mfib\u001b[39m"
      ]
     },
     "execution_count": 14,
     "metadata": {},
     "output_type": "execute_result"
    }
   ],
   "source": [
    "//simple recursive function\n",
    "def fib(n:Int): Int = \n",
    "    if (n<=2) 1 else (fib(n-1) + fib(n-2))"
   ]
  },
  {
   "cell_type": "code",
   "execution_count": 15,
   "id": "f58e7335-ce7b-4519-a653-1357949976df",
   "metadata": {},
   "outputs": [
    {
     "data": {
      "text/plain": [
       "\u001b[36mres15\u001b[39m: \u001b[32mInt\u001b[39m = \u001b[32m3\u001b[39m"
      ]
     },
     "execution_count": 15,
     "metadata": {},
     "output_type": "execute_result"
    }
   ],
   "source": [
    "fib(4)"
   ]
  },
  {
   "cell_type": "code",
   "execution_count": 16,
   "id": "f3ca2cce-ba40-465a-bf95-87e368d65050",
   "metadata": {},
   "outputs": [
    {
     "data": {
      "text/plain": [
       "\u001b[36mpy_triple1\u001b[39m: (\u001b[32mInt\u001b[39m, \u001b[32mInt\u001b[39m, \u001b[32mInt\u001b[39m) = (\u001b[32m3\u001b[39m, \u001b[32m4\u001b[39m, \u001b[32m5\u001b[39m)"
      ]
     },
     "execution_count": 16,
     "metadata": {},
     "output_type": "execute_result"
    }
   ],
   "source": [
    "val py_triple1: (Int, Int, Int) = (3, 4, 5)"
   ]
  },
  {
   "cell_type": "code",
   "execution_count": 17,
   "id": "8dcad142-2e91-478b-a99c-d816f41c8f81",
   "metadata": {},
   "outputs": [
    {
     "data": {
      "text/plain": [
       "\u001b[36mres17\u001b[39m: \u001b[32mInt\u001b[39m = \u001b[32m3\u001b[39m"
      ]
     },
     "execution_count": 17,
     "metadata": {},
     "output_type": "execute_result"
    }
   ],
   "source": [
    "py_triple1._1"
   ]
  },
  {
   "cell_type": "code",
   "execution_count": 18,
   "id": "4e94fe14-9262-424f-a61d-ca911464a473",
   "metadata": {},
   "outputs": [
    {
     "data": {
      "text/plain": [
       "\u001b[36mres18\u001b[39m: \u001b[32mInt\u001b[39m = \u001b[32m4\u001b[39m"
      ]
     },
     "execution_count": 18,
     "metadata": {},
     "output_type": "execute_result"
    }
   ],
   "source": [
    "py_triple1._2"
   ]
  },
  {
   "cell_type": "code",
   "execution_count": 19,
   "id": "90996728-ff23-4481-b79e-688604ec42f8",
   "metadata": {},
   "outputs": [
    {
     "data": {
      "text/plain": [
       "\u001b[36mres19\u001b[39m: \u001b[32mInt\u001b[39m = \u001b[32m5\u001b[39m"
      ]
     },
     "execution_count": 19,
     "metadata": {},
     "output_type": "execute_result"
    }
   ],
   "source": [
    "py_triple1._3"
   ]
  },
  {
   "cell_type": "code",
   "execution_count": 20,
   "id": "3068e612-a2b9-4a9a-b33f-a641f9534a38",
   "metadata": {},
   "outputs": [
    {
     "data": {
      "text/plain": [
       "\u001b[36memployee\u001b[39m: (\u001b[32mString\u001b[39m, \u001b[32mInt\u001b[39m) = (\u001b[32m\"Alice\"\u001b[39m, \u001b[32m5000\u001b[39m)"
      ]
     },
     "execution_count": 20,
     "metadata": {},
     "output_type": "execute_result"
    }
   ],
   "source": [
    "val employee:(String, Int) = (\"Alice\", 5000)"
   ]
  },
  {
   "cell_type": "code",
   "execution_count": 21,
   "id": "6945b4ff-d7cd-4b7a-982d-aeda56473b45",
   "metadata": {},
   "outputs": [
    {
     "name": "stdout",
     "output_type": "stream",
     "text": [
      "List(5, 7, 11, 13)"
     ]
    },
    {
     "data": {
      "text/plain": [
       "\u001b[36ml\u001b[39m: \u001b[32mList\u001b[39m[\u001b[32mInt\u001b[39m] = \u001b[33mList\u001b[39m(\u001b[32m5\u001b[39m, \u001b[32m7\u001b[39m, \u001b[32m11\u001b[39m, \u001b[32m13\u001b[39m)"
      ]
     },
     "execution_count": 21,
     "metadata": {},
     "output_type": "execute_result"
    }
   ],
   "source": [
    "val l = List(5, 7, 11, 13)\n",
    "print(l)"
   ]
  },
  {
   "cell_type": "code",
   "execution_count": 22,
   "id": "f403c95a-deae-45a6-a5ae-f3adc5661ca5",
   "metadata": {},
   "outputs": [
    {
     "name": "stdout",
     "output_type": "stream",
     "text": [
      "List(1, Potato)"
     ]
    },
    {
     "data": {
      "text/plain": [
       "\u001b[36ml\u001b[39m: \u001b[32mList\u001b[39m[\u001b[32mAny\u001b[39m] = \u001b[33mList\u001b[39m(\u001b[32m1\u001b[39m, \u001b[32m\"Potato\"\u001b[39m)"
      ]
     },
     "execution_count": 22,
     "metadata": {},
     "output_type": "execute_result"
    }
   ],
   "source": [
    "val l = List(1, \"Potato\")\n",
    "print(l)"
   ]
  },
  {
   "cell_type": "markdown",
   "id": "0ec6a5d7-c92e-419c-a767-edf0e13ad582",
   "metadata": {},
   "source": [
    "Lists are an immutable datatype in Scala"
   ]
  },
  {
   "cell_type": "code",
   "execution_count": 23,
   "id": "ed64eccf",
   "metadata": {},
   "outputs": [
    {
     "data": {
      "text/plain": [
       "\u001b[36ml1\u001b[39m: \u001b[32mList\u001b[39m[\u001b[32mInt\u001b[39m] = \u001b[33mList\u001b[39m(\u001b[32m5\u001b[39m, \u001b[32m7\u001b[39m, \u001b[32m11\u001b[39m, \u001b[32m13\u001b[39m)"
      ]
     },
     "execution_count": 23,
     "metadata": {},
     "output_type": "execute_result"
    }
   ],
   "source": [
    "val l1:List[Int] = List(5, 7, 11, 13)"
   ]
  },
  {
   "cell_type": "code",
   "execution_count": 24,
   "id": "9b370228",
   "metadata": {},
   "outputs": [
    {
     "name": "stderr",
     "output_type": "stream",
     "text": [
      "cmd24.sc:1: value update is not a member of List[Int]\n",
      "did you mean updated?\n",
      "val res24 = l1(0) = 1\n",
      "            ^\n",
      "Compilation Failed"
     ]
    }
   ],
   "source": [
    "l1(0) = 1"
   ]
  },
  {
   "cell_type": "code",
   "execution_count": 5,
   "id": "00400915",
   "metadata": {},
   "outputs": [
    {
     "data": {
      "text/html": [
       "<div class=\"jp-RenderedText\">\n",
       "<pre><code><span style=\"color: rgb(0, 187, 187)\"><span class=\"ansi-cyan-fg\">l2</span></span>: <span style=\"color: rgb(0, 187, 0)\"><span class=\"ansi-green-fg\">List</span></span>[<span style=\"color: rgb(0, 187, 0)\"><span class=\"ansi-green-fg\">Int</span></span>] = <span style=\"color: yellow\"><span class=\"ansi-yellow-fg\">List</span></span>(<span style=\"color: rgb(0, 187, 0)\"><span class=\"ansi-green-fg\">5</span></span>, <span style=\"color: rgb(0, 187, 0)\"><span class=\"ansi-green-fg\">7</span></span>, <span style=\"color: rgb(0, 187, 0)\"><span class=\"ansi-green-fg\">11</span></span>, <span style=\"color: rgb(0, 187, 0)\"><span class=\"ansi-green-fg\">13</span></span>)</code></pre>\n",
       "</div>"
      ],
      "text/plain": [
       "\u001b[36ml2\u001b[39m: \u001b[32mList\u001b[39m[\u001b[32mInt\u001b[39m] = \u001b[33mList\u001b[39m(\u001b[32m5\u001b[39m, \u001b[32m7\u001b[39m, \u001b[32m11\u001b[39m, \u001b[32m13\u001b[39m)"
      ]
     },
     "metadata": {},
     "output_type": "display_data"
    }
   ],
   "source": [
    "var l2:List[Int] = List(5, 7, 11, 13)"
   ]
  },
  {
   "cell_type": "code",
   "execution_count": 6,
   "id": "3c93804f",
   "metadata": {},
   "outputs": [
    {
     "name": "stderr",
     "output_type": "stream",
     "text": [
      "cmd6.sc:1: value update is not a member of List[Int]\n",
      "did you mean updated?\n",
      "val res6 = l2(0) = 1\n",
      "           ^\n",
      "Compilation Failed"
     ]
    }
   ],
   "source": [
    "l2(0) = 1"
   ]
  },
  {
   "cell_type": "markdown",
   "id": "6c189db4",
   "metadata": {},
   "source": [
    "You cannot change it from `val` to `var`! Lists are immutable!"
   ]
  },
  {
   "cell_type": "code",
   "execution_count": 6,
   "id": "b2ce54dd",
   "metadata": {},
   "outputs": [
    {
     "data": {
      "text/plain": [
       "\u001b[36ml3\u001b[39m: \u001b[32mList\u001b[39m[\u001b[32mInt\u001b[39m] = \u001b[33mList\u001b[39m(\u001b[32m5\u001b[39m, \u001b[32m7\u001b[39m, \u001b[32m11\u001b[39m, \u001b[32m13\u001b[39m, \u001b[32m17\u001b[39m)"
      ]
     },
     "execution_count": 6,
     "metadata": {},
     "output_type": "execute_result"
    }
   ],
   "source": [
    "val l3 = l2 :+ 17"
   ]
  },
  {
   "cell_type": "code",
   "execution_count": 7,
   "id": "ef4d6262",
   "metadata": {},
   "outputs": [
    {
     "name": "stdout",
     "output_type": "stream",
     "text": [
      "List(5, 7, 11, 13)"
     ]
    }
   ],
   "source": [
    "print(l2)"
   ]
  },
  {
   "cell_type": "code",
   "execution_count": 8,
   "id": "f9d23340",
   "metadata": {},
   "outputs": [
    {
     "name": "stdout",
     "output_type": "stream",
     "text": [
      "List(5, 7, 11, 13, 17)"
     ]
    }
   ],
   "source": [
    "print(l3)"
   ]
  },
  {
   "cell_type": "code",
   "execution_count": 1,
   "id": "5840d9b2",
   "metadata": {},
   "outputs": [
    {
     "name": "stdout",
     "output_type": "stream",
     "text": [
      "0\n",
      "1\n",
      "2\n",
      "3\n",
      "4\n",
      "5\n",
      "6\n",
      "7\n",
      "8\n",
      "9\n",
      "10\n"
     ]
    }
   ],
   "source": [
    "for(i <- 0 to 10) {\n",
    "    println(i)\n",
    "}"
   ]
  },
  {
   "cell_type": "code",
   "execution_count": 6,
   "id": "b4e2a9c6",
   "metadata": {},
   "outputs": [
    {
     "data": {
      "text/plain": [
       "defined \u001b[32mfunction\u001b[39m \u001b[36mfoo\u001b[39m\n",
       "defined \u001b[32mfunction\u001b[39m \u001b[36mbar\u001b[39m\n",
       "defined \u001b[32mfunction\u001b[39m \u001b[36mbaz\u001b[39m"
      ]
     },
     "execution_count": 6,
     "metadata": {},
     "output_type": "execute_result"
    }
   ],
   "source": [
    "def foo(x: Int): Int = x + 2\n",
    "def bar(y: String): String = \"Hello\" + y\n",
    "def baz(z: String): Int = {\n",
    "    val str1 = bar(z)\n",
    "    val siz1 = str1.size\n",
    "    foo(siz1)\n",
    "}"
   ]
  },
  {
   "cell_type": "code",
   "execution_count": 8,
   "id": "a3a8a161",
   "metadata": {},
   "outputs": [
    {
     "data": {
      "text/plain": [
       "\u001b[36mres8\u001b[39m: \u001b[32mInt\u001b[39m = \u001b[32m12\u001b[39m"
      ]
     },
     "execution_count": 8,
     "metadata": {},
     "output_type": "execute_result"
    }
   ],
   "source": [
    "baz(\"Hello\")"
   ]
  },
  {
   "cell_type": "code",
   "execution_count": 6,
   "id": "d431ba24",
   "metadata": {},
   "outputs": [
    {
     "data": {
      "text/plain": [
       "defined \u001b[32mfunction\u001b[39m \u001b[36mfuncA\u001b[39m\n",
       "defined \u001b[32mfunction\u001b[39m \u001b[36mfuncB\u001b[39m\n",
       "defined \u001b[32mfunction\u001b[39m \u001b[36mfuncC\u001b[39m\n",
       "defined \u001b[32mfunction\u001b[39m \u001b[36mfuncD\u001b[39m\n",
       "defined \u001b[32mfunction\u001b[39m \u001b[36mfuncE\u001b[39m"
      ]
     },
     "execution_count": 6,
     "metadata": {},
     "output_type": "execute_result"
    }
   ],
   "source": [
    "def funcA(x: Int): Int = {\n",
    "    if (x <= 1) { 1 }\n",
    "    else {\n",
    "        if (x <= 2) {\n",
    "            x - 1\n",
    "        }\n",
    "        else { x }\n",
    "    }\n",
    "}\n",
    "\n",
    "def funcB(x: Int): Int = {\n",
    "    if (x <= 1) { return 1 }\n",
    "    else {\n",
    "        if (x <= 2) {return (x-1) }\n",
    "        else { return x }\n",
    "    }\n",
    "}\n",
    "\n",
    "def funcC(x: Int): Int = {\n",
    "    if (x <= 1) { return 1 }\n",
    "    else {\n",
    "        if (x <=2 ) return (x-1)\n",
    "    }\n",
    "    return x\n",
    "}\n",
    "\n",
    "def funcD(x: Int): Int = {\n",
    "    if (x <= 1) { 1 }\n",
    "    else {\n",
    "        if ( x <=2 ) { (x - 1) }\n",
    "    }\n",
    "    x\n",
    "}\n",
    "\n",
    "def funcE(x: Int): Int  = {\n",
    "    if (x <= 1) { 1 }\n",
    "    else (return x)\n",
    "}"
   ]
  },
  {
   "cell_type": "code",
   "execution_count": 9,
   "id": "c86a3e6a",
   "metadata": {},
   "outputs": [
    {
     "data": {
      "text/plain": [
       "\u001b[36mres9_0\u001b[39m: \u001b[32mInt\u001b[39m = \u001b[32m1\u001b[39m\n",
       "\u001b[36mres9_1\u001b[39m: \u001b[32mInt\u001b[39m = \u001b[32m1\u001b[39m\n",
       "\u001b[36mres9_2\u001b[39m: \u001b[32mInt\u001b[39m = \u001b[32m1\u001b[39m\n",
       "\u001b[36mres9_3\u001b[39m: \u001b[32mInt\u001b[39m = \u001b[32m1\u001b[39m\n",
       "\u001b[36mres9_4\u001b[39m: \u001b[32mInt\u001b[39m = \u001b[32m10\u001b[39m"
      ]
     },
     "execution_count": 9,
     "metadata": {},
     "output_type": "execute_result"
    }
   ],
   "source": [
    "funcA(1)\n",
    "funcB(1)\n",
    "funcC(1)\n",
    "funcD(1)\n",
    "funcE(10)"
   ]
  },
  {
   "cell_type": "code",
   "execution_count": 10,
   "id": "f8790a7d",
   "metadata": {},
   "outputs": [
    {
     "data": {
      "text/plain": [
       "\u001b[36ma\u001b[39m: \u001b[32mList\u001b[39m[(\u001b[32mInt\u001b[39m, \u001b[32mString\u001b[39m)] = \u001b[33mList\u001b[39m((\u001b[32m1\u001b[39m, \u001b[32m\"Hello\"\u001b[39m), (\u001b[32m2\u001b[39m, \u001b[32m\"World\"\u001b[39m))\n",
       "\u001b[36mb\u001b[39m: \u001b[32mList\u001b[39m[(\u001b[32mString\u001b[39m, \u001b[32mInt\u001b[39m)] = \u001b[33mList\u001b[39m((\u001b[32m\"Hello\"\u001b[39m, \u001b[32m1\u001b[39m), (\u001b[32m\"World\"\u001b[39m, \u001b[32m2\u001b[39m))\n",
       "\u001b[36mc\u001b[39m: (\u001b[32mList\u001b[39m[(\u001b[32mInt\u001b[39m, \u001b[32mString\u001b[39m)], \u001b[32mList\u001b[39m[(\u001b[32mString\u001b[39m, \u001b[32mInt\u001b[39m)]) = (\n",
       "  \u001b[33mList\u001b[39m((\u001b[32m1\u001b[39m, \u001b[32m\"Hello\"\u001b[39m), (\u001b[32m2\u001b[39m, \u001b[32m\"World\"\u001b[39m)),\n",
       "  \u001b[33mList\u001b[39m((\u001b[32m\"Hello\"\u001b[39m, \u001b[32m1\u001b[39m), (\u001b[32m\"World\"\u001b[39m, \u001b[32m2\u001b[39m))\n",
       ")"
      ]
     },
     "execution_count": 10,
     "metadata": {},
     "output_type": "execute_result"
    }
   ],
   "source": [
    "val a = List((1, \"Hello\"), (2, \"World\"))\n",
    "val b = List((\"Hello\", 1), (\"World\", 2))\n",
    "val c = (a, b)"
   ]
  }
 ],
 "metadata": {
  "kernelspec": {
   "display_name": "Scala",
   "language": "scala",
   "name": "scala"
  },
  "language_info": {
   "codemirror_mode": "text/x-scala",
   "file_extension": ".sc",
   "mimetype": "text/x-scala",
   "name": "scala",
   "nbconvert_exporter": "script",
   "version": "2.13.14"
  }
 },
 "nbformat": 4,
 "nbformat_minor": 5
}
