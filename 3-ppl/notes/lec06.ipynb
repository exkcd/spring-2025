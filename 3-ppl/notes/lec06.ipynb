{
 "cells": [
  {
   "cell_type": "markdown",
   "metadata": {},
   "source": [
    "# Lecture 6\n",
    "\n",
    "*January 30, 2025*"
   ]
  },
  {
   "cell_type": "markdown",
   "metadata": {},
   "source": [
    "## Objectives\n",
    "\n",
    "* Inductive definitions\n",
    "    * A grammar for arithmetic expressions\n",
    "    * Abstract Syntax Trees (ASTs)\n",
    "* Operations on Inductive Definitions\n",
    "    * `minusOne` function on natural numbers using visitor pattern\n",
    "    * `minusOne` using pattern matching\n",
    "    * `plusNum`\n",
    "    * Operations on lists: `listLen`, `isAscending`, `concat`, `reverse`\n",
    "    * Operations on Arithmetic ASTs"
   ]
  },
  {
   "cell_type": "markdown",
   "metadata": {},
   "source": [
    "## Arithmetic Expression Grammar"
   ]
  },
  {
   "cell_type": "markdown",
   "metadata": {},
   "source": [
    "Const(Double)\n",
    "\n",
    "\n",
    "Ident(Identifier)\n",
    "\n",
    "Plus(Expr,Expr)\n",
    "\n",
    "Minus(Expr,Expr)\n",
    "\n",
    "Mult(Expr,Expr)\n",
    "\n",
    "Div(Expr,Expr)\n",
    "\n",
    "Log(Expr)\n",
    "\n",
    "Exp(Expr)\n",
    "\n",
    "Sine(Expr)\n",
    "\n",
    "Cosine(Expr)"
   ]
  },
  {
   "cell_type": "code",
   "execution_count": 1,
   "metadata": {},
   "outputs": [
    {
     "data": {
      "text/plain": [
       "defined \u001b[32mtrait\u001b[39m \u001b[36mExpr\u001b[39m\n",
       "defined \u001b[32mclass\u001b[39m \u001b[36mConst\u001b[39m\n",
       "defined \u001b[32mclass\u001b[39m \u001b[36mIdent\u001b[39m\n",
       "defined \u001b[32mclass\u001b[39m \u001b[36mPlus\u001b[39m\n",
       "defined \u001b[32mclass\u001b[39m \u001b[36mMinus\u001b[39m\n",
       "defined \u001b[32mclass\u001b[39m \u001b[36mMult\u001b[39m\n",
       "defined \u001b[32mclass\u001b[39m \u001b[36mDiv\u001b[39m\n",
       "defined \u001b[32mclass\u001b[39m \u001b[36mSine\u001b[39m"
      ]
     },
     "execution_count": 1,
     "metadata": {},
     "output_type": "execute_result"
    }
   ],
   "source": [
    "sealed trait Expr\n",
    "\n",
    "case class Const(x:Double) extends Expr\n",
    "case class Ident(v:String) extends Expr\n",
    "case class Plus(e1:Expr, e2:Expr) extends Expr\n",
    "case class Minus(e1:Expr, e2:Expr) extends Expr\n",
    "case class Mult(e1:Expr, e2:Expr) extends Expr\n",
    "case class Div(e1:Expr, e2:Expr) extends Expr\n",
    "case class Sine(e:Expr) extends Expr"
   ]
  },
  {
   "cell_type": "code",
   "execution_count": 4,
   "metadata": {},
   "outputs": [
    {
     "data": {
      "text/plain": [
       "\u001b[36me\u001b[39m: \u001b[32mExpr\u001b[39m = \u001b[33mPlus\u001b[39m(\n",
       "  e1 = \u001b[33mMult\u001b[39m(e1 = \u001b[33mIdent\u001b[39m(v = \u001b[32m\"x\"\u001b[39m), e2 = \u001b[33mIdent\u001b[39m(v = \u001b[32m\"x\"\u001b[39m)),\n",
       "  e2 = \u001b[33mConst\u001b[39m(x = \u001b[32m2.0\u001b[39m)\n",
       ")"
      ]
     },
     "execution_count": 4,
     "metadata": {},
     "output_type": "execute_result"
    }
   ],
   "source": [
    "val e:Expr = Plus(Mult(Ident(\"x\"), Ident(\"x\")),Const(2.0)) // x^2 + 2"
   ]
  },
  {
   "cell_type": "code",
   "execution_count": 14,
   "metadata": {},
   "outputs": [
    {
     "data": {
      "text/plain": [
       "defined \u001b[32mtrait\u001b[39m \u001b[36mNum\u001b[39m\n",
       "defined \u001b[32mobject\u001b[39m \u001b[36mZ\u001b[39m\n",
       "defined \u001b[32mclass\u001b[39m \u001b[36mSucc\u001b[39m"
      ]
     },
     "execution_count": 14,
     "metadata": {},
     "output_type": "execute_result"
    }
   ],
   "source": [
    "sealed trait Num {\n",
    "    def minusOne():Num\n",
    "}\n",
    "\n",
    "case object Z extends Num {\n",
    "    def minusOne():Num = {\n",
    "        throw ( new IllegalArgumentException(\"You can't subtract from zero!\"))\n",
    "    }\n",
    "}\n",
    "\n",
    "case class Succ(n: Num) extends Num {\n",
    "    def minusOne():Num = {\n",
    "        return this.n\n",
    "    }\n",
    "}"
   ]
  },
  {
   "cell_type": "code",
   "execution_count": 16,
   "metadata": {},
   "outputs": [
    {
     "data": {
      "text/plain": [
       "\u001b[36mn1\u001b[39m: \u001b[32mNum\u001b[39m = \u001b[33mSucc\u001b[39m(n = \u001b[33mSucc\u001b[39m(n = Z))\n",
       "\u001b[36mn2\u001b[39m: \u001b[32mNum\u001b[39m = \u001b[33mSucc\u001b[39m(n = Z)"
      ]
     },
     "execution_count": 16,
     "metadata": {},
     "output_type": "execute_result"
    }
   ],
   "source": [
    "val n1:Num = Succ(Succ(Z)) // two\n",
    "val n2:Num = n1.minusOne() // Succ(Z)"
   ]
  },
  {
   "cell_type": "code",
   "execution_count": 17,
   "metadata": {},
   "outputs": [
    {
     "data": {
      "text/plain": [
       "defined \u001b[32mtrait\u001b[39m \u001b[36mNumList\u001b[39m\n",
       "defined \u001b[32mobject\u001b[39m \u001b[36mNil\u001b[39m\n",
       "defined \u001b[32mclass\u001b[39m \u001b[36mCons\u001b[39m"
      ]
     },
     "execution_count": 17,
     "metadata": {},
     "output_type": "execute_result"
    }
   ],
   "source": [
    "sealed trait NumList\n",
    "case object Nil extends NumList\n",
    "case class Cons(hd:Num, tl:NumList) extends NumList"
   ]
  },
  {
   "cell_type": "code",
   "execution_count": 18,
   "metadata": {},
   "outputs": [
    {
     "data": {
      "text/plain": [
       "defined \u001b[32mfunction\u001b[39m \u001b[36mnumListLen\u001b[39m"
      ]
     },
     "execution_count": 18,
     "metadata": {},
     "output_type": "execute_result"
    }
   ],
   "source": [
    "def numListLen(l:NumList, acc:Int = 0) : Int = {\n",
    "    l match {\n",
    "        case Nil => acc\n",
    "        case Cons(hd, tl) => numListLen(tl, acc+1)\n",
    "    }\n",
    "}"
   ]
  },
  {
   "cell_type": "code",
   "execution_count": 19,
   "metadata": {},
   "outputs": [
    {
     "data": {
      "text/plain": [
       "defined \u001b[32mfunction\u001b[39m \u001b[36mconcat\u001b[39m"
      ]
     },
     "execution_count": 19,
     "metadata": {},
     "output_type": "execute_result"
    }
   ],
   "source": [
    "def concat(l1:NumList, l2:NumList) : NumList = {\n",
    "    l1 match {\n",
    "        case Nil => l1\n",
    "        case Cons(hd,tl) => Cons(hd, concat(tl,l2))\n",
    "    }\n",
    "}"
   ]
  },
  {
   "cell_type": "code",
   "execution_count": 20,
   "metadata": {},
   "outputs": [
    {
     "data": {
      "text/plain": [
       "defined \u001b[32mfunction\u001b[39m \u001b[36mrealConcat\u001b[39m"
      ]
     },
     "execution_count": 20,
     "metadata": {},
     "output_type": "execute_result"
    }
   ],
   "source": [
    "def realConcat(l1:List[Int], l2:List[Int]) : List[Int] = {\n",
    "    l1 match {\n",
    "        case List() => l2\n",
    "        case hd::tl => hd::(realConcat(tl,l2))\n",
    "    }\n",
    "}"
   ]
  }
 ],
 "metadata": {
  "kernelspec": {
   "display_name": "Scala",
   "language": "scala",
   "name": "scala"
  },
  "language_info": {
   "codemirror_mode": "text/x-scala",
   "file_extension": ".sc",
   "mimetype": "text/x-scala",
   "name": "scala",
   "nbconvert_exporter": "script",
   "version": "2.13.14"
  }
 },
 "nbformat": 4,
 "nbformat_minor": 2
}
