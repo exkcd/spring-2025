{
 "cells": [
  {
   "cell_type": "markdown",
   "metadata": {},
   "source": [
    "# Lecture 8\n",
    "\n",
    "*February 06, 2025*"
   ]
  },
  {
   "cell_type": "markdown",
   "metadata": {},
   "source": [
    "## Operational Semantics\n",
    "\n",
    "* semantics = meaning\n",
    "* operation = how do you execute stuff?\n",
    "\n",
    "### Definition\n",
    "* ascribe meaning to terms in this language\n",
    "* giving meaning to terms in a programming language, by showing hwo to evaluate(\"operationalize\") them.\n",
    "\n",
    "* Focus: Big-Step Semantics"
   ]
  },
  {
   "cell_type": "markdown",
   "metadata": {},
   "source": [
    "### Rules\n",
    "\n",
    "$$\\begin{array}{c}\n",
    "\\text{if these things are true} \\\\\n",
    "\\hline\n",
    "\\text{then these things must be true} \\\\\n",
    "\\end{array}$$"
   ]
  },
  {
   "cell_type": "markdown",
   "metadata": {},
   "source": []
  }
 ],
 "metadata": {
  "language_info": {
   "name": "python"
  }
 },
 "nbformat": 4,
 "nbformat_minor": 2
}
