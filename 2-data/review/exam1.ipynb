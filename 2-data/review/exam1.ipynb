{
 "cells": [
  {
   "cell_type": "markdown",
   "metadata": {},
   "source": [
    "# Exam 1"
   ]
  },
  {
   "cell_type": "markdown",
   "metadata": {
    "vscode": {
     "languageId": "plaintext"
    }
   },
   "source": [
    "## Quiz 2"
   ]
  },
  {
   "cell_type": "markdown",
   "metadata": {},
   "source": [
    "**Five key points**\n",
    "\n",
    "* Structure\n",
    "* Granularity\n",
    "* Scope\n",
    "* Temporality\n",
    "* Faithfulness\n",
    "\n",
    "\n",
    "**Important points**\n",
    "\n",
    "* $\\sum_{i=1}^n x_i - \\bar{x} = 0$\n",
    "\n",
    "* $\\sum_{i=1}^n x_i = n \\bar{x}$\n",
    "\n",
    "* The function $f(c) = \\frac{1}{n} \\sum_{i=1}^n (x_i - c)^2$ is minimized when $c=\\bar{x}$\n",
    "\n",
    "**Likelihood function**\n",
    "\n",
    "$L(m) = m^3 \\cdot (1-m)^4$\n",
    "\n",
    "\n",
    "How to find the likelihood?\n",
    "\n",
    "* Take the log(L(m))\n",
    "* Find the derivative of the function and set it to zero"
   ]
  },
  {
   "cell_type": "markdown",
   "metadata": {},
   "source": [
    "## Quiz 3"
   ]
  },
  {
   "cell_type": "code",
   "execution_count": null,
   "metadata": {
    "vscode": {
     "languageId": "plaintext"
    }
   },
   "outputs": [],
   "source": [
    "**Total Probability**\n"
   ]
  },
  {
   "cell_type": "markdown",
   "metadata": {},
   "source": []
  }
 ],
 "metadata": {
  "language_info": {
   "name": "python"
  }
 },
 "nbformat": 4,
 "nbformat_minor": 2
}
