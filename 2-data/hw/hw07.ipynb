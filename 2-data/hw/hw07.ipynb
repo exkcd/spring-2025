{
 "cells": [
  {
   "cell_type": "code",
   "execution_count": 354,
   "id": "6a8fbcda",
   "metadata": {
    "deletable": false,
    "editable": false
   },
   "outputs": [],
   "source": [
    "# Initialize Otter\n",
    "import otter\n",
    "grader = otter.Notebook(\"hw07.ipynb\")"
   ]
  },
  {
   "cell_type": "markdown",
   "id": "ab2812fa-72b8-4e9d-8ac3-af3b0437c214",
   "metadata": {},
   "source": [
    "# Homework 7:\n",
    "\n",
    "## Due Date: ~~Thursday, March 6th~~ Friday, March 7th by 11:59 PM MT on Gradescope\n",
    "\n",
    "\n",
    "## Collaboration Policy\n",
    "\n",
    "Data science is a collaborative activity.  However a key step in learning and retention is **creating solutions on your own.**  \n",
    "\n",
    "Below are examples of acceptable vs unacceptable use of resources and collaboration when doing HW assignments in CSCI 3022.\n",
    "\n",
    "\n",
    "The following would be some **examples of cheating** when working on HW assignments in CSCI 3022.  Any of these constitute a **violation of the course's collaboration policy and will result in an F in the course and a trip to the honor council**.   \n",
    "\n",
    "\n",
    " - Consulting web pages that may have a solution to a given homework problem or one similar is cheating.  However, consulting the class notes, and web pages that explain the material taught in class but do NOT show a solution to the homework problem in question are permissible to view.  Clearly, there's a fuzzy line here between a valid use of resources and cheating. To avoid this line, one should merely consult the course notes, the course textbook, and references that contain syntax and/or formulas.\n",
    " - Copying a segment of code or math solution of three lines or more from another student from a printout, handwritten copy, or by looking at their computer screen \n",
    " - Allowing another student to copy a segment of your code or math solution of three lines or more\n",
    " - Taking a copy of another student's work (or a solution found online) and then editing that copy\n",
    " - Reading someone else’s solution to a problem on the HW before writing your own.\n",
    " - Asking someone to write all or part of a program or solution for you.\n",
    " - Asking someone else for the code necessary to fix the error for you, other than for simple syntactical errors\n",
    " \n",
    "\n",
    "\n",
    "On the other hand, the following are some **examples of things which would NOT usually be\n",
    "considered to be cheating**:\n",
    " - Working on a HW problem on your own first and then discussing with a classmate a particular part in the problem solution where you are stuck.  After clarifying any questions you should then continue to write your solution independently.\n",
    " - Asking someone (or searching online) how a particular construct in the language works.\n",
    " - Asking someone (or searching online) how to formulate a particular construct in the language.\n",
    " - Asking someone for help in finding an error in your program.  \n",
    " - Asking someone why a particular construct does not work as you expected in a given program.\n",
    "   \n",
    "\n",
    "To test whether you are truly doing your own work and retaining what you've learned you should be able to easily reproduce from scratch and explain a HW solution that was your own when asked in office hours by a TA/Instructor or on a quiz/exam.   \n",
    "\n",
    "\n",
    "If you have difficulty in formulating the general solution to a problem on your own, or\n",
    "you have difficulty in translating that general solution into a program, it is advisable to see\n",
    "your instructor or teaching assistant rather than another student as this situation can easily\n",
    "lead to a, possibly inadvertent, cheating situation.\n",
    "\n",
    "We are here to help!  Visit HW Hours and/or post questions on Piazza!\n"
   ]
  },
  {
   "cell_type": "markdown",
   "id": "b040a7c3-e466-403d-9884-5b8969f8aec3",
   "metadata": {},
   "source": [
    "If while completing this assignment you reference any websites other than those linked in this assignment or provided on Canvas please list those references here:\n",
    "\n",
    "**External references**:  *list any websites you referenced"
   ]
  },
  {
   "cell_type": "markdown",
   "id": "1ee34b34-778f-48d8-87a7-173cd97a049c",
   "metadata": {},
   "source": [
    "#### Grading\n",
    "Grading is broken down into autograded answers and manually graded answers. \n",
    "\n",
    "For autograded answers, the results of your code are compared to provided and/or hidden tests.\n",
    "\n",
    "For manually graded answers you must show and explain all steps.  Graders will evaluate how well you answered the question and/or fulfilled the requirements of the question.\n",
    "\n",
    "\n",
    "### Score breakdown\n",
    "\n",
    "\n",
    "\n",
    "Question | Points | Grading Type\n",
    "--- | --- | ---\n",
    "Question 1 | 5 | autograded & manual\n",
    "Question 2 | 7 | manual\n",
    "Question 3 | 6 | autograded\n",
    "Question 4 | 7 | autograded & manual\n",
    "Question 5 | 11 | autograded & manual\n",
    "Question 6| 8 | autograded & manual\n",
    "Question 7 | 6 | autograded\n",
    "|Total | 50\n",
    "\n",
    "\n",
    "## Recommended Readings for this HW:\n",
    "\n",
    "- [CS109: Joint Distributions](https://chrispiech.github.io/probabilityForComputerScientists/en/part3/joint/)\n",
    "- [CS109: Marginalization](https://chrispiech.github.io/probabilityForComputerScientists/en/part3/marginalization/)\n",
    "- [CS109: Independent RV](https://chrispiech.github.io/probabilityForComputerScientists/en/part3/independent_vars/)\n",
    "- [CS109: Multinomial Distribution](https://chrispiech.github.io/probabilityForComputerScientists/en/part3/multinomial/)\n",
    "- [CS109: Covariance & Correlation](https://chrispiech.github.io/probabilityForComputerScientists/en/part3/correlation/)\n",
    "- [CIT: 10.1 & 10.2:  Sampling and Empirical Distributions](https://inferentialthinking.com/chapters/10/Sampling_and_Empirical_Distributions.html)\n",
    "- [LDS: Sec 2.2 - Target Population, Access and Sample](https://learningds.org/ch/02/data_scope_construct.html)\n",
    "- [LDS: 2.5: Accuracy](https://learningds.org/ch/02/data_scope_accuracy.html)\n",
    "- [LDS: 3.1 The Urn Model](https://learningds.org/ch/03/theory_urn.html)\n",
    "- [LDS: 3.2 Example: Simulating Election Poll Bias and Variance](https://learningds.org/ch/03/theory_election.html)\n",
    "- [Sampling](https://ds100.org/course-notes/sampling/sampling.html)"
   ]
  },
  {
   "cell_type": "code",
   "execution_count": 355,
   "id": "4a8b68c6-e69d-4da4-a604-265b23aedf84",
   "metadata": {
    "scrolled": true
   },
   "outputs": [],
   "source": [
    "import numpy as np\n",
    "import pandas as pd\n",
    "import math\n",
    "import scipy.stats as stats\n",
    "from scipy import special\n",
    "import matplotlib\n",
    "import matplotlib.pyplot as plt\n",
    "import seaborn as sns\n",
    "from IPython.display import display, Latex, Markdown\n",
    "import hashlib\n",
    "import simple_latex_checker as slc\n",
    "\n",
    "plt.style.use('fivethirtyeight')\n",
    "# Default plot configurations\n",
    "plt.rcParams['figure.figsize'] = (16,8)\n",
    "plt.rcParams['figure.dpi'] = 150\n",
    "sns.set()\n",
    "\n",
    "%matplotlib inline\n",
    "\n",
    "\n",
    "\n",
    "def get_hash(num):\n",
    "    \"\"\"Helper function for assessing correctness\"\"\"\n",
    "    return hashlib.md5(str(num).encode()).hexdigest()"
   ]
  },
  {
   "cell_type": "markdown",
   "id": "856aad1b-a8c8-4f18-99b6-abdfafe5b5ee",
   "metadata": {},
   "source": [
    "<a id='top'></a>\n",
    "---\n",
    "**Shortcuts:**  [Problem 2](#p2) | [Problem 3](#p3) | [Problem 4](#p4) |  [Problem 5](#p5) | [Problem 6](#p6) | [Problem 7](#p7) | \n",
    "\n",
    "               \n",
    "---\n",
    "<hr style=\"border: 5px solid #003262;\" />\n",
    "<hr style=\"border: 1px solid #fdb515;\" />\n",
    "\n"
   ]
  },
  {
   "cell_type": "markdown",
   "id": "0cda729b-9ad2-4222-abc4-c10b228384f3",
   "metadata": {},
   "source": [
    "# Part 1:  Joint Distributions, Covariance and Correlation"
   ]
  },
  {
   "cell_type": "markdown",
   "id": "27a12946-6112-45b9-84db-a4b87acf645c",
   "metadata": {},
   "source": [
    "<hr style=\"border: 5px solid #003262;\" />\n",
    "<hr style=\"border: 1px solid #fdb515;\" />\n",
    "\n",
    "## <span style='color:Red'>  Question 1 (5 points)\n",
    "\n",
    "Suppose $X$ and $Y$ are two discrete random variables with the following joint probability mass function:\n",
    "\n",
    "\n",
    "\n",
    "$$\n",
    "\\begin{array}{|c|c|c|}\n",
    "\\hline\n",
    " & Y=1 & Y=2 \\\\\n",
    "\\hline\n",
    "X=1 & \\frac{1}{3} &  \\\\\n",
    "\\hline\n",
    "X=2 & \\frac{1}{6} & 0  \\\\\n",
    "\\hline\n",
    "X=4 & \\frac{1}{12} & \\frac{1}{3}  \\\\\n",
    "\\hline\n",
    "\\end{array}\n",
    "$$\n"
   ]
  },
  {
   "cell_type": "markdown",
   "id": "6e52b8c1-58bf-49d7-ac65-e1a48d990729",
   "metadata": {
    "deletable": false,
    "editable": false
   },
   "source": [
    "\n"
   ]
  },
  {
   "cell_type": "markdown",
   "id": "7e59ab05-5276-4932-af58-d82d3b5a1369",
   "metadata": {
    "deletable": false,
    "editable": false
   },
   "source": [
    "<hr style=\"border: 5px solid #003262;\" />\n",
    "<hr style=\"border: 1px solid #fdb515;\" />\n",
    "\n",
    "## <span style='color:Red'>  Question 1a (1 point)\n",
    "    \n",
    "What is $P(X=1, Y=2)$?  "
   ]
  },
  {
   "cell_type": "code",
   "execution_count": 356,
   "id": "d84d80d4-c4dd-467c-9046-ada6ec2bbd44",
   "metadata": {
    "tags": []
   },
   "outputs": [],
   "source": [
    "prob_xequals1_and_yequals2 = 1/12"
   ]
  },
  {
   "cell_type": "code",
   "execution_count": 357,
   "id": "d0f1f5a5",
   "metadata": {
    "deletable": false,
    "editable": false
   },
   "outputs": [
    {
     "data": {
      "text/html": [
       "<p><strong><pre style='display: inline;'>q1a</pre></strong> passed! 💯</p>"
      ],
      "text/plain": [
       "q1a results: All test cases passed!"
      ]
     },
     "execution_count": 357,
     "metadata": {},
     "output_type": "execute_result"
    }
   ],
   "source": [
    "grader.check(\"q1a\")"
   ]
  },
  {
   "cell_type": "markdown",
   "id": "2fb03469-1224-4562-9e0e-2cc16a0801e1",
   "metadata": {
    "deletable": false,
    "editable": false
   },
   "source": [
    "<hr style=\"border: 5px solid #003262;\" />\n",
    "<hr style=\"border: 1px solid #fdb515;\" />\n",
    "\n",
    "## <span style='color:Red'>  Question 1b (1 point)\n",
    "    \n",
    "Find the marginal PMF for X, (i.e. find $P(X=x)$ for $x=1, 2, 4$).  "
   ]
  },
  {
   "cell_type": "code",
   "execution_count": 358,
   "id": "4b4599ba-927b-47c7-b93c-096674fd231a",
   "metadata": {
    "tags": []
   },
   "outputs": [],
   "source": [
    "prob_x_equals_1 = 5/12\n",
    "prob_x_equals_2 = 1/6\n",
    "prob_x_equals_4 = 5/12"
   ]
  },
  {
   "cell_type": "code",
   "execution_count": 359,
   "id": "62ebed2e",
   "metadata": {
    "deletable": false,
    "editable": false
   },
   "outputs": [
    {
     "data": {
      "text/html": [
       "<p><strong><pre style='display: inline;'>q1b</pre></strong> passed! 🍀</p>"
      ],
      "text/plain": [
       "q1b results: All test cases passed!"
      ]
     },
     "execution_count": 359,
     "metadata": {},
     "output_type": "execute_result"
    }
   ],
   "source": [
    "grader.check(\"q1b\")"
   ]
  },
  {
   "cell_type": "markdown",
   "id": "8586d42d-929f-48bf-9584-cb1611bc8c06",
   "metadata": {
    "deletable": false,
    "editable": false
   },
   "source": [
    "<hr style=\"border: 5px solid #003262;\" />\n",
    "<hr style=\"border: 1px solid #fdb515;\" />\n",
    "\n",
    "## <span style='color:Red'>  Question 1c (1 point)\n",
    "    \n",
    "Find the marginal PMF for Y (i.e. find $P(Y=y)$ for $y = 1, 2$)"
   ]
  },
  {
   "cell_type": "code",
   "execution_count": 360,
   "id": "7ef525f0-79a5-4242-874e-49d7cb4d6706",
   "metadata": {
    "tags": []
   },
   "outputs": [],
   "source": [
    "prob_y_equals_1 = 7/12\n",
    "prob_y_equals_2 = 5/12"
   ]
  },
  {
   "cell_type": "code",
   "execution_count": 361,
   "id": "d68c1710",
   "metadata": {
    "deletable": false,
    "editable": false
   },
   "outputs": [
    {
     "data": {
      "text/html": [
       "<p><strong><pre style='display: inline;'>q1c</pre></strong> passed! 🚀</p>"
      ],
      "text/plain": [
       "q1c results: All test cases passed!"
      ]
     },
     "execution_count": 361,
     "metadata": {},
     "output_type": "execute_result"
    }
   ],
   "source": [
    "grader.check(\"q1c\")"
   ]
  },
  {
   "cell_type": "markdown",
   "id": "49e53047-ab5f-4215-94a6-158050bce375",
   "metadata": {
    "deletable": false,
    "editable": false
   },
   "source": [
    "<!-- BEGIN QUESTION -->\n",
    "\n",
    "<hr style=\"border: 5px solid #003262;\" />\n",
    "<hr style=\"border: 1px solid #fdb515;\" />\n",
    "\n",
    "## <span style='color:Red'>  Question 1d (2 points)\n",
    "    \n",
    "Are $X$ and $Y$ independent or dependent?  Fully justify your answer in the cell below using LaTeX and the mathematical definition of independence."
   ]
  },
  {
   "cell_type": "markdown",
   "id": "a0dcdce9",
   "metadata": {},
   "source": [
    "### Answer\n",
    "\n",
    "$X$ and $Y$ are considered independent events if $P(X=x, Y=y) = P(X=x)P(Y=y)$. We can see that from the joint probability table $P(X=1, Y=1) = \\frac{1}{3}$, and $P(X=1) = \\frac{5}{12}$ by adding up the first row, and $P(Y=1) = \\frac{7}{12}$ by adding up the first column. Since the product of $P(X=1)P(Y=1) = \\frac{35}{144}$ does not equal $\\frac{1}{3}$, we can conclude, that these events are NOT independent."
   ]
  },
  {
   "cell_type": "markdown",
   "id": "bc7b55a0-57be-41bf-8095-b43b21ca0ff4",
   "metadata": {
    "deletable": false,
    "editable": false
   },
   "source": [
    "<!-- END QUESTION -->\n",
    "\n",
    "To check your answer to question 1d, enter a boolean value, True or False (note to receive credit on 1d you must mathematically justify your answer in the cell above). "
   ]
  },
  {
   "cell_type": "code",
   "execution_count": 362,
   "id": "5a8df35e-09b6-43fb-bcdc-78d516b8ce00",
   "metadata": {
    "tags": []
   },
   "outputs": [],
   "source": [
    "x_y_independent = False"
   ]
  },
  {
   "cell_type": "code",
   "execution_count": 363,
   "id": "4b6704c6",
   "metadata": {
    "deletable": false,
    "editable": false
   },
   "outputs": [
    {
     "data": {
      "text/html": [
       "<p><strong><pre style='display: inline;'>q1d_check</pre></strong> passed! 🙌</p>"
      ],
      "text/plain": [
       "q1d_check results: All test cases passed!"
      ]
     },
     "execution_count": 363,
     "metadata": {},
     "output_type": "execute_result"
    }
   ],
   "source": [
    "grader.check(\"q1d_check\")"
   ]
  },
  {
   "cell_type": "markdown",
   "id": "595cdfd1-862a-420a-91b0-8d660a635335",
   "metadata": {},
   "source": [
    "***\n",
    "\n",
    "[Back to top](#top)\n",
    "\n",
    "<a id='p2'></a>\n",
    "\n",
    "\n",
    "<hr style=\"border: 5px solid #003262;\" />\n",
    "<hr style=\"border: 1px solid #fdb515;\" />\n",
    "\n",
    "## <span style='color:Red'>  Question 2 (7 points)\n",
    "\n",
    "The following parts are **NOT** related:\n"
   ]
  },
  {
   "cell_type": "markdown",
   "id": "45d4001d-80ba-4b2b-8929-ba7157f7cfa8",
   "metadata": {
    "deletable": false,
    "editable": false
   },
   "source": [
    "<!-- BEGIN QUESTION -->\n",
    "\n",
    "<hr style=\"border: 5px solid #003262;\" />\n",
    "<hr style=\"border: 1px solid #fdb515;\" />\n",
    "\n",
    "## <span style='color:Red'>  Question 2a (2 points)\n",
    "If Cov$(X,Y)=0$, what does this tell us about the random variables X and Y?  (Do not use the words \"covariance\" or \"correlation\" in your answer, instead explain in layman's terms how to interpret what this result means).  \n"
   ]
  },
  {
   "cell_type": "markdown",
   "id": "351c9369",
   "metadata": {},
   "source": [
    "### Answer\n",
    "\n",
    "The covariance measures the linear relationship between X and Y and how the two data points interact over time.\n",
    "\n",
    "Sometimes their relationship is toxic and it decreases. Sometimes they're both green flags and it increases.\n",
    "\n",
    "With a covariance of zero it means that at one point in time, both of them were toxic with each other, and at another point in time, they went to therapy and worked on their relationsihp. Thus, the therapy cancells out the toxic behaviours or vice versa."
   ]
  },
  {
   "cell_type": "markdown",
   "id": "3a5ef2e1-521f-4a8e-9d30-0372d8d1e4b7",
   "metadata": {
    "deletable": false,
    "editable": false
   },
   "source": [
    "<!-- END QUESTION -->\n",
    "\n",
    "<!-- BEGIN QUESTION -->\n",
    "\n",
    "<hr style=\"border: 5px solid #003262;\" />\n",
    "<hr style=\"border: 1px solid #fdb515;\" />\n",
    "\n",
    "## <span style='color:Red'>  Question 2b (5 points)\n",
    "\n",
    "Answer **all** of the parts below in the SAME cell below using Markdown and LaTeX.  Show all of your steps.  \n",
    "\n",
    "Given the following joint pmf for discrete random variables $X$ and $Y$:\n",
    "\n",
    "$$\n",
    "\\begin{array}{|c|c|c|c|}\n",
    "\\hline\n",
    " & Y=0 & Y=1 & Y=2 \\\\\n",
    "\\hline\n",
    "X=0 & \\frac{1}{6} & \\frac{1}{4} &\\frac{1}{8} \\\\\n",
    "\\hline\n",
    "X=1 & \\frac{1}{8} & \\frac{1}{6} &\\frac{1}{6} \\\\\n",
    "\\hline\n",
    "\\end{array}\n",
    "$$\n",
    "\n",
    "\n",
    "**i).**  Calculate $Cov(X,Y)$.  \n",
    "**ii).**  Calculate $\\rho(X,Y)$   \n",
    " \n",
    "\n"
   ]
  },
  {
   "cell_type": "markdown",
   "id": "6d69827c",
   "metadata": {},
   "source": [
    "## Answer\n",
    "\n",
    "### 2bi)\n",
    "The formula for finding the covariance is as follows:\n",
    "\n",
    "$$\n",
    "E[(X-E[X])(Y-E[Y)] = E[XY] - E[X]E[Y]\n",
    "$$\n",
    "\n",
    "First let's find $E[X]$:\n",
    "\n",
    "$0(1/6+1/4+1/8)+ 1(1/8 + 1/6 + 1/6) = \\frac{11}{24}$\n",
    "\n",
    "Now let's find $E[Y]$\n",
    "\n",
    "$0(1/6 + 1/8) + 1(1/4 + 1/6) + 2(1/8 + 1/6) = 1$.\n",
    "\n",
    "To find $E[XY]$, it's easier if we use a table:\n",
    "\n",
    "| XY      | 1      | 2      |\n",
    "| ----    | ---    | ---    |\n",
    "| P(XY)   | 1/6    | 1/6    |\n",
    "| XYP(XY) | 1(1/6) | 2(1/6) |\n",
    "\n",
    "Thus, $E[XY]= 1/6 + 2/6 = 3/6 = 1/2$\n",
    "\n",
    "Now we can use the formula stated above:\n",
    "\n",
    "$E[XY] - E[X]E[Y] = 1/2 - (11/24)(1) = \\frac{1}{24}$\n",
    "\n",
    "### 2bii)\n",
    "\n",
    "To find the correlation of X and Y, we need to use the formula:\n",
    "\n",
    "$$\n",
    "\\frac{Cov(X,Y)}{SD(X)SD(Y)}\n",
    "$$\n",
    "\n",
    "Since we already have the covariance, we just need to find the standard deviation for both.\n",
    "\n",
    "To calculate standard deviation, we just need to find the variance of $X$ and $Y$ and their respective square root (which is the SD)\n",
    "\n",
    "The variance formula is as follows:\n",
    "\n",
    "$$\n",
    "Var(X) = E[X^2] - (E[X])^2\n",
    "$$\n",
    "\n",
    "The variance of $X$ is as follows:\n",
    "\n",
    "$E[X^2] = 0^2(1/6+1/4)+1^2(1/8+1/6+1/6) = 11/24$\n",
    "\n",
    "$(E[X])^2 = (11/24)^2 = 121/576$\n",
    "\n",
    "$Var(X) = 11/24 - 121/576 = 143/576$\n",
    "\n",
    "The variance of $Y$ is as follows:\n",
    "\n",
    "$E[Y^2] = 0^2(1/6+1/8) + 1^2(1/4+1/6) + 2^2((1/8+1/6)  19/12$\n",
    "\n",
    "$(E[Y])^2 = 1^2 = 1$\n",
    "\n",
    "$Var(Y) = 19/12 - 1 = 7/12$\n",
    "\n",
    "Now we can put this into the Correlation formula:\n",
    "\n",
    "$$\n",
    "\\frac{1/24}{\\sqrt{143/576}\\sqrt{7/12}} \\approx 0.1094897803\n",
    "$$"
   ]
  },
  {
   "cell_type": "markdown",
   "id": "9ba3c773",
   "metadata": {
    "deletable": false,
    "editable": false
   },
   "source": [
    "<!-- END QUESTION -->\n",
    "\n",
    "To check your answer for Problem 2bi, enter the answer you came up with (just the number) in the cell below. Note that this is just a public test. Full credit requires that you show all your work written in LaTeX fully justifying your answer in the cell above.  "
   ]
  },
  {
   "cell_type": "code",
   "execution_count": 364,
   "id": "a64e545f-499c-4e32-8d46-ed45a9625849",
   "metadata": {
    "tags": []
   },
   "outputs": [],
   "source": [
    "cov_xy = 1/24"
   ]
  },
  {
   "cell_type": "code",
   "execution_count": 365,
   "id": "51288945",
   "metadata": {
    "deletable": false,
    "editable": false
   },
   "outputs": [
    {
     "data": {
      "text/html": [
       "<p><strong><pre style='display: inline;'>q2bi_check</pre></strong> passed! 🌟</p>"
      ],
      "text/plain": [
       "q2bi_check results: All test cases passed!"
      ]
     },
     "execution_count": 365,
     "metadata": {},
     "output_type": "execute_result"
    }
   ],
   "source": [
    "grader.check(\"q2bi_check\")"
   ]
  },
  {
   "cell_type": "markdown",
   "id": "68bbf30a",
   "metadata": {
    "deletable": false,
    "editable": false
   },
   "source": [
    "To check your answer for Problem 2bii, enter the answer you came up with (just the number) in the cell below. Note that this is just a public test. Full credit requires that you show all your work written in LaTeX fully justifying your answer in the cell above.  "
   ]
  },
  {
   "cell_type": "code",
   "execution_count": 366,
   "id": "08376899-cbc6-4999-a677-edbdc3024bb3",
   "metadata": {
    "tags": []
   },
   "outputs": [],
   "source": [
    "p_xy = 0.1094897803"
   ]
  },
  {
   "cell_type": "code",
   "execution_count": 367,
   "id": "56ce4224",
   "metadata": {
    "deletable": false,
    "editable": false
   },
   "outputs": [
    {
     "data": {
      "text/html": [
       "<p><strong><pre style='display: inline;'>q2bii_check</pre></strong> passed! 🙌</p>"
      ],
      "text/plain": [
       "q2bii_check results: All test cases passed!"
      ]
     },
     "execution_count": 367,
     "metadata": {},
     "output_type": "execute_result"
    }
   ],
   "source": [
    "grader.check(\"q2bii_check\")"
   ]
  },
  {
   "cell_type": "markdown",
   "id": "d02bc584-7f23-4c6d-a5db-873be8461c29",
   "metadata": {},
   "source": [
    "<hr>"
   ]
  },
  {
   "cell_type": "markdown",
   "id": "a742ea12-91dc-4a13-a1e4-b151a72e4add",
   "metadata": {},
   "source": [
    "<hr style=\"border: 5px solid #003262;\" />\n",
    "<hr style=\"border: 1px solid #fdb515;\" />\n",
    "\n",
    "# Part 2: Simulating Multivariate Distributions\n",
    "\n",
    "The outcome of the US presidential election in 2016 took many people and many pollsters by surprise. In this assignment we will carry out a simulation study / post mortem in an attempt to understand what happened.\n",
    "\n"
   ]
  },
  {
   "cell_type": "markdown",
   "id": "b892d2eb-0c8a-4f10-affd-99f6e77465f0",
   "metadata": {},
   "source": [
    "***\n",
    "\n",
    "[Back to top](#top)\n",
    "\n",
    "<a id='p3'></a>\n",
    "\n",
    "\n",
    "<hr style=\"border: 5px solid #003262;\" />\n",
    "<hr style=\"border: 1px solid #fdb515;\" />\n",
    "\n",
    "## <span style='color:Red'>  Question 3 (6 points)\n",
    "\n",
    "#### Complete this [Multinomial Distribution; Sampling Video Assignment (click this link)](https://canvas.colorado.edu/courses/117881/assignments/2320447) available on Canvas (to receive points you must watch the entire video and answer the embedded questions)."
   ]
  },
  {
   "cell_type": "code",
   "execution_count": 368,
   "id": "eada7d73-e277-4e6f-854c-b3c7430a240f",
   "metadata": {},
   "outputs": [],
   "source": [
    "from scipy import stats"
   ]
  },
  {
   "cell_type": "code",
   "execution_count": 369,
   "id": "3f619460-1ab0-4895-b55e-882647f84c16",
   "metadata": {},
   "outputs": [
    {
     "data": {
      "text/plain": [
       "array([3, 4, 0])"
      ]
     },
     "execution_count": 369,
     "metadata": {},
     "output_type": "execute_result"
    }
   ],
   "source": [
    "# Simulate a random sample (with replacement) of size 7, from a multinomial \n",
    "# distribution where the probability of selecting blue is 60%, green is 30% and red is 10%:\n",
    "\n",
    "stats.multinomial.rvs(7, [0.6, 0.3, 0.1])"
   ]
  },
  {
   "cell_type": "markdown",
   "id": "55651b39-e559-482d-95e8-0c8de0cf9f13",
   "metadata": {},
   "source": [
    "***\n",
    "\n",
    "[Back to top](#top)\n",
    "\n",
    "<a id='p4'></a>\n",
    "\n",
    "\n",
    "<hr style=\"border: 5px solid #003262;\" />\n",
    "<hr style=\"border: 1px solid #fdb515;\" />\n",
    "\n",
    "## <span style='color:Red'>  Question 4 (7 points)"
   ]
  },
  {
   "cell_type": "markdown",
   "id": "239c8e21-a4d8-4f62-8b83-aee8861aea5c",
   "metadata": {},
   "source": [
    "In Pennsylvania, 6,165,478 people voted in the 2016 Presidential election.\n",
    "\n",
    "Trump received 48.18% of the vote and Clinton recieved 47.46%.\n",
    "This doesn't add up to 100% because other candidates received votes.\n",
    "All together these other candidates received 100% - 48.18% - 47.46% = 4.36% of the vote.\n",
    "\n",
    "The table below displays the proportion of Pennsylvania voters who voted for each candidate.\n",
    "\n",
    "\n",
    "\n",
    "\n",
    "|   Voted for   |  Trump|    Clinton|    Other|\n",
    "|-----------|-----------|-----------|---------|\n",
    "| Probability      |   0.4818   | 0.4746  |   0.0436 |\n"
   ]
  },
  {
   "cell_type": "markdown",
   "id": "26fdd41e-4d41-4178-b42c-fe6f287f2df9",
   "metadata": {
    "deletable": false,
    "editable": false
   },
   "source": [
    "<hr style=\"border: 5px solid #003262;\" />\n",
    "<hr style=\"border: 1px solid #fdb515;\" />\n",
    "\n",
    "## <span style='color:Red'>  Question 4a (1 point)\n",
    "    \n",
    "Suppose we pick a simple random sample of 20 of the 6,165,478 Pennsylvania (PA) voters. \n",
    "\n",
    "In the sample, let $N_T$ be the number of Trump voters, $N_C$ the number of Clinton voters, and $N_O$ the number of \"other\" voters. Then $N_T$, $N_C$, and $N_O$ are random: they depend on how the sample comes out. Such quantities are called \"statistics\".\n",
    "\n",
    "Pick the correct option: $N_T + N_C + N_O$ is equal to\n",
    "\n",
    "**(a)** 3\n",
    "\n",
    "**(b)** 20\n",
    "\n",
    "**(c)** 6,165,478\n",
    "\n",
    "**(d)** a random quantity\n",
    "\n",
    "*Note*: if your answer is (d), put  **ans_4a = 'd'**  for the purpose of grading. Passing the test below **does NOT** mean you answer is correct (there are hidden tests that will check this question when you submit your assignment). The test below only checks if your answer is in the correct format."
   ]
  },
  {
   "cell_type": "code",
   "execution_count": 370,
   "id": "e2245057-ebee-4616-9416-15f1648c476f",
   "metadata": {
    "tags": []
   },
   "outputs": [],
   "source": [
    "ans_4a = 'b'"
   ]
  },
  {
   "cell_type": "code",
   "execution_count": 371,
   "id": "eb248019",
   "metadata": {
    "deletable": false,
    "editable": false
   },
   "outputs": [
    {
     "data": {
      "text/html": [
       "<p><strong><pre style='display: inline;'>q4a</pre></strong> passed! 🚀</p>"
      ],
      "text/plain": [
       "q4a results: All test cases passed!"
      ]
     },
     "execution_count": 371,
     "metadata": {},
     "output_type": "execute_result"
    }
   ],
   "source": [
    "grader.check(\"q4a\")"
   ]
  },
  {
   "cell_type": "markdown",
   "id": "37122a0c-462a-4a3e-9dab-ca30f204e39b",
   "metadata": {
    "deletable": false,
    "editable": false
   },
   "source": [
    "<hr style=\"border: 5px solid #003262;\" />\n",
    "<hr style=\"border: 1px solid #fdb515;\" />\n",
    "\n",
    "## <span style='color:Red'>  Question 4b (1 point)\n",
    "    \n",
    "Pick the correct option.\n",
    "\n",
    "A simple random sample (i.e. a sample without replacement) of 20 PA voters is like a sample drawn at random with replacement, because\n",
    "\n",
    "**(a)** that's the definition of \"simple random sample\"\n",
    "\n",
    "**(b)** there are only 3 categories of voters, which is small in comparison to 20\n",
    "\n",
    "**(c)** there are only 20 people in the sample, which is less than $10\\%$ of the total number of PA voters\n",
    "\n",
    "**(d)** all PA voters are equally likely to be selected\n",
    "\n",
    "*Note*: if your answer is (d), put **ans_4b = 'd'**  for the purpose of grading. Passing the test below **does NOT** mean you answer is correct (there are hidden tests that will check this question when you submit your assignment). The test below only checks if your answer is in the correct format."
   ]
  },
  {
   "cell_type": "code",
   "execution_count": 372,
   "id": "b3323302-6142-4524-952f-d43bc3c4c7f6",
   "metadata": {
    "tags": []
   },
   "outputs": [],
   "source": [
    "ans_4b = 'c'"
   ]
  },
  {
   "cell_type": "code",
   "execution_count": 373,
   "id": "3297a403",
   "metadata": {
    "deletable": false,
    "editable": false
   },
   "outputs": [
    {
     "data": {
      "text/html": [
       "<p><strong><pre style='display: inline;'>q4b</pre></strong> passed! 🎉</p>"
      ],
      "text/plain": [
       "q4b results: All test cases passed!"
      ]
     },
     "execution_count": 373,
     "metadata": {},
     "output_type": "execute_result"
    }
   ],
   "source": [
    "grader.check(\"q4b\")"
   ]
  },
  {
   "cell_type": "markdown",
   "id": "3f3af5f5-1b2b-446d-808a-b0c89c004013",
   "metadata": {
    "deletable": false,
    "editable": false
   },
   "source": [
    "<hr style=\"border: 5px solid #003262;\" />\n",
    "<hr style=\"border: 1px solid #fdb515;\" />\n",
    "\n",
    "## <span style='color:Red'>  Question 4c (2 points)\n",
    "\n",
    "Let $t$, $c$, and $o$ be any three non-negative integers. For the sample defined in Part **a**, the probability that the sample contains $t$ Trump voters, $c$ Clinton voters and $o$ \"other\" voters is denoted by $P(N_T = t, N_C = c, N_O = o)$.\n",
    "\n",
    "\n",
    "\n",
    "Define a function `prob_sample_counts` that takes any three non-negative integers $t$, $c$, and $o$, and returns $P(N_T = t, N_C = c, N_O = o)$.  Note that the results of **Part b** imply that you can use results for sampling with replacement when calculating these probabilities.  \n",
    "The probability is 0 for some choices of the arguments, and your function should return 0 in those cases.\n",
    "\n",
    "\n",
    "**Hint: Use what you learned in the video lesson in Question 3.** \n",
    "\n",
    "**IMPORTANT NOTE:  To calculate any factorials use `special.factorial`    (do not use math.factorials as it will fail in gradescope)**\n"
   ]
  },
  {
   "cell_type": "code",
   "execution_count": 374,
   "id": "2ef87dda-6944-4174-a106-6e9fc73d8f28",
   "metadata": {
    "tags": []
   },
   "outputs": [],
   "source": [
    "def prob_sample_counts(t, c, o):\n",
    "    \"\"\"\n",
    "    Input:\n",
    "    t - number of votes for Trump\n",
    "    c - number of votes for Clinton\n",
    "    o - number of votes for Other\n",
    "    Return: The probability of getting a such sample\n",
    "    \"\"\"\n",
    "    \n",
    "    wombo = special.factorial(t+c+o)\n",
    "    \n",
    "    if t+c+o != 20:\n",
    "        return 0\n",
    "    \n",
    "    else:\n",
    "        combo = special.factorial(t)*special.factorial(c)*special.factorial(o)\n",
    "        tp = math.pow(0.4818, t)\n",
    "        cp = math.pow(0.4746, c)\n",
    "        op = math.pow(0.0436, o)\n",
    "    \n",
    "    prob = (wombo/combo) * tp*cp*op\n",
    "       \n",
    "    if prob < 0:\n",
    "        return 0\n",
    "    \n",
    "    return prob\n",
    "    \n",
    "    # your code above this line"
   ]
  },
  {
   "cell_type": "code",
   "execution_count": 375,
   "id": "eb70916e",
   "metadata": {
    "deletable": false,
    "editable": false
   },
   "outputs": [
    {
     "data": {
      "text/html": [
       "<p><strong><pre style='display: inline;'>q4c</pre></strong> passed! 🍀</p>"
      ],
      "text/plain": [
       "q4c results: All test cases passed!"
      ]
     },
     "execution_count": 375,
     "metadata": {},
     "output_type": "execute_result"
    }
   ],
   "source": [
    "grader.check(\"q4c\")"
   ]
  },
  {
   "cell_type": "markdown",
   "id": "d8955cac-1672-42a9-98ce-3f8ba002a6a4",
   "metadata": {
    "deletable": false,
    "editable": false
   },
   "source": [
    "<hr style=\"border: 5px solid #003262;\" />\n",
    "<hr style=\"border: 1px solid #fdb515;\" />\n",
    "\n",
    "## <span style='color:Red'>  Question 4d (1 point)\n",
    "\n",
    "Check that your function determines a probability distribution by summing all the positive terms. You know what the sum should be. **Hint: You might need to iterate through certain values of c and t to compute the sum of all positive probabilities.**"
   ]
  },
  {
   "cell_type": "code",
   "execution_count": 376,
   "id": "18360126-332f-4ec4-8ee8-448c3d90f778",
   "metadata": {
    "tags": []
   },
   "outputs": [
    {
     "data": {
      "text/plain": [
       "True"
      ]
     },
     "execution_count": 376,
     "metadata": {},
     "output_type": "execute_result"
    }
   ],
   "source": [
    "# samples = stats.multinomial.rvs(20, [0.4818, 0.4746, 0.0436])\n",
    "\n",
    "samples = []\n",
    "    \n",
    "for t in range(0, 21):\n",
    "    for c in range(0, 21):\n",
    "        for o in range(0, 21):\n",
    "            samples.append(prob_sample_counts(t, c, o))\n",
    "\n",
    "prob_4d = round(sum(samples),2) == 1\n",
    "prob_4d"
   ]
  },
  {
   "cell_type": "code",
   "execution_count": 377,
   "id": "a4c19b20",
   "metadata": {
    "deletable": false,
    "editable": false
   },
   "outputs": [
    {
     "data": {
      "text/html": [
       "<p><strong><pre style='display: inline;'>q4d</pre></strong> passed! 🎉</p>"
      ],
      "text/plain": [
       "q4d results: All test cases passed!"
      ]
     },
     "execution_count": 377,
     "metadata": {},
     "output_type": "execute_result"
    }
   ],
   "source": [
    "grader.check(\"q4d\")"
   ]
  },
  {
   "cell_type": "markdown",
   "id": "82854a8f-0847-4561-98b6-c15bcdc6342f",
   "metadata": {
    "deletable": false,
    "editable": false
   },
   "source": [
    "<hr style=\"border: 5px solid #003262;\" />\n",
    "<hr style=\"border: 1px solid #fdb515;\" />\n",
    "\n",
    "## <span style='color:Red'>  Question 4e (1 point)\n",
    "    \n",
    "Use `prob_sample_counts` to find the chance that the sample consists of 11 Trump voters, 8 Clinton voters, and 1 \"other\" voter."
   ]
  },
  {
   "cell_type": "code",
   "execution_count": 378,
   "id": "108b70ea-2efe-4ca0-b3d4-9ca11a393717",
   "metadata": {
    "tags": []
   },
   "outputs": [
    {
     "data": {
      "text/plain": [
       "0.055092374118670545"
      ]
     },
     "execution_count": 378,
     "metadata": {},
     "output_type": "execute_result"
    }
   ],
   "source": [
    "prob_4e = prob_sample_counts(11, 8, 1)\n",
    "prob_4e"
   ]
  },
  {
   "cell_type": "code",
   "execution_count": 379,
   "id": "7983b667",
   "metadata": {
    "deletable": false,
    "editable": false
   },
   "outputs": [
    {
     "data": {
      "text/html": [
       "<p><strong><pre style='display: inline;'>q4e</pre></strong> passed! 🎉</p>"
      ],
      "text/plain": [
       "q4e results: All test cases passed!"
      ]
     },
     "execution_count": 379,
     "metadata": {},
     "output_type": "execute_result"
    }
   ],
   "source": [
    "grader.check(\"q4e\")"
   ]
  },
  {
   "cell_type": "markdown",
   "id": "bebf7a4f-9ccd-49b4-ad7a-09e3d9da4215",
   "metadata": {
    "deletable": false,
    "editable": false
   },
   "source": [
    "<hr style=\"border: 5px solid #003262;\" />\n",
    "<hr style=\"border: 1px solid #fdb515;\" />\n",
    "\n",
    "## <span style='color:Red'>  Question 4f (1 point)\n",
    "    \n",
    "Write an expression that evaluates the chance that the sample contains at least 7 Trump voters, at least 7 Clinton voters, and at least 1 \"other\" voter. **Hint: You might find 4d useful.**"
   ]
  },
  {
   "cell_type": "code",
   "execution_count": 380,
   "id": "ce36b341-d62f-44c1-bc29-23649a009aa9",
   "metadata": {
    "tags": []
   },
   "outputs": [
    {
     "data": {
      "text/plain": [
       "0.4693870766509241"
      ]
     },
     "execution_count": 380,
     "metadata": {},
     "output_type": "execute_result"
    }
   ],
   "source": [
    "sample_size = 20\n",
    "\n",
    "\n",
    "probs = [0.4818, 0.4746, 0.0436]\n",
    "\n",
    "min_t = 7 # at least 7 voters for Trump\n",
    "min_c = 7 # at least 7 voters for Clinton\n",
    "min_o = 1 # at least 1 voter for \"other\"\n",
    "\n",
    "def calc_prob(t, c, o, sample_size, prob):\n",
    "    total_prob = 0\n",
    "    for t in range(min_t, sample_size+1):\n",
    "        for c in range(min_c, sample_size+1-t):\n",
    "            o = sample_size - t - c\n",
    "            if o >= min_o:\n",
    "                total_prob += stats.multinomial.pmf([t, c, o], sample_size, probs)\n",
    "    return total_prob\n",
    "                \n",
    "\n",
    "prob_4f = calc_prob(min_t, min_c, min_o, sample_size, probs)\n",
    "prob_4f"
   ]
  },
  {
   "cell_type": "code",
   "execution_count": 381,
   "id": "1fa8ba62",
   "metadata": {
    "deletable": false,
    "editable": false
   },
   "outputs": [
    {
     "data": {
      "text/html": [
       "<p><strong><pre style='display: inline;'>q4f</pre></strong> passed! 💯</p>"
      ],
      "text/plain": [
       "q4f results: All test cases passed!"
      ]
     },
     "execution_count": 381,
     "metadata": {},
     "output_type": "execute_result"
    }
   ],
   "source": [
    "grader.check(\"q4f\")"
   ]
  },
  {
   "cell_type": "markdown",
   "id": "3bbde0bb-7aeb-466a-9e54-844dd456b7f0",
   "metadata": {
    "nbgrader": {
     "grade": false,
     "grade_id": "codebook",
     "locked": true,
     "schema_version": 2,
     "solution": false
    }
   },
   "source": [
    "[Back to top](#top)\n",
    "\n",
    "<a id='p5'></a>\n",
    "\n",
    "\n",
    "<hr style=\"border: 5px solid #003262;\" />\n",
    "<hr style=\"border: 1px solid #fdb515;\" />\n",
    "\n",
    "## <span style='color:Red'>  Question 5 (11 points)\n",
    "\n",
    "\n",
    "## Election Polling\n",
    "\n",
    "Political polling is a type of public opinion polling that can at best represent a snapshot of public opinion at the particular moment in time. Voter opinion shifts from week to week, even day to day, as candidates battle it out on the campaign field.\n",
    "\n",
    "Polls usually start with a \"horse-race\" question, where respondents are asked whom they would vote for in a head-to-head race if the election were tomorrow: Candidate A or Candidate B. The survey begins with this question so that the respondent is not influenced by any of the other questions asked in the survey. Some of these other questions are asked to help assess how likely is it that the respondent will vote. Other questions are asked about age, education, and sex in order to adjust the findings if one group appears overly represented in the sample.\n",
    "\n",
    "Pollsters typically use [random digit dialing](https://en.wikipedia.org/wiki/Random_digit_dialing) to contact people."
   ]
  },
  {
   "cell_type": "markdown",
   "id": "195f026a-ab6b-478b-972b-84c1ddf471c8",
   "metadata": {},
   "source": [
    "Here are some important definitions:\n",
    "- Population of Interest: All the people who will vote / voted in the 2016 US presidential election\n",
    "- Sampling Frame: Anyone who has a phone (they need to be reached by random digit dialing). In addition, survey respondents are excluded if they are deemed unlikely to vote or not elligible for voting in the upcoming election."
   ]
  },
  {
   "cell_type": "markdown",
   "id": "3bf01900-4338-45a3-8d42-be5388578a88",
   "metadata": {
    "nbgrader": {
     "grade": false,
     "grade_id": "examine-contents",
     "locked": true,
     "schema_version": 2,
     "solution": false
    }
   },
   "source": [
    "### How might the sampling frame differ from the population?\n",
    "\n",
    "After the fact, many experts have studied the 2016 election results. For example, according to the American Association for Public Opinion Research (AAPOR), predictions made before the election were flawed for three key reasons:\n",
    "\n",
    "1. voters changed their preferences a few days before the election\n",
    "2. those sampled were not representative of the voting population, e.g., some said that there was an overrepresentation of college graduates in some poll samples \n",
    "3. voters kept their support for Trump to themselves (hidden from the pollsters)\n",
    "\n",
    "\n",
    "\n",
    "The 1st and 3rd biases (voters changing preference and voters hiding their preference) can only be determined after the election. It might be possible to assess this with a post election survey where people were asked about these things.   \n",
    "\n",
    "In the rest of this assignment we will focus on analyzing the 2nd  type of bias:\n",
    "\n",
    "\n",
    "+ Question 5: We will carry out a study of the sampling error when there is no bias. In other words, we will try to compute the chance that random polls get the election result wrong even if we collect our sample in a manner that is completely correct. In this case, any **failure of our prediction is due entirely to random chance**.\n",
    "+ Question 6: We will carry out a study of the sampling error when there is bias of the second type from the list above. In other words, we will try to compute the chance that random polls get the election result wrong if we have a small systematic bias. In this case, any failure of our prediction is due to a **combination of random chance and our bias**.\n",
    "\n"
   ]
  },
  {
   "cell_type": "markdown",
   "id": "6e4775d0-bf4c-4425-b121-6b46a679ed7c",
   "metadata": {
    "nbgrader": {
     "grade": false,
     "grade_id": "examine-size",
     "locked": true,
     "schema_version": 2,
     "solution": false
    }
   },
   "source": [
    "### How large was the sampling error?\n",
    "\n",
    "In some states the race was very close, and it may have been simply sampling error, i.e., random chance that the majority of the voters chosen for the sample voted for Clinton.\n",
    "\n",
    "A 2- or 3-point polling error in Trump’s favor (typical error historically) would likely be enough to tip the Electoral College to him.\n",
    "\n",
    "One year after the 2016 election, Nate Silver (https://substack.com/@natesilver) wrote in\n",
    "*The Media Has A Probability Problem* that\n",
    "the \"media’s demand for certainty -- and its lack of statistical rigor -- is a bad match for our complex world.\"\n",
    "FiveThirtyEight forecasted that Clinton had about a 70 percent chance of winning.  \n",
    "\n",
    "We will first carry out a simulation study to assess the impact of the sampling error on the predictions.\n"
   ]
  },
  {
   "cell_type": "markdown",
   "id": "0bda0c9d-8e57-497e-9507-33c473ff664b",
   "metadata": {
    "nbgrader": {
     "grade": false,
     "grade_id": "load-data",
     "locked": true,
     "schema_version": 2,
     "solution": false
    }
   },
   "source": [
    "## The Electoral College\n",
    "\n",
    "The US president is chosen by the Electoral College, not by the\n",
    "popular vote. Each state is alotted a certain number of \n",
    "electoral college votes, as a function of their population.\n",
    "Whomever wins in the state gets all of the electoral college votes for that state.\n",
    "\n",
    "There are 538 electoral college votes (hence the name of the website Nate Silver started, FiveThirtyEight: https://projects.fivethirtyeight.com/polls/).\n",
    "\n",
    "Pollsters correctly predicted the election outcome in 46 of the 50 states. \n",
    "For these 46 states Trump received 231 and Clinton received 232 electoral college votes.\n",
    "\n",
    "The remaining 4 states accounted for a total of 75 votes, and \n",
    "whichever candidate received the majority of the electoral college votes in these states would win the election. \n",
    "\n",
    "These states were Florida, Michigan, Pennsylvania, and Wisconsin.\n",
    "\n",
    "|State |Electoral College Votes|\n",
    "| --- | --- |\n",
    "|florida | 29 |\n",
    "|michigan | 16 |\n",
    "|pennsylvania | 20 |\n",
    "|wisconsin | 10|\n",
    "\n",
    "For Donald Trump to win the election, he had to win either:\n",
    "* Florida + one (or more) other states\n",
    "* Michigan, Pennsylvania, and Wisconsin\n",
    "\n",
    "\n",
    "In the final results the electoral margins were very narrow in these four states, as seen below:\n",
    "\n",
    "\n",
    "|State | % Trump |   % Clinton | Total Voters |\n",
    "| --- | --- |  --- |  --- |\n",
    "|florida | 49.02 | 47.82 | 9,419,886  | \n",
    "|michigan | 47.50 | 47.27  |  4,799,284|\n",
    "|pennsylvania | 48.18 | 47.46 |  6,165,478|\n",
    "|wisconsin | 47.22 | 46.45  |  2,976,150|\n",
    "\n",
    "Those narrow electoral margins can make it hard to predict the outcome **given the sample sizes** that the polls used. "
   ]
  },
  {
   "cell_type": "markdown",
   "id": "784f58fe-cd3a-41d2-b382-c20543f00b32",
   "metadata": {},
   "source": [
    "***\n",
    "\n",
    "\n",
    "    \n",
    "### Simulation Study of the Sampling Error\n",
    "\n",
    "Now that we know how people actually voted, we can carry\n",
    "out a simulation study that imitates the polling from 2016.\n",
    "\n",
    "**NOTE**: We know the results of this election, as it took place in 2016. Because we know Trump won:\n",
    "- Anytime Clinton is predicted to win in the simulated poll, that prediction is incorrect\n",
    "- Anytime Trump is predicted to win in the simulated poll, that prediction is correct\n",
    "\n",
    "Our ultimate goal in this problem is to use the actual voting percentages to simulate polling results and **understand the chance that our poll we will incorrectly call the election for Hillary Clinton even if our sample was collected with absolutely no bias**.\n",
    "\n"
   ]
  },
  {
   "cell_type": "markdown",
   "id": "cad32e4e-d9b1-4672-9947-cec618e3bfa4",
   "metadata": {
    "deletable": false,
    "editable": false,
    "nbgrader": {
     "grade": false,
     "grade_id": "q1a",
     "locked": true,
     "schema_version": 2,
     "solution": false
    }
   },
   "source": [
    "<hr style=\"border: 5px solid #003262;\" />\n",
    "<hr style=\"border: 1px solid #fdb515;\" />\n",
    "\n",
    "## <span style='color:Red'>  Question 5a (2 points)\n",
    "\n",
    "For your convenience, the actual results of the vote in the four pivotal states is repeated below:\n",
    "\n",
    "|State |% Trump |   % Clinton | Total Voters |\n",
    "| --- | --- |  --- |  --- |\n",
    "|florida | 49.02 | 47.82 | 9,419,886  | \n",
    "|michigan | 47.50 | 47.27  |  4,799,284|\n",
    "|pennsylvania | 48.18 | 47.46 |  6,165,478|\n",
    "|wisconsin | 47.22 | 46.45  |  2,976,150|\n",
    "\n",
    "\n",
    "Using the table above, write a function `draw_state_sample(N, state)` that returns a sample with replacement of N voters from the given state, using the percentages given in the table above. Your result should be returned as a list, where the first element is the number of Trump votes, the second element is the number of Clinton votes, and the third is the number of Other votes. For example, `draw_state_sample(1500, \"florida\")` could return `[727, 692, 81]`. You may assume that the state name is given in all lower case.  \n",
    "\n",
    "**Note**: Use the given rounded probability. DO NOT use an exact fraction or a re-rounded probability as this will make the autograder fail. \n",
    "\n",
    "**Hint:** Use  `scipy.rvs()` to randomly sample from an appropriate discrete joint distribution.  \n"
   ]
  },
  {
   "cell_type": "code",
   "execution_count": 382,
   "id": "94d2c3ed-76dc-4ced-8dc5-adf35733088b",
   "metadata": {
    "tags": []
   },
   "outputs": [],
   "source": [
    "def draw_state_sample(N, state):\n",
    "    t = 0\n",
    "    c = 0\n",
    "    if state == \"florida\":\n",
    "        t = 0.4902\n",
    "        c = 0.4782\n",
    "        \n",
    "    if state == \"michigan\":\n",
    "        t = 0.4750\n",
    "        c = 0.4727\n",
    "        \n",
    "    if state == \"pennsylvania\":\n",
    "        t = 0.4818\n",
    "        c = 0.4746\n",
    "    \n",
    "    if state == \"wisconsin\":\n",
    "        t = 0.4722\n",
    "        c = 0.4645\n",
    "        \n",
    "    return stats.multinomial.rvs(N, [t, c, 1-(t+c)])"
   ]
  },
  {
   "cell_type": "code",
   "execution_count": 383,
   "id": "3eea6608-56e1-472f-a462-0c04679622e4",
   "metadata": {
    "tags": []
   },
   "outputs": [
    {
     "data": {
      "text/plain": [
       "array([728, 725,  47])"
      ]
     },
     "execution_count": 383,
     "metadata": {},
     "output_type": "execute_result"
    }
   ],
   "source": [
    "draw_state_sample(1500, \"florida\")"
   ]
  },
  {
   "cell_type": "code",
   "execution_count": 384,
   "id": "bdbb9c0b",
   "metadata": {
    "deletable": false,
    "editable": false
   },
   "outputs": [
    {
     "data": {
      "text/html": [
       "<p><strong><pre style='display: inline;'>q5a</pre></strong> passed! ✨</p>"
      ],
      "text/plain": [
       "q5a results: All test cases passed!"
      ]
     },
     "execution_count": 384,
     "metadata": {},
     "output_type": "execute_result"
    }
   ],
   "source": [
    "grader.check(\"q5a\")"
   ]
  },
  {
   "cell_type": "markdown",
   "id": "f0e53201-786f-49cc-8361-3eccce9ddc60",
   "metadata": {
    "deletable": false,
    "editable": false
   },
   "source": [
    "<hr style=\"border: 5px solid #003262;\" />\n",
    "<hr style=\"border: 1px solid #fdb515;\" />\n",
    "\n",
    "## <span style='color:Red'>  Question 5b (1 point)\n",
    "\n",
    "Now, create a function `trump_advantage` that takes in list of sample of votes (like the one returned by `draw_state_sample`) and returns the difference in the proportion of votes between Trump and Clinton. For example `trump_advantage([100, 60, 40])` should return `0.2`, since Trump had 50% of the votes in this sample and Clinton had 30%.  In contrast, `trump_advantage([60, 100, 40])` should return `-0.2`"
   ]
  },
  {
   "cell_type": "code",
   "execution_count": 385,
   "id": "8a9b8b2f-4c44-44cc-a57a-3339f6e1674c",
   "metadata": {
    "tags": []
   },
   "outputs": [],
   "source": [
    "def trump_advantage(voter_sample):\n",
    "    return (voter_sample[0]-voter_sample[1])/sum(voter_sample)"
   ]
  },
  {
   "cell_type": "code",
   "execution_count": 386,
   "id": "97e67aa3",
   "metadata": {
    "deletable": false,
    "editable": false
   },
   "outputs": [
    {
     "data": {
      "text/html": [
       "<p><strong><pre style='display: inline;'>q5b</pre></strong> passed! 🌟</p>"
      ],
      "text/plain": [
       "q5b results: All test cases passed!"
      ]
     },
     "execution_count": 386,
     "metadata": {},
     "output_type": "execute_result"
    }
   ],
   "source": [
    "grader.check(\"q5b\")"
   ]
  },
  {
   "cell_type": "markdown",
   "id": "615db96b-80fd-4671-9cb8-a91050279540",
   "metadata": {
    "deletable": false,
    "editable": false
   },
   "source": [
    "<hr style=\"border: 5px solid #003262;\" />\n",
    "<hr style=\"border: 1px solid #fdb515;\" />\n",
    "\n",
    "## <span style='color:Red'>  Question 5c (2 points)\n",
    "\n",
    "Simulate Trump's advantage across 100,000 random samples of 1500 voters for the state of Pennsylvania and store the results of each simulation in an `np.array` called `simulations`. \n",
    "\n",
    "That is, `simulations[i]` should be Trump's proportion advantage for the `i+1`th random sample of 1500 voters."
   ]
  },
  {
   "cell_type": "code",
   "execution_count": 387,
   "id": "d665c645-5ccb-4fd6-8707-970c5c2edb4a",
   "metadata": {
    "tags": []
   },
   "outputs": [],
   "source": [
    "simulations = []\n",
    "def sim_adv(n):\n",
    "    for i in range(1, n+1):\n",
    "        simulations.append(trump_advantage(draw_state_sample(1500, \"pennsylvania\")))\n",
    "\n",
    "sim_adv(100000)\n",
    "simulations = np.array(simulations)"
   ]
  },
  {
   "cell_type": "code",
   "execution_count": 388,
   "id": "a9633ac9",
   "metadata": {
    "deletable": false,
    "editable": false
   },
   "outputs": [
    {
     "data": {
      "text/html": [
       "<p><strong><pre style='display: inline;'>q5c</pre></strong> passed! 🚀</p>"
      ],
      "text/plain": [
       "q5c results: All test cases passed!"
      ]
     },
     "execution_count": 388,
     "metadata": {},
     "output_type": "execute_result"
    }
   ],
   "source": [
    "grader.check(\"q5c\")"
   ]
  },
  {
   "cell_type": "markdown",
   "id": "3b28b68a-5523-4084-86e9-0c41ff50794f",
   "metadata": {
    "deletable": false,
    "editable": false,
    "nbgrader": {
     "grade": false,
     "grade_id": "q1c",
     "locked": true,
     "schema_version": 2,
     "solution": false
    }
   },
   "source": [
    "<!-- BEGIN QUESTION -->\n",
    "\n",
    "<hr style=\"border: 5px solid #003262;\" />\n",
    "<hr style=\"border: 1px solid #fdb515;\" />\n",
    "\n",
    "## <span style='color:Red'>  Question 5d (3 points)\n",
    "\n",
    "i).  Make a **frequency** histogram of `simulations`.   This is a histogram of the sampling distribution of Trump's proportion advantage in Pennsylvania. \n",
    "\n",
    "Hint: You should use the [`plt.hist`](https://matplotlib.org/3.1.1/api/_as_gen/matplotlib.pyplot.hist.html) function in your code.\n",
    "\n",
    "Make sure to include a title as well as axis labels. You can do this using `plt.title`, `plt.xlabel`, and `plt.ylabel`.\n",
    "\n",
    "ii).  Based on your simulation, what is the probability that a random sample of 1500 will correctly predict that Trump wins Pennsylvania? (i.e. what proportion of these simulations predict a Trump victory?)  Assign your answer to `prob_penn_1500_random_correct`\n"
   ]
  },
  {
   "cell_type": "code",
   "execution_count": 389,
   "id": "9347c48d-8907-4a2a-8b2b-74a47ec64275",
   "metadata": {
    "scrolled": true,
    "tags": []
   },
   "outputs": [
    {
     "data": {
      "text/plain": [
       "<matplotlib.collections.PathCollection at 0x7fb098d4f6a0>"
      ]
     },
     "execution_count": 389,
     "metadata": {},
     "output_type": "execute_result"
    },
    {
     "data": {
      "image/png": "[encoded data removed]",
      "text/plain": [
       "<Figure size 2400x1200 with 1 Axes>"
      ]
     },
     "metadata": {},
     "output_type": "display_data"
    }
   ],
   "source": [
    "# Part (i):\n",
    "plt.hist(simulations, bins=30, edgecolor='white')\n",
    "plt.title(\"Sampling Distribution of Trump's advantage in Pennsylvania (psst: i'm from pennsylvania)\")\n",
    "plt.xlabel(\"Advantage percentage\")\n",
    "plt.ylabel(\"Frequency\")\n",
    "# your code for the histogram above here.  The code below plots a red marker at the mean:\n",
    "plt.scatter(simulations.mean(), -1, marker='^', color='red', s=500)"
   ]
  },
  {
   "cell_type": "code",
   "execution_count": 390,
   "id": "eff7e62f-835c-4edf-b907-6a96b75d182f",
   "metadata": {
    "tags": []
   },
   "outputs": [
    {
     "data": {
      "text/plain": [
       "0.61"
      ]
     },
     "execution_count": 390,
     "metadata": {},
     "output_type": "execute_result"
    }
   ],
   "source": [
    "# Part (ii):\n",
    "wins = []\n",
    "\n",
    "for i in simulations:\n",
    "    if i > 0:\n",
    "        wins.append(1)\n",
    "\n",
    "\n",
    "prob_penn_1500_random_correct = round(len(wins)/len(simulations), 2)\n",
    "prob_penn_1500_random_correct"
   ]
  },
  {
   "cell_type": "markdown",
   "id": "2db917b5-1f6f-46ce-9c3f-3a0d10820009",
   "metadata": {
    "deletable": false,
    "editable": false
   },
   "source": [
    "<!-- END QUESTION -->\n",
    "\n",
    "\n",
    "**NOTE**: We know the results of this election, as it took place in 2016. Because we know Trump won:\n",
    "- Anytime Clinton is predicted to win in the simulated poll, that prediction is incorrect\n",
    "- Anytime Trump is predicted to win in the simulated poll, that prediction is correct\n",
    "\n",
    "\n",
    "Thus your result above allows us to calculate the chance that we will incorrectly call the election for Hillary Clinton in Pennsylvania based on the results of this random sample of 1500 even if our sample was collected with absolutely no bias:\n",
    "\n"
   ]
  },
  {
   "cell_type": "code",
   "execution_count": 391,
   "id": "62778948-5fee-4d58-a52d-c12eb004d616",
   "metadata": {
    "deletable": false,
    "editable": false
   },
   "outputs": [
    {
     "data": {
      "text/plain": [
       "0.39"
      ]
     },
     "execution_count": 391,
     "metadata": {},
     "output_type": "execute_result"
    }
   ],
   "source": [
    "prob_penn_1500_random_incorrect = 1-prob_penn_1500_random_correct\n",
    "prob_penn_1500_random_incorrect"
   ]
  },
  {
   "cell_type": "markdown",
   "id": "772229cf-4ce2-4d64-b1b2-f9ffb12fa2ac",
   "metadata": {
    "deletable": false,
    "editable": false
   },
   "source": [
    "<hr style=\"border: 5px solid #003262;\" />\n",
    "<hr style=\"border: 1px solid #fdb515;\" />\n",
    "\n",
    "## <span style='color:Red'>  Question 5e (2 points)\n",
    "\n",
    "Now write a function `trump_wins(N)` that creates a random sample of N voters for **each of the four crucial states** (that is N voters from Florida, N voters from Michigan, N voters from Pennsylvania, and N voters from Wisconsin) and returns 1 if Trump is predicted to win based on these samples and 0 if Trump is predicted to lose.   \n",
    "(Hint: use `draw_state_sample` from above) \n",
    "\n",
    "Recall that for Trump to win the election, he must either:\n",
    "* Win the state of Florida and 1 or more other states\n",
    "* Win Michigan, Pennsylvania, and Wisconsin"
   ]
  },
  {
   "cell_type": "markdown",
   "id": "92f12e3e",
   "metadata": {
    "deletable": false,
    "editable": false
   },
   "source": [
    "Then repeat 100,000 simulations of the election, i.e. call `trump_wins(1500)` 100,000 times and calculate what proportion of these simulations predict a Trump victory. Give your answer as a float stored in `proportion_trump`.\n",
    "\n",
    "This number represents the percent chance that samples of 1500 from each of the 4 states will correctly predict Trump's victory *if the samples were collected with absolutely no bias*. \n"
   ]
  },
  {
   "cell_type": "code",
   "execution_count": 392,
   "id": "b18a8492-de53-4dc2-8952-7759c95e265c",
   "metadata": {
    "tags": []
   },
   "outputs": [
    {
     "data": {
      "text/plain": [
       "0.69"
      ]
     },
     "execution_count": 392,
     "metadata": {},
     "output_type": "execute_result"
    }
   ],
   "source": [
    "def trump_wins(N):\n",
    "    crit_state = [\"florida\", \"pennsylvania\", \"michigan\", \"wisconsin\"]\n",
    "    samples = []\n",
    "    \n",
    "    for state in crit_state:\n",
    "        x = samples.append(draw_state_sample(N, state))\n",
    "        \n",
    "    \n",
    "    adv = [] # see if Trump has an advantage in a state\n",
    "    \n",
    "    win = [] # see which ones Trump does not have adv in\n",
    "    \n",
    "    for sample in samples:\n",
    "        adv.append(trump_advantage(sample))\n",
    "        \n",
    "    for i in adv:\n",
    "        if i > 0:\n",
    "            win.append(i)\n",
    "            \n",
    "    if (adv[0] > 0 and (adv[1] > 0 or adv[2] > 0 or adv[3] > 0)) or (adv[1] > 0 and adv[2] > 0 and adv[3] > 0):\n",
    "        return 1\n",
    "    return 0\n",
    "\n",
    "\n",
    "\n",
    "def adv(n):\n",
    "    simulations = []\n",
    "    for _ in range(1, n+1):\n",
    "        simulations.append(trump_wins(1500))\n",
    "    return simulations\n",
    "\n",
    "proportion_trump = round(np.mean(adv(100000)), 2)\n",
    "proportion_trump"
   ]
  },
  {
   "cell_type": "code",
   "execution_count": 393,
   "id": "68be012b",
   "metadata": {
    "deletable": false,
    "editable": false
   },
   "outputs": [
    {
     "data": {
      "text/html": [
       "<p><strong><pre style='display: inline;'>q5e</pre></strong> passed! 🚀</p>"
      ],
      "text/plain": [
       "q5e results: All test cases passed!"
      ]
     },
     "execution_count": 393,
     "metadata": {},
     "output_type": "execute_result"
    }
   ],
   "source": [
    "grader.check(\"q5e\")"
   ]
  },
  {
   "cell_type": "markdown",
   "id": "c37aa518-c5a4-49bf-ba71-ad4bc03f0fbb",
   "metadata": {
    "deletable": false,
    "editable": false
   },
   "source": [
    "<hr style=\"border: 5px solid #003262;\" />\n",
    "<hr style=\"border: 1px solid #fdb515;\" />\n",
    "\n",
    "## <span style='color:Red'>  Question 5f (1 point)\n",
    "    \n",
    "Based on your work above, what is the chance that we will incorrectly call the election for Hillary Clinton based on the results of random samples of 1500 people in these 4 battleground states **even if our samples were collected with absolutely no bias?**    "
   ]
  },
  {
   "cell_type": "code",
   "execution_count": 394,
   "id": "0d330204-458c-4351-8f66-5274d6acaf64",
   "metadata": {
    "tags": []
   },
   "outputs": [
    {
     "data": {
      "text/plain": [
       "0.31000000000000005"
      ]
     },
     "execution_count": 394,
     "metadata": {},
     "output_type": "execute_result"
    }
   ],
   "source": [
    "prob_election_1500_random_incorrect = 1-proportion_trump\n",
    "prob_election_1500_random_incorrect"
   ]
  },
  {
   "cell_type": "code",
   "execution_count": 395,
   "id": "2679006f",
   "metadata": {
    "deletable": false,
    "editable": false
   },
   "outputs": [
    {
     "data": {
      "text/html": [
       "<p><strong><pre style='display: inline;'>q5f</pre></strong> passed! ✨</p>"
      ],
      "text/plain": [
       "q5f results: All test cases passed!"
      ]
     },
     "execution_count": 395,
     "metadata": {},
     "output_type": "execute_result"
    }
   ],
   "source": [
    "grader.check(\"q5f\")"
   ]
  },
  {
   "cell_type": "markdown",
   "id": "1055b87f-76ba-4821-9a27-5bf1ec44c1c2",
   "metadata": {
    "nbgrader": {
     "grade": false,
     "grade_id": "q2",
     "locked": true,
     "schema_version": 2,
     "solution": false
    }
   },
   "source": [
    "***\n",
    "\n",
    "[Back to top](#top)\n",
    "\n",
    "<a id='p6'></a>\n",
    "\n",
    "<hr style=\"border: 5px solid #003262;\" />\n",
    "<hr style=\"border: 1px solid #fdb515;\" />\n",
    "\n",
    "## <span style='color:Red'>  Question 6 (8 points)\n",
    "    \n",
    "### Simulation Study of Selection Bias\n",
    "\n",
    "According to [an article](https://blogs.lse.ac.uk/usappblog/2018/02/01/better-poll-sampling-would-have-cast-more-doubt-on-the-potential-for-hillary-clinton-to-win-the-2016-election/#Author) by Grotenhuis, Subramanian, Nieuwenhuis, Pelzer and Eisinga:\n",
    "\n",
    "> In a perfect world, polls sample from the population of voters, who would state their political preference perfectly clearly and then vote accordingly.\n",
    "\n",
    "That's the simulation study that we just performed. \n",
    "\n",
    "\n",
    "It's difficult to control for every source of selection bias.\n",
    "And, it's not possible to control for some of the other sources of bias.\n",
    "\n",
    "Next we investigate the effect of small sampling bias on the polling results in these four battleground states.  \n",
    "\n",
    "Throughout this problem, we'll examine the impacts of a 0.5 percent bias in favor of Clinton in each state. Such a bias has been suggested because highly educated voters tend to be more willing to participate in polls."
   ]
  },
  {
   "cell_type": "markdown",
   "id": "3bd763f5-1913-42a5-ab86-c4eecb395c32",
   "metadata": {
    "deletable": false,
    "editable": false,
    "nbgrader": {
     "grade": false,
     "grade_id": "q2a",
     "locked": true,
     "schema_version": 2,
     "solution": false
    }
   },
   "source": [
    "<hr style=\"border: 5px solid #003262;\" />\n",
    "<hr style=\"border: 1px solid #fdb515;\" />\n",
    "\n",
    "## <span style='color:Red'>  Question 6a (2 points)\n",
    "\n",
    "Throughout this problem, adjust the selection of voters so that there is a 0.5% bias in favor of Clinton in each of these states. \n",
    "\n",
    "For example, in Pennsylvania, Clinton received 47.46\\% of the votes and Trump 48.18\\%. Increase the population of Clinton voters to 47.46\\% + 0.5\\%  and correspondingly decrease the percent of Trump voters. \n",
    "\n",
    "\n",
    "Simulate Trump's advantage across 100,000 simple random samples of 1500 voters for the **state of Pennsylvania** and store the results of each simulation in an `np.array` called `biased_simulations`.\n",
    "\n",
    "That is, `biased_simulation[i]` should hold the result of the `i+1`th simulation.\n",
    "\n",
    "That is, your answer to this problem should be just like your answer from **Question 5c**, but now using samples that are biased as described above.\n"
   ]
  },
  {
   "cell_type": "code",
   "execution_count": 396,
   "id": "8ef2e788-d3bb-48e1-8324-2df4356ad591",
   "metadata": {
    "tags": []
   },
   "outputs": [],
   "source": [
    "def draw_biased_state_sample(N, state):\n",
    "    t = 0\n",
    "    c = 0\n",
    "    b = 0.005\n",
    "    if state == \"florida\":\n",
    "        t = 0.4902-b\n",
    "        c = 0.4782+b\n",
    "        \n",
    "    if state == \"michigan\":\n",
    "        t = 0.4750-b\n",
    "        c = 0.4727+b\n",
    "        \n",
    "    if state == \"pennsylvania\":\n",
    "        t = 0.4818-b\n",
    "        c = 0.4746+b\n",
    "    \n",
    "    if state == \"wisconsin\":\n",
    "        t = 0.4722-b\n",
    "        c = 0.4645+b\n",
    "        \n",
    "    return stats.multinomial.rvs(N, [t, c, 1-(t+c)])\n",
    "\n",
    "\n",
    "def biased_trump_advantage(voter_sample):\n",
    "    return (voter_sample[0]-voter_sample[1])/sum(voter_sample)\n",
    "\n",
    "biased_simulations = []\n",
    "def biased_adv(n):\n",
    "    for i in range(1, n+1):\n",
    "        biased_simulations.append(biased_trump_advantage(draw_biased_state_sample(1500, \"pennsylvania\")))\n",
    "\n",
    "biased_adv(100000)\n",
    "\n",
    "biased_simulations = np.array(biased_simulations)"
   ]
  },
  {
   "cell_type": "code",
   "execution_count": 397,
   "id": "21aa3e13",
   "metadata": {
    "deletable": false,
    "editable": false
   },
   "outputs": [
    {
     "data": {
      "text/html": [
       "<p><strong><pre style='display: inline;'>q6a</pre></strong> passed! 🌈</p>"
      ],
      "text/plain": [
       "q6a results: All test cases passed!"
      ]
     },
     "execution_count": 397,
     "metadata": {},
     "output_type": "execute_result"
    }
   ],
   "source": [
    "grader.check(\"q6a\")"
   ]
  },
  {
   "cell_type": "markdown",
   "id": "53713747-8d91-481a-87cf-15ee2ee54be2",
   "metadata": {
    "deletable": false,
    "editable": false
   },
   "source": [
    "<!-- BEGIN QUESTION -->\n",
    "\n",
    "<hr style=\"border: 5px solid #003262;\" />\n",
    "<hr style=\"border: 1px solid #fdb515;\" />\n",
    "\n",
    "## <span style='color:Red'>  Question 6b (1 point)\n",
    "\n",
    "Create a plot of **overlaid DENSITY** histograms of the following:\n",
    " - The new sampling distribution of Trump's proportion advantage in Pennsylvania using these biased samples \n",
    "  - The sampling distribution of the unbiased samples from **Question 5d** (plotted as a density, not a frequency histogram)\n",
    "  \n",
    "Include 2 markers (of different colors) with the sample means for each distribution (see **5d** for code how to do this).  The colors of the markers should correspond to the colors of the density histograms.\n",
    "\n",
    "Make sure to give your plot a title, label the x and y axes and include a legend.\n",
    "Use the parameter `alpha` to adjust the transparency of each histogram.\n",
    "\n",
    "\n"
   ]
  },
  {
   "cell_type": "code",
   "execution_count": 398,
   "id": "c3c88a23-e6dd-4875-ac6f-b6a0036751c4",
   "metadata": {
    "tags": []
   },
   "outputs": [
    {
     "data": {
      "image/png": "[encoded data removed]",
      "text/plain": [
       "<Figure size 3000x1800 with 1 Axes>"
      ]
     },
     "metadata": {},
     "output_type": "display_data"
    }
   ],
   "source": [
    "fig, ax = plt.subplots(1, 1, figsize=(20, 12))\n",
    "\n",
    "sns.histplot(biased_simulations,\n",
    "             kde=True, color='red',\n",
    "             alpha=0.5,\n",
    "             label='Biased',\n",
    "             stat='density',\n",
    "             ax=ax)\n",
    "\n",
    "sns.histplot(simulations,\n",
    "             kde=True,\n",
    "             color='skyblue',\n",
    "             alpha=0.4,\n",
    "             label='Unbiased',\n",
    "             stat='density',\n",
    "             ax=ax)\n",
    "\n",
    "ax.set_xlabel(\"Advantage percentage\")\n",
    "ax.set_ylabel(\"Density\")\n",
    "ax.set_title(\"Biased vs Unbiased sampling for Donald Trump in the 2016 Presidential Election\")\n",
    "\n",
    "ax.legend()\n",
    "\n",
    "plt.show()"
   ]
  },
  {
   "cell_type": "markdown",
   "id": "82c7712c-cb85-49db-bb2d-b5a9a6a13a17",
   "metadata": {
    "deletable": false,
    "editable": false
   },
   "source": [
    "<!-- END QUESTION -->\n",
    "\n",
    "<hr style=\"border: 5px solid #003262;\" />\n",
    "<hr style=\"border: 1px solid #fdb515;\" />\n",
    "\n",
    "## <span style='color:Red'>  Question 6c (1 point)\n",
    "\n",
    "Use your result above to calculate the chance that we will incorrectly call the election for Hillary Clinton in Pennsylvania based on the results of this random sample of 1500 if our sample was collected with this $0.5\\%$ bias:\n"
   ]
  },
  {
   "cell_type": "code",
   "execution_count": 399,
   "id": "82d407f7-785c-4b34-bef4-01b6e09bad36",
   "metadata": {
    "tags": []
   },
   "outputs": [
    {
     "data": {
      "text/plain": [
       "0.55"
      ]
     },
     "execution_count": 399,
     "metadata": {},
     "output_type": "execute_result"
    }
   ],
   "source": [
    "wins = []\n",
    "\n",
    "for i in biased_simulations:\n",
    "    if i > 0:\n",
    "        wins.append(1)\n",
    "\n",
    "prob_penn_1500_biased_incorrect = 1-round(len(wins)/len(biased_simulations), 2)\n",
    "prob_penn_1500_biased_incorrect"
   ]
  },
  {
   "cell_type": "code",
   "execution_count": 400,
   "id": "c8610367",
   "metadata": {
    "deletable": false,
    "editable": false
   },
   "outputs": [
    {
     "data": {
      "text/html": [
       "<p><strong><pre style='display: inline;'>q6c</pre></strong> passed! 🌈</p>"
      ],
      "text/plain": [
       "q6c results: All test cases passed!"
      ]
     },
     "execution_count": 400,
     "metadata": {},
     "output_type": "execute_result"
    }
   ],
   "source": [
    "grader.check(\"q6c\")"
   ]
  },
  {
   "cell_type": "markdown",
   "id": "967f39c1-7679-4050-9f4c-914c9ac17c18",
   "metadata": {
    "deletable": false,
    "editable": false
   },
   "source": [
    "<hr style=\"border: 5px solid #003262;\" />\n",
    "<hr style=\"border: 1px solid #fdb515;\" />\n",
    "\n",
    "## <span style='color:Red'>  Question 6d (2 points)\n",
    "\n",
    "Now perform 100,000 simulations of $1500$ voters from **each of the four states** (1500 voters from Pennsylvania, 1500 voters from Michigan, etc)  and return the proportion of these simulations that result in a Trump victory. This is the same fraction that you computed in **Question 5e**, but now using your biased samples.\n",
    "\n",
    "Give your answer as `proportion_trump_biased`.\n"
   ]
  },
  {
   "cell_type": "code",
   "execution_count": 401,
   "id": "61173956-0231-42d3-bc7a-81b3dfffd0f0",
   "metadata": {
    "tags": []
   },
   "outputs": [
    {
     "data": {
      "text/plain": [
       "0.46"
      ]
     },
     "execution_count": 401,
     "metadata": {},
     "output_type": "execute_result"
    }
   ],
   "source": [
    "def trump_wins_biased(N): \n",
    "    crit_state = [\"florida\", \"pennsylvania\", \"michigan\", \"wisconsin\"]\n",
    "    samples = []\n",
    "    \n",
    "    for state in crit_state:\n",
    "        x = samples.append(draw_biased_state_sample(N, state))\n",
    "        \n",
    "    \n",
    "    adv = [] # see if Trump has an advantage in a state\n",
    "    \n",
    "    win = [] # see which ones Trump does not have adv in\n",
    "    \n",
    "    for sample in samples:\n",
    "        adv.append(biased_trump_advantage(sample))\n",
    "        \n",
    "    for i in adv:\n",
    "        if i > 0:\n",
    "            win.append(i)\n",
    "            \n",
    "    if (adv[0] > 0 and (adv[1] > 0 or adv[2] > 0 or adv[3] > 0)) or (adv[1] > 0 and adv[2] > 0 and adv[3] > 0):\n",
    "        return 1\n",
    "    return 0\n",
    "\n",
    "def biased_adv(n):\n",
    "    b_simulations = []\n",
    "    for _ in range(1, n+1):\n",
    "        b_simulations.append(trump_wins_biased(1500))\n",
    "    return b_simulations\n",
    "\n",
    "proportion_trump_biased = round(np.mean(biased_adv(100000)), 2)\n",
    "proportion_trump_biased"
   ]
  },
  {
   "cell_type": "code",
   "execution_count": 402,
   "id": "ba55000f",
   "metadata": {
    "deletable": false,
    "editable": false
   },
   "outputs": [
    {
     "data": {
      "text/html": [
       "<p><strong><pre style='display: inline;'>q6d</pre></strong> passed! 🍀</p>"
      ],
      "text/plain": [
       "q6d results: All test cases passed!"
      ]
     },
     "execution_count": 402,
     "metadata": {},
     "output_type": "execute_result"
    }
   ],
   "source": [
    "grader.check(\"q6d\")"
   ]
  },
  {
   "cell_type": "markdown",
   "id": "eed3d633-7241-41a5-b96a-e010ff94f1e6",
   "metadata": {},
   "source": [
    "The output from the above function represents the chance that a sample biased 0.5% in Hillary Clinton's favor will correctly predict Trump's victory. "
   ]
  },
  {
   "cell_type": "markdown",
   "id": "079c618c",
   "metadata": {
    "deletable": false,
    "editable": false
   },
   "source": [
    "<!-- BEGIN QUESTION -->\n",
    "\n",
    "<hr style=\"border: 5px solid #003262;\" />\n",
    "<hr style=\"border: 1px solid #fdb515;\" />\n",
    "\n",
    "## <span style='color:Red'>  Question 6e (2 points)"
   ]
  },
  {
   "cell_type": "markdown",
   "id": "d66ccee7",
   "metadata": {
    "deletable": false,
    "editable": false
   },
   "source": [
    "Summarize the findings from these simulations.\n",
    "\n",
    "\n",
    "**Recall**: We know the results of this election, as it took place in 2016. Because we know Trump won:\n",
    "- Anytime Clinton is predicted to win in the simulated poll, that prediction is incorrect\n",
    "- Anytime Trump is predicted to win in the simulated poll, that prediction is correct\n",
    "\n",
    "\n",
    "i).  Based on your simulations, what was the **probability** that polls using **unbiased** samples of $1500$ people from each state would incorrectly predict Clinton would win in 2016? (This is called **chance error**).  Many people, even well educated ones, assume that this number should be $0\\%$. After all, how could a non-biased sample be wrong?   Give a mathematical explanation as to why it isn't $0\\%$ (or close to $0\\%$).   This is the type of incredibly important intuition we hope to develop in you throughout this class and your future data science coursework.\n",
    "\n",
    "\n",
    "ii).  Based on your simulations, what was the **probability** that polls using **biased** samples of $1500$ people from each state would incorrectly predict Clinton would win in 2016?  How different is this from your answer in part (i)?   Recall, we only biased the samples by $0.5\\%$. However, even a bias this small in the percentages can lead to a much larger probability of error in prediction of the final result."
   ]
  },
  {
   "cell_type": "markdown",
   "id": "081b1e4e",
   "metadata": {},
   "source": [
    "### Answer\n",
    "\n",
    "**i)** The probability that the polls using unbiased samples would predict that Clinton would win was around $31%$. An unbiased sample is one that should accurately represent a population, and refers to the empirical difference from the calculated mean. However, chance error occurs when there are deviations from the \"true measurement\". Basically, whenever we take an observed measurement (or sample) it's a combination of the true value, the chance error and a little bit of bias:\n",
    "\n",
    "$$\n",
    "observed \\ measurement = true \\ measurement + bias + chance \\ error\n",
    "$$\n",
    "\n",
    "**ii)** Based on the simulations, the probability that polls using biased samples would predict that Clinton would win was aroudn $53%$! This is a huge difference from $31%$! Thus, the smallest change can have a huge impact."
   ]
  },
  {
   "cell_type": "markdown",
   "id": "81a7df2f",
   "metadata": {
    "deletable": false,
    "editable": false,
    "nbgrader": {
     "grade": false,
     "grade_id": "q2c",
     "locked": true,
     "schema_version": 2,
     "solution": false
    }
   },
   "source": [
    "<!-- END QUESTION -->\n",
    "\n",
    "\n",
    "***\n",
    "\n",
    "[Back to top](#top)\n",
    "\n",
    "<a id='p7'></a>\n",
    "\n",
    "<hr style=\"border: 5px solid #003262;\" />\n",
    "<hr style=\"border: 1px solid #fdb515;\" />\n",
    "\n",
    "## <span style='color:Red'>  Question 7 (6 points)\n",
    "\n",
    "Would increasing the sample size have helped?"
   ]
  },
  {
   "cell_type": "markdown",
   "id": "8e9601bb-483f-476e-8a43-bafac3414305",
   "metadata": {
    "deletable": false,
    "editable": false
   },
   "source": [
    "\n",
    "<hr style=\"border: 5px solid #003262;\" />\n",
    "<hr style=\"border: 1px solid #fdb515;\" />\n",
    "\n",
    "## <span style='color:Red'>  Question 7a (1 point)\n",
    "\n",
    "\n",
    "Let's try increasing the sample size.  Try a sample size of 5,000 (in each of the 4 states) and run 100,000 simulations of a sample with replacement. What proportion of the 100,000 times is Trump incorrectly predicted to lose the election:\n",
    " - In the unbiased setting?\n",
    " - In the biased setting?\n",
    "\n",
    "Give your answers as `high_sample_size_unbiased_proportion_trump` and `high_sample_size_biased_proportion_trump`.\n",
    "\n",
    "\n",
    "\n",
    "*Note: Don't worry if your solution takes a while to run.* "
   ]
  },
  {
   "cell_type": "code",
   "execution_count": 403,
   "id": "047e3d5b",
   "metadata": {
    "tags": []
   },
   "outputs": [
    {
     "data": {
      "text/plain": [
       "0.5543899999999999"
      ]
     },
     "execution_count": 403,
     "metadata": {},
     "output_type": "execute_result"
    }
   ],
   "source": [
    "n=100000\n",
    "s=5000\n",
    "\n",
    "# I just copy pasted the functions here because I was getting a headache from scrolling everywhere.\n",
    "\n",
    "def unbiased_adv(n):\n",
    "    ub_simulations = []\n",
    "    for _ in range(1, n+1):\n",
    "        ub_simulations.append(trump_wins(s))\n",
    "    return ub_simulations\n",
    "\n",
    "def biased_adv(n):\n",
    "    b_simulations = []\n",
    "    for _ in range(1, n+1):\n",
    "        b_simulations.append(trump_wins_biased(s))\n",
    "    return b_simulations\n",
    "\n",
    "\n",
    "high_sample_size_unbiased_proportion_incorrect = 1-np.mean(unbiased_adv(n))\n",
    "high_sample_size_biased_proportion_incorrect = 1-np.mean(biased_adv(n))\n",
    "\n",
    "high_sample_size_unbiased_proportion_incorrect\n",
    "high_sample_size_biased_proportion_incorrect"
   ]
  },
  {
   "cell_type": "code",
   "execution_count": 404,
   "id": "1cd15289",
   "metadata": {
    "deletable": false,
    "editable": false
   },
   "outputs": [
    {
     "data": {
      "text/html": [
       "<p><strong><pre style='display: inline;'>q7a</pre></strong> passed! ✨</p>"
      ],
      "text/plain": [
       "q7a results: All test cases passed!"
      ]
     },
     "execution_count": 404,
     "metadata": {},
     "output_type": "execute_result"
    }
   ],
   "source": [
    "grader.check(\"q7a\")"
   ]
  },
  {
   "cell_type": "markdown",
   "id": "ae9f33b8",
   "metadata": {
    "deletable": false,
    "editable": false
   },
   "source": [
    "<!-- BEGIN QUESTION -->\n",
    "\n",
    "<hr style=\"border: 5px solid #003262;\" />\n",
    "<hr style=\"border: 1px solid #fdb515;\" />\n",
    "\n",
    "## <span style='color:Red'>  Question 7b (2 points)\n",
    "\n",
    "Compare your observations from **7a** to your observations **6e**.  \n",
    "\n",
    "i).  After increasing the sample sizes, did the probability of incorrectly predicting the election winner (i.e. sampling error) increase or decrease for the biased versus unbiased samples and why?  \n",
    "\n",
    "ii). What do these changes imply about the impact of sample size on the sampling error in unbiased vs biased samples? \n",
    "\n",
    "Write your answer to both parts in the cell below: "
   ]
  },
  {
   "cell_type": "markdown",
   "id": "1e44abe3",
   "metadata": {},
   "source": [
    "### Answer\n",
    "\n",
    "**i)** After increasing the sample size, the probability of the unbiased sample decreased!! To $17%$! That's amazing WOW. It decrased because when we inrease our sample size, it now reflects the overall population more accurately giving us a better picture (and data) of how the actual population would vote.\n",
    "\n",
    "\n",
    "**ii)** The increase in sample size did nothing to the biased sample, because it was already biased, and increasing the sample size on an already biased sample just further emphasizes the bias."
   ]
  },
  {
   "cell_type": "markdown",
   "id": "6935c0db-9ac3-4de2-9f62-c9a55a096388",
   "metadata": {
    "deletable": false,
    "editable": false
   },
   "source": [
    "<!-- END QUESTION -->\n",
    "\n",
    "<!-- BEGIN QUESTION -->\n",
    "\n",
    "<hr style=\"border: 5px solid #003262;\" />\n",
    "<hr style=\"border: 1px solid #fdb515;\" />\n",
    "\n",
    "## <span style='color:Red'>  Question 7c (2 points)\n",
    "\n",
    "Is it possible to correctly predict Trump's victory with less than $1\\%$ error using **unbiased sampling?**  Rerun the simulation (in each of the 4 states) with increasing sample sizes and 100,000 simulations to determine if you can find an approximate minimum sample size (it doesn't have to be exact) such that the probability of correctly predicting Trump's victory is at least $99\\%$ (assuming your sample is unbiased).  \n",
    "\n"
   ]
  },
  {
   "cell_type": "code",
   "execution_count": 405,
   "id": "0d59cb37-8189-47ac-8c91-9072f9746938",
   "metadata": {
    "tags": []
   },
   "outputs": [
    {
     "data": {
      "text/plain": [
       "0.99"
      ]
     },
     "execution_count": 405,
     "metadata": {},
     "output_type": "execute_result"
    }
   ],
   "source": [
    "def adv(n):\n",
    "    simulations = []\n",
    "    for _ in range(1, n+1):\n",
    "        simulations.append(trump_wins(30000)) # my poor poor laptop; why do you do me like this?\n",
    "    return simulations\n",
    "\n",
    "proportion_trump = round(np.mean(adv(100000)), 2)\n",
    "proportion_trump\n",
    "# your code above this line.\n",
    "# output the number of samples you used to get to at least 99% accuracy."
   ]
  },
  {
   "cell_type": "markdown",
   "id": "09c8c6cf-1cf4-4957-9ea5-d5c0898d3ef3",
   "metadata": {
    "deletable": false,
    "editable": false
   },
   "source": [
    "<!-- END QUESTION -->\n",
    "\n",
    "<!-- BEGIN QUESTION -->\n",
    "\n",
    "<hr style=\"border: 5px solid #003262;\" />\n",
    "<hr style=\"border: 1px solid #fdb515;\" />\n",
    "\n",
    "## <span style='color:Red'>  Question 7d (1 point)\n",
    "\n",
    "Is it possible to correctly predict Trump's victory with less than $1\\%$ error using **biased sampling?**  Use the code cell below to rerun the simulation (in each of the 4 states) with increasing sample sizes.  What happens to the probability of correctly predicting Trump's victory as you increase the sample size?  Explain in the markdown cell below.\n",
    "\n"
   ]
  },
  {
   "cell_type": "markdown",
   "id": "dbd16b58",
   "metadata": {},
   "source": [
    "### Answer\n",
    "\n",
    "With the unbiased sampling, when we increased the sample size to $30,000$, the probability that Trump would win shot up to $99%$. However with the biased sample, it decreases as the sample size gets larger. This is because with the biased sample, the bias still influences the sample size even as it reflects the population."
   ]
  },
  {
   "cell_type": "markdown",
   "id": "c10125e4",
   "metadata": {
    "deletable": false,
    "editable": false
   },
   "source": [
    "<!-- END QUESTION -->\n",
    "\n"
   ]
  },
  {
   "cell_type": "code",
   "execution_count": 406,
   "id": "d38644d0-880e-4e48-846a-64050fd8297b",
   "metadata": {},
   "outputs": [
    {
     "name": "stdout",
     "output_type": "stream",
     "text": [
      "10000 runs gives 0.4253\n",
      "20000 runs gives 0.3965\n",
      "30000 runs gives 0.37326\n"
     ]
    }
   ],
   "source": [
    "print(\"10000 runs gives\", np.mean([trump_wins_biased(10000) for i in range(100000)]))\n",
    "print(\"20000 runs gives\",np.mean([trump_wins_biased(20000) for i in range(100000)]))\n",
    "print(\"30000 runs gives\",np.mean([trump_wins_biased(30000) for i in range(100000)]))"
   ]
  },
  {
   "cell_type": "markdown",
   "id": "4a21bfc1-f42f-4eff-8926-1ac326d7f2eb",
   "metadata": {
    "tags": []
   },
   "source": [
    "<br/><br/>\n",
    "<hr style=\"border: 5px solid #003262;\" />\n",
    "<hr style=\"border: 1px solid #fdb515;\" />\n",
    "\n",
    "## Congratulations! You have finished Homework 7!"
   ]
  },
  {
   "cell_type": "markdown",
   "id": "cc31acf9",
   "metadata": {},
   "source": [
    "If you discussed this assignment with any other students in the class (in a manner that is acceptable as described by the Collaboration policy above) please **include their names** here:\n",
    "\n",
    "**Collaborators**: *list collaborators here*\n",
    "\n",
    "If while completing this assignment you reference any websites other than those linked in this assignment or provided on Canvas please list those references here:\n",
    "\n",
    "**External references**:  *list any additional websites you referenced*"
   ]
  },
  {
   "cell_type": "markdown",
   "id": "46739932",
   "metadata": {},
   "source": [
    "### Submission Instructions\n",
    "\n",
    "Before proceeding any further, **save this notebook.**\n",
    "\n",
    "After running the `grader.export()` cell provided below, **2 files will be created**: a zip file and pdf file.  You can download them using the links provided below OR by finding them in the same folder where this juptyer notebook resides in your JuptyerHub.\n",
    "\n",
    "To receive credit on this assignment, **you must submit BOTH of these files\n",
    "to their respective Gradescope portals:** \n",
    "\n",
    "* **Homework 7 Autograded**: Submit the zip file that is output by the `grader.export()` cell below to the HW7 Autograded assignment in Gradescope.\n",
    "\n",
    "* **Homework 7 Manually Graded**: Submit your hw07.PDF to the HW6 Manually Graded assignment in Gradescope.  **YOU MUST SELECT THE PAGES CORRESPONDING TO EACH QUESTION WHEN YOU UPLOAD TO GRADESCOPE.  IF NOT, YOU WILL LOSE POINTS**   Also, **check** that all of your plots **and** all lines of your code are showing up in your PDF before submitting.  If not, you will not receive credit for your plots/code.  \n",
    "\n",
    "\n",
    "**You are responsible for ensuring your submission follows our requirements. We will not be granting regrade requests nor extensions to submissions that don't follow instructions.** If you encounter any difficulties with submission, please don't hesitate to reach out to staff prior to the deadline."
   ]
  },
  {
   "cell_type": "code",
   "execution_count": 351,
   "id": "ff8102ab-8740-42a2-b6ca-95dc4d65f0ae",
   "metadata": {},
   "outputs": [
    {
     "name": "stdout",
     "output_type": "stream",
     "text": [
      "No detected errors. Export can be run.\n"
     ]
    }
   ],
   "source": [
    "nb = slc.Nb_checker()\n",
    "nb.run_check(\"hw07.ipynb\")"
   ]
  },
  {
   "cell_type": "markdown",
   "id": "c66c8677",
   "metadata": {
    "deletable": false,
    "editable": false
   },
   "source": [
    "## Submission\n",
    "\n",
    "Make sure you have run all cells in your notebook in order before running the cell below, so that all images/graphs appear in the output. The cell below will generate a zip file for you to submit. **Please save before exporting!**\n",
    "\n",
    "AFTER running the cell below, click on <a href='hw07.pdf' download>this link to download the PDF </a> to upload to Gradescope.  There will be a separate link that appears after running the cell below with a link to download the zip file to upload to Gradescope."
   ]
  },
  {
   "cell_type": "code",
   "execution_count": 352,
   "id": "e54063c5",
   "metadata": {
    "deletable": false,
    "editable": false
   },
   "outputs": [
    {
     "name": "stdout",
     "output_type": "stream",
     "text": [
      "Running your submission against local test cases...\n",
      "\n",
      "\n",
      "Your submission received the following results when run against available test cases:\n",
      "\n",
      "    q1a results: All test cases passed!\n",
      "\n",
      "    q1b results: All test cases passed!\n",
      "\n",
      "    q1c results: All test cases passed!\n",
      "\n",
      "    q1d_check results: All test cases passed!\n",
      "\n",
      "    q2bi_check results: All test cases passed!\n",
      "\n",
      "    q2bii_check results: All test cases passed!\n",
      "\n",
      "    q4a results: All test cases passed!\n",
      "\n",
      "    q4b results: All test cases passed!\n",
      "\n",
      "    q4c results: All test cases passed!\n",
      "\n",
      "    q4d results: All test cases passed!\n",
      "\n",
      "    q4e results: All test cases passed!\n",
      "\n",
      "    q4f results: All test cases passed!\n",
      "\n",
      "    q5a results: All test cases passed!\n",
      "\n",
      "    q5b results: All test cases passed!\n",
      "\n",
      "    q5c results: All test cases passed!\n",
      "\n",
      "    q5e results: All test cases passed!\n",
      "\n",
      "    q5f results: All test cases passed!\n",
      "\n",
      "    q6a results: All test cases passed!\n",
      "\n",
      "    q6c results: All test cases passed!\n",
      "\n",
      "    q6d results: All test cases passed!\n",
      "\n",
      "    q7a results: All test cases passed!\n"
     ]
    },
    {
     "data": {
      "text/html": [
       "\n",
       "                    <p>\n",
       "                        Your submission has been exported. Click\n",
       "                        <a href=\"hw07_2025_03_09T01_45_30_512104.zip\" download=\"hw07_2025_03_09T01_45_30_512104.zip\" target=\"_blank\">here</a> to download\n",
       "                        the zip file.\n",
       "                    </p>\n",
       "                "
      ],
      "text/plain": [
       "<IPython.core.display.HTML object>"
      ]
     },
     "metadata": {},
     "output_type": "display_data"
    }
   ],
   "source": [
    "# Save your notebook first, then run this cell to export your submission.\n",
    "grader.export(run_tests=True)"
   ]
  },
  {
   "cell_type": "markdown",
   "id": "7b1a0425",
   "metadata": {},
   "source": [
    " "
   ]
  }
 ],
 "metadata": {
  "kernelspec": {
   "display_name": "Python 3 (ipykernel)",
   "language": "python",
   "name": "python3"
  },
  "language_info": {
   "codemirror_mode": {
    "name": "ipython",
    "version": 3
   },
   "file_extension": ".py",
   "mimetype": "text/x-python",
   "name": "python",
   "nbconvert_exporter": "python",
   "pygments_lexer": "ipython3",
   "version": "3.10.8"
  },
  "otter": {
   "OK_FORMAT": true,
   "tests": {
    "q1a": {
     "name": "q1a",
     "points": 1,
     "suites": [
      {
       "cases": [
        {
         "code": ">>> assert get_hash(round(prob_xequals1_and_yequals2, 4)) == 'f71f055698f44ad6b4d99ff0d9adfb25'\n",
         "hidden": false,
         "locked": false
        }
       ],
       "scored": true,
       "setup": "",
       "teardown": "",
       "type": "doctest"
      }
     ]
    },
    "q1b": {
     "name": "q1b",
     "points": 1,
     "suites": [
      {
       "cases": [
        {
         "code": ">>> assert get_hash(round(prob_x_equals_1, 4)) == 'bfae8f3038fb5eb9c961af6e8e8ab859'\n",
         "hidden": false,
         "locked": false
        },
        {
         "code": ">>> assert get_hash(round(prob_x_equals_2, 4)) == 'f452927b0b2a755192117d956a8d47f6'\n",
         "hidden": false,
         "locked": false
        },
        {
         "code": ">>> assert get_hash(round(prob_x_equals_4, 4)) == 'bfae8f3038fb5eb9c961af6e8e8ab859'\n",
         "hidden": false,
         "locked": false
        }
       ],
       "scored": true,
       "setup": "",
       "teardown": "",
       "type": "doctest"
      }
     ]
    },
    "q1c": {
     "name": "q1c",
     "points": 1,
     "suites": [
      {
       "cases": [
        {
         "code": ">>> assert get_hash(round(prob_y_equals_1, 4)) == '9fe424617e894efd62d2a628dd86e776'\n",
         "hidden": false,
         "locked": false
        },
        {
         "code": ">>> assert get_hash(round(prob_y_equals_2, 4)) == 'bfae8f3038fb5eb9c961af6e8e8ab859'\n",
         "hidden": false,
         "locked": false
        }
       ],
       "scored": true,
       "setup": "",
       "teardown": "",
       "type": "doctest"
      }
     ]
    },
    "q1d_check": {
     "name": "q1d_check",
     "points": 0,
     "suites": [
      {
       "cases": [
        {
         "code": ">>> assert get_hash(x_y_independent) == 'f8320b26d30ab433c5a54546d21f414c'\n",
         "hidden": false,
         "locked": false
        }
       ],
       "scored": true,
       "setup": "",
       "teardown": "",
       "type": "doctest"
      }
     ]
    },
    "q2bi_check": {
     "name": "q2bi_check",
     "points": 0,
     "suites": [
      {
       "cases": [
        {
         "code": ">>> assert get_hash(round(cov_xy, 4)) == '7402532294a1062840be7cfcaf7496dd'\n",
         "hidden": false,
         "locked": false
        }
       ],
       "scored": true,
       "setup": "",
       "teardown": "",
       "type": "doctest"
      }
     ]
    },
    "q2bii_check": {
     "name": "q2bii_check",
     "points": 0,
     "suites": [
      {
       "cases": [
        {
         "code": ">>> assert get_hash(round(p_xy, 4)) == '1bc01bc3bdacbbc89510044889faad30'\n",
         "hidden": false,
         "locked": false
        }
       ],
       "scored": true,
       "setup": "",
       "teardown": "",
       "type": "doctest"
      }
     ]
    },
    "q4a": {
     "name": "q4a",
     "points": [
      0
     ],
     "suites": [
      {
       "cases": [
        {
         "code": ">>> assert ans_4a in ['a', 'b', 'c', 'd']\n",
         "hidden": false,
         "locked": false
        }
       ],
       "scored": true,
       "setup": "",
       "teardown": "",
       "type": "doctest"
      }
     ]
    },
    "q4b": {
     "name": "q4b",
     "points": [
      0
     ],
     "suites": [
      {
       "cases": [
        {
         "code": ">>> assert ans_4b in ['a', 'b', 'c', 'd']\n",
         "hidden": false,
         "locked": false
        }
       ],
       "scored": true,
       "setup": "",
       "teardown": "",
       "type": "doctest"
      }
     ]
    },
    "q4c": {
     "name": "q4c",
     "points": 2,
     "suites": [
      {
       "cases": [
        {
         "code": ">>> assert 0 <= prob_sample_counts(2, 5, 13) <= 1\n",
         "hidden": false,
         "locked": false
        },
        {
         "code": ">>> assert 0 <= prob_sample_counts(5, 1, 14) <= 1\n",
         "hidden": false,
         "locked": false
        },
        {
         "code": ">>> assert 0 <= prob_sample_counts(10, 8, 2) <= 1\n",
         "hidden": false,
         "locked": false
        },
        {
         "code": ">>> assert 0 <= prob_sample_counts(6, 12, 2) <= 1\n",
         "hidden": false,
         "locked": false
        },
        {
         "code": ">>> assert get_hash(prob_sample_counts(6, 12, 3)) == 'cfcd208495d565ef66e7dff9f98764da'\n",
         "hidden": false,
         "locked": false
        },
        {
         "code": ">>> assert get_hash(prob_sample_counts(20, 1, 3)) == 'cfcd208495d565ef66e7dff9f98764da'\n",
         "hidden": false,
         "locked": false
        },
        {
         "code": ">>> assert get_hash(prob_sample_counts(6, 6, 2)) == 'cfcd208495d565ef66e7dff9f98764da'\n",
         "hidden": false,
         "locked": false
        },
        {
         "code": ">>> assert get_hash(round(prob_sample_counts(6, 12, 2), 5)) == '95395938a3043704f9a63ddfeef0e1a0'\n",
         "hidden": false,
         "locked": false
        },
        {
         "code": ">>> assert get_hash(round(prob_sample_counts(13, 7, 0), 5)) == '274cb79c3c312edfbd68b64f164a2721'\n",
         "hidden": false,
         "locked": false
        },
        {
         "code": ">>> assert get_hash(round(prob_sample_counts(13, 5, 2), 5)) == 'febd7766501e80909143f02ed9180628'\n",
         "hidden": false,
         "locked": false
        }
       ],
       "scored": true,
       "setup": "",
       "teardown": "",
       "type": "doctest"
      }
     ]
    },
    "q4d": {
     "name": "q4d",
     "points": 1,
     "suites": [
      {
       "cases": [
        {
         "code": ">>> assert get_hash(round(float(prob_4d), 4)) == 'e4c2e8edac362acab7123654b9e73432'\n",
         "hidden": false,
         "locked": false
        }
       ],
       "scored": true,
       "setup": "",
       "teardown": "",
       "type": "doctest"
      }
     ]
    },
    "q4e": {
     "name": "q4e",
     "points": 1,
     "suites": [
      {
       "cases": [
        {
         "code": ">>> assert get_hash(round(prob_4e, 4)) == '719bef9aa5ee3b155865212824803fd2'\n",
         "hidden": false,
         "locked": false
        }
       ],
       "scored": true,
       "setup": "",
       "teardown": "",
       "type": "doctest"
      }
     ]
    },
    "q4f": {
     "name": "q4f",
     "points": 1,
     "suites": [
      {
       "cases": [
        {
         "code": ">>> assert get_hash(round(prob_4f, 4)) == 'a4a33b8dc1b9e8f39da2e6aff66c24f0'\n",
         "hidden": false,
         "locked": false
        }
       ],
       "scored": true,
       "setup": "",
       "teardown": "",
       "type": "doctest"
      }
     ]
    },
    "q5a": {
     "name": "q5a",
     "points": 2,
     "suites": [
      {
       "cases": [
        {
         "code": ">>> assert get_hash(len(draw_state_sample(1500, 'florida'))) == 'eccbc87e4b5ce2fe28308fd9f2a7baf3'\n",
         "hidden": false,
         "locked": false
        },
        {
         "code": ">>> assert get_hash(np.sum(draw_state_sample(1500, 'michigan'))) == 'cfa5301358b9fcbe7aa45b1ceea088c6'\n",
         "hidden": false,
         "locked": false
        },
        {
         "code": ">>> q5a_penn = draw_state_sample(1500, 'pennsylvania')\n>>> trump_win_penn = (q5a_penn[0] - q5a_penn[1]) / 1500\n>>> assert abs(trump_win_penn - 0.007) <= 0.12\n",
         "hidden": false,
         "locked": false
        },
        {
         "code": ">>> N = 1000\n>>> assert all([0 <= x / N and x / N <= 1 for x in draw_state_sample(N, 'wisconsin')])\n",
         "hidden": false,
         "locked": false
        }
       ],
       "scored": true,
       "setup": "",
       "teardown": "",
       "type": "doctest"
      }
     ]
    },
    "q5b": {
     "name": "q5b",
     "points": [
      0,
      0.5,
      0.5
     ],
     "suites": [
      {
       "cases": [
        {
         "code": ">>> assert -1 < trump_advantage(draw_state_sample(1500, 'wisconsin')) < 1\n",
         "hidden": false,
         "locked": false
        },
        {
         "code": ">>> assert np.isclose(trump_advantage([100, 60, 40]), 0.2)\n",
         "hidden": false,
         "locked": false
        },
        {
         "code": ">>> assert get_hash(round(trump_advantage([10, 30, 10]), 4)) == 'd1ab6103a7baf2fcf7a1611ac2299261'\n",
         "hidden": false,
         "locked": false
        }
       ],
       "scored": true,
       "setup": "",
       "teardown": "",
       "type": "doctest"
      }
     ]
    },
    "q5c": {
     "name": "q5c",
     "points": [
      0,
      1,
      1
     ],
     "suites": [
      {
       "cases": [
        {
         "code": ">>> assert len(simulations) == 100000\n",
         "hidden": false,
         "locked": false
        },
        {
         "code": ">>> assert get_hash(np.sum([-1 < x < 1 for x in simulations])) == '14ee22eaba297944c96afdbe5b16c65b'\n",
         "hidden": false,
         "locked": false
        },
        {
         "code": ">>> assert abs(np.mean(simulations) - 0.007) <= 0.016\n",
         "hidden": false,
         "locked": false
        }
       ],
       "scored": true,
       "setup": "",
       "teardown": "",
       "type": "doctest"
      }
     ]
    },
    "q5e": {
     "name": "q5e",
     "points": [
      0,
      2
     ],
     "suites": [
      {
       "cases": [
        {
         "code": ">>> assert trump_wins(1000) in [0, 1]\n",
         "hidden": false,
         "locked": false
        },
        {
         "code": ">>> assert get_hash(abs(proportion_trump - 0.695) <= 0.02) == 'f827cf462f62848df37c5e1e94a4da74'\n",
         "hidden": false,
         "locked": false
        }
       ],
       "scored": true,
       "setup": "",
       "teardown": "",
       "type": "doctest"
      }
     ]
    },
    "q5f": {
     "name": "q5f",
     "points": 1,
     "suites": [
      {
       "cases": [
        {
         "code": ">>> assert get_hash(abs(1 - proportion_trump - 0.3) <= 0.03) == 'f827cf462f62848df37c5e1e94a4da74'\n",
         "hidden": false,
         "locked": false
        }
       ],
       "scored": true,
       "setup": "",
       "teardown": "",
       "type": "doctest"
      }
     ]
    },
    "q6a": {
     "name": "q6a",
     "points": 2,
     "suites": [
      {
       "cases": [
        {
         "code": ">>> assert get_hash(len(draw_biased_state_sample(1000, 'wisconsin'))) == 'eccbc87e4b5ce2fe28308fd9f2a7baf3'\n",
         "hidden": false,
         "locked": false
        },
        {
         "code": ">>> assert get_hash(np.sum(draw_biased_state_sample(1000, 'michigan'))) == 'a9b7ba70783b617e9998dc4dd82eb3c5'\n",
         "hidden": false,
         "locked": false
        },
        {
         "code": ">>> q6_1 = draw_biased_state_sample(3000, 'florida')\n>>> assert q6_1[0] > q6_1[2] and q6_1[1] > q6_1[2]\n",
         "hidden": false,
         "locked": false
        },
        {
         "code": ">>> assert len(biased_simulations) == 100000\n",
         "hidden": false,
         "locked": false
        },
        {
         "code": ">>> assert get_hash(np.sum([-1 < x < 1 for x in biased_simulations])) == '14ee22eaba297944c96afdbe5b16c65b'\n",
         "hidden": false,
         "locked": false
        },
        {
         "code": ">>> assert abs(np.mean(biased_simulations) + 0.003) <= 0.12\n",
         "hidden": false,
         "locked": false
        }
       ],
       "scored": true,
       "setup": "",
       "teardown": "",
       "type": "doctest"
      }
     ]
    },
    "q6c": {
     "name": "q6c",
     "points": 1,
     "suites": [
      {
       "cases": [
        {
         "code": ">>> assert abs(prob_penn_1500_biased_incorrect - 0.55) <= 0.025\n",
         "hidden": false,
         "locked": false
        }
       ],
       "scored": true,
       "setup": "",
       "teardown": "",
       "type": "doctest"
      }
     ]
    },
    "q6d": {
     "name": "q6d",
     "points": 2,
     "suites": [
      {
       "cases": [
        {
         "code": ">>> assert abs(proportion_trump_biased - 0.466) <= 0.04\n",
         "hidden": false,
         "locked": false
        },
        {
         "code": ">>> assert get_hash(sorted(set([trump_wins_biased(1500) for i in range(100)]))) == '264884439b70ab09a86bc848421c6de6'\n",
         "hidden": false,
         "locked": false
        }
       ],
       "scored": true,
       "setup": "",
       "teardown": "",
       "type": "doctest"
      }
     ]
    },
    "q7a": {
     "name": "q7a",
     "points": 1,
     "suites": [
      {
       "cases": [
        {
         "code": ">>> assert np.abs(high_sample_size_unbiased_proportion_incorrect - 0.171) <= 0.02\n",
         "hidden": false,
         "locked": false
        },
        {
         "code": ">>> assert np.abs(high_sample_size_biased_proportion_incorrect - 0.555) <= 0.04\n",
         "hidden": false,
         "locked": false
        }
       ],
       "scored": true,
       "setup": "",
       "teardown": "",
       "type": "doctest"
      }
     ]
    }
   }
  }
 },
 "nbformat": 4,
 "nbformat_minor": 5
}
