{
 "cells": [
  {
   "cell_type": "code",
   "execution_count": 116,
   "id": "d7f14c7e",
   "metadata": {
    "deletable": false,
    "editable": false
   },
   "outputs": [],
   "source": [
    "# Initialize Otter\n",
    "import otter\n",
    "grader = otter.Notebook(\"hw05.ipynb\")"
   ]
  },
  {
   "cell_type": "markdown",
   "id": "0a41ef94",
   "metadata": {},
   "source": [
    "# Homework 5\n",
    "\n",
    "## Due Date: Thursday, February 13th by 11:59 PM MT on Gradescope\n",
    "\n",
    "**Assignment Learning Objectives:**\n",
    "\n",
    " - Determine whether two events are independent\n",
    " - Define random variables.  Explain the difference between random variables and events\n",
    " - Explain what a probability mass function (PMF) is and use it to calculate probabilities of discrete random variables.\n",
    " - Use tables, histograms and/or closed-form functions to represent PMFs\n",
    " - Determine whether 2 discrete RV are independent using the mathematical definition\n",
    " - Calculate and interpret the expected value of a random variable\n",
    " - Calculate and interpret the variance and standard deviation of a random variable\n",
    "\n",
    "\n",
    "## Collaboration Policy\n",
    "\n",
    "Data science is a collaborative activity.  However a key step in learning and retention is **creating solutions on your own.**  \n",
    "\n",
    "Below are examples of acceptable vs unacceptable use of resources and collaboration when doing HW assignments in CSCI 3022.\n",
    "\n",
    "\n",
    "The following would be some **examples of cheating** when working on HW assignments in CSCI 3022.  Any of these constitute a **violation of the course's collaboration policy and will result in an F in the course and a trip to the honor council**.   \n",
    "\n",
    "\n",
    " - Consulting web pages that may have a solution to a given homework problem or one similar is cheating.  However, consulting the class notes, and web pages that explain the material taught in class but do NOT show a solution to the homework problem in question are permissible to view.  Clearly, there's a fuzzy line here between a valid use of resources and cheating. To avoid this line, one should merely consult the course notes, the course textbook, and references that contain syntax and/or formulas.\n",
    " - Entering a problem into ChatGPT and then submitting the solution or a modification of the solution.\n",
    " - Copying a segment of code or math solution of three lines or more from another student from a printout, handwritten copy, or by looking at their computer screen \n",
    " - Allowing another student to copy a segment of your code or math solution of three lines or more\n",
    " - Taking a copy of another student's work (or a solution found online) and then editing that copy\n",
    " - Reading someone else’s solution to a problem on the HW before writing your own.\n",
    " - Asking someone to write all or part of a program or solution for you.\n",
    " - Asking someone else for the code necessary to fix the error for you, other than for simple syntactical errors\n",
    " \n",
    "\n",
    "\n",
    "On the other hand, the following are some **examples of things which would NOT usually be\n",
    "considered to be cheating**:\n",
    " - Working on a HW problem on your own first and then discussing with a classmate a particular part in the problem solution where you are stuck.  After clarifying any questions you should then continue to write your solution independently.\n",
    " - Asking someone (or searching online) how a particular construct in the language works.\n",
    " - Asking someone (or searching online) how to formulate a particular construct in the language.\n",
    " - Asking someone for help in finding an error in your program.  \n",
    " - Asking someone why a particular construct does not work as you expected in a given program.\n",
    "   \n",
    "\n",
    "To test whether you are truly doing your own work and retaining what you've learned you should be able to easily reproduce from scratch and explain a HW solution that was your own when asked in office hours by a TA/Instructor or on a quiz/exam.   \n",
    "\n",
    "\n",
    "If you have difficulty in formulating the general solution to a problem on your own, or\n",
    "you have difficulty in translating that general solution into a program, it is advisable to see\n",
    "your instructor or teaching assistant rather than another student as this situation can easily\n",
    "lead to a, possibly inadvertent, cheating situation.\n",
    "\n",
    "We are here to help!  Visit HW Hours and/or post questions on Piazza!\n"
   ]
  },
  {
   "cell_type": "markdown",
   "id": "24b45ac0",
   "metadata": {},
   "source": [
    "#### Grading\n",
    "Grading is broken down into autograded answers and manually graded answers. \n",
    "\n",
    "For autograded answers, the results of your code are compared to provided and/or hidden tests.\n",
    "\n",
    "For manually graded answers you must show and explain all steps.  Graders will evaluate how well you answered the question and/or fulfilled the requirements of the question.\n",
    "\n",
    "\n",
    "### Score breakdown\n",
    "\n",
    "\n",
    "\n",
    "Question | Points | Grading Type\n",
    "--- | --- | ---\n",
    "Question 1 | 5 | autograded |\n",
    "Question 2 | 13 | autograded & manual |\n",
    "Question 3 | 15 | autograded & manual |\n",
    "Question 4 | 10 | manual |\n",
    "Question 5 | 7 | autograded & manual|\n",
    "|Total | 50\n",
    "\n",
    "\n",
    "## Assigned Readings for this HW:\n",
    "- [CS109 Course Reader: Independence](https://chrispiech.github.io/probabilityForComputerScientists/en/part1/independence/)\n",
    "- [CS109 Course Reader: Independence in Variables](https://chrispiech.github.io/probabilityForComputerScientists/en/part3/independent_vars/)\n",
    "- [CS109 Course Reader: Random Variables](https://chrispiech.github.io/probabilityForComputerScientists/en/part2/rvs/)\n",
    "- [CS109 Course Reader: Probability Mass Functions (PMF)](https://chrispiech.github.io/probabilityForComputerScientists/en/part2/pmf/)\n",
    "- [CS109 Course Reader: Many Head Flips](https://chrispiech.github.io/probabilityForComputerScientists/en/part1/many_flips/)\n",
    "- [CS109 Course Reader: Expectation](https://chrispiech.github.io/probabilityForComputerScientists/en/part2/expectation/)\n",
    "- [CS109 Course Reader: Variance](https://chrispiech.github.io/probabilityForComputerScientists/en/part2/variance/)\n",
    "- [CS109 Course Reader: Binomial Distribution](https://chrispiech.github.io/probabilityForComputerScientists/en/part2/binomial/)"
   ]
  },
  {
   "cell_type": "markdown",
   "id": "c0eec3bc",
   "metadata": {
    "tags": []
   },
   "source": [
    "<a id='top'></a>\n",
    "---\n",
    "**Shortcuts:**  [Problem 2](#p2) | [Problem 3](#p3) | [Problem 4](#p4) | [Problem 5](#p4) | \n",
    "---\n",
    "<hr style=\"border: 5px solid #003262;\" />\n",
    "<hr style=\"border: 1px solid #fdb515;\" />\n",
    "\n"
   ]
  },
  {
   "cell_type": "code",
   "execution_count": 117,
   "id": "931c6bb1",
   "metadata": {
    "scrolled": true,
    "tags": []
   },
   "outputs": [],
   "source": [
    "# Run this cell to start\n",
    "\n",
    "import pandas as pd\n",
    "import numpy as np\n",
    "import hashlib\n",
    "import matplotlib.pylab as plt\n",
    "%matplotlib inline\n",
    "\n",
    "\n",
    "def get_hash(num):\n",
    "    \"\"\"Helper function for assessing correctness\"\"\"\n",
    "    return hashlib.md5(str(num).encode()).hexdigest()\n",
    "\n",
    "# Create a Generator instance:\n",
    "rng = np.random.default_rng()"
   ]
  },
  {
   "cell_type": "markdown",
   "id": "d218bab4-963c-431f-aa4f-2f805a82f276",
   "metadata": {},
   "source": [
    "***\n",
    "\n",
    "<a id='p1'></a>\n",
    "\n",
    "<hr style=\"border: 5px solid #003262;\" />\n",
    "<hr style=\"border: 1px solid #fdb515;\" />\n",
    "\n",
    "## <span style='color:Red'>   Question 1: Independent Events - Video Assignment (5 pts) ## "
   ]
  },
  {
   "cell_type": "markdown",
   "id": "538cd615-cf3f-4213-b6fb-d21d223d45cb",
   "metadata": {},
   "source": [
    "The word \"independent\" in mathematics has a very specific definition (and it turns out it doesn't always correspond to our common use of the English word 'independent').  In this question, we're going to dive into the mathematical definition of what it means for events to be independent or dependent.  \n",
    "\n",
    "#### Complete this [Lesson 9: Independent Events Video Assignment (click this link)](https://canvas.colorado.edu/courses/117881/assignments/2310798) available on Canvas (to receive points you must watch the entire video and answer the embedded questions)."
   ]
  },
  {
   "cell_type": "markdown",
   "id": "b2de5418-ebc3-43cf-8161-a047b0aef0d0",
   "metadata": {},
   "source": [
    "<a id='p2'></a>\n",
    "<hr style=\"border: 5px solid #003262;\" />\n",
    "<hr style=\"border: 1px solid #fdb515;\" />\n",
    "\n",
    "## <span style='color:Red'>  Question 2 (13 points)\n",
    "    \n",
    "Suppose you roll two fair, 6-sided dice. \n",
    "\n",
    "Let $D_1$ be the random variable that denotes the outcome of the first die.  \n",
    "\n",
    "Let $D_2$ be the random variable that denotes the outcome of the second die. \n",
    "\n",
    "Let $S$ be the random variable that denotes the sum of the 2 rolls."
   ]
  },
  {
   "cell_type": "markdown",
   "id": "6b5cf98b-05ba-4a40-8848-edfca3a7a3bf",
   "metadata": {
    "deletable": false,
    "editable": false
   },
   "source": [
    "<hr style=\"border: 5px solid #003262;\" />\n",
    "<hr style=\"border: 1px solid #fdb515;\" />\n",
    "\n",
    "## <span style='color:Red'>  Question 2a (1 point)"
   ]
  },
  {
   "cell_type": "markdown",
   "id": "e785a5c7-d9a6-4352-862b-c9f57d9674de",
   "metadata": {
    "deletable": false,
    "editable": false
   },
   "source": [
    "What is the support of $D_1$?  (that is, what is the set of numbers that are possible values of this random variable)? Give your answer as a python **list**."
   ]
  },
  {
   "cell_type": "code",
   "execution_count": 118,
   "id": "5a42bc4e-b96e-4a33-9a78-2f8060d73c42",
   "metadata": {
    "tags": []
   },
   "outputs": [],
   "source": [
    "d_sup = [i for i in range(1,7)]"
   ]
  },
  {
   "cell_type": "code",
   "execution_count": 119,
   "id": "004265ab",
   "metadata": {
    "deletable": false,
    "editable": false
   },
   "outputs": [
    {
     "data": {
      "text/html": [
       "<p><strong><pre style='display: inline;'>2a</pre></strong> passed! 🌈</p>"
      ],
      "text/plain": [
       "2a results: All test cases passed!"
      ]
     },
     "execution_count": 119,
     "metadata": {},
     "output_type": "execute_result"
    }
   ],
   "source": [
    "grader.check(\"2a\")"
   ]
  },
  {
   "cell_type": "markdown",
   "id": "f9d31c33-dc07-4dcd-affd-3a266a67a5e8",
   "metadata": {},
   "source": [
    "Next we'll make a Pandas series that represents the distribution (aka the probability mass function) of $D_1$.\n",
    "\n",
    "To create a series from scratch in Pandas, with a specific index, you can use the following syntax:"
   ]
  },
  {
   "cell_type": "code",
   "execution_count": 120,
   "id": "42bf488b-f4e7-4a0f-8007-78a2fe60cbb1",
   "metadata": {},
   "outputs": [
    {
     "data": {
      "text/plain": [
       "a    -1\n",
       "b    10\n",
       "c     2\n",
       "dtype: int64"
      ]
     },
     "execution_count": 120,
     "metadata": {},
     "output_type": "execute_result"
    }
   ],
   "source": [
    "s = pd.Series([-1, 10, 2], index = [\"a\", \"b\", \"c\"])\n",
    "s"
   ]
  },
  {
   "cell_type": "markdown",
   "id": "77514710-c8e2-4bd2-b2af-02aae45c6d0e",
   "metadata": {
    "deletable": false,
    "editable": false
   },
   "source": [
    "<hr style=\"border: 5px solid #003262;\" />\n",
    "<hr style=\"border: 1px solid #fdb515;\" />\n",
    "\n",
    "## <span style='color:Red'>  Question 2b (1 point)\n",
    "\n",
    "Create a Pandas **series** that gives the the Probability Mass Function (PMF) of $D_1$. That is, the index of the series is the support of $D_1$ and the values are the probabilities."
   ]
  },
  {
   "cell_type": "code",
   "execution_count": 121,
   "id": "af42a47d-ef0d-4de6-a087-c20e5ef82e75",
   "metadata": {
    "tags": []
   },
   "outputs": [
    {
     "data": {
      "text/plain": [
       "1    0.166667\n",
       "2    0.166667\n",
       "3    0.166667\n",
       "4    0.166667\n",
       "5    0.166667\n",
       "6    0.166667\n",
       "dtype: float64"
      ]
     },
     "execution_count": 121,
     "metadata": {},
     "output_type": "execute_result"
    }
   ],
   "source": [
    "d1_pmf = pd.Series([1/6]*6, index=d_sup)\n",
    "d1_pmf"
   ]
  },
  {
   "cell_type": "code",
   "execution_count": 122,
   "id": "141b54eb",
   "metadata": {
    "deletable": false,
    "editable": false
   },
   "outputs": [
    {
     "data": {
      "text/html": [
       "<p><strong><pre style='display: inline;'>2b</pre></strong> passed! 🙌</p>"
      ],
      "text/plain": [
       "2b results: All test cases passed!"
      ]
     },
     "execution_count": 122,
     "metadata": {},
     "output_type": "execute_result"
    }
   ],
   "source": [
    "grader.check(\"2b\")"
   ]
  },
  {
   "cell_type": "markdown",
   "id": "02b39510-2dd3-45a5-9042-acbfea3ccea1",
   "metadata": {},
   "source": [
    "**Plotting PMFs**\n",
    "\n",
    "You can plot a histogram of the PMF of $D_1$ using the following syntax: \n",
    "\n",
    "**NOTE:** \n",
    " The parameter rot=0 just rotates the labels on the x-axis to be horizontal. "
   ]
  },
  {
   "cell_type": "code",
   "execution_count": 123,
   "id": "dbad2eda-4ad0-4fdb-b572-8a6cb9ff3d51",
   "metadata": {},
   "outputs": [
    {
     "data": {
      "text/plain": [
       "<Axes: >"
      ]
     },
     "execution_count": 123,
     "metadata": {},
     "output_type": "execute_result"
    },
    {
     "data": {
      "image/png": "[encoded data removed]",
      "text/plain": [
       "<Figure size 640x480 with 1 Axes>"
      ]
     },
     "metadata": {},
     "output_type": "display_data"
    }
   ],
   "source": [
    "d1_pmf.plot.bar(rot=0,width=1, ec='white')"
   ]
  },
  {
   "cell_type": "markdown",
   "id": "3b17827c-2caa-439a-804b-f50b230bdb32",
   "metadata": {
    "deletable": false,
    "editable": false
   },
   "source": [
    "<hr style=\"border: 5px solid #003262;\" />\n",
    "<hr style=\"border: 1px solid #fdb515;\" />\n",
    "\n",
    "## <span style='color:Red'>  Question 2c (1 point)\n",
    "    \n",
    "What is the support of $S$?  (that is, what is the set of numbers that are possible values of this random variable)? Give your answer as a python **list**.    "
   ]
  },
  {
   "cell_type": "code",
   "execution_count": 124,
   "id": "bcd59476-0f90-463d-afd7-e004b16b5569",
   "metadata": {
    "tags": []
   },
   "outputs": [
    {
     "data": {
      "text/plain": [
       "[2, 3, 4, 5, 6, 7, 8, 9, 10, 11, 12]"
      ]
     },
     "execution_count": 124,
     "metadata": {},
     "output_type": "execute_result"
    }
   ],
   "source": [
    "s_sup = [i for i in range(2,13)] # YOU CANNOT ROLL 2 DIE AND GET A SUM OF 1 DUM DUM\n",
    "s_sup"
   ]
  },
  {
   "cell_type": "code",
   "execution_count": 125,
   "id": "9f7999c8",
   "metadata": {
    "deletable": false,
    "editable": false
   },
   "outputs": [
    {
     "data": {
      "text/html": [
       "<p><strong><pre style='display: inline;'>2c</pre></strong> passed! 🙌</p>"
      ],
      "text/plain": [
       "2c results: All test cases passed!"
      ]
     },
     "execution_count": 125,
     "metadata": {},
     "output_type": "execute_result"
    }
   ],
   "source": [
    "grader.check(\"2c\")"
   ]
  },
  {
   "cell_type": "markdown",
   "id": "e8958e97-ba60-4c05-9afb-cbdecf3ba092",
   "metadata": {
    "deletable": false,
    "editable": false
   },
   "source": [
    "<hr style=\"border: 5px solid #003262;\" />\n",
    "<hr style=\"border: 1px solid #fdb515;\" />\n",
    "\n",
    "## <span style='color:Red'>  Question 2d (1 point)\n",
    "    \n",
    "Create a **Pandas series** that gives the the PMF of $S$.    That is the index of the series is the support and the values are the probabilities."
   ]
  },
  {
   "cell_type": "code",
   "execution_count": 126,
   "id": "aa387541-a061-4a05-9e5e-680e6ac037a3",
   "metadata": {
    "tags": []
   },
   "outputs": [
    {
     "data": {
      "text/plain": [
       "2     0.027778\n",
       "3     0.055556\n",
       "4     0.083333\n",
       "5     0.111111\n",
       "6     0.138889\n",
       "7     0.166667\n",
       "8     0.138889\n",
       "9     0.111111\n",
       "10    0.083333\n",
       "11    0.055556\n",
       "12    0.027778\n",
       "dtype: float64"
      ]
     },
     "execution_count": 126,
     "metadata": {},
     "output_type": "execute_result"
    }
   ],
   "source": [
    "s_pmf = pd.Series([1/36,2/36,3/36,4/36,5/36,6/36,5/36,4/36,3/36,2/36,1/36], index=s_sup)\n",
    "s_pmf"
   ]
  },
  {
   "cell_type": "code",
   "execution_count": 127,
   "id": "f3cc48bf",
   "metadata": {
    "deletable": false,
    "editable": false
   },
   "outputs": [
    {
     "data": {
      "text/html": [
       "<p><strong><pre style='display: inline;'>2d</pre></strong> passed! ✨</p>"
      ],
      "text/plain": [
       "2d results: All test cases passed!"
      ]
     },
     "execution_count": 127,
     "metadata": {},
     "output_type": "execute_result"
    }
   ],
   "source": [
    "grader.check(\"2d\")"
   ]
  },
  {
   "cell_type": "markdown",
   "id": "5458ea46-2a41-4816-8393-fa11d197bbf1",
   "metadata": {
    "deletable": false,
    "editable": false
   },
   "source": [
    "<!-- BEGIN QUESTION -->\n",
    "\n",
    "<hr style=\"border: 5px solid #003262;\" />\n",
    "<hr style=\"border: 1px solid #fdb515;\" />\n",
    "\n",
    "## <span style='color:Red'>  Question 2e (1 point)\n",
    "    \n",
    "Plot a histogram of the PMF of $S$.\n",
    "(Use the same syntax showed above so that the bin widths are equal to 1, there's a white lines between each value and we can interpret area in the histogram as probabilities. Be sure to label the title and axes.)"
   ]
  },
  {
   "cell_type": "code",
   "execution_count": 128,
   "id": "18e3b475-65b7-4852-b2cc-cf168730a2d1",
   "metadata": {
    "tags": []
   },
   "outputs": [
    {
     "data": {
      "text/plain": [
       "Text(0, 0.5, 'Probabilities of S')"
      ]
     },
     "execution_count": 128,
     "metadata": {},
     "output_type": "execute_result"
    },
    {
     "data": {
      "image/png": "[encoded data removed]",
      "text/plain": [
       "<Figure size 640x480 with 1 Axes>"
      ]
     },
     "metadata": {},
     "output_type": "display_data"
    }
   ],
   "source": [
    "s_pmf.plot.bar(rot=0,width=1, ec='white')\n",
    "\n",
    "plt.title(\"PMF of S\")\n",
    "plt.xlabel(\"Support of S\")\n",
    "plt.ylabel(\"Probabilities of S\")"
   ]
  },
  {
   "cell_type": "markdown",
   "id": "4a2ed5ad-19a1-4ed7-86bd-2b44083cc292",
   "metadata": {
    "deletable": false,
    "editable": false
   },
   "source": [
    "<!-- END QUESTION -->\n",
    "\n",
    "**Independence**\n",
    "\n",
    "Independence is a big deal in machine learning and probabilistic modeling. Knowing the “joint”\n",
    "probability of many events (the probability of the “and” of the events) requires exponential amounts\n",
    "of data. By making independence (and conditional independence) claims, computers can essentially\n",
    "decompose how to calculate the joint probability, making it faster to compute, and requiring less\n",
    "data to learn probabilities.  In this next part of the problem we'll practice with some basic concepts regarding independence.  "
   ]
  },
  {
   "cell_type": "markdown",
   "id": "7e4f03ca-962e-4ab8-85b3-afd80cd08c20",
   "metadata": {
    "deletable": false,
    "editable": false
   },
   "source": [
    "<!-- BEGIN QUESTION -->\n",
    "\n",
    "<hr style=\"border: 5px solid #003262;\" />\n",
    "<hr style=\"border: 1px solid #fdb515;\" />\n",
    "\n",
    "## <span style='color:Red'>  Question 2f (2 points)\n",
    "\n",
    "Are events $D_1 =1$ and $D_2 = 1$ independent or dependent? Justify your answer using the mathematical definition of independence.\n",
    "\n",
    "Write up your full solution in the box below using LaTeX (not code).  Show all steps fully justifying your answers.  "
   ]
  },
  {
   "cell_type": "markdown",
   "id": "5b4a3667",
   "metadata": {},
   "source": [
    "### Answer\n",
    "\n",
    "According to the mathematical definition of independence which states that event E and event F are independent events if:\n",
    "\n",
    "$$\n",
    "P(E,F) = P(E) P(F)\n",
    "$$\n",
    "\n",
    "In this case, $P(E)=P(D_1)$, $P(F)=P(D_2)$\n",
    "\n",
    "$P(D_1) = \\frac{1}{6}$\n",
    "\n",
    "$P(D_2) = \\frac{1}{6}$\n",
    "\n",
    "$P(D_1) P(D_2) = \\frac{1}{36}$\n",
    "\n",
    "Probability of rolling a 1 and another 1 $P(D_1, D_2) = \\frac{1}{36}$\n",
    "\n",
    "Thus,\n",
    "\n",
    "$$\n",
    "P(D_1, D_2) = P(D_1)P(D_2)\n",
    "$$\n",
    "\n",
    "Since they are equal, these are independent events."
   ]
  },
  {
   "cell_type": "markdown",
   "id": "709de997-79dd-446c-aa4f-0377adf23576",
   "metadata": {
    "deletable": false,
    "editable": false
   },
   "source": [
    "<!-- END QUESTION -->\n",
    "\n",
    "<!-- BEGIN QUESTION -->\n",
    "\n",
    "<hr style=\"border: 5px solid #003262;\" />\n",
    "<hr style=\"border: 1px solid #fdb515;\" />\n",
    "\n",
    "## <span style='color:Red'>  Question 2g (2 points)\n",
    "    \n",
    "Are events $D_1 = 3$ and $S=7$ independent or dependent?  Justify your answer using the mathematical definition of independence.\n",
    "\n",
    "Write up your full solution in the box below using LaTeX (not code).  Show all steps fully justifying your answers.  "
   ]
  },
  {
   "cell_type": "markdown",
   "id": "6f092b21",
   "metadata": {},
   "source": [
    "### Answer\n",
    "\n",
    "The mathematical definition of independence states that two events E adn F are independent events if:\n",
    "\n",
    "$$\n",
    "P(E,F) = P(E)P(F)\n",
    "$$\n",
    "\n",
    "In thi scase $P(E)=P(D_1), P(F)=P(S)$\n",
    "\n",
    "Probability fo rolling a $3$: $P(D_1) = \\frac{1}{6}$\n",
    "\n",
    "Probability that the dice sum to $7$: $[(1,6),(6,1),(2,5),(5,2)(3,4),(4,3)]$ out of $36$ possible combos which is $\\frac{6}{36} = \\frac{1}{6}$\n",
    "\n",
    "Thus, $P(S) = \\frac{6}{36} = \\frac{1}{6}$\n",
    "\n",
    "The probability of rolling a $3$ on the first die, and it summing to $7$ is $[(3,4)]$ out of the $36$ possibilities.\n",
    "\n",
    "Thus, $P(D_1, S) = \\frac{1}{36}$\n",
    "\n",
    "Now we can use the formula to check if these are equal:\n",
    "\n",
    "$$\n",
    "P(D_1, S) = \\frac{1}{36} \\\\\n",
    "P(D_1) = \\frac{1}{6} \\\\\n",
    "P(S) = \\frac{1}{6} \\\\\n",
    "P(D_1) P(S) = \\frac{1}{6} \\times \\frac{1}{6} = \\frac{1}{36} \\\\\n",
    "\\frac{1}{36} = \\frac{1}{36}\n",
    "$$\n",
    "\n",
    "Since they are equal, these are independent events."
   ]
  },
  {
   "cell_type": "markdown",
   "id": "181aace4-4f0d-4d2e-9e73-0a15e9a487f9",
   "metadata": {
    "deletable": false,
    "editable": false
   },
   "source": [
    "<!-- END QUESTION -->\n",
    "\n",
    "<!-- BEGIN QUESTION -->\n",
    "\n",
    "<hr style=\"border: 5px solid #003262;\" />\n",
    "<hr style=\"border: 1px solid #fdb515;\" />\n",
    "\n",
    "## <span style='color:Red'>  Question 2h (2 points)\n",
    "    \n",
    "Are events $D_1 = 1$ and $S=6$ independent or dependent?  Justify your answer using the mathematical definition of independence.\n",
    "\n",
    "Write up your full solution in the box below using LaTeX (not code).  Show all steps fully justifying your answers.  "
   ]
  },
  {
   "cell_type": "markdown",
   "id": "182f1c4c",
   "metadata": {},
   "source": [
    "### Answer\n",
    "\n",
    "The mathematical definition of independence states that two events E adn F are independent events if:\n",
    "\n",
    "$$\n",
    "P(E,F) = P(E)P(F)\n",
    "$$\n",
    "\n",
    "The probability of rolling a 1 $P(D_1) = \\frac{1}{6}$\n",
    "\n",
    "The probability of the die summing to six are: $[(1,5), (5,1), (2,4), (4,2), (3,3)]$ out of $36$ possible rolls. Thus, $P(S) = \\frac{5}{36}$\n",
    "\n",
    "The probability of the first die being a $1$ and the die summing to six are $\\frac{1}{36}$ because the only combo possible is $[(1,5)]$.\n",
    "\n",
    "Now we can use the formula to check if they are equal\n",
    "\n",
    "$$\n",
    "P(D_1) = \\frac{1}{6} \\\\\n",
    "P(S) = \\frac{5}{36} \\\\\n",
    "P(D_1, S) = \\frac{1}{36}\\\\\n",
    "P(D_1)P(S) = \\frac{1}{6} \\times \\frac{5}{36} = \\frac{5}{216}\n",
    "\\frac{1}{36} \\ne \\frac{5}{216}\n",
    "$$\n",
    "\n",
    "Since they are not equal, these are dependent events.\n"
   ]
  },
  {
   "cell_type": "markdown",
   "id": "f2718c2a-b9a9-47ca-bf18-609be3c0ec49",
   "metadata": {
    "deletable": false,
    "editable": false
   },
   "source": [
    "<!-- END QUESTION -->\n",
    "\n",
    "<!-- BEGIN QUESTION -->\n",
    "\n",
    "<hr style=\"border: 5px solid #003262;\" />\n",
    "<hr style=\"border: 1px solid #fdb515;\" />\n",
    "\n",
    "## <span style='color:Red'>  Question 2i (2 points)\n",
    "    \n",
    "Are the **random variables** $D_1$ and $S$ independent or dependent?  Justify your answer using the definition of independent random variables.\n",
    "\n",
    "Write up your full solution in the box below using LaTeX (not code).  Show all steps fully justifying your answers.  "
   ]
  },
  {
   "cell_type": "markdown",
   "id": "ab060d69",
   "metadata": {},
   "source": [
    "### Answer\n",
    "\n",
    "Independent random variables can be mathematically defined as:\n",
    "\n",
    "for all $x,y$:\n",
    "$$\n",
    "P(X=x, Y=y) = P(X=x) P(Y=y) \\\\\n",
    "P(X=x \\mid Y=y) = P(X=x) \\ \\text{or} \\ P(Y=y \\mid X=x) = P(Y=y)\n",
    "$$\n",
    "\n",
    "This basically states that knowing the value of $X$ tells us nothing about the distribution of $Y$.\n",
    "\n",
    "In the last three questions, 2f and 2g were independent events but question 2h was not independent.\n",
    "\n",
    "For $D_1$ and $S$ to be completely independent events, all events $X=x, Y=y$ must be independent for $D_1$ and $S$ to be independent random variables.\n",
    "\n",
    "Since we came up with one event that was dependent, they cannot be independent random variables."
   ]
  },
  {
   "cell_type": "markdown",
   "id": "f630e550",
   "metadata": {
    "deletable": false,
    "editable": false
   },
   "source": [
    "<!-- END QUESTION -->\n",
    "\n",
    "<a id='p3'></a>\n",
    "\n",
    "<hr style=\"border: 5px solid #003262;\" />\n",
    "<hr style=\"border: 1px solid #fdb515;\" />\n",
    "\n",
    "## <span style='color:Red'>  Question 3 (16 points)\n",
    "\n",
    "\n",
    "\n",
    "A roulette wheel in the U.S. contains 38 equally sized spaces. The wheel is spun and a ball randomly lands in one of these spaces. Two spaces are green and have numbers 0 and 00 on them. The other spaces are numbered from 1 to 36. Half of these remaining spaces are red and half of them are black. Different wagers can be made on where the ball will end up landing. \n",
    "\n",
    "You can place bets on various number/color combinations and each type of bet pays-out at a different rate.  \n",
    "\n",
    "We define **net winnings** to be the amount you win minus the amount you paid to play.\n",
    "\n",
    "For example: \n",
    "\n",
    "- If you bet $\\$1$ on red (or black) and win, then your **net winnings** is $\\$1$ (i.e. you get your original dollar back, plus $\\$1$).\n",
    "- If you bet $\\$1$ on red (or black) and lose, then your **net winnings** is -$\\$1$ (i.e. you lose your original dollar).  \n",
    "- If you bet $\\$1$ any particular number and win, then your **net winnings** is $\\$35$ (i.e you get your original dollar back, plus $\\$35$). \n",
    "- If you bet $\\$1$ on the first dozen (or second dozen, or third dozen) nonzero numbers and win, then your **net winnings** is $\\$2$ (i.e. you get your original dollar back, plus another $\\$2$. \n",
    "\n",
    "<img src=\"img/roulette_wheel.jpeg\" width=\"330px\">\n",
    "\n",
    "It seems like there are so many ways to win!  In reality, some very careful probability theory was done by the game designers to ensure that there is not much difference in any particular payout.  We'll explore roulette both by simulation and by hand in this exercise. "
   ]
  },
  {
   "cell_type": "markdown",
   "id": "a526842e",
   "metadata": {
    "deletable": false,
    "editable": false
   },
   "source": [
    "<!-- BEGIN QUESTION -->\n",
    "\n",
    "<hr style=\"border: 5px solid #003262;\" />\n",
    "<hr style=\"border: 1px solid #fdb515;\" />\n",
    "\n",
    "## <span style='color:Red'>  Question 3a (3 points)\n",
    "\n",
    "We define **net winnings** to be the amount you win minus the amount you paid to play.\n",
    "\n",
    "Let $X$ be a random variable that gives your **net winnings if you bet on red** and the roulette wheel is **spun once**.   \n",
    "\n",
    "**i).**  What is the probability distribution (aka Probability Mass Function) of $X$?  Give your answer as a Markdown table.  \n",
    "\n",
    " - Tip:  To create Markdown tables that will compile when you create the PDF in this assignment, please refer to this syntax guide: https://www.markdownguide.org/extended-syntax/#tables.   Make sure you have a blank line before starting any tables, otherwise they won’t compile correctly in the PDF.\n",
    "\n",
    "\n",
    "\n",
    "**ii).**  Calculate the **expected value** of your net winnings by betting on red.   \n",
    "\n",
    "**iii).** Calculate the **variance** of your net winnings by betting on red.\n",
    "\n",
    "Write up your full solution to all 3 parts in the SAME box below using Markdown and LaTeX (not code).  Show all steps fully justifying your answer.  \n",
    "    \n"
   ]
  },
  {
   "cell_type": "markdown",
   "id": "a9d85081",
   "metadata": {},
   "source": [
    "### Answer\n",
    "\n",
    "**i)** The PMF of $X$ is as follows:\n",
    "\n",
    "| k  | P(X=k) |\n",
    "| -- | ------ |\n",
    "| 1  | 18/38  |\n",
    "| -1 | 20/38  |\n",
    "\n",
    "**ii)** The expected value $\\mathbb{E}[X]$ is\n",
    "\n",
    "$$\n",
    "1 \\cdot \\frac{18}{38} + (-1) \\cdot \\frac{20}{38} = -\\frac{1}{19}\n",
    "$$\n",
    "\n",
    "**iii)** To find the variance, we can use the formula $Var(X) = E[X]^2 - (E[X])^2$\n",
    "\n",
    "$$\n",
    "E[X]^2 = (1)^2(\\frac{18}{38}) + (-1)^2(\\frac{20}{38}) = 1 \\\\\n",
    "(E[X])^2 = (-\\frac{1}{19})^2 = \\frac{1}{361} \\\\\n",
    "1-\\frac{1}{361} = \\frac{360}{361} \\approx 0.997\n",
    "$$\n"
   ]
  },
  {
   "cell_type": "markdown",
   "id": "f44e3ed5",
   "metadata": {
    "deletable": false,
    "editable": false
   },
   "source": [
    "<!-- END QUESTION -->\n",
    "\n",
    "<hr style=\"border: 5px solid #003262;\" />\n",
    "<hr style=\"border: 1px solid #fdb515;\" />\n",
    "\n",
    "## <span style='color:Red'>  Question 3b (2 points)\n",
    "\n",
    "Let's simulate this.  In the first code box below, write code to simulate one spin of a roulette wheel. Your code should take in a single variable `num_spins` and return an array of roulette spins of that length **WITHOUT USING A LOOP**.  Your output should be an array of strings in the form of the number then the color (i.e. `array(['18R', '00G',...])`) \n",
    "\n",
    "In the 2nd code box below, write code that takes the number of spins and either the color red or black as input, calculates winnings for each spin assuming you bet on that color for all spins, and then outputs the average winnings out of those spins.  \n",
    "\n",
    "Then run the simulation for `num_spins` = 10,000,000  and compare to your answer from part A.\n",
    "\n",
    "**To receive credit you must write your code such that all lines are visible in your PDF output.**"
   ]
  },
  {
   "cell_type": "code",
   "execution_count": 129,
   "id": "fc313e5a",
   "metadata": {
    "tags": []
   },
   "outputs": [
    {
     "data": {
      "text/plain": [
       "array(['21R', '30R', '8B', '17B', '34R'], dtype='<U3')"
      ]
     },
     "execution_count": 129,
     "metadata": {},
     "output_type": "execute_result"
    }
   ],
   "source": [
    "def spin_roulette(num_spins): \n",
    "    red = [str(ii)+\"R\" for ii in [1,3,5,7,9,12,14,16,18,19,21,23,25,27,30,32,34,36]]\n",
    "    black = [str(ii)+\"B\" for ii in [2,4,6,8,10,11,13,15,17,20,22,24,26,28,29,31,33,35]]\n",
    "    green = [str(ii)+\"G\" for ii in [\"00\", \"0\"]]\n",
    "    \n",
    "    wheel = red+black+green\n",
    "    \n",
    "    return rng.choice(wheel,size=num_spins)\n",
    "# Your code above this line\n",
    "\n",
    "spin_roulette(5)\n"
   ]
  },
  {
   "cell_type": "code",
   "execution_count": 130,
   "id": "0b3ccbc3",
   "metadata": {
    "tags": []
   },
   "outputs": [
    {
     "name": "stdout",
     "output_type": "stream",
     "text": [
      "E[Winnings] = -0.053\n"
     ]
    }
   ],
   "source": [
    "def color_winnings(color='R', num_spins=100000):\n",
    "    \n",
    "    win = spin_roulette(num_spins)\n",
    "    \n",
    "    count_wins = len([red for red in win if 'R' in red])\n",
    "    count_loss = num_spins-count_wins\n",
    "\n",
    "    return (1*count_wins+(-1)*count_loss)/num_spins\n",
    "\n",
    "# Your code above this line\n",
    "    \n",
    "print(\"E[Winnings] = {:.3f}\".format(color_winnings(color=\"R\", num_spins=int(1e7))))"
   ]
  },
  {
   "cell_type": "code",
   "execution_count": 131,
   "id": "78afa79c",
   "metadata": {
    "deletable": false,
    "editable": false
   },
   "outputs": [
    {
     "data": {
      "text/html": [
       "<p><strong><pre style='display: inline;'>q3b</pre></strong> passed! 🙌</p>"
      ],
      "text/plain": [
       "q3b results: All test cases passed!"
      ]
     },
     "execution_count": 131,
     "metadata": {},
     "output_type": "execute_result"
    }
   ],
   "source": [
    "grader.check(\"q3b\")"
   ]
  },
  {
   "cell_type": "markdown",
   "id": "d0526ce7",
   "metadata": {
    "deletable": false,
    "editable": false
   },
   "source": [
    "<!-- BEGIN QUESTION -->\n",
    "\n",
    "<hr style=\"border: 5px solid #003262;\" />\n",
    "<hr style=\"border: 1px solid #fdb515;\" />\n",
    "\n",
    "## <span style='color:Red'>  Question 3c (3 points)\n",
    "\n",
    "In Roulette you can bet on one of three \"dozens\" segments, called 1st 12, 2nd 12, and 3rd 12. They cover 1-12, 13-24, and 25-36, respectively.   If you bet $\\$1$ on the first dozen (or second dozen, or third dozen) nonzero numbers and win, then your **net winnings is** $\\$2$ (i.e. you get your original dollar back, plus another $\\$2$. \n",
    "\n",
    "\n",
    "Let $Y$ be a random variable that gives your **net winnings** if you bet on any one of the three \"dozen\" nonzero numbers and the roulette wheel is spun once.  \n",
    "\n",
    "i).  What is the probability distribution of $Y$?  Give your answer as a table. \n",
    "\n",
    "ii).  What is $E[Y]$?\n",
    "\n",
    "iii). What is $Var[Y]$?\n",
    "\n",
    "Write up your full solution to all 3 parts above in the SAME box below using LaTeX (not code).  Show all steps fully justifying your answer.  "
   ]
  },
  {
   "cell_type": "markdown",
   "id": "4583e858",
   "metadata": {},
   "source": [
    "### Answer\n",
    "\n",
    "**i)** Probability distribution of $Y$. If we win, we get our original dollar back plus 1 (so, $2). If we lose, we just lose our original dollar :(\n",
    "\n",
    "Since we can choose either the first, second or third dozen, we can write a formula for just one of the dozens which should apply to all of them.\n",
    "\n",
    "| k  | P(Y=k) |\n",
    "| -- | ------ |\n",
    "| 2  | 12/38  |\n",
    "| -1 | 26/38  |\n",
    "\n",
    "**ii)** $\\mathbb{E}[Y]$ is\n",
    "\n",
    "$$\n",
    "2 \\cdot \\frac{12}{38} + (-1) \\cdot \\frac{26}{38} = -\\frac{1}{19}\n",
    "$$\n",
    "\n",
    "**iii)** $Var[Y] = E[Y] - (E[Y])^2$\n",
    "\n",
    "$$\n",
    "(E[Y])^2 = (2)^2(\\frac{12}{38}) + (-1)^2(\\frac{26}{38}) = \\frac{37}{19} \\\\\n",
    "E[Y]^2 = (\\frac{-14}{19})^2 = \\frac{196}{361} \\\\\n",
    "Var(Y) = \\frac{37}{19}-\\frac{196}{361} = \\frac{507}{361} \\approx 1.404\n",
    "$$"
   ]
  },
  {
   "cell_type": "markdown",
   "id": "70be4034",
   "metadata": {
    "deletable": false,
    "editable": false
   },
   "source": [
    "<!-- END QUESTION -->\n",
    "\n",
    "<hr style=\"border: 5px solid #003262;\" />\n",
    "<hr style=\"border: 1px solid #fdb515;\" />\n",
    "\n",
    "## <span style='color:Red'>  Question 3d (2 points)\n",
    "\n",
    "Write code to simulate `num_spins` spins, record the winnings for each spin if you bet on the first dozen nonzero numbers, and calculate the average winnings out of the total spins.\n",
    "\n",
    "Then run the simulation for `num_spins` = 10,000,000  and compare to your answer from part C.  \n"
   ]
  },
  {
   "cell_type": "code",
   "execution_count": 132,
   "id": "4915dccd",
   "metadata": {
    "tags": []
   },
   "outputs": [
    {
     "name": "stdout",
     "output_type": "stream",
     "text": [
      "E[Winnings] = -0.052\n"
     ]
    }
   ],
   "source": [
    "def dozen_winnings(num_spins):\n",
    "    spins = spin_roulette(num_spins)\n",
    "    first_dozen = [int(spin[:-1]) for spin in spins]\n",
    "    \n",
    "    count_wins = len([i for i in first_dozen if i in range(1,13)])\n",
    "    count_loss = num_spins-count_wins\n",
    "    \n",
    "    return (2*count_wins+(-1)*count_loss)/num_spins\n",
    "\n",
    "# Your code above this line\n",
    "    \n",
    "print(\"E[Winnings] = {:.3f}\".format(dozen_winnings(num_spins=int(1e7))))"
   ]
  },
  {
   "cell_type": "code",
   "execution_count": 133,
   "id": "188aa5d4",
   "metadata": {
    "deletable": false,
    "editable": false
   },
   "outputs": [
    {
     "data": {
      "text/html": [
       "<p><strong><pre style='display: inline;'>q3d</pre></strong> passed! 🌟</p>"
      ],
      "text/plain": [
       "q3d results: All test cases passed!"
      ]
     },
     "execution_count": 133,
     "metadata": {},
     "output_type": "execute_result"
    }
   ],
   "source": [
    "grader.check(\"q3d\")"
   ]
  },
  {
   "cell_type": "markdown",
   "id": "fe45bd4a",
   "metadata": {
    "deletable": false,
    "editable": false
   },
   "source": [
    "<!-- BEGIN QUESTION -->\n",
    "\n",
    "<hr style=\"border: 5px solid #003262;\" />\n",
    "<hr style=\"border: 1px solid #fdb515;\" />\n",
    "\n",
    "## <span style='color:Red'>  Question 3e (3 points)\n",
    "    \n",
    "Recall, we showed in class that the expected value of your net winnings if you bet on any number is also $\\$-\\dfrac{1}{19}$.    \n",
    "\n",
    "So  you're hopefully onto the pattern by now.  The net winnings in Roulette are designed so that the expected value of the net winnings is always $-\\dfrac{1}{19}$ (i.e. on average the gambler loses money and the casino makes money).  \n",
    "\n",
    "Since we define these in terms of your net winnings after betting $1, we can think of these as net winning odds.  \n",
    "\n",
    "For example, since if you bet $\\$1$ on the first dozen nonzero numbers and win, then your net winnings are $\\$2$, we say the odds are 2 to 1 (denoted 2:1).   \n",
    "\n",
    "The odds are 35:1 for landing on any particular number.  This means if you bet $\\$1$, your net winnings will be $35.\n",
    " \n",
    " \n",
    "Suppose the casino wanted to develop odds for a new bet in Roulette, where they allow you to bet on any set of 3 different numbers.   Let the odds for this new bet be $$x:1$$ ( This means if you bet $\\$1$, your net winnings will be $\\$x$).  \n",
    "\n",
    "What should $\\$x$ be so that the expected value of the net winnings is still $-\\dfrac{1}{19}$?.\n",
    "\n",
    "Show your work using LaTeX below.  "
   ]
  },
  {
   "cell_type": "markdown",
   "id": "67b5bb33",
   "metadata": {},
   "source": [
    "### Answer\n",
    "\n",
    "We can write this using a table:\n",
    "\n",
    "| k  | P(X=k) |\n",
    "| -- | -----  |\n",
    "| x  | 3/38   |\n",
    "| -1 | 35/38  |\n",
    "\n",
    "We want the expected value of the net winnings to be $-\\frac{1}{19}$. Thus we can use the formula for expected value to get the value of $x$\n",
    "\n",
    "$$\n",
    "x \\cdot \\frac{3}{38} + (-1) \\cdot \\frac{35}{38} = -\\frac{1}{19} \\\\\n",
    "\\frac{3}{38}x = \\frac{33}{38} \\\\\n",
    "x = \\frac{33}{3} = 11\n",
    "$$\n",
    "\n",
    "Thus, if you bet $\\$ 1$ on a set of three different numbers and win, then your net winnings should be 11:1."
   ]
  },
  {
   "cell_type": "markdown",
   "id": "bd9e64db",
   "metadata": {
    "deletable": false,
    "editable": false
   },
   "source": [
    "<!-- END QUESTION -->\n",
    "\n",
    "<!-- BEGIN QUESTION -->\n",
    "\n",
    "<hr style=\"border: 5px solid #003262;\" />\n",
    "<hr style=\"border: 1px solid #fdb515;\" />\n",
    "\n",
    "## <span style='color:Red'>  Question 3f (2 points)\n",
    "    \n",
    "Let's generalize this!   \n",
    "\n",
    "Define a function $x(n)$ that describes the odds the casino should give for betting $\\$1$ on any set of $n$ numbers if the casino wants to keep the expected value of the net winnings at $-\\frac{1}{19}$ for $0 < n \\leq 36$.   (For example, the odds for betting on any 3 different numbers should be set at $x(3)$ to $1$.  The odds for betting on any 4 different numbers should be set at $x(4)$ to $1$).   \n",
    "\n",
    "Write your solution in the cell below:\n"
   ]
  },
  {
   "cell_type": "markdown",
   "id": "90721bc5",
   "metadata": {},
   "source": [
    "### Answer\n",
    "\n",
    "We already did this for when $n=3$, and concluded that the odds would be 11:1.\n",
    "\n",
    "What would the odds be when $n=2$?\n",
    "\n",
    "$$\n",
    "x \\cdot \\frac{2}{38} + (-1) \\cdot \\frac{36}{38} = -\\frac{1}{19} \\\\\n",
    "\\frac{2}{38}x = \\frac{17}{19} \\\\\n",
    "x = 17\n",
    "$$\n",
    "\n",
    "Thus, when $n=2$, it would be a 17:1 odds.\n",
    "\n",
    "Now, we can see that the general form of the equation would look like:\n",
    "\n",
    "$$\n",
    "\\frac{n}{38}x + (-1)\\frac{38-n}{38} = -\\frac{1}{19}\n",
    "$$\n",
    "\n",
    "Solving for $x$ and we get:\n",
    "\n",
    "$$\n",
    "\\frac{n}{38}x + (-1)\\frac{38-n}{38} = -\\frac{1}{19} \\\\\n",
    "\\frac{n}{38}+(-1)(1-\\frac{n}{38}) = -\\frac{1}{19} \\\\ \n",
    "\\frac{nx}{38}-1+\\frac{n}{38} = -\\frac{1}{19} \\\\\n",
    "\\frac{nx}{38}+\\frac{n}{38} = \\frac{18}{19} \\\\\n",
    "\\frac{n}{38}(x+1) = \\frac{18}{19} \\\\\n",
    "n(x+1) = 36 \\\\\n",
    "x+1 = \\frac{36}{n} \\\\\n",
    "x = \\frac{36}{n}-1\n",
    "$$\n",
    "\n",
    "We can check this by plugging in $n=3$, and $n=2$ to see if we get the same answer.\n",
    "\n",
    "$$\n",
    "n = 2 \\\\\n",
    "x = \\frac{36}{2}-1 = 18 - 1 = 17 \\\\\n",
    "n =3 \\\\\n",
    "x = \\frac{36}{3}-1 = 12 -1 = 11\n",
    "$$\n",
    "\n",
    "We have achieved the same answers, and thus the equation works :D"
   ]
  },
  {
   "cell_type": "markdown",
   "id": "3c945c0b",
   "metadata": {
    "deletable": false,
    "editable": false
   },
   "source": [
    "<!-- END QUESTION -->\n",
    "\n",
    "***\n",
    "\n",
    "[Back to top](#top)\n",
    "\n",
    "<a id='p4'></a>\n",
    "\n",
    "<hr style=\"border: 5px solid #003262;\" />\n",
    "<hr style=\"border: 1px solid #fdb515;\" />\n",
    "\n",
    "## <span style='color:Red'>  Question 4 (10 points)\n",
    "\n",
    "\n",
    "Consider the discrete random variable $X$, with probability distribution given by $P(X=k) = 2ak^2-2ak$ for $k = 2, 3, 4$, where $a$ is a constant.\n"
   ]
  },
  {
   "cell_type": "markdown",
   "id": "b16ae08a-3d5f-4915-abbd-b5fad5b017cf",
   "metadata": {
    "deletable": false,
    "editable": false
   },
   "source": [
    "<!-- BEGIN QUESTION -->\n",
    "\n",
    "<hr style=\"border: 5px solid #003262;\" />\n",
    "<hr style=\"border: 1px solid #fdb515;\" />\n",
    "\n",
    "## <span style='color:Red'>  Question 4a (8 points)"
   ]
  },
  {
   "cell_type": "markdown",
   "id": "1e941e70",
   "metadata": {
    "deletable": false,
    "editable": false
   },
   "source": [
    "Answer all of the parts below in the SAME cell below using LaTeX.  Show all of your steps.  \n",
    "\n",
    "**i**).  Determine the value of $a$ such that this defines a valid probability distribution.  Use that value for the rest of the problem.  \n",
    "\n",
    "**ii**).  Calculate $P(X\\leq3)$.\n",
    "\n",
    "**iii**).  What is $E[X]$? (Show steps calculating this).\n",
    "\n",
    "**iv**).  What is the standard deviation of $X$? (Show all steps calculating this).\n",
    "\n",
    "Answer all of the parts above in SINGLE cell provided below using LaTeX."
   ]
  },
  {
   "cell_type": "markdown",
   "id": "d89c04ee",
   "metadata": {},
   "source": [
    "### Answer\n",
    "\n",
    "\n",
    "**i)** The sum of all probabilities must equal one. Therefore, we can write the equation\n",
    "\n",
    "$$\n",
    "P(X=2) + P(X=3) + P(X=4) = 1\n",
    "$$\n",
    "\n",
    "Substituting the expression for $P(X=k)$:\n",
    "\n",
    "$$\n",
    "a(2) + a(3) + a(4) = = 1\n",
    "$$\n",
    "\n",
    "Since we have an expression $2ak^2 - 2ak$ which simplifies to $a(2k^2-2k)$, we can substitute the values in $a()$ with the expression $2k^2-2k$\n",
    "\n",
    "\n",
    "$$\n",
    "a(2(2^2)-2(2)) + a(2(2^3)-2(3)) +a(2(2^4)-2(4)) = 1 \\\\\n",
    "a(4) + a(12) + a(24) = 1 \\\\\n",
    "a(4 + 12 + 24) = 1 \\\\\n",
    "a = \\frac{1}{40}\n",
    "$$\n",
    "\n",
    "**ii)** To find $P(X \\le 3)$, we can just add up the probabilites for each value less than or equal to $3$.\n",
    "\n",
    "$$\n",
    "P(X=2) + P(X=3)  = \\\\\n",
    "a(2(2^2) - 2(2)) + a(2(2^3) - 2(3)) = \\\\\n",
    "a (4 + 12) = \\\\\n",
    "\\frac{1}{40} \\cdot (16) = 0.4\n",
    "$$\n",
    "\n",
    "\n",
    "**iii)** The expected value $\\mathbb{E}[X]$ is given by:\n",
    "\n",
    "$$\n",
    "E(X) = \\sum_{k=2}^4 2k^2-2k \\cdot P(X=k)\n",
    "$$\n",
    "\n",
    "We can also use the following table:\n",
    "\n",
    "| k  | P(X=k) |\n",
    "| -- | ------ |\n",
    "| 2  | 1/10   |\n",
    "| 3  | 3/10   |\n",
    "| 4  | 6/10   |\n",
    "\n",
    "\n",
    "$$\n",
    "E(X) = 2 \\cdot 0.1 + 3 \\cdot 0.3 + 4 \\cdot 0.6 = 3.5\n",
    "$$\n",
    "\n",
    "**iv)** The standard deviation is just the square root of $Var(X)$, so let's find $Var(X)$.\n",
    "\n",
    "\n",
    "The variance $Var(X)$ is given by:\n",
    "\n",
    "$$\n",
    "E(X^2)-(E(X))^2\n",
    "$$\n",
    "\n",
    "Thus, we can plug in the values as so:\n",
    "\n",
    "\n",
    "$$\n",
    "E(X^2) = (2)^2(0.1)+(3)^2(0.3)+(4)^2(0.6) = 12.7 \\\\\n",
    "(E(X))^2 = (3.5)^2 = 12.25 \\\\\n",
    "Var(X) = E(X^2)-(E(X))^2 = 12.7 -12.25 = 0.45\n",
    "$$\n",
    "\n",
    "Thus, the standard deviation would be:\n",
    "\n",
    "$$\n",
    "\\sqrt{0.45}\n",
    "$$"
   ]
  },
  {
   "cell_type": "markdown",
   "id": "fb5da795",
   "metadata": {
    "deletable": false,
    "editable": false
   },
   "source": [
    "<!-- END QUESTION -->\n",
    "\n",
    "To check your answers to 4aiii and 4aiv, enter them below.  Note that this autograder test is not worth any points, it's just for you to check your work above to make sure you're on the right track. "
   ]
  },
  {
   "cell_type": "code",
   "execution_count": 134,
   "id": "745b5d08",
   "metadata": {
    "tags": []
   },
   "outputs": [],
   "source": [
    "expected_value = 3.5\n",
    "standard_deviation= np.sqrt(0.45)"
   ]
  },
  {
   "cell_type": "code",
   "execution_count": 135,
   "id": "c35af4c7",
   "metadata": {
    "deletable": false,
    "editable": false
   },
   "outputs": [
    {
     "data": {
      "text/html": [
       "<p><strong><pre style='display: inline;'>q4_check</pre></strong> passed! 🌈</p>"
      ],
      "text/plain": [
       "q4_check results: All test cases passed!"
      ]
     },
     "execution_count": 135,
     "metadata": {},
     "output_type": "execute_result"
    }
   ],
   "source": [
    "grader.check(\"q4_check\")"
   ]
  },
  {
   "cell_type": "markdown",
   "id": "05898d0d",
   "metadata": {
    "deletable": false,
    "editable": false
   },
   "source": [
    "<!-- BEGIN QUESTION -->\n",
    "\n",
    "<hr style=\"border: 5px solid #003262;\" />\n",
    "<hr style=\"border: 1px solid #fdb515;\" />\n",
    "\n",
    "## <span style='color:Red'>  Question 4b (2 points)"
   ]
  },
  {
   "cell_type": "markdown",
   "id": "8482ec5f",
   "metadata": {
    "deletable": false,
    "editable": false
   },
   "source": [
    "Plot a histogram of the discrete probability distribution for $X$.  \n",
    "\n",
    "Use the same plotting guidelines as shown in Problem 2: \n",
    " - Set the bin widths to be equal to 1 \n",
    " - Add white lines between each bar \n",
    "\n",
    "**Be sure to include a title and label your x and y axes on your plot.**\n"
   ]
  },
  {
   "cell_type": "code",
   "execution_count": 156,
   "id": "fca475bd",
   "metadata": {
    "tags": []
   },
   "outputs": [
    {
     "data": {
      "text/plain": [
       "Text(0, 0.5, 'P(X=k)')"
      ]
     },
     "execution_count": 156,
     "metadata": {},
     "output_type": "execute_result"
    },
    {
     "data": {
      "image/png": "[encoded data removed]",
      "text/plain": [
       "<Figure size 640x480 with 1 Axes>"
      ]
     },
     "metadata": {},
     "output_type": "display_data"
    }
   ],
   "source": [
    "prob_sup = [2,3,4]\n",
    "prob_graph = pd.Series([1/10, 3/10, 6/10], index=prob_sup)\n",
    "\n",
    "prob_graph.plot.bar(rot=0,width=1, ec='white')\n",
    "\n",
    "plt.title(\"Probability distribution for X\")\n",
    "plt.xlabel(\"k\")\n",
    "plt.ylabel(\"P(X=k)\")\n",
    "\n",
    "# Your code for the histogram above this line"
   ]
  },
  {
   "cell_type": "markdown",
   "id": "339bc69c-109f-4928-b923-8d77542303e6",
   "metadata": {
    "deletable": false,
    "editable": false,
    "tags": []
   },
   "source": [
    "<!-- END QUESTION -->\n",
    "\n",
    "***\n",
    "\n",
    "[Back to top](#top)\n",
    "\n",
    "<a id='p5'></a>\n",
    "\n",
    "<hr style=\"border: 5px solid #003262;\" />\n",
    "<hr style=\"border: 1px solid #fdb515;\" />\n",
    "\n",
    "## <span style='color:Red'>  Question 5 (7 points)"
   ]
  },
  {
   "cell_type": "markdown",
   "id": "ce9f6e3d-c1f3-4c00-8a2a-aeee04de15cb",
   "metadata": {},
   "source": [
    "**Sampling With Replacement**\n",
    "\n",
    "\n",
    "Consider a population in which a proportion $p$ of individuals are called \"successes\" (or 1, if you prefer) and the remaining proportion are rudely called \"failures\" (or 0).\n",
    "\n",
    "We can sample from this population **at random with replacement**.  At random with replacement means we randomly choose one individual from the population and record whether or not they are a \"success\" or a \"failure.\"  We then return that individual to the population before sampling again.  \n",
    "\n",
    "(The reason why the individual is returned to the population before the next individual is drawn is to make sure the probability of selecting any particular individual remains the same in future draws).\n",
    "\n",
    "\n",
    "If you draw a sample of size $n$ (where $n$ is some positive integer) at random with replacement from the population, then  probability of drawing $k$ successes and $n-k$ failures is $\\binom{n}{k}p^k(1-p)^{n-k}$, for $0 \\leq k \\leq n$. To reduce writing, we will shorten \"$k$ successes and $n-k$ failures\" to \"$k$ successes\". In other words, \"$k$ successes\" means \"exactly $k$ successes\".\n",
    "\n",
    "Since this random variable shows up in many applications it has an official mathematical name:  It is called a **binomial random variable** and its probability distribution is called a \n",
    " **binomial distribution**.\n",
    "\n",
    "To formalize here's how we write this in mathematical notation: \n",
    "\n",
    " - We write $S\\sim Bin(n, p)$ to represent that **the random variable $S$ is distributed as a Binomial Distribution with parameters $n$ and $p$.**  \n",
    "\n",
    " - The PMF (probability mass function) for $S$ is \n",
    "$P(S = k) = \\binom{n}{k}p^k(1-p)^{n-k}$."
   ]
  },
  {
   "cell_type": "markdown",
   "id": "d91b6c14-7c1f-4951-81b7-73fafb32ed09",
   "metadata": {},
   "source": [
    "**Calculating binomial coefficients in Python**"
   ]
  },
  {
   "cell_type": "markdown",
   "id": "319ff585-5e61-431c-b9eb-ff078fbb6aa2",
   "metadata": {},
   "source": [
    "Factorials and the *binomial coefficients* $\\binom{n}{k} = \\frac{n!}{k!(n-k)!}$ get large very quickly as $n$ gets large. One way to compute them is to use the `SciPy` module `special`. `SciPy` is a collection of Python-based software for math, probability, statistics, science, and engineering."
   ]
  },
  {
   "cell_type": "code",
   "execution_count": 137,
   "id": "945a2f70-167e-439c-8585-e23bd14523bc",
   "metadata": {
    "tags": []
   },
   "outputs": [],
   "source": [
    "from scipy import special"
   ]
  },
  {
   "cell_type": "markdown",
   "id": "0e1c55e6-1ce9-4f66-a2e4-b43680fd83ba",
   "metadata": {
    "tags": []
   },
   "source": [
    "Below are some examples of `special.factorial`:"
   ]
  },
  {
   "cell_type": "code",
   "execution_count": 138,
   "id": "4990206e-5fa5-41d0-8f08-8dd86139083f",
   "metadata": {
    "tags": []
   },
   "outputs": [
    {
     "data": {
      "text/plain": [
       "array([  1.,   2.,   6.,  24., 120.])"
      ]
     },
     "execution_count": 138,
     "metadata": {},
     "output_type": "execute_result"
    }
   ],
   "source": [
    "special.factorial(5)\n",
    "\n",
    "special.factorial(range(1, 6))"
   ]
  },
  {
   "cell_type": "markdown",
   "id": "e698be22-d866-4a09-9499-7c3258777b53",
   "metadata": {
    "tags": []
   },
   "source": [
    "Traditionally, subsets of $k$ individuals out of a population of $n$ individuals are called *combinations*, and so `special.comb(n, k)` evaluates to $\\binom{n}{k}$. \n",
    "\n",
    "Note that we will always use the term *subsets* to mean un-ordered sets. We will use *permutations* in situations where we need to keep track of the order in which the elements appear.\n",
    "\n",
    "\n",
    "Look at the code and output below carefully (including types) to understand how these functions work.\n",
    "\n",
    "\n",
    "https://docs.scipy.org/doc/scipy/reference/generated/scipy.special.comb.html\n",
    "\n"
   ]
  },
  {
   "cell_type": "code",
   "execution_count": 139,
   "id": "89b528da-f3a0-446d-8117-807d370135bc",
   "metadata": {
    "tags": []
   },
   "outputs": [
    {
     "data": {
      "text/plain": [
       "(10.0, 10.0)"
      ]
     },
     "execution_count": 139,
     "metadata": {},
     "output_type": "execute_result"
    }
   ],
   "source": [
    "special.comb(5, 3), special.factorial(5) / (special.factorial(3) * special.factorial(2))"
   ]
  },
  {
   "cell_type": "code",
   "execution_count": 140,
   "id": "623d7385-d8e0-4a3c-95b2-829dc3dcbf4a",
   "metadata": {
    "tags": []
   },
   "outputs": [
    {
     "data": {
      "text/plain": [
       "array([ 1.,  5., 10., 10.,  5.,  1.])"
      ]
     },
     "execution_count": 140,
     "metadata": {},
     "output_type": "execute_result"
    }
   ],
   "source": [
    "special.comb(5, range(6))"
   ]
  },
  {
   "cell_type": "markdown",
   "id": "f3a7cbfa-4966-43d6-892b-02cb9ef6c83f",
   "metadata": {
    "deletable": false,
    "editable": false,
    "tags": []
   },
   "source": [
    "<hr style=\"border: 5px solid #003262;\" />\n",
    "<hr style=\"border: 1px solid #fdb515;\" />\n",
    "\n",
    "## <span style='color:Red'>  Question 5a (1 point)\n",
    "Suppose you sample 100 times at random with replacement from a population in which 26% of the individuals are successes. Write a Python expression that evaluates to the chance that the sample has 20 successes. \n",
    "\n",
    "**Computational note:** Don't import any other libraries; just use the ones already imported and plug into the formula above. It's far from the best way numerically, but it is fine for the numbers involved in this Homework. "
   ]
  },
  {
   "cell_type": "markdown",
   "id": "a2761515-5b17-4fc4-afbd-d8967ced1aff",
   "metadata": {},
   "source": [
    "Binomial distribution formula:\n",
    "\n",
    "$$\n",
    "\\binom{n}{k}p^k(1-p)^{n-k}\n",
    "$$"
   ]
  },
  {
   "cell_type": "code",
   "execution_count": 141,
   "id": "8e123538-037c-4f56-bd63-a803994ed5f6",
   "metadata": {
    "tags": []
   },
   "outputs": [
    {
     "data": {
      "text/plain": [
       "0.036911003560024636"
      ]
     },
     "execution_count": 141,
     "metadata": {},
     "output_type": "execute_result"
    }
   ],
   "source": [
    "n = 100 # number of trials\n",
    "k = 20 # 20 successes\n",
    "p = 0.26 # probability of success\n",
    "\n",
    "prob_5a = special.comb(n, k) * pow(p, k) * pow((1-p), n-k)\n",
    "prob_5a"
   ]
  },
  {
   "cell_type": "code",
   "execution_count": 142,
   "id": "c9a2d7ce",
   "metadata": {
    "deletable": false,
    "editable": false
   },
   "outputs": [
    {
     "data": {
      "text/html": [
       "<p><strong><pre style='display: inline;'>q5a</pre></strong> passed! 🍀</p>"
      ],
      "text/plain": [
       "q5a results: All test cases passed!"
      ]
     },
     "execution_count": 142,
     "metadata": {},
     "output_type": "execute_result"
    }
   ],
   "source": [
    "grader.check(\"q5a\")"
   ]
  },
  {
   "cell_type": "markdown",
   "id": "d7c6833e-195f-47e2-b5be-eced46e9ecf1",
   "metadata": {
    "deletable": false,
    "editable": false,
    "tags": []
   },
   "source": [
    "<hr style=\"border: 5px solid #003262;\" />\n",
    "<hr style=\"border: 1px solid #fdb515;\" />\n",
    "\n",
    "## <span style='color:Red'>  Question 5b (1 point)\n",
    "\n",
    "Complete the cell with a Python expression that evaluates to an array whose elements are the chances of $k$ successes for $k = 0, 1, 2, \\ldots, 100$. That is, `all_probs[k]` should contain $P(S = k)$, where $S$ is the random variable describing the number of successes drawn from the scenario outlined above."
   ]
  },
  {
   "cell_type": "code",
   "execution_count": 143,
   "id": "0bfb1c1b-36be-4d1f-8adf-8100a2d6412c",
   "metadata": {
    "tags": []
   },
   "outputs": [
    {
     "data": {
      "text/plain": [
       "array([0.    , 0.    , 0.    , 0.    , 0.    , 0.    , 0.    , 0.    ,\n",
       "       0.    , 0.    , 0.    , 0.0001, 0.0003, 0.0007, 0.0016, 0.0033,\n",
       "       0.0061, 0.0106, 0.0171, 0.0259, 0.0369, 0.0494, 0.0623, 0.0743,\n",
       "       0.0837, 0.0894, 0.0906, 0.0873, 0.0799, 0.0697, 0.058 , 0.046 ,\n",
       "       0.0349, 0.0252, 0.0175, 0.0116, 0.0073, 0.0045, 0.0026, 0.0015,\n",
       "       0.0008, 0.0004, 0.0002, 0.0001, 0.    , 0.    , 0.    , 0.    ,\n",
       "       0.    , 0.    , 0.    , 0.    , 0.    , 0.    , 0.    , 0.    ,\n",
       "       0.    , 0.    , 0.    , 0.    , 0.    , 0.    , 0.    , 0.    ,\n",
       "       0.    , 0.    , 0.    , 0.    , 0.    , 0.    , 0.    , 0.    ,\n",
       "       0.    , 0.    , 0.    , 0.    , 0.    , 0.    , 0.    , 0.    ,\n",
       "       0.    , 0.    , 0.    , 0.    , 0.    , 0.    , 0.    , 0.    ,\n",
       "       0.    , 0.    , 0.    , 0.    , 0.    , 0.    , 0.    , 0.    ,\n",
       "       0.    , 0.    , 0.    , 0.    , 0.    ])"
      ]
     },
     "execution_count": 143,
     "metadata": {},
     "output_type": "execute_result"
    }
   ],
   "source": [
    "k = np.arange(101)\n",
    "n = 100 # number of trials\n",
    "p = 0.26 # probabiliyt of success\n",
    "# Use 'k' above and np vectorization\n",
    "all_probs = special.comb(n, k) * pow(p, k) * pow((1-p), n-k)\n",
    "np.round(all_probs, 4)"
   ]
  },
  {
   "cell_type": "code",
   "execution_count": 144,
   "id": "802fca78",
   "metadata": {
    "deletable": false,
    "editable": false
   },
   "outputs": [
    {
     "data": {
      "text/html": [
       "<p><strong><pre style='display: inline;'>q5b</pre></strong> passed! 🌟</p>"
      ],
      "text/plain": [
       "q5b results: All test cases passed!"
      ]
     },
     "execution_count": 144,
     "metadata": {},
     "output_type": "execute_result"
    }
   ],
   "source": [
    "grader.check(\"q5b\")"
   ]
  },
  {
   "cell_type": "markdown",
   "id": "868683e5-87ee-492c-aa98-f7132e9f3acc",
   "metadata": {
    "tags": []
   },
   "source": [
    "\n",
    "\n",
    "Using the array of probability values we can plot a histogram of this discrete probability distribution as follows.\n",
    "\n",
    "**NOTE:** We set the bin widths to be equal to 1 and add white lines between each value so that we can interpret area in the histogram as probabilities."
   ]
  },
  {
   "cell_type": "code",
   "execution_count": 145,
   "id": "d19d5279-e7d7-4d90-81f1-09e37a4d0007",
   "metadata": {
    "tags": []
   },
   "outputs": [
    {
     "data": {
      "image/png": "[encoded data removed]",
      "text/plain": [
       "<Figure size 640x480 with 1 Axes>"
      ]
     },
     "metadata": {},
     "output_type": "display_data"
    }
   ],
   "source": [
    "fig, ax = plt.subplots()\n",
    "\n",
    "ax.bar(k, all_probs, width=1, ec='white');\n",
    "ax.set_axisbelow(True)\n",
    "ax.grid(alpha=0.25)\n",
    "plt.xlim(1,60)\n",
    "#Always label your x-axis\n",
    "plt.xlabel(\"k\")\n",
    "#Always label your y-axis\n",
    "plt.ylabel(\"P(S=k)\")\n",
    "\n",
    "#Always include a title\n",
    "plt.title(\"Binomial Distribution, n=100, p=0.26\");"
   ]
  },
  {
   "cell_type": "markdown",
   "id": "f4662e2f-e90c-47b4-a843-5ea6ebef2dac",
   "metadata": {
    "deletable": false,
    "editable": false,
    "tags": []
   },
   "source": [
    "<hr style=\"border: 5px solid #003262;\" />\n",
    "<hr style=\"border: 1px solid #fdb515;\" />\n",
    "\n",
    "## <span style='color:Red'>  Question 5c (1 point)\n",
    "\n",
    "\n",
    "Complete the cell with an expression that evaluates to the chance that the number of successes in the sample is in the interval $26 \\pm 10$ (inclusive on both sides). In other words, determine $P(16 \\leq S \\leq 36)$. **Hint: You might want to apply your Python indexing knowledge here.**\n",
    "\n",
    "**Note: Please assign your answer to `prob_5c`. Because we use an autograder, please make sure your answer is a proportion between 0 and 1, not a percent between 0 and 100.**"
   ]
  },
  {
   "cell_type": "code",
   "execution_count": 146,
   "id": "178c7e0c-40c6-48f6-a635-21881546019c",
   "metadata": {
    "tags": []
   },
   "outputs": [
    {
     "data": {
      "text/plain": [
       "0.9838345682140129"
      ]
     },
     "execution_count": 146,
     "metadata": {},
     "output_type": "execute_result"
    }
   ],
   "source": [
    "prob_5c = sum(all_probs[16:37])/sum(all_probs)\n",
    "prob_5c"
   ]
  },
  {
   "cell_type": "code",
   "execution_count": 147,
   "id": "1bec9f23",
   "metadata": {
    "deletable": false,
    "editable": false
   },
   "outputs": [
    {
     "data": {
      "text/html": [
       "<p><strong><pre style='display: inline;'>q5c</pre></strong> passed! 🎉</p>"
      ],
      "text/plain": [
       "q5c results: All test cases passed!"
      ]
     },
     "execution_count": 147,
     "metadata": {},
     "output_type": "execute_result"
    }
   ],
   "source": [
    "grader.check(\"q5c\")"
   ]
  },
  {
   "cell_type": "markdown",
   "id": "773865d2-34d7-44f8-b72f-235e4e6d7d7e",
   "metadata": {
    "tags": []
   },
   "source": [
    "Consider (once again) a sample of size $n$ drawn at random with replacement from a population in which a proportion $p$ of the individuals are called successes.\n",
    "\n",
    "Let $S$ be the random variable that denotes the number of successes in our sample. (As stated above, $S$ follows the **binomial distribution**.) Then, the probability that the number of successes in our sample is **at most** $s$ (where $0 \\leq s \\leq n$) is\n",
    "\n",
    "$$P(S \\leq s) = P(S = 0) + P(S = 1) + ... + P(S = s) = \\sum_{k=0}^s \\binom{n}{k}p^k(1-p)^{n-k}$$\n",
    "\n",
    "We obtain this by summing the probability that the number of successes is exactly $k$, for each value of $k = 0, 1, 2, ..., s$.\n",
    "\n",
    "We have a special name for the function $F(s) = P(S \\leq s)$, for any given random variable $S$.   \n",
    "\n",
    "It is called the **Cumulative Distribution Function (CDF)** of $S$."
   ]
  },
  {
   "cell_type": "markdown",
   "id": "1cc7008d-ef23-455b-8ca5-a737c31addb7",
   "metadata": {
    "deletable": false,
    "editable": false,
    "tags": []
   },
   "source": [
    "<hr style=\"border: 5px solid #003262;\" />\n",
    "<hr style=\"border: 1px solid #fdb515;\" />\n",
    "\n",
    "## <span style='color:Red'>  Question 5d (2 points)\n",
    "\n",
    "Please fill in the function `cdf_S` which takes $n$, $p$, and $s$ and returns $P(S \\le s)$ as defined above. \n",
    "\n",
    "If the inputs are invalid, for instance, if $p > 1$ OR $s > n$ then return 0. \n",
    "\n"
   ]
  },
  {
   "cell_type": "code",
   "execution_count": 148,
   "id": "3f1e8be1-40d3-44a2-a71d-afbda95d6803",
   "metadata": {
    "tags": []
   },
   "outputs": [],
   "source": [
    "def cdf_S(n, p, s):\n",
    "    \"\"\" \n",
    "    returns the probability of S <= s\n",
    "    Input n: sample size; p : proportion; s: number of successes at most\"\"\"\n",
    "    \n",
    "    summations = []\n",
    "    k=0\n",
    "    \n",
    "    for k in range(s+1):\n",
    "        calculate_s = special.comb(n, k) * pow(p, k) * pow(1-p, n-k)\n",
    "        \n",
    "        if p > 1 or s > n:\n",
    "            return 0\n",
    "        else:\n",
    "            summations.append(calculate_s)\n",
    "    \n",
    "    return sum(summations)\n",
    "    \n",
    "    # Your code above this line"
   ]
  },
  {
   "cell_type": "code",
   "execution_count": 149,
   "id": "852d0bfc",
   "metadata": {
    "deletable": false,
    "editable": false
   },
   "outputs": [
    {
     "data": {
      "text/html": [
       "<p><strong><pre style='display: inline;'>q5d</pre></strong> passed! ✨</p>"
      ],
      "text/plain": [
       "q5d results: All test cases passed!"
      ]
     },
     "execution_count": 149,
     "metadata": {},
     "output_type": "execute_result"
    }
   ],
   "source": [
    "grader.check(\"q5d\")"
   ]
  },
  {
   "cell_type": "markdown",
   "id": "98e415c3-7ad0-4849-b8e3-1a5060e22426",
   "metadata": {
    "deletable": false,
    "editable": false,
    "tags": []
   },
   "source": [
    "<hr style=\"border: 5px solid #003262;\" />\n",
    "<hr style=\"border: 1px solid #fdb515;\" />\n",
    "\n",
    "## <span style='color:Red'>  Question 5e (1 point)\n",
    "    \n",
    "Suppose in a particular an election, supporters of Candidate C are in a minority. Only 45% of the voters in the population favor the candidate.\n",
    "\n",
    "Suppose a survey organization takes a sample of 200 voters at random with replacement from this population. Use `cdf_S` to write an expression that evaluates to the chance that a majority (more than half) of the sampled voters favor Candidate C."
   ]
  },
  {
   "cell_type": "code",
   "execution_count": 150,
   "id": "a17fa5ba-9a94-40a4-8134-888a8275cbb6",
   "metadata": {
    "tags": []
   },
   "outputs": [
    {
     "data": {
      "text/plain": [
       "0.06807524986263847"
      ]
     },
     "execution_count": 150,
     "metadata": {},
     "output_type": "execute_result"
    }
   ],
   "source": [
    "p_majority = 1-cdf_S(n=200, p=0.45, s=100)\n",
    "p_majority"
   ]
  },
  {
   "cell_type": "code",
   "execution_count": 151,
   "id": "688df86a",
   "metadata": {
    "deletable": false,
    "editable": false
   },
   "outputs": [
    {
     "data": {
      "text/html": [
       "<p><strong><pre style='display: inline;'>q5e</pre></strong> passed! 💯</p>"
      ],
      "text/plain": [
       "q5e results: All test cases passed!"
      ]
     },
     "execution_count": 151,
     "metadata": {},
     "output_type": "execute_result"
    }
   ],
   "source": [
    "grader.check(\"q5e\")"
   ]
  },
  {
   "cell_type": "markdown",
   "id": "b7699621-fd9f-4042-931f-dfea778fba4a",
   "metadata": {
    "deletable": false,
    "editable": false,
    "tags": []
   },
   "source": [
    "<hr style=\"border: 5px solid #003262;\" />\n",
    "<hr style=\"border: 1px solid #fdb515;\" />\n",
    "\n",
    "## <span style='color:Red'>  Question 5f (1 point)\n",
    "Suppose each of five survey organizations takes a sample of voters at random with replacement from the population of voters in Part **e**, independently of the samples drawn by the other organizations. \n",
    "\n",
    "- Three of the organizations use a sample size of 200\n",
    "- One organization uses a sample size of 300\n",
    "- One organization uses a sample size of 400\n",
    "\n",
    "Write an expression that evaluates to the chance that **in at least one of the five samples,** the majority of voters favor Candidate C. You can use any quantity or function defined earlier in this exercise."
   ]
  },
  {
   "cell_type": "code",
   "execution_count": 152,
   "id": "ea075db4-0ca5-4695-80df-0d30cd530924",
   "metadata": {
    "tags": []
   },
   "outputs": [
    {
     "data": {
      "text/plain": [
       "0.23550361568442357"
      ]
     },
     "execution_count": 152,
     "metadata": {},
     "output_type": "execute_result"
    }
   ],
   "source": [
    " # probability that the majority of sampled voters favor candidate C w/ different sample sizes\n",
    "s_200 = cdf_S(n=200, p=0.45, s=100)\n",
    "s_300 = cdf_S(n=300, p=0.45, s=150) \n",
    "s_400 = cdf_S(n=400, p=0.45, s=200)\n",
    "\n",
    "prob_1f = 1 - s_200 ** 3 * s_300 * s_400\n",
    "prob_1f"
   ]
  },
  {
   "cell_type": "code",
   "execution_count": 153,
   "id": "b3563f14",
   "metadata": {
    "deletable": false,
    "editable": false
   },
   "outputs": [
    {
     "data": {
      "text/html": [
       "<p><strong><pre style='display: inline;'>q5f</pre></strong> passed! 🎉</p>"
      ],
      "text/plain": [
       "q5f results: All test cases passed!"
      ]
     },
     "execution_count": 153,
     "metadata": {},
     "output_type": "execute_result"
    }
   ],
   "source": [
    "grader.check(\"q5f\")"
   ]
  },
  {
   "cell_type": "markdown",
   "id": "169d7663",
   "metadata": {},
   "source": [
    "<br/><br/>\n",
    "<hr style=\"border: 5px solid #003262;\" />\n",
    "<hr style=\"border: 1px solid #fdb515;\" />\n",
    "\n",
    "## Congratulations! You have finished Homework 5!"
   ]
  },
  {
   "cell_type": "markdown",
   "id": "cc31acf9",
   "metadata": {},
   "source": [
    "If you discussed this assignment with any other students in the class (in a manner that is acceptable as described by the Collaboration policy above) please **include their names** here:\n",
    "\n",
    "**Collaborators**: N/A\n",
    "\n",
    "If while completing this assignment you reference any websites other than those linked in this assignment or provided on Canvas please list those references here:\n",
    "\n",
    "**External references**:\n",
    "\n",
    "* [Stack overflow - Create a list of single item repeated N times (Question 2b)](https://stackoverflow.com/questions/3459098/create-list-of-single-item-repeated-n-times)"
   ]
  },
  {
   "cell_type": "markdown",
   "id": "46739932",
   "metadata": {},
   "source": [
    "### Submission Instructions\n",
    "\n",
    "Before proceeding any further, **save this notebook.**\n",
    "\n",
    "After running the `grader.export()` cell provided below, **2 files will be created**: a zip file and pdf file.  You can download them using the links provided below OR by finding them in the same folder where this juptyer notebook resides in your JuptyerHub.\n",
    "\n",
    "To receive credit on this assignment, **you must submit BOTH of these files\n",
    "to their respective Gradescope portals:** \n",
    "\n",
    "* **Homework 5 Autograded**: Submit the zip file that is output by the `grader.export()` cell below to the HW4 Autograded assignment in Gradescope.\n",
    "\n",
    "* **Homework 5 Manually Graded**: Submit your hw05.PDF to the HW5 Manually Graded assignment in Gradescope.  **YOU MUST SELECT THE PAGES CORRESPONDING TO EACH QUESTION WHEN YOU UPLOAD TO GRADESCOPE.  IF NOT, YOU WILL LOSE POINTS**   Also, **check** that all of your plots **and** all lines of your code are showing up in your PDF before submitting.  If not, you will not receive credit for your plots/code.  \n",
    "\n",
    "\n",
    "**You are responsible for ensuring your submission follows our requirements. We will not be granting regrade requests nor extensions to submissions that don't follow instructions.** If you encounter any difficulties with submission, please don't hesitate to reach out to staff prior to the deadline."
   ]
  },
  {
   "cell_type": "markdown",
   "id": "7644ce2e-1983-4ea7-9426-2b629816e40e",
   "metadata": {},
   "source": [
    "**TROUBLESHOOTING TIPS**  If you are having any issues compiling your assignment, please [read through these troubleshooting tips first](https://docs.google.com/document/d/1ndr3Wj1PSF5qzlLMaBJznwh6QGeEXjd5TAJ6nf9EJvo/edit?usp=sharing), then post any questions on Piazza. "
   ]
  },
  {
   "cell_type": "code",
   "execution_count": 157,
   "id": "3f71ec51-a32d-4b97-b102-0999101471b2",
   "metadata": {},
   "outputs": [
    {
     "name": "stdout",
     "output_type": "stream",
     "text": [
      "No detected errors. Export can be run.\n"
     ]
    }
   ],
   "source": [
    "import simple_latex_checker as slc\n",
    "\n",
    "nb = slc.Nb_checker()\n",
    "nb.run_check(\"hw05.ipynb\")"
   ]
  },
  {
   "cell_type": "markdown",
   "id": "802a2344",
   "metadata": {
    "deletable": false,
    "editable": false
   },
   "source": [
    "## Submission\n",
    "\n",
    "Make sure you have run all cells in your notebook in order before running the cell below, so that all images/graphs appear in the output. The cell below will generate a zip file for you to submit. **Please save before exporting!**\n",
    "\n",
    "AFTER running the cell below, click on <a href='hw05.pdf' download>this link to download the PDF </a> to upload to Gradescope.  There will be a separate link that appears after running the cell below with a link to download the zip file to upload to Gradescope."
   ]
  },
  {
   "cell_type": "code",
   "execution_count": 158,
   "id": "fe4756ea",
   "metadata": {
    "deletable": false,
    "editable": false
   },
   "outputs": [
    {
     "name": "stdout",
     "output_type": "stream",
     "text": [
      "Running your submission against local test cases...\n",
      "\n",
      "\n",
      "Your submission received the following results when run against available test cases:\n",
      "\n",
      "    2a results: All test cases passed!\n",
      "\n",
      "    2b results: All test cases passed!\n",
      "\n",
      "    2c results: All test cases passed!\n",
      "\n",
      "    2d results: All test cases passed!\n",
      "\n",
      "    q3b results: All test cases passed!\n",
      "\n",
      "    q3d results: All test cases passed!\n",
      "\n",
      "    q4_check results: All test cases passed!\n",
      "\n",
      "    q5a results: All test cases passed!\n",
      "\n",
      "    q5b results: All test cases passed!\n",
      "\n",
      "    q5c results: All test cases passed!\n",
      "\n",
      "    q5d results: All test cases passed!\n",
      "\n",
      "    q5e results: All test cases passed!\n",
      "\n",
      "    q5f results: All test cases passed!\n"
     ]
    },
    {
     "data": {
      "text/html": [
       "\n",
       "                    <p>\n",
       "                        Your submission has been exported. Click\n",
       "                        <a href=\"hw05_2025_02_13T22_48_24_635457.zip\" download=\"hw05_2025_02_13T22_48_24_635457.zip\" target=\"_blank\">here</a> to download\n",
       "                        the zip file.\n",
       "                    </p>\n",
       "                "
      ],
      "text/plain": [
       "<IPython.core.display.HTML object>"
      ]
     },
     "metadata": {},
     "output_type": "display_data"
    }
   ],
   "source": [
    "# Save your notebook first, then run this cell to export your submission.\n",
    "grader.export(run_tests=True)"
   ]
  },
  {
   "cell_type": "markdown",
   "id": "6d7e4185",
   "metadata": {},
   "source": [
    " "
   ]
  }
 ],
 "metadata": {
  "kernelspec": {
   "display_name": "Python 3 (ipykernel)",
   "language": "python",
   "name": "python3"
  },
  "language_info": {
   "codemirror_mode": {
    "name": "ipython",
    "version": 3
   },
   "file_extension": ".py",
   "mimetype": "text/x-python",
   "name": "python",
   "nbconvert_exporter": "python",
   "pygments_lexer": "ipython3",
   "version": "3.10.8"
  },
  "otter": {
   "OK_FORMAT": true,
   "tests": {
    "2a": {
     "name": "2a",
     "points": 1,
     "suites": [
      {
       "cases": [
        {
         "code": ">>> assert get_hash(len(d_sup)) == '1679091c5a880faf6fb5e6087eb1b2dc'\n",
         "hidden": false,
         "locked": false
        },
        {
         "code": ">>> assert get_hash(sorted(set(d_sup))) == '199ff5b613f5dc25dff99df513516bf9'\n",
         "hidden": false,
         "locked": false
        }
       ],
       "scored": true,
       "setup": "",
       "teardown": "",
       "type": "doctest"
      }
     ]
    },
    "2b": {
     "name": "2b",
     "points": 1,
     "suites": [
      {
       "cases": [
        {
         "code": ">>> for i in range(1, 7):\n...     assert get_hash(round(d1_pmf[i], 4)) == 'f452927b0b2a755192117d956a8d47f6'\n",
         "hidden": false,
         "locked": false
        },
        {
         "code": ">>> assert get_hash(round(sum(d1_pmf), 3)) == 'e4c2e8edac362acab7123654b9e73432'\n",
         "hidden": false,
         "locked": false
        }
       ],
       "scored": true,
       "setup": "",
       "teardown": "",
       "type": "doctest"
      }
     ]
    },
    "2c": {
     "name": "2c",
     "points": 1,
     "suites": [
      {
       "cases": [
        {
         "code": ">>> assert get_hash(len(s_sup)) == '6512bd43d9caa6e02c990b0a82652dca'\n",
         "hidden": false,
         "locked": false
        },
        {
         "code": ">>> assert get_hash(sorted(set(s_sup))) == '4511e38b335fb70fa03c080c37778523'\n",
         "hidden": false,
         "locked": false
        }
       ],
       "scored": true,
       "setup": "",
       "teardown": "",
       "type": "doctest"
      }
     ]
    },
    "2d": {
     "name": "2d",
     "points": 1,
     "suites": [
      {
       "cases": [
        {
         "code": ">>> assert get_hash(len(s_pmf)) == '6512bd43d9caa6e02c990b0a82652dca'\n",
         "hidden": false,
         "locked": false
        },
        {
         "code": ">>> assert get_hash(round(sum(s_pmf), 4)) == 'e4c2e8edac362acab7123654b9e73432'\n",
         "hidden": false,
         "locked": false
        },
        {
         "code": ">>> assert get_hash(s_pmf[4]) == 'e63ba2a42467cdb7252d28c6c05f2bba'\n",
         "hidden": false,
         "locked": false
        },
        {
         "code": ">>> assert get_hash(s_pmf[7]) == '97a5c78a55d017c4138b752f862e4fda'\n",
         "hidden": false,
         "locked": false
        }
       ],
       "scored": true,
       "setup": "",
       "teardown": "",
       "type": "doctest"
      }
     ]
    },
    "q3b": {
     "name": "q3b",
     "points": 2,
     "suites": [
      {
       "cases": [
        {
         "code": ">>> for spin in spin_roulette(10000):\n...     assert spin[-1] in ('R', 'B', 'G')\n...     assert int(spin[:-1]) >= 0 and int(spin[:-1]) <= 36\n",
         "hidden": false,
         "locked": false
        },
        {
         "code": ">>> assert get_hash(round(color_winnings(color='R', num_spins=int(10000000.0)), 2)) == 'e927fe5f5ad45bcd256f7039b3783ffb'\n",
         "hidden": false,
         "locked": false
        },
        {
         "code": ">>> import time\n>>> start = time.time()\n>>> res = spin_roulette(int(10000000.0))\n>>> end = time.time()\n>>> assert end - start < 1, 'Your solution is not fast enough! Try using list comprehension'\n",
         "hidden": false,
         "locked": false
        }
       ],
       "scored": true,
       "setup": "",
       "teardown": "",
       "type": "doctest"
      }
     ]
    },
    "q3d": {
     "name": "q3d",
     "points": 2,
     "suites": [
      {
       "cases": [
        {
         "code": ">>> assert get_hash(round(dozen_winnings(int(10000000.0)), 2)) == 'e927fe5f5ad45bcd256f7039b3783ffb'\n",
         "hidden": false,
         "locked": false
        }
       ],
       "scored": true,
       "setup": "",
       "teardown": "",
       "type": "doctest"
      }
     ]
    },
    "q4_check": {
     "name": "q4_check",
     "points": 0,
     "suites": [
      {
       "cases": [
        {
         "code": ">>> assert get_hash(round(expected_value, 4)) == '804066a6a5042090a2a0b25c55f38e72'\n",
         "hidden": false,
         "locked": false
        },
        {
         "code": ">>> assert get_hash(round(standard_deviation, 5)) == '3877b6cb7d342cdbadd9d2fa54693b4a'\n",
         "hidden": false,
         "locked": false
        }
       ],
       "scored": true,
       "setup": "",
       "teardown": "",
       "type": "doctest"
      }
     ]
    },
    "q5a": {
     "name": "q5a",
     "points": 1,
     "suites": [
      {
       "cases": [
        {
         "code": ">>> assert prob_5a >= 0 and prob_5a <= 1\n",
         "hidden": false,
         "locked": false
        },
        {
         "code": ">>> assert get_hash(round(prob_5a, 5)) == '2a4e7dd819758fe6fd4db8fbc32f12e8'\n",
         "hidden": false,
         "locked": false
        }
       ],
       "scored": true,
       "setup": "",
       "teardown": "",
       "type": "doctest"
      }
     ]
    },
    "q5b": {
     "name": "q5b",
     "points": 1,
     "suites": [
      {
       "cases": [
        {
         "code": ">>> assert np.all(all_probs >= 0) and np.all(all_probs <= 1)\n",
         "hidden": false,
         "locked": false
        },
        {
         "code": ">>> k = np.arange(101)\n>>> test_1b = special.comb(100, k) * 0.26 ** k * 0.74 ** (100 - k)\n>>> assert np.all(np.isclose(test_1b, all_probs, atol=1e-05))\n",
         "hidden": false,
         "locked": false
        }
       ],
       "scored": true,
       "setup": "",
       "teardown": "",
       "type": "doctest"
      }
     ]
    },
    "q5c": {
     "name": "q5c",
     "points": 1,
     "suites": [
      {
       "cases": [
        {
         "code": ">>> assert prob_5c >= 0 and prob_5c <= 1\n",
         "hidden": false,
         "locked": false
        },
        {
         "code": ">>> assert get_hash(round(prob_5c, 4)) == '536a1fae1bafde3a6f3474dcd7e5e105'\n",
         "hidden": false,
         "locked": false
        }
       ],
       "scored": true,
       "setup": "",
       "teardown": "",
       "type": "doctest"
      }
     ]
    },
    "q5d": {
     "name": "q5d",
     "points": 2,
     "suites": [
      {
       "cases": [
        {
         "code": ">>> assert cdf_S(3, 0.4, 1) >= 0\n",
         "hidden": false,
         "locked": false
        },
        {
         "code": ">>> assert cdf_S(5, 0.6, 3) <= 1\n",
         "hidden": false,
         "locked": false
        },
        {
         "code": ">>> assert get_hash(round(cdf_S(2, 3, 4), 4)) == 'cfcd208495d565ef66e7dff9f98764da'\n",
         "hidden": false,
         "locked": false
        },
        {
         "code": ">>> assert get_hash(round(cdf_S(10, 0.7, 4), 4)) == '2e0bfa827d51449a197fae6ab9f4804c'\n",
         "hidden": false,
         "locked": false
        },
        {
         "code": ">>> assert get_hash(round(cdf_S(5, 1, 1), 4)) == '30565a8911a6bb487e3745c0ea3c8224'\n",
         "hidden": false,
         "locked": false
        },
        {
         "code": ">>> assert get_hash(round(cdf_S(8, 0.7, 3), 4)) == 'e7cfe1112d37772ab690f04a56edee26'\n",
         "hidden": false,
         "locked": false
        }
       ],
       "scored": true,
       "setup": "",
       "teardown": "",
       "type": "doctest"
      }
     ]
    },
    "q5e": {
     "name": "q5e",
     "points": 1,
     "suites": [
      {
       "cases": [
        {
         "code": ">>> assert p_majority >= 0 and p_majority <= 1\n",
         "hidden": false,
         "locked": false
        },
        {
         "code": ">>> assert get_hash(round(p_majority, 4)) == '63cd3656f543ae3efc279fdd71e109d0'\n",
         "hidden": false,
         "locked": false
        }
       ],
       "scored": true,
       "setup": "",
       "teardown": "",
       "type": "doctest"
      }
     ]
    },
    "q5f": {
     "name": "q5f",
     "points": 1,
     "suites": [
      {
       "cases": [
        {
         "code": ">>> assert prob_1f >= 0 and prob_1f <= 1\n",
         "hidden": false,
         "locked": false
        },
        {
         "code": ">>> assert get_hash(round(prob_1f, 4)) == '22559430036a037ee145a651d1e91010'\n",
         "hidden": false,
         "locked": false
        }
       ],
       "scored": true,
       "setup": "",
       "teardown": "",
       "type": "doctest"
      }
     ]
    }
   }
  }
 },
 "nbformat": 4,
 "nbformat_minor": 5
}
