{
 "cells": [
  {
   "cell_type": "code",
   "execution_count": 1,
   "id": "29f4c831",
   "metadata": {
    "deletable": false,
    "editable": false
   },
   "outputs": [],
   "source": [
    "# Initialize Otter\n",
    "import otter\n",
    "grader = otter.Notebook(\"hw04.ipynb\")"
   ]
  },
  {
   "cell_type": "markdown",
   "id": "0a41ef94",
   "metadata": {},
   "source": [
    "# Homework 4 (updated 2/3/25 to correct autograder error on 7b)\n",
    "\n",
    "## Due Date: Thursday, Feb 6th by 11:59 PM MT on Gradescope\n",
    "\n",
    "\n",
    "## Assignment Learning Objectives\n",
    " - Calculate probabilities for equally likely outcomes\n",
    " - State and apply the Inclusion/Exclusion Principle\n",
    " - Translate given information about events into a joint probability table\n",
    " - State the mathematical definition of conditional probability and use it to  calculate conditional probabilities.\n",
    " - State the multiplication rule and use it to calculate joint probabilities.\n",
    "- Use Numpy to simulate probabilities\n",
    "- Define and apply the Law of Total Probability\n",
    "- Define and apply Bayes' Theorem to update probabilities\n",
    "\n",
    "\n",
    "## Collaboration Policy\n",
    "\n",
    "Data science is a collaborative activity.  However a key step in learning and retention is **creating solutions on your own.**  \n",
    "\n",
    "Below are examples of acceptable vs unacceptable use of resources and collaboration when doing HW assignments in CSCI 3022.\n",
    "\n",
    "\n",
    "The following would be some **examples of cheating** when working on HW assignments in CSCI 3022.  Any of these constitute a **violation of the course's collaboration policy and will result in an F in the course and a trip to the honor council**.   \n",
    "\n",
    "\n",
    " - Consulting web pages that may have a solution to a given homework problem or one similar is cheating.  However, consulting the class notes, and web pages that explain the material taught in class but do NOT show a solution to the homework problem in question are permissible to view.  Clearly, there's a fuzzy line here between a valid use of resources and cheating. To avoid this line, one should merely consult the course notes, the course textbook, and references that contain syntax and/or formulas.\n",
    " - Copying a segment of code or math solution of three lines or more from another student from a printout, handwritten copy, or by looking at their computer screen \n",
    " - Allowing another student to copy a segment of your code or math solution of three lines or more\n",
    " - Taking a copy of another student's work (or a solution found online) and then editing that copy\n",
    " - Reading someone else’s solution to a problem on the HW before writing your own.\n",
    " - Asking someone to write all or part of a program or solution for you.\n",
    " - Asking someone else for the code necessary to fix the error for you, other than for simple syntactical errors\n",
    " \n",
    "\n",
    "\n",
    "On the other hand, the following are some **examples of things which would NOT usually be\n",
    "considered to be cheating**:\n",
    " - Working on a HW problem on your own first and then discussing with a classmate a particular part in the problem solution where you are stuck.  After clarifying any questions you should then continue to write your solution independently.\n",
    " - Asking someone (or searching online) how a particular construct in the language works.\n",
    " - Asking someone (or searching online) how to formulate a particular construct in the language.\n",
    " - Asking someone for help in finding an error in your program.  \n",
    " - Asking someone why a particular construct does not work as you expected in a given program.\n",
    "   \n",
    "\n",
    "To test whether you are truly doing your own work and retaining what you've learned you should be able to easily reproduce from scratch and explain a HW solution that was your own when asked in office hours by a TA/Instructor or on a quiz/exam.   \n",
    "\n",
    "\n",
    "If you have difficulty in formulating the general solution to a problem on your own, or\n",
    "you have difficulty in translating that general solution into a program, it is advisable to see\n",
    "your instructor or teaching assistant rather than another student as this situation can easily\n",
    "lead to a, possibly inadvertent, cheating situation.\n",
    "\n",
    "We are here to help!  Visit HW Hours and/or post questions on Piazza!\n"
   ]
  },
  {
   "cell_type": "markdown",
   "id": "24b45ac0",
   "metadata": {},
   "source": [
    "#### Grading\n",
    "Grading is broken down into autograded answers and manually graded answers. \n",
    "\n",
    "For autograded answers, the results of your code are compared to provided and/or hidden tests.\n",
    "\n",
    "For manually graded answers you must show and explain all steps.  Graders will evaluate how well you answered the question and/or fulfilled the requirements of the question.\n",
    "\n",
    "\n",
    "### Score breakdown\n",
    "\n",
    "\n",
    "\n",
    "Question | Points | Grading Type\n",
    "--- | --- | ---\n",
    "Question 1 | 4 | autograded\n",
    "Question 2 | 4 | manual\n",
    "Question 3 | 8 | autograded\n",
    "Question 4a | 4 | manual\n",
    "Question 4bi-ii | 5 | autograded\n",
    "Question 4biii | 4 | manual \n",
    "Question 5 | 8 | manual\n",
    "Question 6 | 7 | manual\n",
    "Question 7 | 6 | manual\n",
    "|Total | 50\n",
    "\n",
    "## Recommended Readings for this HW:\n",
    "\n",
    "- [Probability of Equally Likely Outcomes](https://chrispiech.github.io/probabilityForComputerScientists/en/part1/equally_likely/)\n",
    "- [Law of Total Probability](https://chrispiech.github.io/probabilityForComputerScientists/en/part1/law_total/)\n",
    "- [Bayes Theorem](https://chrispiech.github.io/probabilityForComputerScientists/en/part1/bayes_theorem/)\n",
    "\n",
    "- [Computational and Inferential Thinking: Section 9.5 - Finding Probabilities](https://inferentialthinking.com/chapters/09/5/Finding_Probabilities.html)\n",
    "- [Computational and Inferential Thinking: Chapter 18: Updating Predictions](https://inferentialthinking.com/chapters/18/Updating_Predictions.html)\n",
    "- [Computational and Inferential Thinking: Section 9.3 - Simulation](https://learningds.org/ch/10/eda_intro.html)\n",
    "- [Theory Meets Data: Chapters 1, 2 and Sections 3.1 and 3.2](http://stat88.org/textbook/content/Chapter_01/00_The_Basics.html) \n",
    "\n",
    "\n"
   ]
  },
  {
   "cell_type": "markdown",
   "id": "c0eec3bc",
   "metadata": {},
   "source": [
    "<a id='top'></a>\n",
    "---\n",
    "**Shortcuts:**  [Problem 2](#p2) | [Problem 3](#p3) | [Problem 4](#p4) | [Problem 5](#p5) |  [Problem 6](#p6)  |  [Problem 7](#p7) | \n",
    "---\n",
    "<hr style=\"border: 5px solid #003262;\" />\n",
    "<hr style=\"border: 1px solid #fdb515;\" />\n",
    "\n"
   ]
  },
  {
   "cell_type": "markdown",
   "id": "20206110",
   "metadata": {},
   "source": [
    "In this homework you'll investigate probability. You'll also use probability simulations to estimate probabilities, gain intuition about random processes and to check your pencil and paper work.   \n"
   ]
  },
  {
   "cell_type": "code",
   "execution_count": 2,
   "id": "931c6bb1",
   "metadata": {
    "scrolled": true
   },
   "outputs": [],
   "source": [
    "import pandas as pd\n",
    "import numpy as np\n",
    "import hashlib\n",
    "import matplotlib.pylab as plt\n",
    "%matplotlib inline\n",
    "\n",
    "\n",
    "def get_hash(num):\n",
    "    \"\"\"Helper function for assessing correctness\"\"\"\n",
    "    return hashlib.md5(str(num).encode()).hexdigest()"
   ]
  },
  {
   "cell_type": "markdown",
   "id": "638ea3bb",
   "metadata": {},
   "source": [
    "<hr style=\"border: 5px solid #003262;\" />\n",
    "<hr style=\"border: 1px solid #fdb515;\" />\n",
    "\n",
    "## <span style='color:Red'>  Question 1: Roulette ##\n",
    "\n",
    "\n",
    "A Nevada roulette wheel has 38 pockets and a small ball that rests on the wheel. When the wheel is spun, the ball comes to rest in one of the 38 pockets. That pocket is declared the winner. \n",
    "\n",
    "The pockets are labeled 0, 00, 1, 2, 3, 4, ... , 36. Pockets 0 and 00 are green, and the other pockets are alternately red and black. Below is an example of a roulette wheel!"
   ]
  },
  {
   "cell_type": "markdown",
   "id": "141c584c",
   "metadata": {},
   "source": [
    "<img src=\"img/roulette_wheel.jpeg\" width=\"330px\">"
   ]
  },
  {
   "cell_type": "markdown",
   "id": "ffd92b12",
   "metadata": {},
   "source": [
    "\n",
    "\n",
    "\n"
   ]
  },
  {
   "cell_type": "markdown",
   "id": "a2774291",
   "metadata": {},
   "source": [
    "\n",
    "On each spin of a roulette wheel, all 38 pockets are equally likely to be the winner regardless of the results of other spins. Among the 38 pockets, 18 are red, 18 black, and 2 green. "
   ]
  },
  {
   "cell_type": "markdown",
   "id": "ccb712bb",
   "metadata": {
    "deletable": false,
    "editable": false
   },
   "source": [
    "<hr style=\"border: 5px solid #003262;\" />\n",
    "<hr style=\"border: 1px solid #fdb515;\" />\n",
    "\n",
    "## <span style='color:Red'>   Question 1a (1 pt) ## \n",
    "    \n",
    "**In each part below, write code that evaluates to the chance of the event described.**\n",
    "    \n",
    "What is the probability the winning pocket is black on all of the first **four** spins?\n"
   ]
  },
  {
   "cell_type": "code",
   "execution_count": 3,
   "id": "21341f68",
   "metadata": {
    "tags": []
   },
   "outputs": [],
   "source": [
    "first_three_black = pow(18/38, 4)"
   ]
  },
  {
   "cell_type": "code",
   "execution_count": 4,
   "id": "a9731009",
   "metadata": {
    "deletable": false,
    "editable": false
   },
   "outputs": [
    {
     "data": {
      "text/html": [
       "<p><strong><pre style='display: inline;'>q1a</pre></strong> passed! 🍀</p>"
      ],
      "text/plain": [
       "q1a results: All test cases passed!"
      ]
     },
     "execution_count": 4,
     "metadata": {},
     "output_type": "execute_result"
    }
   ],
   "source": [
    "grader.check(\"q1a\")"
   ]
  },
  {
   "cell_type": "markdown",
   "id": "7c7ee8be",
   "metadata": {
    "deletable": false,
    "editable": false
   },
   "source": [
    "<hr style=\"border: 5px solid #003262;\" />\n",
    "<hr style=\"border: 1px solid #fdb515;\" />\n",
    "\n",
    "## <span style='color:Red'>   Question 1b (1 pt) ## \n",
    "\n",
    "What is the probability the color green never wins in the first 8 spins?"
   ]
  },
  {
   "cell_type": "code",
   "execution_count": 5,
   "id": "4fdbbb20",
   "metadata": {
    "tags": []
   },
   "outputs": [],
   "source": [
    "no_green = pow((36/38),8) # complement of the number of colors (36) / total pockets (38) to the power of tries (8)"
   ]
  },
  {
   "cell_type": "code",
   "execution_count": 6,
   "id": "06bd95ee",
   "metadata": {
    "deletable": false,
    "editable": false
   },
   "outputs": [
    {
     "data": {
      "text/html": [
       "<p><strong><pre style='display: inline;'>q1b</pre></strong> passed! 🙌</p>"
      ],
      "text/plain": [
       "q1b results: All test cases passed!"
      ]
     },
     "execution_count": 6,
     "metadata": {},
     "output_type": "execute_result"
    }
   ],
   "source": [
    "grader.check(\"q1b\")"
   ]
  },
  {
   "cell_type": "markdown",
   "id": "1f4a6e57",
   "metadata": {
    "deletable": false,
    "editable": false
   },
   "source": [
    "<hr style=\"border: 5px solid #003262;\" />\n",
    "<hr style=\"border: 1px solid #fdb515;\" />\n",
    "\n",
    "## <span style='color:Red'>   Question 1c (1 pt) ## \n",
    "\n",
    "What is the probability the color green wins at least once on the first 8 spins?\n"
   ]
  },
  {
   "cell_type": "code",
   "execution_count": 7,
   "id": "de76de56",
   "metadata": {
    "tags": []
   },
   "outputs": [],
   "source": [
    "at_least_one_green = 1 - pow((36/38), 8) # at least one = 1 - the probability that you get NONE of green"
   ]
  },
  {
   "cell_type": "code",
   "execution_count": 8,
   "id": "b0ecc0b0",
   "metadata": {
    "deletable": false,
    "editable": false
   },
   "outputs": [
    {
     "data": {
      "text/html": [
       "<p><strong><pre style='display: inline;'>q1c</pre></strong> passed! 🎉</p>"
      ],
      "text/plain": [
       "q1c results: All test cases passed!"
      ]
     },
     "execution_count": 8,
     "metadata": {},
     "output_type": "execute_result"
    }
   ],
   "source": [
    "grader.check(\"q1c\")"
   ]
  },
  {
   "cell_type": "markdown",
   "id": "d4001160",
   "metadata": {
    "deletable": false,
    "editable": false
   },
   "source": [
    "<hr style=\"border: 5px solid #003262;\" />\n",
    "<hr style=\"border: 1px solid #fdb515;\" />\n",
    "\n",
    "## <span style='color:Red'>   Question 1d (1 pt) ## \n",
    "\n",
    "\n",
    "What is the probability two of the three colors never win in the first 8 spins?\n",
    "\n"
   ]
  },
  {
   "cell_type": "code",
   "execution_count": 9,
   "id": "2932ea73",
   "metadata": {
    "tags": []
   },
   "outputs": [],
   "source": [
    "lone_winners = 2*pow(18/38, 8) + pow(2/38, 8)"
   ]
  },
  {
   "cell_type": "code",
   "execution_count": 10,
   "id": "5e2146ca",
   "metadata": {
    "deletable": false,
    "editable": false
   },
   "outputs": [
    {
     "data": {
      "text/html": [
       "<p><strong><pre style='display: inline;'>q1d</pre></strong> passed! 🍀</p>"
      ],
      "text/plain": [
       "q1d results: All test cases passed!"
      ]
     },
     "execution_count": 10,
     "metadata": {},
     "output_type": "execute_result"
    }
   ],
   "source": [
    "grader.check(\"q1d\")"
   ]
  },
  {
   "cell_type": "markdown",
   "id": "cdeb51fe",
   "metadata": {
    "deletable": false,
    "editable": false
   },
   "source": [
    "<!-- BEGIN QUESTION -->\n",
    "\n",
    "***\n",
    "\n",
    "[Back to top](#top)\n",
    "\n",
    "<a id='p2'></a>\n",
    "\n",
    "<hr style=\"border: 5px solid #003262;\" />\n",
    "<hr style=\"border: 1px solid #fdb515;\" />\n",
    "\n",
    "## <span style='color:Red'>   Question 2 (4 pts) ## \n",
    "\n",
    "Let $A$ and $B$ be events in a sample space $S$.  \n",
    "\n",
    "Suppose that the probability that $A$ occurs is $0.3$, the probability that $B$ occurs is $0.4$, and the probability that neither $A$ nor $B$ occur is $0.5$ (that is, the joint probability that $A$ doesn't occur AND $B$ doesn't occur is  $0.5$). \n",
    "\n",
    "**Determine if you have enough informatin to answer the following questions.  If so, write your solution showing all steps.  If not, explain what additional information you would need.**\n",
    "\n",
    "\n",
    "**2a) (2 pts)**  What is $P(A, B)$?\n",
    "\n",
    "**2b) (2 pts)**  What is $P(A \\mid B^C)$?\n",
    "\n",
    "**Hint:  Use the information provided to create a joint probability table for $A$ and $B$.**\n",
    "\n",
    "Note: You can easily create a table in Markdown using this format (double click on this cell to see the syntax to create this table): \n",
    "|   | Col A Title|Col B Title|\n",
    "|---|---|---|\n",
    "|**Row A Title**|Entry 1  |other stuff  |\n",
    "|**Row B Title**|Latex works: $\\int_1^2 x\\,dx$ |  more stuff |\n",
    "\n",
    "\n",
    "Write up your full solution to both questions in the SAME box below using LaTeX (not code).  Show all steps fully justifying your answers.  \n"
   ]
  },
  {
   "cell_type": "markdown",
   "id": "3129fc46-0f3d-420a-8a2a-a0b87a5d4ef0",
   "metadata": {},
   "source": [
    "### Answer\n",
    "\n",
    "Since we are given the probability that $A$ and $B$ and $A$ nor $B$ occurs, we can fill out the table as follows.\n",
    "\n",
    "| | B |B' | Total |\n",
    "|---|---|---|---|\n",
    "|**A** | P(A,B) | P(A,B') | 0.3 |\n",
    "|**A'**| P(A',B) | 0.5 | ? |\n",
    "| **Total** | 0.4 | ? | 1 |\n",
    "\n",
    "### 2a) What is $P(A,B)$?\n",
    "\n",
    "$P(A,B)$ can be expanded into $P(A,B) = P(A) P(B|A) = P(B) P(A|B)$\n",
    "\n",
    "Since we already know that the $P(B) = 0.4$, and $P(A,B) = 1-P(A',B')=1-0.5=0.5$ we can go ahead and use the from $P(A,B) = P(B) P(A|B)$\n",
    "\n",
    "$$\n",
    "P(A,B) = 0.4 \\cdot 0.5 = 0.2\n",
    "$$\n",
    "\n",
    "The updated table would look like:\n",
    "\n",
    "| | B |B' | Total |\n",
    "|---|---|---|---|\n",
    "|**A** | 0.2 | P(A,B') | 0.3 |\n",
    "|**A'**| P(A',B) | 0.5 | ? |\n",
    "| **Total** | 0.4 | ? | 1 |\n",
    "\n",
    "### 2b) What is $P(A \\mid B')$?\n",
    "\n",
    "Since $P(A) = P(B)P(A|B) + P(B')P(A|B')$ we can rearrange this formula to find $P(A|B')$\n",
    "\n",
    "$$\n",
    "P(A|B') = \\frac{P(A) - P(B)P(A|B)}{P(B)}\n",
    "$$\n",
    "\n",
    "We already have $P(A|B)$ from the last question which is $0.5$\n",
    "\n",
    "$P(B') = 1-P(B) = 1-0.4 = 0.6$\n",
    "\n",
    "$P(A)$ is already given.\n",
    "\n",
    "Now we can just plug these numbers into the equation\n",
    "\n",
    "$$\n",
    "P(A|B') = \\frac{0.3 - (0.4 \\cdot 0.5)}{0.6} = \\frac{1}{6}\n",
    "$$"
   ]
  },
  {
   "cell_type": "markdown",
   "id": "0e170d08",
   "metadata": {
    "deletable": false,
    "editable": false
   },
   "source": [
    "<!-- END QUESTION -->\n",
    "\n",
    "To check your answer for Problem 2a, enter the answer (just the probability) you came up with in the cell below.  If you said you didn't have enough information, enter the number 0.  Note that this is just a public test. Full credit requires that you show all your work written in LaTeX fully justifying your answer in the cell above.  "
   ]
  },
  {
   "cell_type": "code",
   "execution_count": 70,
   "id": "73372c9e",
   "metadata": {
    "tags": []
   },
   "outputs": [],
   "source": [
    "q2a_answer = 0.2"
   ]
  },
  {
   "cell_type": "code",
   "execution_count": 71,
   "id": "d88fdbb9",
   "metadata": {
    "deletable": false,
    "editable": false
   },
   "outputs": [
    {
     "data": {
      "text/html": [
       "<p><strong><pre style='display: inline;'>q2acheck</pre></strong> passed! 🚀</p>"
      ],
      "text/plain": [
       "q2acheck results: All test cases passed!"
      ]
     },
     "execution_count": 71,
     "metadata": {},
     "output_type": "execute_result"
    }
   ],
   "source": [
    "grader.check(\"q2acheck\")"
   ]
  },
  {
   "cell_type": "markdown",
   "id": "f4fdf61c",
   "metadata": {
    "deletable": false,
    "editable": false
   },
   "source": [
    "To check your answer for Problem 2b, enter the answer you came up with (just the probability) in the cell below. If you said you didn't have enough information, enter the number 0. Note that this is just a public test. Full credit requires that you show all your work written in LaTeX fully justifying your answer in the Markdown cell provided above.  "
   ]
  },
  {
   "cell_type": "code",
   "execution_count": 72,
   "id": "b454f3d3",
   "metadata": {
    "tags": []
   },
   "outputs": [],
   "source": [
    "q2b_answer = 1/6"
   ]
  },
  {
   "cell_type": "code",
   "execution_count": 73,
   "id": "bca1f942",
   "metadata": {
    "deletable": false,
    "editable": false
   },
   "outputs": [
    {
     "data": {
      "text/html": [
       "<p><strong><pre style='display: inline;'>q2bcheck</pre></strong> passed! 💯</p>"
      ],
      "text/plain": [
       "q2bcheck results: All test cases passed!"
      ]
     },
     "execution_count": 73,
     "metadata": {},
     "output_type": "execute_result"
    }
   ],
   "source": [
    "grader.check(\"q2bcheck\")"
   ]
  },
  {
   "cell_type": "markdown",
   "id": "ccbc658c-6fc5-443f-b772-4c8ddef344a8",
   "metadata": {},
   "source": [
    "***\n",
    "\n",
    "[Back to top](#top)\n",
    "\n",
    "<a id='p3'></a>\n",
    "\n",
    "<hr style=\"border: 5px solid #003262;\" />\n",
    "<hr style=\"border: 1px solid #fdb515;\" />\n",
    "\n",
    "## <span style='color:Red'>   Question 3: Simulating Probabilities Video Assignment (8 pts) ## "
   ]
  },
  {
   "cell_type": "markdown",
   "id": "368e0540-8fcd-4d26-9f1f-370b0f64c206",
   "metadata": {},
   "source": [
    "#### Complete this [Simulating Probabilities Video Assignment (click this link)](https://canvas.colorado.edu/courses/117881/assignments/2307505) available on Canvas (to receive points you must watch the entire video and answer the embedded questions).\n",
    "\n",
    "\n",
    "As you watch the video, fill in the code below along with the video so you can practice with the concepts in the video."
   ]
  },
  {
   "cell_type": "markdown",
   "id": "a8283afa-34bd-4faf-9c20-a95a26c2cd98",
   "metadata": {},
   "source": [
    "## Simulating Probabilities\n",
    "\n",
    "As we discussed in lecture, the frequentist definition of probability defines it in terms of a limit:\n",
    "\n",
    "\n",
    "$$P(Event) = \\lim_{n \\to \\infty} \\frac{count(Event)}{n}$$\n",
    "\n",
    "\n",
    "\n",
    "In English this reads: Perform n trials of an \"experiment\" which could result in a particular “Event” occurring. \n",
    "\n",
    "The probability of the event occurring, P(Event) , is the ratio of trials that result in the event, written as  count(Event), to the number of trials performed, n. \n",
    "\n",
    "In the limit, as your number of trials approaches infinity, the ratio will converge to the true probability.\n",
    "\n",
    "\n",
    "One of the big payoffs of simulation is that it can let us answer some probability questions that are otherwise quite difficult.  We can instead just **simulate the experiment a large number of times and get approximate results based on simulation.**\n",
    "\n",
    "\n",
    "There are several ways to draw random samples using Python:\n",
    "\n",
    "\n",
    "#### Random Sampling in Pandas: \n",
    "- `df.sample(n)` (https://pandas.pydata.org/docs/reference/api/pandas.DataFrame.sample.html) draws a random sample of `n` rows from the DataFrame `df`. The output is a DataFrame consisting of the sampled rows. \n",
    "\n",
    "\n",
    "\n",
    "#### Random Sampling in Numpy:  https://numpy.org/doc/stable/reference/random/index.html\n",
    "\n",
    "The `numpy.random`module implements pseudo-random number generators (PRNGs or RNGs, for short) with the ability to draw samples from a variety of probability distributions.   In general, you will create a Generator instance with default_rng and call the various methods on it to obtain samples from different distributions.\n"
   ]
  },
  {
   "cell_type": "code",
   "execution_count": 74,
   "id": "df6f76ec-eedb-406f-ab9c-d24b8a332eef",
   "metadata": {},
   "outputs": [],
   "source": [
    "# Create a Generator instance:\n",
    "rng = np.random.default_rng() "
   ]
  },
  {
   "cell_type": "markdown",
   "id": "03b38eae-b898-4744-b462-56e53df31ed1",
   "metadata": {},
   "source": [
    "\n",
    "- `rng.choice(a)` (https://numpy.org/doc/stable/reference/random/generated/numpy.random.choice.html) draws a random sample from a population whose elements are in an array `a`. The output is an array consisting of the sampled elements.\n",
    "\n",
    "- `rng.shuffle(a)`\n",
    "(https://numpy.org/doc/stable/reference/random/generated/numpy.random.Generator.shuffle.html#numpy.random.Generator.shuffle)  Modifies an array or sequence in-place by shuffling its contents. \n",
    "  \n",
    "Warning: The pseudo-random number generators implemented in the `numpy.random` module are designed for statistical modeling and simulation. They are not suitable for security or cryptographic purposes. See the `secrets` module from the standard library for such use cases.\n",
    "\n",
    "\n"
   ]
  },
  {
   "cell_type": "markdown",
   "id": "640754f0-47d1-421d-80d6-2e701f8a3e79",
   "metadata": {},
   "source": [
    "### Estimating Simple Probabilities \n",
    "*** \n",
    "\n",
    "Suppose we wanted to randomly sample from the first 6 letters in the alphabet:"
   ]
  },
  {
   "cell_type": "code",
   "execution_count": 75,
   "id": "8ed5e96d-2261-4495-b6ee-76ab9a949eab",
   "metadata": {},
   "outputs": [],
   "source": [
    "select_from =[\"A\", \"B\", \"C\", \"D\", \"E\", \"F\"]"
   ]
  },
  {
   "cell_type": "markdown",
   "id": "a3a2ca6a-6415-46ae-83b3-8545b0b6f839",
   "metadata": {},
   "source": [
    "We can simulate randomly selecting from this list using `rng.choice`, which returns a randomly selected entry from a Numpy array.  \n",
    "If no optional parameters are passed in, `rng.choice` assigns an **equal probability** to each entry of the array.   "
   ]
  },
  {
   "cell_type": "code",
   "execution_count": 76,
   "id": "bccb7bce-3edf-402b-b2e3-74f3f9918341",
   "metadata": {},
   "outputs": [
    {
     "data": {
      "text/plain": [
       "'B'"
      ]
     },
     "execution_count": 76,
     "metadata": {},
     "output_type": "execute_result"
    }
   ],
   "source": [
    "rng.choice(select_from)"
   ]
  },
  {
   "cell_type": "markdown",
   "id": "c6d4fd4c-48c3-4781-bede-eab9de7b0ada",
   "metadata": {},
   "source": [
    "We can simulate repeatedly selecting (with replacement) by specifying the size of an array:"
   ]
  },
  {
   "cell_type": "code",
   "execution_count": 77,
   "id": "0eb91ed6-1f1d-4ae3-9636-c8414c86167f",
   "metadata": {},
   "outputs": [
    {
     "data": {
      "text/plain": [
       "array(['C', 'F', 'E', 'E', 'A', 'E', 'C', 'E', 'D', 'B'], dtype='<U1')"
      ]
     },
     "execution_count": 77,
     "metadata": {},
     "output_type": "execute_result"
    }
   ],
   "source": [
    "#Write code to randomly sample 10 times WITH replacement\n",
    "rng.choice(select_from, size=10)"
   ]
  },
  {
   "cell_type": "code",
   "execution_count": 78,
   "id": "ece9d01e-d065-490b-a069-be70eef5667c",
   "metadata": {},
   "outputs": [
    {
     "data": {
      "text/plain": [
       "array(['E', 'D', 'F', 'C', 'A'], dtype='<U1')"
      ]
     },
     "execution_count": 78,
     "metadata": {},
     "output_type": "execute_result"
    }
   ],
   "source": [
    "#Write code to randomly sample 5 times WITHOUT replacement\n",
    "rng.choice(select_from, size=5, replace=False)"
   ]
  },
  {
   "cell_type": "markdown",
   "id": "a5916693-b028-4833-a97e-1496122f924d",
   "metadata": {},
   "source": [
    "**Simulating Coin Tosses**"
   ]
  },
  {
   "cell_type": "markdown",
   "id": "9e143633-fc55-4002-9c1c-37f14db61805",
   "metadata": {},
   "source": [
    "As a simple example, consider a fair coin.  We can represent the sample space for this coin with a Numpy array with two entries: \"H\" and \"T\""
   ]
  },
  {
   "cell_type": "code",
   "execution_count": 79,
   "id": "001c7631-d9da-46bc-a287-123db684efd9",
   "metadata": {},
   "outputs": [
    {
     "data": {
      "text/plain": [
       "array(['H', 'T'], dtype='<U1')"
      ]
     },
     "execution_count": 79,
     "metadata": {},
     "output_type": "execute_result"
    }
   ],
   "source": [
    "coin = np.array([\"H\",\"T\"])\n",
    "coin"
   ]
  },
  {
   "cell_type": "code",
   "execution_count": 80,
   "id": "e7fc2070-252d-4dc0-8240-63dfadb65413",
   "metadata": {},
   "outputs": [
    {
     "data": {
      "text/plain": [
       "'T'"
      ]
     },
     "execution_count": 80,
     "metadata": {},
     "output_type": "execute_result"
    }
   ],
   "source": [
    "rng.choice(coin)"
   ]
  },
  {
   "cell_type": "markdown",
   "id": "0a2e050a-cd99-4a48-adcf-594fde54c136",
   "metadata": {},
   "source": [
    "We can simulate many flips of the coin and store the results in an array by passing the size parameter:"
   ]
  },
  {
   "cell_type": "code",
   "execution_count": 81,
   "id": "f4a7841a-5c62-42ab-9112-d258f9ab0884",
   "metadata": {},
   "outputs": [
    {
     "name": "stdout",
     "output_type": "stream",
     "text": [
      "['T' 'T' 'T' 'H' 'T' 'T' 'T' 'H' 'H' 'H']\n"
     ]
    }
   ],
   "source": [
    "flips = rng.choice(coin, size=10)\n",
    "print(flips)"
   ]
  },
  {
   "cell_type": "markdown",
   "id": "210d188d-23c0-48c8-9292-3a5a942511ce",
   "metadata": {},
   "source": [
    "We can also count the number of times we get heads:"
   ]
  },
  {
   "cell_type": "code",
   "execution_count": 82,
   "id": "bbde7ccb-8c22-410f-9a48-c3b21991eead",
   "metadata": {},
   "outputs": [
    {
     "name": "stdout",
     "output_type": "stream",
     "text": [
      "['H' 'T' 'H' 'H' 'T' 'T' 'H' 'H' 'T' 'T']\n"
     ]
    },
    {
     "data": {
      "text/plain": [
       "5"
      ]
     },
     "execution_count": 82,
     "metadata": {},
     "output_type": "execute_result"
    }
   ],
   "source": [
    "flips = rng.choice(coin, size=10)\n",
    "print(flips)\n",
    "sum(flips == 'H')"
   ]
  },
  {
   "cell_type": "markdown",
   "id": "245d2424-4f9a-4e27-a93e-fb29b379205a",
   "metadata": {},
   "source": [
    "We can alter the probability with which `choice` selects a particular entry of the sample space array by passing in an optional array of probabilities, e.g. p = [0.75, 0.25]:"
   ]
  },
  {
   "cell_type": "code",
   "execution_count": 83,
   "id": "4be8df3b-3458-461c-8daf-bb291c9274ba",
   "metadata": {},
   "outputs": [
    {
     "name": "stdout",
     "output_type": "stream",
     "text": [
      "['H' 'H' 'H' 'H' 'H' 'H' 'H' 'T' 'H' 'H']\n"
     ]
    },
    {
     "data": {
      "text/plain": [
       "9"
      ]
     },
     "execution_count": 83,
     "metadata": {},
     "output_type": "execute_result"
    }
   ],
   "source": [
    "\n",
    "biased_flips = rng.choice([\"H\", \"T\"], p=[0.75, 0.25], size=10)\n",
    "\n",
    "print(biased_flips)\n",
    "sum(biased_flips == 'H')"
   ]
  },
  {
   "cell_type": "markdown",
   "id": "03aa419c-8c40-4a94-9845-cb3ba31d8b2c",
   "metadata": {},
   "source": [
    "*** \n",
    "###  Example 1: \n",
    "Simulate rolling a 6-sided die, 10 times:"
   ]
  },
  {
   "cell_type": "code",
   "execution_count": 84,
   "id": "a8776f1e-e32a-4140-bd87-0b9f3040f3ad",
   "metadata": {},
   "outputs": [
    {
     "data": {
      "text/plain": [
       "4"
      ]
     },
     "execution_count": 84,
     "metadata": {},
     "output_type": "execute_result"
    }
   ],
   "source": [
    "die = [1, 2, 3, 4, 5, 6]\n",
    "roll = rng.choice(die)\n",
    "roll"
   ]
  },
  {
   "cell_type": "markdown",
   "id": "4024a9a7-308d-4ed3-8078-7402a0623a77",
   "metadata": {},
   "source": [
    "**SideNote**: If instead of passing a list/array you pass an int, to `rng.choice` the random sample is generated as if it were `np.arange(a)`"
   ]
  },
  {
   "cell_type": "code",
   "execution_count": 85,
   "id": "59abceca-6fad-4a5a-9ad9-a7a1dd649eee",
   "metadata": {},
   "outputs": [
    {
     "data": {
      "text/plain": [
       "array([1, 3, 5, 7, 9])"
      ]
     },
     "execution_count": 85,
     "metadata": {},
     "output_type": "execute_result"
    }
   ],
   "source": [
    "np.arange(1,10,2)"
   ]
  },
  {
   "cell_type": "code",
   "execution_count": 86,
   "id": "dc5a6776-9147-4ec5-a1de-3168c3732b0e",
   "metadata": {},
   "outputs": [
    {
     "data": {
      "text/plain": [
       "array([2, 3, 2, 1, 0, 2, 2, 2, 0, 1])"
      ]
     },
     "execution_count": 86,
     "metadata": {},
     "output_type": "execute_result"
    }
   ],
   "source": [
    "rng.choice(5, size=10)"
   ]
  },
  {
   "cell_type": "markdown",
   "id": "01539866-dfd0-4c63-886e-5d8d34912641",
   "metadata": {},
   "source": [
    "*** \n",
    "### Example 2- Flipping a Fair Coin"
   ]
  },
  {
   "cell_type": "markdown",
   "id": "fa7b1bcb-5b7a-4520-bc79-86af7b981020",
   "metadata": {},
   "source": [
    "Now suppose we want to run a simple simulation to estimate the probability  that the coin comes up Heads (which we expect to be $0.5$ because the coin is fair).  One way to do this is to do a large number of coin flips and then divide the number of flips that come up Heads by the total number of flips. The following code flips the coin 50 times and computes the desired ratio: "
   ]
  },
  {
   "cell_type": "code",
   "execution_count": 87,
   "id": "fed3e3b0-39c9-4b88-8629-97be53ae6cff",
   "metadata": {},
   "outputs": [
    {
     "name": "stdout",
     "output_type": "stream",
     "text": [
      "the probability of heads is approximately 0.380\n"
     ]
    }
   ],
   "source": [
    "# The seed() method is used to initialize the random number generator.\n",
    "# The random number generator needs a number to start with (a seed value),\n",
    "#   to be able to generate a random number.\n",
    "# By default the random number generator uses the current system time.\n",
    "# We can use the seed() method to customize the start number of the random number generator\n",
    "# so that we get the same results each time.\n",
    "\n",
    "rng = np.random.default_rng(seed=152)\n",
    "\n",
    "\n",
    "# Write code to simulate flipping a coin 50 times and approximating the probability of heads using your simulation:\n",
    "flips = rng.choice(coin, size=50)\n",
    "approx_prob_heads = sum(flips==\"H\")/len(flips)\n",
    "\n",
    "print(\"the probability of heads is approximately {:.3f}\".format(approx_prob_heads))"
   ]
  },
  {
   "cell_type": "markdown",
   "id": "2fa80a15-f197-4571-a48a-b32310761c77",
   "metadata": {},
   "source": [
    "OK, so the simulation estimated that the probability of the coin coming up heads is pretty far off from the $0.5$ that we expected.  This is likely because we didn't do very many coin flips.  Let's see what happens if we rerun the simulation with $500$ coin flips. "
   ]
  },
  {
   "cell_type": "code",
   "execution_count": 88,
   "id": "e44a7e8f-8e2f-4e0d-8b82-b9720005cd30",
   "metadata": {},
   "outputs": [
    {
     "name": "stdout",
     "output_type": "stream",
     "text": [
      "the probability of heads is approximately 0.500\n"
     ]
    }
   ],
   "source": [
    "flips = rng.choice(coin, size=50000)\n",
    "approx_prob_heads = sum(flips==\"H\")/len(flips)\n",
    "print(\"the probability of heads is approximately {:.3f}\".format(approx_prob_heads))"
   ]
  },
  {
   "cell_type": "markdown",
   "id": "4b142d3a-5f96-435f-9d54-4a106b4738d6",
   "metadata": {},
   "source": [
    "With $500$ coin flips our estimate came out much closer to $0.5$\n",
    "\n",
    "\n",
    "\n",
    "It's an interesting exercise to make a plot of the running estimate of the probability as the number of coin flips increases.    This is one way to visualize a simulation of the frequentist definition of probability. \n",
    "\n",
    "\n",
    "We'll use the same random sequence of coin flips from the previous simulation.  \n",
    "\n",
    "We'll be using the Python `range` function (https://docs.python.org/3/library/functions.html#func-range) in the following code, so let's see how it works:\n"
   ]
  },
  {
   "cell_type": "code",
   "execution_count": 89,
   "id": "25a3773d-a0e5-40f3-9079-3cf51387115b",
   "metadata": {},
   "outputs": [
    {
     "name": "stdout",
     "output_type": "stream",
     "text": [
      "0\n",
      "1\n",
      "2\n",
      "3\n",
      "4\n"
     ]
    }
   ],
   "source": [
    "# Notice how range function works:\n",
    "\n",
    "for ii in range(5):\n",
    "    print(ii)"
   ]
  },
  {
   "cell_type": "code",
   "execution_count": 90,
   "id": "4352831f-8062-4f00-a7bb-990935f156fe",
   "metadata": {},
   "outputs": [
    {
     "name": "stdout",
     "output_type": "stream",
     "text": [
      "the probability of heads is approximately 0.505\n"
     ]
    },
    {
     "data": {
      "image/png": "[encoded data removed]",
      "text/plain": [
       "<Figure size 1200x600 with 1 Axes>"
      ]
     },
     "metadata": {},
     "output_type": "display_data"
    }
   ],
   "source": [
    "\n",
    "def plot_estimates(n):\n",
    "    \"\"\" Simulates flipping a fair coin n times and returns running \\\\\n",
    "        estimate of the probability of getting a heads as num_trials gets larger\"\"\"\n",
    "\n",
    "        # Ex: Running_prob is a list with ratio of 'H' being counted per times coin flipped.\n",
    "        # Suppose we got T, H, T, ...\n",
    "        # running_prob[0]=0/1   running_prob[1]=1/2   running_prob[2]=1/3   etc\n",
    "        # running_prob = [0, 0.5, 0.3333..., etc]\n",
    "    \n",
    "    flips = rng.choice([\"H\",\"T\"], size=n)\n",
    "    running_prob = []\n",
    "\n",
    "    for ii in range(n):\n",
    "        num = sum(flips[:(ii+1)]==\"H\") # count all values up to second to last, excluding the last (indexing starts at zero)\n",
    "        denom = ii+1\n",
    "        running_prob.append(num/denom)\n",
    "         \n",
    "    \n",
    "    return running_prob\n",
    "\n",
    "# Run code for num trials\n",
    "num_trials=10000\n",
    "\n",
    "p = plot_estimates(num_trials)\n",
    "x = np.arange(1, 10001)\n",
    "\n",
    "print(\"the probability of heads is approximately {:.3f}\".format(p[num_trials-1]))\n",
    " \n",
    "# Plot running estimate of probability of getting heads as num_trials gets larger:\n",
    "fig, ax = plt.subplots(figsize=(12,6))\n",
    "\n",
    "# plot the terms in p\n",
    "ax.plot(x, p, color=\"steelblue\",label=\"Simulated probability\")\n",
    "\n",
    "#Plot the theoretical probability\n",
    "plt.axhline(y=0.5, color='r', linestyle='-', label=\"Theoretical probability\")\n",
    "\n",
    "# put labels on the axes and give the graph a title.\n",
    "ax.set_title(\"Running Estimate of Probability of Heads\", fontsize=20)\n",
    "ax.set_xlabel(\"Number of Flips\", fontsize=16)\n",
    "ax.set_ylabel(\"Estimate of Probability\", fontsize=16)\n",
    "# fix the y-axis to be between 0 and 1:\n",
    "ax.set_ylim(.4,.6)\n",
    "# include a legend:\n",
    "ax.legend()\n",
    "# put a faded grid behind the graphic\n",
    "ax.grid(True, alpha=0.25)\n"
   ]
  },
  {
   "cell_type": "markdown",
   "id": "75d20b7b-65cd-4c31-a57a-b5574adaec0a",
   "metadata": {},
   "source": [
    "Notice that for very few flips the estimate of the probability is understandably poor.  But as the number of flips increases the estimate settles down to very close to the expected $0.5$. "
   ]
  },
  {
   "cell_type": "markdown",
   "id": "6ba1b44c-1352-428b-abfa-e65fe31a89a1",
   "metadata": {},
   "source": [
    "***\n",
    "\n",
    "### Example 3- Drawing Cards"
   ]
  },
  {
   "cell_type": "markdown",
   "id": "07dd049f-c244-44ab-a629-49d313b78395",
   "metadata": {},
   "source": [
    "You randomly draw 2 cards (without replacement) from a standard 52-card deck.  What's the probability that you draw 2 hearts?\n",
    "\n",
    "\n",
    "a).  Compute the probability by hand\n",
    "\n",
    "b).  Write a simulation to verify your results.\n",
    "\n",
    "\n",
    "**Answer**\n",
    "\n",
    "There are 13 cards that are hearts. The probability of drawing one heart is $\\frac{13}{52}$ and the probability of drawing another one w/o replacement i $\\frac{12}{51}$. Combining these two and we get $\\frac{1}{17}$."
   ]
  },
  {
   "cell_type": "markdown",
   "id": "4f17a035-f25d-41cc-bc8d-d4edee88bba2",
   "metadata": {},
   "source": [
    "**Simulation**:"
   ]
  },
  {
   "cell_type": "code",
   "execution_count": 91,
   "id": "a8040dd6-82e1-476f-b2ba-7e84cb365418",
   "metadata": {},
   "outputs": [
    {
     "name": "stdout",
     "output_type": "stream",
     "text": [
      "['DA', 'D2', 'D3', 'D4', 'D5', 'D6', 'D7', 'D8', 'D9', 'D10', 'DJ', 'DQ', 'DK', 'HA', 'H2', 'H3', 'H4', 'H5', 'H6', 'H7', 'H8', 'H9', 'H10', 'HJ', 'HQ', 'HK', 'CA', 'C2', 'C3', 'C4', 'C5', 'C6', 'C7', 'C8', 'C9', 'C10', 'CJ', 'CQ', 'CK', 'SA', 'S2', 'S3', 'S4', 'S5', 'S6', 'S7', 'S8', 'S9', 'S10', 'SJ', 'SQ', 'SK']\n"
     ]
    }
   ],
   "source": [
    "# Create a 52 card deck (use string 'D2' to represent the 2 of Diamonds)\n",
    "\n",
    "\n",
    "suits=['D','H','C','S']\n",
    "ranks = ['A', '2', '3', '4', '5', '6', '7', '8', '9', '10', 'J', 'Q', 'K']\n",
    "\n",
    "\n",
    "# Build a deck\n",
    "deck = [suit + rank for suit in suits for rank in ranks]\n",
    "\n",
    "print(deck)\n"
   ]
  },
  {
   "cell_type": "code",
   "execution_count": 92,
   "id": "83bd3aa6-6b1f-494f-a3f8-0b931a5e24ef",
   "metadata": {},
   "outputs": [
    {
     "data": {
      "text/plain": [
       "['DA', 'D2']"
      ]
     },
     "execution_count": 92,
     "metadata": {},
     "output_type": "execute_result"
    }
   ],
   "source": [
    "first_two_cards = deck[:2]\n",
    "first_two_cards"
   ]
  },
  {
   "cell_type": "code",
   "execution_count": 93,
   "id": "f4f12eeb-4f3f-4e87-95b8-40960d580904",
   "metadata": {},
   "outputs": [
    {
     "data": {
      "text/plain": [
       "['D', 'D']"
      ]
     },
     "execution_count": 93,
     "metadata": {},
     "output_type": "execute_result"
    }
   ],
   "source": [
    "suits = [card[0] for card in first_two_cards]\n",
    "suits"
   ]
  },
  {
   "cell_type": "code",
   "execution_count": 94,
   "id": "e8222938-4f1b-4191-b939-53453de1c542",
   "metadata": {},
   "outputs": [],
   "source": [
    "\n",
    "def check_two_hearts(twocards):   \n",
    "    \"\"\" Function to simulate a single draw of 2 cards (WITHOUT REPLACEMENT)\n",
    "        and check if both draws are hearts.\"\"\"\n",
    "\n",
    "    suits = [card[0] for card in twocards]\n",
    "    \n",
    "    return suits == [\"H\", \"H\"]\n",
    "       \n",
    "    "
   ]
  },
  {
   "cell_type": "markdown",
   "id": "6d57a5af-53c1-45e2-b87e-3777aecb08c7",
   "metadata": {},
   "source": [
    "Test your function:"
   ]
  },
  {
   "cell_type": "code",
   "execution_count": 95,
   "id": "10b19108-d6e3-4676-bafb-4af43f2d6681",
   "metadata": {},
   "outputs": [
    {
     "data": {
      "text/plain": [
       "False"
      ]
     },
     "execution_count": 95,
     "metadata": {},
     "output_type": "execute_result"
    }
   ],
   "source": [
    "check_two_hearts(['DA','H8']) \n",
    "\n",
    "# assert check_two_hearts(['H7','S7']) == False\n"
   ]
  },
  {
   "cell_type": "markdown",
   "id": "c1a2ad08-5bfd-4b5a-a282-e22405a7fc0f",
   "metadata": {},
   "source": [
    "Notice: In this scenario we want to draw two cards **WITHOUT REPLACEMENT**\n",
    "\n",
    "\n",
    "**OPTION 1:** \n",
    "`rng.choice(cards, replace=False, size=2)`\n",
    "\n",
    "\n",
    "**OPTION 2:** `rng.shuffle(cards)`  and then choose the first 2 in the shuffled list\n",
    "\n",
    "\n",
    "\n",
    "\n",
    " "
   ]
  },
  {
   "cell_type": "code",
   "execution_count": 96,
   "id": "51ddb11e-2d2e-43c2-86a7-31bde62c2e1d",
   "metadata": {},
   "outputs": [
    {
     "name": "stdout",
     "output_type": "stream",
     "text": [
      "['DA', 'D2', 'D3', 'D4', 'D5']\n",
      "Shuffled Deck ['C4', 'SJ', 'H9', 'S9', 'D4']\n"
     ]
    }
   ],
   "source": [
    "print(deck[:5])\n",
    "\n",
    "rng.shuffle(deck)\n",
    "\n",
    "print(\"Shuffled Deck\", deck[:5])"
   ]
  },
  {
   "cell_type": "code",
   "execution_count": 97,
   "id": "fbc963d5-935d-40d3-ae94-1975be424e68",
   "metadata": {},
   "outputs": [
    {
     "data": {
      "text/plain": [
       "False"
      ]
     },
     "execution_count": 97,
     "metadata": {},
     "output_type": "execute_result"
    }
   ],
   "source": [
    "\n",
    "def single_draw(deck):\n",
    "\n",
    "    \"\"\" Function that takes in a card deck, randomly draws 2 cards without replacement\n",
    "    and checks if both are hearts. Returns a Boolean. \"\"\"\n",
    "\n",
    "    rng.shuffle(deck)\n",
    "    first_two=deck[:2]\n",
    "    #print(first_two)\n",
    "    \n",
    "    return check_two_hearts(first_two)\n",
    "  \n",
    "\n",
    "out = single_draw(deck)\n",
    "out"
   ]
  },
  {
   "cell_type": "code",
   "execution_count": 98,
   "id": "08baa573-e99d-4aa1-a279-1be52139ef9b",
   "metadata": {},
   "outputs": [],
   "source": [
    "def probability_of_two_hearts(deck, num_sim):\n",
    "    \n",
    "    \"\"\"Function that takes in a card deck and conducts num_sim simulations of drawing 2 cards (without replacement)\n",
    "    and checking if they're both hearts. \n",
    "    Returns simulated probability out of num_sim simulations as well as a list with running probabilities.\"\"\"\n",
    "    \n",
    "    hearts = [single_draw(deck) for i in range(num_sim)]\n",
    "    \n",
    "    hearts_running_frac = [sum(hearts[:j+1])/(j+1) for j in range(num_sim)]\n",
    "    \n",
    "    return sum(hearts)/num_sim, hearts_running_frac # actual probability estimating, list of running probabilities"
   ]
  },
  {
   "cell_type": "markdown",
   "id": "48c0dea2-e36b-43cb-9d72-1da57a4c44e5",
   "metadata": {},
   "source": [
    "This is very close to the actual answer we analytically derived in part (a)."
   ]
  },
  {
   "cell_type": "code",
   "execution_count": 99,
   "id": "0cd37d31-7c24-4766-a990-13247704fadb",
   "metadata": {},
   "outputs": [
    {
     "name": "stdout",
     "output_type": "stream",
     "text": [
      "Simulated probability 0.055\n"
     ]
    },
    {
     "data": {
      "image/png": "[encoded data removed]",
      "text/plain": [
       "<Figure size 1200x600 with 1 Axes>"
      ]
     },
     "metadata": {},
     "output_type": "display_data"
    }
   ],
   "source": [
    "# Write code to plot the running probability:\n",
    "\n",
    "x = np.arange(1, 10001)\n",
    "\n",
    "prob, running_frac = probability_of_two_hearts(deck, num_sim=10000)\n",
    "\n",
    "\n",
    "print(\"Simulated probability\", prob)\n",
    "\n",
    "# Plot running estimate of probability of getting two hearts as num_trials gets larger:\n",
    "fig, ax = plt.subplots(figsize=(12,6))\n",
    "\n",
    "# plot the terms in p.   Use matplotlib's plt.plot function\n",
    "\n",
    "\n",
    "ax.plot(x, running_frac, color=\"steelblue\",label=\"Simulated probability\")\n",
    "\n",
    "#Plot the theoretical probability\n",
    "plt.axhline(y = 1/17, color = 'r', linestyle = '-', label = \"Theoretical probability\")\n",
    "\n",
    "# put labels on the axes and give the graph a title.\n",
    "ax.set_title(\"Running Estimate of Probability of Two Hearts\", fontsize=20)\n",
    "ax.set_xlabel(\"Number of Draws\", fontsize=16)\n",
    "ax.set_ylabel(\"Estimate of Probability\", fontsize=16)\n",
    "# fix the y-axis to be between 0 and 1:\n",
    "ax.set_ylim(0,0.1)\n",
    "# include a legend:\n",
    "ax.legend()\n",
    "# put a faded grid behind the graphic\n",
    "ax.grid(True, alpha=0.25)"
   ]
  },
  {
   "cell_type": "markdown",
   "id": "b71dc2ab-a11a-4241-8f5f-02dd161cf21b",
   "metadata": {},
   "source": [
    "*** \n",
    "\n",
    "### Example 4- Conditional Probabilities with Dice\n",
    "\n",
    "\n",
    "Suppose you roll a fair die two times.  Let $A$ be the event \"the sum of the throws equals 4\" and $B$ be the event \"at least one of the throws is a $3$\"\n",
    "\n",
    "**a).**   Compute (by hand) the probability that the sum of the throws equals 4 _given_ that at least one of the throws is a 3.  That is, compute $P(A \\mid B)$. \n",
    "\n",
    "\n",
    "**Answer**:\n",
    "\n",
    "$P(A \\cap B)$\n",
    "\n",
    "Event A: the sum of the rolls equals 4.\n",
    "\n",
    "Numbers that add up to four ${(1,3), (3,1), (2,2)}$ out of $36$ possibilities. That's $\\frac{3}{36}=\\frac{1}{12}$\n",
    "\n",
    "Event B: at least one fo the rolls is a three.\n",
    "\n",
    "None of the rolls are a three = $\\frac{1}{3}$. At least one = $1-\\frac{1}{3} = \\frac{2}{3}$.\n",
    "\n",
    "Event A and Event B: $\\frac{1}{12} \\cdot \\frac{2}{3} = \\frac{1}{18}$\n",
    "\n",
    "\n",
    "Ok, now to find $P(B)$: At least one of the rolls is a 3.\n",
    "\n",
    "Six sides (1,2,3,4,5,6).\n",
    "\n",
    "Where none of the rolls is a three = $5 \\times 5 = 25$\n",
    "\n",
    "At least one 3 = $36-25=11$\n",
    "\n",
    "Combine!\n",
    "\n",
    "$$\n",
    "\\frac{\\frac{1}{18}}{\\frac{11}{36}} = \\frac{2}{11}\n",
    "$$"
   ]
  },
  {
   "cell_type": "markdown",
   "id": "c6e0a507-3df7-4861-ae51-a00b15e34a5c",
   "metadata": {},
   "source": [
    "**b).** Write code to simulate the the conditional probability $P(A \\mid B)$. **Hint**: Think about the definition of conditional probability.\n",
    "\n",
    "*Hint:  the Numpy methods `np.logical_or` and `np.logical_and` are potentially useful.*"
   ]
  },
  {
   "cell_type": "code",
   "execution_count": 108,
   "id": "307d40fe-64c1-4723-b813-24609fad9f29",
   "metadata": {},
   "outputs": [
    {
     "name": "stdout",
     "output_type": "stream",
     "text": [
      "Roll 1 is  [1 2 4 2 2 4 3 1 1 5]\n",
      "Roll 2 is  [1 3 6 1 1 2 2 1 1 1]\n",
      "Event A: Sum to four?\n",
      " [False False False False False False False False False False]\n",
      "At least a three?\n",
      " [False  True False False False False  True False False False]\n",
      "Sums to four, and at least one three?\n",
      " [False False False False False False False False False False]\n",
      "0.0\n"
     ]
    }
   ],
   "source": [
    "def simulateA_given_B(num_samples):\n",
    "    \"\"\"Write code that conducts num_samples simulations to estimate \n",
    "    the probability that when rolling two die, the sume of the throws equals 4 \n",
    "    given that at least one of the throws is a 3.  Return the estimated probability\"\"\"\n",
    "    \n",
    "    die = np.array([1,2,3,4,5,6])\n",
    "    \n",
    "    roll1 = rng.choice(die,size=num_samples)\n",
    "    print(\"Roll 1 is \", roll1)\n",
    "    \n",
    "    roll2 = rng.choice(die, size=num_samples)\n",
    "    print(\"Roll 2 is \", roll2)\n",
    "    \n",
    "    sum_to_four = (roll1 + roll2) == 4\n",
    "    print(\"Event A: Sum to four?\\n\", sum_to_four)\n",
    "    \n",
    "    three_throws = np.logical_or(roll1==3, roll2==3)\n",
    "    print(\"At least a three?\\n\", three_throws)\n",
    "    \n",
    "    both = np.logical_and(sum_to_four,three_throws)\n",
    "    print(\"Sums to four, and at least one three?\\n\", both)\n",
    "    \n",
    "    \n",
    "    return sum(both)/sum(three_throws)\n",
    "    \n",
    "        \n",
    "cond_prob = simulateA_given_B(10)\n",
    "\n",
    "print(cond_prob)"
   ]
  },
  {
   "cell_type": "markdown",
   "id": "7357582c",
   "metadata": {
    "deletable": false,
    "editable": false
   },
   "source": [
    "<!-- BEGIN QUESTION -->\n",
    "\n",
    "***\n",
    "[Back to top](#top)\n",
    "\n",
    "<a id='p4'></a>\n",
    "\n",
    "<hr style=\"border: 5px solid #003262;\" />\n",
    "<hr style=\"border: 1px solid #fdb515;\" />\n",
    "\n",
    "## <span style='color:Red'>   Question 4a: Poker! (4 pts) ## \n",
    "\n",
    "A common example for discrete counting and probability questions are poker hands.  Consider using a standard 52-card playing deck, with card ranks `[A,2,3,4,5,6,7,8,9,10,J,Q,K]` across the standard 4 suits: `[C,D,H,S]`.\n",
    "\n",
    "Suppose we draw 5 cards at random from the deck without replacement.  \n",
    "\n",
    "In Poker, **\"Three of a Kind\"** is defined as a hand that contains **three cards of one rank and two cards of two other ranks.**  Notice that in this definition, a **Full House** (a hand that contains three cards of one rank and two cards of another rank) is **NOT classified as \"three of a kind\".** https://en.wikipedia.org/wiki/List_of_poker_hands#Three_of_a_kind\n",
    "\n",
    "\n",
    "<img src=\"img/three.png\" width=\"330px\">\n",
    "\n",
    "**What is the probability of drawing 5 cards (without replacement) that are \"three of a kind?\"**\n",
    "   \n",
    "\n",
    "Typeset your work using LaTeX below.  Show work justifying all steps.  You may leave your answer in terms of a ratio of products, but you should simplify away any combinatoric notation such as ${n \\choose k}$ or $P(n,k)$.\n"
   ]
  },
  {
   "cell_type": "markdown",
   "id": "75cd6877",
   "metadata": {},
   "source": [
    "### Answer\n",
    "\n",
    "Since there are 13 different cards, there are 13 different ways you can make a three of a kind. Next, you have to choose 3 out of the 4 cards to make three of a kind. This can be represented as $\\binom{13}{1}$ for the 13 different ranks and $\\binom{4}{3}$ to choose 3 out of the four cards of the rank.\n",
    "\n",
    "Next we have to choose two random cards. Since we got rid of one of the ranks, there are now 12 different ranks and still 4 suits to choose 1 card from. This can be represented as $\\binom{12}{1}\\binom{4}{1}\\binom{4}{1}$.\n",
    "\n",
    "Finally, since we are drawing five cards out of 52, this can be represented as: $\\binom{52}{5}$.\n",
    "\n",
    "The final formula would look like:\n",
    "\n",
    "$$\n",
    "\\frac{\\binom{13}{1}\\binom{4}{3}\\binom{12}{1}\\binom{4}{1}\\binom{4}{1}}{\\binom{52}{5}} = \\frac{88}{4165} \\approx 2.11\\%\n",
    "$$"
   ]
  },
  {
   "cell_type": "markdown",
   "id": "95b8f59d",
   "metadata": {
    "deletable": false,
    "editable": false
   },
   "source": [
    "<!-- END QUESTION -->\n",
    "\n",
    "To check your answer for 4a, enter the answer you came up with (just the probability) in the cell below. Note that this is just a public test. Full credit requires that you show all your work written in LaTeX and fully justifying your answer in the cell above."
   ]
  },
  {
   "cell_type": "code",
   "execution_count": 109,
   "id": "4928731e",
   "metadata": {
    "tags": []
   },
   "outputs": [],
   "source": [
    "q4a_answer = 88/4165"
   ]
  },
  {
   "cell_type": "code",
   "execution_count": 110,
   "id": "db659402",
   "metadata": {
    "deletable": false,
    "editable": false
   },
   "outputs": [
    {
     "data": {
      "text/html": [
       "<p><strong><pre style='display: inline;'>q4acheck</pre></strong> passed! 🍀</p>"
      ],
      "text/plain": [
       "q4acheck results: All test cases passed!"
      ]
     },
     "execution_count": 110,
     "metadata": {},
     "output_type": "execute_result"
    }
   ],
   "source": [
    "grader.check(\"q4acheck\")"
   ]
  },
  {
   "cell_type": "markdown",
   "id": "c93830f5",
   "metadata": {
    "deletable": false,
    "editable": false
   },
   "source": [
    "\n",
    "\n",
    "\n",
    "\n",
    "One of the big payoffs of simulation is that it can let us answer some probability questions that are otherwise quite difficult.  We can instead just simulate the process and get approximate results based on simulation.\n",
    "\n",
    "To simulate the scenario you calculated theoretically in part 4a, you will use the steps below to write code to simulate draws of a hand of 5 cards from a standard 52-card deck.  You'll repeat the simulation 10000 times, and report how many \"three of a kind\" hands were observed.  If your simulation code is correct, your answer should be very close to your theoretical answer from part 4a. \n",
    "\n",
    "<hr style=\"border: 5px solid #003262;\" />\n",
    "<hr style=\"border: 1px solid #fdb515;\" />\n",
    "\n",
    "## <span style='color:Red'>   Question 4bi (2 pts) ## \n",
    "    \n",
    "Use the Python lists `suits` and `ranks` provided below to create a Python `list` called `cards` with 52 strings that represnt a full deck of cards. \n",
    "\n",
    "In the string describing the card give the suit first and the rank second.  For example to represent the 3 of hearts use the string 'H3'. To represent the queen of diamonds use the string 'DQ'.   \n",
    "\n",
    "Use loops and/or list comprehensions to create the `card` list - **do not enter in the values manually.** \n",
    "Your deck should have 52 distinct cards.  \n"
   ]
  },
  {
   "cell_type": "code",
   "execution_count": 111,
   "id": "3a290aa1",
   "metadata": {
    "tags": []
   },
   "outputs": [
    {
     "data": {
      "text/plain": [
       "['DA',\n",
       " 'D2',\n",
       " 'D3',\n",
       " 'D4',\n",
       " 'D5',\n",
       " 'D6',\n",
       " 'D7',\n",
       " 'D8',\n",
       " 'D9',\n",
       " 'D10',\n",
       " 'DJ',\n",
       " 'DQ',\n",
       " 'DK',\n",
       " 'HA',\n",
       " 'H2',\n",
       " 'H3',\n",
       " 'H4',\n",
       " 'H5',\n",
       " 'H6',\n",
       " 'H7',\n",
       " 'H8',\n",
       " 'H9',\n",
       " 'H10',\n",
       " 'HJ',\n",
       " 'HQ',\n",
       " 'HK',\n",
       " 'CA',\n",
       " 'C2',\n",
       " 'C3',\n",
       " 'C4',\n",
       " 'C5',\n",
       " 'C6',\n",
       " 'C7',\n",
       " 'C8',\n",
       " 'C9',\n",
       " 'C10',\n",
       " 'CJ',\n",
       " 'CQ',\n",
       " 'CK',\n",
       " 'SA',\n",
       " 'S2',\n",
       " 'S3',\n",
       " 'S4',\n",
       " 'S5',\n",
       " 'S6',\n",
       " 'S7',\n",
       " 'S8',\n",
       " 'S9',\n",
       " 'S10',\n",
       " 'SJ',\n",
       " 'SQ',\n",
       " 'SK']"
      ]
     },
     "execution_count": 111,
     "metadata": {},
     "output_type": "execute_result"
    }
   ],
   "source": [
    "suits=['D','H','C','S']\n",
    "\n",
    "ranks = ['A', '2', '3', '4', '5', '6', '7', '8', '9', '10', 'J', 'Q', 'K']\n",
    "\n",
    "\n",
    "cards = [suit + rank for suit in suits for rank in ranks]\n",
    "\n",
    "# 4bi).  Write code to create a list called `cards` representing a 52-card deck above this line.\n",
    "\n",
    "cards"
   ]
  },
  {
   "cell_type": "code",
   "execution_count": 112,
   "id": "b817ac58",
   "metadata": {
    "deletable": false,
    "editable": false
   },
   "outputs": [
    {
     "data": {
      "text/html": [
       "<p><strong><pre style='display: inline;'>q4bi</pre></strong> passed! 🙌</p>"
      ],
      "text/plain": [
       "q4bi results: All test cases passed!"
      ]
     },
     "execution_count": 112,
     "metadata": {},
     "output_type": "execute_result"
    }
   ],
   "source": [
    "grader.check(\"q4bi\")"
   ]
  },
  {
   "cell_type": "markdown",
   "id": "2e721039-2f1e-4f47-bd2d-00e630b3db63",
   "metadata": {
    "deletable": false,
    "editable": false
   },
   "source": [
    "<hr style=\"border: 5px solid #003262;\" />\n",
    "<hr style=\"border: 1px solid #fdb515;\" />\n",
    "\n",
    "## <span style='color:Red'>   Question 4bii (3 pts) ## \n",
    "\n",
    "Define a function named `three_kind` to take a Python `list` of 5 cards as input (where the cards are given as strings such as `H3`) and check if the cards are Three of a Kind.  Your function should return `True` if the input is 3 of a kind and `False` otherwise. \n",
    "\n",
    "HINT: The function `np.unique` (https://numpy.org/doc/stable/reference/generated/numpy.unique.html) can make checking hands easier. \n"
   ]
  },
  {
   "cell_type": "code",
   "execution_count": 113,
   "id": "f5bddc33",
   "metadata": {
    "tags": []
   },
   "outputs": [],
   "source": [
    "def three_kind(hand):\n",
    "    \n",
    "    # Strip the cards of their suits\n",
    "    just_the_number = np.array([card[1] for card in hand])\n",
    "    \n",
    "    # Find the number of unique cards and then get the counts unique cards.\n",
    "    unique_rank, frequency = np.unique(just_the_number, return_counts=True)\n",
    "    \n",
    "    check_three = 0 # Checks if there are 3 of a kind\n",
    "    \n",
    "    check_two = 0 # Checkif any are two of a kind\n",
    "    \n",
    "    for elt in frequency:\n",
    "        # Checks for a full house. This is not included in the \"3 of a kind\" poker hands\n",
    "        if elt == 3:\n",
    "            check_three += 1\n",
    "        elif elt == 2:\n",
    "            check_two += 1\n",
    "\n",
    "    \n",
    "    return np.logical_and(check_three==1, check_two<1)\n",
    "\n",
    "# 4bii).Write a function (above this line) 'three_kind' to check a list of 5 cards to see if it is 3 of a kind "
   ]
  },
  {
   "cell_type": "code",
   "execution_count": 114,
   "id": "00610ae9",
   "metadata": {
    "deletable": false,
    "editable": false
   },
   "outputs": [
    {
     "data": {
      "text/html": [
       "<p><strong><pre style='display: inline;'>q4bii</pre></strong> passed! 🍀</p>"
      ],
      "text/plain": [
       "q4bii results: All test cases passed!"
      ]
     },
     "execution_count": 114,
     "metadata": {},
     "output_type": "execute_result"
    }
   ],
   "source": [
    "grader.check(\"q4bii\")"
   ]
  },
  {
   "cell_type": "markdown",
   "id": "5a82bca1-a6bc-49e5-9c35-5d54a45b9a1b",
   "metadata": {
    "deletable": false,
    "editable": false
   },
   "source": [
    "<!-- BEGIN QUESTION -->\n",
    "\n",
    "<hr style=\"border: 5px solid #003262;\" />\n",
    "<hr style=\"border: 1px solid #fdb515;\" />\n",
    "\n",
    "## <span style='color:Red'>   Question 4biii (4 pts) ## \n",
    "\n",
    "Write code in the space below that completes the following steps:\n",
    "\n",
    "Step 1:  Write a function to simulate 10,000 random draws from `cards` of 5 cards each, and check if each draw is Three of a Kind. The function should return the overall proportion of random hands (out of the 10,000) in which Three of a Kind was observed. If you have coded your simulation correctly, your answer to this part should be very close to your theoretical answer from Part 4a.  \n",
    "\n",
    "Step 2:  Let's visualize how this simulation converges to the theoretical probability.   In the video in Question 3, we plotted a running estimate of the probability of an event as a function of the number of trials in our simulation.  Write code that completes 10,000 random draws of 5 cards each, but this time outputs a plot of a running estimate of the proportion of hands that are Three of a Kind as a function of the number of trials (from 1 to 10,000) in your simulation.  **Include a red horizontal line on your plot with the theoretical probability that you calculated in part 4a.**  Be sure to include a title on your plot and be sure to label both your axes on the plot, as well as include a legend.\n",
    "\n",
    "\n",
    "\n",
    "\n"
   ]
  },
  {
   "cell_type": "code",
   "execution_count": 115,
   "id": "88cd2f2c",
   "metadata": {
    "tags": []
   },
   "outputs": [],
   "source": [
    "def random_hand():\n",
    "    suits=['D','H','C','S']\n",
    "    ranks = ['A', '2', '3', '4', '5', '6', '7', '8', '9', '10', 'J', 'Q', 'K']\n",
    "    cards = [suit + rank for suit in suits for rank in ranks]\n",
    "    \n",
    "    hand = rng.choice(cards, size=5, replace=False)\n",
    "    \n",
    "    check_hand = three_kind(hand)\n",
    "    \n",
    "    \n",
    "    return check_hand\n",
    "\n",
    "#4biii) Write your code for Step 1 above this line"
   ]
  },
  {
   "cell_type": "code",
   "execution_count": 116,
   "id": "8be0968b-f024-4e32-8970-37c2d8d86297",
   "metadata": {
    "tags": []
   },
   "outputs": [
    {
     "name": "stdout",
     "output_type": "stream",
     "text": [
      "Simulated probability 0.0213\n"
     ]
    },
    {
     "data": {
      "image/png": "[encoded data removed]",
      "text/plain": [
       "<Figure size 1200x600 with 1 Axes>"
      ]
     },
     "metadata": {},
     "output_type": "display_data"
    }
   ],
   "source": [
    "# DISCLAIMER: I JUST GOT THIS CODE FROM THE PROBLEM ABOVE.\n",
    "\n",
    "def probability_of_three_kind(num_sim):\n",
    "    \n",
    "    three_of_a_kind = [random_hand() for i in range(num_sim)]\n",
    "        \n",
    "    three_running_frac = [sum(three_of_a_kind[:j+1])/(j+1) for j in range(num_sim)]\n",
    "    \n",
    "    return sum(three_of_a_kind)/num_sim, three_running_frac # actual probability estimating, list of running probabilities\n",
    "\n",
    "\n",
    "# Write code to plot the running probability:\n",
    "\n",
    "x = np.arange(1, 10001)\n",
    "\n",
    "prob, running_frac = probability_of_three_kind(num_sim=10000)\n",
    "\n",
    "\n",
    "print(\"Simulated probability\", prob)\n",
    "\n",
    "# Plot running estimate of probability of getting two hearts as num_trials gets larger:\n",
    "fig, ax = plt.subplots(figsize=(12,6))\n",
    "\n",
    "# plot the terms in p.   Use matplotlib's plt.plot function\n",
    "\n",
    "\n",
    "ax.plot(x, running_frac, color=\"steelblue\",label=\"Simulated probability\")\n",
    "\n",
    "#Plot the theoretical probability\n",
    "plt.axhline(y = 88/4165, color = 'r', linestyle = '-', label = \"Theoretical probability\")\n",
    "\n",
    "# put labels on the axes and give the graph a title.\n",
    "ax.set_title(\"Running Estimate of Probability of Three of a Kind\", fontsize=20)\n",
    "ax.set_xlabel(\"Number of Draws\", fontsize=16)\n",
    "ax.set_ylabel(\"Estimate of Probability\", fontsize=16)\n",
    "# fix the y-axis to be between 0 and 1:\n",
    "ax.set_ylim(0,0.1)\n",
    "# include a legend:\n",
    "ax.legend()\n",
    "# put a faded grid behind the graphic\n",
    "ax.grid(True, alpha=0.25)\n",
    "\n",
    "# 4biii) Write your code for Step 2 above this line"
   ]
  },
  {
   "cell_type": "markdown",
   "id": "beabf65c-78cf-4aae-8bf0-2c2ddd576c6a",
   "metadata": {
    "deletable": false,
    "editable": false
   },
   "source": [
    "<!-- END QUESTION -->\n",
    "\n",
    "[Back to top](#top)\n",
    "\n",
    "<a id='p5'></a>\n",
    "\n",
    "<hr style=\"border: 5px solid #003262;\" />\n",
    "<hr style=\"border: 1px solid #fdb515;\" />\n",
    "\n",
    "## <span style='color:Red'>   Question 5:  (8 pts) ## "
   ]
  },
  {
   "cell_type": "markdown",
   "id": "76fbba34-1db9-4077-9a75-5855880a340d",
   "metadata": {
    "deletable": false,
    "editable": false
   },
   "source": [
    "<!-- BEGIN QUESTION -->\n",
    "\n",
    "<hr style=\"border: 5px solid #003262;\" />\n",
    "<hr style=\"border: 1px solid #fdb515;\" />\n",
    "\n",
    "## <span style='color:Red'>   Question 5a (4 pts) ## "
   ]
  },
  {
   "cell_type": "markdown",
   "id": "0f5b54df-a2bf-47ac-8157-62e7a2b5827f",
   "metadata": {
    "deletable": false,
    "editable": false
   },
   "source": [
    "**5a i).**  What is the **mathematical definition** of the conditional probability of an event A given an event B?  Give your answer using LaTex and correct mathematical notation.   You can assume $P(A)>0$ and $P(B)>0$\n",
    "\n",
    "\n",
    "**5a ii).** You flip a fair coin twice.  What is the probability that both flips are heads given that at least one of the flips is a heads?  Explain/justify using math.\n"
   ]
  },
  {
   "cell_type": "markdown",
   "id": "9fb48d16-60ef-4b22-a843-8f9a616ed1e5",
   "metadata": {},
   "source": [
    "**Enter your answer for part 5ai)** in this cell (double click on this cell and write all steps using Markdown and LaTex):\n",
    "\n",
    "\n",
    "**Answer**: The mathematical definition of the conditional probability of event A given an event B can be written as:\n",
    "\n",
    "$$\n",
    "P(A|B) = \\frac{P(A \\cap B)}{P(B)}\n",
    "$$"
   ]
  },
  {
   "cell_type": "markdown",
   "id": "a1b9dcfa-bf82-4b45-8860-cbe7e81bb4c9",
   "metadata": {},
   "source": [
    "**Enter your answer for part 5a ii)** in this cell (double click on this cell and write all steps using Markdown and LaTex):\n",
    "\n",
    "### Answer\n",
    "\n",
    "Event A: Both flips are heads\n",
    "\n",
    "First flip is heads: $\\frac{1}{2}$ probability\n",
    "\n",
    "Second flip is heads: $\\frac{1}{2}$ probability\n",
    "\n",
    "First and second flip are heads = $\\frac{1}{2} \\cdot \\frac{1}{2} = \\frac{1}{4}$\n",
    "\n",
    "Event B: At least one of the flips is heads = 1-None of the flips are heads\n",
    "\n",
    "Probability of $P(B)=\\frac{No \\ flips \\ are \\ heads}{Total \\ number \\ of \\ sides} = \\frac{1}{2}$. Do that twice $\\frac{1}{2} \\cdot \\frac{1}{2} = \\frac{1}{4}$\n",
    "\n",
    "At least one of the flips is heads $= 1-\\frac{1}{4} = \\frac{3}{4}$.\n",
    "\n",
    "Finding $P(A \\cap B)$: Since event A is completely contained in event B (I need at least one head to get \"HH\" anyways), we can just say $P(A \\cap B) = P(A) = \\frac{1}{4}$\n",
    "\n",
    "Combine!\n",
    "\n",
    "$$\n",
    "P(A|B) = \\frac{\\frac{1}{4}}{\\frac{3}{4}} = \\frac{1}{3}\n",
    "$$"
   ]
  },
  {
   "cell_type": "markdown",
   "id": "9b0925fb-845b-40a4-ae7b-09ef58c05101",
   "metadata": {
    "deletable": false,
    "editable": false
   },
   "source": [
    "<!-- END QUESTION -->\n",
    "\n",
    "**Q5aii Final Answer Check).**  To check your final answer to Q5aii, enter the final answer you came up with **as a fraction** in the cell below. Note that this is just a built-in public test so you can check your work and determine if you are on the right track.  To receive credit on this problem you must show all steps above using LaTeX and fully justifying your answer using correct mathematical notation.  "
   ]
  },
  {
   "cell_type": "code",
   "execution_count": 117,
   "id": "57777388-135d-4dae-814e-a9d2ec9c1f90",
   "metadata": {
    "tags": []
   },
   "outputs": [],
   "source": [
    "q5aii_answer = 1/3"
   ]
  },
  {
   "cell_type": "code",
   "execution_count": 118,
   "id": "7a930cb5",
   "metadata": {
    "deletable": false,
    "editable": false
   },
   "outputs": [
    {
     "data": {
      "text/html": [
       "<p><strong><pre style='display: inline;'>q5aiicheck</pre></strong> passed! 🍀</p>"
      ],
      "text/plain": [
       "q5aiicheck results: All test cases passed!"
      ]
     },
     "execution_count": 118,
     "metadata": {},
     "output_type": "execute_result"
    }
   ],
   "source": [
    "grader.check(\"q5aiicheck\")"
   ]
  },
  {
   "cell_type": "markdown",
   "id": "c37062b3-2bf9-40fb-8ba8-765bcc990f74",
   "metadata": {
    "deletable": false,
    "editable": false
   },
   "source": [
    "<!-- BEGIN QUESTION -->\n",
    "\n",
    "<hr style=\"border: 5px solid #003262;\" />\n",
    "<hr style=\"border: 1px solid #fdb515;\" />\n",
    "\n",
    "\n",
    "## <span style='color:Red'>  Question 5b (4 pts):"
   ]
  },
  {
   "cell_type": "markdown",
   "id": "048709dd-87b1-4d2e-aef1-74d0915857db",
   "metadata": {
    "deletable": false,
    "editable": false
   },
   "source": [
    "**5b).**  Suppose a bag has 5 red marbles and 3 blue ones.  We select 2 marbles without replacement (i.e. we select the first marble and then we don't put it back and then select a 2nd marble). \n",
    "    \n",
    " - i).  What is the probability that the 2nd marble is red given that the first marble is red?  Explain/justify using math. \n",
    "    \n",
    " - ii).  What is the probability that both marbles are red?  Explain/justify using math.  "
   ]
  },
  {
   "cell_type": "markdown",
   "id": "6f6b7860-e4d0-4cc9-a575-3b6118dc5abd",
   "metadata": {},
   "source": [
    "**Enter your answer for part 5bi)** in this cell (double click on this cell and write all steps using Markdown and LaTex):\n",
    "\n",
    "\n",
    "### Answer\n",
    "\n",
    "\n",
    "Event A = 2nd marble is red\n",
    "\n",
    "Event B = 1st marble is red\n",
    "\n",
    "Total marbles = 8 marbles\n",
    "\n",
    "Probability of event B = $\\frac{5}{8}$\n",
    "\n",
    "Probability of event A = $\\frac{4}{7}$\n",
    "\n",
    "Probability of both happening\n",
    "\n",
    "$$\n",
    "\\frac{5}{8} \\cdot \\frac{4}{7} = \\frac{20}{56}\n",
    "$$\n",
    "\n",
    "Using the conditional probability formula\n",
    "\n",
    "$$\n",
    "\\frac{\\frac{20}{56}}{\\frac{5}{8}} = \\frac{4}{7}\n",
    "$$"
   ]
  },
  {
   "cell_type": "markdown",
   "id": "cc9ae948-2149-4e96-a685-0910a2707945",
   "metadata": {},
   "source": [
    "**Enter your answer for part 5bii)** in this cell (double click on this cell and write all steps using Markdown and LaTex):\n",
    "\n",
    "### Answer\n",
    "\n",
    "This is esssentially just finding $P(A \\cap B) = \\frac{5}{8} \\cdot \\frac{4}{7} = \\frac{20}{56}$"
   ]
  },
  {
   "cell_type": "markdown",
   "id": "010383ec-242b-4dfc-83a4-80914c10daac",
   "metadata": {
    "deletable": false,
    "editable": false
   },
   "source": [
    "<!-- END QUESTION -->\n",
    "\n",
    "**5b Final Answer Check).**  To check your final answers to 5b, enter the final answer you came up with (**as simplified fractions**) in the cell below. Note that this is just a built-in public test so you can check your work and determine if you are on the right track.  To receive credit on this problem you must show all steps in part 5b above using LaTeX and fully justifying your answer using correct mathematical notation.  "
   ]
  },
  {
   "cell_type": "code",
   "execution_count": 121,
   "id": "d4ef29c0-437e-4205-a5d2-9865c8abd707",
   "metadata": {
    "tags": []
   },
   "outputs": [],
   "source": [
    "q5bi_answer = 4/7\n",
    "\n",
    "q5bii_answer = 20/56"
   ]
  },
  {
   "cell_type": "code",
   "execution_count": 122,
   "id": "c979ea9a",
   "metadata": {
    "deletable": false,
    "editable": false
   },
   "outputs": [
    {
     "data": {
      "text/html": [
       "<p><strong><pre style='display: inline;'>q5bcheck</pre></strong> passed! 🌟</p>"
      ],
      "text/plain": [
       "q5bcheck results: All test cases passed!"
      ]
     },
     "execution_count": 122,
     "metadata": {},
     "output_type": "execute_result"
    }
   ],
   "source": [
    "grader.check(\"q5bcheck\")"
   ]
  },
  {
   "cell_type": "markdown",
   "id": "2ba3c6c2",
   "metadata": {
    "deletable": false,
    "editable": false
   },
   "source": [
    "<!-- BEGIN QUESTION -->\n",
    "\n",
    "[Back to top](#top)\n",
    "\n",
    "<a id='p6'></a>\n",
    "\n",
    "<hr style=\"border: 5px solid #003262;\" />\n",
    "<hr style=\"border: 1px solid #fdb515;\" />\n",
    "\n",
    "## <span style='color:Red'>   Question 6 (7 pts) ## \n",
    "\n",
    "The accuracy of a diagnostic test is often described using the following terms:\n",
    "\n",
    " - Test Sensitivity: Ability to detect a positive case (i.e. probability that the test is positive given that the person actually has the virus).\n",
    "\n",
    " - Test Specificity:  Ability to determine a negative case (i.e. the probability that a person tests negative given that they don't have the virus)).\n",
    "\n",
    "\n",
    "Suppose a  diagnostic test for a virus is reported to have $85\\%$ sensitivity and $95\\%$ specificity.\n",
    "\n",
    "Suppose $3\\%$ of the population has the virus in question.  \n",
    "\n",
    "Answer the following questions all in ONE cell below using LaTeX.  Show all steps.\n",
    "\n",
    "**6a) (6 pts)**.  If a person is chosen at random from the population and the diagnostic test indicates that they have the virus, what is the conditional probability that they do, in fact, have the virus?    Write up your full solution using LaTeX.\n",
    "\n",
    "**6b) (1 pt)**.  Terminology: What is the **prior** and what is the **likelihood** in this scenario?"
   ]
  },
  {
   "cell_type": "markdown",
   "id": "9adda222",
   "metadata": {},
   "source": [
    "### Answer\n",
    "\n",
    "### 6a)\n",
    "\n",
    "To answer this we can use Bayes Theorem:\n",
    "\n",
    "Assign $P(V)$ = the probability of having the virus\n",
    "\n",
    "Assign $P(T)$ = the probability of testing positive\n",
    "\n",
    "From there we can plug this into Bayes Theorem\n",
    "\n",
    "$$\n",
    "P(T \\mid V) = \\frac{P(V \\mid T) P(V)}{P(T)}\n",
    "$$\n",
    "\n",
    "$P(V \\mid T)$ is the probability that given the test is positive, what is the probability the person actually has the virus. This is the saem thing a Test Sensitivity (mentioned above) which is given that it is $85\\%$\n",
    "\n",
    "$P(V)$ is the probability that someone has the virus. Again, this is already given to us above as $3\\%$\n",
    "\n",
    "Now we need to find $P(T)$ which is the probability that all test cases are positive. We can find this by recalling that $P(T) = P(V \\mid T) + P(V' \\mid T)$\n",
    "\n",
    "$P(V') + P(V) = 1$ thus, $P(V') = 1-P(V) = 1-0.03 = 0.97$\n",
    "\n",
    "We are also given that Test Specificity is the probability that a person test negative given that they don't have the virus is $95\\%$. Thus, the probability that a person tests positive and they don't have the virus (false positive) would be $5\\%$ because these values should add up to $1$.\n",
    "\n",
    "Now, we can put this all together in Bayes theorem:\n",
    "\n",
    "$$\n",
    "P(T \\mid V) = \\frac{0.85 \\cdot 0.03}{(0.03 \\cdot 0.85) + (0.97 \\cdot 0.05)} = \\frac{51}{148}\n",
    "$$\n",
    "\n",
    "\n",
    "### 6b)\n",
    "\n",
    "The **prior** is the probability of the virus. We have to consider if the person has the virus before testing the probability they test positive or negative.\n",
    "\n",
    "The **likelihood** is the probability that someone tests positive given they have the virus. We have to consider the fact that they have the virus, before we can test the probability that they test positive in this scenario."
   ]
  },
  {
   "cell_type": "markdown",
   "id": "2e62757b",
   "metadata": {
    "deletable": false,
    "editable": false
   },
   "source": [
    "<!-- END QUESTION -->\n",
    "\n",
    "To check your answer for Problem 6a, enter the answer you came up with (just the probability) in the cell below.  Do not round your answer - give the exact probability. Note that this is just a public test. Full credit requires that you show all your work written in LaTeX and fully justifying your answer above."
   ]
  },
  {
   "cell_type": "code",
   "execution_count": 123,
   "id": "dc7d990f",
   "metadata": {
    "tags": []
   },
   "outputs": [],
   "source": [
    "q6a_answer = 51/148"
   ]
  },
  {
   "cell_type": "code",
   "execution_count": 124,
   "id": "7135c46d",
   "metadata": {
    "deletable": false,
    "editable": false
   },
   "outputs": [
    {
     "data": {
      "text/html": [
       "<p><strong><pre style='display: inline;'>q6check</pre></strong> passed! 💯</p>"
      ],
      "text/plain": [
       "q6check results: All test cases passed!"
      ]
     },
     "execution_count": 124,
     "metadata": {},
     "output_type": "execute_result"
    }
   ],
   "source": [
    "grader.check(\"q6check\")"
   ]
  },
  {
   "cell_type": "markdown",
   "id": "656bc114",
   "metadata": {
    "deletable": false,
    "editable": false
   },
   "source": [
    "<!-- BEGIN QUESTION -->\n",
    "\n",
    "***\n",
    "[Back to top](#top)\n",
    "\n",
    "<a id='p7'></a>\n",
    "\n",
    "<hr style=\"border: 5px solid #003262;\" />\n",
    "<hr style=\"border: 1px solid #fdb515;\" />\n",
    "\n",
    "## <span style='color:Red'>   Question 7a (3 pts) ## \n",
    "\n",
    "To play a game, you have a bag containing 30 fair [four-sided dice](https://en.wikipedia.org/wiki/Four-sided_die), with faces `{1,2,3,4}`.  This bag also contains 9 fair six-sided dice (faces `{1,2,3,4,5,6}`) and 3 fair twenty-sided dice (faces `{1,2,3,4,...,19,20}`).  Call these 3 classes of die \"Four\", \"Six\" and \"Twenty\" (or $D_4$, $D_6$, and $D_{20}$, for short).  You grab one die at random from the box.  \n",
    "\n",
    "Work the following problems by hand and write up your full solution using LaTeX unless otherwise stated (but don't be afraid to simulate to check your result!). "
   ]
  },
  {
   "cell_type": "markdown",
   "id": "fc16aa75",
   "metadata": {
    "deletable": false,
    "editable": false
   },
   "source": [
    "You grab one die at random from the box and roll it one time.  What is the probability of the event $R_2$, that you roll a 2? Explain your reasoning mathematically (using LaTeX).   "
   ]
  },
  {
   "cell_type": "markdown",
   "id": "503b0a98",
   "metadata": {},
   "source": [
    "### Answer\n",
    "\n",
    "To answer this we can use the Law of Total Probability:\n",
    "\n",
    "$$\n",
    "R_2 = P(R_2 | D_4) + P(R_2 | D_6) + P(R_2 | D_{20})\n",
    "$$\n",
    "\n",
    "Total amt of dice: $30+9+3=42$\n",
    "\n",
    "Probability of grabbing a D4 $P(D_4)$: $\\frac{30}{42}=\\frac{5}{7}$\n",
    "\n",
    "Probability of grabbing a D6 $P(D_6)$: $\\frac{9}{42}=\\frac{3}{14}$\n",
    "\n",
    "Probability of grabbing a D20 $P(D_{20})$: $\\frac{3}{42}=\\frac{1}{14}$\n",
    "\n",
    "Now that we have the probabilities of choosing a specific die type, we can calculate the probability of rolling a \"2\" on each of these die types:\n",
    "\n",
    "$P(R_2 | D_4)$: $\\frac{5}{7} \\times \\frac{1}{4}$\n",
    "\n",
    "$P(R_2 | D_6)$: $\\frac{3}{14} \\times \\frac{1}{6}$\n",
    "\n",
    "$P(R_2 | D_{20})$: $\\frac{1}{14} \\times \\frac{1}{20}$\n",
    "\n",
    "Putting this all back into the equation and we get:\n",
    "\n",
    "$$\n",
    "\\frac{5}{7} \\cdot \\frac 14 + \\frac{3}{14} \\cdot \\frac 16 + \\frac{1}{14} \\cdot \\frac{1}{20} =  \\frac{61}{280} \\approx 21\\%\n",
    "$$"
   ]
  },
  {
   "cell_type": "markdown",
   "id": "fa44a95a",
   "metadata": {
    "deletable": false,
    "editable": false
   },
   "source": [
    "<!-- END QUESTION -->\n",
    "\n"
   ]
  },
  {
   "cell_type": "code",
   "execution_count": 125,
   "id": "aa076d37-1929-410d-85c4-de56ea1e81c5",
   "metadata": {},
   "outputs": [],
   "source": [
    "# Optional space for simulation/checking work:\n"
   ]
  },
  {
   "cell_type": "markdown",
   "id": "295114bf",
   "metadata": {
    "deletable": false,
    "editable": false
   },
   "source": [
    "To check your answer for 7a, enter the answer you came up with (just the probability) in the cell below.  Do not round your answer- give the exact probability.  Note that this is just a public test. Full credit requires that you show all your work written in LaTeX and fully justifying your answer in part 7a above."
   ]
  },
  {
   "cell_type": "code",
   "execution_count": 126,
   "id": "74b46d0f",
   "metadata": {
    "tags": []
   },
   "outputs": [],
   "source": [
    "q7a_answer = 61/280"
   ]
  },
  {
   "cell_type": "code",
   "execution_count": 127,
   "id": "8f07f6f8",
   "metadata": {
    "deletable": false,
    "editable": false
   },
   "outputs": [
    {
     "data": {
      "text/html": [
       "<p><strong><pre style='display: inline;'>q7acheck</pre></strong> passed! 🍀</p>"
      ],
      "text/plain": [
       "q7acheck results: All test cases passed!"
      ]
     },
     "execution_count": 127,
     "metadata": {},
     "output_type": "execute_result"
    }
   ],
   "source": [
    "grader.check(\"q7acheck\")"
   ]
  },
  {
   "cell_type": "markdown",
   "id": "b1bef844",
   "metadata": {
    "deletable": false,
    "editable": false
   },
   "source": [
    "<!-- BEGIN QUESTION -->\n",
    "\n",
    "<hr style=\"border: 5px solid #003262;\" />\n",
    "<hr style=\"border: 1px solid #fdb515;\" />\n",
    "\n",
    "## <span style='color:Red'>   Question 7b (3 pts) ## \n",
    "\n",
    "You grab one die at random from the box and roll it one time. Suppose you roll a 2.  Given this information, what is the probability that the die you chose from the box is a Twenty-sided die? Write up your full solution using LaTeX. Show all steps.  "
   ]
  },
  {
   "cell_type": "markdown",
   "id": "cfa8132b",
   "metadata": {},
   "source": [
    "### Answer\n",
    "\n",
    "Rephrase: \"What is the probability that I chose a d20, given that a rolled a 2?\"\n",
    "\n",
    "Bayes Theorem:\n",
    "$$\n",
    "P(D_{20}|R_2) = \\frac{P(R_2|D_{20}) \\cdot P(D_{20})}{P(R_{2})}\n",
    "$$\n",
    "\n",
    "\n",
    "$P(R_2 | D_{20})$\n",
    "Probability: $\\frac{1}{20}$ (from above)\n",
    "\n",
    "$P(D_{20})$\n",
    "Probability: $\\frac{1}{14}$ (from above)\n",
    "\n",
    "$P(R_2)$\n",
    "Probability: $\\frac{61}{280}$ (from above)\n",
    "\n",
    "Combine!\n",
    "\n",
    "$$\n",
    "\\frac{\\frac{1}{20} \\cdot \\frac{1}{14}}{\\frac{61}{280}} = \\frac{1}{61}\n",
    "$$"
   ]
  },
  {
   "cell_type": "markdown",
   "id": "f0dcffd4",
   "metadata": {
    "deletable": false,
    "editable": false
   },
   "source": [
    "<!-- END QUESTION -->\n",
    "\n",
    "To check your answer for 7b, enter the answer you came up with (just the probability) in the cell below. Give the exact probability (do not round).  Note that this is just a public test. Full credit requires that you show all your work written in LaTeX and fully justifying your answer in part 7b above."
   ]
  },
  {
   "cell_type": "code",
   "execution_count": 128,
   "id": "4347169f",
   "metadata": {
    "tags": []
   },
   "outputs": [],
   "source": [
    "q7b_answer = 1/61"
   ]
  },
  {
   "cell_type": "code",
   "execution_count": 129,
   "id": "a7597d87",
   "metadata": {
    "deletable": false,
    "editable": false
   },
   "outputs": [
    {
     "data": {
      "text/html": [
       "<p><strong><pre style='display: inline;'>q7bcheck</pre></strong> passed! 🚀</p>"
      ],
      "text/plain": [
       "q7bcheck results: All test cases passed!"
      ]
     },
     "execution_count": 129,
     "metadata": {},
     "output_type": "execute_result"
    }
   ],
   "source": [
    "grader.check(\"q7bcheck\")"
   ]
  },
  {
   "cell_type": "markdown",
   "id": "169d7663",
   "metadata": {},
   "source": [
    "<br/><br/>\n",
    "<hr style=\"border: 5px solid #003262;\" />\n",
    "<hr style=\"border: 1px solid #fdb515;\" />\n",
    "\n",
    "## Congratulations! You have finished Homework 4!"
   ]
  },
  {
   "cell_type": "markdown",
   "id": "cc31acf9",
   "metadata": {},
   "source": [
    "If you discussed this assignment with any other students in the class (in a manner that is acceptable as described by the Collaboration policy above) please **include their names** here:\n",
    "\n",
    "**Collaborators**: *N/A*"
   ]
  },
  {
   "cell_type": "markdown",
   "id": "5ee218b2-b81b-4acd-87e8-069e8bbdcf2c",
   "metadata": {},
   "source": [
    "If while completing this assignment you reference any websites other than those linked in this assignment or provided on Canvas please list those references here:\n",
    "\n",
    "**External references**:\n",
    "\n",
    "* [numpy unqiue API](https://numpy.org/doc/stable/reference/generated/numpy.unique.html)"
   ]
  },
  {
   "cell_type": "markdown",
   "id": "46739932",
   "metadata": {
    "tags": []
   },
   "source": [
    "### Submission Instructions\n",
    "\n",
    "Before proceeding any further, **save this notebook.**\n",
    "\n",
    "After running the `grader.export()` cell provided below, **2 files will be created**: a zip file and pdf file.  You can download them using the links provided below OR by finding them in the same folder where this juptyer notebook resides in your JuptyerHub.\n",
    "\n",
    "To receive credit on this assignment, **you must submit BOTH of these files\n",
    "to their respective Gradescope portals:** \n",
    "\n",
    "* **Homework 4 Autograded**: Submit the zip file that is output by the `grader.export()` cell below to the HW4 Autograded assignment in Gradescope.\n",
    "\n",
    "* **Homework 4 Manually Graded**: Submit your hw04.PDF to the HW4 Manually Graded assignment in Gradescope.  **YOU MUST SELECT THE PAGES CORRESPONDING TO EACH QUESTION WHEN YOU UPLOAD TO GRADESCOPE.  IF NOT, YOU WILL LOSE POINTS**   Also, **check** that all of your plots **and** all lines of your code are showing up in your PDF before submitting.  If not, you will not receive credit for your plots/code.  \n",
    "\n",
    "\n",
    "**You are responsible for ensuring your submission follows our requirements. We will not be granting regrade requests nor extensions to submissions that don't follow instructions.** If you encounter any difficulties with submission, please don't hesitate to reach out to staff prior to the deadline."
   ]
  },
  {
   "cell_type": "markdown",
   "id": "eb39d2c5-6279-4e74-aaec-80db331fd2e3",
   "metadata": {},
   "source": [
    "**TROUBLESHOOTING TIPS**  If you are having any issues compiling your assignment, please [read through these troubleshooting tips first](https://docs.google.com/document/d/1ndr3Wj1PSF5qzlLMaBJznwh6QGeEXjd5TAJ6nf9EJvo/edit?usp=sharing), then post any questions on Piazza. "
   ]
  },
  {
   "cell_type": "code",
   "execution_count": 132,
   "id": "75f0c0fc-c208-4919-b51a-3271138a74e3",
   "metadata": {},
   "outputs": [
    {
     "name": "stdout",
     "output_type": "stream",
     "text": [
      "No detected errors. Export can be run.\n"
     ]
    }
   ],
   "source": [
    "import simple_latex_checker as slc\n",
    "\n",
    "nb = slc.Nb_checker()\n",
    "nb.run_check(\"hw04.ipynb\")"
   ]
  },
  {
   "cell_type": "markdown",
   "id": "c3010dd3",
   "metadata": {
    "deletable": false,
    "editable": false
   },
   "source": [
    "## Submission\n",
    "\n",
    "Make sure you have run all cells in your notebook in order before running the cell below, so that all images/graphs appear in the output. The cell below will generate a zip file for you to submit. **Please save before exporting!**\n",
    "\n",
    "AFTER running the cell below, click on <a href='hw04.pdf' download>this link to download the PDF </a> to upload to Gradescope.  There will be a separate link that appears after running the cell below with a link to download the zip file to upload to Gradescope."
   ]
  },
  {
   "cell_type": "code",
   "execution_count": 133,
   "id": "80ff5836",
   "metadata": {
    "deletable": false,
    "editable": false
   },
   "outputs": [
    {
     "name": "stdout",
     "output_type": "stream",
     "text": [
      "Running your submission against local test cases...\n",
      "\n",
      "\n",
      "Your submission received the following results when run against available test cases:\n",
      "\n",
      "    q1a results: All test cases passed!\n",
      "\n",
      "    q1b results: All test cases passed!\n",
      "\n",
      "    q1c results: All test cases passed!\n",
      "\n",
      "    q1d results: All test cases passed!\n",
      "\n",
      "    q2acheck results: All test cases passed!\n",
      "\n",
      "    q2bcheck results: All test cases passed!\n",
      "\n",
      "    q4acheck results: All test cases passed!\n",
      "\n",
      "    q4bi results: All test cases passed!\n",
      "\n",
      "    q4bii results: All test cases passed!\n",
      "\n",
      "    q5aiicheck results: All test cases passed!\n",
      "\n",
      "    q5bcheck results: All test cases passed!\n",
      "\n",
      "    q6check results: All test cases passed!\n",
      "\n",
      "    q7acheck results: All test cases passed!\n",
      "\n",
      "    q7bcheck results: All test cases passed!\n"
     ]
    },
    {
     "data": {
      "text/html": [
       "\n",
       "                    <p>\n",
       "                        Your submission has been exported. Click\n",
       "                        <a href=\"hw04_2025_02_05T23_20_01_116378.zip\" download=\"hw04_2025_02_05T23_20_01_116378.zip\" target=\"_blank\">here</a> to download\n",
       "                        the zip file.\n",
       "                    </p>\n",
       "                "
      ],
      "text/plain": [
       "<IPython.core.display.HTML object>"
      ]
     },
     "metadata": {},
     "output_type": "display_data"
    }
   ],
   "source": [
    "# Save your notebook first, then run this cell to export your submission.\n",
    "grader.export(run_tests=True)"
   ]
  },
  {
   "cell_type": "markdown",
   "id": "05531e94",
   "metadata": {},
   "source": [
    " "
   ]
  }
 ],
 "metadata": {
  "kernelspec": {
   "display_name": "Python [conda env:base] *",
   "language": "python",
   "name": "conda-base-py"
  },
  "language_info": {
   "codemirror_mode": {
    "name": "ipython",
    "version": 3
   },
   "file_extension": ".py",
   "mimetype": "text/x-python",
   "name": "python",
   "nbconvert_exporter": "python",
   "pygments_lexer": "ipython3",
   "version": "3.12.7"
  },
  "otter": {
   "OK_FORMAT": true,
   "tests": {
    "q1a": {
     "name": "q1a",
     "points": 1,
     "suites": [
      {
       "cases": [
        {
         "code": ">>> assert get_hash(round(first_three_black, 4)) == '271991f15c06e3dd9aa7a0d196ff5b19'\n",
         "hidden": false,
         "locked": false
        }
       ],
       "scored": true,
       "setup": "",
       "teardown": "",
       "type": "doctest"
      }
     ]
    },
    "q1b": {
     "name": "q1b",
     "points": 1,
     "suites": [
      {
       "cases": [
        {
         "code": ">>> assert get_hash(round(no_green, 4)) == '157efb8545e3fd05e47afd97f4816d17'\n",
         "hidden": false,
         "locked": false
        }
       ],
       "scored": true,
       "setup": "",
       "teardown": "",
       "type": "doctest"
      }
     ]
    },
    "q1c": {
     "name": "q1c",
     "points": 1,
     "suites": [
      {
       "cases": [
        {
         "code": ">>> assert get_hash(round(at_least_one_green, 4)) == 'bdfd2bbc94051b89092784727dadb9c9'\n",
         "hidden": false,
         "locked": false
        }
       ],
       "scored": true,
       "setup": "",
       "teardown": "",
       "type": "doctest"
      }
     ]
    },
    "q1d": {
     "name": "q1d",
     "points": 1,
     "suites": [
      {
       "cases": [
        {
         "code": ">>> assert get_hash(round(lone_winners, 4)) == '4ad22987066120a9962f994a9fe684f4'\n",
         "hidden": false,
         "locked": false
        }
       ],
       "scored": true,
       "setup": "",
       "teardown": "",
       "type": "doctest"
      }
     ]
    },
    "q2acheck": {
     "name": "q2acheck",
     "points": 0,
     "suites": [
      {
       "cases": [
        {
         "code": ">>> assert get_hash(round(q2a_answer, 4)) == '3d522deaf85577451c01974654b36ad3'\n",
         "hidden": false,
         "locked": false
        }
       ],
       "scored": true,
       "setup": "",
       "teardown": "",
       "type": "doctest"
      }
     ]
    },
    "q2bcheck": {
     "name": "q2bcheck",
     "points": 0,
     "suites": [
      {
       "cases": [
        {
         "code": ">>> assert get_hash(round(q2b_answer, 4)) == 'f452927b0b2a755192117d956a8d47f6'\n",
         "hidden": false,
         "locked": false
        }
       ],
       "scored": true,
       "setup": "",
       "teardown": "",
       "type": "doctest"
      }
     ]
    },
    "q4acheck": {
     "name": "q4acheck",
     "points": 0,
     "suites": [
      {
       "cases": [
        {
         "code": ">>> assert get_hash(round(q4a_answer, 4)) == 'ace990a0524b7549fea9afe4a158c01c'\n",
         "hidden": false,
         "locked": false
        }
       ],
       "scored": true,
       "setup": "",
       "teardown": "",
       "type": "doctest"
      }
     ]
    },
    "q4bi": {
     "name": "q4bi",
     "points": 2,
     "suites": [
      {
       "cases": [
        {
         "code": ">>> assert get_hash(len(cards)) == '9a1158154dfa42caddbd0694a4e9bdc8'\n",
         "hidden": false,
         "locked": false
        },
        {
         "code": ">>> assert get_hash(sorted(set(cards))) == '83dfc5b12f2790365c2b2ba676e90de0'\n",
         "hidden": false,
         "locked": false
        }
       ],
       "scored": true,
       "setup": "",
       "teardown": "",
       "type": "doctest"
      }
     ]
    },
    "q4bii": {
     "name": "q4bii",
     "points": 3,
     "suites": [
      {
       "cases": [
        {
         "code": ">>> assert three_kind(['H3', 'S3', 'D3', 'H4', 'C5']) == True\n",
         "hidden": false,
         "locked": false
        },
        {
         "code": ">>> assert three_kind(['C4', 'D4', 'S4', 'H4', 'H2']) == False\n",
         "hidden": false,
         "locked": false
        },
        {
         "code": ">>> assert three_kind(['SA', 'S4', 'S4', 'H5', 'H10']) == False\n",
         "hidden": false,
         "locked": false
        },
        {
         "code": ">>> assert three_kind(['SA', 'DA', 'HA', 'C5', 'H5']) == False\n",
         "hidden": false,
         "locked": false
        },
        {
         "code": ">>> assert three_kind(['S3', 'D3', 'H4', 'C4', 'H5']) == False\n",
         "hidden": false,
         "locked": false
        },
        {
         "code": ">>> assert three_kind(['S10', 'D10', 'H10', 'CQ', 'HA']) == True\n",
         "hidden": false,
         "locked": false
        }
       ],
       "scored": true,
       "setup": "",
       "teardown": "",
       "type": "doctest"
      }
     ]
    },
    "q5aiicheck": {
     "name": "q5aiicheck",
     "points": 0,
     "suites": [
      {
       "cases": [
        {
         "code": ">>> assert get_hash(round(q5aii_answer, 4)) == 'd80cd8a9bc59ca0c1f479e4eca3c64be'\n",
         "hidden": false,
         "locked": false
        }
       ],
       "scored": true,
       "setup": "",
       "teardown": "",
       "type": "doctest"
      }
     ]
    },
    "q5bcheck": {
     "name": "q5bcheck",
     "points": 0,
     "suites": [
      {
       "cases": [
        {
         "code": ">>> assert get_hash(round(q5bi_answer, 4)) == '790abc5c38e7c740420b03c24fabb05b'\n",
         "hidden": false,
         "locked": false
        },
        {
         "code": ">>> assert get_hash(round(q5bii_answer, 4)) == 'b4b8f49579f52a53c6963b8f8f685a29'\n",
         "hidden": false,
         "locked": false
        }
       ],
       "scored": true,
       "setup": "",
       "teardown": "",
       "type": "doctest"
      }
     ]
    },
    "q6check": {
     "name": "q6check",
     "points": 0,
     "suites": [
      {
       "cases": [
        {
         "code": ">>> assert get_hash(round(q6a_answer, 5)) == '439546d788c53a6c0c1c5194027e5d36'\n",
         "hidden": false,
         "locked": false
        }
       ],
       "scored": true,
       "setup": "",
       "teardown": "",
       "type": "doctest"
      }
     ]
    },
    "q7acheck": {
     "name": "q7acheck",
     "points": 0,
     "suites": [
      {
       "cases": [
        {
         "code": ">>> assert get_hash(round(q7a_answer, 6)) == 'cb96698ec25a583b061cc9b57a4d3e36'\n",
         "hidden": false,
         "locked": false
        }
       ],
       "scored": true,
       "setup": "",
       "teardown": "",
       "type": "doctest"
      }
     ]
    },
    "q7bcheck": {
     "name": "q7bcheck",
     "points": 0,
     "suites": [
      {
       "cases": [
        {
         "code": ">>> assert get_hash(round(q7b_answer, 4)) == 'c29ea1fe96eb4921715b8ceae933a374'\n",
         "hidden": false,
         "locked": false
        }
       ],
       "scored": true,
       "setup": "",
       "teardown": "",
       "type": "doctest"
      }
     ]
    }
   }
  }
 },
 "nbformat": 4,
 "nbformat_minor": 5
}
