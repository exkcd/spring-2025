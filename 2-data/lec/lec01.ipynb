{
 "cells": [
  {
   "cell_type": "markdown",
   "metadata": {},
   "source": [
    "# Lecture 1\n",
    "\n",
    "*January 13, 2025*"
   ]
  },
  {
   "cell_type": "markdown",
   "metadata": {},
   "source": [
    "**Learning Objectives**\n",
    "* Name and explain the data science lifecycle\n",
    "*  Exploratory data analysis & wrangling\n",
    "\n",
    "## The Data Science Lifecycle\n",
    "* high level description of data science workflow\n",
    "\n",
    "### 1. Question/Problem Formulation\n",
    "* What do we want to know?\n",
    "* What problems are we trying to solve?\n",
    "* What are the hypotheses we want to test?\n",
    "* What are our metrics for success?\n",
    "\n",
    "### 2. Data Acquisition and Cleaning\n",
    "* What data do we have and what data do we need?\n",
    "* How will we sample more data?\n",
    "* Is our data representative of the population we want to study?\n",
    "\n",
    "### 3. Exploratory Data Analysis & Visualization\n",
    "* How is our data organized and what does it contain?\n",
    "* Do we already have relevant data?\n",
    "* What are the biases, anomalies, or other issues with the data?\n",
    "* How do we transform data to enable effective analysis?\n",
    "\n",
    "### 4. Prediction and inference\n",
    "* What does the data say about the world?\n",
    "* Does it answer our questions or accurately solve the problem?\n",
    "* How robust are our conclusions and can we trust the predictions?"
   ]
  },
  {
   "cell_type": "markdown",
   "metadata": {},
   "source": [
    "## Exploratory data analysis (EDA)\n",
    "\n",
    "**Process of transforming, visualizing, and summarizing data**. Helps to:\n",
    "* Build/confirm understanding and provenance (i.e. origin of data; method by which data was produced)\n",
    "* Identify and address potential issues w/ data\n",
    "* Inform subsequent analysis\n",
    "* Discover potential hypotheses\n",
    "\n",
    "**EDA is an open-ended analysis**\n",
    "* Informal, no specific data to look for\n",
    "* Be willing to find something surprising\n",
    "\n",
    "**Contrasts confirmatory analysis**\n",
    "* Questions are fixed in advance\n",
    "* Allows for more rigorous statistical analysis\n",
    "\n",
    "### Data wrangling (data cleaning)\n",
    "\n",
    "**Process of transforming raw data to facilitate subsequent analysis**\n",
    "\n",
    "Address issues such as:\n",
    "* structure/formatting\n",
    "* missing/corrupted values\n",
    "* unit conversion\n",
    "* encoding text as numbers\n",
    "\n",
    "### Properties in EDA\n",
    "\n",
    "* structure -- shape of data file\n",
    "* granularity -- what does each record represent?\n",
    "* scope -- how (in)complete is the data?\n",
    "* temporality -- how is the data situated in time?\n",
    "* faithfulness -- how well does the data capture \"reality\"?"
   ]
  },
  {
   "cell_type": "markdown",
   "metadata": {},
   "source": [
    "## Rectangular and Non-rectangular data\n",
    "\n",
    "* rectangular = tabular\n",
    "* non-rectangular = everything else\n",
    "\n",
    "Tabular data is prefered. Why?\n",
    "* Regular structures are easy to manipulate and analyze\n",
    "* A big part of data cleaning is about transforming data to be more rectangular\n",
    "\n",
    "Two kinds of tabular data: tables and matrices\n",
    "* Tables = DataFrames in R/Python and relations in SQL\n",
    "    * Named cols with different types\n",
    "    * Manipulated using Pandas data transformations\n",
    "\n",
    "* Matrices\n",
    "    * Numeric data of the same type (float, int, etc.)\n",
    "    * Manipulated using linear algebra\n",
    "\n",
    "* Tabular data is preferred.\n",
    "    * It's **tidy** when each column corresponds to one variable in the dataset, each row corresponds to one observation, and all variables in the dataset have the same unit conversion"
   ]
  }
 ],
 "metadata": {
  "kernelspec": {
   "display_name": "Python 3 (ipykernel)",
   "language": "python",
   "name": "python3"
  },
  "language_info": {
   "codemirror_mode": {
    "name": "ipython",
    "version": 3
   },
   "file_extension": ".py",
   "mimetype": "text/x-python",
   "name": "python",
   "nbconvert_exporter": "python",
   "pygments_lexer": "ipython3",
   "version": "3.13.1"
  }
 },
 "nbformat": 4,
 "nbformat_minor": 4
}
