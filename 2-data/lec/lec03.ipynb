{
 "cells": [
  {
   "cell_type": "markdown",
   "id": "edc9ef3e-6adc-4bfd-a140-4c7fb55e9575",
   "metadata": {},
   "source": [
    "# Lecture 3\n",
    "\n",
    "*January 17, 2025*"
   ]
  },
  {
   "cell_type": "markdown",
   "id": "9028b1a5-a262-4afc-b6a8-787218183268",
   "metadata": {},
   "source": [
    "## Objectives\n",
    "\n",
    "* Understand and implement methods for conditional statements in Pandas"
   ]
  },
  {
   "cell_type": "markdown",
   "id": "7000050d",
   "metadata": {},
   "source": [
    "## Querying\n",
    "\n",
    "* Useful for long queries where complex conditions make the query veeery long\n",
    "\n",
    "```python\n",
    "# Select the rows where the candidate's name was \"Andrew Jackson\" and he won\n",
    "\n",
    "elections.query(\"Candidate=='Andrew Jackson' & `Result`== 'win'\")\n",
    "```"
   ]
  },
  {
   "cell_type": "markdown",
   "id": "21d6bd0e-15e4-43b6-9ceb-a38a1dc608f0",
   "metadata": {},
   "source": [
    "## Adding, removing, and modifying columns"
   ]
  },
  {
   "cell_type": "markdown",
   "id": "1168a815-ec73-4cf6-bb4c-55e98c417f27",
   "metadata": {},
   "source": [
    "### Adding columns\n",
    "\n",
    "* Use `.assign`\n",
    "\n",
    "```python\n",
    "# Add a new column that gives the total number of voters who voted in that particular election\n",
    "\n",
    "elections = elections.assign(TotVoters = elections[\"Popular vote\"]*elections[\"frac_voters\"])\n",
    "```"
   ]
  },
  {
   "cell_type": "markdown",
   "id": "51399819-62ef-480d-97ba-f7d0cc883759",
   "metadata": {},
   "source": [
    "## Granularity"
   ]
  },
  {
   "cell_type": "markdown",
   "id": "325222dd-99e8-4b82-b8b7-d4ec162536f1",
   "metadata": {},
   "source": [
    "### Primary keys\n",
    "\n",
    "* The column or set of columns in a table that uniquely determine the valuesin the remaining columns\n",
    "\n",
    "What does each record (row) represent?\n",
    "\n",
    "* A purchase, a person, a group of users, etc.\n",
    "\n",
    "Do all records capture granularity at the same level?\n",
    "\n",
    "* Some represent summaries, some don't"
   ]
  }
 ],
 "metadata": {
  "kernelspec": {
   "display_name": "Python 3 (ipykernel)",
   "language": "python",
   "name": "python3"
  },
  "language_info": {
   "codemirror_mode": {
    "name": "ipython",
    "version": 3
   },
   "file_extension": ".py",
   "mimetype": "text/x-python",
   "name": "python",
   "nbconvert_exporter": "python",
   "pygments_lexer": "ipython3",
   "version": "3.13.1"
  }
 },
 "nbformat": 4,
 "nbformat_minor": 5
}
