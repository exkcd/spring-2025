{
 "cells": [
  {
   "cell_type": "markdown",
   "metadata": {},
   "source": [
    "# Lecture 2\n",
    "\n",
    "*January 15, 2025*"
   ]
  },
  {
   "cell_type": "markdown",
   "metadata": {},
   "source": [
    "## Objectives\n",
    "\n",
    "* Explain relationship between DataFrames, Series and Indices in Pandas\n",
    "* Understand and implement methods for extracting data: .loc[], .iloc[], and []\n",
    "* Understand and implement methods for conditional selection in Pandas\n",
    "* Modify columns in Pandas DataFrame\n",
    "* Manipulate and transform Series and DataFrames using common utility functions:\n",
    "    * (value_counts, describe, info, unique, shape, sort_values)"
   ]
  },
  {
   "cell_type": "markdown",
   "metadata": {},
   "source": [
    "## Pandas Data Structures"
   ]
  },
  {
   "cell_type": "markdown",
   "metadata": {},
   "source": [
    "### DataFrames, Series, and Indices\n",
    "\n",
    "* DataFrame = collection of **Series** that share the same **Index**\n",
    "* Candidate, Party, %, Year, and Result **Series** all share an **Index** from 0 to 5\n",
    "\n",
    "### Indices are not necessarily unique\n",
    "\n",
    "Row labels that constitute an index do not have to be unique\n",
    "\n",
    "* Can be unique and all numeric\n",
    "* Can be named and non-unique\n",
    "\n",
    "\n",
    "### Labels\n",
    "\n",
    "Bolded text at the top and left of the DataFrame\n",
    "\n",
    "### Using .index and .columns"
   ]
  },
  {
   "cell_type": "code",
   "execution_count": null,
   "metadata": {},
   "outputs": [],
   "source": [
    "elections = pd.read_csv(\"data/elections.csv\", index_col=\"Year\")"
   ]
  },
  {
   "cell_type": "markdown",
   "metadata": {},
   "source": [
    "DataFrame `elections` w/ \"Year\" as an Index"
   ]
  },
  {
   "cell_type": "markdown",
   "metadata": {},
   "source": [
    "### Creating a DataFrame\n",
    "\n",
    "* From a CSV file (most common method in class)\n",
    "* Using a list and column name(s)\n",
    "* From a dictionary\n",
    "* From a Series\n",
    "\n",
    "### Indices are not necessarily row numbers"
   ]
  },
  {
   "cell_type": "code",
   "execution_count": null,
   "metadata": {},
   "outputs": [],
   "source": [
    "# Create a DataFrame from a CSV and specify Index column\n",
    "elections = pd.read_csv(\"data/elections.csv\", index_col = \"Candidate\")"
   ]
  },
  {
   "cell_type": "markdown",
   "metadata": {},
   "source": [
    "Select a new column and set it as the index"
   ]
  },
  {
   "cell_type": "code",
   "execution_count": null,
   "metadata": {},
   "outputs": [],
   "source": [
    "elections.set_index(\"Party\")"
   ]
  },
  {
   "cell_type": "markdown",
   "metadata": {},
   "source": [
    "Resetting the index"
   ]
  },
  {
   "cell_type": "code",
   "execution_count": null,
   "metadata": {},
   "outputs": [],
   "source": [
    "elections.reset_index()"
   ]
  },
  {
   "cell_type": "markdown",
   "metadata": {},
   "source": [
    "### Column names are usually unique!\n",
    "\n",
    "* In `pandas` they are usually always unique\n",
    "* e.g. in an elections database, there shouldn't be two columns named \"Candidate\""
   ]
  },
  {
   "cell_type": "markdown",
   "metadata": {},
   "source": [
    "## Data Extraction"
   ]
  },
  {
   "cell_type": "markdown",
   "metadata": {},
   "source": [
    "### Extracting data\n",
    "\n",
    "Common ways to extract data:\n",
    "\n",
    "* Grab the first or last n rows in the DataFrame\n",
    "* Grab data w/ a certain label\n",
    "* Grab data at a certain position"
   ]
  },
  {
   "cell_type": "markdown",
   "metadata": {},
   "source": [
    "### .head and .tail\n",
    "\n",
    "* Extracts the first or last n rows respectively\n",
    "* `df.head(n)` will return the first `n` rows of the DataFrame `df`\n",
    "* `df.tail(n)` will return the last `n` rows"
   ]
  },
  {
   "cell_type": "markdown",
   "metadata": {},
   "source": [
    "### Label-based extraction: `.loc`\n",
    "\n",
    "Suppose we want to extract data w/ specific col or index labels\n",
    "\n",
    "```python\n",
    "df.loc[row_labels, column_labels]\n",
    "```\n",
    "\n",
    "`.loc` accessor allows us to specify *labels* of rows and columns"
   ]
  },
  {
   "cell_type": "markdown",
   "metadata": {},
   "source": [
    "### Integer-based extraction: `.iloc`\n",
    "\n",
    "Suppose we want to extract data according to its *position*\n",
    "\n",
    "```python\n",
    "df.iloc[row_integers, column_integers]\n",
    "```\n",
    "\n",
    "`.iloc` accessor allows us to specify the *integers* of rows and columns"
   ]
  },
  {
   "cell_type": "markdown",
   "metadata": {},
   "source": [
    "### Selection operators in Pandas\n",
    "\n",
    "* `loc` performs label-based extraction\n",
    "* `.iloc` performs integer-based extraction\n",
    "* SHORTCUT OPERATOR FOR 3 COMMON TYPES OF SELECTIONS\n",
    "    * A list of column labels = `df[[\"Year\", \"Result\"]]` (shortcut for: `df.loc[:, [\"Year\", \"Result\"]]`)\n",
    "    * A single column label = `df[[\"Candidate]]` (shortcut for `df.loc[:, \"Candidate]`)\n",
    "    * A single row of numbers = `df[3:7]` (shortcut for `df.iloc[3:7, :]`)\n",
    "* `[]` is context sensitive"
   ]
  },
  {
   "cell_type": "markdown",
   "metadata": {},
   "source": [
    "## Conditional selection"
   ]
  },
  {
   "cell_type": "markdown",
   "metadata": {},
   "source": [
    "### Boolean arrays\n",
    "\n",
    "An array that contains only Boolean values (True, False)\n",
    "\n",
    "```python\n",
    "a = np.array([True, False, True, False, False, True])\n",
    "```\n",
    "\n",
    "* Useful b/c boolean arrays can be generated by using logical ops on Series\n",
    "\n",
    "```python\n",
    "# Find where a candidate's party is 'Independent'\n",
    "elections[\"Party\"] == \"Independent\" # lists True or False for all candidates\n",
    "elections[elections[\"Party\"] == \"Independent\"] # returns a table of all candidates whose party is 'Independent\n",
    "elections.loc[elections[\"Party\"] == \"Independent\"] # same as above\n",
    "```\n",
    "\n",
    "Boolean Series can be combined using various ops, allowing for filtering of results by multiple criteria\n",
    "\n",
    "```python\n",
    "# Shows all candidates that won with a percentage lower than 47%\n",
    "\n",
    "elections[(elections[\"Result\"] == \"win\") & elections[\"%\"] < 47]\n",
    "```"
   ]
  },
  {
   "cell_type": "markdown",
   "metadata": {},
   "source": [
    "### Bitwise operators\n",
    "\n",
    "* `~` = negation\n",
    "* `|` = OR\n",
    "* `&` = AND\n",
    "* `^` = XOR (exclusive or)"
   ]
  },
  {
   "cell_type": "markdown",
   "metadata": {},
   "source": [
    "### Alternatives to Boolean Array Selection\n",
    "\n",
    "Boolean Array Selection is useful, but can be complex\n",
    "\n",
    "Pandas alternatives:\n",
    "\n",
    "* `.query`\n",
    "* `.isin`\n",
    "* `.str.startswith`\n",
    "* `.groupby.filter`"
   ]
  }
 ],
 "metadata": {
  "kernelspec": {
   "display_name": "Python 3 (ipykernel)",
   "language": "python",
   "name": "python3"
  },
  "language_info": {
   "codemirror_mode": {
    "name": "ipython",
    "version": 3
   },
   "file_extension": ".py",
   "mimetype": "text/x-python",
   "name": "python",
   "nbconvert_exporter": "python",
   "pygments_lexer": "ipython3",
   "version": "3.13.1"
  }
 },
 "nbformat": 4,
 "nbformat_minor": 4
}
