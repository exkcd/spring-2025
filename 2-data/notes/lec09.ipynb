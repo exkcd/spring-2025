{
 "cells": [
  {
   "cell_type": "markdown",
   "metadata": {},
   "source": [
    "# Lecture 9\n",
    "\n",
    "*February 5, 2025*"
   ]
  },
  {
   "cell_type": "markdown",
   "metadata": {},
   "source": [
    "## Objectives\n",
    "\n",
    "* Finish Bayes Theorem\n",
    "* Independence"
   ]
  },
  {
   "cell_type": "markdown",
   "metadata": {},
   "source": [
    "### Bayes Theorem\n",
    "\n",
    "* Allows conditionals in one direction and flip it\n",
    "* Not intuitive"
   ]
  },
  {
   "cell_type": "markdown",
   "metadata": {},
   "source": [
    "#### Assumptions matter\n",
    "\n",
    "* Usually people aren't picked at random for medical test\n",
    "* Intuition about randomly picked patients may not be great\n",
    "* Useful IF you understand probability"
   ]
  },
  {
   "cell_type": "markdown",
   "metadata": {},
   "source": [
    "Equation:\n",
    "\n",
    "$$\n",
    "P(F \\mid E) = \\frac{P(E \\mid F)P(F)}{P(E)}\n",
    "$$"
   ]
  },
  {
   "cell_type": "markdown",
   "metadata": {},
   "source": [
    "### Law of Total Probability\n",
    "\n",
    "For mutually exclusive events $F_1, F_2, ... F_n$ we can break it up and look at the intersection of each event"
   ]
  },
  {
   "cell_type": "markdown",
   "metadata": {},
   "source": [
    "## Independence\n",
    "\n",
    "Two events E and F are defined as **independent** if:\n",
    "\n",
    "$$\n",
    "P(E,F) = P(E) * P(F)\n",
    "$$\n",
    "\n",
    "Otherwise E and F are **DEPENDENT** events\n",
    "\n",
    "If E and F are independent, then:\n",
    "\n",
    "$$\n",
    "P(E \\mid F) = P(E) \\\\\n",
    "\n",
    "P(F \\mid E) = P(F)\n",
    "$$\n",
    "\n",
    "* Knowing that F happened does not change our belief that E happened."
   ]
  },
  {
   "cell_type": "markdown",
   "metadata": {},
   "source": []
  }
 ],
 "metadata": {
  "language_info": {
   "name": "python"
  }
 },
 "nbformat": 4,
 "nbformat_minor": 2
}
