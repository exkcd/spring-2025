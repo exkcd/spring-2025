{
 "cells": [
  {
   "cell_type": "markdown",
   "metadata": {},
   "source": [
    "# Lecture 7\n",
    "\n",
    "*January 29, 2025*"
   ]
  },
  {
   "cell_type": "markdown",
   "metadata": {},
   "source": [
    "## Objectives\n",
    "\n",
    "* Finish EDA and visualization\n",
    "* Probability\n",
    "\n",
    "## Quiz\n",
    "\n",
    "* Fill in the blank on code\n",
    "* Determine the output of code\n",
    "* Crib sheet\n",
    "* First four lessons objectives covered in HW 2"
   ]
  },
  {
   "cell_type": "markdown",
   "metadata": {},
   "source": [
    "## Visualization"
   ]
  },
  {
   "cell_type": "markdown",
   "metadata": {},
   "source": [
    "\n",
    "### Describing quantitative relationships\n",
    "\n",
    "* Modes\n",
    "* Skew\n",
    "* Outliers\n",
    "    * Arbitrary definitions\n",
    "    * 1.5*IQR is an outlier\n",
    "\n",
    "### Modes\n",
    "\n",
    "Local/global max\n",
    "\n",
    "* Distribution w/ single clear max is UNIMODAL\n",
    "* Distribution w/ two modes are bimodal\n",
    "    * +2 = multimodal\n",
    "\n",
    "### Skew\n",
    "\n",
    "Which direction its \"tail\" extends\n",
    "\n",
    "* Long right tail is skewed right (positively skewed)\n",
    "    * Mean to the right of median\n",
    "* Long left tail is skewed left (negatively skewed)\n",
    "    * Mean to the left of median\n",
    "\n",
    "### Mean vs median\n",
    "\n",
    "Mean:\n",
    "\n",
    "    Balance point of historgram\n",
    "\n",
    "Median:\n",
    "\n",
    "    50th percentile of the data\n",
    "\n",
    "* If distribution symmetric about a value, then value is both average and median\n",
    "* If histogram is skewed, then mean is pulled away from median in direction of the skew (tail)\n",
    "\n",
    "### Line plots\n",
    "\n",
    "Good for:\n",
    "\n",
    "* One outputs: time or distance\n",
    "* Unique output for each input\n",
    "\n",
    "### Scatter plots\n",
    "\n",
    "Good for:\n",
    "\n",
    "* non-sequential nmerical data\n",
    "* used to reveal relationships between pairs of numerical variables\n",
    "\n",
    "### Visualizing qualitative variables\n",
    "\n",
    "* using side-by-side bar charts\n",
    "* overlaid line charts\n",
    "* overlaid histograms and density curves\n",
    "    * hard ot see relationship\n",
    "    * use KDE is good in this scenario\n",
    "\n",
    "### Goals of data visualization\n",
    "\n",
    "* Help own understadnign of data/results\n",
    "* Summarize trends visually before in-depth analysis\n",
    "* Lightweight, iterative and flexible\n",
    "\n",
    "* Communicate results/conclusiosn to others\n",
    "    * Editorial and selective\n",
    "    * Be thoughtful\n",
    "    * FIne-tuned to achieve a communication goal\n",
    "    * Considerations: clarity, accessability, and necessary context"
   ]
  },
  {
   "cell_type": "markdown",
   "metadata": {
    "vscode": {
     "languageId": "plaintext"
    }
   },
   "source": [
    "## Probability"
   ]
  },
  {
   "cell_type": "markdown",
   "metadata": {},
   "source": [
    "### Terms\n",
    "\n",
    "Experiemnt: A procedure that can be repeated, invovles an element of choice, and has well defined outcomes\n",
    "\n",
    "Outcome: Result of an experiment\n",
    "\n",
    "Sample Space, S: The set of all possible outcomes\n",
    "\n",
    "Event, E: Subset of S\n",
    "\n",
    "### Beliefs\n",
    "\n",
    "#### Objective (Frequentists) view:\n",
    "\n",
    "    Defines probabilities asa relative frequencies\n",
    "\n",
    "$$\n",
    "P(Event) = \\lim_{n \\rightarrow \\infty} \\frac{count(Event)}{n}\n",
    "$$\n",
    "\n",
    "* Perform n trials which could result in a particular \"Event\" occuring\n",
    "\n",
    "Problem:\n",
    "\n",
    "* Limited data points\n",
    "* Taking 1,000 different trials, it happen\n",
    "\n",
    "#### Subjetive (Bayesian) view:\n",
    "\n",
    "What does it mean when an insurance company says a new drive has a 20% probability of getting in at least one accident during their first year of driving?\n",
    "\n",
    "Mainly staying on left side"
   ]
  },
  {
   "cell_type": "markdown",
   "metadata": {},
   "source": [
    "### Axioms of Probability\n",
    "\n",
    "* All probabilites are numbers between 0 and 1\n",
    "* All outcomes must be from the sample space\n",
    "    * something will happen, and it must be from S\n",
    "* If E and F are mutually exclusive (no overlapping elements), P(E or F) = P(E) + P(F)\n",
    "    * Pretend all are equally likely\n",
    "\n",
    "Identity 1: $P(E^c) = 1 - P(E)$\n",
    "\n",
    "(E^c or E') both mean complement (everything NOT in E)"
   ]
  },
  {
   "cell_type": "markdown",
   "metadata": {},
   "source": [
    "### Equally likely outcomes\n",
    "\n",
    "If S is a sample w/ equally likely outcomes, for event E that is a subset of the outcomes in S:\n",
    "\n",
    "$$\n",
    "P(E) = \\frac{number \\ of  \\ outcomes \\ in \\ E}{number \\ of \\ outcomes \\ in \\ S} = \\frac{|E|}{|S|}\n",
    "$$\n",
    "\n",
    "### And vs Or\n",
    "And = \n",
    "$E\\cap F$\n",
    "\n",
    "Or =\n",
    "$E \\cup F$\n",
    "\n",
    "\n",
    "**Inclusion-Exclusion Principle:**\n",
    "$P(E \\ or \\ F) = P(E) + P(F) - P(E \\ and \\ F)$"
   ]
  },
  {
   "cell_type": "markdown",
   "metadata": {},
   "source": [
    "### Joint probabilities\n",
    "\n",
    "Event A and Event B happens\n",
    "\n",
    "Notation: $P(A,B)$ or $P(A \\cap B)$\n",
    "\n",
    "#### Law of total probability\n",
    "\n",
    "$$\n",
    "P(E) = P(E \\ and \\ F) + P(E \\ and \\ F^C)\n",
    "$$\n",
    "\n",
    "\"(Probability of E plus F) + (the probability of E and NOT F)\"\n",
    "\n",
    "\n",
    "#### Joint probability table\n",
    "\n",
    "Gives the joinb probability of each possible outcome\n",
    "\n",
    "* Sum of all joint probabilities must add up to 1\n",
    "\n",
    "| -- | A      | A'      | -- |\n",
    "| -- | --     | --      | -- |\n",
    "| B  | P(B,A) | P(B,A') | P(B) =  |\n",
    "| B' | P(B',A)| P(B',A')| P(B') = |\n",
    "| -- | P(A)   | P(A')   |  1      |"
   ]
  }
 ],
 "metadata": {
  "language_info": {
   "name": "python"
  }
 },
 "nbformat": 4,
 "nbformat_minor": 2
}
