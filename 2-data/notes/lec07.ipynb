{
 "cells": [
  {
   "cell_type": "markdown",
   "metadata": {},
   "source": [
    "# Lecture 7\n",
    "\n",
    "*January 29, 2025*"
   ]
  },
  {
   "cell_type": "markdown",
   "metadata": {},
   "source": [
    "## Objectives\n",
    "\n",
    "* Finish EDA and visualization\n",
    "* Probability\n",
    "\n",
    "## Quiz\n",
    "\n",
    "* Fill in the blank on code\n",
    "* Determine the output of code\n",
    "* Crib sheet\n",
    "* First four lessons objectives covered in HW 2"
   ]
  },
  {
   "cell_type": "markdown",
   "metadata": {},
   "source": [
    "## Describing quantitative relationships\n",
    "\n",
    "* Modes\n",
    "* Skew\n",
    "* Outliers\n",
    "    * Arbitrary definitions\n",
    "    * 1.5*IQR is an outlier\n",
    "\n",
    "### Modes\n",
    "\n",
    "Local/global max\n",
    "\n",
    "* Distribution w/ single clear max is UNIMODAL\n",
    "* Distribution w/ two modes are bimodal\n",
    "    * +2 = multimodal\n",
    "\n",
    "### Skew\n",
    "\n",
    "Which direction its \"tail\" extends\n",
    "\n",
    "* Long right tail is skewed right (positively skewed)\n",
    "    * Mean to the right of median\n",
    "* Long left tail is skewed left (negatively skewed)\n",
    "    * Mean to the left of median\n",
    "\n",
    "### Mean vs median\n",
    "\n",
    "Mean:\n",
    "\n",
    "    Balance point of historgram\n",
    "\n",
    "Median:\n",
    "\n",
    "    50th percentile of the data\n",
    "\n",
    "* If distribution symmetric about a value, then value is both average and median\n",
    "* If histogram is skewed, then mean is pulled away from median in direction of the skew (tail)\n",
    "\n",
    "### Line plots\n",
    "\n",
    "Good for:\n",
    "\n",
    "* One outputs: time or distance\n",
    "* Unique output for each input\n",
    "\n",
    "### Scatter plots\n",
    "\n",
    "Good for:\n",
    "\n",
    "* non-sequential nmerical data\n",
    "* used to reveal relationships between pairs of numerical variables"
   ]
  },
  {
   "cell_type": "markdown",
   "metadata": {},
   "source": [
    "## Visualizing qualitative variables\n",
    "\n",
    "* using side-by-side bar charts\n",
    "* overlaid line charts\n",
    "\n"
   ]
  }
 ],
 "metadata": {
  "language_info": {
   "name": "python"
  }
 },
 "nbformat": 4,
 "nbformat_minor": 2
}
