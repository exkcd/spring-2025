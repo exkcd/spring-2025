{
 "cells": [
  {
   "cell_type": "markdown",
   "metadata": {},
   "source": [
    "# Lecture 5\n",
    "\n",
    "*January 24, 2025*"
   ]
  },
  {
   "cell_type": "markdown",
   "metadata": {},
   "source": [
    "## Objectives\n",
    "\n",
    "Goal 1: Help own understanding of data/results\n",
    "* Key part of exploratory data analysis\n",
    "* Summarize trends visually\n",
    "* Lightweight, iterative and flexible\n",
    "\n",
    "Goal 2: Communicate results/conclusions to others\n",
    "\n",
    "* Highly editorial and selective\n",
    "* Be thoughtful and careful\n",
    "* Fine-tuned to to achieve a communications goal\n",
    "* Considerations: clarity, accessibility, and necessary context"
   ]
  },
  {
   "cell_type": "markdown",
   "metadata": {},
   "source": [
    "### 3 Plotting libs\n",
    "\n",
    "* plotly\n",
    "* matplotlib\n",
    "* seaborn"
   ]
  },
  {
   "cell_type": "markdown",
   "metadata": {},
   "source": [
    "## Visualizing Distributions\n",
    "\n",
    "* Bar charts\n",
    "* Python code\n",
    "\n",
    "### What is a distribution?\n",
    "\n",
    "Describes the frequency at which values of a variable occur\n",
    "\n",
    "* All vars must be accounted for\n",
    "* Total frequencies must add to be 100%\n",
    "\n",
    "### Bar charts\n",
    "\n",
    "* Common way to display distribution of a qualitative variable\n",
    "* Oen bar for each category\n",
    "* Len of bar is percent/count of individuals\n",
    "* If ordinal - order of bars should reflect category order\n",
    "\n",
    "NO PIE CHARTS\n",
    "\n"
   ]
  }
 ],
 "metadata": {
  "language_info": {
   "name": "python"
  }
 },
 "nbformat": 4,
 "nbformat_minor": 2
}
