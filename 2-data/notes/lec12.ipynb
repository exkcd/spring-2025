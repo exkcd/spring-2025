{
 "cells": [
  {
   "cell_type": "markdown",
   "metadata": {},
   "source": [
    "# Lecture 12\n",
    "\n",
    "*February 12, 2025*"
   ]
  },
  {
   "cell_type": "markdown",
   "metadata": {},
   "source": [
    "## Chebyshev's Inequality:\n",
    "\n",
    "No matter what the shape of distribution, the proportion of valeus in the range \"mean +/- zSDs\" is at least $1-1/z^2$\n",
    "\n",
    "Just given mean and standard deviation,\n",
    "\n",
    "| Range | Proportion of Values in Range |\n",
    "| ----- | ----------------------------- |\n",
    "| average +/- 2 SDs | at least 1-1/4 = 3/4 (75%)\n",
    "| average +/- 3 SDs | at least 1-1/9 = 8/9 (88.88%)\n",
    "| average +/- 4 SDs | at least 1-1/16 = 15/16 (93.75%)\n",
    "| average +/- 5 SDs | at least 1-1/25 = 24/25 (96%)\n",
    "\n",
    "***APPLIES TO ANY DISTRIBUTION***"
   ]
  },
  {
   "cell_type": "markdown",
   "metadata": {},
   "source": [
    "## Objectives\n",
    "\n",
    "* Bernoulli\n",
    "* Binomial\n",
    "* Poisson"
   ]
  },
  {
   "cell_type": "markdown",
   "metadata": {},
   "source": [
    "## Common Discrete Random Variables\n",
    "\n",
    "### Cumulative Distribution Functions\n",
    "\n",
    "For random variable $X$, the cumulative distribution function (CDF) is defined as:\n",
    "\n",
    "$$\n",
    "F(a) = P(X \\le a), \\text{where} -\\infty < a < \\infty\n",
    "$$\n",
    "\n",
    "FOr a discrete RV $X$, the CDF is:\n",
    "\n",
    "$$\n",
    "F(a) = P(X \\le a) = \\sum_{\\text{all} x \\le a} P(X=x)\n",
    "$$"
   ]
  },
  {
   "cell_type": "markdown",
   "metadata": {},
   "source": [
    "### Bernouli Random Variable\n",
    "\n",
    "Consider exp. w/ success and failure\n",
    "\n",
    "* success is 1, fail is 0\n",
    "\n",
    "Notation:\n",
    "\n",
    "$$\n",
    "X \\sim Ber(P)\n",
    "$$\n",
    "\n",
    "Examples:\n",
    "\n",
    "* coin flip\n",
    "* random binary digit\n",
    "\n",
    "PMF can be represented using:\n",
    "\n",
    "* closed form function\n",
    "    * $P(X=k) = k \\in \\{0, 1\\}$\n",
    "* histogram\n",
    "* table\n",
    "\n",
    "| k | P(X=k) |\n",
    "| - | ------ |\n",
    "| 0 | 1-p |\n",
    "| 1 | p |"
   ]
  },
  {
   "cell_type": "markdown",
   "metadata": {},
   "source": [
    "### Properties of Bernouli RVs\n",
    "\n",
    "#### Expected Value\n",
    "\n",
    "$$\n",
    "\\sum_{k} P(X=k) = 1 \\cdot p + 0 \\cdot (1-p) = p\n",
    "$$\n",
    "\n",
    "#### Variance\n",
    "\n",
    "$$\n",
    "E[X]^2 - (E[X])^2 = 1^2 \\cdot p + 0(1-p) = p \\\\\n",
    "Var(X) = \\mathbb{E}[X^2]-(\\mathbb{E}[X])^2 = p-p^2 = p(1-p)\n",
    "$$"
   ]
  },
  {
   "cell_type": "markdown",
   "metadata": {},
   "source": [
    "### Binomial Distribution\n",
    "\n",
    "Suppose you have a coin that is 3x biased for heads. Flip it 4 times in a row. Let Y be the random variable that describes the number of times the coin lands on tails.\n",
    "\n",
    "**What is the support of Y?**\n",
    "\n",
    "$$\n",
    "k \\in \\{0,1,2,3,4\\}\n",
    "$$\n",
    "\n",
    "**Give distribution PMF for Y**\n",
    "\n",
    "$P(Y) = 0 = (\\frac{3}{4})^4$\n",
    "\n",
    "$P(Y) = 1 = \\binom41 (\\frac{1}{4})^1 (\\frac{3}{4})^3$"
   ]
  },
  {
   "cell_type": "markdown",
   "metadata": {},
   "source": [
    "#### Def'n\n",
    "\n",
    "A Binomial random variable $X$ is the number of successes in $n$ trials\n",
    "\n",
    "$$\n",
    "X \\sim Bin(n,p)\n",
    "$$\n",
    "\n",
    "##### We can represent using:\n",
    "\n",
    "* closed form function\n",
    "    * $P(X=k) = \\binom{n}{k}p^k(1-p)^{n-k}$\n",
    "\n",
    "* histogram\n",
    "* table"
   ]
  },
  {
   "cell_type": "markdown",
   "metadata": {},
   "source": []
  }
 ],
 "metadata": {
  "language_info": {
   "name": "python"
  }
 },
 "nbformat": 4,
 "nbformat_minor": 2
}
