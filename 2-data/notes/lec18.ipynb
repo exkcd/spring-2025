{
 "cells": [
  {
   "cell_type": "markdown",
   "metadata": {},
   "source": [
    "# Lecture 18\n",
    "\n",
    "*March 03, 2025*"
   ]
  },
  {
   "cell_type": "markdown",
   "metadata": {},
   "source": [
    "## Identically distributed\n",
    "\n",
    "X and Y are identically dist if:\n",
    "\n",
    "* Dist of X is same as Y\n",
    "* \"X and Y are equal in distribution\"\n",
    "* X=Y, then IDD (converse is not true)\n",
    "\n",
    "X and Y are IID if:\n",
    "* X and Y are ID and\n",
    "* knowing the outcome of X does not influence belief of outcome of Y, and vice versa"
   ]
  },
  {
   "cell_type": "markdown",
   "metadata": {},
   "source": [
    "## IID sample\n",
    "\n",
    "* each person's result is one random variable\n",
    "* depends who I grab for 2nd person\n",
    "    * know it's coming from a specific distribution\n",
    "* able to make inferences from a population"
   ]
  },
  {
   "cell_type": "markdown",
   "metadata": {},
   "source": [
    "## IID RVs\n",
    "\n",
    "**caveats**\n",
    "\n",
    "* usually (from cost effectiveness) only sample a small number using replacement\n",
    "* \"simple random sample\"\n",
    "\n",
    "### Simple Random Sample (SRS)\n",
    "\n",
    "Is it also IID?\n",
    "\n",
    "* we have big population\n",
    "* only afford to sample small number of people\n",
    "* pop gets very large, then random sampling with replacement becomes good approx to RS witout"
   ]
  },
  {
   "cell_type": "markdown",
   "metadata": {},
   "source": [
    "## 10% rule for IID\n",
    "\n",
    "when using simple random sample:\n",
    "* if sample $< 10%$ of ppopulation:\n",
    "* we can treat the sample as if it is a set of IID RV"
   ]
  },
  {
   "cell_type": "markdown",
   "metadata": {},
   "source": [
    "## Empirical Dist\n",
    "\n",
    "if sample size is large enough then,\n",
    "\n",
    "empirical dist (simulation) should look like the theoretical w/ high probability"
   ]
  },
  {
   "cell_type": "markdown",
   "metadata": {},
   "source": [
    "## Central Limit Theorem\n",
    "\n",
    "The sums of IID RVS, as we increase sums, they will be normally distributed\n",
    "\n",
    "* can tell mean and SD! yippee!!!\n",
    "\n",
    "no matter what population you are drawing from:\n",
    "\n",
    "**Sum of IID RVs**\n",
    "\n",
    "$$\n",
    "\\sum_{i=1}^n X_i \\sim N(n\\mu, n\\sigma^2)\n",
    "$$\n",
    "\n",
    "**Average of iid RVs**\n",
    "\n",
    "$$\n",
    "\\frac 1n \\sum_{i=1}^n X_i \\sim N(\\mu, \\frac{\\sigma^2}{n})\n",
    "$$"
   ]
  },
  {
   "cell_type": "markdown",
   "metadata": {},
   "source": []
  }
 ],
 "metadata": {
  "language_info": {
   "name": "python"
  }
 },
 "nbformat": 4,
 "nbformat_minor": 2
}
