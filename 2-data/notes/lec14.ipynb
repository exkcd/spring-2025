{
 "cells": [
  {
   "cell_type": "markdown",
   "metadata": {},
   "source": [
    "# Lecture 14\n",
    "\n",
    "*February 17, 2025*"
   ]
  },
  {
   "cell_type": "markdown",
   "metadata": {},
   "source": [
    "## 3Blue1Brown\n",
    "\n",
    "* how do we work with probabilities over continuous values?\n",
    "* focus on ranges of values\n",
    "* individual probabilities go to zero\n",
    "* area -> probability\n",
    "* what are the y-axis units?\n",
    "    * prob / delta (x) (probability density)\n",
    "    * total area must = 1\n",
    "    * true for all prob. dist.\n",
    "* continuous ranges are fundamental primitive objects\n",
    "* think of it as range of width zero\n",
    "* possibility is a better word for continuous probability"
   ]
  },
  {
   "cell_type": "markdown",
   "metadata": {},
   "source": [
    "## Continuous RVs"
   ]
  },
  {
   "cell_type": "markdown",
   "metadata": {},
   "source": [
    "### Discrete vs Continuous\n",
    "\n",
    "**Can a random variable have a negative output**\n",
    "\n",
    "Yes! (net winnings when gambling)\n",
    "\n",
    "* losing money\n",
    "* decrease in temp\n",
    "\n",
    "***PDFS CANNOT HAVE NEGATIVE VALUES***"
   ]
  },
  {
   "cell_type": "markdown",
   "metadata": {},
   "source": [
    "### Expected values and variance\n",
    "\n",
    "Expected value:\n",
    "\n",
    "$$\n",
    "E[X] = \\int_{-\\infty}^{\\infty} x f(x) dx\n",
    "$$\n",
    "\n",
    "Variance:\n",
    "\n",
    "$$\n",
    "E[X^2] = \\int_{-\\infty}^{\\infty} x^2 f(x) dx\n",
    "$$"
   ]
  },
  {
   "cell_type": "markdown",
   "metadata": {},
   "source": [
    "### CDF (Cumulative Distribution Formulas)\n",
    "\n",
    "for a random variable X, the CDF is defined as:\n",
    "\n",
    "$$\n",
    "F(a) = P(X \\le a), \\text{where} -\\infty < a < \\infty\n",
    "$$\n",
    "\n",
    "For continuous:\n",
    "\n",
    "$$\n",
    "F(a) = P(X \\le a) = \\int_{-\\infty}^{a} f(x) dx\n",
    "$$\n",
    "\n",
    "* what is the area as we continuously move along the PDF?\n",
    "* puts areas concisely as a function"
   ]
  },
  {
   "cell_type": "markdown",
   "metadata": {},
   "source": [
    "## Continuous Uniform RV\n",
    "\n",
    "$$\n",
    "X \\sim Uni(a, \\beta)\n",
    "$$"
   ]
  },
  {
   "cell_type": "markdown",
   "metadata": {},
   "source": []
  }
 ],
 "metadata": {
  "language_info": {
   "name": "python"
  }
 },
 "nbformat": 4,
 "nbformat_minor": 2
}
