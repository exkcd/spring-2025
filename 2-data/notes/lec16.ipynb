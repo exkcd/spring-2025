{
 "cells": [
  {
   "cell_type": "markdown",
   "metadata": {},
   "source": [
    "# Lecture 16\n",
    "\n",
    "*February 21, 2025*"
   ]
  },
  {
   "cell_type": "markdown",
   "metadata": {},
   "source": [
    "## Joint PMF\n",
    "\n",
    "For two discrete RVs X and Y, the Joint PMF is a description of how the total probability of 100% is split over all the possible values of X and Y\n",
    "\n",
    "$$\n",
    "P(X=a, Y=b)\n",
    "$$\n",
    "probability that X takes on the value $a$ and Y takes on the value $b$\n",
    "\n",
    "**Two dice**\n",
    "\n",
    "* joint probability table\n",
    "* histogram\n",
    "    * scatter-plot\n",
    "* closed-form function\n",
    "    * $$"
   ]
  },
  {
   "cell_type": "markdown",
   "metadata": {},
   "source": [
    "## Marginal Distributions\n",
    "\n",
    "For two discrete joint random variables X and Y, the joint PMF is defined as:\n",
    "\n",
    "$$\n",
    "P(a,b) = P(X=a, Y=b)\n",
    "$$\n",
    "\n",
    "The marginal distributions are:\n",
    "\n",
    "$$\n",
    "P(X=a) = \\sum_y P(X=a, Y=y)\\\\\n",
    "P(Y=b) = \\sum_x P(X=x, Y=b)\n",
    "$$\n",
    "\n",
    "Should give single random distribution"
   ]
  },
  {
   "cell_type": "markdown",
   "metadata": {},
   "source": []
  }
 ],
 "metadata": {
  "language_info": {
   "name": "python"
  }
 },
 "nbformat": 4,
 "nbformat_minor": 2
}
