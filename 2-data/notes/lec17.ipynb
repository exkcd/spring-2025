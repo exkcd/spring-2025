{
 "cells": [
  {
   "cell_type": "markdown",
   "metadata": {},
   "source": [
    "# Lecture 17\n",
    "*February 24, 2025*"
   ]
  },
  {
   "cell_type": "markdown",
   "metadata": {},
   "source": [
    "## Standardization of RV\n",
    "\n",
    "X in standard units in the RV\n",
    "\n",
    "$$\n",
    "X_{su} = \\frac{X - E(X)}{SD(X)}\n",
    "$$\n",
    "\n",
    "$X_{su}$ = \"number of SDs from expectation\"\n",
    "\n",
    "$$\n",
    "E(X_{su}) = 0, SD(X_{su}) = 1 \\\\\n",
    "E(X_{su}^2) = Var(X_{su}) = 1\n",
    "$$\n",
    "\n",
    "standard units = OG mean / SD"
   ]
  },
  {
   "cell_type": "markdown",
   "metadata": {},
   "source": [
    "## Joint Distributions\n",
    "\n",
    "* real life, hard ot get joint PMF\n",
    "* don't need to model joint RVs completely\n",
    "\n",
    "report stats of multiple RVs:\n",
    "\n",
    "* expectation of sums\n",
    "* covariance: a measure of how two Rvs vary with each other"
   ]
  },
  {
   "cell_type": "markdown",
   "metadata": {},
   "source": [
    "### Association/link"
   ]
  },
  {
   "cell_type": "markdown",
   "metadata": {},
   "source": [
    "* values of one variable relate in some to the values of another\n",
    "* correlation: two vars are linearly related\n",
    "* causation: change in one var causes a change in the other"
   ]
  },
  {
   "cell_type": "markdown",
   "metadata": {},
   "source": [
    "## Expectation"
   ]
  },
  {
   "cell_type": "markdown",
   "metadata": {},
   "source": [
    "Linearity:\n",
    "\n",
    "$$\n",
    "E(aX + bY + ) = E(X) + bE(Y) + c\n",
    "$$\n",
    "\n",
    "Expectation of a sum:\n",
    "\n",
    "$$\n",
    "E(X+Y) = E(X) + E(Y)\n",
    "$$"
   ]
  },
  {
   "cell_type": "markdown",
   "metadata": {},
   "source": [
    "## Covariance\n",
    "\n",
    "* expected product of deviations from expectation\n",
    "* measures a linear relationship between X and Y\n",
    "\n",
    "$$\n",
    "Cov(X,Y) = E[X- E(X)(Y-E(Y))] = E[XY] - E[X]E[Y]\n",
    "$$\n",
    "\n"
   ]
  }
 ],
 "metadata": {
  "language_info": {
   "name": "python"
  }
 },
 "nbformat": 4,
 "nbformat_minor": 2
}
