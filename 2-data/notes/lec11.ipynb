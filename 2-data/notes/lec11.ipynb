{
 "cells": [
  {
   "cell_type": "markdown",
   "metadata": {},
   "source": [
    "# Lecture 11\n",
    "\n",
    "*February 10 2025*"
   ]
  },
  {
   "cell_type": "markdown",
   "metadata": {},
   "source": [
    "## Discrete Random Variables"
   ]
  },
  {
   "cell_type": "markdown",
   "metadata": {},
   "source": [
    "### Terminology\n",
    "\n",
    "Probability Mass Function (PMF)\n",
    "\n",
    "    distribution of a Discrete random variable X\n",
    "    a description of how the total probability of 100% is split over all possible values of X\n",
    "\n",
    "$$\n",
    "P(X) = k \\\\\n",
    "\\sum_{all \\ k} P(X=k) = 1\n",
    "$$\n",
    "\n",
    "* probabilities must sum to 1\n",
    "\n",
    "represent a discrete distribution (PMF of the random variable) using:\n",
    "\n",
    "* a table\n",
    "* a histogram\n",
    "* (sometimes) a closed-form function"
   ]
  },
  {
   "cell_type": "markdown",
   "metadata": {},
   "source": [
    "### Events vs Random variables\n",
    "\n",
    "**Event-driven probability**\n",
    "\n",
    "* relate only binary events\n",
    "    * something does or does not happen\n",
    "* can only report probability\n",
    "* lots of combinatiosn\n",
    "\n",
    "**Random Vars**\n",
    "\n",
    "* link multiple similar events togethr\n",
    "* can compute statistics\n",
    "* once we have the PMF, we can do regular math"
   ]
  },
  {
   "cell_type": "markdown",
   "metadata": {},
   "source": [
    "### Probability vs Empirical Distributions\n",
    "\n",
    "#### Probability (aka Proportion/Theoretical) Distribution/PMF function\n",
    "\n",
    "* all possible values it can take\n",
    "* the probability it takes each value\n",
    "\n",
    "#### Empirical (Simulated/Sample) Distribution\n",
    "\n",
    "* based on random samples\n",
    "* observations can be from repetition of an experiment or random samples from a population\n",
    "    * all observed values\n",
    "    * the proportion of times each value appears"
   ]
  },
  {
   "cell_type": "markdown",
   "metadata": {},
   "source": [
    "### Law of Averages/Law of Large Numbers\n",
    "\n",
    "If a chance experiment is repeated many times,\n",
    "\n",
    "independently and under the same condition,\n",
    "\n",
    "then the Empirical (Sample) Distribution gets closed ot the Theoretical Probability Distribution"
   ]
  },
  {
   "cell_type": "markdown",
   "metadata": {},
   "source": [
    "## Independent Random Variables\n",
    "\n",
    "$$\n",
    "P(E,F) = P(E) P(F) \\\\\n",
    "P(E \\mid F) = P(E)\n",
    "$$\n",
    "\n",
    "Knowing the probability of F doesn't change anything about my belief of the probability of E\n",
    "\n",
    "Two discrete random variables $X$ $Y$ are independent if:\n",
    "\n",
    "$$\n",
    "\\text{for all} \\ x,y: \\\\\n",
    "P(X=x, Y=y) = P(X=x) P(Y=) \\\\\n",
    "P(X=x \\mid Y=y) = P(X=x) \\ \\text{or} \\ P(Y=y \\mid X=x) = P(Y=y)\n",
    "$$\n",
    "\n",
    "***knowing the value of $X$ tells us nothing about the distribution of $Y$ (and vice versa)***\n",
    "\n",
    "* if they are not independent, they are dependent"
   ]
  },
  {
   "cell_type": "markdown",
   "metadata": {},
   "source": [
    "### Independence of Multiple Discrete RVs:\n",
    "\n",
    "we have independence of $n$ discrete random variables $X_1, X_2,...,X_n$ if for $r=1,...,n$:\n",
    "\n",
    "for all subsets $x_1,...,x_n$:\n",
    "\n",
    "$$\n",
    "P(X=x_1, X_r=x_r) = \\prod_{i=1}^r P(X_i=xi)\n",
    "$$"
   ]
  },
  {
   "cell_type": "markdown",
   "metadata": {},
   "source": [
    "## Expected Value, Variance and Standard Deviation\n",
    "\n",
    "**Should you gamble??**"
   ]
  },
  {
   "cell_type": "markdown",
   "metadata": {},
   "source": [
    "### Descriptive Properties of RVs\n",
    "\n",
    "several ways to describe RVs:\n",
    "\n",
    "* expectation (avg value of RV)\n",
    "    * not random; fixed\n",
    "    * $\\mathbb{E}[X]$\n",
    "* variance (spread)\n",
    "    * $Var(X)$"
   ]
  },
  {
   "cell_type": "markdown",
   "metadata": {},
   "source": [
    "### Definition of Expectation\n",
    "\n",
    "The expectation (expected value) of a random variable $X$, ($\\mu$) is the weighted average of the values of $X$, where the weights are the probabilities of the values\n",
    "\n",
    "$$\n",
    "\\mu = \\mathbb{E}[X] = \\sum_k k P(X=k)\n",
    "$$\n",
    "\n",
    "Expectation is a *number* not a variable\n",
    "\n",
    "* analogous to the sample mean $\\bar{x}$"
   ]
  },
  {
   "cell_type": "markdown",
   "metadata": {},
   "source": [
    "## Expected Value: Properties\n",
    "\n",
    "Linearity:\n",
    "\n",
    "$\\mathbb{E}[aX+b] = a\\mathbb{E}[X]+b$\n",
    "\n",
    "Expectation of a sum = sum of expectation:\n",
    "\n",
    "$\\mathbb{E}[X+Y] = \\mathbb{E}[X] + \\mathbb{E}[Y]$\n",
    "\n",
    "Epected value of a function X:\n",
    "\n",
    "$\\mathbb{E}[g(X)] = \\sum_{all \\ k}g(Kk)P(X=k)$"
   ]
  },
  {
   "cell_type": "markdown",
   "metadata": {},
   "source": [
    "## Variance\n",
    "\n",
    "**How do we capture \"spread\"?**\n",
    "\n",
    "Plan A: biggest value - smallest value\n",
    "\n",
    "* doesn't tell much about the shape of distribution\n",
    "\n",
    "Plan B: measure variability around mean\n",
    "\n",
    "* need to figure out a way to quantify this\n",
    "* average deviation is always 0!"
   ]
  },
  {
   "cell_type": "markdown",
   "metadata": {},
   "source": [
    "### Measuring spread\n",
    "\n",
    "variance of a random variable $X$ with mean $\\mathbb{E}[X] = \\mu$ is\n",
    "\n",
    "$$\n",
    "\\sigma^2 = Var(X) = E[(X-\\mu)^2]\n",
    "$$\n",
    "\n",
    "* other notation: $E[X-E[X]^2]$\n",
    "* $Var(X) \\ge 0$\n",
    "* aka: 2nd central moment, square of standard deviation\n",
    "\n",
    "def standard deviation $\\sigma = SD(X) = \\sqrt{Var(X)}$\n",
    "\n",
    "***REMEMBER TO ALWAYS TAKE SQUARE ROOT OF VARIANCE TO GET STANDARD DEVIATION***"
   ]
  }
 ],
 "metadata": {
  "language_info": {
   "name": "python"
  }
 },
 "nbformat": 4,
 "nbformat_minor": 2
}
