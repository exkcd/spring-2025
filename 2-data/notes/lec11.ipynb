{
 "cells": [
  {
   "cell_type": "markdown",
   "metadata": {},
   "source": [
    "# Lecture 11\n",
    "\n",
    "*February 10 2025*"
   ]
  },
  {
   "cell_type": "markdown",
   "metadata": {},
   "source": [
    "## Terminology\n",
    "\n",
    "Probability Mass Function (PMF)\n",
    "\n",
    "    distribution of a Discrete random variable X\n",
    "    a description of how the total probability of 100% is split over all possible values of X\n",
    "\n",
    "$$\n",
    "P(X) = k \\\\\n",
    "\\sum_{all \\ k} P(X=k) = 1\n",
    "$$\n",
    "\n",
    "* probabilities must sum to 1\n",
    "\n",
    "represent a discrete distribution (PMF of the random variable) using:\n",
    "\n",
    "* a table\n",
    "* a histogram\n",
    "* (sometimes) a closed-form function"
   ]
  },
  {
   "cell_type": "markdown",
   "metadata": {},
   "source": []
  }
 ],
 "metadata": {
  "language_info": {
   "name": "python"
  }
 },
 "nbformat": 4,
 "nbformat_minor": 2
}
