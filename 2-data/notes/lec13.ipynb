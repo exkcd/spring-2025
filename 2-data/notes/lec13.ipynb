{
 "cells": [
  {
   "cell_type": "markdown",
   "metadata": {},
   "source": [
    "# Lecture 13\n",
    "\n",
    "*February 14, 2025*"
   ]
  },
  {
   "cell_type": "markdown",
   "metadata": {},
   "source": [
    "## Discrete distributions\n",
    "\n",
    "* Bernoulli\n",
    "* Binomial\n",
    "* Poisson"
   ]
  },
  {
   "cell_type": "markdown",
   "metadata": {},
   "source": [
    "## Continuous Random Variables\n",
    "\n",
    "A random variable X is continuous if there is a probability density function $f(x) \\ge 0$ s.t. for $-\\infty < x < \\infty$:\n",
    "\n",
    "$$\n",
    "P(a \\le X \\le b) = \\int_a^b f(x) dx\n",
    "$$"
   ]
  },
  {
   "cell_type": "markdown",
   "metadata": {},
   "source": [
    "## PMF vs PDF\n",
    "\n",
    "**Discrete random variable X:**\n",
    "* probability mass function (PMF): $p(x)$\n",
    "* get probability: $P(X=x) = p(x)$\n",
    "\n",
    "**Continuous random variable X:**\n",
    "* probability density function (PDF): $f(x)$\n",
    "* to get probability: (refer to integral above)\n",
    "\n",
    "***Both are measures of how likely X is to take on a value or some range of values***"
   ]
  },
  {
   "cell_type": "markdown",
   "metadata": {},
   "source": [
    "## Expected Value & Variance\n"
   ]
  }
 ],
 "metadata": {
  "language_info": {
   "name": "python"
  }
 },
 "nbformat": 4,
 "nbformat_minor": 2
}
