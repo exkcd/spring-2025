{
 "cells": [
  {
   "cell_type": "markdown",
   "metadata": {},
   "source": [
    "# Lecture 19\n",
    "\n",
    "*March 05, 2025*"
   ]
  },
  {
   "cell_type": "markdown",
   "metadata": {},
   "source": [
    "## Central Limit Theorem"
   ]
  },
  {
   "cell_type": "markdown",
   "metadata": {},
   "source": [
    "Sample mean:\n",
    "\n",
    "$$\n",
    "\\bar{X}_n = \\sum_{i=1}^n X_i\n",
    "$$\n",
    "\n",
    "Expected value:\n",
    "\n",
    "$$\n",
    "E[\\bar{X}_n] = \\frac 1n = \\sum_{i=1}^n E[X_i] = \\frac 1n (n \\mu) = \\mu\n",
    "$$\n",
    "\n",
    "Variance:\n",
    "\n",
    "$$\n",
    "Var(\\bar{X}_n) \\frac{1}{n^2} \\sum_{i=1}^n Var(X_i) = \\frac{1}{n^2}(n \\sigma^2) = \\frac{\\sigma^2}{n}\n",
    "$$\n",
    "\n",
    "Standard error (standard dev. of sampling dist.)\n",
    "\n",
    "$$\n",
    "SD(\\bar{X}_n) = \\frac{\\sigma}{\\sqrt{n}}\n",
    "$$"
   ]
  },
  {
   "cell_type": "markdown",
   "metadata": {},
   "source": [
    "No matter what population you draw from:\n",
    "\n",
    "* can take sum of iid RV\n",
    "* or average of iid RV\n",
    "\n",
    "same thing!"
   ]
  },
  {
   "cell_type": "markdown",
   "metadata": {},
   "source": [
    "Sample IID?\n",
    "\n",
    "* random sample with replacement\n",
    "* simple random samples\n",
    "    * follow 10% rule!\n",
    "\n",
    "How large does *n* have to be for The Normal to be good?\n",
    "\n",
    "* depends on dist.\n",
    "* common rule: n > 30\n",
    "* population symmetric and unimodal, n could = 20\n",
    "* if population is not unimodal, use technique called \"bootstrapping\""
   ]
  },
  {
   "cell_type": "markdown",
   "metadata": {},
   "source": []
  }
 ],
 "metadata": {
  "language_info": {
   "name": "python"
  }
 },
 "nbformat": 4,
 "nbformat_minor": 2
}
