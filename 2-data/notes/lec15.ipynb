{
 "cells": [
  {
   "cell_type": "markdown",
   "metadata": {},
   "source": [
    "# Lecture 15\n",
    "\n",
    "*February 19, 2025*"
   ]
  },
  {
   "cell_type": "markdown",
   "metadata": {},
   "source": [
    "## Normal RV\n",
    "\n",
    "* aka Gaussian distribution\n",
    "* \\# of distint prime factors\n",
    "* naturally occuring things follow this"
   ]
  },
  {
   "cell_type": "markdown",
   "metadata": {},
   "source": [
    "$$\n",
    "X \\sim N(\\mu, \\sigma^2)\n",
    "$$\n",
    "\n",
    "Support: $(-\\infty, \\infty)$\n",
    "\n",
    "PDF:\n",
    "\n",
    "$$\n",
    "f(x) = \\frac{1}{\\sigma \\sqrt{2 \\pi}} e^{-(x-\\mu)^2/2\\sigma^2}\n",
    "$$\n",
    "\n",
    "* $\\sigma \\sqrt{2 \\pi}$ = normalizing constant\n",
    "\n",
    "* $e$ = exp. tail\n",
    "\n",
    "* $(x-\\mu)^2$ = symmetric around $\\mu$\n"
   ]
  },
  {
   "cell_type": "markdown",
   "metadata": {},
   "source": [
    "### Example\n",
    "\n",
    "Suppose X is normally distributed with mean 114 adn variance 144 (X\\~N(114, 144))\n",
    "\n",
    "What is $P(111 < X< 116)$?\n",
    "\n",
    "```python\n",
    "stats.norm.cdf(116, 114, 12) - stats.norm.cdf(111,114,12)\n",
    "```"
   ]
  },
  {
   "cell_type": "markdown",
   "metadata": {},
   "source": [
    "## Exponential Random Variables"
   ]
  },
  {
   "cell_type": "markdown",
   "metadata": {},
   "source": [
    "$$\n",
    "X \\sim Exp(\\lambda)\n",
    "$$\n",
    "\n",
    "Support: $[0, \\infty)$\n",
    "\n",
    "PDF:\n",
    "\n",
    "$$\\begin{equation}\n",
    "f(x) =\n",
    "\\begin{cases}\n",
    "\\lambda e^{-\\lambda x} & \\text{if} \\ x \\le 0\n",
    "0 & \\text{otherwise}\n",
    "\\end{cases}\n",
    "\\end{equation}$$\n",
    "\n",
    "Expectation:\n",
    "\n",
    "$$\n",
    "E(X) = \\frac{1}{\\lambda}\n",
    "$$\n",
    "\n",
    "Variance:\n",
    "\n",
    "$$\n",
    "Var(X) = \\frac{1}{\\lambda^2}\n",
    "$$\n",
    "\n",
    "* lambda = \\# of sucesses / unit of time\n",
    "\n",
    "* useful for events that happen randomly and can see overall constant rate\n",
    "\n",
    "CDF:\n",
    "\n",
    "$$\n",
    "F(x) = 1-e^{-\\lambda x} \\ \\text{if} \\ x \\ge 0\n",
    "$$"
   ]
  },
  {
   "cell_type": "markdown",
   "metadata": {},
   "source": []
  }
 ],
 "metadata": {
  "language_info": {
   "name": "python"
  }
 },
 "nbformat": 4,
 "nbformat_minor": 2
}
