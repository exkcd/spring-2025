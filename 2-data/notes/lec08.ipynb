{
 "cells": [
  {
   "cell_type": "markdown",
   "metadata": {},
   "source": [
    "# Lecture 8\n",
    "\n",
    "*February 3, 2025*"
   ]
  },
  {
   "cell_type": "markdown",
   "metadata": {},
   "source": [
    "## Objectives\n",
    "\n",
    "* Finish joint probability\n",
    "* General problem solving techniques\n",
    "* Bayes Theorem"
   ]
  },
  {
   "cell_type": "markdown",
   "metadata": {},
   "source": [
    "## Probability"
   ]
  },
  {
   "cell_type": "markdown",
   "metadata": {},
   "source": [
    "### Joint Probability\n",
    "\n",
    "* Sometimes given just conditionals\n",
    "* Sometimes asked to find conditionals"
   ]
  },
  {
   "cell_type": "markdown",
   "metadata": {},
   "source": [
    "### And vs Or\n",
    "\n",
    "#### And\n",
    "\n",
    "Calculated by:\n",
    "\n",
    "* Joint probability\n",
    "* Multiplication rule\n",
    "\n",
    "#### Or\n",
    "\n",
    "* Adding\n",
    "* Subtract overlap using Inclusion-Exclusion Principle"
   ]
  },
  {
   "cell_type": "markdown",
   "metadata": {},
   "source": [
    "### Problem Solving techniques\n",
    "\n",
    "#### Multiple probabilities involving trials of events\n",
    "\n",
    "**Clear answer**\n",
    "\n",
    "Drawing cards, roulette,...\n",
    "\n",
    "* Use Multiplication rule\n",
    "\n",
    "**Unclear answer**\n",
    "\n",
    "Could be King, or Queen, or...\n",
    "\n",
    "* List all distinct ways your event could occur and add up their chances\n",
    "\n",
    "**Complement**\n",
    "\n",
    "List is too long...\n",
    "\n",
    "* Use the complement"
   ]
  },
  {
   "cell_type": "markdown",
   "metadata": {},
   "source": [
    "## Total Probability"
   ]
  },
  {
   "cell_type": "markdown",
   "metadata": {},
   "source": [
    "### Law of Total Probability\n",
    "\n",
    "$$\n",
    "P(E) = P(E \\cap F) + P(E \\cap F')\n",
    "$$\n",
    "\n",
    "For *mutually exclusive* events, $F_1, F_2,...,F_n$ such that $F_1 \\cup F_2 \\cup ... = S\n",
    "\n",
    "$$\n",
    "P(E) = \\sum_{i=1}^n P(E,F_i)\n",
    "$$"
   ]
  }
 ],
 "metadata": {
  "language_info": {
   "name": "python"
  }
 },
 "nbformat": 4,
 "nbformat_minor": 2
}
