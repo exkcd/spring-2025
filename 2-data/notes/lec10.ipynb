{
 "cells": [
  {
   "cell_type": "markdown",
   "metadata": {},
   "source": [
    "# Lecture 10\n",
    "\n",
    "*February 7, 2025*"
   ]
  },
  {
   "cell_type": "markdown",
   "metadata": {},
   "source": [
    "## Objectives\n",
    "\n",
    "* Revisit independence\n",
    "* Discrete Random Variables"
   ]
  },
  {
   "cell_type": "markdown",
   "metadata": {},
   "source": [
    "## Random Variables\n",
    "\n",
    "* Discrete random vars\n",
    "* Independent random vars"
   ]
  },
  {
   "cell_type": "markdown",
   "metadata": {},
   "source": [
    "### What are random variables?\n",
    "\n",
    "Random variable is a real-valued function defined on a sample space\n",
    "\n",
    "* involves some type of random experiment\n",
    "\n",
    "### They are NOT events\n",
    "\n",
    "* event can be a particular assignment of a random variable"
   ]
  },
  {
   "cell_type": "markdown",
   "metadata": {},
   "source": [
    "### Random variables & samples\n",
    "\n",
    "Draw a random sample of size *n* from a population\n",
    "\n",
    "A RANDOM SAMPLE is a numerical function of a sample\n",
    "\n",
    "* denoted by $X, Y$, etc.\n",
    "* Domain (input) = all random samples of size *n*\n",
    "* Range/Support (output): some subset of the number line"
   ]
  },
  {
   "cell_type": "markdown",
   "metadata": {},
   "source": [
    "## Discrete random variables\n",
    "\n",
    "Definition:\n",
    "\n",
    "    Can take on countably many values"
   ]
  },
  {
   "cell_type": "markdown",
   "metadata": {},
   "source": [
    "### Distribution of discrete random var\n",
    "\n",
    "* called Probability Mass Function\n",
    "    * description of how the total prob of 100% is split over all possible values of X"
   ]
  }
 ],
 "metadata": {
  "language_info": {
   "name": "python"
  }
 },
 "nbformat": 4,
 "nbformat_minor": 2
}
