{
 "cells": [
  {
   "cell_type": "markdown",
   "metadata": {},
   "source": [
    "# Lecture 3\n",
    "\n",
    "*January 23, 2025*"
   ]
  },
  {
   "cell_type": "markdown",
   "metadata": {},
   "source": [
    "## Typography\n",
    "\n",
    "* How to choose typefaces\n",
    "\n",
    "### Headings vs. body text\n",
    "\n",
    "* Headings look better in sans-serif typefaces\n",
    "* Body text looks better in serif typefaces\n",
    "\n",
    "### Monospaced fonts\n",
    "\n",
    "* Code IDEs use monospaced fonts\n",
    "\n",
    "### Forced line breaks\n",
    "\n",
    "Using forced line breaks is useful when text is center-justified\n"
   ]
  },
  {
   "cell_type": "markdown",
   "metadata": {},
   "source": [
    "### Three rules of thumb\n",
    "\n",
    "* Line things up\n",
    "* Leave space between things\n",
    "* Decide what's most important adn treat it that way."
   ]
  }
 ],
 "metadata": {
  "language_info": {
   "name": "python"
  }
 },
 "nbformat": 4,
 "nbformat_minor": 2
}
