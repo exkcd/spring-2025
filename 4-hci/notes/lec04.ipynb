{
 "cells": [
  {
   "cell_type": "markdown",
   "metadata": {},
   "source": [
    "# Lecture 4\n",
    "\n",
    "*January 28, 2025*"
   ]
  },
  {
   "cell_type": "markdown",
   "metadata": {},
   "source": [
    "## UI/UX\n",
    "\n",
    "* UI = design (includes sound)\n",
    "* UX = experience about using the thing itself\n",
    "\n",
    "### Buttons\n",
    "\n",
    "States\n",
    "\n",
    "* hover\n",
    "    * interactive\n",
    "* not active\n",
    "    * desaturated color\n",
    "\n",
    "Used for:\n",
    "\n",
    "* call to action\n",
    "    * you want the user to click on it\n",
    "\n",
    "\n",
    "Labels on buttons:\n",
    "\n",
    "* Make them "
   ]
  }
 ],
 "metadata": {
  "language_info": {
   "name": "python"
  }
 },
 "nbformat": 4,
 "nbformat_minor": 2
}
